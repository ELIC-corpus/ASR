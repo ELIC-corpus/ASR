{
 "cells": [
  {
   "cell_type": "code",
   "execution_count": 8,
   "id": "649e3d25",
   "metadata": {},
   "outputs": [
    {
     "name": "stdout",
     "output_type": "stream",
     "text": [
      "09/30/2023 16:20:52 - INFO - huggingsound.speech_recognition.model - Loading model...\n"
     ]
    },
    {
     "name": "stderr",
     "output_type": "stream",
     "text": [
      "Special tokens have been added in the vocabulary, make sure the associated word embeddings are fine-tuned or trained.\n"
     ]
    },
    {
     "name": "stdout",
     "output_type": "stream",
     "text": [
      "09/30/2023 16:21:15 - WARNING - root - silence_token | not in provided tokens. It will be added to the list of tokens\n",
      "09/30/2023 16:21:15 - WARNING - root - bos_token <s> not in provided tokens. It will be added to the list of tokens\n",
      "09/30/2023 16:21:15 - WARNING - root - eos_token </s> not in provided tokens. It will be added to the list of tokens\n"
     ]
    },
    {
     "ename": "TypeError",
     "evalue": "__init__() missing 1 required positional argument: 'lm_path'",
     "output_type": "error",
     "traceback": [
      "\u001b[0;31m---------------------------------------------------------------------------\u001b[0m",
      "\u001b[0;31mTypeError\u001b[0m                                 Traceback (most recent call last)",
      "\u001b[0;32m<ipython-input-8-c8ff75c2377a>\u001b[0m in \u001b[0;36m<module>\u001b[0;34m\u001b[0m\n\u001b[1;32m      5\u001b[0m \u001b[0mmodel\u001b[0m \u001b[0;34m=\u001b[0m \u001b[0mSpeechRecognitionModel\u001b[0m\u001b[0;34m(\u001b[0m\u001b[0;34m\"classla/wav2vec2-xls-r-parlaspeech-hr\"\u001b[0m\u001b[0;34m)\u001b[0m\u001b[0;34m\u001b[0m\u001b[0;34m\u001b[0m\u001b[0m\n\u001b[1;32m      6\u001b[0m \u001b[0mmodel\u001b[0m\u001b[0;34m.\u001b[0m\u001b[0mtoken_set\u001b[0m\u001b[0;34m.\u001b[0m\u001b[0mtokens\u001b[0m\u001b[0;34m.\u001b[0m\u001b[0mpop\u001b[0m\u001b[0;34m(\u001b[0m\u001b[0;36m48\u001b[0m\u001b[0;34m)\u001b[0m\u001b[0;34m\u001b[0m\u001b[0;34m\u001b[0m\u001b[0m\n\u001b[0;32m----> 7\u001b[0;31m \u001b[0mdecoder\u001b[0m \u001b[0;34m=\u001b[0m \u001b[0mKenshoLMDecoder\u001b[0m\u001b[0;34m(\u001b[0m\u001b[0mmodel\u001b[0m\u001b[0;34m.\u001b[0m\u001b[0mtoken_set\u001b[0m\u001b[0;34m)\u001b[0m\u001b[0;34m\u001b[0m\u001b[0;34m\u001b[0m\u001b[0m\n\u001b[0m",
      "\u001b[0;31mTypeError\u001b[0m: __init__() missing 1 required positional argument: 'lm_path'"
     ]
    }
   ],
   "source": [
    "from huggingsound import SpeechRecognitionModel, KenshoLMDecoder\n",
    "#lm_path = '/Users/irisz/Downloads/2023_ELIC/lm.binary'\n",
    "\n",
    "\n",
    "model = SpeechRecognitionModel(\"classla/wav2vec2-xls-r-parlaspeech-hr\")\n",
    "model.token_set.tokens.pop(48)\n",
    "decoder = KenshoLMDecoder(model.token_set)"
   ]
  },
  {
   "cell_type": "code",
   "execution_count": 1,
   "id": "bf0d13da",
   "metadata": {},
   "outputs": [],
   "source": [
    "import sys  \n",
    "sys.path.append(\"/Users/irisz/Downloads/parlaspeech\")  \n",
    "import utils"
   ]
  },
  {
   "cell_type": "code",
   "execution_count": 3,
   "id": "c7c2715d",
   "metadata": {},
   "outputs": [
    {
     "name": "stderr",
     "output_type": "stream",
     "text": [
      "Using cache found in /Users/irisz/.cache/torch/hub/snakers4_silero-vad_master\n"
     ]
    },
    {
     "name": "stdout",
     "output_type": "stream",
     "text": [
      "09/30/2023 17:10:28 - INFO - huggingsound.speech_recognition.model - Loading model...\n"
     ]
    },
    {
     "name": "stderr",
     "output_type": "stream",
     "text": [
      "Special tokens have been added in the vocabulary, make sure the associated word embeddings are fine-tuned or trained.\n"
     ]
    },
    {
     "name": "stdout",
     "output_type": "stream",
     "text": [
      "09/30/2023 17:10:59 - WARNING - root - silence_token | not in provided tokens. It will be added to the list of tokens\n",
      "09/30/2023 17:10:59 - WARNING - root - bos_token <s> not in provided tokens. It will be added to the list of tokens\n",
      "09/30/2023 17:10:59 - WARNING - root - eos_token </s> not in provided tokens. It will be added to the list of tokens\n",
      "09/30/2023 17:11:02 - WARNING - pyctcdecode.decoder - Unigrams not provided and cannot be automatically determined from LM file (only arpa format). Decoding accuracy might be reduced.\n",
      "09/30/2023 17:11:02 - WARNING - pyctcdecode.alphabet - Found entries of length > 1 in alphabet. This is unusual unless style is BPE, but the alphabet was not recognized as BPE type. Is this correct?\n",
      "09/30/2023 17:11:02 - WARNING - pyctcdecode.language_model - No known unigrams provided, decoding results might be a lot worse.\n"
     ]
    },
    {
     "name": "stderr",
     "output_type": "stream",
     "text": [
      "\r",
      "  0%|          | 0/2 [00:00<?, ?it/s]"
     ]
    },
    {
     "name": "stdout",
     "output_type": "stream",
     "text": [
      "09/30/2023 17:12:12 - WARNING - pyctcdecode.decoder - Specified pool object has a spawn context, which is not currently supported. See https://github.com/kensho-technologies/pyctcdecode/issues/65.\n",
      "Falling back to sequential decoding.\n"
     ]
    },
    {
     "name": "stderr",
     "output_type": "stream",
     "text": [
      "\r",
      " 50%|█████     | 1/2 [01:05<01:05, 65.85s/it]"
     ]
    },
    {
     "name": "stdout",
     "output_type": "stream",
     "text": [
      "09/30/2023 17:13:02 - WARNING - pyctcdecode.decoder - Specified pool object has a spawn context, which is not currently supported. See https://github.com/kensho-technologies/pyctcdecode/issues/65.\n",
      "Falling back to sequential decoding.\n"
     ]
    },
    {
     "name": "stderr",
     "output_type": "stream",
     "text": [
      "100%|██████████| 2/2 [01:54<00:00, 57.15s/it]\n"
     ]
    },
    {
     "ename": "NameError",
     "evalue": "name 'json' is not defined",
     "output_type": "error",
     "traceback": [
      "\u001b[0;31m---------------------------------------------------------------------------\u001b[0m",
      "\u001b[0;31mNameError\u001b[0m                                 Traceback (most recent call last)",
      "\u001b[0;32m<ipython-input-3-c4a03ef97c10>\u001b[0m in \u001b[0;36m<module>\u001b[0;34m\u001b[0m\n\u001b[1;32m      5\u001b[0m \u001b[0;32mwith\u001b[0m \u001b[0mopen\u001b[0m\u001b[0;34m(\u001b[0m\u001b[0;34m'asr_results.json'\u001b[0m\u001b[0;34m,\u001b[0m \u001b[0;34m'w'\u001b[0m\u001b[0;34m)\u001b[0m \u001b[0;32mas\u001b[0m \u001b[0mf\u001b[0m\u001b[0;34m:\u001b[0m\u001b[0;34m\u001b[0m\u001b[0;34m\u001b[0m\u001b[0m\n\u001b[1;32m      6\u001b[0m     \u001b[0;32mfor\u001b[0m \u001b[0mseg\u001b[0m \u001b[0;32min\u001b[0m \u001b[0mres\u001b[0m\u001b[0;34m:\u001b[0m\u001b[0;34m\u001b[0m\u001b[0;34m\u001b[0m\u001b[0m\n\u001b[0;32m----> 7\u001b[0;31m         \u001b[0mf\u001b[0m\u001b[0;34m.\u001b[0m\u001b[0mwrite\u001b[0m\u001b[0;34m(\u001b[0m\u001b[0mjson\u001b[0m\u001b[0;34m.\u001b[0m\u001b[0mdumps\u001b[0m\u001b[0;34m(\u001b[0m\u001b[0mseg\u001b[0m\u001b[0;34m)\u001b[0m \u001b[0;34m+\u001b[0m \u001b[0;34m'\\n'\u001b[0m\u001b[0;34m)\u001b[0m\u001b[0;34m\u001b[0m\u001b[0;34m\u001b[0m\u001b[0m\n\u001b[0m",
      "\u001b[0;31mNameError\u001b[0m: name 'json' is not defined"
     ]
    }
   ],
   "source": [
    "from utils import recognition\n",
    "audio_dir = '/Users/irisz/downloads/2023_ELIC/ckm001-2022-01-16-Trviž_01.wav'\n",
    "res = recognition.process_files([audio_dir])\n",
    "\n",
    "with open('asr_results.json', 'w') as f:\n",
    "    for seg in res:\n",
    "        f.write(json.dumps(seg) + '\\n')"
   ]
  },
  {
   "cell_type": "code",
   "execution_count": 4,
   "id": "49b2064d",
   "metadata": {},
   "outputs": [],
   "source": [
    "import json\n",
    "with open('asr_results.json', 'w') as f:\n",
    "    for seg in res:\n",
    "        f.write(json.dumps(seg) + '\\n')"
   ]
  },
  {
   "cell_type": "markdown",
   "id": "1c400daf",
   "metadata": {},
   "source": [
    "# get txt from textgrid"
   ]
  },
  {
   "cell_type": "code",
   "execution_count": 99,
   "id": "d9810e71",
   "metadata": {},
   "outputs": [
    {
     "name": "stdout",
     "output_type": "stream",
     "text": [
      "1 1 1 1 Dobro. ['2']\n",
      "2 2 2 2 ((noise, smack)) ['2', '3']\n",
      "3 3 3 3 Onda moremo eh započet. ['3', '4']\n",
      "4 4 4 4 ((paper rustling)) ['4', '5']\n",
      "5 5 5 5 S obziron da san i ja govornik ['5', '6']\n",
      "6 6 6 6 ((noise)) ['6', '7']\n",
      "7 7 7 7 materinskega idioma ['7', '8']\n",
      "8 8 8 8 ((breath)) ['8', '9']\n",
      "9 9 9 9 onda ćemo govorit, ću provat po domaće pa, za početak, ['9', '10']\n",
      "10 10 10 10 ((breath, noise)) ['10', '11']\n",
      "11 11 11 11 moreš nan eh reć nešto, u kratko, o sebe. Kade si rodjena, kade si/ ['11', '12']\n",
      "12 12 12 12 ((breath)) ['12', '13']\n",
      "13 13 13 13 kade si se zgojila ['13', '14']\n",
      "14 14 14 14 ((noise)) ['14', '15']\n",
      "15 15 15 15 i tako nešto ča te domišja na djetinjstvo. ['15', '16']\n",
      "16 16 16 16 ((overlapping)) ['16', '18']\n",
      "17 17 17 17 dobro ['18', '2']\n",
      "18 18 18 18 onda ['2', '4']\n",
      "19 19 19 19 moremo ['4', '5']\n",
      "20 20 20 20 eh ['5', '6']\n",
      "21 21 21 21 započet ['6', '8']\n",
      "22 22 22 22 s ['8', '10']\n",
      "23 23 23 23 obziron ['10', '11']\n",
      "24 24 24 24 da ['11', '12']\n",
      "25 25 25 25 san ['12', '13']\n",
      "26 26 26 26 i ['13', '14']\n",
      "27 27 27 27 ja ['14', '15']\n",
      "28 28 28 28 govornik ['15', '16']\n",
      "29 29 29 29 materinskega ['16', '18']\n",
      "30 30 30 30 idioma ['18', '19']\n",
      "31 31 31 31 onda ['19', '21']\n",
      "32 32 32 32 ćemo ['21', '22']\n",
      "33 33 33 33 govorit ['22', '23']\n",
      "34 34 34 34 ću ['23', '24']\n",
      "35 35 35 35 provat ['24', '25']\n",
      "36 36 36 36 po ['25', '26']\n",
      "37 37 37 37 domaće ['26', '27']\n",
      "38 38 38 38 pa ['27', '28']\n",
      "39 39 39 39 za ['28', '30']\n",
      "40 40 40 40 početak ['30', '31']\n",
      "41 41 41 41 moreš ['31', '33']\n",
      "42 42 42 42 nan ['33', '34']\n",
      "43 43 43 43 eh ['34', '35']\n",
      "44 44 44 44 reć ['35', '36']\n",
      "45 45 45 45 nešto ['36', '37']\n",
      "46 46 46 46 u ['37', '38']\n",
      "47 47 47 47 kratko ['38', '39']\n",
      "48 48 48 48 o ['39', '40']\n",
      "49 49 49 49 sebe ['40', '41']\n",
      "50 50 50 50 kade ['41', '42']\n",
      "51 51 51 51 si ['42', '43']\n",
      "52 52 52 52 rođena ['43', '44']\n",
      "53 53 53 53 kade ['44', '45']\n",
      "54 54 54 54 si ['45', '46']\n",
      "55 55 55 55 kade ['46', '48']\n",
      "56 56 56 56 si ['48', '49']\n",
      "57 57 57 57 se ['49', '50']\n",
      "58 58 58 58 zgojila ['50', '51']\n",
      "59 59 59 59 i ['51', '53']\n",
      "60 60 60 60 tako ['53', '54']\n",
      "61 61 61 61 nešto ['54', '55']\n",
      "62 62 62 62 ča ['55', '56']\n",
      "63 63 63 63 te ['56', '57']\n",
      "64 64 64 64 domišja ['57', '58']\n",
      "65 65 65 65 na ['58', '59']\n",
      "66 66 66 66 djetinjstvo ['59', '60']\n",
      "67 67 67 67 eh ['60', '2']\n",
      "68 68 68 68 Znači, rodila san se u Trvižu, ['2', '3']\n",
      "69 69 69 69 ((breath)) ['3', '4']\n",
      "70 70 70 70 eh jenen eh mestu,  ['4', '5']\n",
      "71 71 71 71 srednjovjekovnen gradiću ['5', '6']\n",
      "72 72 72 72 # ['6', '7']\n",
      "73 73 73 73 eh blizu Pazina ['7', '8']\n",
      "74 74 74 74 ((breath)) ['8', '9']\n",
      "75 75 75 75 Eh živila san z mamon i z ćaćon, z nonićima i z braton i sestron. ['9', '10']\n",
      "76 76 76 76 ((noise)) ['10', '11']\n",
      "77 77 77 77 Eh djet/ za ['11', '12']\n",
      "78 78 78 78 ((breath)) ['12', '13']\n",
      "79 79 79 79 eh djetinjstvo me vežu jako lepe uspomene. ['13', '14']\n",
      "80 80 80 80 Eh najviše mmm bezbrižna igra sa svojin susedima, ['14', '15']\n",
      "81 81 81 81 ((breath)) ['15', '16']\n",
      "82 82 82 82 eh koji su mi eh dan danas ((noise)) neki ustali i preteli. ['16', '17']\n",
      "83 83 83 83 ((breath)) ['17', '18']\n",
      "84 84 84 84 Eh najlepče iz djetinjstva eh su raznorazne eh, n/ ne znan, igre, vezane za/ ['18', '19']\n",
      "85 85 85 85 ((smack, breath)) ['19', '20']\n",
      "86 86 86 86 Ne znan, igrali smo se na primjer eh „restorana“ pa smo si stavili ['20', '21']\n",
      "87 87 87 87 ((breath)) ['21', '22']\n",
      "88 88 88 88 mmm van sve eh kalotine, i jena kalotina malo veća nan je bila kako miza, a sve okolo su bili ['22', '23']\n",
      "89 89 89 89 ((breath)) ['23', '24']\n",
      "90 90 90 90 eh karege. ['24', '25']\n",
      "91 91 91 91 # ['25', '26']\n",
      "92 92 92 92 Eh onda smo se igrali eh z muškema, smo se, s obziron da ni bilo još preveć igračkah, ki je ča ima to smo se igrali, ['26', '27']\n",
      "93 93 93 93 # ['27', '28']\n",
      "94 94 94 94 z muškema smo se igrali z veturicama u sablonu.  ['28', '29']\n",
      "95 95 95 95 ((breath)) ['29', '30']\n",
      "96 96 96 96 Eh najveć smo delali kućice na drevu, eh a navečer bimo eh ne znan se igrali ['30', '31']\n",
      "97 97 97 97 ((breath)) ['31', '32']\n",
      "98 98 98 98 eh skrivača ili eh plan/ plan grada pa smo se išćali. ['32', '33']\n",
      "99 99 99 99 ((breath)) ['33', '34']\n",
      "100 100 100 100 Puno dišpetah smo delali, dobro da nismo veće nesriće napravili, ['34', '35']\n",
      "101 101 101 101 # ['35', '36']\n",
      "102 102 102 102 tako da smo neke pute anke užali ['36', '37']\n",
      "103 103 103 103 ((breath)) ['37', '38']\n",
      "104 104 104 104 stavit špah po sred česte pa bi se lako ki bi moga i # rovinat, ma ni, hvala Bogu. ['38', '39']\n",
      "105 105 105 105 ((breath)) ['39', '40']\n",
      "106 106 106 106 Za razliku od današnje dice eh koja nimaj/ u/ u/ u biti, eh ['40', '41']\n",
      "107 107 107 107 ((tongue click)) ['41', '42']\n",
      "108 108 108 108 Najlepče nan je bilo to ča smo imali veliku, veliku slobodu.  ['42', '43']\n",
      "109 109 109 109 # ['43', '44']\n",
      "110 110 110 110 Slobodu eh da nas niki ni kontrolira. ['44', '45']\n",
      "111 111 111 111 ((breath)) ['45', '46']\n",
      "112 112 112 112 Eh znali smo da ako nešto ufabrikamo da će nas još doma spraskat odzgor.  ['46', '47']\n",
      "113 113 113 113 # ['47', '48']\n",
      "114 114 114 114 eh ['48', '49']\n",
      "115 115 115 115 ((breath)) ['49', '50']\n",
      "116 116 116 116 Ali, mi smo tek to znali, to nas ni brigalo, steši smo se razvili puno ['50', '51']\n",
      "117 117 117 117 # ['51', '52']\n",
      "118 118 118 118 puno slobodniji, forši bolje smo pensali, forši se sad znamo snać ['52', '53']\n",
      "119 119 119 119 ((breath)) ['53', '54']\n",
      "120 120 120 120 malo boje. ['54', '55']\n",
      "121 121 121 121 ((breath)) ['55', '56']\n",
      "122 122 122 122 Onda, ča ja znan, u djetinjstvu isto tako nan je bilo jako lepo kantat ['56', '57']\n",
      "123 123 123 123 # ['57', '58']\n",
      "124 124 124 124 uz jenega ['58', '59']\n",
      "125 125 125 125 ((breath)) ['59', '60']\n",
      "126 126 126 126 našega orguljaša koji nas je ženske okupi oko mmm oko crekve tako reć, pa smo/ nan je u stvari hobi, ['60', '61']\n",
      "127 127 127 127 ((breath)) ['61', '62']\n",
      "128 128 128 128 ili ja vajk rečen izvannastavne aktivnosti su nan bile poć eh h maše i molit krunicu ['62', '63']\n",
      "129 129 129 129 ((breath)) ['63', '64']\n",
      "130 130 130 130 eh eh u peten mesecu i u šesten i u deseten i pole,  ['64', '65']\n",
      "131 131 131 131 # ['65', '66']\n",
      "132 132 132 132 obavezno ['66', '67']\n",
      "133 133 133 133 # ['67', '68']\n",
      "134 134 134 134 mmm kantana maša.  ['68', '69']\n",
      "135 135 135 135 ((smack, breath)) ['69', '70']\n",
      "136 136 136 136 To je/ to je to. ['70', '71']\n",
      "137 137 137 137 Ča se ti/ ['71', '73']\n",
      "138 138 138 138 eh ['73', '2']\n",
      "139 139 139 139 znači ['2', '3']\n",
      "140 140 140 140 rodila ['3', '4']\n",
      "141 141 141 141 san ['4', '5']\n",
      "142 142 142 142 se ['5', '6']\n",
      "143 143 143 143 u ['6', '7']\n",
      "144 144 144 144 Trvižu ['7', '8']\n",
      "145 145 145 145 eh ['8', '10']\n",
      "146 146 146 146 jenen ['10', '11']\n",
      "147 147 147 147 eh ['11', '12']\n",
      "148 148 148 148 mestu ['12', '13']\n",
      "149 149 149 149 srednjovjekovnen ['13', '15']\n",
      "150 150 150 150 gradiću ['15', '16']\n",
      "151 151 151 151 eh ['16', '18']\n",
      "152 152 152 152 blizu ['18', '19']\n",
      "153 153 153 153 Pazina ['19', '20']\n",
      "154 154 154 154 eh ['20', '22']\n",
      "155 155 155 155 živila ['22', '23']\n",
      "156 156 156 156 san ['23', '24']\n",
      "157 157 157 157 z ['24', '25']\n",
      "158 158 158 158 mamon ['25', '26']\n",
      "159 159 159 159 i ['26', '27']\n",
      "160 160 160 160 z ['27', '28']\n",
      "161 161 161 161 ćaćon ['28', '29']\n",
      "162 162 162 162 z ['29', '31']\n",
      "163 163 163 163 nonićima ['31', '32']\n",
      "164 164 164 164 i ['32', '33']\n",
      "165 165 165 165 z ['33', '34']\n",
      "166 166 166 166 braton ['34', '35']\n",
      "167 167 167 167 i ['35', '36']\n",
      "168 168 168 168 sestron ['36', '37']\n",
      "169 169 169 169 eh ['37', '39']\n",
      "170 170 170 170 djet ['39', '40']\n",
      "171 171 171 171 za ['40', '41']\n",
      "172 172 172 172 eh ['41', '43']\n",
      "173 173 173 173 djetinstvo ['43', '44']\n",
      "174 174 174 174 me ['44', '45']\n",
      "175 175 175 175 vežu ['45', '46']\n",
      "176 176 176 176 jako ['46', '47']\n",
      "177 177 177 177 lepe ['47', '48']\n",
      "178 178 178 178 uspomene ['48', '49']\n",
      "179 179 179 179 eh ['49', '51']\n",
      "180 180 180 180 najviše ['51', '52']\n",
      "181 181 181 181 mmm ['52', '54']\n",
      "182 182 182 182 bezbrižna ['54', '56']\n",
      "183 183 183 183 igra ['56', '57']\n",
      "184 184 184 184 sa ['57', '59']\n",
      "185 185 185 185 svojin ['59', '60']\n",
      "186 186 186 186 susedima ['60', '61']\n",
      "187 187 187 187 eh ['61', '63']\n",
      "188 188 188 188 koji ['63', '64']\n",
      "189 189 189 189 su ['64', '65']\n",
      "190 190 190 190 mi ['65', '66']\n",
      "191 191 191 191 eh ['66', '68']\n",
      "192 192 192 192 dan ['68', '70']\n",
      "193 193 193 193 danas ['70', '71']\n",
      "194 194 194 194 neki ['71', '73']\n",
      "195 195 195 195 ustali ['73', '74']\n",
      "196 196 196 196 i ['74', '75']\n",
      "197 197 197 197 preteli ['75', '76']\n",
      "198 198 198 198 eh ['76', '78']\n",
      "199 199 199 199 najlepče ['78', '79']\n",
      "200 200 200 200 iz ['79', '80']\n",
      "201 201 201 201 djetinjstva ['80', '81']\n",
      "202 202 202 202 eh ['81', '83']\n",
      "203 203 203 203 su ['83', '84']\n",
      "204 204 204 204 raznorazne ['84', '85']\n",
      "205 205 205 205 eh ['85', '86']\n",
      "206 206 206 206 n ['86', '87']\n",
      "207 207 207 207 ne ['87', '88']\n",
      "208 208 208 208 znan ['88', '89']\n",
      "209 209 209 209 igre ['89', '90']\n",
      "210 210 210 210 vezane ['90', '91']\n",
      "211 211 211 211 za ['91', '92']\n",
      "212 212 212 212 ne ['92', '94']\n",
      "213 213 213 213 znan ['94', '95']\n",
      "214 214 214 214 igrali ['95', '96']\n",
      "215 215 215 215 smo ['96', '97']\n",
      "216 216 216 216 se ['97', '98']\n",
      "217 217 217 217 na ['98', '99']\n",
      "218 218 218 218 primjer ['99', '100']\n",
      "219 219 219 219 eh ['100', '102']\n",
      "220 220 220 220 restorana ['102', '103']\n",
      "221 221 221 221 pa ['103', '104']\n",
      "222 222 222 222 smo ['104', '105']\n",
      "223 223 223 223 si ['105', '106']\n",
      "224 224 224 224 stavili ['106', '107']\n",
      "225 225 225 225 mmm ['107', '109']\n",
      "226 226 226 226 van ['109', '110']\n",
      "227 227 227 227 sve ['110', '111']\n",
      "228 228 228 228 eh ['111', '112']\n",
      "229 229 229 229 kalotine ['112', '113']\n",
      "230 230 230 230 i ['113', '115']\n",
      "231 231 231 231 jena ['115', '116']\n",
      "232 232 232 232 kalotina ['116', '117']\n",
      "233 233 233 233 malo ['117', '118']\n",
      "234 234 234 234 veća ['118', '119']\n",
      "235 235 235 235 nan ['119', '120']\n",
      "236 236 236 236 je ['120', '121']\n",
      "237 237 237 237 bila ['121', '122']\n",
      "238 238 238 238 kako ['122', '123']\n",
      "239 239 239 239 miza ['123', '124']\n",
      "240 240 240 240 a ['124', '125']\n",
      "241 241 241 241 sve ['125', '126']\n",
      "242 242 242 242 okolo ['126', '127']\n",
      "243 243 243 243 su ['127', '128']\n",
      "244 244 244 244 bili ['128', '129']\n",
      "245 245 245 245 eh ['129', '131']\n",
      "246 246 246 246 karege ['131', '132']\n",
      "247 247 247 247 eh ['132', '134']\n",
      "248 248 248 248 onda ['134', '135']\n",
      "249 249 249 249 smo ['135', '136']\n",
      "250 250 250 250 se ['136', '137']\n",
      "251 251 251 251 igrali ['137', '138']\n",
      "252 252 252 252 eh ['138', '140']\n",
      "253 253 253 253 z ['140', '141']\n",
      "254 254 254 254 muškema ['141', '142']\n",
      "255 255 255 255 smo ['142', '143']\n",
      "256 256 256 256 se ['143', '144']\n",
      "257 257 257 257 s ['144', '145']\n",
      "258 258 258 258 obziron ['145', '146']\n",
      "259 259 259 259 da ['146', '147']\n",
      "260 260 260 260 ni ['147', '148']\n",
      "261 261 261 261 bilo ['148', '149']\n",
      "262 262 262 262 još ['149', '150']\n",
      "263 263 263 263 preveć ['150', '152']\n",
      "264 264 264 264 igračkah ['152', '153']\n",
      "265 265 265 265 ki ['153', '154']\n",
      "266 266 266 266 je ['154', '155']\n",
      "267 267 267 267 ča ['155', '156']\n",
      "268 268 268 268 ima ['156', '157']\n",
      "269 269 269 269 to ['157', '158']\n",
      "270 270 270 270 smo ['158', '159']\n",
      "271 271 271 271 se ['159', '160']\n",
      "272 272 272 272 igrali ['160', '161']\n",
      "273 273 273 273 z ['161', '163']\n",
      "274 274 274 274 muškema ['163', '164']\n",
      "275 275 275 275 smo ['164', '165']\n",
      "276 276 276 276 se ['165', '166']\n",
      "277 277 277 277 igrali ['166', '167']\n",
      "278 278 278 278 z ['167', '168']\n",
      "279 279 279 279 veturicama ['168', '169']\n",
      "280 280 280 280 u ['169', '170']\n",
      "281 281 281 281 sablonu ['170', '171']\n",
      "282 282 282 282 eh ['171', '173']\n",
      "283 283 283 283 najveć ['173', '174']\n",
      "284 284 284 284 smo ['174', '175']\n",
      "285 285 285 285 delali ['175', '176']\n",
      "286 286 286 286 kućice ['176', '177']\n",
      "287 287 287 287 na ['177', '178']\n",
      "288 288 288 288 drevu ['178', '179']\n",
      "289 289 289 289 eh ['179', '181']\n",
      "290 290 290 290 a ['181', '182']\n",
      "291 291 291 291 navečer ['182', '183']\n",
      "292 292 292 292 bimo ['183', '185']\n",
      "293 293 293 293 eh ['185', '186']\n",
      "294 294 294 294 ne ['186', '188']\n",
      "295 295 295 295 znan ['188', '189']\n",
      "296 296 296 296 se ['189', '191']\n",
      "297 297 297 297 igrali ['191', '192']\n",
      "298 298 298 298 eh ['192', '194']\n",
      "299 299 299 299 skrivača ['194', '195']\n",
      "300 300 300 300 ili ['195', '196']\n",
      "301 301 301 301 eh ['196', '197']\n",
      "302 302 302 302 plan ['197', '199']\n",
      "303 303 303 303 plan ['199', '201']\n",
      "304 304 304 304 grada ['201', '202']\n",
      "305 305 305 305 pa ['202', '203']\n",
      "306 306 306 306 smo ['203', '204']\n",
      "307 307 307 307 se ['204', '205']\n",
      "308 308 308 308 išćali ['205', '206']\n",
      "309 309 309 309 puno ['206', '208']\n",
      "310 310 310 310 dišpetah ['208', '209']\n",
      "311 311 311 311 smo ['209', '210']\n",
      "312 312 312 312 delali ['210', '211']\n",
      "313 313 313 313 dobro ['211', '213']\n",
      "314 314 314 314 da ['213', '214']\n",
      "315 315 315 315 nismo ['214', '215']\n",
      "316 316 316 316 veće ['215', '216']\n",
      "317 317 317 317 nesriće ['216', '217']\n",
      "318 318 318 318 napravili ['217', '218']\n",
      "319 319 319 319 tako ['218', '220']\n",
      "320 320 320 320 da ['220', '221']\n",
      "321 321 321 321 smo ['221', '222']\n",
      "322 322 322 322 neke ['222', '223']\n",
      "323 323 323 323 pute ['223', '224']\n",
      "324 324 324 324 anke ['224', '225']\n",
      "325 325 325 325 užali ['225', '226']\n",
      "326 326 326 326 stavit ['226', '228']\n",
      "327 327 327 327 špah ['228', '229']\n",
      "328 328 328 328 po ['229', '231']\n",
      "329 329 329 329 sred ['231', '232']\n",
      "330 330 330 330 česte ['232', '233']\n",
      "331 331 331 331 pa ['233', '234']\n",
      "332 332 332 332 bi ['234', '236']\n",
      "333 333 333 333 se ['236', '237']\n",
      "334 334 334 334 lako ['237', '238']\n",
      "335 335 335 335 ki ['238', '239']\n",
      "336 336 336 336 bi ['239', '240']\n",
      "337 337 337 337 moga ['240', '241']\n",
      "338 338 338 338 i ['241', '242']\n",
      "339 339 339 339 rovinat ['242', '244']\n",
      "340 340 340 340 ma ['244', '245']\n",
      "341 341 341 341 ni ['245', '246']\n",
      "342 342 342 342 hvala ['246', '247']\n",
      "343 343 343 343 bogu ['247', '248']\n",
      "344 344 344 344 za ['248', '250']\n",
      "345 345 345 345 razliku ['250', '251']\n",
      "346 346 346 346 od ['251', '252']\n",
      "347 347 347 347 današnje ['252', '253']\n",
      "348 348 348 348 dice ['253', '254']\n",
      "349 349 349 349 eh ['254', '256']\n",
      "350 350 350 350 koja ['256', '257']\n",
      "351 351 351 351 nimaj/ ['257', '258']\n",
      "352 352 352 352 u ['258', '259']\n",
      "353 353 353 353 u ['259', '261']\n",
      "354 354 354 354 u ['261', '262']\n",
      "355 355 355 355 biti ['262', '263']\n",
      "356 356 356 356 eh ['263', '264']\n",
      "357 357 357 357 najlepče ['264', '266']\n",
      "358 358 358 358 nan ['266', '267']\n",
      "359 359 359 359 je ['267', '268']\n",
      "360 360 360 360 bilo ['268', '269']\n"
     ]
    },
    {
     "name": "stdout",
     "output_type": "stream",
     "text": [
      "361 361 361 361 to ['269', '270']\n",
      "362 362 362 362 ča ['270', '271']\n",
      "363 363 363 363 smo ['271', '272']\n",
      "364 364 364 364 imali ['272', '273']\n",
      "365 365 365 365 veliku ['273', '274']\n",
      "366 366 366 366 veliku ['274', '275']\n",
      "367 367 367 367 slobodu ['275', '276']\n",
      "368 368 368 368 slobodu ['276', '278']\n",
      "369 369 369 369 eh ['278', '279']\n",
      "370 370 370 370 da ['279', '280']\n",
      "371 371 371 371 nas ['280', '281']\n",
      "372 372 372 372 niki ['281', '282']\n",
      "373 373 373 373 ni ['282', '283']\n",
      "374 374 374 374 kontrolira ['283', '284']\n",
      "375 375 375 375 eh ['284', '286']\n",
      "376 376 376 376 znali ['286', '287']\n",
      "377 377 377 377 smo ['287', '288']\n",
      "378 378 378 378 da ['288', '289']\n",
      "379 379 379 379 ako ['289', '290']\n",
      "380 380 380 380 nešto ['290', '291']\n",
      "381 381 381 381 ufabrikamo ['291', '292']\n",
      "382 382 382 382 da ['292', '293']\n",
      "383 383 383 383 će ['293', '294']\n",
      "384 384 384 384 nas ['294', '295']\n",
      "385 385 385 385 još ['295', '296']\n",
      "386 386 386 386 doma ['296', '297']\n",
      "387 387 387 387 spraskat ['297', '298']\n",
      "388 388 388 388 odozgor ['298', '299']\n",
      "389 389 389 389 eh ['299', '301']\n",
      "390 390 390 390 ali ['301', '303']\n",
      "391 391 391 391 mi ['303', '304']\n",
      "392 392 392 392 smo ['304', '305']\n",
      "393 393 393 393 tek ['305', '306']\n",
      "394 394 394 394 to ['306', '307']\n",
      "395 395 395 395 znali ['307', '308']\n",
      "396 396 396 396 to ['308', '309']\n",
      "397 397 397 397 nas ['309', '310']\n",
      "398 398 398 398 ni ['310', '311']\n",
      "399 399 399 399 brigalo ['311', '312']\n",
      "400 400 400 400 steši ['312', '313']\n",
      "401 401 401 401 smo ['313', '314']\n",
      "402 402 402 402 se ['314', '315']\n",
      "403 403 403 403 razvili ['315', '316']\n",
      "404 404 404 404 puno ['316', '317']\n",
      "405 405 405 405 puno ['317', '319']\n",
      "406 406 406 406 slobodniji ['319', '320']\n",
      "407 407 407 407 forši ['320', '321']\n",
      "408 408 408 408 bolje ['321', '322']\n",
      "409 409 409 409 smo ['322', '323']\n",
      "410 410 410 410 pensali ['323', '324']\n",
      "411 411 411 411 forši ['324', '325']\n",
      "412 412 412 412 se ['325', '326']\n",
      "413 413 413 413 sad ['326', '327']\n",
      "414 414 414 414 znamo ['327', '328']\n",
      "415 415 415 415 snać ['328', '329']\n",
      "416 416 416 416 malo ['329', '331']\n",
      "417 417 417 417 boje ['331', '332']\n",
      "418 418 418 418 onda ['332', '334']\n",
      "419 419 419 419 ča ['334', '335']\n",
      "420 420 420 420 ja ['335', '336']\n",
      "421 421 421 421 znan ['336', '337']\n",
      "422 422 422 422 u ['337', '338']\n",
      "423 423 423 423 djetinjstvu ['338', '339']\n",
      "424 424 424 424 isto ['339', '340']\n",
      "425 425 425 425 tako ['340', '341']\n",
      "426 426 426 426 nan ['341', '342']\n",
      "427 427 427 427 je ['342', '343']\n",
      "428 428 428 428 bilo ['343', '344']\n",
      "429 429 429 429 jako ['344', '345']\n",
      "430 430 430 430 lepo ['345', '346']\n",
      "431 431 431 431 kantat ['346', '347']\n",
      "432 432 432 432 uz ['347', '349']\n",
      "433 433 433 433 jenega ['349', '350']\n",
      "434 434 434 434 našega ['350', '352']\n",
      "435 435 435 435 orguljaša ['352', '353']\n",
      "436 436 436 436 koji ['353', '354']\n",
      "437 437 437 437 nas ['354', '355']\n",
      "438 438 438 438 je ['355', '356']\n",
      "439 439 439 439 ženske ['356', '357']\n",
      "440 440 440 440 okupi ['357', '358']\n",
      "441 441 441 441 oko ['358', '359']\n",
      "442 442 442 442 mmm ['359', '360']\n",
      "443 443 443 443 oko ['360', '361']\n",
      "444 444 444 444 crekve ['361', '362']\n",
      "445 445 445 445 tako ['362', '363']\n",
      "446 446 446 446 reć ['363', '364']\n",
      "447 447 447 447 pa ['364', '365']\n",
      "448 448 448 448 smo ['365', '366']\n",
      "449 449 449 449 nan ['366', '367']\n",
      "450 450 450 450 je ['367', '368']\n",
      "451 451 451 451 u ['368', '369']\n",
      "452 452 452 452 stvari ['369', '370']\n",
      "453 453 453 453 hobi ['370', '371']\n",
      "454 454 454 454 ili ['371', '373']\n",
      "455 455 455 455 ja ['373', '374']\n",
      "456 456 456 456 vajk ['374', '375']\n",
      "457 457 457 457 rečen ['375', '376']\n",
      "458 458 458 458 izvannastavne ['376', '377']\n",
      "459 459 459 459 aktivnosti ['377', '378']\n",
      "460 460 460 460 su ['378', '379']\n",
      "461 461 461 461 nan ['379', '380']\n",
      "462 462 462 462 bile ['380', '381']\n",
      "463 463 463 463 poć ['381', '382']\n",
      "464 464 464 464 eh ['382', '383']\n",
      "465 465 465 465 h ['383', '384']\n",
      "466 466 466 466 maše ['384', '385']\n",
      "467 467 467 467 i ['385', '386']\n",
      "468 468 468 468 molit ['386', '387']\n",
      "469 469 469 469 krunitsu ['387', '388']\n",
      "470 470 470 470 eh ['388', '390']\n",
      "471 471 471 471 eh ['390', '391']\n",
      "472 472 472 472 u ['391', '392']\n",
      "473 473 473 473 peten ['392', '393']\n",
      "474 474 474 474 mesecu ['393', '394']\n",
      "475 475 475 475 i ['394', '396']\n",
      "476 476 476 476 u ['396', '397']\n",
      "477 477 477 477 šesten ['397', '398']\n",
      "478 478 478 478 i ['398', '399']\n",
      "479 479 479 479 u ['399', '400']\n",
      "480 480 480 480 deseten ['400', '401']\n",
      "481 481 481 481 i ['401', '402']\n",
      "482 482 482 482 pole ['402', '403']\n",
      "483 483 483 483 obavezno ['403', '405']\n",
      "484 484 484 484 mmm ['405', '407']\n",
      "485 485 485 485 kantana ['407', '408']\n",
      "486 486 486 486 maša ['408', '409']\n",
      "487 487 487 487 to ['409', '411']\n",
      "488 488 488 488 je ['411', '412']\n",
      "489 489 489 489 to ['412', '413']\n",
      "490 490 490 490 je ['413', '414']\n",
      "491 491 491 491 to ['414', '415']\n",
      "492 492 492 492 ča ['415', '417']\n",
      "493 493 493 493 se ['417', '418']\n",
      "494 494 494 494 ti ['418', '419']\n"
     ]
    }
   ],
   "source": [
    "import re\n",
    "with open('/Users/irisz/downloads/2023_ELIC/ckm001-2022-01-16-Trviž/ckm001-Trviž test data for speech to text/' + 'ckm001-2022-01-16-Trviž_01.TextGrid', 'r') as file:\n",
    "    lines = [line.rstrip() for line in file]\n",
    "   # data = f.read()\n",
    "text_list = []\n",
    "xmin_list = []\n",
    "xmax_list = []\n",
    "interval_list = []\n",
    "for line in lines[14:]:  #informations needed begin on the 9th lines\n",
    "    if 'text =' in line:\n",
    "        line = line.split('\"')[1]\n",
    "        if line != \"\":\n",
    "            text_list.append(line)\n",
    "            print (len(text_list), len(xmin_list), len(xmax_list), len(interval_list), line, interval_list[-2:])\n",
    "        else:\n",
    "            xmin_list = xmin_list[:-1]\n",
    "            xmax_list = xmax_list[:-1]\n",
    "            interval_list = interval_list[:-1]\n",
    "    if 'xmin' in line:\n",
    "        time_min = line.split('=')[1].strip(' ')\n",
    "        xmin_list.append(time_min)\n",
    "    if 'xmax' in line:\n",
    "        time_max = line.split('=')[1].strip(' ')\n",
    "        xmax_list.append(time_max)\n",
    "    if 'intervals [' in line:\n",
    "        interval = line.split('[')[1].strip(']:')\n",
    "        interval_list.append(interval)\n",
    "    if 'intervals: size' in line:\n",
    "        xmin_list = xmin_list[:-1]\n",
    "        xmax_list = xmax_list[:-1]\n",
    "        \n",
    "    #if 'item [2]' in line:\n",
    "        #break"
   ]
  },
  {
   "cell_type": "code",
   "execution_count": 100,
   "id": "a539f30a",
   "metadata": {},
   "outputs": [
    {
     "data": {
      "text/plain": [
       "['2',\n",
       " '3',\n",
       " '4',\n",
       " '5',\n",
       " '6',\n",
       " '7',\n",
       " '8',\n",
       " '9',\n",
       " '10',\n",
       " '11',\n",
       " '12',\n",
       " '13',\n",
       " '14',\n",
       " '15',\n",
       " '16',\n",
       " '18',\n",
       " '2',\n",
       " '4',\n",
       " '5',\n",
       " '6',\n",
       " '8',\n",
       " '10',\n",
       " '11',\n",
       " '12',\n",
       " '13',\n",
       " '14',\n",
       " '15',\n",
       " '16',\n",
       " '18',\n",
       " '19',\n",
       " '21',\n",
       " '22',\n",
       " '23',\n",
       " '24',\n",
       " '25',\n",
       " '26',\n",
       " '27',\n",
       " '28',\n",
       " '30',\n",
       " '31',\n",
       " '33',\n",
       " '34',\n",
       " '35',\n",
       " '36',\n",
       " '37',\n",
       " '38',\n",
       " '39',\n",
       " '40',\n",
       " '41',\n",
       " '42',\n",
       " '43',\n",
       " '44',\n",
       " '45',\n",
       " '46',\n",
       " '48',\n",
       " '49',\n",
       " '50',\n",
       " '51',\n",
       " '53',\n",
       " '54',\n",
       " '55',\n",
       " '56',\n",
       " '57',\n",
       " '58',\n",
       " '59',\n",
       " '60',\n",
       " '2',\n",
       " '3',\n",
       " '4',\n",
       " '5',\n",
       " '6',\n",
       " '7',\n",
       " '8',\n",
       " '9',\n",
       " '10',\n",
       " '11',\n",
       " '12',\n",
       " '13',\n",
       " '14',\n",
       " '15',\n",
       " '16',\n",
       " '17',\n",
       " '18',\n",
       " '19',\n",
       " '20',\n",
       " '21',\n",
       " '22',\n",
       " '23',\n",
       " '24',\n",
       " '25',\n",
       " '26',\n",
       " '27',\n",
       " '28',\n",
       " '29',\n",
       " '30',\n",
       " '31',\n",
       " '32',\n",
       " '33',\n",
       " '34',\n",
       " '35',\n",
       " '36',\n",
       " '37',\n",
       " '38',\n",
       " '39',\n",
       " '40',\n",
       " '41',\n",
       " '42',\n",
       " '43',\n",
       " '44',\n",
       " '45',\n",
       " '46',\n",
       " '47',\n",
       " '48',\n",
       " '49',\n",
       " '50',\n",
       " '51',\n",
       " '52',\n",
       " '53',\n",
       " '54',\n",
       " '55',\n",
       " '56',\n",
       " '57',\n",
       " '58',\n",
       " '59',\n",
       " '60',\n",
       " '61',\n",
       " '62',\n",
       " '63',\n",
       " '64',\n",
       " '65',\n",
       " '66',\n",
       " '67',\n",
       " '68',\n",
       " '69',\n",
       " '70',\n",
       " '71',\n",
       " '73',\n",
       " '2',\n",
       " '3',\n",
       " '4',\n",
       " '5',\n",
       " '6',\n",
       " '7',\n",
       " '8',\n",
       " '10',\n",
       " '11',\n",
       " '12',\n",
       " '13',\n",
       " '15',\n",
       " '16',\n",
       " '18',\n",
       " '19',\n",
       " '20',\n",
       " '22',\n",
       " '23',\n",
       " '24',\n",
       " '25',\n",
       " '26',\n",
       " '27',\n",
       " '28',\n",
       " '29',\n",
       " '31',\n",
       " '32',\n",
       " '33',\n",
       " '34',\n",
       " '35',\n",
       " '36',\n",
       " '37',\n",
       " '39',\n",
       " '40',\n",
       " '41',\n",
       " '43',\n",
       " '44',\n",
       " '45',\n",
       " '46',\n",
       " '47',\n",
       " '48',\n",
       " '49',\n",
       " '51',\n",
       " '52',\n",
       " '54',\n",
       " '56',\n",
       " '57',\n",
       " '59',\n",
       " '60',\n",
       " '61',\n",
       " '63',\n",
       " '64',\n",
       " '65',\n",
       " '66',\n",
       " '68',\n",
       " '70',\n",
       " '71',\n",
       " '73',\n",
       " '74',\n",
       " '75',\n",
       " '76',\n",
       " '78',\n",
       " '79',\n",
       " '80',\n",
       " '81',\n",
       " '83',\n",
       " '84',\n",
       " '85',\n",
       " '86',\n",
       " '87',\n",
       " '88',\n",
       " '89',\n",
       " '90',\n",
       " '91',\n",
       " '92',\n",
       " '94',\n",
       " '95',\n",
       " '96',\n",
       " '97',\n",
       " '98',\n",
       " '99',\n",
       " '100',\n",
       " '102',\n",
       " '103',\n",
       " '104',\n",
       " '105',\n",
       " '106',\n",
       " '107',\n",
       " '109',\n",
       " '110',\n",
       " '111',\n",
       " '112',\n",
       " '113',\n",
       " '115',\n",
       " '116',\n",
       " '117',\n",
       " '118',\n",
       " '119',\n",
       " '120',\n",
       " '121',\n",
       " '122',\n",
       " '123',\n",
       " '124',\n",
       " '125',\n",
       " '126',\n",
       " '127',\n",
       " '128',\n",
       " '129',\n",
       " '131',\n",
       " '132',\n",
       " '134',\n",
       " '135',\n",
       " '136',\n",
       " '137',\n",
       " '138',\n",
       " '140',\n",
       " '141',\n",
       " '142',\n",
       " '143',\n",
       " '144',\n",
       " '145',\n",
       " '146',\n",
       " '147',\n",
       " '148',\n",
       " '149',\n",
       " '150',\n",
       " '152',\n",
       " '153',\n",
       " '154',\n",
       " '155',\n",
       " '156',\n",
       " '157',\n",
       " '158',\n",
       " '159',\n",
       " '160',\n",
       " '161',\n",
       " '163',\n",
       " '164',\n",
       " '165',\n",
       " '166',\n",
       " '167',\n",
       " '168',\n",
       " '169',\n",
       " '170',\n",
       " '171',\n",
       " '173',\n",
       " '174',\n",
       " '175',\n",
       " '176',\n",
       " '177',\n",
       " '178',\n",
       " '179',\n",
       " '181',\n",
       " '182',\n",
       " '183',\n",
       " '185',\n",
       " '186',\n",
       " '188',\n",
       " '189',\n",
       " '191',\n",
       " '192',\n",
       " '194',\n",
       " '195',\n",
       " '196',\n",
       " '197',\n",
       " '199',\n",
       " '201',\n",
       " '202',\n",
       " '203',\n",
       " '204',\n",
       " '205',\n",
       " '206',\n",
       " '208',\n",
       " '209',\n",
       " '210',\n",
       " '211',\n",
       " '213',\n",
       " '214',\n",
       " '215',\n",
       " '216',\n",
       " '217',\n",
       " '218',\n",
       " '220',\n",
       " '221',\n",
       " '222',\n",
       " '223',\n",
       " '224',\n",
       " '225',\n",
       " '226',\n",
       " '228',\n",
       " '229',\n",
       " '231',\n",
       " '232',\n",
       " '233',\n",
       " '234',\n",
       " '236',\n",
       " '237',\n",
       " '238',\n",
       " '239',\n",
       " '240',\n",
       " '241',\n",
       " '242',\n",
       " '244',\n",
       " '245',\n",
       " '246',\n",
       " '247',\n",
       " '248',\n",
       " '250',\n",
       " '251',\n",
       " '252',\n",
       " '253',\n",
       " '254',\n",
       " '256',\n",
       " '257',\n",
       " '258',\n",
       " '259',\n",
       " '261',\n",
       " '262',\n",
       " '263',\n",
       " '264',\n",
       " '266',\n",
       " '267',\n",
       " '268',\n",
       " '269',\n",
       " '270',\n",
       " '271',\n",
       " '272',\n",
       " '273',\n",
       " '274',\n",
       " '275',\n",
       " '276',\n",
       " '278',\n",
       " '279',\n",
       " '280',\n",
       " '281',\n",
       " '282',\n",
       " '283',\n",
       " '284',\n",
       " '286',\n",
       " '287',\n",
       " '288',\n",
       " '289',\n",
       " '290',\n",
       " '291',\n",
       " '292',\n",
       " '293',\n",
       " '294',\n",
       " '295',\n",
       " '296',\n",
       " '297',\n",
       " '298',\n",
       " '299',\n",
       " '301',\n",
       " '303',\n",
       " '304',\n",
       " '305',\n",
       " '306',\n",
       " '307',\n",
       " '308',\n",
       " '309',\n",
       " '310',\n",
       " '311',\n",
       " '312',\n",
       " '313',\n",
       " '314',\n",
       " '315',\n",
       " '316',\n",
       " '317',\n",
       " '319',\n",
       " '320',\n",
       " '321',\n",
       " '322',\n",
       " '323',\n",
       " '324',\n",
       " '325',\n",
       " '326',\n",
       " '327',\n",
       " '328',\n",
       " '329',\n",
       " '331',\n",
       " '332',\n",
       " '334',\n",
       " '335',\n",
       " '336',\n",
       " '337',\n",
       " '338',\n",
       " '339',\n",
       " '340',\n",
       " '341',\n",
       " '342',\n",
       " '343',\n",
       " '344',\n",
       " '345',\n",
       " '346',\n",
       " '347',\n",
       " '349',\n",
       " '350',\n",
       " '352',\n",
       " '353',\n",
       " '354',\n",
       " '355',\n",
       " '356',\n",
       " '357',\n",
       " '358',\n",
       " '359',\n",
       " '360',\n",
       " '361',\n",
       " '362',\n",
       " '363',\n",
       " '364',\n",
       " '365',\n",
       " '366',\n",
       " '367',\n",
       " '368',\n",
       " '369',\n",
       " '370',\n",
       " '371',\n",
       " '373',\n",
       " '374',\n",
       " '375',\n",
       " '376',\n",
       " '377',\n",
       " '378',\n",
       " '379',\n",
       " '380',\n",
       " '381',\n",
       " '382',\n",
       " '383',\n",
       " '384',\n",
       " '385',\n",
       " '386',\n",
       " '387',\n",
       " '388',\n",
       " '390',\n",
       " '391',\n",
       " '392',\n",
       " '393',\n",
       " '394',\n",
       " '396',\n",
       " '397',\n",
       " '398',\n",
       " '399',\n",
       " '400',\n",
       " '401',\n",
       " '402',\n",
       " '403',\n",
       " '405',\n",
       " '407',\n",
       " '408',\n",
       " '409',\n",
       " '411',\n",
       " '412',\n",
       " '413',\n",
       " '414',\n",
       " '415',\n",
       " '417',\n",
       " '418',\n",
       " '419']"
      ]
     },
     "execution_count": 100,
     "metadata": {},
     "output_type": "execute_result"
    }
   ],
   "source": [
    "interval_list"
   ]
  },
  {
   "cell_type": "code",
   "execution_count": 101,
   "id": "167d60d3",
   "metadata": {},
   "outputs": [
    {
     "data": {
      "text/plain": [
       "['Dobro.',\n",
       " '((noise, smack))',\n",
       " 'Onda moremo eh započet.',\n",
       " '((paper rustling))',\n",
       " 'S obziron da san i ja govornik',\n",
       " '((noise))',\n",
       " 'materinskega idioma',\n",
       " '((breath))',\n",
       " 'onda ćemo govorit, ću provat po domaće pa, za početak,',\n",
       " '((breath, noise))',\n",
       " 'moreš nan eh reć nešto, u kratko, o sebe. Kade si rodjena, kade si/',\n",
       " '((breath))',\n",
       " 'kade si se zgojila',\n",
       " '((noise))',\n",
       " 'i tako nešto ča te domišja na djetinjstvo.',\n",
       " '((overlapping))',\n",
       " 'dobro',\n",
       " 'onda',\n",
       " 'moremo',\n",
       " 'eh',\n",
       " 'započet',\n",
       " 's',\n",
       " 'obziron',\n",
       " 'da',\n",
       " 'san',\n",
       " 'i',\n",
       " 'ja',\n",
       " 'govornik',\n",
       " 'materinskega',\n",
       " 'idioma',\n",
       " 'onda',\n",
       " 'ćemo',\n",
       " 'govorit',\n",
       " 'ću',\n",
       " 'provat',\n",
       " 'po',\n",
       " 'domaće',\n",
       " 'pa',\n",
       " 'za',\n",
       " 'početak',\n",
       " 'moreš',\n",
       " 'nan',\n",
       " 'eh',\n",
       " 'reć',\n",
       " 'nešto',\n",
       " 'u',\n",
       " 'kratko',\n",
       " 'o',\n",
       " 'sebe',\n",
       " 'kade',\n",
       " 'si',\n",
       " 'rođena',\n",
       " 'kade',\n",
       " 'si',\n",
       " 'kade',\n",
       " 'si',\n",
       " 'se',\n",
       " 'zgojila',\n",
       " 'i',\n",
       " 'tako',\n",
       " 'nešto',\n",
       " 'ča',\n",
       " 'te',\n",
       " 'domišja',\n",
       " 'na',\n",
       " 'djetinjstvo',\n",
       " 'eh',\n",
       " 'Znači, rodila san se u Trvižu,',\n",
       " '((breath))',\n",
       " 'eh jenen eh mestu, ',\n",
       " 'srednjovjekovnen gradiću',\n",
       " '#',\n",
       " 'eh blizu Pazina',\n",
       " '((breath))',\n",
       " 'Eh živila san z mamon i z ćaćon, z nonićima i z braton i sestron.',\n",
       " '((noise))',\n",
       " 'Eh djet/ za',\n",
       " '((breath))',\n",
       " 'eh djetinjstvo me vežu jako lepe uspomene.',\n",
       " 'Eh najviše mmm bezbrižna igra sa svojin susedima,',\n",
       " '((breath))',\n",
       " 'eh koji su mi eh dan danas ((noise)) neki ustali i preteli.',\n",
       " '((breath))',\n",
       " 'Eh najlepče iz djetinjstva eh su raznorazne eh, n/ ne znan, igre, vezane za/',\n",
       " '((smack, breath))',\n",
       " 'Ne znan, igrali smo se na primjer eh „restorana“ pa smo si stavili',\n",
       " '((breath))',\n",
       " 'mmm van sve eh kalotine, i jena kalotina malo veća nan je bila kako miza, a sve okolo su bili',\n",
       " '((breath))',\n",
       " 'eh karege.',\n",
       " '#',\n",
       " 'Eh onda smo se igrali eh z muškema, smo se, s obziron da ni bilo još preveć igračkah, ki je ča ima to smo se igrali,',\n",
       " '#',\n",
       " 'z muškema smo se igrali z veturicama u sablonu. ',\n",
       " '((breath))',\n",
       " 'Eh najveć smo delali kućice na drevu, eh a navečer bimo eh ne znan se igrali',\n",
       " '((breath))',\n",
       " 'eh skrivača ili eh plan/ plan grada pa smo se išćali.',\n",
       " '((breath))',\n",
       " 'Puno dišpetah smo delali, dobro da nismo veće nesriće napravili,',\n",
       " '#',\n",
       " 'tako da smo neke pute anke užali',\n",
       " '((breath))',\n",
       " 'stavit špah po sred česte pa bi se lako ki bi moga i # rovinat, ma ni, hvala Bogu.',\n",
       " '((breath))',\n",
       " 'Za razliku od današnje dice eh koja nimaj/ u/ u/ u biti, eh',\n",
       " '((tongue click))',\n",
       " 'Najlepče nan je bilo to ča smo imali veliku, veliku slobodu. ',\n",
       " '#',\n",
       " 'Slobodu eh da nas niki ni kontrolira.',\n",
       " '((breath))',\n",
       " 'Eh znali smo da ako nešto ufabrikamo da će nas još doma spraskat odzgor. ',\n",
       " '#',\n",
       " 'eh',\n",
       " '((breath))',\n",
       " 'Ali, mi smo tek to znali, to nas ni brigalo, steši smo se razvili puno',\n",
       " '#',\n",
       " 'puno slobodniji, forši bolje smo pensali, forši se sad znamo snać',\n",
       " '((breath))',\n",
       " 'malo boje.',\n",
       " '((breath))',\n",
       " 'Onda, ča ja znan, u djetinjstvu isto tako nan je bilo jako lepo kantat',\n",
       " '#',\n",
       " 'uz jenega',\n",
       " '((breath))',\n",
       " 'našega orguljaša koji nas je ženske okupi oko mmm oko crekve tako reć, pa smo/ nan je u stvari hobi,',\n",
       " '((breath))',\n",
       " 'ili ja vajk rečen izvannastavne aktivnosti su nan bile poć eh h maše i molit krunicu',\n",
       " '((breath))',\n",
       " 'eh eh u peten mesecu i u šesten i u deseten i pole, ',\n",
       " '#',\n",
       " 'obavezno',\n",
       " '#',\n",
       " 'mmm kantana maša. ',\n",
       " '((smack, breath))',\n",
       " 'To je/ to je to.',\n",
       " 'Ča se ti/',\n",
       " 'eh',\n",
       " 'znači',\n",
       " 'rodila',\n",
       " 'san',\n",
       " 'se',\n",
       " 'u',\n",
       " 'Trvižu',\n",
       " 'eh',\n",
       " 'jenen',\n",
       " 'eh',\n",
       " 'mestu',\n",
       " 'srednjovjekovnen',\n",
       " 'gradiću',\n",
       " 'eh',\n",
       " 'blizu',\n",
       " 'Pazina',\n",
       " 'eh',\n",
       " 'živila',\n",
       " 'san',\n",
       " 'z',\n",
       " 'mamon',\n",
       " 'i',\n",
       " 'z',\n",
       " 'ćaćon',\n",
       " 'z',\n",
       " 'nonićima',\n",
       " 'i',\n",
       " 'z',\n",
       " 'braton',\n",
       " 'i',\n",
       " 'sestron',\n",
       " 'eh',\n",
       " 'djet',\n",
       " 'za',\n",
       " 'eh',\n",
       " 'djetinstvo',\n",
       " 'me',\n",
       " 'vežu',\n",
       " 'jako',\n",
       " 'lepe',\n",
       " 'uspomene',\n",
       " 'eh',\n",
       " 'najviše',\n",
       " 'mmm',\n",
       " 'bezbrižna',\n",
       " 'igra',\n",
       " 'sa',\n",
       " 'svojin',\n",
       " 'susedima',\n",
       " 'eh',\n",
       " 'koji',\n",
       " 'su',\n",
       " 'mi',\n",
       " 'eh',\n",
       " 'dan',\n",
       " 'danas',\n",
       " 'neki',\n",
       " 'ustali',\n",
       " 'i',\n",
       " 'preteli',\n",
       " 'eh',\n",
       " 'najlepče',\n",
       " 'iz',\n",
       " 'djetinjstva',\n",
       " 'eh',\n",
       " 'su',\n",
       " 'raznorazne',\n",
       " 'eh',\n",
       " 'n',\n",
       " 'ne',\n",
       " 'znan',\n",
       " 'igre',\n",
       " 'vezane',\n",
       " 'za',\n",
       " 'ne',\n",
       " 'znan',\n",
       " 'igrali',\n",
       " 'smo',\n",
       " 'se',\n",
       " 'na',\n",
       " 'primjer',\n",
       " 'eh',\n",
       " 'restorana',\n",
       " 'pa',\n",
       " 'smo',\n",
       " 'si',\n",
       " 'stavili',\n",
       " 'mmm',\n",
       " 'van',\n",
       " 'sve',\n",
       " 'eh',\n",
       " 'kalotine',\n",
       " 'i',\n",
       " 'jena',\n",
       " 'kalotina',\n",
       " 'malo',\n",
       " 'veća',\n",
       " 'nan',\n",
       " 'je',\n",
       " 'bila',\n",
       " 'kako',\n",
       " 'miza',\n",
       " 'a',\n",
       " 'sve',\n",
       " 'okolo',\n",
       " 'su',\n",
       " 'bili',\n",
       " 'eh',\n",
       " 'karege',\n",
       " 'eh',\n",
       " 'onda',\n",
       " 'smo',\n",
       " 'se',\n",
       " 'igrali',\n",
       " 'eh',\n",
       " 'z',\n",
       " 'muškema',\n",
       " 'smo',\n",
       " 'se',\n",
       " 's',\n",
       " 'obziron',\n",
       " 'da',\n",
       " 'ni',\n",
       " 'bilo',\n",
       " 'još',\n",
       " 'preveć',\n",
       " 'igračkah',\n",
       " 'ki',\n",
       " 'je',\n",
       " 'ča',\n",
       " 'ima',\n",
       " 'to',\n",
       " 'smo',\n",
       " 'se',\n",
       " 'igrali',\n",
       " 'z',\n",
       " 'muškema',\n",
       " 'smo',\n",
       " 'se',\n",
       " 'igrali',\n",
       " 'z',\n",
       " 'veturicama',\n",
       " 'u',\n",
       " 'sablonu',\n",
       " 'eh',\n",
       " 'najveć',\n",
       " 'smo',\n",
       " 'delali',\n",
       " 'kućice',\n",
       " 'na',\n",
       " 'drevu',\n",
       " 'eh',\n",
       " 'a',\n",
       " 'navečer',\n",
       " 'bimo',\n",
       " 'eh',\n",
       " 'ne',\n",
       " 'znan',\n",
       " 'se',\n",
       " 'igrali',\n",
       " 'eh',\n",
       " 'skrivača',\n",
       " 'ili',\n",
       " 'eh',\n",
       " 'plan',\n",
       " 'plan',\n",
       " 'grada',\n",
       " 'pa',\n",
       " 'smo',\n",
       " 'se',\n",
       " 'išćali',\n",
       " 'puno',\n",
       " 'dišpetah',\n",
       " 'smo',\n",
       " 'delali',\n",
       " 'dobro',\n",
       " 'da',\n",
       " 'nismo',\n",
       " 'veće',\n",
       " 'nesriće',\n",
       " 'napravili',\n",
       " 'tako',\n",
       " 'da',\n",
       " 'smo',\n",
       " 'neke',\n",
       " 'pute',\n",
       " 'anke',\n",
       " 'užali',\n",
       " 'stavit',\n",
       " 'špah',\n",
       " 'po',\n",
       " 'sred',\n",
       " 'česte',\n",
       " 'pa',\n",
       " 'bi',\n",
       " 'se',\n",
       " 'lako',\n",
       " 'ki',\n",
       " 'bi',\n",
       " 'moga',\n",
       " 'i',\n",
       " 'rovinat',\n",
       " 'ma',\n",
       " 'ni',\n",
       " 'hvala',\n",
       " 'bogu',\n",
       " 'za',\n",
       " 'razliku',\n",
       " 'od',\n",
       " 'današnje',\n",
       " 'dice',\n",
       " 'eh',\n",
       " 'koja',\n",
       " 'nimaj/',\n",
       " 'u',\n",
       " 'u',\n",
       " 'u',\n",
       " 'biti',\n",
       " 'eh',\n",
       " 'najlepče',\n",
       " 'nan',\n",
       " 'je',\n",
       " 'bilo',\n",
       " 'to',\n",
       " 'ča',\n",
       " 'smo',\n",
       " 'imali',\n",
       " 'veliku',\n",
       " 'veliku',\n",
       " 'slobodu',\n",
       " 'slobodu',\n",
       " 'eh',\n",
       " 'da',\n",
       " 'nas',\n",
       " 'niki',\n",
       " 'ni',\n",
       " 'kontrolira',\n",
       " 'eh',\n",
       " 'znali',\n",
       " 'smo',\n",
       " 'da',\n",
       " 'ako',\n",
       " 'nešto',\n",
       " 'ufabrikamo',\n",
       " 'da',\n",
       " 'će',\n",
       " 'nas',\n",
       " 'još',\n",
       " 'doma',\n",
       " 'spraskat',\n",
       " 'odozgor',\n",
       " 'eh',\n",
       " 'ali',\n",
       " 'mi',\n",
       " 'smo',\n",
       " 'tek',\n",
       " 'to',\n",
       " 'znali',\n",
       " 'to',\n",
       " 'nas',\n",
       " 'ni',\n",
       " 'brigalo',\n",
       " 'steši',\n",
       " 'smo',\n",
       " 'se',\n",
       " 'razvili',\n",
       " 'puno',\n",
       " 'puno',\n",
       " 'slobodniji',\n",
       " 'forši',\n",
       " 'bolje',\n",
       " 'smo',\n",
       " 'pensali',\n",
       " 'forši',\n",
       " 'se',\n",
       " 'sad',\n",
       " 'znamo',\n",
       " 'snać',\n",
       " 'malo',\n",
       " 'boje',\n",
       " 'onda',\n",
       " 'ča',\n",
       " 'ja',\n",
       " 'znan',\n",
       " 'u',\n",
       " 'djetinjstvu',\n",
       " 'isto',\n",
       " 'tako',\n",
       " 'nan',\n",
       " 'je',\n",
       " 'bilo',\n",
       " 'jako',\n",
       " 'lepo',\n",
       " 'kantat',\n",
       " 'uz',\n",
       " 'jenega',\n",
       " 'našega',\n",
       " 'orguljaša',\n",
       " 'koji',\n",
       " 'nas',\n",
       " 'je',\n",
       " 'ženske',\n",
       " 'okupi',\n",
       " 'oko',\n",
       " 'mmm',\n",
       " 'oko',\n",
       " 'crekve',\n",
       " 'tako',\n",
       " 'reć',\n",
       " 'pa',\n",
       " 'smo',\n",
       " 'nan',\n",
       " 'je',\n",
       " 'u',\n",
       " 'stvari',\n",
       " 'hobi',\n",
       " 'ili',\n",
       " 'ja',\n",
       " 'vajk',\n",
       " 'rečen',\n",
       " 'izvannastavne',\n",
       " 'aktivnosti',\n",
       " 'su',\n",
       " 'nan',\n",
       " 'bile',\n",
       " 'poć',\n",
       " 'eh',\n",
       " 'h',\n",
       " 'maše',\n",
       " 'i',\n",
       " 'molit',\n",
       " 'krunitsu',\n",
       " 'eh',\n",
       " 'eh',\n",
       " 'u',\n",
       " 'peten',\n",
       " 'mesecu',\n",
       " 'i',\n",
       " 'u',\n",
       " 'šesten',\n",
       " 'i',\n",
       " 'u',\n",
       " 'deseten',\n",
       " 'i',\n",
       " 'pole',\n",
       " 'obavezno',\n",
       " 'mmm',\n",
       " 'kantana',\n",
       " 'maša',\n",
       " 'to',\n",
       " 'je',\n",
       " 'to',\n",
       " 'je',\n",
       " 'to',\n",
       " 'ča',\n",
       " 'se',\n",
       " 'ti']"
      ]
     },
     "execution_count": 101,
     "metadata": {},
     "output_type": "execute_result"
    }
   ],
   "source": [
    "text_list"
   ]
  },
  {
   "cell_type": "code",
   "execution_count": 70,
   "id": "56016988",
   "metadata": {},
   "outputs": [
    {
     "data": {
      "text/plain": [
       "['0.15501157354729225',\n",
       " '0.4565837554210365',\n",
       " '1.6591264392679879',\n",
       " '4.0680000000000005',\n",
       " '6.757714183739773',\n",
       " '8.268',\n",
       " '8.702693758158777',\n",
       " '10.140974854716701',\n",
       " '10.717606569160443',\n",
       " '13.978445489414868',\n",
       " '14.399798685681171',\n",
       " '19.16046588854061',\n",
       " '19.64538946588915',\n",
       " '20.97977170177058',\n",
       " '21.297336347834598',\n",
       " '174.35871382654966',\n",
       " '0.15466778067477682',\n",
       " '1.6591264392679879',\n",
       " '2.02',\n",
       " '2.629858164114918',\n",
       " '3.21',\n",
       " '6.757714183739773',\n",
       " '6.829680272596008',\n",
       " '7.13',\n",
       " '7.202426574390077',\n",
       " '7.35',\n",
       " '7.42',\n",
       " '7.62',\n",
       " '8.7',\n",
       " '9.605663174689946',\n",
       " '10.717606569160443',\n",
       " '10.88',\n",
       " '11.08',\n",
       " '11.577772678823054',\n",
       " '11.75',\n",
       " '12.03',\n",
       " '12.13',\n",
       " '12.58',\n",
       " '13.23',\n",
       " '13.36',\n",
       " '14.4',\n",
       " '15.05940058127816',\n",
       " '15.573666614448168',\n",
       " '16.123121991271166',\n",
       " '16.53',\n",
       " '16.82588166339572',\n",
       " '16.87',\n",
       " '17.26',\n",
       " '17.3',\n",
       " '17.6',\n",
       " '17.91',\n",
       " '18.09',\n",
       " '18.58',\n",
       " '18.92',\n",
       " '19.64538946588915',\n",
       " '19.87',\n",
       " '20.038347157421605',\n",
       " '20.12',\n",
       " '21.297336347834598',\n",
       " '21.38',\n",
       " '21.64',\n",
       " '21.96',\n",
       " '22.08',\n",
       " '22.22',\n",
       " '22.854507775061787',\n",
       " '23.122516839336825',\n",
       " '24.580545840087034',\n",
       " '25.427999999999997',\n",
       " '27.332',\n",
       " '27.945023856928884',\n",
       " '29.615710632803108',\n",
       " '31.214398649517857',\n",
       " '31.428012278345093',\n",
       " '32.600344778100215',\n",
       " '33.450780141586755',\n",
       " '38.578155072193795',\n",
       " '38.949962492442516',\n",
       " '40.559877142794036',\n",
       " '41.110235523210896',\n",
       " '44.16052594701246',\n",
       " '49.56813225392685',\n",
       " '50.049048498505805',\n",
       " '54.179342950736405',\n",
       " '55.028523563789115',\n",
       " '63.829777822292215',\n",
       " '64.7710855833296',\n",
       " '69.29035811682138',\n",
       " '69.92443188149231',\n",
       " '76.89548202602823',\n",
       " '77.364',\n",
       " '80.02955216521043',\n",
       " '80.22970004312818',\n",
       " '87.57834712018054',\n",
       " '88.33956160978309',\n",
       " '90.6201774726709',\n",
       " '91.52724523012054',\n",
       " '98.10489780538293',\n",
       " '98.6200836160839',\n",
       " '103.65075890507602',\n",
       " '104.41063452073729',\n",
       " '108.41019472825145',\n",
       " '108.90946209786746',\n",
       " '110.77951211236412',\n",
       " '111.22958574743326',\n",
       " '117.70867860430964',\n",
       " '118.15965524297265',\n",
       " '123.15791548189041',\n",
       " '123.87600000000002',\n",
       " '127.11067762725716',\n",
       " '127.44423473751145',\n",
       " '130.172',\n",
       " '130.55709921393643',\n",
       " '135.36003989808157',\n",
       " '135.74',\n",
       " '136.44400000000002',\n",
       " '136.79126480019588',\n",
       " '141.08111165534436',\n",
       " '141.69199999999998',\n",
       " '145.31287638130252',\n",
       " '145.73203712607125',\n",
       " '146.3715854995052',\n",
       " '146.7458666498671',\n",
       " '150.70042759056082',\n",
       " '151.15',\n",
       " '151.87599999999998',\n",
       " '152.21090345474462',\n",
       " '159.0191579741178',\n",
       " '159.38165170634525',\n",
       " '164.5199957559522',\n",
       " '164.95862391467207',\n",
       " '169.29999999999998',\n",
       " '169.79264609046936',\n",
       " '170.7',\n",
       " '171.03767312880333',\n",
       " '172.23518866562057',\n",
       " '173.46322519566095',\n",
       " '174.35871382654966',\n",
       " '24.58',\n",
       " '25.4277475833768',\n",
       " '25.89',\n",
       " '26.21338203157837',\n",
       " '26.39552523351161',\n",
       " '26.54',\n",
       " '26.613708137821778',\n",
       " '27.945486648925918',\n",
       " '28.100842015345727',\n",
       " '28.54461458760854',\n",
       " '29.05',\n",
       " '29.615710632803108',\n",
       " '30.59',\n",
       " '31.428012278345093',\n",
       " '31.63020271846499',\n",
       " '31.96',\n",
       " '33.45',\n",
       " '33.72',\n",
       " '34.282028962237405',\n",
       " '34.605',\n",
       " '34.86159347231124',\n",
       " '35.18',\n",
       " '35.243266037529985',\n",
       " '35.38',\n",
       " '36.12',\n",
       " '36.32',\n",
       " '37.19',\n",
       " '37.24',\n",
       " '37.34',\n",
       " '37.71',\n",
       " '37.782475594999845',\n",
       " '38.95',\n",
       " '39.37',\n",
       " '39.71',\n",
       " '41.11',\n",
       " '41.33413002187474',\n",
       " '41.92513899973793',\n",
       " '42.16',\n",
       " '42.490586840751206',\n",
       " '42.77',\n",
       " '43.080256944673096',\n",
       " '44.16',\n",
       " '45.24458935747167',\n",
       " '46.34',\n",
       " '46.95',\n",
       " '47.78281351121067',\n",
       " '48.34',\n",
       " '48.45',\n",
       " '48.771112769190424',\n",
       " '50.05',\n",
       " '50.21',\n",
       " '50.48068548812531',\n",
       " '50.71',\n",
       " '51.137752405420514',\n",
       " '51.89077410785734',\n",
       " '52.14322657828953',\n",
       " '52.823158737890225',\n",
       " '53.10978213779465',\n",
       " '53.47',\n",
       " '53.51',\n",
       " '55.03',\n",
       " '55.87595705195208',\n",
       " '57.074993007427864',\n",
       " '57.13096663209382',\n",
       " '58.17334465969475',\n",
       " '58.42812522714113',\n",
       " '58.59',\n",
       " '59.750372077138266',\n",
       " '60.3',\n",
       " '60.97887475662993',\n",
       " '61.13080316643753',\n",
       " '61.801891248563706',\n",
       " '62.56',\n",
       " '63.16',\n",
       " '64.7710855833296',\n",
       " '64.96',\n",
       " '65.18',\n",
       " '65.53',\n",
       " '65.8',\n",
       " '66.00668901080749',\n",
       " '66.17',\n",
       " '67.01',\n",
       " '67.20799633588612',\n",
       " '68.06',\n",
       " '68.22178007923246',\n",
       " '68.42',\n",
       " '68.59',\n",
       " '69.9246954400135',\n",
       " '70.44559284506815',\n",
       " '70.78',\n",
       " '71.49077185158335',\n",
       " '71.7352280899204',\n",
       " '72.83',\n",
       " '73.01',\n",
       " '73.35',\n",
       " '73.8',\n",
       " '74.03',\n",
       " '74.27',\n",
       " '74.43',\n",
       " '74.51',\n",
       " '74.79237522907913',\n",
       " '75.05510856934791',\n",
       " '75.61307007171881',\n",
       " '75.84610312134852',\n",
       " '76.06211817122882',\n",
       " '76.34679537721607',\n",
       " '76.53748939255948',\n",
       " '77.36430854676334',\n",
       " '79.23',\n",
       " '80.23026868971154',\n",
       " '80.77653067654553',\n",
       " '81.27229706644404',\n",
       " '81.5235644577992',\n",
       " '81.87996794546817',\n",
       " '82.72',\n",
       " '82.84081191061964',\n",
       " '82.9276281447954',\n",
       " '83.34228989487181',\n",
       " '83.56',\n",
       " '83.94',\n",
       " '84.04',\n",
       " '84.49',\n",
       " '84.58',\n",
       " '84.72',\n",
       " '84.94200344714567',\n",
       " '85.3',\n",
       " '85.64',\n",
       " '86.15301524498784',\n",
       " '86.29',\n",
       " '86.4',\n",
       " '86.55',\n",
       " '86.77',\n",
       " '86.86',\n",
       " '87.035',\n",
       " '87.14974397703213',\n",
       " '88.34',\n",
       " '88.44',\n",
       " '88.81590857887912',\n",
       " '88.96',\n",
       " '89.1',\n",
       " '89.34',\n",
       " '89.4',\n",
       " '89.98',\n",
       " '90.02',\n",
       " '91.5271786560336',\n",
       " '91.90740505591882',\n",
       " '92.33',\n",
       " '92.52',\n",
       " '92.93',\n",
       " '93.45',\n",
       " '93.58',\n",
       " '94.49754608067161',\n",
       " '94.89050377220406',\n",
       " '94.9727507308969',\n",
       " '95.63899321071061',\n",
       " '96.12676336851398',\n",
       " '96.66455624135278',\n",
       " '96.83933102857506',\n",
       " '97.45326615561191',\n",
       " '97.68',\n",
       " '98.62',\n",
       " '98.85575165338993',\n",
       " '99.67',\n",
       " '100.26867756452248',\n",
       " '101.09000483258014',\n",
       " '101.86',\n",
       " '102.15',\n",
       " '102.49',\n",
       " '102.59',\n",
       " '102.79',\n",
       " '102.95',\n",
       " '104.41',\n",
       " '104.71',\n",
       " '105.275',\n",
       " '105.45',\n",
       " '106.18256189566246',\n",
       " '106.41',\n",
       " '106.54',\n",
       " '106.85',\n",
       " '107.08',\n",
       " '107.56',\n",
       " '108.91',\n",
       " '109.14',\n",
       " '109.24',\n",
       " '109.44',\n",
       " '109.74',\n",
       " '110.04',\n",
       " '110.37099782698884',\n",
       " '111.22958574743326',\n",
       " '111.66',\n",
       " '112.42',\n",
       " '112.5',\n",
       " '112.78',\n",
       " '113.28',\n",
       " '113.68',\n",
       " '113.79132259528198',\n",
       " '113.94',\n",
       " '114.22',\n",
       " '114.48',\n",
       " '114.61',\n",
       " '115.00166495615352',\n",
       " '116.18',\n",
       " '116.69',\n",
       " '116.79',\n",
       " '116.96',\n",
       " '117.22',\n",
       " '118.16',\n",
       " '118.37',\n",
       " '118.77662421648054',\n",
       " '118.86',\n",
       " '119.40950588241978',\n",
       " '120.36310282420568',\n",
       " '120.94040397562009',\n",
       " '121.68',\n",
       " '122.17079857623015',\n",
       " '122.4152914326018',\n",
       " '122.50781926113125',\n",
       " '122.62547810481684',\n",
       " '122.91231692468263',\n",
       " '123.87650807468732',\n",
       " '124.3536843194105',\n",
       " '124.4313620026204',\n",
       " '124.51360896131324',\n",
       " '124.74',\n",
       " '124.87',\n",
       " '124.96',\n",
       " '125.14246796163636',\n",
       " '125.63',\n",
       " '126.16',\n",
       " '126.52',\n",
       " '127.44423473751145',\n",
       " '128.3523354795386',\n",
       " '128.6459114293172',\n",
       " '128.74',\n",
       " '128.94',\n",
       " '129.19',\n",
       " '129.33',\n",
       " '130.55759481661303',\n",
       " '130.92746681545393',\n",
       " '131.24274682377649',\n",
       " '131.500315474697',\n",
       " '131.7264946111023',\n",
       " '132.05091317039071',\n",
       " '132.51012535642573',\n",
       " '133.16967346653297',\n",
       " '133.2827630347356',\n",
       " '133.42',\n",
       " '133.63',\n",
       " '133.77',\n",
       " '134.02',\n",
       " '134.6876129420141',\n",
       " '135.74',\n",
       " '136.79250776198185',\n",
       " '136.97362082032214',\n",
       " '137.14382633206148',\n",
       " '137.34',\n",
       " '137.54',\n",
       " '137.69',\n",
       " '138.09',\n",
       " '138.24',\n",
       " '138.4215655063063',\n",
       " '138.55',\n",
       " '139.05',\n",
       " '139.4350359112705',\n",
       " '139.71',\n",
       " '140.06098389222635',\n",
       " '140.61',\n",
       " '141.69193316415112',\n",
       " '141.9032621552369',\n",
       " '142.58242624121718',\n",
       " '142.92',\n",
       " '143.17',\n",
       " '143.37',\n",
       " '143.91',\n",
       " '144.11383997652388',\n",
       " '144.27',\n",
       " '144.5',\n",
       " '144.86886998987268',\n",
       " '145.73',\n",
       " '146.07',\n",
       " '146.74636358280546',\n",
       " '147.52',\n",
       " '147.7776382078013',\n",
       " '147.86',\n",
       " '148.06',\n",
       " '148.1',\n",
       " '148.61912835673738',\n",
       " '148.84',\n",
       " '149.11',\n",
       " '149.28',\n",
       " '149.35',\n",
       " '149.52750542559403',\n",
       " '149.81536978101894',\n",
       " '150.04',\n",
       " '151.15',\n",
       " '151.33',\n",
       " '152.21',\n",
       " '152.56',\n",
       " '153.2',\n",
       " '153.39',\n",
       " '153.6977810383003',\n",
       " '153.87940973874697',\n",
       " '154.3888839550943',\n",
       " '154.85900368773025',\n",
       " '155.1034599260673',\n",
       " '155.94416385472113',\n",
       " '156.17376994773863',\n",
       " '156.67',\n",
       " '156.88',\n",
       " '157.2048480176639',\n",
       " '157.37824117073856',\n",
       " '157.63',\n",
       " '157.85',\n",
       " '158.03',\n",
       " '158.08',\n",
       " '158.41',\n",
       " '159.38241537501116',\n",
       " '159.63',\n",
       " '159.75',\n",
       " '159.91',\n",
       " '160.27',\n",
       " '161.18',\n",
       " '161.7',\n",
       " '161.84',\n",
       " '162',\n",
       " '162.29',\n",
       " '162.63',\n",
       " '163',\n",
       " '163.18',\n",
       " '163.59',\n",
       " '163.63',\n",
       " '163.905',\n",
       " '164.9582103319666',\n",
       " '165.1341274380596',\n",
       " '165.58648571087025',\n",
       " '165.74641035277298',\n",
       " '166.14',\n",
       " '167.0242663103294',\n",
       " '167.1',\n",
       " '167.15791761820526',\n",
       " '167.76',\n",
       " '167.84',\n",
       " '167.88',\n",
       " '168.57',\n",
       " '168.65190540895358',\n",
       " '169.79264609046936',\n",
       " '171.03658858049218',\n",
       " '171.34',\n",
       " '171.7943761134825',\n",
       " '173.46388790018278',\n",
       " '173.61172664885635',\n",
       " '173.79906694365673',\n",
       " '173.9669878176546',\n",
       " '174.03209999328644',\n",
       " '174.35836058752008',\n",
       " '174.65',\n",
       " '174.79358407726968']"
      ]
     },
     "execution_count": 70,
     "metadata": {},
     "output_type": "execute_result"
    }
   ],
   "source": [
    "xmin_list"
   ]
  },
  {
   "cell_type": "code",
   "execution_count": 102,
   "id": "79d1e6de",
   "metadata": {
    "scrolled": true
   },
   "outputs": [
    {
     "data": {
      "text/plain": [
       "494"
      ]
     },
     "execution_count": 102,
     "metadata": {},
     "output_type": "execute_result"
    }
   ],
   "source": [
    "len(text_list)"
   ]
  },
  {
   "cell_type": "code",
   "execution_count": 103,
   "id": "dfe808f7",
   "metadata": {},
   "outputs": [
    {
     "data": {
      "text/plain": [
       "494"
      ]
     },
     "execution_count": 103,
     "metadata": {},
     "output_type": "execute_result"
    }
   ],
   "source": [
    "len(xmin_list)"
   ]
  },
  {
   "cell_type": "code",
   "execution_count": 104,
   "id": "47443010",
   "metadata": {},
   "outputs": [
    {
     "data": {
      "text/plain": [
       "494"
      ]
     },
     "execution_count": 104,
     "metadata": {},
     "output_type": "execute_result"
    }
   ],
   "source": [
    "len(xmax_list)"
   ]
  },
  {
   "cell_type": "code",
   "execution_count": 81,
   "id": "4164d02c",
   "metadata": {},
   "outputs": [
    {
     "data": {
      "text/plain": [
       "494"
      ]
     },
     "execution_count": 81,
     "metadata": {},
     "output_type": "execute_result"
    }
   ],
   "source": [
    "len(get_interval(df['xmin'].tolist()))"
   ]
  },
  {
   "cell_type": "code",
   "execution_count": 105,
   "id": "ba4c5c73",
   "metadata": {},
   "outputs": [
    {
     "data": {
      "text/html": [
       "<div>\n",
       "<style scoped>\n",
       "    .dataframe tbody tr th:only-of-type {\n",
       "        vertical-align: middle;\n",
       "    }\n",
       "\n",
       "    .dataframe tbody tr th {\n",
       "        vertical-align: top;\n",
       "    }\n",
       "\n",
       "    .dataframe thead th {\n",
       "        text-align: right;\n",
       "    }\n",
       "</style>\n",
       "<table border=\"1\" class=\"dataframe\">\n",
       "  <thead>\n",
       "    <tr style=\"text-align: right;\">\n",
       "      <th></th>\n",
       "      <th>text</th>\n",
       "      <th>xmin</th>\n",
       "      <th>xmax</th>\n",
       "      <th>interval</th>\n",
       "    </tr>\n",
       "  </thead>\n",
       "  <tbody>\n",
       "    <tr>\n",
       "      <th>0</th>\n",
       "      <td>Dobro.</td>\n",
       "      <td>0.155012</td>\n",
       "      <td>0.456584</td>\n",
       "      <td>2</td>\n",
       "    </tr>\n",
       "    <tr>\n",
       "      <th>1</th>\n",
       "      <td>((noise, smack))</td>\n",
       "      <td>0.456584</td>\n",
       "      <td>1.659126</td>\n",
       "      <td>3</td>\n",
       "    </tr>\n",
       "    <tr>\n",
       "      <th>2</th>\n",
       "      <td>Onda moremo eh započet.</td>\n",
       "      <td>1.659126</td>\n",
       "      <td>4.068000</td>\n",
       "      <td>4</td>\n",
       "    </tr>\n",
       "    <tr>\n",
       "      <th>3</th>\n",
       "      <td>((paper rustling))</td>\n",
       "      <td>4.068000</td>\n",
       "      <td>6.757714</td>\n",
       "      <td>5</td>\n",
       "    </tr>\n",
       "    <tr>\n",
       "      <th>4</th>\n",
       "      <td>S obziron da san i ja govornik</td>\n",
       "      <td>6.757714</td>\n",
       "      <td>8.268000</td>\n",
       "      <td>6</td>\n",
       "    </tr>\n",
       "    <tr>\n",
       "      <th>...</th>\n",
       "      <td>...</td>\n",
       "      <td>...</td>\n",
       "      <td>...</td>\n",
       "      <td>...</td>\n",
       "    </tr>\n",
       "    <tr>\n",
       "      <th>489</th>\n",
       "      <td>je</td>\n",
       "      <td>173.966988</td>\n",
       "      <td>174.032100</td>\n",
       "      <td>414</td>\n",
       "    </tr>\n",
       "    <tr>\n",
       "      <th>490</th>\n",
       "      <td>to</td>\n",
       "      <td>174.032100</td>\n",
       "      <td>174.202306</td>\n",
       "      <td>415</td>\n",
       "    </tr>\n",
       "    <tr>\n",
       "      <th>491</th>\n",
       "      <td>ča</td>\n",
       "      <td>174.358361</td>\n",
       "      <td>174.650000</td>\n",
       "      <td>417</td>\n",
       "    </tr>\n",
       "    <tr>\n",
       "      <th>492</th>\n",
       "      <td>se</td>\n",
       "      <td>174.650000</td>\n",
       "      <td>174.793584</td>\n",
       "      <td>418</td>\n",
       "    </tr>\n",
       "    <tr>\n",
       "      <th>493</th>\n",
       "      <td>ti</td>\n",
       "      <td>174.793584</td>\n",
       "      <td>174.960000</td>\n",
       "      <td>419</td>\n",
       "    </tr>\n",
       "  </tbody>\n",
       "</table>\n",
       "<p>494 rows × 4 columns</p>\n",
       "</div>"
      ],
      "text/plain": [
       "                               text        xmin        xmax  interval\n",
       "0                            Dobro.    0.155012    0.456584         2\n",
       "1                  ((noise, smack))    0.456584    1.659126         3\n",
       "2           Onda moremo eh započet.    1.659126    4.068000         4\n",
       "3                ((paper rustling))    4.068000    6.757714         5\n",
       "4    S obziron da san i ja govornik    6.757714    8.268000         6\n",
       "..                              ...         ...         ...       ...\n",
       "489                              je  173.966988  174.032100       414\n",
       "490                              to  174.032100  174.202306       415\n",
       "491                              ča  174.358361  174.650000       417\n",
       "492                              se  174.650000  174.793584       418\n",
       "493                              ti  174.793584  174.960000       419\n",
       "\n",
       "[494 rows x 4 columns]"
      ]
     },
     "execution_count": 105,
     "metadata": {},
     "output_type": "execute_result"
    }
   ],
   "source": [
    "import pandas as pd\n",
    "\n",
    "xmin_list = [float(item) for item in xmin_list]\n",
    "xmax_list = [float(item) for item in xmax_list]\n",
    "interval_list = [int(item) for item in interval_list]\n",
    "\n",
    "df = pd.DataFrame()\n",
    "df['text'] = text_list\n",
    "df['xmin'] = xmin_list\n",
    "df['xmax'] = xmax_list\n",
    "df['interval'] = interval_list\n",
    "df"
   ]
  },
  {
   "cell_type": "code",
   "execution_count": 106,
   "id": "b8160db4",
   "metadata": {},
   "outputs": [
    {
     "data": {
      "text/plain": [
       "[1,\n",
       " 1,\n",
       " 1,\n",
       " 1,\n",
       " 1,\n",
       " 1,\n",
       " 1,\n",
       " 1,\n",
       " 1,\n",
       " 1,\n",
       " 1,\n",
       " 1,\n",
       " 1,\n",
       " 1,\n",
       " 1,\n",
       " 1,\n",
       " 2,\n",
       " 2,\n",
       " 2,\n",
       " 2,\n",
       " 2,\n",
       " 2,\n",
       " 2,\n",
       " 2,\n",
       " 2,\n",
       " 2,\n",
       " 2,\n",
       " 2,\n",
       " 2,\n",
       " 2,\n",
       " 2,\n",
       " 2,\n",
       " 2,\n",
       " 2,\n",
       " 2,\n",
       " 2,\n",
       " 2,\n",
       " 2,\n",
       " 2,\n",
       " 2,\n",
       " 2,\n",
       " 2,\n",
       " 2,\n",
       " 2,\n",
       " 2,\n",
       " 2,\n",
       " 2,\n",
       " 2,\n",
       " 2,\n",
       " 2,\n",
       " 2,\n",
       " 2,\n",
       " 2,\n",
       " 2,\n",
       " 2,\n",
       " 2,\n",
       " 2,\n",
       " 2,\n",
       " 2,\n",
       " 2,\n",
       " 2,\n",
       " 2,\n",
       " 2,\n",
       " 2,\n",
       " 2,\n",
       " 2,\n",
       " 3,\n",
       " 3,\n",
       " 3,\n",
       " 3,\n",
       " 3,\n",
       " 3,\n",
       " 3,\n",
       " 3,\n",
       " 3,\n",
       " 3,\n",
       " 3,\n",
       " 3,\n",
       " 3,\n",
       " 3,\n",
       " 3,\n",
       " 3,\n",
       " 3,\n",
       " 3,\n",
       " 3,\n",
       " 3,\n",
       " 3,\n",
       " 3,\n",
       " 3,\n",
       " 3,\n",
       " 3,\n",
       " 3,\n",
       " 3,\n",
       " 3,\n",
       " 3,\n",
       " 3,\n",
       " 3,\n",
       " 3,\n",
       " 3,\n",
       " 3,\n",
       " 3,\n",
       " 3,\n",
       " 3,\n",
       " 3,\n",
       " 3,\n",
       " 3,\n",
       " 3,\n",
       " 3,\n",
       " 3,\n",
       " 3,\n",
       " 3,\n",
       " 3,\n",
       " 3,\n",
       " 3,\n",
       " 3,\n",
       " 3,\n",
       " 3,\n",
       " 3,\n",
       " 3,\n",
       " 3,\n",
       " 3,\n",
       " 3,\n",
       " 3,\n",
       " 3,\n",
       " 3,\n",
       " 3,\n",
       " 3,\n",
       " 3,\n",
       " 3,\n",
       " 3,\n",
       " 3,\n",
       " 3,\n",
       " 3,\n",
       " 3,\n",
       " 3,\n",
       " 3,\n",
       " 3,\n",
       " 4,\n",
       " 4,\n",
       " 4,\n",
       " 4,\n",
       " 4,\n",
       " 4,\n",
       " 4,\n",
       " 4,\n",
       " 4,\n",
       " 4,\n",
       " 4,\n",
       " 4,\n",
       " 4,\n",
       " 4,\n",
       " 4,\n",
       " 4,\n",
       " 4,\n",
       " 4,\n",
       " 4,\n",
       " 4,\n",
       " 4,\n",
       " 4,\n",
       " 4,\n",
       " 4,\n",
       " 4,\n",
       " 4,\n",
       " 4,\n",
       " 4,\n",
       " 4,\n",
       " 4,\n",
       " 4,\n",
       " 4,\n",
       " 4,\n",
       " 4,\n",
       " 4,\n",
       " 4,\n",
       " 4,\n",
       " 4,\n",
       " 4,\n",
       " 4,\n",
       " 4,\n",
       " 4,\n",
       " 4,\n",
       " 4,\n",
       " 4,\n",
       " 4,\n",
       " 4,\n",
       " 4,\n",
       " 4,\n",
       " 4,\n",
       " 4,\n",
       " 4,\n",
       " 4,\n",
       " 4,\n",
       " 4,\n",
       " 4,\n",
       " 4,\n",
       " 4,\n",
       " 4,\n",
       " 4,\n",
       " 4,\n",
       " 4,\n",
       " 4,\n",
       " 4,\n",
       " 4,\n",
       " 4,\n",
       " 4,\n",
       " 4,\n",
       " 4,\n",
       " 4,\n",
       " 4,\n",
       " 4,\n",
       " 4,\n",
       " 4,\n",
       " 4,\n",
       " 4,\n",
       " 4,\n",
       " 4,\n",
       " 4,\n",
       " 4,\n",
       " 4,\n",
       " 4,\n",
       " 4,\n",
       " 4,\n",
       " 4,\n",
       " 4,\n",
       " 4,\n",
       " 4,\n",
       " 4,\n",
       " 4,\n",
       " 4,\n",
       " 4,\n",
       " 4,\n",
       " 4,\n",
       " 4,\n",
       " 4,\n",
       " 4,\n",
       " 4,\n",
       " 4,\n",
       " 4,\n",
       " 4,\n",
       " 4,\n",
       " 4,\n",
       " 4,\n",
       " 4,\n",
       " 4,\n",
       " 4,\n",
       " 4,\n",
       " 4,\n",
       " 4,\n",
       " 4,\n",
       " 4,\n",
       " 4,\n",
       " 4,\n",
       " 4,\n",
       " 4,\n",
       " 4,\n",
       " 4,\n",
       " 4,\n",
       " 4,\n",
       " 4,\n",
       " 4,\n",
       " 4,\n",
       " 4,\n",
       " 4,\n",
       " 4,\n",
       " 4,\n",
       " 4,\n",
       " 4,\n",
       " 4,\n",
       " 4,\n",
       " 4,\n",
       " 4,\n",
       " 4,\n",
       " 4,\n",
       " 4,\n",
       " 4,\n",
       " 4,\n",
       " 4,\n",
       " 4,\n",
       " 4,\n",
       " 4,\n",
       " 4,\n",
       " 4,\n",
       " 4,\n",
       " 4,\n",
       " 4,\n",
       " 4,\n",
       " 4,\n",
       " 4,\n",
       " 4,\n",
       " 4,\n",
       " 4,\n",
       " 4,\n",
       " 4,\n",
       " 4,\n",
       " 4,\n",
       " 4,\n",
       " 4,\n",
       " 4,\n",
       " 4,\n",
       " 4,\n",
       " 4,\n",
       " 4,\n",
       " 4,\n",
       " 4,\n",
       " 4,\n",
       " 4,\n",
       " 4,\n",
       " 4,\n",
       " 4,\n",
       " 4,\n",
       " 4,\n",
       " 4,\n",
       " 4,\n",
       " 4,\n",
       " 4,\n",
       " 4,\n",
       " 4,\n",
       " 4,\n",
       " 4,\n",
       " 4,\n",
       " 4,\n",
       " 4,\n",
       " 4,\n",
       " 4,\n",
       " 4,\n",
       " 4,\n",
       " 4,\n",
       " 4,\n",
       " 4,\n",
       " 4,\n",
       " 4,\n",
       " 4,\n",
       " 4,\n",
       " 4,\n",
       " 4,\n",
       " 4,\n",
       " 4,\n",
       " 4,\n",
       " 4,\n",
       " 4,\n",
       " 4,\n",
       " 4,\n",
       " 4,\n",
       " 4,\n",
       " 4,\n",
       " 4,\n",
       " 4,\n",
       " 4,\n",
       " 4,\n",
       " 4,\n",
       " 4,\n",
       " 4,\n",
       " 4,\n",
       " 4,\n",
       " 4,\n",
       " 4,\n",
       " 4,\n",
       " 4,\n",
       " 4,\n",
       " 4,\n",
       " 4,\n",
       " 4,\n",
       " 4,\n",
       " 4,\n",
       " 4,\n",
       " 4,\n",
       " 4,\n",
       " 4,\n",
       " 4,\n",
       " 4,\n",
       " 4,\n",
       " 4,\n",
       " 4,\n",
       " 4,\n",
       " 4,\n",
       " 4,\n",
       " 4,\n",
       " 4,\n",
       " 4,\n",
       " 4,\n",
       " 4,\n",
       " 4,\n",
       " 4,\n",
       " 4,\n",
       " 4,\n",
       " 4,\n",
       " 4,\n",
       " 4,\n",
       " 4,\n",
       " 4,\n",
       " 4,\n",
       " 4,\n",
       " 4,\n",
       " 4,\n",
       " 4,\n",
       " 4,\n",
       " 4,\n",
       " 4,\n",
       " 4,\n",
       " 4,\n",
       " 4,\n",
       " 4,\n",
       " 4,\n",
       " 4,\n",
       " 4,\n",
       " 4,\n",
       " 4,\n",
       " 4,\n",
       " 4,\n",
       " 4,\n",
       " 4,\n",
       " 4,\n",
       " 4,\n",
       " 4,\n",
       " 4,\n",
       " 4,\n",
       " 4,\n",
       " 4,\n",
       " 4,\n",
       " 4,\n",
       " 4,\n",
       " 4,\n",
       " 4,\n",
       " 4,\n",
       " 4,\n",
       " 4,\n",
       " 4,\n",
       " 4,\n",
       " 4,\n",
       " 4,\n",
       " 4,\n",
       " 4,\n",
       " 4,\n",
       " 4,\n",
       " 4,\n",
       " 4,\n",
       " 4,\n",
       " 4,\n",
       " 4,\n",
       " 4,\n",
       " 4,\n",
       " 4,\n",
       " 4,\n",
       " 4,\n",
       " 4,\n",
       " 4,\n",
       " 4,\n",
       " 4,\n",
       " 4,\n",
       " 4,\n",
       " 4,\n",
       " 4,\n",
       " 4,\n",
       " 4,\n",
       " 4,\n",
       " 4,\n",
       " 4,\n",
       " 4,\n",
       " 4,\n",
       " 4,\n",
       " 4,\n",
       " 4,\n",
       " 4,\n",
       " 4,\n",
       " 4,\n",
       " 4,\n",
       " 4,\n",
       " 4,\n",
       " 4,\n",
       " 4,\n",
       " 4,\n",
       " 4,\n",
       " 4,\n",
       " 4,\n",
       " 4,\n",
       " 4,\n",
       " 4,\n",
       " 4,\n",
       " 4,\n",
       " 4,\n",
       " 4,\n",
       " 4,\n",
       " 4,\n",
       " 4,\n",
       " 4,\n",
       " 4,\n",
       " 4,\n",
       " 4,\n",
       " 4,\n",
       " 4,\n",
       " 4,\n",
       " 4,\n",
       " 4,\n",
       " 4,\n",
       " 4]"
      ]
     },
     "execution_count": 106,
     "metadata": {},
     "output_type": "execute_result"
    }
   ],
   "source": [
    "def get_interval(time_list):\n",
    "    interval_all = []\n",
    "    interval_curr = 1\n",
    "    for i in range(len(time_list)):\n",
    "        if i == 0:\n",
    "            interval_all.append(1)\n",
    "        else:\n",
    "            if time_list[i] > time_list[i - 1]:\n",
    "                interval_all.append(interval_curr)\n",
    "                continue\n",
    "            else:\n",
    "                interval_curr = interval_curr + 1\n",
    "                interval_all.append(interval_curr)\n",
    "    return interval_all\n",
    "get_interval(df['interval'].tolist())"
   ]
  },
  {
   "cell_type": "code",
   "execution_count": 108,
   "id": "e7757063",
   "metadata": {},
   "outputs": [
    {
     "data": {
      "text/html": [
       "<div>\n",
       "<style scoped>\n",
       "    .dataframe tbody tr th:only-of-type {\n",
       "        vertical-align: middle;\n",
       "    }\n",
       "\n",
       "    .dataframe tbody tr th {\n",
       "        vertical-align: top;\n",
       "    }\n",
       "\n",
       "    .dataframe thead th {\n",
       "        text-align: right;\n",
       "    }\n",
       "</style>\n",
       "<table border=\"1\" class=\"dataframe\">\n",
       "  <thead>\n",
       "    <tr style=\"text-align: right;\">\n",
       "      <th></th>\n",
       "      <th>text</th>\n",
       "      <th>xmin</th>\n",
       "      <th>xmax</th>\n",
       "      <th>interval</th>\n",
       "      <th>tier</th>\n",
       "    </tr>\n",
       "  </thead>\n",
       "  <tbody>\n",
       "    <tr>\n",
       "      <th>0</th>\n",
       "      <td>Dobro.</td>\n",
       "      <td>0.155012</td>\n",
       "      <td>0.456584</td>\n",
       "      <td>2</td>\n",
       "      <td>1</td>\n",
       "    </tr>\n",
       "    <tr>\n",
       "      <th>1</th>\n",
       "      <td>((noise, smack))</td>\n",
       "      <td>0.456584</td>\n",
       "      <td>1.659126</td>\n",
       "      <td>3</td>\n",
       "      <td>1</td>\n",
       "    </tr>\n",
       "    <tr>\n",
       "      <th>2</th>\n",
       "      <td>Onda moremo eh započet.</td>\n",
       "      <td>1.659126</td>\n",
       "      <td>4.068000</td>\n",
       "      <td>4</td>\n",
       "      <td>1</td>\n",
       "    </tr>\n",
       "    <tr>\n",
       "      <th>3</th>\n",
       "      <td>((paper rustling))</td>\n",
       "      <td>4.068000</td>\n",
       "      <td>6.757714</td>\n",
       "      <td>5</td>\n",
       "      <td>1</td>\n",
       "    </tr>\n",
       "    <tr>\n",
       "      <th>4</th>\n",
       "      <td>S obziron da san i ja govornik</td>\n",
       "      <td>6.757714</td>\n",
       "      <td>8.268000</td>\n",
       "      <td>6</td>\n",
       "      <td>1</td>\n",
       "    </tr>\n",
       "    <tr>\n",
       "      <th>...</th>\n",
       "      <td>...</td>\n",
       "      <td>...</td>\n",
       "      <td>...</td>\n",
       "      <td>...</td>\n",
       "      <td>...</td>\n",
       "    </tr>\n",
       "    <tr>\n",
       "      <th>489</th>\n",
       "      <td>je</td>\n",
       "      <td>173.966988</td>\n",
       "      <td>174.032100</td>\n",
       "      <td>414</td>\n",
       "      <td>4</td>\n",
       "    </tr>\n",
       "    <tr>\n",
       "      <th>490</th>\n",
       "      <td>to</td>\n",
       "      <td>174.032100</td>\n",
       "      <td>174.202306</td>\n",
       "      <td>415</td>\n",
       "      <td>4</td>\n",
       "    </tr>\n",
       "    <tr>\n",
       "      <th>491</th>\n",
       "      <td>ča</td>\n",
       "      <td>174.358361</td>\n",
       "      <td>174.650000</td>\n",
       "      <td>417</td>\n",
       "      <td>4</td>\n",
       "    </tr>\n",
       "    <tr>\n",
       "      <th>492</th>\n",
       "      <td>se</td>\n",
       "      <td>174.650000</td>\n",
       "      <td>174.793584</td>\n",
       "      <td>418</td>\n",
       "      <td>4</td>\n",
       "    </tr>\n",
       "    <tr>\n",
       "      <th>493</th>\n",
       "      <td>ti</td>\n",
       "      <td>174.793584</td>\n",
       "      <td>174.960000</td>\n",
       "      <td>419</td>\n",
       "      <td>4</td>\n",
       "    </tr>\n",
       "  </tbody>\n",
       "</table>\n",
       "<p>494 rows × 5 columns</p>\n",
       "</div>"
      ],
      "text/plain": [
       "                               text        xmin        xmax  interval  tier\n",
       "0                            Dobro.    0.155012    0.456584         2     1\n",
       "1                  ((noise, smack))    0.456584    1.659126         3     1\n",
       "2           Onda moremo eh započet.    1.659126    4.068000         4     1\n",
       "3                ((paper rustling))    4.068000    6.757714         5     1\n",
       "4    S obziron da san i ja govornik    6.757714    8.268000         6     1\n",
       "..                              ...         ...         ...       ...   ...\n",
       "489                              je  173.966988  174.032100       414     4\n",
       "490                              to  174.032100  174.202306       415     4\n",
       "491                              ča  174.358361  174.650000       417     4\n",
       "492                              se  174.650000  174.793584       418     4\n",
       "493                              ti  174.793584  174.960000       419     4\n",
       "\n",
       "[494 rows x 5 columns]"
      ]
     },
     "execution_count": 108,
     "metadata": {},
     "output_type": "execute_result"
    }
   ],
   "source": [
    "df['tier'] = get_interval(df['interval'].tolist())\n",
    "df"
   ]
  },
  {
   "cell_type": "code",
   "execution_count": 111,
   "id": "a8384a00",
   "metadata": {},
   "outputs": [
    {
     "data": {
      "text/plain": [
       "0.0"
      ]
     },
     "execution_count": 111,
     "metadata": {},
     "output_type": "execute_result"
    }
   ],
   "source": [
    "import numpy as np\n",
    "np.floor(0.1112)"
   ]
  },
  {
   "cell_type": "code",
   "execution_count": 114,
   "id": "5d6f0e2a",
   "metadata": {},
   "outputs": [
    {
     "data": {
      "text/plain": [
       "1.0"
      ]
     },
     "execution_count": 114,
     "metadata": {},
     "output_type": "execute_result"
    }
   ],
   "source": [
    "np.ceil(0.1112)"
   ]
  },
  {
   "cell_type": "code",
   "execution_count": 116,
   "id": "6bc0fe8a",
   "metadata": {},
   "outputs": [
    {
     "data": {
      "text/html": [
       "<div>\n",
       "<style scoped>\n",
       "    .dataframe tbody tr th:only-of-type {\n",
       "        vertical-align: middle;\n",
       "    }\n",
       "\n",
       "    .dataframe tbody tr th {\n",
       "        vertical-align: top;\n",
       "    }\n",
       "\n",
       "    .dataframe thead th {\n",
       "        text-align: right;\n",
       "    }\n",
       "</style>\n",
       "<table border=\"1\" class=\"dataframe\">\n",
       "  <thead>\n",
       "    <tr style=\"text-align: right;\">\n",
       "      <th></th>\n",
       "      <th>text</th>\n",
       "      <th>xmin</th>\n",
       "      <th>xmax</th>\n",
       "      <th>interval</th>\n",
       "      <th>tier</th>\n",
       "      <th>start</th>\n",
       "      <th>end</th>\n",
       "    </tr>\n",
       "  </thead>\n",
       "  <tbody>\n",
       "    <tr>\n",
       "      <th>0</th>\n",
       "      <td>Dobro.</td>\n",
       "      <td>0.155012</td>\n",
       "      <td>0.456584</td>\n",
       "      <td>2</td>\n",
       "      <td>1</td>\n",
       "      <td>2480</td>\n",
       "      <td>7306</td>\n",
       "    </tr>\n",
       "    <tr>\n",
       "      <th>1</th>\n",
       "      <td>((noise, smack))</td>\n",
       "      <td>0.456584</td>\n",
       "      <td>1.659126</td>\n",
       "      <td>3</td>\n",
       "      <td>1</td>\n",
       "      <td>7305</td>\n",
       "      <td>26547</td>\n",
       "    </tr>\n",
       "    <tr>\n",
       "      <th>2</th>\n",
       "      <td>Onda moremo eh započet.</td>\n",
       "      <td>1.659126</td>\n",
       "      <td>4.068000</td>\n",
       "      <td>4</td>\n",
       "      <td>1</td>\n",
       "      <td>26546</td>\n",
       "      <td>65089</td>\n",
       "    </tr>\n",
       "    <tr>\n",
       "      <th>3</th>\n",
       "      <td>((paper rustling))</td>\n",
       "      <td>4.068000</td>\n",
       "      <td>6.757714</td>\n",
       "      <td>5</td>\n",
       "      <td>1</td>\n",
       "      <td>65088</td>\n",
       "      <td>108124</td>\n",
       "    </tr>\n",
       "    <tr>\n",
       "      <th>4</th>\n",
       "      <td>S obziron da san i ja govornik</td>\n",
       "      <td>6.757714</td>\n",
       "      <td>8.268000</td>\n",
       "      <td>6</td>\n",
       "      <td>1</td>\n",
       "      <td>108123</td>\n",
       "      <td>132288</td>\n",
       "    </tr>\n",
       "    <tr>\n",
       "      <th>...</th>\n",
       "      <td>...</td>\n",
       "      <td>...</td>\n",
       "      <td>...</td>\n",
       "      <td>...</td>\n",
       "      <td>...</td>\n",
       "      <td>...</td>\n",
       "      <td>...</td>\n",
       "    </tr>\n",
       "    <tr>\n",
       "      <th>489</th>\n",
       "      <td>je</td>\n",
       "      <td>173.966988</td>\n",
       "      <td>174.032100</td>\n",
       "      <td>414</td>\n",
       "      <td>4</td>\n",
       "      <td>2783471</td>\n",
       "      <td>2784514</td>\n",
       "    </tr>\n",
       "    <tr>\n",
       "      <th>490</th>\n",
       "      <td>to</td>\n",
       "      <td>174.032100</td>\n",
       "      <td>174.202306</td>\n",
       "      <td>415</td>\n",
       "      <td>4</td>\n",
       "      <td>2784513</td>\n",
       "      <td>2787237</td>\n",
       "    </tr>\n",
       "    <tr>\n",
       "      <th>491</th>\n",
       "      <td>ča</td>\n",
       "      <td>174.358361</td>\n",
       "      <td>174.650000</td>\n",
       "      <td>417</td>\n",
       "      <td>4</td>\n",
       "      <td>2789733</td>\n",
       "      <td>2794400</td>\n",
       "    </tr>\n",
       "    <tr>\n",
       "      <th>492</th>\n",
       "      <td>se</td>\n",
       "      <td>174.650000</td>\n",
       "      <td>174.793584</td>\n",
       "      <td>418</td>\n",
       "      <td>4</td>\n",
       "      <td>2794400</td>\n",
       "      <td>2796698</td>\n",
       "    </tr>\n",
       "    <tr>\n",
       "      <th>493</th>\n",
       "      <td>ti</td>\n",
       "      <td>174.793584</td>\n",
       "      <td>174.960000</td>\n",
       "      <td>419</td>\n",
       "      <td>4</td>\n",
       "      <td>2796697</td>\n",
       "      <td>2799360</td>\n",
       "    </tr>\n",
       "  </tbody>\n",
       "</table>\n",
       "<p>494 rows × 7 columns</p>\n",
       "</div>"
      ],
      "text/plain": [
       "                               text        xmin        xmax  interval  tier  \\\n",
       "0                            Dobro.    0.155012    0.456584         2     1   \n",
       "1                  ((noise, smack))    0.456584    1.659126         3     1   \n",
       "2           Onda moremo eh započet.    1.659126    4.068000         4     1   \n",
       "3                ((paper rustling))    4.068000    6.757714         5     1   \n",
       "4    S obziron da san i ja govornik    6.757714    8.268000         6     1   \n",
       "..                              ...         ...         ...       ...   ...   \n",
       "489                              je  173.966988  174.032100       414     4   \n",
       "490                              to  174.032100  174.202306       415     4   \n",
       "491                              ča  174.358361  174.650000       417     4   \n",
       "492                              se  174.650000  174.793584       418     4   \n",
       "493                              ti  174.793584  174.960000       419     4   \n",
       "\n",
       "       start      end  \n",
       "0       2480     7306  \n",
       "1       7305    26547  \n",
       "2      26546    65089  \n",
       "3      65088   108124  \n",
       "4     108123   132288  \n",
       "..       ...      ...  \n",
       "489  2783471  2784514  \n",
       "490  2784513  2787237  \n",
       "491  2789733  2794400  \n",
       "492  2794400  2796698  \n",
       "493  2796697  2799360  \n",
       "\n",
       "[494 rows x 7 columns]"
      ]
     },
     "execution_count": 116,
     "metadata": {},
     "output_type": "execute_result"
    }
   ],
   "source": [
    "df['start'] = df['xmin'].apply(lambda x: int(np.floor(x*16000)))\n",
    "df['end'] = df['xmax'].apply(lambda x: int(np.ceil(x*16000)))\n",
    "df"
   ]
  },
  {
   "cell_type": "code",
   "execution_count": 117,
   "id": "31fd5472",
   "metadata": {},
   "outputs": [
    {
     "data": {
      "text/html": [
       "<div>\n",
       "<style scoped>\n",
       "    .dataframe tbody tr th:only-of-type {\n",
       "        vertical-align: middle;\n",
       "    }\n",
       "\n",
       "    .dataframe tbody tr th {\n",
       "        vertical-align: top;\n",
       "    }\n",
       "\n",
       "    .dataframe thead th {\n",
       "        text-align: right;\n",
       "    }\n",
       "</style>\n",
       "<table border=\"1\" class=\"dataframe\">\n",
       "  <thead>\n",
       "    <tr style=\"text-align: right;\">\n",
       "      <th></th>\n",
       "      <th>text</th>\n",
       "      <th>xmin</th>\n",
       "      <th>xmax</th>\n",
       "      <th>interval</th>\n",
       "      <th>tier</th>\n",
       "      <th>start</th>\n",
       "      <th>end</th>\n",
       "    </tr>\n",
       "  </thead>\n",
       "  <tbody>\n",
       "    <tr>\n",
       "      <th>16</th>\n",
       "      <td>dobro</td>\n",
       "      <td>0.154668</td>\n",
       "      <td>0.456584</td>\n",
       "      <td>2</td>\n",
       "      <td>2</td>\n",
       "      <td>2474</td>\n",
       "      <td>7306</td>\n",
       "    </tr>\n",
       "    <tr>\n",
       "      <th>17</th>\n",
       "      <td>onda</td>\n",
       "      <td>1.659126</td>\n",
       "      <td>2.020000</td>\n",
       "      <td>4</td>\n",
       "      <td>2</td>\n",
       "      <td>26546</td>\n",
       "      <td>32320</td>\n",
       "    </tr>\n",
       "    <tr>\n",
       "      <th>18</th>\n",
       "      <td>moremo</td>\n",
       "      <td>2.020000</td>\n",
       "      <td>2.629858</td>\n",
       "      <td>5</td>\n",
       "      <td>2</td>\n",
       "      <td>32320</td>\n",
       "      <td>42078</td>\n",
       "    </tr>\n",
       "    <tr>\n",
       "      <th>19</th>\n",
       "      <td>eh</td>\n",
       "      <td>2.629858</td>\n",
       "      <td>3.070000</td>\n",
       "      <td>6</td>\n",
       "      <td>2</td>\n",
       "      <td>42077</td>\n",
       "      <td>49120</td>\n",
       "    </tr>\n",
       "    <tr>\n",
       "      <th>20</th>\n",
       "      <td>započet</td>\n",
       "      <td>3.210000</td>\n",
       "      <td>4.067719</td>\n",
       "      <td>8</td>\n",
       "      <td>2</td>\n",
       "      <td>51360</td>\n",
       "      <td>65084</td>\n",
       "    </tr>\n",
       "    <tr>\n",
       "      <th>...</th>\n",
       "      <td>...</td>\n",
       "      <td>...</td>\n",
       "      <td>...</td>\n",
       "      <td>...</td>\n",
       "      <td>...</td>\n",
       "      <td>...</td>\n",
       "      <td>...</td>\n",
       "    </tr>\n",
       "    <tr>\n",
       "      <th>489</th>\n",
       "      <td>je</td>\n",
       "      <td>173.966988</td>\n",
       "      <td>174.032100</td>\n",
       "      <td>414</td>\n",
       "      <td>4</td>\n",
       "      <td>2783471</td>\n",
       "      <td>2784514</td>\n",
       "    </tr>\n",
       "    <tr>\n",
       "      <th>490</th>\n",
       "      <td>to</td>\n",
       "      <td>174.032100</td>\n",
       "      <td>174.202306</td>\n",
       "      <td>415</td>\n",
       "      <td>4</td>\n",
       "      <td>2784513</td>\n",
       "      <td>2787237</td>\n",
       "    </tr>\n",
       "    <tr>\n",
       "      <th>491</th>\n",
       "      <td>ča</td>\n",
       "      <td>174.358361</td>\n",
       "      <td>174.650000</td>\n",
       "      <td>417</td>\n",
       "      <td>4</td>\n",
       "      <td>2789733</td>\n",
       "      <td>2794400</td>\n",
       "    </tr>\n",
       "    <tr>\n",
       "      <th>492</th>\n",
       "      <td>se</td>\n",
       "      <td>174.650000</td>\n",
       "      <td>174.793584</td>\n",
       "      <td>418</td>\n",
       "      <td>4</td>\n",
       "      <td>2794400</td>\n",
       "      <td>2796698</td>\n",
       "    </tr>\n",
       "    <tr>\n",
       "      <th>493</th>\n",
       "      <td>ti</td>\n",
       "      <td>174.793584</td>\n",
       "      <td>174.960000</td>\n",
       "      <td>419</td>\n",
       "      <td>4</td>\n",
       "      <td>2796697</td>\n",
       "      <td>2799360</td>\n",
       "    </tr>\n",
       "  </tbody>\n",
       "</table>\n",
       "<p>407 rows × 7 columns</p>\n",
       "</div>"
      ],
      "text/plain": [
       "        text        xmin        xmax  interval  tier    start      end\n",
       "16     dobro    0.154668    0.456584         2     2     2474     7306\n",
       "17      onda    1.659126    2.020000         4     2    26546    32320\n",
       "18    moremo    2.020000    2.629858         5     2    32320    42078\n",
       "19        eh    2.629858    3.070000         6     2    42077    49120\n",
       "20   započet    3.210000    4.067719         8     2    51360    65084\n",
       "..       ...         ...         ...       ...   ...      ...      ...\n",
       "489       je  173.966988  174.032100       414     4  2783471  2784514\n",
       "490       to  174.032100  174.202306       415     4  2784513  2787237\n",
       "491       ča  174.358361  174.650000       417     4  2789733  2794400\n",
       "492       se  174.650000  174.793584       418     4  2794400  2796698\n",
       "493       ti  174.793584  174.960000       419     4  2796697  2799360\n",
       "\n",
       "[407 rows x 7 columns]"
      ]
     },
     "execution_count": 117,
     "metadata": {},
     "output_type": "execute_result"
    }
   ],
   "source": [
    "df_word = df[df['tier'].isin([2,4])]\n",
    "df_word # use this to get some prediction"
   ]
  },
  {
   "cell_type": "code",
   "execution_count": 31,
   "id": "97e784e5",
   "metadata": {},
   "outputs": [],
   "source": [
    "from pathlib import Path\n",
    "from utils.matching import Matcher, load_segments\n",
    "\n",
    "matcher = Matcher(Path('1.txt'))\n",
    "asr_results = load_segments(Path('asr_results.json'))\n",
    "positions = matcher.match(asr_results)"
   ]
  },
  {
   "cell_type": "code",
   "execution_count": 32,
   "id": "952b0085",
   "metadata": {},
   "outputs": [
    {
     "name": "stdout",
     "output_type": "stream",
     "text": [
      "Printing 7 segments:\n",
      "==============\n",
      "CORPUS\tdobro\tonda\tmoremo\tzapocet\tsobrila\tonda\tse\tnjagovornik\tmatrenjskih\tda\tje\tdioma\tonda\tćemo\tgovori\tčekolad\tkodoma\ttepa\tzapocetak\tmori\tna\treći\tnešto\tu\tkratko\tsebe\tkadesi\trodjena\tkadesi\tse\tzgodila\ti\ttako\tneštočate\tdomisija\tna\tdijetejnjstvo\tnačirodila\tsam\tse\tu\ttervižu\n",
      "SEGMENT\tdobro\tonda\tmoramo\tzapočeti\ts\tobzirom\tda\tsam\tjagovornik\tmaterinskoga\tidioma\tonda\tćemo\tgovoritćukuloatko\tdo\tmate\tpa\tza\tpočetak\tmora\tnam\treći\tnešto\tu\tkratko\tsebe\tkaddesirođena\tkadesisezgojila\ti\ttako\tneštočaedomisija\tna\tljetinstvozai\trodilasam\tse\tu\ttervižu\n",
      "RATIO \t 0.40506329113924056\n",
      "--------------\n",
      "CORPUS\t\n",
      "SEGMENT\t\n",
      "RATIO \t 0\n",
      "--------------\n",
      "CORPUS\t\n",
      "SEGMENT\t\n",
      "RATIO \t 0\n",
      "--------------\n",
      "CORPUS\tda\tnjih\tbila\tjaš\tpriveći\tigrački\tki\tje\tčajima\tto\tsmo\tse\tigrali\tzmuške\tma\tsmo\tse\tigrali\tzveturica\tma\tusablonu\tnajveć\tsmo\tdelali\tkutice\tna\tdrevu\ta\tna\tveća\tbi\tmo\tne\tznam\tse\tigrali\tskrivača\tili\tplan\tgrada\tpa\tsmo\tse\ti\tštjali\tpuno\tdi\tšpetak\tsmo\tdelali\tdobro\tda\tnismo\n",
      "SEGMENT\tda\tnije\tbilo\tprevetigračka\ttječajima\tto\tsmo\tse\tigrali\ts\tmuškema\tsmo\tse\tgraliizveturicama\tsablonu\tnajveć\tsmo\tdelali\tkućice\tna\tdrevu\ta\tna\tvečer\tbi\tmo\tne\tznam\tse\tgrali\tskrivača\tili\tplan\tplan\tgrada\tpa\tsmo\tse\tišćjali\tpuno\tdišpetak\tsmodelali\tdobro\tda\tnismo\n",
      "RATIO \t 0.5454545454545454\n",
      "--------------\n",
      "CORPUS\t\n",
      "SEGMENT\t\n",
      "RATIO \t 0\n",
      "--------------\n",
      "CORPUS\t\n",
      "SEGMENT\t\n",
      "RATIO \t 0\n",
      "--------------\n",
      "CORPUS\tdana\tmaša\tto\tto\n",
      "SEGMENT\tkamtana\tmaša\tto\tje\tto\tseti\n",
      "RATIO \t 0.6\n",
      "--------------\n"
     ]
    }
   ],
   "source": [
    "matcher.print_debug(positions)\n",
    "# this segmentation does not reflect the time alignment matching, we need force the model to parse on certain times"
   ]
  },
  {
   "cell_type": "markdown",
   "id": "71989848",
   "metadata": {},
   "source": [
    "# get model transcription based on time for each slot"
   ]
  },
  {
   "cell_type": "code",
   "execution_count": null,
   "id": "3ae3bced",
   "metadata": {},
   "outputs": [],
   "source": [
    "# read in textgrid, get time boundry information\n",
    "# read in audio\n",
    "# get transcription with time and audio\n"
   ]
  },
  {
   "cell_type": "code",
   "execution_count": 118,
   "id": "45072479",
   "metadata": {},
   "outputs": [
    {
     "name": "stderr",
     "output_type": "stream",
     "text": [
      "Special tokens have been added in the vocabulary, make sure the associated word embeddings are fine-tuned or trained.\n"
     ]
    }
   ],
   "source": [
    "# load model\n",
    "from transformers import Wav2Vec2Processor, Wav2Vec2ForCTC\n",
    "import torch\n",
    "#import os\n",
    "#import soundfile as sf\n",
    "\n",
    "device = torch.device(\"cuda:0\" if torch.cuda.is_available() else \"cpu\")\n",
    "\n",
    "# load model and tokenizer\n",
    "processor = Wav2Vec2Processor.from_pretrained(\n",
    "    \"classla/wav2vec2-xls-r-parlaspeech-hr\")\n",
    "model = Wav2Vec2ForCTC.from_pretrained(\"classla/wav2vec2-xls-r-parlaspeech-hr\")\n"
   ]
  },
  {
   "cell_type": "code",
   "execution_count": 119,
   "id": "91b3dfe8",
   "metadata": {},
   "outputs": [],
   "source": [
    "# load audio and change resolution\n",
    "import librosa \n",
    "\n",
    "audio_dir = '/Users/irisz/downloads/2023_ELIC/ckm001-2022-01-16-Trviž_01.wav'\n",
    "   \n",
    "speech, sample_rate = librosa.load(audio_dir, sr=16000)\n"
   ]
  },
  {
   "cell_type": "code",
   "execution_count": 121,
   "id": "9afcbd70",
   "metadata": {},
   "outputs": [
    {
     "data": {
      "text/plain": [
       "'dobro'"
      ]
     },
     "execution_count": 121,
     "metadata": {},
     "output_type": "execute_result"
    }
   ],
   "source": [
    "# function: get transcription\n",
    "def get_text(speech_curr):\n",
    "    input_values = processor(speech_curr, sampling_rate=16000, return_tensors=\"pt\").input_values.to(device)\n",
    "    logits = model.to(device)(input_values).logits\n",
    "    predicted_ids = torch.argmax(logits, dim=-1)\n",
    "    transcription = processor.decode(predicted_ids[0]).lower()\n",
    "    return transcription\n",
    "get_text(speech[2474: 7306])"
   ]
  },
  {
   "cell_type": "code",
   "execution_count": 122,
   "id": "6f86a7a0",
   "metadata": {},
   "outputs": [
    {
     "name": "stderr",
     "output_type": "stream",
     "text": [
      "<ipython-input-122-24163b889bf7>:1: SettingWithCopyWarning: \n",
      "A value is trying to be set on a copy of a slice from a DataFrame.\n",
      "Try using .loc[row_indexer,col_indexer] = value instead\n",
      "\n",
      "See the caveats in the documentation: https://pandas.pydata.org/pandas-docs/stable/user_guide/indexing.html#returning-a-view-versus-a-copy\n",
      "  df_word['classla'] = df_word.apply(lambda x: get_text(speech[x.start:x.end]), axis =1)\n"
     ]
    }
   ],
   "source": [
    "df_word['classla'] = df_word.apply(lambda x: get_text(speech[x.start:x.end]), axis =1)"
   ]
  },
  {
   "cell_type": "code",
   "execution_count": 124,
   "id": "9507218d",
   "metadata": {},
   "outputs": [
    {
     "name": "stderr",
     "output_type": "stream",
     "text": [
      "<ipython-input-124-cc1d98f36cd5>:6: SettingWithCopyWarning: \n",
      "A value is trying to be set on a copy of a slice from a DataFrame.\n",
      "Try using .loc[row_indexer,col_indexer] = value instead\n",
      "\n",
      "See the caveats in the documentation: https://pandas.pydata.org/pandas-docs/stable/user_guide/indexing.html#returning-a-view-versus-a-copy\n",
      "  df_word['classla_correct'] = df_word.apply(lambda x: get_correct(x.text, x.classla), axis = 1)\n"
     ]
    }
   ],
   "source": [
    "def get_correct(x,y):\n",
    "    if x == y:\n",
    "        return 1\n",
    "    else:\n",
    "        return 0\n",
    "df_word['classla_correct'] = df_word.apply(lambda x: get_correct(x.text, x.classla), axis = 1)"
   ]
  },
  {
   "cell_type": "code",
   "execution_count": 125,
   "id": "be6e31cf",
   "metadata": {},
   "outputs": [
    {
     "data": {
      "text/html": [
       "<div>\n",
       "<style scoped>\n",
       "    .dataframe tbody tr th:only-of-type {\n",
       "        vertical-align: middle;\n",
       "    }\n",
       "\n",
       "    .dataframe tbody tr th {\n",
       "        vertical-align: top;\n",
       "    }\n",
       "\n",
       "    .dataframe thead th {\n",
       "        text-align: right;\n",
       "    }\n",
       "</style>\n",
       "<table border=\"1\" class=\"dataframe\">\n",
       "  <thead>\n",
       "    <tr style=\"text-align: right;\">\n",
       "      <th></th>\n",
       "      <th>text</th>\n",
       "      <th>xmin</th>\n",
       "      <th>xmax</th>\n",
       "      <th>interval</th>\n",
       "      <th>tier</th>\n",
       "      <th>start</th>\n",
       "      <th>end</th>\n",
       "      <th>classla</th>\n",
       "      <th>classla_correct</th>\n",
       "    </tr>\n",
       "  </thead>\n",
       "  <tbody>\n",
       "    <tr>\n",
       "      <th>16</th>\n",
       "      <td>dobro</td>\n",
       "      <td>0.154668</td>\n",
       "      <td>0.456584</td>\n",
       "      <td>2</td>\n",
       "      <td>2</td>\n",
       "      <td>2474</td>\n",
       "      <td>7306</td>\n",
       "      <td>dobro</td>\n",
       "      <td>1</td>\n",
       "    </tr>\n",
       "    <tr>\n",
       "      <th>17</th>\n",
       "      <td>onda</td>\n",
       "      <td>1.659126</td>\n",
       "      <td>2.020000</td>\n",
       "      <td>4</td>\n",
       "      <td>2</td>\n",
       "      <td>26546</td>\n",
       "      <td>32320</td>\n",
       "      <td>onda</td>\n",
       "      <td>1</td>\n",
       "    </tr>\n",
       "    <tr>\n",
       "      <th>18</th>\n",
       "      <td>moremo</td>\n",
       "      <td>2.020000</td>\n",
       "      <td>2.629858</td>\n",
       "      <td>5</td>\n",
       "      <td>2</td>\n",
       "      <td>32320</td>\n",
       "      <td>42078</td>\n",
       "      <td>moramo</td>\n",
       "      <td>0</td>\n",
       "    </tr>\n",
       "    <tr>\n",
       "      <th>19</th>\n",
       "      <td>eh</td>\n",
       "      <td>2.629858</td>\n",
       "      <td>3.070000</td>\n",
       "      <td>6</td>\n",
       "      <td>2</td>\n",
       "      <td>42077</td>\n",
       "      <td>49120</td>\n",
       "      <td></td>\n",
       "      <td>0</td>\n",
       "    </tr>\n",
       "    <tr>\n",
       "      <th>20</th>\n",
       "      <td>započet</td>\n",
       "      <td>3.210000</td>\n",
       "      <td>4.067719</td>\n",
       "      <td>8</td>\n",
       "      <td>2</td>\n",
       "      <td>51360</td>\n",
       "      <td>65084</td>\n",
       "      <td>započet</td>\n",
       "      <td>1</td>\n",
       "    </tr>\n",
       "    <tr>\n",
       "      <th>...</th>\n",
       "      <td>...</td>\n",
       "      <td>...</td>\n",
       "      <td>...</td>\n",
       "      <td>...</td>\n",
       "      <td>...</td>\n",
       "      <td>...</td>\n",
       "      <td>...</td>\n",
       "      <td>...</td>\n",
       "      <td>...</td>\n",
       "    </tr>\n",
       "    <tr>\n",
       "      <th>489</th>\n",
       "      <td>je</td>\n",
       "      <td>173.966988</td>\n",
       "      <td>174.032100</td>\n",
       "      <td>414</td>\n",
       "      <td>4</td>\n",
       "      <td>2783471</td>\n",
       "      <td>2784514</td>\n",
       "      <td></td>\n",
       "      <td>0</td>\n",
       "    </tr>\n",
       "    <tr>\n",
       "      <th>490</th>\n",
       "      <td>to</td>\n",
       "      <td>174.032100</td>\n",
       "      <td>174.202306</td>\n",
       "      <td>415</td>\n",
       "      <td>4</td>\n",
       "      <td>2784513</td>\n",
       "      <td>2787237</td>\n",
       "      <td>to</td>\n",
       "      <td>1</td>\n",
       "    </tr>\n",
       "    <tr>\n",
       "      <th>491</th>\n",
       "      <td>ča</td>\n",
       "      <td>174.358361</td>\n",
       "      <td>174.650000</td>\n",
       "      <td>417</td>\n",
       "      <td>4</td>\n",
       "      <td>2789733</td>\n",
       "      <td>2794400</td>\n",
       "      <td>ute</td>\n",
       "      <td>0</td>\n",
       "    </tr>\n",
       "    <tr>\n",
       "      <th>492</th>\n",
       "      <td>se</td>\n",
       "      <td>174.650000</td>\n",
       "      <td>174.793584</td>\n",
       "      <td>418</td>\n",
       "      <td>4</td>\n",
       "      <td>2794400</td>\n",
       "      <td>2796698</td>\n",
       "      <td>o</td>\n",
       "      <td>0</td>\n",
       "    </tr>\n",
       "    <tr>\n",
       "      <th>493</th>\n",
       "      <td>ti</td>\n",
       "      <td>174.793584</td>\n",
       "      <td>174.960000</td>\n",
       "      <td>419</td>\n",
       "      <td>4</td>\n",
       "      <td>2796697</td>\n",
       "      <td>2799360</td>\n",
       "      <td>da</td>\n",
       "      <td>0</td>\n",
       "    </tr>\n",
       "  </tbody>\n",
       "</table>\n",
       "<p>407 rows × 9 columns</p>\n",
       "</div>"
      ],
      "text/plain": [
       "        text        xmin        xmax  interval  tier    start      end  \\\n",
       "16     dobro    0.154668    0.456584         2     2     2474     7306   \n",
       "17      onda    1.659126    2.020000         4     2    26546    32320   \n",
       "18    moremo    2.020000    2.629858         5     2    32320    42078   \n",
       "19        eh    2.629858    3.070000         6     2    42077    49120   \n",
       "20   započet    3.210000    4.067719         8     2    51360    65084   \n",
       "..       ...         ...         ...       ...   ...      ...      ...   \n",
       "489       je  173.966988  174.032100       414     4  2783471  2784514   \n",
       "490       to  174.032100  174.202306       415     4  2784513  2787237   \n",
       "491       ča  174.358361  174.650000       417     4  2789733  2794400   \n",
       "492       se  174.650000  174.793584       418     4  2794400  2796698   \n",
       "493       ti  174.793584  174.960000       419     4  2796697  2799360   \n",
       "\n",
       "     classla  classla_correct  \n",
       "16     dobro                1  \n",
       "17      onda                1  \n",
       "18    moramo                0  \n",
       "19                          0  \n",
       "20   započet                1  \n",
       "..       ...              ...  \n",
       "489                         0  \n",
       "490       to                1  \n",
       "491      ute                0  \n",
       "492        o                0  \n",
       "493       da                0  \n",
       "\n",
       "[407 rows x 9 columns]"
      ]
     },
     "execution_count": 125,
     "metadata": {},
     "output_type": "execute_result"
    }
   ],
   "source": [
    "df_word"
   ]
  },
  {
   "cell_type": "code",
   "execution_count": 127,
   "id": "d58dca05",
   "metadata": {},
   "outputs": [
    {
     "data": {
      "text/plain": [
       "0    242\n",
       "1    165\n",
       "Name: classla_correct, dtype: int64"
      ]
     },
     "execution_count": 127,
     "metadata": {},
     "output_type": "execute_result"
    }
   ],
   "source": [
    "df_word['classla_correct'].value_counts()"
   ]
  },
  {
   "cell_type": "markdown",
   "id": "db70b4c1",
   "metadata": {},
   "source": [
    "# try classla lg model"
   ]
  },
  {
   "cell_type": "code",
   "execution_count": 129,
   "id": "4794afcb",
   "metadata": {},
   "outputs": [
    {
     "data": {
      "application/vnd.jupyter.widget-view+json": {
       "model_id": "89db75d4c7d1496294fe1eeb885835b1",
       "version_major": 2,
       "version_minor": 0
      },
      "text/plain": [
       "Downloading (…)rocessor_config.json:   0%|          | 0.00/214 [00:00<?, ?B/s]"
      ]
     },
     "metadata": {},
     "output_type": "display_data"
    },
    {
     "data": {
      "application/vnd.jupyter.widget-view+json": {
       "model_id": "49a5839ca50c4d2cbe2d9c9f6c627a8e",
       "version_major": 2,
       "version_minor": 0
      },
      "text/plain": [
       "Downloading (…)okenizer_config.json:   0%|          | 0.00/149 [00:00<?, ?B/s]"
      ]
     },
     "metadata": {},
     "output_type": "display_data"
    },
    {
     "data": {
      "application/vnd.jupyter.widget-view+json": {
       "model_id": "f724f9b97f1e42b0a2c2ca42ce287c84",
       "version_major": 2,
       "version_minor": 0
      },
      "text/plain": [
       "Downloading (…)lve/main/config.json:   0%|          | 0.00/2.32k [00:00<?, ?B/s]"
      ]
     },
     "metadata": {},
     "output_type": "display_data"
    },
    {
     "data": {
      "application/vnd.jupyter.widget-view+json": {
       "model_id": "7fc3f03d44584f29a09b38ef64351903",
       "version_major": 2,
       "version_minor": 0
      },
      "text/plain": [
       "Downloading (…)olve/main/vocab.json:   0%|          | 0.00/485 [00:00<?, ?B/s]"
      ]
     },
     "metadata": {},
     "output_type": "display_data"
    },
    {
     "data": {
      "application/vnd.jupyter.widget-view+json": {
       "model_id": "6ba0e2c3d6c946ae953b914baa482991",
       "version_major": 2,
       "version_minor": 0
      },
      "text/plain": [
       "Downloading (…)cial_tokens_map.json:   0%|          | 0.00/95.0 [00:00<?, ?B/s]"
      ]
     },
     "metadata": {},
     "output_type": "display_data"
    },
    {
     "data": {
      "application/vnd.jupyter.widget-view+json": {
       "model_id": "1d8ef87ce410427eacb6b0acb025fcf9",
       "version_major": 2,
       "version_minor": 0
      },
      "text/plain": [
       "Downloading model.safetensors:   0%|          | 0.00/1.26G [00:00<?, ?B/s]"
      ]
     },
     "metadata": {},
     "output_type": "display_data"
    }
   ],
   "source": [
    "\n",
    "# load model and tokenizer\n",
    "processor = Wav2Vec2Processor.from_pretrained(\n",
    "    \"classla/wav2vec2-large-slavic-parlaspeech-hr\")\n",
    "model = Wav2Vec2ForCTC.from_pretrained(\"classla/wav2vec2-large-slavic-parlaspeech-hr\")\n"
   ]
  },
  {
   "cell_type": "code",
   "execution_count": 130,
   "id": "a6aa382c",
   "metadata": {},
   "outputs": [
    {
     "name": "stderr",
     "output_type": "stream",
     "text": [
      "<ipython-input-130-984b4f7b9629>:1: SettingWithCopyWarning: \n",
      "A value is trying to be set on a copy of a slice from a DataFrame.\n",
      "Try using .loc[row_indexer,col_indexer] = value instead\n",
      "\n",
      "See the caveats in the documentation: https://pandas.pydata.org/pandas-docs/stable/user_guide/indexing.html#returning-a-view-versus-a-copy\n",
      "  df_word['classla-lg'] = df_word.apply(lambda x: get_text(speech[x.start:x.end]), axis =1)\n"
     ]
    }
   ],
   "source": [
    "df_word['classla-lg'] = df_word.apply(lambda x: get_text(speech[x.start:x.end]), axis =1)"
   ]
  },
  {
   "cell_type": "code",
   "execution_count": 131,
   "id": "d348d748",
   "metadata": {},
   "outputs": [
    {
     "name": "stderr",
     "output_type": "stream",
     "text": [
      "<ipython-input-131-65ee039d7631>:1: SettingWithCopyWarning: \n",
      "A value is trying to be set on a copy of a slice from a DataFrame.\n",
      "Try using .loc[row_indexer,col_indexer] = value instead\n",
      "\n",
      "See the caveats in the documentation: https://pandas.pydata.org/pandas-docs/stable/user_guide/indexing.html#returning-a-view-versus-a-copy\n",
      "  df_word['classla_lg'] = df_word['classla-lg']\n"
     ]
    }
   ],
   "source": [
    "df_word['classla_lg'] = df_word['classla-lg']"
   ]
  },
  {
   "cell_type": "code",
   "execution_count": 132,
   "id": "e23461ad",
   "metadata": {},
   "outputs": [
    {
     "name": "stderr",
     "output_type": "stream",
     "text": [
      "<ipython-input-132-4de464f3ecef>:1: SettingWithCopyWarning: \n",
      "A value is trying to be set on a copy of a slice from a DataFrame.\n",
      "Try using .loc[row_indexer,col_indexer] = value instead\n",
      "\n",
      "See the caveats in the documentation: https://pandas.pydata.org/pandas-docs/stable/user_guide/indexing.html#returning-a-view-versus-a-copy\n",
      "  df_word['classla_lg_correct'] = df_word.apply(lambda x: get_correct(x.text, x.classla_lg), axis = 1)\n"
     ]
    }
   ],
   "source": [
    "df_word['classla_lg_correct'] = df_word.apply(lambda x: get_correct(x.text, x.classla_lg), axis = 1)"
   ]
  },
  {
   "cell_type": "code",
   "execution_count": 133,
   "id": "990fa587",
   "metadata": {},
   "outputs": [
    {
     "data": {
      "text/plain": [
       "0    256\n",
       "1    151\n",
       "Name: classla_lg_correct, dtype: int64"
      ]
     },
     "execution_count": 133,
     "metadata": {},
     "output_type": "execute_result"
    }
   ],
   "source": [
    "df_word['classla_lg_correct'].value_counts()"
   ]
  },
  {
   "cell_type": "code",
   "execution_count": null,
   "id": "94c83054",
   "metadata": {},
   "outputs": [],
   "source": []
  },
  {
   "cell_type": "markdown",
   "id": "a9ca018f",
   "metadata": {},
   "source": [
    "# NVDIA"
   ]
  },
  {
   "cell_type": "code",
   "execution_count": 137,
   "id": "3cfaa744",
   "metadata": {},
   "outputs": [
    {
     "name": "stdout",
     "output_type": "stream",
     "text": [
      "[NeMo I 2023-10-01 13:02:32 mixins:170] Tokenizer SentencePieceTokenizer initialized with 128 tokens\n"
     ]
    },
    {
     "name": "stderr",
     "output_type": "stream",
     "text": [
      "[NeMo W 2023-10-01 13:02:32 modelPT:161] If you intend to do training or fine-tuning, please call the ModelPT.setup_training_data() method and provide a valid configuration file to setup the train data loader.\n",
      "    Train config : \n",
      "    manifest_filepath: null\n",
      "    sample_rate: 16000\n",
      "    batch_size: 16\n",
      "    shuffle: true\n",
      "    num_workers: 8\n",
      "    pin_memory: true\n",
      "    use_start_end_token: ''\n",
      "    trim_silence: false\n",
      "    max_duration: 20.0\n",
      "    min_duration: 0.1\n",
      "    is_tarred: false\n",
      "    tarred_audio_filepaths: null\n",
      "    shuffle_n: 2048\n",
      "    bucketing_strategy: synced_randomized\n",
      "    bucketing_batch_size: null\n",
      "    \n",
      "[NeMo W 2023-10-01 13:02:32 modelPT:168] If you intend to do validation, please call the ModelPT.setup_validation_data() or ModelPT.setup_multiple_validation_data() method and provide a valid configuration file to setup the validation data loader(s). \n",
      "    Validation config : \n",
      "    manifest_filepath: null\n",
      "    sample_rate: 16000\n",
      "    batch_size: 16\n",
      "    shuffle: false\n",
      "    num_workers: 8\n",
      "    pin_memory: true\n",
      "    use_start_end_token: ''\n",
      "    \n",
      "[NeMo W 2023-10-01 13:02:32 modelPT:174] Please call the ModelPT.setup_test_data() or ModelPT.setup_multiple_test_data() method and provide a valid configuration file to setup the test data loader(s).\n",
      "    Test config : \n",
      "    manifest_filepath: null\n",
      "    sample_rate: 16000\n",
      "    batch_size: 16\n",
      "    shuffle: false\n",
      "    num_workers: 8\n",
      "    pin_memory: true\n",
      "    use_start_end_token: ''\n",
      "    \n"
     ]
    },
    {
     "name": "stdout",
     "output_type": "stream",
     "text": [
      "[NeMo I 2023-10-01 13:02:32 features:289] PADDING: 0\n",
      "[NeMo I 2023-10-01 13:02:37 save_restore_connector:249] Model EncDecCTCModelBPE was successfully restored from /Users/irisz/.cache/huggingface/hub/models--nvidia--stt_hr_conformer_ctc_large/snapshots/1cd2542c83a8ef5b172f2edb1d6132fab5b559e7/stt_hr_conformer_ctc_large.nemo.\n"
     ]
    }
   ],
   "source": [
    "import nemo.collections.asr as nemo_asr\n",
    "asr_model = nemo_asr.models.EncDecCTCModelBPE.from_pretrained(\"nvidia/stt_hr_conformer_ctc_large\")"
   ]
  },
  {
   "cell_type": "code",
   "execution_count": 30,
   "id": "942cc690",
   "metadata": {},
   "outputs": [
    {
     "data": {
      "text/plain": [
       "<_io.BufferedRandom name='/Users/irisz/downloads/2023_ELIC/s1.wav'>"
      ]
     },
     "execution_count": 30,
     "metadata": {},
     "output_type": "execute_result"
    }
   ],
   "source": [
    "# get a slice of audio\n",
    "audio_dir = '/Users/irisz/downloads/2023_ELIC/ckm001-2022-01-16-Trviž_01.wav'\n",
    "t1 = 10\n",
    "t2 = 10.9\n",
    "from pydub import AudioSegment\n",
    "t1 = t1 * 1000 #Works in milliseconds\n",
    "t2 = t2 * 1000\n",
    "newAudio = AudioSegment.from_wav(audio_dir)\n",
    "newAudio = newAudio[t1:t2]\n",
    "newAudio.export('/Users/irisz/downloads/2023_ELIC/s1.wav', format=\"wav\")\n"
   ]
  },
  {
   "cell_type": "code",
   "execution_count": 31,
   "id": "a18e43a4",
   "metadata": {},
   "outputs": [
    {
     "ename": "NameError",
     "evalue": "name 'asr_model' is not defined",
     "output_type": "error",
     "traceback": [
      "\u001b[0;31m---------------------------------------------------------------------------\u001b[0m",
      "\u001b[0;31mNameError\u001b[0m                                 Traceback (most recent call last)",
      "\u001b[0;32m<ipython-input-31-43160a501333>\u001b[0m in \u001b[0;36m<module>\u001b[0;34m\u001b[0m\n\u001b[0;32m----> 1\u001b[0;31m \u001b[0mtext\u001b[0m \u001b[0;34m=\u001b[0m \u001b[0masr_model\u001b[0m\u001b[0;34m.\u001b[0m\u001b[0mtranscribe\u001b[0m\u001b[0;34m(\u001b[0m\u001b[0;34m[\u001b[0m\u001b[0;34m'/Users/irisz/downloads/2023_ELIC/s1.wav'\u001b[0m\u001b[0;34m]\u001b[0m\u001b[0;34m)\u001b[0m\u001b[0;34m\u001b[0m\u001b[0;34m\u001b[0m\u001b[0m\n\u001b[0m\u001b[1;32m      2\u001b[0m \u001b[0mtext\u001b[0m\u001b[0;34m\u001b[0m\u001b[0;34m\u001b[0m\u001b[0m\n",
      "\u001b[0;31mNameError\u001b[0m: name 'asr_model' is not defined"
     ]
    }
   ],
   "source": [
    "text = asr_model.transcribe(['/Users/irisz/downloads/2023_ELIC/s1.wav'])\n",
    "text"
   ]
  },
  {
   "cell_type": "code",
   "execution_count": 165,
   "id": "584315eb",
   "metadata": {},
   "outputs": [],
   "source": [
    "def get_nvdia_trans(t1, t2):\n",
    "    t1 = t1 * 1000 #Works in milliseconds\n",
    "    t2 = t2 * 1000\n",
    "    newAudio = AudioSegment.from_wav(audio_dir)\n",
    "    newAudio = newAudio[t1:t2]\n",
    "    newAudio.export('/Users/irisz/downloads/2023_ELIC/slice.wav', format=\"wav\")\n",
    "    text = asr_model.transcribe(['/Users/irisz/downloads/2023_ELIC/slice.wav'])\n",
    "    return text\n"
   ]
  },
  {
   "cell_type": "code",
   "execution_count": 167,
   "id": "bbb4fe07",
   "metadata": {},
   "outputs": [
    {
     "data": {
      "application/vnd.jupyter.widget-view+json": {
       "model_id": "a24afab76a5640989169f3dda6356288",
       "version_major": 2,
       "version_minor": 0
      },
      "text/plain": [
       "Transcribing:   0%|          | 0/1 [00:00<?, ?it/s]"
      ]
     },
     "metadata": {},
     "output_type": "display_data"
    },
    {
     "data": {
      "application/vnd.jupyter.widget-view+json": {
       "model_id": "ded15131b4ba42619f8d1a94c296281e",
       "version_major": 2,
       "version_minor": 0
      },
      "text/plain": [
       "Transcribing:   0%|          | 0/1 [00:00<?, ?it/s]"
      ]
     },
     "metadata": {},
     "output_type": "display_data"
    },
    {
     "data": {
      "application/vnd.jupyter.widget-view+json": {
       "model_id": "7788b9ea887745fdab717ec20d20a6ef",
       "version_major": 2,
       "version_minor": 0
      },
      "text/plain": [
       "Transcribing:   0%|          | 0/1 [00:00<?, ?it/s]"
      ]
     },
     "metadata": {},
     "output_type": "display_data"
    },
    {
     "data": {
      "application/vnd.jupyter.widget-view+json": {
       "model_id": "ee920f8eed6743d8b950f81de376349b",
       "version_major": 2,
       "version_minor": 0
      },
      "text/plain": [
       "Transcribing:   0%|          | 0/1 [00:00<?, ?it/s]"
      ]
     },
     "metadata": {},
     "output_type": "display_data"
    },
    {
     "data": {
      "application/vnd.jupyter.widget-view+json": {
       "model_id": "47a89ff93a394a79b70c2fafc285bb1a",
       "version_major": 2,
       "version_minor": 0
      },
      "text/plain": [
       "Transcribing:   0%|          | 0/1 [00:00<?, ?it/s]"
      ]
     },
     "metadata": {},
     "output_type": "display_data"
    },
    {
     "data": {
      "application/vnd.jupyter.widget-view+json": {
       "model_id": "becca0ed231b410a9682a271ff82d75d",
       "version_major": 2,
       "version_minor": 0
      },
      "text/plain": [
       "Transcribing:   0%|          | 0/1 [00:00<?, ?it/s]"
      ]
     },
     "metadata": {},
     "output_type": "display_data"
    },
    {
     "data": {
      "application/vnd.jupyter.widget-view+json": {
       "model_id": "0c961ce1957141718522cf6a8a22fe02",
       "version_major": 2,
       "version_minor": 0
      },
      "text/plain": [
       "Transcribing:   0%|          | 0/1 [00:00<?, ?it/s]"
      ]
     },
     "metadata": {},
     "output_type": "display_data"
    },
    {
     "data": {
      "application/vnd.jupyter.widget-view+json": {
       "model_id": "358fb2cf6e064ac1b664ae4e6182448d",
       "version_major": 2,
       "version_minor": 0
      },
      "text/plain": [
       "Transcribing:   0%|          | 0/1 [00:00<?, ?it/s]"
      ]
     },
     "metadata": {},
     "output_type": "display_data"
    },
    {
     "data": {
      "application/vnd.jupyter.widget-view+json": {
       "model_id": "edc88f2893314017adce9c4df598f1b1",
       "version_major": 2,
       "version_minor": 0
      },
      "text/plain": [
       "Transcribing:   0%|          | 0/1 [00:00<?, ?it/s]"
      ]
     },
     "metadata": {},
     "output_type": "display_data"
    },
    {
     "data": {
      "application/vnd.jupyter.widget-view+json": {
       "model_id": "52b2a9a3fd1c48488d15d23c45803cf0",
       "version_major": 2,
       "version_minor": 0
      },
      "text/plain": [
       "Transcribing:   0%|          | 0/1 [00:00<?, ?it/s]"
      ]
     },
     "metadata": {},
     "output_type": "display_data"
    },
    {
     "data": {
      "application/vnd.jupyter.widget-view+json": {
       "model_id": "39ec75ef77ae44809587f009eab2803e",
       "version_major": 2,
       "version_minor": 0
      },
      "text/plain": [
       "Transcribing:   0%|          | 0/1 [00:00<?, ?it/s]"
      ]
     },
     "metadata": {},
     "output_type": "display_data"
    },
    {
     "data": {
      "application/vnd.jupyter.widget-view+json": {
       "model_id": "45044559da634dbf947bfda3f040214e",
       "version_major": 2,
       "version_minor": 0
      },
      "text/plain": [
       "Transcribing:   0%|          | 0/1 [00:00<?, ?it/s]"
      ]
     },
     "metadata": {},
     "output_type": "display_data"
    },
    {
     "data": {
      "application/vnd.jupyter.widget-view+json": {
       "model_id": "6f9c44af60d74e9ca22800cc871619ad",
       "version_major": 2,
       "version_minor": 0
      },
      "text/plain": [
       "Transcribing:   0%|          | 0/1 [00:00<?, ?it/s]"
      ]
     },
     "metadata": {},
     "output_type": "display_data"
    },
    {
     "data": {
      "application/vnd.jupyter.widget-view+json": {
       "model_id": "a7fd24412ad04dc4be303a07c82a14c8",
       "version_major": 2,
       "version_minor": 0
      },
      "text/plain": [
       "Transcribing:   0%|          | 0/1 [00:00<?, ?it/s]"
      ]
     },
     "metadata": {},
     "output_type": "display_data"
    },
    {
     "data": {
      "application/vnd.jupyter.widget-view+json": {
       "model_id": "f651c42c07534ece80e6c2d195bb5dd5",
       "version_major": 2,
       "version_minor": 0
      },
      "text/plain": [
       "Transcribing:   0%|          | 0/1 [00:00<?, ?it/s]"
      ]
     },
     "metadata": {},
     "output_type": "display_data"
    },
    {
     "data": {
      "application/vnd.jupyter.widget-view+json": {
       "model_id": "6c900afcc43a4349a2852f5a03cc7a43",
       "version_major": 2,
       "version_minor": 0
      },
      "text/plain": [
       "Transcribing:   0%|          | 0/1 [00:00<?, ?it/s]"
      ]
     },
     "metadata": {},
     "output_type": "display_data"
    },
    {
     "data": {
      "application/vnd.jupyter.widget-view+json": {
       "model_id": "b1835c70d7884f6f9b0744bfe893b0ba",
       "version_major": 2,
       "version_minor": 0
      },
      "text/plain": [
       "Transcribing:   0%|          | 0/1 [00:00<?, ?it/s]"
      ]
     },
     "metadata": {},
     "output_type": "display_data"
    },
    {
     "data": {
      "application/vnd.jupyter.widget-view+json": {
       "model_id": "ada199d9d9004d52af11ec3b1fa3c28d",
       "version_major": 2,
       "version_minor": 0
      },
      "text/plain": [
       "Transcribing:   0%|          | 0/1 [00:00<?, ?it/s]"
      ]
     },
     "metadata": {},
     "output_type": "display_data"
    },
    {
     "data": {
      "application/vnd.jupyter.widget-view+json": {
       "model_id": "c234d009fdef467587ded2830f21847a",
       "version_major": 2,
       "version_minor": 0
      },
      "text/plain": [
       "Transcribing:   0%|          | 0/1 [00:00<?, ?it/s]"
      ]
     },
     "metadata": {},
     "output_type": "display_data"
    },
    {
     "data": {
      "application/vnd.jupyter.widget-view+json": {
       "model_id": "81bcc9811b2c4bfb85c559372974704e",
       "version_major": 2,
       "version_minor": 0
      },
      "text/plain": [
       "Transcribing:   0%|          | 0/1 [00:00<?, ?it/s]"
      ]
     },
     "metadata": {},
     "output_type": "display_data"
    },
    {
     "data": {
      "application/vnd.jupyter.widget-view+json": {
       "model_id": "20e49c86d59147b78d14302a174ec9f0",
       "version_major": 2,
       "version_minor": 0
      },
      "text/plain": [
       "Transcribing:   0%|          | 0/1 [00:00<?, ?it/s]"
      ]
     },
     "metadata": {},
     "output_type": "display_data"
    },
    {
     "data": {
      "application/vnd.jupyter.widget-view+json": {
       "model_id": "648c3f98a59c4126941cf3b46f1cd24b",
       "version_major": 2,
       "version_minor": 0
      },
      "text/plain": [
       "Transcribing:   0%|          | 0/1 [00:00<?, ?it/s]"
      ]
     },
     "metadata": {},
     "output_type": "display_data"
    },
    {
     "data": {
      "application/vnd.jupyter.widget-view+json": {
       "model_id": "8e76616d61e64b6a9fe59dc9b0c1e2a2",
       "version_major": 2,
       "version_minor": 0
      },
      "text/plain": [
       "Transcribing:   0%|          | 0/1 [00:00<?, ?it/s]"
      ]
     },
     "metadata": {},
     "output_type": "display_data"
    },
    {
     "data": {
      "application/vnd.jupyter.widget-view+json": {
       "model_id": "20e16eed12454d3ebe4ed9628b06b6e9",
       "version_major": 2,
       "version_minor": 0
      },
      "text/plain": [
       "Transcribing:   0%|          | 0/1 [00:00<?, ?it/s]"
      ]
     },
     "metadata": {},
     "output_type": "display_data"
    },
    {
     "data": {
      "application/vnd.jupyter.widget-view+json": {
       "model_id": "88b024ea610c4fcea0e3fddccad7bc99",
       "version_major": 2,
       "version_minor": 0
      },
      "text/plain": [
       "Transcribing:   0%|          | 0/1 [00:00<?, ?it/s]"
      ]
     },
     "metadata": {},
     "output_type": "display_data"
    },
    {
     "data": {
      "application/vnd.jupyter.widget-view+json": {
       "model_id": "5bedf8563def4beb823ed939e03bac02",
       "version_major": 2,
       "version_minor": 0
      },
      "text/plain": [
       "Transcribing:   0%|          | 0/1 [00:00<?, ?it/s]"
      ]
     },
     "metadata": {},
     "output_type": "display_data"
    },
    {
     "data": {
      "application/vnd.jupyter.widget-view+json": {
       "model_id": "c7a275796e454e6e9c1367d13c229828",
       "version_major": 2,
       "version_minor": 0
      },
      "text/plain": [
       "Transcribing:   0%|          | 0/1 [00:00<?, ?it/s]"
      ]
     },
     "metadata": {},
     "output_type": "display_data"
    },
    {
     "data": {
      "application/vnd.jupyter.widget-view+json": {
       "model_id": "3a312f4de29745e381c60f9960e9563b",
       "version_major": 2,
       "version_minor": 0
      },
      "text/plain": [
       "Transcribing:   0%|          | 0/1 [00:00<?, ?it/s]"
      ]
     },
     "metadata": {},
     "output_type": "display_data"
    },
    {
     "data": {
      "application/vnd.jupyter.widget-view+json": {
       "model_id": "051793a1807a417fb57147f65a59f6f9",
       "version_major": 2,
       "version_minor": 0
      },
      "text/plain": [
       "Transcribing:   0%|          | 0/1 [00:00<?, ?it/s]"
      ]
     },
     "metadata": {},
     "output_type": "display_data"
    },
    {
     "data": {
      "application/vnd.jupyter.widget-view+json": {
       "model_id": "63d0bfa1610b436795f8267acd03892d",
       "version_major": 2,
       "version_minor": 0
      },
      "text/plain": [
       "Transcribing:   0%|          | 0/1 [00:00<?, ?it/s]"
      ]
     },
     "metadata": {},
     "output_type": "display_data"
    },
    {
     "data": {
      "application/vnd.jupyter.widget-view+json": {
       "model_id": "c3c0a1346a424ac28dda5e8f34b55e1a",
       "version_major": 2,
       "version_minor": 0
      },
      "text/plain": [
       "Transcribing:   0%|          | 0/1 [00:00<?, ?it/s]"
      ]
     },
     "metadata": {},
     "output_type": "display_data"
    },
    {
     "data": {
      "application/vnd.jupyter.widget-view+json": {
       "model_id": "ba6de386853d40fb94a201d563df968e",
       "version_major": 2,
       "version_minor": 0
      },
      "text/plain": [
       "Transcribing:   0%|          | 0/1 [00:00<?, ?it/s]"
      ]
     },
     "metadata": {},
     "output_type": "display_data"
    },
    {
     "data": {
      "application/vnd.jupyter.widget-view+json": {
       "model_id": "843a610bfb7b4cd0a6d33dd593752bc0",
       "version_major": 2,
       "version_minor": 0
      },
      "text/plain": [
       "Transcribing:   0%|          | 0/1 [00:00<?, ?it/s]"
      ]
     },
     "metadata": {},
     "output_type": "display_data"
    },
    {
     "data": {
      "application/vnd.jupyter.widget-view+json": {
       "model_id": "92bb6eca4aa9416c9b81066c8bead170",
       "version_major": 2,
       "version_minor": 0
      },
      "text/plain": [
       "Transcribing:   0%|          | 0/1 [00:00<?, ?it/s]"
      ]
     },
     "metadata": {},
     "output_type": "display_data"
    },
    {
     "data": {
      "application/vnd.jupyter.widget-view+json": {
       "model_id": "6622b1c3614043be9533855be2883c4b",
       "version_major": 2,
       "version_minor": 0
      },
      "text/plain": [
       "Transcribing:   0%|          | 0/1 [00:00<?, ?it/s]"
      ]
     },
     "metadata": {},
     "output_type": "display_data"
    },
    {
     "data": {
      "application/vnd.jupyter.widget-view+json": {
       "model_id": "04830fa76f65454fb01bd7bfa11089d1",
       "version_major": 2,
       "version_minor": 0
      },
      "text/plain": [
       "Transcribing:   0%|          | 0/1 [00:00<?, ?it/s]"
      ]
     },
     "metadata": {},
     "output_type": "display_data"
    },
    {
     "data": {
      "application/vnd.jupyter.widget-view+json": {
       "model_id": "ca5fd8f48e194173910696b822469571",
       "version_major": 2,
       "version_minor": 0
      },
      "text/plain": [
       "Transcribing:   0%|          | 0/1 [00:00<?, ?it/s]"
      ]
     },
     "metadata": {},
     "output_type": "display_data"
    },
    {
     "data": {
      "application/vnd.jupyter.widget-view+json": {
       "model_id": "e99611e2677348f2874b253053818231",
       "version_major": 2,
       "version_minor": 0
      },
      "text/plain": [
       "Transcribing:   0%|          | 0/1 [00:00<?, ?it/s]"
      ]
     },
     "metadata": {},
     "output_type": "display_data"
    },
    {
     "data": {
      "application/vnd.jupyter.widget-view+json": {
       "model_id": "ca0b74847a0b4f9a8ab8153cfca84567",
       "version_major": 2,
       "version_minor": 0
      },
      "text/plain": [
       "Transcribing:   0%|          | 0/1 [00:00<?, ?it/s]"
      ]
     },
     "metadata": {},
     "output_type": "display_data"
    },
    {
     "data": {
      "application/vnd.jupyter.widget-view+json": {
       "model_id": "041b7f83cfda4105bf7c1df3e1fac251",
       "version_major": 2,
       "version_minor": 0
      },
      "text/plain": [
       "Transcribing:   0%|          | 0/1 [00:00<?, ?it/s]"
      ]
     },
     "metadata": {},
     "output_type": "display_data"
    },
    {
     "data": {
      "application/vnd.jupyter.widget-view+json": {
       "model_id": "7c906a19db05424eb90bf2bd873a1657",
       "version_major": 2,
       "version_minor": 0
      },
      "text/plain": [
       "Transcribing:   0%|          | 0/1 [00:00<?, ?it/s]"
      ]
     },
     "metadata": {},
     "output_type": "display_data"
    },
    {
     "data": {
      "application/vnd.jupyter.widget-view+json": {
       "model_id": "42cf24d75ecc4e4d909ed9b9813c1c75",
       "version_major": 2,
       "version_minor": 0
      },
      "text/plain": [
       "Transcribing:   0%|          | 0/1 [00:00<?, ?it/s]"
      ]
     },
     "metadata": {},
     "output_type": "display_data"
    },
    {
     "data": {
      "application/vnd.jupyter.widget-view+json": {
       "model_id": "f41163ab7ed447aab8b0377a70400a44",
       "version_major": 2,
       "version_minor": 0
      },
      "text/plain": [
       "Transcribing:   0%|          | 0/1 [00:00<?, ?it/s]"
      ]
     },
     "metadata": {},
     "output_type": "display_data"
    },
    {
     "data": {
      "application/vnd.jupyter.widget-view+json": {
       "model_id": "725eb3e6af8b46008f52cddc8100c529",
       "version_major": 2,
       "version_minor": 0
      },
      "text/plain": [
       "Transcribing:   0%|          | 0/1 [00:00<?, ?it/s]"
      ]
     },
     "metadata": {},
     "output_type": "display_data"
    },
    {
     "data": {
      "application/vnd.jupyter.widget-view+json": {
       "model_id": "9529931ca6694b379f3da3fde04de55b",
       "version_major": 2,
       "version_minor": 0
      },
      "text/plain": [
       "Transcribing:   0%|          | 0/1 [00:00<?, ?it/s]"
      ]
     },
     "metadata": {},
     "output_type": "display_data"
    },
    {
     "data": {
      "application/vnd.jupyter.widget-view+json": {
       "model_id": "442c561c0cb94a0fb8206eafbec18fc7",
       "version_major": 2,
       "version_minor": 0
      },
      "text/plain": [
       "Transcribing:   0%|          | 0/1 [00:00<?, ?it/s]"
      ]
     },
     "metadata": {},
     "output_type": "display_data"
    },
    {
     "data": {
      "application/vnd.jupyter.widget-view+json": {
       "model_id": "9182db5d33284a28a09018ae195279a7",
       "version_major": 2,
       "version_minor": 0
      },
      "text/plain": [
       "Transcribing:   0%|          | 0/1 [00:00<?, ?it/s]"
      ]
     },
     "metadata": {},
     "output_type": "display_data"
    },
    {
     "data": {
      "application/vnd.jupyter.widget-view+json": {
       "model_id": "16dcf6bc5d0844d4b5a08472a69adc8e",
       "version_major": 2,
       "version_minor": 0
      },
      "text/plain": [
       "Transcribing:   0%|          | 0/1 [00:00<?, ?it/s]"
      ]
     },
     "metadata": {},
     "output_type": "display_data"
    },
    {
     "data": {
      "application/vnd.jupyter.widget-view+json": {
       "model_id": "e021c003efe94c05b498044305670386",
       "version_major": 2,
       "version_minor": 0
      },
      "text/plain": [
       "Transcribing:   0%|          | 0/1 [00:00<?, ?it/s]"
      ]
     },
     "metadata": {},
     "output_type": "display_data"
    },
    {
     "data": {
      "application/vnd.jupyter.widget-view+json": {
       "model_id": "eef6e753eee74dbf9f42126414114b53",
       "version_major": 2,
       "version_minor": 0
      },
      "text/plain": [
       "Transcribing:   0%|          | 0/1 [00:00<?, ?it/s]"
      ]
     },
     "metadata": {},
     "output_type": "display_data"
    },
    {
     "data": {
      "application/vnd.jupyter.widget-view+json": {
       "model_id": "230353cf8a1d470daec3d53c77704192",
       "version_major": 2,
       "version_minor": 0
      },
      "text/plain": [
       "Transcribing:   0%|          | 0/1 [00:00<?, ?it/s]"
      ]
     },
     "metadata": {},
     "output_type": "display_data"
    },
    {
     "data": {
      "application/vnd.jupyter.widget-view+json": {
       "model_id": "f0abb9f7de8a4394be00e37e537cef35",
       "version_major": 2,
       "version_minor": 0
      },
      "text/plain": [
       "Transcribing:   0%|          | 0/1 [00:00<?, ?it/s]"
      ]
     },
     "metadata": {},
     "output_type": "display_data"
    },
    {
     "data": {
      "application/vnd.jupyter.widget-view+json": {
       "model_id": "210ff155d05a4503b0732803fd950ee4",
       "version_major": 2,
       "version_minor": 0
      },
      "text/plain": [
       "Transcribing:   0%|          | 0/1 [00:00<?, ?it/s]"
      ]
     },
     "metadata": {},
     "output_type": "display_data"
    },
    {
     "data": {
      "application/vnd.jupyter.widget-view+json": {
       "model_id": "f5fdfa1a868847d2aef57b88ada9db29",
       "version_major": 2,
       "version_minor": 0
      },
      "text/plain": [
       "Transcribing:   0%|          | 0/1 [00:00<?, ?it/s]"
      ]
     },
     "metadata": {},
     "output_type": "display_data"
    },
    {
     "data": {
      "application/vnd.jupyter.widget-view+json": {
       "model_id": "09b57d4c2ac34e21bd594906211ad4e8",
       "version_major": 2,
       "version_minor": 0
      },
      "text/plain": [
       "Transcribing:   0%|          | 0/1 [00:00<?, ?it/s]"
      ]
     },
     "metadata": {},
     "output_type": "display_data"
    },
    {
     "data": {
      "application/vnd.jupyter.widget-view+json": {
       "model_id": "fdb060eeb64a421da4cb9d2e5df85624",
       "version_major": 2,
       "version_minor": 0
      },
      "text/plain": [
       "Transcribing:   0%|          | 0/1 [00:00<?, ?it/s]"
      ]
     },
     "metadata": {},
     "output_type": "display_data"
    },
    {
     "data": {
      "application/vnd.jupyter.widget-view+json": {
       "model_id": "b7ea32d0ea144deb97cff53ecfc59737",
       "version_major": 2,
       "version_minor": 0
      },
      "text/plain": [
       "Transcribing:   0%|          | 0/1 [00:00<?, ?it/s]"
      ]
     },
     "metadata": {},
     "output_type": "display_data"
    },
    {
     "data": {
      "application/vnd.jupyter.widget-view+json": {
       "model_id": "1a9266cf149d404188d2b11979d87faf",
       "version_major": 2,
       "version_minor": 0
      },
      "text/plain": [
       "Transcribing:   0%|          | 0/1 [00:00<?, ?it/s]"
      ]
     },
     "metadata": {},
     "output_type": "display_data"
    },
    {
     "data": {
      "application/vnd.jupyter.widget-view+json": {
       "model_id": "4ca90895692b480e9c72e35a22cf0caf",
       "version_major": 2,
       "version_minor": 0
      },
      "text/plain": [
       "Transcribing:   0%|          | 0/1 [00:00<?, ?it/s]"
      ]
     },
     "metadata": {},
     "output_type": "display_data"
    },
    {
     "data": {
      "application/vnd.jupyter.widget-view+json": {
       "model_id": "cd9b9e89a2df4af9abade0a26f084667",
       "version_major": 2,
       "version_minor": 0
      },
      "text/plain": [
       "Transcribing:   0%|          | 0/1 [00:00<?, ?it/s]"
      ]
     },
     "metadata": {},
     "output_type": "display_data"
    },
    {
     "data": {
      "application/vnd.jupyter.widget-view+json": {
       "model_id": "9906f131745c4340b66e7379967139de",
       "version_major": 2,
       "version_minor": 0
      },
      "text/plain": [
       "Transcribing:   0%|          | 0/1 [00:00<?, ?it/s]"
      ]
     },
     "metadata": {},
     "output_type": "display_data"
    },
    {
     "data": {
      "application/vnd.jupyter.widget-view+json": {
       "model_id": "b592cfb5dbf74b559d8005df5604a5a6",
       "version_major": 2,
       "version_minor": 0
      },
      "text/plain": [
       "Transcribing:   0%|          | 0/1 [00:00<?, ?it/s]"
      ]
     },
     "metadata": {},
     "output_type": "display_data"
    },
    {
     "data": {
      "application/vnd.jupyter.widget-view+json": {
       "model_id": "952261296f1f4df1b27dd00bf4c19a06",
       "version_major": 2,
       "version_minor": 0
      },
      "text/plain": [
       "Transcribing:   0%|          | 0/1 [00:00<?, ?it/s]"
      ]
     },
     "metadata": {},
     "output_type": "display_data"
    },
    {
     "data": {
      "application/vnd.jupyter.widget-view+json": {
       "model_id": "047089fc12b34bc8be2cfeed423d8cb5",
       "version_major": 2,
       "version_minor": 0
      },
      "text/plain": [
       "Transcribing:   0%|          | 0/1 [00:00<?, ?it/s]"
      ]
     },
     "metadata": {},
     "output_type": "display_data"
    },
    {
     "data": {
      "application/vnd.jupyter.widget-view+json": {
       "model_id": "c18ce77c52c447ba908009e9d12ffe9d",
       "version_major": 2,
       "version_minor": 0
      },
      "text/plain": [
       "Transcribing:   0%|          | 0/1 [00:00<?, ?it/s]"
      ]
     },
     "metadata": {},
     "output_type": "display_data"
    },
    {
     "data": {
      "application/vnd.jupyter.widget-view+json": {
       "model_id": "d6ae1f39d2a5472b8247407792eaebe9",
       "version_major": 2,
       "version_minor": 0
      },
      "text/plain": [
       "Transcribing:   0%|          | 0/1 [00:00<?, ?it/s]"
      ]
     },
     "metadata": {},
     "output_type": "display_data"
    },
    {
     "data": {
      "application/vnd.jupyter.widget-view+json": {
       "model_id": "0a27d8757752466cbc10b4d6311f24eb",
       "version_major": 2,
       "version_minor": 0
      },
      "text/plain": [
       "Transcribing:   0%|          | 0/1 [00:00<?, ?it/s]"
      ]
     },
     "metadata": {},
     "output_type": "display_data"
    },
    {
     "data": {
      "application/vnd.jupyter.widget-view+json": {
       "model_id": "def7d8d5bb164c018d880346e29015a9",
       "version_major": 2,
       "version_minor": 0
      },
      "text/plain": [
       "Transcribing:   0%|          | 0/1 [00:00<?, ?it/s]"
      ]
     },
     "metadata": {},
     "output_type": "display_data"
    },
    {
     "data": {
      "application/vnd.jupyter.widget-view+json": {
       "model_id": "b89b5429be1244dcb37c4157d8e23cde",
       "version_major": 2,
       "version_minor": 0
      },
      "text/plain": [
       "Transcribing:   0%|          | 0/1 [00:00<?, ?it/s]"
      ]
     },
     "metadata": {},
     "output_type": "display_data"
    },
    {
     "data": {
      "application/vnd.jupyter.widget-view+json": {
       "model_id": "5c43cd559d124e66967630b7897e69e5",
       "version_major": 2,
       "version_minor": 0
      },
      "text/plain": [
       "Transcribing:   0%|          | 0/1 [00:00<?, ?it/s]"
      ]
     },
     "metadata": {},
     "output_type": "display_data"
    },
    {
     "data": {
      "application/vnd.jupyter.widget-view+json": {
       "model_id": "b7b03cef2ac045dbb7693d4dc9afdc94",
       "version_major": 2,
       "version_minor": 0
      },
      "text/plain": [
       "Transcribing:   0%|          | 0/1 [00:00<?, ?it/s]"
      ]
     },
     "metadata": {},
     "output_type": "display_data"
    },
    {
     "data": {
      "application/vnd.jupyter.widget-view+json": {
       "model_id": "8500cc88eb1a4553a8c5b809d6bc7cf2",
       "version_major": 2,
       "version_minor": 0
      },
      "text/plain": [
       "Transcribing:   0%|          | 0/1 [00:00<?, ?it/s]"
      ]
     },
     "metadata": {},
     "output_type": "display_data"
    },
    {
     "data": {
      "application/vnd.jupyter.widget-view+json": {
       "model_id": "7e15e1d45b1a42469c3108ed33245aa7",
       "version_major": 2,
       "version_minor": 0
      },
      "text/plain": [
       "Transcribing:   0%|          | 0/1 [00:00<?, ?it/s]"
      ]
     },
     "metadata": {},
     "output_type": "display_data"
    },
    {
     "data": {
      "application/vnd.jupyter.widget-view+json": {
       "model_id": "8ed4154f3a51432e8cacf1c6a8373fb2",
       "version_major": 2,
       "version_minor": 0
      },
      "text/plain": [
       "Transcribing:   0%|          | 0/1 [00:00<?, ?it/s]"
      ]
     },
     "metadata": {},
     "output_type": "display_data"
    },
    {
     "data": {
      "application/vnd.jupyter.widget-view+json": {
       "model_id": "42c5cf0fe5354c879ed006b9614a92c3",
       "version_major": 2,
       "version_minor": 0
      },
      "text/plain": [
       "Transcribing:   0%|          | 0/1 [00:00<?, ?it/s]"
      ]
     },
     "metadata": {},
     "output_type": "display_data"
    },
    {
     "data": {
      "application/vnd.jupyter.widget-view+json": {
       "model_id": "b2cbba0f5b2f40e781a74d210705179d",
       "version_major": 2,
       "version_minor": 0
      },
      "text/plain": [
       "Transcribing:   0%|          | 0/1 [00:00<?, ?it/s]"
      ]
     },
     "metadata": {},
     "output_type": "display_data"
    },
    {
     "data": {
      "application/vnd.jupyter.widget-view+json": {
       "model_id": "acf972f15e594d16add21852e1c89db0",
       "version_major": 2,
       "version_minor": 0
      },
      "text/plain": [
       "Transcribing:   0%|          | 0/1 [00:00<?, ?it/s]"
      ]
     },
     "metadata": {},
     "output_type": "display_data"
    },
    {
     "data": {
      "application/vnd.jupyter.widget-view+json": {
       "model_id": "55119c48764d4f628cc5d18b1c1de604",
       "version_major": 2,
       "version_minor": 0
      },
      "text/plain": [
       "Transcribing:   0%|          | 0/1 [00:00<?, ?it/s]"
      ]
     },
     "metadata": {},
     "output_type": "display_data"
    },
    {
     "data": {
      "application/vnd.jupyter.widget-view+json": {
       "model_id": "0c43050070dd4124be4dd8fd13ecceec",
       "version_major": 2,
       "version_minor": 0
      },
      "text/plain": [
       "Transcribing:   0%|          | 0/1 [00:00<?, ?it/s]"
      ]
     },
     "metadata": {},
     "output_type": "display_data"
    },
    {
     "data": {
      "application/vnd.jupyter.widget-view+json": {
       "model_id": "9863751b6ace49dfae97175d24e714bf",
       "version_major": 2,
       "version_minor": 0
      },
      "text/plain": [
       "Transcribing:   0%|          | 0/1 [00:00<?, ?it/s]"
      ]
     },
     "metadata": {},
     "output_type": "display_data"
    },
    {
     "data": {
      "application/vnd.jupyter.widget-view+json": {
       "model_id": "0b3e8aca399648aca0ba6b71d049b161",
       "version_major": 2,
       "version_minor": 0
      },
      "text/plain": [
       "Transcribing:   0%|          | 0/1 [00:00<?, ?it/s]"
      ]
     },
     "metadata": {},
     "output_type": "display_data"
    },
    {
     "data": {
      "application/vnd.jupyter.widget-view+json": {
       "model_id": "a81cb113f0d14af39202f865696194c6",
       "version_major": 2,
       "version_minor": 0
      },
      "text/plain": [
       "Transcribing:   0%|          | 0/1 [00:00<?, ?it/s]"
      ]
     },
     "metadata": {},
     "output_type": "display_data"
    },
    {
     "data": {
      "application/vnd.jupyter.widget-view+json": {
       "model_id": "bf01ecdbad7a4384a23205f106f12989",
       "version_major": 2,
       "version_minor": 0
      },
      "text/plain": [
       "Transcribing:   0%|          | 0/1 [00:00<?, ?it/s]"
      ]
     },
     "metadata": {},
     "output_type": "display_data"
    },
    {
     "data": {
      "application/vnd.jupyter.widget-view+json": {
       "model_id": "ac96d00b578f442fb0e0483b155dc047",
       "version_major": 2,
       "version_minor": 0
      },
      "text/plain": [
       "Transcribing:   0%|          | 0/1 [00:00<?, ?it/s]"
      ]
     },
     "metadata": {},
     "output_type": "display_data"
    },
    {
     "data": {
      "application/vnd.jupyter.widget-view+json": {
       "model_id": "c76ba1e0b7584666a0067514ba4827fb",
       "version_major": 2,
       "version_minor": 0
      },
      "text/plain": [
       "Transcribing:   0%|          | 0/1 [00:00<?, ?it/s]"
      ]
     },
     "metadata": {},
     "output_type": "display_data"
    },
    {
     "data": {
      "application/vnd.jupyter.widget-view+json": {
       "model_id": "9123ec1f65da4ccabd55b3f937139224",
       "version_major": 2,
       "version_minor": 0
      },
      "text/plain": [
       "Transcribing:   0%|          | 0/1 [00:00<?, ?it/s]"
      ]
     },
     "metadata": {},
     "output_type": "display_data"
    },
    {
     "data": {
      "application/vnd.jupyter.widget-view+json": {
       "model_id": "98376054fe1c44e7879ff24aa7a40422",
       "version_major": 2,
       "version_minor": 0
      },
      "text/plain": [
       "Transcribing:   0%|          | 0/1 [00:00<?, ?it/s]"
      ]
     },
     "metadata": {},
     "output_type": "display_data"
    },
    {
     "data": {
      "application/vnd.jupyter.widget-view+json": {
       "model_id": "f3e128305207412faa5660dbdd40902b",
       "version_major": 2,
       "version_minor": 0
      },
      "text/plain": [
       "Transcribing:   0%|          | 0/1 [00:00<?, ?it/s]"
      ]
     },
     "metadata": {},
     "output_type": "display_data"
    },
    {
     "data": {
      "application/vnd.jupyter.widget-view+json": {
       "model_id": "75b1189caeba4b1e81aaeee4d61ddf1c",
       "version_major": 2,
       "version_minor": 0
      },
      "text/plain": [
       "Transcribing:   0%|          | 0/1 [00:00<?, ?it/s]"
      ]
     },
     "metadata": {},
     "output_type": "display_data"
    },
    {
     "data": {
      "application/vnd.jupyter.widget-view+json": {
       "model_id": "879a1393f37e483b9fdbadc70e950c57",
       "version_major": 2,
       "version_minor": 0
      },
      "text/plain": [
       "Transcribing:   0%|          | 0/1 [00:00<?, ?it/s]"
      ]
     },
     "metadata": {},
     "output_type": "display_data"
    },
    {
     "data": {
      "application/vnd.jupyter.widget-view+json": {
       "model_id": "c5ed6721ce954448b6fac1809f3d2faf",
       "version_major": 2,
       "version_minor": 0
      },
      "text/plain": [
       "Transcribing:   0%|          | 0/1 [00:00<?, ?it/s]"
      ]
     },
     "metadata": {},
     "output_type": "display_data"
    },
    {
     "data": {
      "application/vnd.jupyter.widget-view+json": {
       "model_id": "e093e0a14e804b98babd087791773297",
       "version_major": 2,
       "version_minor": 0
      },
      "text/plain": [
       "Transcribing:   0%|          | 0/1 [00:00<?, ?it/s]"
      ]
     },
     "metadata": {},
     "output_type": "display_data"
    },
    {
     "data": {
      "application/vnd.jupyter.widget-view+json": {
       "model_id": "6972cf0700cc4ac1ade6992ded205cb4",
       "version_major": 2,
       "version_minor": 0
      },
      "text/plain": [
       "Transcribing:   0%|          | 0/1 [00:00<?, ?it/s]"
      ]
     },
     "metadata": {},
     "output_type": "display_data"
    },
    {
     "data": {
      "application/vnd.jupyter.widget-view+json": {
       "model_id": "a4ac562e394e4c22b935b8c55bbc27b6",
       "version_major": 2,
       "version_minor": 0
      },
      "text/plain": [
       "Transcribing:   0%|          | 0/1 [00:00<?, ?it/s]"
      ]
     },
     "metadata": {},
     "output_type": "display_data"
    },
    {
     "data": {
      "application/vnd.jupyter.widget-view+json": {
       "model_id": "4ed9e834d4d848c4ba77fd9cbbbf7c28",
       "version_major": 2,
       "version_minor": 0
      },
      "text/plain": [
       "Transcribing:   0%|          | 0/1 [00:00<?, ?it/s]"
      ]
     },
     "metadata": {},
     "output_type": "display_data"
    },
    {
     "data": {
      "application/vnd.jupyter.widget-view+json": {
       "model_id": "e27b4a73873c4047b83d1dbdefd63982",
       "version_major": 2,
       "version_minor": 0
      },
      "text/plain": [
       "Transcribing:   0%|          | 0/1 [00:00<?, ?it/s]"
      ]
     },
     "metadata": {},
     "output_type": "display_data"
    },
    {
     "data": {
      "application/vnd.jupyter.widget-view+json": {
       "model_id": "0691b09a4e0246c89f2d62961939a74a",
       "version_major": 2,
       "version_minor": 0
      },
      "text/plain": [
       "Transcribing:   0%|          | 0/1 [00:00<?, ?it/s]"
      ]
     },
     "metadata": {},
     "output_type": "display_data"
    },
    {
     "data": {
      "application/vnd.jupyter.widget-view+json": {
       "model_id": "b4b12c96c5774a04a0954ed12b569c54",
       "version_major": 2,
       "version_minor": 0
      },
      "text/plain": [
       "Transcribing:   0%|          | 0/1 [00:00<?, ?it/s]"
      ]
     },
     "metadata": {},
     "output_type": "display_data"
    },
    {
     "data": {
      "application/vnd.jupyter.widget-view+json": {
       "model_id": "1bf9d16229854e659a09c38d33199aa7",
       "version_major": 2,
       "version_minor": 0
      },
      "text/plain": [
       "Transcribing:   0%|          | 0/1 [00:00<?, ?it/s]"
      ]
     },
     "metadata": {},
     "output_type": "display_data"
    },
    {
     "data": {
      "application/vnd.jupyter.widget-view+json": {
       "model_id": "1b7e38583afc4c2fbe2695fa3c1762b5",
       "version_major": 2,
       "version_minor": 0
      },
      "text/plain": [
       "Transcribing:   0%|          | 0/1 [00:00<?, ?it/s]"
      ]
     },
     "metadata": {},
     "output_type": "display_data"
    },
    {
     "data": {
      "application/vnd.jupyter.widget-view+json": {
       "model_id": "acec5f204557447e8919d0ae3772417a",
       "version_major": 2,
       "version_minor": 0
      },
      "text/plain": [
       "Transcribing:   0%|          | 0/1 [00:00<?, ?it/s]"
      ]
     },
     "metadata": {},
     "output_type": "display_data"
    },
    {
     "data": {
      "application/vnd.jupyter.widget-view+json": {
       "model_id": "80fb1c0ebadb4849955cee998ace622c",
       "version_major": 2,
       "version_minor": 0
      },
      "text/plain": [
       "Transcribing:   0%|          | 0/1 [00:00<?, ?it/s]"
      ]
     },
     "metadata": {},
     "output_type": "display_data"
    },
    {
     "data": {
      "application/vnd.jupyter.widget-view+json": {
       "model_id": "6bc39c3bfae946a7979368cf9436c92d",
       "version_major": 2,
       "version_minor": 0
      },
      "text/plain": [
       "Transcribing:   0%|          | 0/1 [00:00<?, ?it/s]"
      ]
     },
     "metadata": {},
     "output_type": "display_data"
    },
    {
     "data": {
      "application/vnd.jupyter.widget-view+json": {
       "model_id": "6eef3e5d68534c3fbfa2efd93e6a2e83",
       "version_major": 2,
       "version_minor": 0
      },
      "text/plain": [
       "Transcribing:   0%|          | 0/1 [00:00<?, ?it/s]"
      ]
     },
     "metadata": {},
     "output_type": "display_data"
    },
    {
     "data": {
      "application/vnd.jupyter.widget-view+json": {
       "model_id": "23368eb2cbd34f85b632db8d7cc6a1b2",
       "version_major": 2,
       "version_minor": 0
      },
      "text/plain": [
       "Transcribing:   0%|          | 0/1 [00:00<?, ?it/s]"
      ]
     },
     "metadata": {},
     "output_type": "display_data"
    },
    {
     "data": {
      "application/vnd.jupyter.widget-view+json": {
       "model_id": "d66766ea7da64ce4b46d55724d4ce4f5",
       "version_major": 2,
       "version_minor": 0
      },
      "text/plain": [
       "Transcribing:   0%|          | 0/1 [00:00<?, ?it/s]"
      ]
     },
     "metadata": {},
     "output_type": "display_data"
    },
    {
     "data": {
      "application/vnd.jupyter.widget-view+json": {
       "model_id": "9b8bd0b4bcb6447da469e193905a223a",
       "version_major": 2,
       "version_minor": 0
      },
      "text/plain": [
       "Transcribing:   0%|          | 0/1 [00:00<?, ?it/s]"
      ]
     },
     "metadata": {},
     "output_type": "display_data"
    },
    {
     "data": {
      "application/vnd.jupyter.widget-view+json": {
       "model_id": "b1f511ddabfb46398274c08ea2388bb2",
       "version_major": 2,
       "version_minor": 0
      },
      "text/plain": [
       "Transcribing:   0%|          | 0/1 [00:00<?, ?it/s]"
      ]
     },
     "metadata": {},
     "output_type": "display_data"
    },
    {
     "data": {
      "application/vnd.jupyter.widget-view+json": {
       "model_id": "5072ddcfc3a942d884dd73959cc2d357",
       "version_major": 2,
       "version_minor": 0
      },
      "text/plain": [
       "Transcribing:   0%|          | 0/1 [00:00<?, ?it/s]"
      ]
     },
     "metadata": {},
     "output_type": "display_data"
    },
    {
     "data": {
      "application/vnd.jupyter.widget-view+json": {
       "model_id": "619492fcc20b4e9098568234fc879e23",
       "version_major": 2,
       "version_minor": 0
      },
      "text/plain": [
       "Transcribing:   0%|          | 0/1 [00:00<?, ?it/s]"
      ]
     },
     "metadata": {},
     "output_type": "display_data"
    },
    {
     "data": {
      "application/vnd.jupyter.widget-view+json": {
       "model_id": "ac7b96d388344f0881aa8d06227690ab",
       "version_major": 2,
       "version_minor": 0
      },
      "text/plain": [
       "Transcribing:   0%|          | 0/1 [00:00<?, ?it/s]"
      ]
     },
     "metadata": {},
     "output_type": "display_data"
    },
    {
     "data": {
      "application/vnd.jupyter.widget-view+json": {
       "model_id": "97320f9ef6d6410fa144695513cf65c6",
       "version_major": 2,
       "version_minor": 0
      },
      "text/plain": [
       "Transcribing:   0%|          | 0/1 [00:00<?, ?it/s]"
      ]
     },
     "metadata": {},
     "output_type": "display_data"
    },
    {
     "data": {
      "application/vnd.jupyter.widget-view+json": {
       "model_id": "3df1dbb153824a63b9f607033eb4c929",
       "version_major": 2,
       "version_minor": 0
      },
      "text/plain": [
       "Transcribing:   0%|          | 0/1 [00:00<?, ?it/s]"
      ]
     },
     "metadata": {},
     "output_type": "display_data"
    },
    {
     "data": {
      "application/vnd.jupyter.widget-view+json": {
       "model_id": "2b5b12c66708400b8c7caee8b7342b9f",
       "version_major": 2,
       "version_minor": 0
      },
      "text/plain": [
       "Transcribing:   0%|          | 0/1 [00:00<?, ?it/s]"
      ]
     },
     "metadata": {},
     "output_type": "display_data"
    },
    {
     "data": {
      "application/vnd.jupyter.widget-view+json": {
       "model_id": "c9efc2d279fd41fd938dc28582c820f1",
       "version_major": 2,
       "version_minor": 0
      },
      "text/plain": [
       "Transcribing:   0%|          | 0/1 [00:00<?, ?it/s]"
      ]
     },
     "metadata": {},
     "output_type": "display_data"
    },
    {
     "data": {
      "application/vnd.jupyter.widget-view+json": {
       "model_id": "736e1df8b3f844158a63853a2234ff0c",
       "version_major": 2,
       "version_minor": 0
      },
      "text/plain": [
       "Transcribing:   0%|          | 0/1 [00:00<?, ?it/s]"
      ]
     },
     "metadata": {},
     "output_type": "display_data"
    },
    {
     "data": {
      "application/vnd.jupyter.widget-view+json": {
       "model_id": "d1ec9fa66653477594cb8aa1cb15b7ea",
       "version_major": 2,
       "version_minor": 0
      },
      "text/plain": [
       "Transcribing:   0%|          | 0/1 [00:00<?, ?it/s]"
      ]
     },
     "metadata": {},
     "output_type": "display_data"
    },
    {
     "data": {
      "application/vnd.jupyter.widget-view+json": {
       "model_id": "dc16e49eb5a24e21950baaed81365d68",
       "version_major": 2,
       "version_minor": 0
      },
      "text/plain": [
       "Transcribing:   0%|          | 0/1 [00:00<?, ?it/s]"
      ]
     },
     "metadata": {},
     "output_type": "display_data"
    },
    {
     "data": {
      "application/vnd.jupyter.widget-view+json": {
       "model_id": "b7b312ab3a804ec187c5c699822d1247",
       "version_major": 2,
       "version_minor": 0
      },
      "text/plain": [
       "Transcribing:   0%|          | 0/1 [00:00<?, ?it/s]"
      ]
     },
     "metadata": {},
     "output_type": "display_data"
    },
    {
     "data": {
      "application/vnd.jupyter.widget-view+json": {
       "model_id": "5b2fc83da5974c428bc51efa9c26c3b8",
       "version_major": 2,
       "version_minor": 0
      },
      "text/plain": [
       "Transcribing:   0%|          | 0/1 [00:00<?, ?it/s]"
      ]
     },
     "metadata": {},
     "output_type": "display_data"
    },
    {
     "data": {
      "application/vnd.jupyter.widget-view+json": {
       "model_id": "ad12b5c34e144445ba7c2c143fb984d1",
       "version_major": 2,
       "version_minor": 0
      },
      "text/plain": [
       "Transcribing:   0%|          | 0/1 [00:00<?, ?it/s]"
      ]
     },
     "metadata": {},
     "output_type": "display_data"
    },
    {
     "data": {
      "application/vnd.jupyter.widget-view+json": {
       "model_id": "5eefcbfe3b0f403e99dfe1d2ca71c03f",
       "version_major": 2,
       "version_minor": 0
      },
      "text/plain": [
       "Transcribing:   0%|          | 0/1 [00:00<?, ?it/s]"
      ]
     },
     "metadata": {},
     "output_type": "display_data"
    },
    {
     "data": {
      "application/vnd.jupyter.widget-view+json": {
       "model_id": "3e868642e24e4303aa932b1b28653235",
       "version_major": 2,
       "version_minor": 0
      },
      "text/plain": [
       "Transcribing:   0%|          | 0/1 [00:00<?, ?it/s]"
      ]
     },
     "metadata": {},
     "output_type": "display_data"
    },
    {
     "data": {
      "application/vnd.jupyter.widget-view+json": {
       "model_id": "4a1e30e61f4d4146926f621beea17682",
       "version_major": 2,
       "version_minor": 0
      },
      "text/plain": [
       "Transcribing:   0%|          | 0/1 [00:00<?, ?it/s]"
      ]
     },
     "metadata": {},
     "output_type": "display_data"
    },
    {
     "data": {
      "application/vnd.jupyter.widget-view+json": {
       "model_id": "848f6bdffdb84a6ba4f0b9d74979d77f",
       "version_major": 2,
       "version_minor": 0
      },
      "text/plain": [
       "Transcribing:   0%|          | 0/1 [00:00<?, ?it/s]"
      ]
     },
     "metadata": {},
     "output_type": "display_data"
    },
    {
     "data": {
      "application/vnd.jupyter.widget-view+json": {
       "model_id": "1ef6ad582ab44fc8a91c7586549de22d",
       "version_major": 2,
       "version_minor": 0
      },
      "text/plain": [
       "Transcribing:   0%|          | 0/1 [00:00<?, ?it/s]"
      ]
     },
     "metadata": {},
     "output_type": "display_data"
    },
    {
     "data": {
      "application/vnd.jupyter.widget-view+json": {
       "model_id": "f3cb504f10d24a0e93f482d7d59574eb",
       "version_major": 2,
       "version_minor": 0
      },
      "text/plain": [
       "Transcribing:   0%|          | 0/1 [00:00<?, ?it/s]"
      ]
     },
     "metadata": {},
     "output_type": "display_data"
    },
    {
     "data": {
      "application/vnd.jupyter.widget-view+json": {
       "model_id": "c896cd444a914f32b4aa066c8a256a13",
       "version_major": 2,
       "version_minor": 0
      },
      "text/plain": [
       "Transcribing:   0%|          | 0/1 [00:00<?, ?it/s]"
      ]
     },
     "metadata": {},
     "output_type": "display_data"
    },
    {
     "data": {
      "application/vnd.jupyter.widget-view+json": {
       "model_id": "487b1b22c1f9428696129915aaac3539",
       "version_major": 2,
       "version_minor": 0
      },
      "text/plain": [
       "Transcribing:   0%|          | 0/1 [00:00<?, ?it/s]"
      ]
     },
     "metadata": {},
     "output_type": "display_data"
    },
    {
     "data": {
      "application/vnd.jupyter.widget-view+json": {
       "model_id": "2d5388494d0a4b02969b29fd20f04b99",
       "version_major": 2,
       "version_minor": 0
      },
      "text/plain": [
       "Transcribing:   0%|          | 0/1 [00:00<?, ?it/s]"
      ]
     },
     "metadata": {},
     "output_type": "display_data"
    },
    {
     "data": {
      "application/vnd.jupyter.widget-view+json": {
       "model_id": "9cee89ec0e424b7090f2a590fcff87bc",
       "version_major": 2,
       "version_minor": 0
      },
      "text/plain": [
       "Transcribing:   0%|          | 0/1 [00:00<?, ?it/s]"
      ]
     },
     "metadata": {},
     "output_type": "display_data"
    },
    {
     "data": {
      "application/vnd.jupyter.widget-view+json": {
       "model_id": "b939b870c50e48c68657f6e34510e08b",
       "version_major": 2,
       "version_minor": 0
      },
      "text/plain": [
       "Transcribing:   0%|          | 0/1 [00:00<?, ?it/s]"
      ]
     },
     "metadata": {},
     "output_type": "display_data"
    },
    {
     "data": {
      "application/vnd.jupyter.widget-view+json": {
       "model_id": "9b89aa09f48c4d9e965b9bc729de97b7",
       "version_major": 2,
       "version_minor": 0
      },
      "text/plain": [
       "Transcribing:   0%|          | 0/1 [00:00<?, ?it/s]"
      ]
     },
     "metadata": {},
     "output_type": "display_data"
    },
    {
     "data": {
      "application/vnd.jupyter.widget-view+json": {
       "model_id": "542d1fb5c19344b991a7f3070f48ac77",
       "version_major": 2,
       "version_minor": 0
      },
      "text/plain": [
       "Transcribing:   0%|          | 0/1 [00:00<?, ?it/s]"
      ]
     },
     "metadata": {},
     "output_type": "display_data"
    },
    {
     "data": {
      "application/vnd.jupyter.widget-view+json": {
       "model_id": "1174d11c6e864a6080b3e3cb0f81e2d6",
       "version_major": 2,
       "version_minor": 0
      },
      "text/plain": [
       "Transcribing:   0%|          | 0/1 [00:00<?, ?it/s]"
      ]
     },
     "metadata": {},
     "output_type": "display_data"
    },
    {
     "data": {
      "application/vnd.jupyter.widget-view+json": {
       "model_id": "5bde40bc6e1842c986e3fd021ce395aa",
       "version_major": 2,
       "version_minor": 0
      },
      "text/plain": [
       "Transcribing:   0%|          | 0/1 [00:00<?, ?it/s]"
      ]
     },
     "metadata": {},
     "output_type": "display_data"
    },
    {
     "data": {
      "application/vnd.jupyter.widget-view+json": {
       "model_id": "f53a0bcc9526476ea5fd514f9a7015b7",
       "version_major": 2,
       "version_minor": 0
      },
      "text/plain": [
       "Transcribing:   0%|          | 0/1 [00:00<?, ?it/s]"
      ]
     },
     "metadata": {},
     "output_type": "display_data"
    },
    {
     "data": {
      "application/vnd.jupyter.widget-view+json": {
       "model_id": "6b8c668754014a0e9920da69ff7d0ead",
       "version_major": 2,
       "version_minor": 0
      },
      "text/plain": [
       "Transcribing:   0%|          | 0/1 [00:00<?, ?it/s]"
      ]
     },
     "metadata": {},
     "output_type": "display_data"
    },
    {
     "data": {
      "application/vnd.jupyter.widget-view+json": {
       "model_id": "1ef5e25b8edc468b86fe2c574a04b836",
       "version_major": 2,
       "version_minor": 0
      },
      "text/plain": [
       "Transcribing:   0%|          | 0/1 [00:00<?, ?it/s]"
      ]
     },
     "metadata": {},
     "output_type": "display_data"
    },
    {
     "data": {
      "application/vnd.jupyter.widget-view+json": {
       "model_id": "83c8b22db5514b3dab881c154af77c64",
       "version_major": 2,
       "version_minor": 0
      },
      "text/plain": [
       "Transcribing:   0%|          | 0/1 [00:00<?, ?it/s]"
      ]
     },
     "metadata": {},
     "output_type": "display_data"
    },
    {
     "data": {
      "application/vnd.jupyter.widget-view+json": {
       "model_id": "c05cf933643c4fbb9db76fbc79f97e57",
       "version_major": 2,
       "version_minor": 0
      },
      "text/plain": [
       "Transcribing:   0%|          | 0/1 [00:00<?, ?it/s]"
      ]
     },
     "metadata": {},
     "output_type": "display_data"
    },
    {
     "data": {
      "application/vnd.jupyter.widget-view+json": {
       "model_id": "52fa011997d24ebb90e7bb343cec4f61",
       "version_major": 2,
       "version_minor": 0
      },
      "text/plain": [
       "Transcribing:   0%|          | 0/1 [00:00<?, ?it/s]"
      ]
     },
     "metadata": {},
     "output_type": "display_data"
    },
    {
     "data": {
      "application/vnd.jupyter.widget-view+json": {
       "model_id": "26f6439c32a64d8f998b5b8b44ee6867",
       "version_major": 2,
       "version_minor": 0
      },
      "text/plain": [
       "Transcribing:   0%|          | 0/1 [00:00<?, ?it/s]"
      ]
     },
     "metadata": {},
     "output_type": "display_data"
    },
    {
     "data": {
      "application/vnd.jupyter.widget-view+json": {
       "model_id": "bd78a974952548dababb6f89268221d1",
       "version_major": 2,
       "version_minor": 0
      },
      "text/plain": [
       "Transcribing:   0%|          | 0/1 [00:00<?, ?it/s]"
      ]
     },
     "metadata": {},
     "output_type": "display_data"
    },
    {
     "data": {
      "application/vnd.jupyter.widget-view+json": {
       "model_id": "660253c5bb104790b6f22819665e3cac",
       "version_major": 2,
       "version_minor": 0
      },
      "text/plain": [
       "Transcribing:   0%|          | 0/1 [00:00<?, ?it/s]"
      ]
     },
     "metadata": {},
     "output_type": "display_data"
    },
    {
     "data": {
      "application/vnd.jupyter.widget-view+json": {
       "model_id": "3548c16b814c4915b6f354483306d8fb",
       "version_major": 2,
       "version_minor": 0
      },
      "text/plain": [
       "Transcribing:   0%|          | 0/1 [00:00<?, ?it/s]"
      ]
     },
     "metadata": {},
     "output_type": "display_data"
    },
    {
     "data": {
      "application/vnd.jupyter.widget-view+json": {
       "model_id": "73fd4f2e33514ee7ade21b6104c7816c",
       "version_major": 2,
       "version_minor": 0
      },
      "text/plain": [
       "Transcribing:   0%|          | 0/1 [00:00<?, ?it/s]"
      ]
     },
     "metadata": {},
     "output_type": "display_data"
    },
    {
     "data": {
      "application/vnd.jupyter.widget-view+json": {
       "model_id": "fb3500f01f264aff8b2d9635e9c4078d",
       "version_major": 2,
       "version_minor": 0
      },
      "text/plain": [
       "Transcribing:   0%|          | 0/1 [00:00<?, ?it/s]"
      ]
     },
     "metadata": {},
     "output_type": "display_data"
    },
    {
     "data": {
      "application/vnd.jupyter.widget-view+json": {
       "model_id": "5e950d8630c7459b9a1288bb48498c3c",
       "version_major": 2,
       "version_minor": 0
      },
      "text/plain": [
       "Transcribing:   0%|          | 0/1 [00:00<?, ?it/s]"
      ]
     },
     "metadata": {},
     "output_type": "display_data"
    },
    {
     "data": {
      "application/vnd.jupyter.widget-view+json": {
       "model_id": "5f311337a5504476b2949f094e7a383d",
       "version_major": 2,
       "version_minor": 0
      },
      "text/plain": [
       "Transcribing:   0%|          | 0/1 [00:00<?, ?it/s]"
      ]
     },
     "metadata": {},
     "output_type": "display_data"
    },
    {
     "data": {
      "application/vnd.jupyter.widget-view+json": {
       "model_id": "2d0c3791a5b74e738ee773d4bdd0c46f",
       "version_major": 2,
       "version_minor": 0
      },
      "text/plain": [
       "Transcribing:   0%|          | 0/1 [00:00<?, ?it/s]"
      ]
     },
     "metadata": {},
     "output_type": "display_data"
    },
    {
     "data": {
      "application/vnd.jupyter.widget-view+json": {
       "model_id": "d3a90611a80a4aa08a10b5ac6e3085c4",
       "version_major": 2,
       "version_minor": 0
      },
      "text/plain": [
       "Transcribing:   0%|          | 0/1 [00:00<?, ?it/s]"
      ]
     },
     "metadata": {},
     "output_type": "display_data"
    },
    {
     "data": {
      "application/vnd.jupyter.widget-view+json": {
       "model_id": "3aa0ef90487c4ab1a0bb21a9a100a368",
       "version_major": 2,
       "version_minor": 0
      },
      "text/plain": [
       "Transcribing:   0%|          | 0/1 [00:00<?, ?it/s]"
      ]
     },
     "metadata": {},
     "output_type": "display_data"
    },
    {
     "data": {
      "application/vnd.jupyter.widget-view+json": {
       "model_id": "cc4a044a18da4153bd16d9443f6824c5",
       "version_major": 2,
       "version_minor": 0
      },
      "text/plain": [
       "Transcribing:   0%|          | 0/1 [00:00<?, ?it/s]"
      ]
     },
     "metadata": {},
     "output_type": "display_data"
    },
    {
     "data": {
      "application/vnd.jupyter.widget-view+json": {
       "model_id": "630fe0f8660c44abb58d586a051d3470",
       "version_major": 2,
       "version_minor": 0
      },
      "text/plain": [
       "Transcribing:   0%|          | 0/1 [00:00<?, ?it/s]"
      ]
     },
     "metadata": {},
     "output_type": "display_data"
    },
    {
     "data": {
      "application/vnd.jupyter.widget-view+json": {
       "model_id": "f22b222895574864a75f86c7e86a7a84",
       "version_major": 2,
       "version_minor": 0
      },
      "text/plain": [
       "Transcribing:   0%|          | 0/1 [00:00<?, ?it/s]"
      ]
     },
     "metadata": {},
     "output_type": "display_data"
    },
    {
     "data": {
      "application/vnd.jupyter.widget-view+json": {
       "model_id": "cfb0d41a70d84f9881485fca323f5375",
       "version_major": 2,
       "version_minor": 0
      },
      "text/plain": [
       "Transcribing:   0%|          | 0/1 [00:00<?, ?it/s]"
      ]
     },
     "metadata": {},
     "output_type": "display_data"
    },
    {
     "data": {
      "application/vnd.jupyter.widget-view+json": {
       "model_id": "e8fb5f11ba674810b07e6ade12b332b2",
       "version_major": 2,
       "version_minor": 0
      },
      "text/plain": [
       "Transcribing:   0%|          | 0/1 [00:00<?, ?it/s]"
      ]
     },
     "metadata": {},
     "output_type": "display_data"
    },
    {
     "data": {
      "application/vnd.jupyter.widget-view+json": {
       "model_id": "89a49487512246a5ac0c12d98371b94c",
       "version_major": 2,
       "version_minor": 0
      },
      "text/plain": [
       "Transcribing:   0%|          | 0/1 [00:00<?, ?it/s]"
      ]
     },
     "metadata": {},
     "output_type": "display_data"
    },
    {
     "data": {
      "application/vnd.jupyter.widget-view+json": {
       "model_id": "6bba84cfe3174b3faca71135a827719f",
       "version_major": 2,
       "version_minor": 0
      },
      "text/plain": [
       "Transcribing:   0%|          | 0/1 [00:00<?, ?it/s]"
      ]
     },
     "metadata": {},
     "output_type": "display_data"
    },
    {
     "data": {
      "application/vnd.jupyter.widget-view+json": {
       "model_id": "682cdc65ea7d4054b18f78e7dc54acca",
       "version_major": 2,
       "version_minor": 0
      },
      "text/plain": [
       "Transcribing:   0%|          | 0/1 [00:00<?, ?it/s]"
      ]
     },
     "metadata": {},
     "output_type": "display_data"
    },
    {
     "data": {
      "application/vnd.jupyter.widget-view+json": {
       "model_id": "25ac3bde3b7640f599360e03a854c385",
       "version_major": 2,
       "version_minor": 0
      },
      "text/plain": [
       "Transcribing:   0%|          | 0/1 [00:00<?, ?it/s]"
      ]
     },
     "metadata": {},
     "output_type": "display_data"
    },
    {
     "data": {
      "application/vnd.jupyter.widget-view+json": {
       "model_id": "be63daab2a6449eb9d202ae2f72930b6",
       "version_major": 2,
       "version_minor": 0
      },
      "text/plain": [
       "Transcribing:   0%|          | 0/1 [00:00<?, ?it/s]"
      ]
     },
     "metadata": {},
     "output_type": "display_data"
    },
    {
     "data": {
      "application/vnd.jupyter.widget-view+json": {
       "model_id": "23ca0828573540b995ba974d3eb3b4e0",
       "version_major": 2,
       "version_minor": 0
      },
      "text/plain": [
       "Transcribing:   0%|          | 0/1 [00:00<?, ?it/s]"
      ]
     },
     "metadata": {},
     "output_type": "display_data"
    },
    {
     "data": {
      "application/vnd.jupyter.widget-view+json": {
       "model_id": "72b7aa50bd22444f834e196fb83be925",
       "version_major": 2,
       "version_minor": 0
      },
      "text/plain": [
       "Transcribing:   0%|          | 0/1 [00:00<?, ?it/s]"
      ]
     },
     "metadata": {},
     "output_type": "display_data"
    },
    {
     "data": {
      "application/vnd.jupyter.widget-view+json": {
       "model_id": "27de28c09f8f4685a4735f7716f35968",
       "version_major": 2,
       "version_minor": 0
      },
      "text/plain": [
       "Transcribing:   0%|          | 0/1 [00:00<?, ?it/s]"
      ]
     },
     "metadata": {},
     "output_type": "display_data"
    },
    {
     "data": {
      "application/vnd.jupyter.widget-view+json": {
       "model_id": "32939fb63a7947c5877e6292bbc0b71a",
       "version_major": 2,
       "version_minor": 0
      },
      "text/plain": [
       "Transcribing:   0%|          | 0/1 [00:00<?, ?it/s]"
      ]
     },
     "metadata": {},
     "output_type": "display_data"
    },
    {
     "data": {
      "application/vnd.jupyter.widget-view+json": {
       "model_id": "2dd6f1aef0fd41eea569b31600f9af9c",
       "version_major": 2,
       "version_minor": 0
      },
      "text/plain": [
       "Transcribing:   0%|          | 0/1 [00:00<?, ?it/s]"
      ]
     },
     "metadata": {},
     "output_type": "display_data"
    },
    {
     "data": {
      "application/vnd.jupyter.widget-view+json": {
       "model_id": "60108fd38c324ae5a8ccc8534b6e6b97",
       "version_major": 2,
       "version_minor": 0
      },
      "text/plain": [
       "Transcribing:   0%|          | 0/1 [00:00<?, ?it/s]"
      ]
     },
     "metadata": {},
     "output_type": "display_data"
    },
    {
     "data": {
      "application/vnd.jupyter.widget-view+json": {
       "model_id": "5119576a715841699d1cf8a6377a8e34",
       "version_major": 2,
       "version_minor": 0
      },
      "text/plain": [
       "Transcribing:   0%|          | 0/1 [00:00<?, ?it/s]"
      ]
     },
     "metadata": {},
     "output_type": "display_data"
    },
    {
     "data": {
      "application/vnd.jupyter.widget-view+json": {
       "model_id": "1851fc118d1d48198217985b780d1bf2",
       "version_major": 2,
       "version_minor": 0
      },
      "text/plain": [
       "Transcribing:   0%|          | 0/1 [00:00<?, ?it/s]"
      ]
     },
     "metadata": {},
     "output_type": "display_data"
    },
    {
     "data": {
      "application/vnd.jupyter.widget-view+json": {
       "model_id": "c12c91f1684a44f0b29e82f938758ac9",
       "version_major": 2,
       "version_minor": 0
      },
      "text/plain": [
       "Transcribing:   0%|          | 0/1 [00:00<?, ?it/s]"
      ]
     },
     "metadata": {},
     "output_type": "display_data"
    },
    {
     "data": {
      "application/vnd.jupyter.widget-view+json": {
       "model_id": "66e5ba0ff8ed42129a11bc335e7e1688",
       "version_major": 2,
       "version_minor": 0
      },
      "text/plain": [
       "Transcribing:   0%|          | 0/1 [00:00<?, ?it/s]"
      ]
     },
     "metadata": {},
     "output_type": "display_data"
    },
    {
     "data": {
      "application/vnd.jupyter.widget-view+json": {
       "model_id": "7b5e5e956f23448aaaa0ead240b5b0a2",
       "version_major": 2,
       "version_minor": 0
      },
      "text/plain": [
       "Transcribing:   0%|          | 0/1 [00:00<?, ?it/s]"
      ]
     },
     "metadata": {},
     "output_type": "display_data"
    },
    {
     "data": {
      "application/vnd.jupyter.widget-view+json": {
       "model_id": "4ef7dc28f1674b519d36bb278c516d7a",
       "version_major": 2,
       "version_minor": 0
      },
      "text/plain": [
       "Transcribing:   0%|          | 0/1 [00:00<?, ?it/s]"
      ]
     },
     "metadata": {},
     "output_type": "display_data"
    },
    {
     "data": {
      "application/vnd.jupyter.widget-view+json": {
       "model_id": "9591587d070a4a848d8fd0b612eab050",
       "version_major": 2,
       "version_minor": 0
      },
      "text/plain": [
       "Transcribing:   0%|          | 0/1 [00:00<?, ?it/s]"
      ]
     },
     "metadata": {},
     "output_type": "display_data"
    },
    {
     "data": {
      "application/vnd.jupyter.widget-view+json": {
       "model_id": "2b5407b46d7a4cfa886d42618cbef1d2",
       "version_major": 2,
       "version_minor": 0
      },
      "text/plain": [
       "Transcribing:   0%|          | 0/1 [00:00<?, ?it/s]"
      ]
     },
     "metadata": {},
     "output_type": "display_data"
    },
    {
     "data": {
      "application/vnd.jupyter.widget-view+json": {
       "model_id": "c4eabf75db314b719ac1b2f15010989d",
       "version_major": 2,
       "version_minor": 0
      },
      "text/plain": [
       "Transcribing:   0%|          | 0/1 [00:00<?, ?it/s]"
      ]
     },
     "metadata": {},
     "output_type": "display_data"
    },
    {
     "data": {
      "application/vnd.jupyter.widget-view+json": {
       "model_id": "1420d80ff07a47b8bb2d30a711eb3014",
       "version_major": 2,
       "version_minor": 0
      },
      "text/plain": [
       "Transcribing:   0%|          | 0/1 [00:00<?, ?it/s]"
      ]
     },
     "metadata": {},
     "output_type": "display_data"
    },
    {
     "data": {
      "application/vnd.jupyter.widget-view+json": {
       "model_id": "569bf5945883416f8482e173ce23c1fa",
       "version_major": 2,
       "version_minor": 0
      },
      "text/plain": [
       "Transcribing:   0%|          | 0/1 [00:00<?, ?it/s]"
      ]
     },
     "metadata": {},
     "output_type": "display_data"
    },
    {
     "data": {
      "application/vnd.jupyter.widget-view+json": {
       "model_id": "a774bc0948f84944881b74598a5da5b3",
       "version_major": 2,
       "version_minor": 0
      },
      "text/plain": [
       "Transcribing:   0%|          | 0/1 [00:00<?, ?it/s]"
      ]
     },
     "metadata": {},
     "output_type": "display_data"
    },
    {
     "data": {
      "application/vnd.jupyter.widget-view+json": {
       "model_id": "585d3aa12cfe4de89d3c2157ffee22bb",
       "version_major": 2,
       "version_minor": 0
      },
      "text/plain": [
       "Transcribing:   0%|          | 0/1 [00:00<?, ?it/s]"
      ]
     },
     "metadata": {},
     "output_type": "display_data"
    },
    {
     "data": {
      "application/vnd.jupyter.widget-view+json": {
       "model_id": "5fcaa0b69de14494b37a686f6b3e0607",
       "version_major": 2,
       "version_minor": 0
      },
      "text/plain": [
       "Transcribing:   0%|          | 0/1 [00:00<?, ?it/s]"
      ]
     },
     "metadata": {},
     "output_type": "display_data"
    },
    {
     "data": {
      "application/vnd.jupyter.widget-view+json": {
       "model_id": "69b7e458b5dc43b9a2dab9b98877b0b0",
       "version_major": 2,
       "version_minor": 0
      },
      "text/plain": [
       "Transcribing:   0%|          | 0/1 [00:00<?, ?it/s]"
      ]
     },
     "metadata": {},
     "output_type": "display_data"
    },
    {
     "data": {
      "application/vnd.jupyter.widget-view+json": {
       "model_id": "0ec6b3aee1d247cdb4f06df18c4fd197",
       "version_major": 2,
       "version_minor": 0
      },
      "text/plain": [
       "Transcribing:   0%|          | 0/1 [00:00<?, ?it/s]"
      ]
     },
     "metadata": {},
     "output_type": "display_data"
    },
    {
     "data": {
      "application/vnd.jupyter.widget-view+json": {
       "model_id": "1e07d3550d734e54bc9664edb83c7ac8",
       "version_major": 2,
       "version_minor": 0
      },
      "text/plain": [
       "Transcribing:   0%|          | 0/1 [00:00<?, ?it/s]"
      ]
     },
     "metadata": {},
     "output_type": "display_data"
    },
    {
     "data": {
      "application/vnd.jupyter.widget-view+json": {
       "model_id": "f3bb675a7b3b44a3813b2f9285526f13",
       "version_major": 2,
       "version_minor": 0
      },
      "text/plain": [
       "Transcribing:   0%|          | 0/1 [00:00<?, ?it/s]"
      ]
     },
     "metadata": {},
     "output_type": "display_data"
    },
    {
     "data": {
      "application/vnd.jupyter.widget-view+json": {
       "model_id": "e50ff59636ee4823b16d5fd29715e9f2",
       "version_major": 2,
       "version_minor": 0
      },
      "text/plain": [
       "Transcribing:   0%|          | 0/1 [00:00<?, ?it/s]"
      ]
     },
     "metadata": {},
     "output_type": "display_data"
    },
    {
     "data": {
      "application/vnd.jupyter.widget-view+json": {
       "model_id": "00aa871557d54bcab555e2a5be2d9cd7",
       "version_major": 2,
       "version_minor": 0
      },
      "text/plain": [
       "Transcribing:   0%|          | 0/1 [00:00<?, ?it/s]"
      ]
     },
     "metadata": {},
     "output_type": "display_data"
    },
    {
     "data": {
      "application/vnd.jupyter.widget-view+json": {
       "model_id": "c3d78bbc9d3743e38ee729dbba4b11c6",
       "version_major": 2,
       "version_minor": 0
      },
      "text/plain": [
       "Transcribing:   0%|          | 0/1 [00:00<?, ?it/s]"
      ]
     },
     "metadata": {},
     "output_type": "display_data"
    },
    {
     "data": {
      "application/vnd.jupyter.widget-view+json": {
       "model_id": "5a081b5e06784fe098986d221823821b",
       "version_major": 2,
       "version_minor": 0
      },
      "text/plain": [
       "Transcribing:   0%|          | 0/1 [00:00<?, ?it/s]"
      ]
     },
     "metadata": {},
     "output_type": "display_data"
    },
    {
     "data": {
      "application/vnd.jupyter.widget-view+json": {
       "model_id": "e87fb655602e48e08e6ca69467ba7af9",
       "version_major": 2,
       "version_minor": 0
      },
      "text/plain": [
       "Transcribing:   0%|          | 0/1 [00:00<?, ?it/s]"
      ]
     },
     "metadata": {},
     "output_type": "display_data"
    },
    {
     "data": {
      "application/vnd.jupyter.widget-view+json": {
       "model_id": "572df8c260b64c55bc5ff165f91d8144",
       "version_major": 2,
       "version_minor": 0
      },
      "text/plain": [
       "Transcribing:   0%|          | 0/1 [00:00<?, ?it/s]"
      ]
     },
     "metadata": {},
     "output_type": "display_data"
    },
    {
     "data": {
      "application/vnd.jupyter.widget-view+json": {
       "model_id": "844da8fa4f5f4fda8bab710d05b0aaf5",
       "version_major": 2,
       "version_minor": 0
      },
      "text/plain": [
       "Transcribing:   0%|          | 0/1 [00:00<?, ?it/s]"
      ]
     },
     "metadata": {},
     "output_type": "display_data"
    },
    {
     "data": {
      "application/vnd.jupyter.widget-view+json": {
       "model_id": "ea22b1de8633408eaa029e5ba729071b",
       "version_major": 2,
       "version_minor": 0
      },
      "text/plain": [
       "Transcribing:   0%|          | 0/1 [00:00<?, ?it/s]"
      ]
     },
     "metadata": {},
     "output_type": "display_data"
    },
    {
     "data": {
      "application/vnd.jupyter.widget-view+json": {
       "model_id": "d7685d44b882455ca849d510c900c8ae",
       "version_major": 2,
       "version_minor": 0
      },
      "text/plain": [
       "Transcribing:   0%|          | 0/1 [00:00<?, ?it/s]"
      ]
     },
     "metadata": {},
     "output_type": "display_data"
    },
    {
     "data": {
      "application/vnd.jupyter.widget-view+json": {
       "model_id": "fa384b98ea1b4b4aa3a0465fdb6253bc",
       "version_major": 2,
       "version_minor": 0
      },
      "text/plain": [
       "Transcribing:   0%|          | 0/1 [00:00<?, ?it/s]"
      ]
     },
     "metadata": {},
     "output_type": "display_data"
    },
    {
     "data": {
      "application/vnd.jupyter.widget-view+json": {
       "model_id": "8c7779f49cc4419c9445deca4cb435ee",
       "version_major": 2,
       "version_minor": 0
      },
      "text/plain": [
       "Transcribing:   0%|          | 0/1 [00:00<?, ?it/s]"
      ]
     },
     "metadata": {},
     "output_type": "display_data"
    },
    {
     "data": {
      "application/vnd.jupyter.widget-view+json": {
       "model_id": "d9df216a5984498fb40c15f8d90044f0",
       "version_major": 2,
       "version_minor": 0
      },
      "text/plain": [
       "Transcribing:   0%|          | 0/1 [00:00<?, ?it/s]"
      ]
     },
     "metadata": {},
     "output_type": "display_data"
    },
    {
     "data": {
      "application/vnd.jupyter.widget-view+json": {
       "model_id": "dcc24256be904db1984eb8a454b710f7",
       "version_major": 2,
       "version_minor": 0
      },
      "text/plain": [
       "Transcribing:   0%|          | 0/1 [00:00<?, ?it/s]"
      ]
     },
     "metadata": {},
     "output_type": "display_data"
    },
    {
     "data": {
      "application/vnd.jupyter.widget-view+json": {
       "model_id": "c52ddcbebf284ffeba71a18da932695c",
       "version_major": 2,
       "version_minor": 0
      },
      "text/plain": [
       "Transcribing:   0%|          | 0/1 [00:00<?, ?it/s]"
      ]
     },
     "metadata": {},
     "output_type": "display_data"
    },
    {
     "data": {
      "application/vnd.jupyter.widget-view+json": {
       "model_id": "40d59d4699554b19bd009b2486e179c7",
       "version_major": 2,
       "version_minor": 0
      },
      "text/plain": [
       "Transcribing:   0%|          | 0/1 [00:00<?, ?it/s]"
      ]
     },
     "metadata": {},
     "output_type": "display_data"
    },
    {
     "data": {
      "application/vnd.jupyter.widget-view+json": {
       "model_id": "95d969a2b99944bd8128fbe5271b6830",
       "version_major": 2,
       "version_minor": 0
      },
      "text/plain": [
       "Transcribing:   0%|          | 0/1 [00:00<?, ?it/s]"
      ]
     },
     "metadata": {},
     "output_type": "display_data"
    },
    {
     "data": {
      "application/vnd.jupyter.widget-view+json": {
       "model_id": "078de52d1817461c9fb744f46d40429a",
       "version_major": 2,
       "version_minor": 0
      },
      "text/plain": [
       "Transcribing:   0%|          | 0/1 [00:00<?, ?it/s]"
      ]
     },
     "metadata": {},
     "output_type": "display_data"
    },
    {
     "data": {
      "application/vnd.jupyter.widget-view+json": {
       "model_id": "2c7e8a27ca1f4c8195fb43a574034f40",
       "version_major": 2,
       "version_minor": 0
      },
      "text/plain": [
       "Transcribing:   0%|          | 0/1 [00:00<?, ?it/s]"
      ]
     },
     "metadata": {},
     "output_type": "display_data"
    },
    {
     "data": {
      "application/vnd.jupyter.widget-view+json": {
       "model_id": "511cd6a699624abca8a5a27378d14da0",
       "version_major": 2,
       "version_minor": 0
      },
      "text/plain": [
       "Transcribing:   0%|          | 0/1 [00:00<?, ?it/s]"
      ]
     },
     "metadata": {},
     "output_type": "display_data"
    },
    {
     "data": {
      "application/vnd.jupyter.widget-view+json": {
       "model_id": "9be987b1a86a49019ada2307346a3710",
       "version_major": 2,
       "version_minor": 0
      },
      "text/plain": [
       "Transcribing:   0%|          | 0/1 [00:00<?, ?it/s]"
      ]
     },
     "metadata": {},
     "output_type": "display_data"
    },
    {
     "data": {
      "application/vnd.jupyter.widget-view+json": {
       "model_id": "1e9baf6c193e4f2aa209cc4e30985005",
       "version_major": 2,
       "version_minor": 0
      },
      "text/plain": [
       "Transcribing:   0%|          | 0/1 [00:00<?, ?it/s]"
      ]
     },
     "metadata": {},
     "output_type": "display_data"
    },
    {
     "data": {
      "application/vnd.jupyter.widget-view+json": {
       "model_id": "1b85de337fd94880a7af53a883ed6d0c",
       "version_major": 2,
       "version_minor": 0
      },
      "text/plain": [
       "Transcribing:   0%|          | 0/1 [00:00<?, ?it/s]"
      ]
     },
     "metadata": {},
     "output_type": "display_data"
    },
    {
     "data": {
      "application/vnd.jupyter.widget-view+json": {
       "model_id": "516257f5f6e64fbb901186a3264c3aab",
       "version_major": 2,
       "version_minor": 0
      },
      "text/plain": [
       "Transcribing:   0%|          | 0/1 [00:00<?, ?it/s]"
      ]
     },
     "metadata": {},
     "output_type": "display_data"
    },
    {
     "data": {
      "application/vnd.jupyter.widget-view+json": {
       "model_id": "0d183a123a6a4f8b9e1c711f590d31fa",
       "version_major": 2,
       "version_minor": 0
      },
      "text/plain": [
       "Transcribing:   0%|          | 0/1 [00:00<?, ?it/s]"
      ]
     },
     "metadata": {},
     "output_type": "display_data"
    },
    {
     "data": {
      "application/vnd.jupyter.widget-view+json": {
       "model_id": "e6444a7333aa4fd48999cede66b7830d",
       "version_major": 2,
       "version_minor": 0
      },
      "text/plain": [
       "Transcribing:   0%|          | 0/1 [00:00<?, ?it/s]"
      ]
     },
     "metadata": {},
     "output_type": "display_data"
    },
    {
     "data": {
      "application/vnd.jupyter.widget-view+json": {
       "model_id": "3b3f7c078b35496ab2a457289e921b8d",
       "version_major": 2,
       "version_minor": 0
      },
      "text/plain": [
       "Transcribing:   0%|          | 0/1 [00:00<?, ?it/s]"
      ]
     },
     "metadata": {},
     "output_type": "display_data"
    },
    {
     "data": {
      "application/vnd.jupyter.widget-view+json": {
       "model_id": "3a4d59ebaf1f4688a39edbb2a74e3306",
       "version_major": 2,
       "version_minor": 0
      },
      "text/plain": [
       "Transcribing:   0%|          | 0/1 [00:00<?, ?it/s]"
      ]
     },
     "metadata": {},
     "output_type": "display_data"
    },
    {
     "data": {
      "application/vnd.jupyter.widget-view+json": {
       "model_id": "cb036bab592548dc9d526cf48437bdfa",
       "version_major": 2,
       "version_minor": 0
      },
      "text/plain": [
       "Transcribing:   0%|          | 0/1 [00:00<?, ?it/s]"
      ]
     },
     "metadata": {},
     "output_type": "display_data"
    },
    {
     "data": {
      "application/vnd.jupyter.widget-view+json": {
       "model_id": "b67256b4abc848459e1ecb4c1e2b6ce8",
       "version_major": 2,
       "version_minor": 0
      },
      "text/plain": [
       "Transcribing:   0%|          | 0/1 [00:00<?, ?it/s]"
      ]
     },
     "metadata": {},
     "output_type": "display_data"
    },
    {
     "data": {
      "application/vnd.jupyter.widget-view+json": {
       "model_id": "e6b2fbabb6724b4f94987a694df6606d",
       "version_major": 2,
       "version_minor": 0
      },
      "text/plain": [
       "Transcribing:   0%|          | 0/1 [00:00<?, ?it/s]"
      ]
     },
     "metadata": {},
     "output_type": "display_data"
    },
    {
     "data": {
      "application/vnd.jupyter.widget-view+json": {
       "model_id": "884fad8c1a0e4806b3466b35efa9a718",
       "version_major": 2,
       "version_minor": 0
      },
      "text/plain": [
       "Transcribing:   0%|          | 0/1 [00:00<?, ?it/s]"
      ]
     },
     "metadata": {},
     "output_type": "display_data"
    },
    {
     "data": {
      "application/vnd.jupyter.widget-view+json": {
       "model_id": "affe816202ba4f27b13ed6f15e02a319",
       "version_major": 2,
       "version_minor": 0
      },
      "text/plain": [
       "Transcribing:   0%|          | 0/1 [00:00<?, ?it/s]"
      ]
     },
     "metadata": {},
     "output_type": "display_data"
    },
    {
     "data": {
      "application/vnd.jupyter.widget-view+json": {
       "model_id": "a2c68baf8e164ff2a9597e1dbd1f1f6f",
       "version_major": 2,
       "version_minor": 0
      },
      "text/plain": [
       "Transcribing:   0%|          | 0/1 [00:00<?, ?it/s]"
      ]
     },
     "metadata": {},
     "output_type": "display_data"
    },
    {
     "data": {
      "application/vnd.jupyter.widget-view+json": {
       "model_id": "e6975434737e41e19cf3065a2d2dad61",
       "version_major": 2,
       "version_minor": 0
      },
      "text/plain": [
       "Transcribing:   0%|          | 0/1 [00:00<?, ?it/s]"
      ]
     },
     "metadata": {},
     "output_type": "display_data"
    },
    {
     "data": {
      "application/vnd.jupyter.widget-view+json": {
       "model_id": "08585b444c8647b1af7e91a11551db91",
       "version_major": 2,
       "version_minor": 0
      },
      "text/plain": [
       "Transcribing:   0%|          | 0/1 [00:00<?, ?it/s]"
      ]
     },
     "metadata": {},
     "output_type": "display_data"
    },
    {
     "data": {
      "application/vnd.jupyter.widget-view+json": {
       "model_id": "1cb32a51f10d4a259087394803e693bf",
       "version_major": 2,
       "version_minor": 0
      },
      "text/plain": [
       "Transcribing:   0%|          | 0/1 [00:00<?, ?it/s]"
      ]
     },
     "metadata": {},
     "output_type": "display_data"
    },
    {
     "data": {
      "application/vnd.jupyter.widget-view+json": {
       "model_id": "2d88b45dcd0041528a930dd2a7ed2f3e",
       "version_major": 2,
       "version_minor": 0
      },
      "text/plain": [
       "Transcribing:   0%|          | 0/1 [00:00<?, ?it/s]"
      ]
     },
     "metadata": {},
     "output_type": "display_data"
    },
    {
     "data": {
      "application/vnd.jupyter.widget-view+json": {
       "model_id": "56f4bff6492b45e2bd1fb5233993edb2",
       "version_major": 2,
       "version_minor": 0
      },
      "text/plain": [
       "Transcribing:   0%|          | 0/1 [00:00<?, ?it/s]"
      ]
     },
     "metadata": {},
     "output_type": "display_data"
    },
    {
     "data": {
      "application/vnd.jupyter.widget-view+json": {
       "model_id": "2cb2a29f38374a68bf2d44c293955333",
       "version_major": 2,
       "version_minor": 0
      },
      "text/plain": [
       "Transcribing:   0%|          | 0/1 [00:00<?, ?it/s]"
      ]
     },
     "metadata": {},
     "output_type": "display_data"
    },
    {
     "data": {
      "application/vnd.jupyter.widget-view+json": {
       "model_id": "ea36b6e5160a4e64843357f996e3a3f6",
       "version_major": 2,
       "version_minor": 0
      },
      "text/plain": [
       "Transcribing:   0%|          | 0/1 [00:00<?, ?it/s]"
      ]
     },
     "metadata": {},
     "output_type": "display_data"
    },
    {
     "data": {
      "application/vnd.jupyter.widget-view+json": {
       "model_id": "fad1595460b94b94bb075fb5b2064ce7",
       "version_major": 2,
       "version_minor": 0
      },
      "text/plain": [
       "Transcribing:   0%|          | 0/1 [00:00<?, ?it/s]"
      ]
     },
     "metadata": {},
     "output_type": "display_data"
    },
    {
     "data": {
      "application/vnd.jupyter.widget-view+json": {
       "model_id": "9b2bdfb2753e4708ab4187b7bb33e3fb",
       "version_major": 2,
       "version_minor": 0
      },
      "text/plain": [
       "Transcribing:   0%|          | 0/1 [00:00<?, ?it/s]"
      ]
     },
     "metadata": {},
     "output_type": "display_data"
    },
    {
     "data": {
      "application/vnd.jupyter.widget-view+json": {
       "model_id": "90899826528e4435893f5fc8883e7338",
       "version_major": 2,
       "version_minor": 0
      },
      "text/plain": [
       "Transcribing:   0%|          | 0/1 [00:00<?, ?it/s]"
      ]
     },
     "metadata": {},
     "output_type": "display_data"
    },
    {
     "data": {
      "application/vnd.jupyter.widget-view+json": {
       "model_id": "3b3ee2f25446442db4006d1e7697e195",
       "version_major": 2,
       "version_minor": 0
      },
      "text/plain": [
       "Transcribing:   0%|          | 0/1 [00:00<?, ?it/s]"
      ]
     },
     "metadata": {},
     "output_type": "display_data"
    },
    {
     "data": {
      "application/vnd.jupyter.widget-view+json": {
       "model_id": "0443d5bdc8d445638c420bc0165284ec",
       "version_major": 2,
       "version_minor": 0
      },
      "text/plain": [
       "Transcribing:   0%|          | 0/1 [00:00<?, ?it/s]"
      ]
     },
     "metadata": {},
     "output_type": "display_data"
    },
    {
     "data": {
      "application/vnd.jupyter.widget-view+json": {
       "model_id": "f7b017ebd58543fca3f30116942ef809",
       "version_major": 2,
       "version_minor": 0
      },
      "text/plain": [
       "Transcribing:   0%|          | 0/1 [00:00<?, ?it/s]"
      ]
     },
     "metadata": {},
     "output_type": "display_data"
    },
    {
     "data": {
      "application/vnd.jupyter.widget-view+json": {
       "model_id": "03f0919f53a241eb9a7e2acc269fbb1b",
       "version_major": 2,
       "version_minor": 0
      },
      "text/plain": [
       "Transcribing:   0%|          | 0/1 [00:00<?, ?it/s]"
      ]
     },
     "metadata": {},
     "output_type": "display_data"
    },
    {
     "data": {
      "application/vnd.jupyter.widget-view+json": {
       "model_id": "a2cf059c43d14058bdf879d2dee42cdc",
       "version_major": 2,
       "version_minor": 0
      },
      "text/plain": [
       "Transcribing:   0%|          | 0/1 [00:00<?, ?it/s]"
      ]
     },
     "metadata": {},
     "output_type": "display_data"
    },
    {
     "data": {
      "application/vnd.jupyter.widget-view+json": {
       "model_id": "924c9624599e4bf2951deb4f30d5dcdb",
       "version_major": 2,
       "version_minor": 0
      },
      "text/plain": [
       "Transcribing:   0%|          | 0/1 [00:00<?, ?it/s]"
      ]
     },
     "metadata": {},
     "output_type": "display_data"
    },
    {
     "data": {
      "application/vnd.jupyter.widget-view+json": {
       "model_id": "48289463295347459dee2dfbdbe27f9e",
       "version_major": 2,
       "version_minor": 0
      },
      "text/plain": [
       "Transcribing:   0%|          | 0/1 [00:00<?, ?it/s]"
      ]
     },
     "metadata": {},
     "output_type": "display_data"
    },
    {
     "data": {
      "application/vnd.jupyter.widget-view+json": {
       "model_id": "695d41fb21704c3588dcb2568efcb074",
       "version_major": 2,
       "version_minor": 0
      },
      "text/plain": [
       "Transcribing:   0%|          | 0/1 [00:00<?, ?it/s]"
      ]
     },
     "metadata": {},
     "output_type": "display_data"
    },
    {
     "data": {
      "application/vnd.jupyter.widget-view+json": {
       "model_id": "15496baad32a4ac98d740bdd2b5ef3de",
       "version_major": 2,
       "version_minor": 0
      },
      "text/plain": [
       "Transcribing:   0%|          | 0/1 [00:00<?, ?it/s]"
      ]
     },
     "metadata": {},
     "output_type": "display_data"
    },
    {
     "data": {
      "application/vnd.jupyter.widget-view+json": {
       "model_id": "f165c3d95313414d8dea7201b078b8d3",
       "version_major": 2,
       "version_minor": 0
      },
      "text/plain": [
       "Transcribing:   0%|          | 0/1 [00:00<?, ?it/s]"
      ]
     },
     "metadata": {},
     "output_type": "display_data"
    },
    {
     "data": {
      "application/vnd.jupyter.widget-view+json": {
       "model_id": "314ec33fd01e48509742a33ab1b5ab78",
       "version_major": 2,
       "version_minor": 0
      },
      "text/plain": [
       "Transcribing:   0%|          | 0/1 [00:00<?, ?it/s]"
      ]
     },
     "metadata": {},
     "output_type": "display_data"
    },
    {
     "data": {
      "application/vnd.jupyter.widget-view+json": {
       "model_id": "dcc3e9d73abb4979be0943ce97b8a6ec",
       "version_major": 2,
       "version_minor": 0
      },
      "text/plain": [
       "Transcribing:   0%|          | 0/1 [00:00<?, ?it/s]"
      ]
     },
     "metadata": {},
     "output_type": "display_data"
    },
    {
     "data": {
      "application/vnd.jupyter.widget-view+json": {
       "model_id": "2985be047f8f44bcbd2bbed30691e5f2",
       "version_major": 2,
       "version_minor": 0
      },
      "text/plain": [
       "Transcribing:   0%|          | 0/1 [00:00<?, ?it/s]"
      ]
     },
     "metadata": {},
     "output_type": "display_data"
    },
    {
     "data": {
      "application/vnd.jupyter.widget-view+json": {
       "model_id": "3b2ac5e7c2e34863ac0b10d28277198a",
       "version_major": 2,
       "version_minor": 0
      },
      "text/plain": [
       "Transcribing:   0%|          | 0/1 [00:00<?, ?it/s]"
      ]
     },
     "metadata": {},
     "output_type": "display_data"
    },
    {
     "data": {
      "application/vnd.jupyter.widget-view+json": {
       "model_id": "57f982c15a8742fa95adf632c9a92d91",
       "version_major": 2,
       "version_minor": 0
      },
      "text/plain": [
       "Transcribing:   0%|          | 0/1 [00:00<?, ?it/s]"
      ]
     },
     "metadata": {},
     "output_type": "display_data"
    },
    {
     "data": {
      "application/vnd.jupyter.widget-view+json": {
       "model_id": "140efa17e38b4e1d84f21133600677bd",
       "version_major": 2,
       "version_minor": 0
      },
      "text/plain": [
       "Transcribing:   0%|          | 0/1 [00:00<?, ?it/s]"
      ]
     },
     "metadata": {},
     "output_type": "display_data"
    },
    {
     "data": {
      "application/vnd.jupyter.widget-view+json": {
       "model_id": "59d9cf2b48714bdb9ccd57efb10a8aa6",
       "version_major": 2,
       "version_minor": 0
      },
      "text/plain": [
       "Transcribing:   0%|          | 0/1 [00:00<?, ?it/s]"
      ]
     },
     "metadata": {},
     "output_type": "display_data"
    },
    {
     "data": {
      "application/vnd.jupyter.widget-view+json": {
       "model_id": "f12623f3a4144c828e2af984ddbec59b",
       "version_major": 2,
       "version_minor": 0
      },
      "text/plain": [
       "Transcribing:   0%|          | 0/1 [00:00<?, ?it/s]"
      ]
     },
     "metadata": {},
     "output_type": "display_data"
    },
    {
     "data": {
      "application/vnd.jupyter.widget-view+json": {
       "model_id": "97c66dc303e747c0a2525b724f94ae1a",
       "version_major": 2,
       "version_minor": 0
      },
      "text/plain": [
       "Transcribing:   0%|          | 0/1 [00:00<?, ?it/s]"
      ]
     },
     "metadata": {},
     "output_type": "display_data"
    },
    {
     "data": {
      "application/vnd.jupyter.widget-view+json": {
       "model_id": "ad6f715047794031ab3ffeca7b56da9f",
       "version_major": 2,
       "version_minor": 0
      },
      "text/plain": [
       "Transcribing:   0%|          | 0/1 [00:00<?, ?it/s]"
      ]
     },
     "metadata": {},
     "output_type": "display_data"
    },
    {
     "data": {
      "application/vnd.jupyter.widget-view+json": {
       "model_id": "d599a0600cf04d2281b0dd53878d21b7",
       "version_major": 2,
       "version_minor": 0
      },
      "text/plain": [
       "Transcribing:   0%|          | 0/1 [00:00<?, ?it/s]"
      ]
     },
     "metadata": {},
     "output_type": "display_data"
    },
    {
     "data": {
      "application/vnd.jupyter.widget-view+json": {
       "model_id": "a4c1406b0995469891eff207e762e117",
       "version_major": 2,
       "version_minor": 0
      },
      "text/plain": [
       "Transcribing:   0%|          | 0/1 [00:00<?, ?it/s]"
      ]
     },
     "metadata": {},
     "output_type": "display_data"
    },
    {
     "data": {
      "application/vnd.jupyter.widget-view+json": {
       "model_id": "7bbc314e125244bcac819369b9cf26e7",
       "version_major": 2,
       "version_minor": 0
      },
      "text/plain": [
       "Transcribing:   0%|          | 0/1 [00:00<?, ?it/s]"
      ]
     },
     "metadata": {},
     "output_type": "display_data"
    },
    {
     "data": {
      "application/vnd.jupyter.widget-view+json": {
       "model_id": "dddad4ce2ea64a289925435ee362efdc",
       "version_major": 2,
       "version_minor": 0
      },
      "text/plain": [
       "Transcribing:   0%|          | 0/1 [00:00<?, ?it/s]"
      ]
     },
     "metadata": {},
     "output_type": "display_data"
    },
    {
     "data": {
      "application/vnd.jupyter.widget-view+json": {
       "model_id": "3a271125cfbd46119e0c35c3009c75c8",
       "version_major": 2,
       "version_minor": 0
      },
      "text/plain": [
       "Transcribing:   0%|          | 0/1 [00:00<?, ?it/s]"
      ]
     },
     "metadata": {},
     "output_type": "display_data"
    },
    {
     "data": {
      "application/vnd.jupyter.widget-view+json": {
       "model_id": "d8c04d8c29df4e60bfc09bbd3b264d64",
       "version_major": 2,
       "version_minor": 0
      },
      "text/plain": [
       "Transcribing:   0%|          | 0/1 [00:00<?, ?it/s]"
      ]
     },
     "metadata": {},
     "output_type": "display_data"
    },
    {
     "data": {
      "application/vnd.jupyter.widget-view+json": {
       "model_id": "5f3cf46d214f4b6cbeffbbe755deadb3",
       "version_major": 2,
       "version_minor": 0
      },
      "text/plain": [
       "Transcribing:   0%|          | 0/1 [00:00<?, ?it/s]"
      ]
     },
     "metadata": {},
     "output_type": "display_data"
    },
    {
     "data": {
      "application/vnd.jupyter.widget-view+json": {
       "model_id": "7681619dd85f4505b8ca587e96ef87d3",
       "version_major": 2,
       "version_minor": 0
      },
      "text/plain": [
       "Transcribing:   0%|          | 0/1 [00:00<?, ?it/s]"
      ]
     },
     "metadata": {},
     "output_type": "display_data"
    },
    {
     "data": {
      "application/vnd.jupyter.widget-view+json": {
       "model_id": "aba3a7f7ccfa4a879eb700a0847435b7",
       "version_major": 2,
       "version_minor": 0
      },
      "text/plain": [
       "Transcribing:   0%|          | 0/1 [00:00<?, ?it/s]"
      ]
     },
     "metadata": {},
     "output_type": "display_data"
    },
    {
     "data": {
      "application/vnd.jupyter.widget-view+json": {
       "model_id": "68e1026de48e4253b2e851996ae87199",
       "version_major": 2,
       "version_minor": 0
      },
      "text/plain": [
       "Transcribing:   0%|          | 0/1 [00:00<?, ?it/s]"
      ]
     },
     "metadata": {},
     "output_type": "display_data"
    },
    {
     "data": {
      "application/vnd.jupyter.widget-view+json": {
       "model_id": "e54bf23ef6f74e55a3121cd4ea9ff9e0",
       "version_major": 2,
       "version_minor": 0
      },
      "text/plain": [
       "Transcribing:   0%|          | 0/1 [00:00<?, ?it/s]"
      ]
     },
     "metadata": {},
     "output_type": "display_data"
    },
    {
     "data": {
      "application/vnd.jupyter.widget-view+json": {
       "model_id": "8b530c63e8b54047a030c7374bfbb915",
       "version_major": 2,
       "version_minor": 0
      },
      "text/plain": [
       "Transcribing:   0%|          | 0/1 [00:00<?, ?it/s]"
      ]
     },
     "metadata": {},
     "output_type": "display_data"
    },
    {
     "data": {
      "application/vnd.jupyter.widget-view+json": {
       "model_id": "1d9d0456647047608d3f1972981d2487",
       "version_major": 2,
       "version_minor": 0
      },
      "text/plain": [
       "Transcribing:   0%|          | 0/1 [00:00<?, ?it/s]"
      ]
     },
     "metadata": {},
     "output_type": "display_data"
    },
    {
     "data": {
      "application/vnd.jupyter.widget-view+json": {
       "model_id": "79722d11abb6410a999e5dca46414ad6",
       "version_major": 2,
       "version_minor": 0
      },
      "text/plain": [
       "Transcribing:   0%|          | 0/1 [00:00<?, ?it/s]"
      ]
     },
     "metadata": {},
     "output_type": "display_data"
    },
    {
     "data": {
      "application/vnd.jupyter.widget-view+json": {
       "model_id": "57af11b961df44b4b217ac0d551e3001",
       "version_major": 2,
       "version_minor": 0
      },
      "text/plain": [
       "Transcribing:   0%|          | 0/1 [00:00<?, ?it/s]"
      ]
     },
     "metadata": {},
     "output_type": "display_data"
    },
    {
     "data": {
      "application/vnd.jupyter.widget-view+json": {
       "model_id": "0d490f8c58b54672856c55a17d01fd27",
       "version_major": 2,
       "version_minor": 0
      },
      "text/plain": [
       "Transcribing:   0%|          | 0/1 [00:00<?, ?it/s]"
      ]
     },
     "metadata": {},
     "output_type": "display_data"
    },
    {
     "data": {
      "application/vnd.jupyter.widget-view+json": {
       "model_id": "847c6f7bcc014d588a6076dea12e30f2",
       "version_major": 2,
       "version_minor": 0
      },
      "text/plain": [
       "Transcribing:   0%|          | 0/1 [00:00<?, ?it/s]"
      ]
     },
     "metadata": {},
     "output_type": "display_data"
    },
    {
     "data": {
      "application/vnd.jupyter.widget-view+json": {
       "model_id": "a72a9029549744b7ad17be11cf5b6ad8",
       "version_major": 2,
       "version_minor": 0
      },
      "text/plain": [
       "Transcribing:   0%|          | 0/1 [00:00<?, ?it/s]"
      ]
     },
     "metadata": {},
     "output_type": "display_data"
    },
    {
     "data": {
      "application/vnd.jupyter.widget-view+json": {
       "model_id": "b7912ed293b741d0ae3157bd55d6014e",
       "version_major": 2,
       "version_minor": 0
      },
      "text/plain": [
       "Transcribing:   0%|          | 0/1 [00:00<?, ?it/s]"
      ]
     },
     "metadata": {},
     "output_type": "display_data"
    },
    {
     "data": {
      "application/vnd.jupyter.widget-view+json": {
       "model_id": "aeebb9f3970047ae9bd336a70b01189e",
       "version_major": 2,
       "version_minor": 0
      },
      "text/plain": [
       "Transcribing:   0%|          | 0/1 [00:00<?, ?it/s]"
      ]
     },
     "metadata": {},
     "output_type": "display_data"
    },
    {
     "data": {
      "application/vnd.jupyter.widget-view+json": {
       "model_id": "84c2c87a84084f628abf075a3c48d9f0",
       "version_major": 2,
       "version_minor": 0
      },
      "text/plain": [
       "Transcribing:   0%|          | 0/1 [00:00<?, ?it/s]"
      ]
     },
     "metadata": {},
     "output_type": "display_data"
    },
    {
     "data": {
      "application/vnd.jupyter.widget-view+json": {
       "model_id": "9f36ff2b69584d458402ac34b02e6a81",
       "version_major": 2,
       "version_minor": 0
      },
      "text/plain": [
       "Transcribing:   0%|          | 0/1 [00:00<?, ?it/s]"
      ]
     },
     "metadata": {},
     "output_type": "display_data"
    },
    {
     "data": {
      "application/vnd.jupyter.widget-view+json": {
       "model_id": "e9e1d2b41be9449f90603bbe4636fa4d",
       "version_major": 2,
       "version_minor": 0
      },
      "text/plain": [
       "Transcribing:   0%|          | 0/1 [00:00<?, ?it/s]"
      ]
     },
     "metadata": {},
     "output_type": "display_data"
    },
    {
     "data": {
      "application/vnd.jupyter.widget-view+json": {
       "model_id": "332558b727154cfabc348305c9adf5c9",
       "version_major": 2,
       "version_minor": 0
      },
      "text/plain": [
       "Transcribing:   0%|          | 0/1 [00:00<?, ?it/s]"
      ]
     },
     "metadata": {},
     "output_type": "display_data"
    },
    {
     "data": {
      "application/vnd.jupyter.widget-view+json": {
       "model_id": "bc186edc7017442f8ffc763581a1b88d",
       "version_major": 2,
       "version_minor": 0
      },
      "text/plain": [
       "Transcribing:   0%|          | 0/1 [00:00<?, ?it/s]"
      ]
     },
     "metadata": {},
     "output_type": "display_data"
    },
    {
     "data": {
      "application/vnd.jupyter.widget-view+json": {
       "model_id": "b731d733115246c280c726c50883e994",
       "version_major": 2,
       "version_minor": 0
      },
      "text/plain": [
       "Transcribing:   0%|          | 0/1 [00:00<?, ?it/s]"
      ]
     },
     "metadata": {},
     "output_type": "display_data"
    },
    {
     "data": {
      "application/vnd.jupyter.widget-view+json": {
       "model_id": "b4bed5bad6c14058bbd7d74c2c594264",
       "version_major": 2,
       "version_minor": 0
      },
      "text/plain": [
       "Transcribing:   0%|          | 0/1 [00:00<?, ?it/s]"
      ]
     },
     "metadata": {},
     "output_type": "display_data"
    },
    {
     "data": {
      "application/vnd.jupyter.widget-view+json": {
       "model_id": "ffaf71b932644d97ae64e3769e338373",
       "version_major": 2,
       "version_minor": 0
      },
      "text/plain": [
       "Transcribing:   0%|          | 0/1 [00:00<?, ?it/s]"
      ]
     },
     "metadata": {},
     "output_type": "display_data"
    },
    {
     "data": {
      "application/vnd.jupyter.widget-view+json": {
       "model_id": "5672cfebc0494755b57a0648d913c035",
       "version_major": 2,
       "version_minor": 0
      },
      "text/plain": [
       "Transcribing:   0%|          | 0/1 [00:00<?, ?it/s]"
      ]
     },
     "metadata": {},
     "output_type": "display_data"
    },
    {
     "data": {
      "application/vnd.jupyter.widget-view+json": {
       "model_id": "6ce7290f51e149c890ec5d6521fd272c",
       "version_major": 2,
       "version_minor": 0
      },
      "text/plain": [
       "Transcribing:   0%|          | 0/1 [00:00<?, ?it/s]"
      ]
     },
     "metadata": {},
     "output_type": "display_data"
    },
    {
     "data": {
      "application/vnd.jupyter.widget-view+json": {
       "model_id": "d1dd71839d37422b98ebf5f9b0417fef",
       "version_major": 2,
       "version_minor": 0
      },
      "text/plain": [
       "Transcribing:   0%|          | 0/1 [00:00<?, ?it/s]"
      ]
     },
     "metadata": {},
     "output_type": "display_data"
    },
    {
     "data": {
      "application/vnd.jupyter.widget-view+json": {
       "model_id": "0f0b30e6e9024c4986eaaac06403540b",
       "version_major": 2,
       "version_minor": 0
      },
      "text/plain": [
       "Transcribing:   0%|          | 0/1 [00:00<?, ?it/s]"
      ]
     },
     "metadata": {},
     "output_type": "display_data"
    },
    {
     "data": {
      "application/vnd.jupyter.widget-view+json": {
       "model_id": "677e036d1b3546e881a05f3cb9b9cef1",
       "version_major": 2,
       "version_minor": 0
      },
      "text/plain": [
       "Transcribing:   0%|          | 0/1 [00:00<?, ?it/s]"
      ]
     },
     "metadata": {},
     "output_type": "display_data"
    },
    {
     "data": {
      "application/vnd.jupyter.widget-view+json": {
       "model_id": "bd4c4b57a9684db3b2d06416d875b7e3",
       "version_major": 2,
       "version_minor": 0
      },
      "text/plain": [
       "Transcribing:   0%|          | 0/1 [00:00<?, ?it/s]"
      ]
     },
     "metadata": {},
     "output_type": "display_data"
    },
    {
     "data": {
      "application/vnd.jupyter.widget-view+json": {
       "model_id": "011e24f21086487bad85ad1bec9fd961",
       "version_major": 2,
       "version_minor": 0
      },
      "text/plain": [
       "Transcribing:   0%|          | 0/1 [00:00<?, ?it/s]"
      ]
     },
     "metadata": {},
     "output_type": "display_data"
    },
    {
     "data": {
      "application/vnd.jupyter.widget-view+json": {
       "model_id": "7376ea335c874386ab69c5820d2260a4",
       "version_major": 2,
       "version_minor": 0
      },
      "text/plain": [
       "Transcribing:   0%|          | 0/1 [00:00<?, ?it/s]"
      ]
     },
     "metadata": {},
     "output_type": "display_data"
    },
    {
     "data": {
      "application/vnd.jupyter.widget-view+json": {
       "model_id": "458ff720a929421ab8d7258794711c2c",
       "version_major": 2,
       "version_minor": 0
      },
      "text/plain": [
       "Transcribing:   0%|          | 0/1 [00:00<?, ?it/s]"
      ]
     },
     "metadata": {},
     "output_type": "display_data"
    },
    {
     "data": {
      "application/vnd.jupyter.widget-view+json": {
       "model_id": "6f6a04655f9043bb83c9d283745c1733",
       "version_major": 2,
       "version_minor": 0
      },
      "text/plain": [
       "Transcribing:   0%|          | 0/1 [00:00<?, ?it/s]"
      ]
     },
     "metadata": {},
     "output_type": "display_data"
    },
    {
     "data": {
      "application/vnd.jupyter.widget-view+json": {
       "model_id": "52bf76821765423abeb7c457df9cc6f9",
       "version_major": 2,
       "version_minor": 0
      },
      "text/plain": [
       "Transcribing:   0%|          | 0/1 [00:00<?, ?it/s]"
      ]
     },
     "metadata": {},
     "output_type": "display_data"
    },
    {
     "data": {
      "application/vnd.jupyter.widget-view+json": {
       "model_id": "120509511f7f4ca8aca51a34f4172b61",
       "version_major": 2,
       "version_minor": 0
      },
      "text/plain": [
       "Transcribing:   0%|          | 0/1 [00:00<?, ?it/s]"
      ]
     },
     "metadata": {},
     "output_type": "display_data"
    },
    {
     "data": {
      "application/vnd.jupyter.widget-view+json": {
       "model_id": "37980f21d0914ed98a8be211c262c2e3",
       "version_major": 2,
       "version_minor": 0
      },
      "text/plain": [
       "Transcribing:   0%|          | 0/1 [00:00<?, ?it/s]"
      ]
     },
     "metadata": {},
     "output_type": "display_data"
    },
    {
     "data": {
      "application/vnd.jupyter.widget-view+json": {
       "model_id": "d792e1de714b47569ba16460c3aee079",
       "version_major": 2,
       "version_minor": 0
      },
      "text/plain": [
       "Transcribing:   0%|          | 0/1 [00:00<?, ?it/s]"
      ]
     },
     "metadata": {},
     "output_type": "display_data"
    },
    {
     "data": {
      "application/vnd.jupyter.widget-view+json": {
       "model_id": "5d1c97a4f4c0412d950c1a015177274a",
       "version_major": 2,
       "version_minor": 0
      },
      "text/plain": [
       "Transcribing:   0%|          | 0/1 [00:00<?, ?it/s]"
      ]
     },
     "metadata": {},
     "output_type": "display_data"
    },
    {
     "data": {
      "application/vnd.jupyter.widget-view+json": {
       "model_id": "79949aef9bbc42d790bf0a8653196c25",
       "version_major": 2,
       "version_minor": 0
      },
      "text/plain": [
       "Transcribing:   0%|          | 0/1 [00:00<?, ?it/s]"
      ]
     },
     "metadata": {},
     "output_type": "display_data"
    },
    {
     "data": {
      "application/vnd.jupyter.widget-view+json": {
       "model_id": "869d4ed3d01340dcabeaedc3db3d3f7f",
       "version_major": 2,
       "version_minor": 0
      },
      "text/plain": [
       "Transcribing:   0%|          | 0/1 [00:00<?, ?it/s]"
      ]
     },
     "metadata": {},
     "output_type": "display_data"
    },
    {
     "data": {
      "application/vnd.jupyter.widget-view+json": {
       "model_id": "9a5b479e407643a8869ada07eb496dcb",
       "version_major": 2,
       "version_minor": 0
      },
      "text/plain": [
       "Transcribing:   0%|          | 0/1 [00:00<?, ?it/s]"
      ]
     },
     "metadata": {},
     "output_type": "display_data"
    },
    {
     "data": {
      "application/vnd.jupyter.widget-view+json": {
       "model_id": "f57608a59f974c30b3483dd956240549",
       "version_major": 2,
       "version_minor": 0
      },
      "text/plain": [
       "Transcribing:   0%|          | 0/1 [00:00<?, ?it/s]"
      ]
     },
     "metadata": {},
     "output_type": "display_data"
    },
    {
     "data": {
      "application/vnd.jupyter.widget-view+json": {
       "model_id": "d70bb48a58a44b39a79ab9535ce0963b",
       "version_major": 2,
       "version_minor": 0
      },
      "text/plain": [
       "Transcribing:   0%|          | 0/1 [00:00<?, ?it/s]"
      ]
     },
     "metadata": {},
     "output_type": "display_data"
    },
    {
     "data": {
      "application/vnd.jupyter.widget-view+json": {
       "model_id": "53abbce2153e457fac8562a13c2089ae",
       "version_major": 2,
       "version_minor": 0
      },
      "text/plain": [
       "Transcribing:   0%|          | 0/1 [00:00<?, ?it/s]"
      ]
     },
     "metadata": {},
     "output_type": "display_data"
    },
    {
     "data": {
      "application/vnd.jupyter.widget-view+json": {
       "model_id": "b28267ca936145dd87f53408112def94",
       "version_major": 2,
       "version_minor": 0
      },
      "text/plain": [
       "Transcribing:   0%|          | 0/1 [00:00<?, ?it/s]"
      ]
     },
     "metadata": {},
     "output_type": "display_data"
    },
    {
     "data": {
      "application/vnd.jupyter.widget-view+json": {
       "model_id": "4763d6fa70be47e98d6b9ca8cf67f830",
       "version_major": 2,
       "version_minor": 0
      },
      "text/plain": [
       "Transcribing:   0%|          | 0/1 [00:00<?, ?it/s]"
      ]
     },
     "metadata": {},
     "output_type": "display_data"
    },
    {
     "data": {
      "application/vnd.jupyter.widget-view+json": {
       "model_id": "810274d4069848c388dea8e70ecab3c0",
       "version_major": 2,
       "version_minor": 0
      },
      "text/plain": [
       "Transcribing:   0%|          | 0/1 [00:00<?, ?it/s]"
      ]
     },
     "metadata": {},
     "output_type": "display_data"
    },
    {
     "data": {
      "application/vnd.jupyter.widget-view+json": {
       "model_id": "b2a5b9d048a142acb466ad89f0ebc42b",
       "version_major": 2,
       "version_minor": 0
      },
      "text/plain": [
       "Transcribing:   0%|          | 0/1 [00:00<?, ?it/s]"
      ]
     },
     "metadata": {},
     "output_type": "display_data"
    },
    {
     "data": {
      "application/vnd.jupyter.widget-view+json": {
       "model_id": "809e755875a34a469d44ccac9bc91833",
       "version_major": 2,
       "version_minor": 0
      },
      "text/plain": [
       "Transcribing:   0%|          | 0/1 [00:00<?, ?it/s]"
      ]
     },
     "metadata": {},
     "output_type": "display_data"
    },
    {
     "data": {
      "application/vnd.jupyter.widget-view+json": {
       "model_id": "ad3c38d59e3b4a2981707333a34180da",
       "version_major": 2,
       "version_minor": 0
      },
      "text/plain": [
       "Transcribing:   0%|          | 0/1 [00:00<?, ?it/s]"
      ]
     },
     "metadata": {},
     "output_type": "display_data"
    },
    {
     "data": {
      "application/vnd.jupyter.widget-view+json": {
       "model_id": "9e2ea8cd5289450b80bfff42c6ad60c3",
       "version_major": 2,
       "version_minor": 0
      },
      "text/plain": [
       "Transcribing:   0%|          | 0/1 [00:00<?, ?it/s]"
      ]
     },
     "metadata": {},
     "output_type": "display_data"
    },
    {
     "data": {
      "application/vnd.jupyter.widget-view+json": {
       "model_id": "910d7aedf75b4861ba1ed0619dec856b",
       "version_major": 2,
       "version_minor": 0
      },
      "text/plain": [
       "Transcribing:   0%|          | 0/1 [00:00<?, ?it/s]"
      ]
     },
     "metadata": {},
     "output_type": "display_data"
    },
    {
     "data": {
      "application/vnd.jupyter.widget-view+json": {
       "model_id": "e4eb26627edb45888d1288b09eb264f5",
       "version_major": 2,
       "version_minor": 0
      },
      "text/plain": [
       "Transcribing:   0%|          | 0/1 [00:00<?, ?it/s]"
      ]
     },
     "metadata": {},
     "output_type": "display_data"
    },
    {
     "data": {
      "application/vnd.jupyter.widget-view+json": {
       "model_id": "304bced3d0f44846a1c7fd41fdcc28df",
       "version_major": 2,
       "version_minor": 0
      },
      "text/plain": [
       "Transcribing:   0%|          | 0/1 [00:00<?, ?it/s]"
      ]
     },
     "metadata": {},
     "output_type": "display_data"
    },
    {
     "data": {
      "application/vnd.jupyter.widget-view+json": {
       "model_id": "a8b6897deb0b4b7f8b88f07dacae3a65",
       "version_major": 2,
       "version_minor": 0
      },
      "text/plain": [
       "Transcribing:   0%|          | 0/1 [00:00<?, ?it/s]"
      ]
     },
     "metadata": {},
     "output_type": "display_data"
    },
    {
     "data": {
      "application/vnd.jupyter.widget-view+json": {
       "model_id": "b5543cda47ad4c9ea45911c6629c9f95",
       "version_major": 2,
       "version_minor": 0
      },
      "text/plain": [
       "Transcribing:   0%|          | 0/1 [00:00<?, ?it/s]"
      ]
     },
     "metadata": {},
     "output_type": "display_data"
    },
    {
     "data": {
      "application/vnd.jupyter.widget-view+json": {
       "model_id": "768986ef172942d28e3b1736422fb0e2",
       "version_major": 2,
       "version_minor": 0
      },
      "text/plain": [
       "Transcribing:   0%|          | 0/1 [00:00<?, ?it/s]"
      ]
     },
     "metadata": {},
     "output_type": "display_data"
    },
    {
     "data": {
      "application/vnd.jupyter.widget-view+json": {
       "model_id": "3b64926437c249f691804b52f64b3c71",
       "version_major": 2,
       "version_minor": 0
      },
      "text/plain": [
       "Transcribing:   0%|          | 0/1 [00:00<?, ?it/s]"
      ]
     },
     "metadata": {},
     "output_type": "display_data"
    },
    {
     "data": {
      "application/vnd.jupyter.widget-view+json": {
       "model_id": "c44b708cb127474fa2da9b7c02ad26bb",
       "version_major": 2,
       "version_minor": 0
      },
      "text/plain": [
       "Transcribing:   0%|          | 0/1 [00:00<?, ?it/s]"
      ]
     },
     "metadata": {},
     "output_type": "display_data"
    },
    {
     "data": {
      "application/vnd.jupyter.widget-view+json": {
       "model_id": "022e870c800641ada1e18921ae34675a",
       "version_major": 2,
       "version_minor": 0
      },
      "text/plain": [
       "Transcribing:   0%|          | 0/1 [00:00<?, ?it/s]"
      ]
     },
     "metadata": {},
     "output_type": "display_data"
    },
    {
     "data": {
      "application/vnd.jupyter.widget-view+json": {
       "model_id": "77ebaab2342b4e33bc48921961e0b0fc",
       "version_major": 2,
       "version_minor": 0
      },
      "text/plain": [
       "Transcribing:   0%|          | 0/1 [00:00<?, ?it/s]"
      ]
     },
     "metadata": {},
     "output_type": "display_data"
    },
    {
     "data": {
      "application/vnd.jupyter.widget-view+json": {
       "model_id": "abc582e6330341e4b97a0f0d59da15ca",
       "version_major": 2,
       "version_minor": 0
      },
      "text/plain": [
       "Transcribing:   0%|          | 0/1 [00:00<?, ?it/s]"
      ]
     },
     "metadata": {},
     "output_type": "display_data"
    },
    {
     "data": {
      "application/vnd.jupyter.widget-view+json": {
       "model_id": "c594c8a2f63248c2bb2cff6abd5542c3",
       "version_major": 2,
       "version_minor": 0
      },
      "text/plain": [
       "Transcribing:   0%|          | 0/1 [00:00<?, ?it/s]"
      ]
     },
     "metadata": {},
     "output_type": "display_data"
    },
    {
     "data": {
      "application/vnd.jupyter.widget-view+json": {
       "model_id": "2153677af6584a528569e7538431aef3",
       "version_major": 2,
       "version_minor": 0
      },
      "text/plain": [
       "Transcribing:   0%|          | 0/1 [00:00<?, ?it/s]"
      ]
     },
     "metadata": {},
     "output_type": "display_data"
    },
    {
     "data": {
      "application/vnd.jupyter.widget-view+json": {
       "model_id": "61ef14229b6e4126bb50c748479f5b76",
       "version_major": 2,
       "version_minor": 0
      },
      "text/plain": [
       "Transcribing:   0%|          | 0/1 [00:00<?, ?it/s]"
      ]
     },
     "metadata": {},
     "output_type": "display_data"
    },
    {
     "data": {
      "application/vnd.jupyter.widget-view+json": {
       "model_id": "1e7186b4dad74e23a6cc4baafcce3b3f",
       "version_major": 2,
       "version_minor": 0
      },
      "text/plain": [
       "Transcribing:   0%|          | 0/1 [00:00<?, ?it/s]"
      ]
     },
     "metadata": {},
     "output_type": "display_data"
    },
    {
     "data": {
      "application/vnd.jupyter.widget-view+json": {
       "model_id": "caca5e22d0a441d1887152634626e968",
       "version_major": 2,
       "version_minor": 0
      },
      "text/plain": [
       "Transcribing:   0%|          | 0/1 [00:00<?, ?it/s]"
      ]
     },
     "metadata": {},
     "output_type": "display_data"
    },
    {
     "data": {
      "application/vnd.jupyter.widget-view+json": {
       "model_id": "a1ba57b33f414464844f38be34ab521d",
       "version_major": 2,
       "version_minor": 0
      },
      "text/plain": [
       "Transcribing:   0%|          | 0/1 [00:00<?, ?it/s]"
      ]
     },
     "metadata": {},
     "output_type": "display_data"
    },
    {
     "data": {
      "application/vnd.jupyter.widget-view+json": {
       "model_id": "7cacb1a3d1b840daa01fb90fdb903f6d",
       "version_major": 2,
       "version_minor": 0
      },
      "text/plain": [
       "Transcribing:   0%|          | 0/1 [00:00<?, ?it/s]"
      ]
     },
     "metadata": {},
     "output_type": "display_data"
    },
    {
     "data": {
      "application/vnd.jupyter.widget-view+json": {
       "model_id": "38d0c7206b7f4145ab4d7ddf2942a858",
       "version_major": 2,
       "version_minor": 0
      },
      "text/plain": [
       "Transcribing:   0%|          | 0/1 [00:00<?, ?it/s]"
      ]
     },
     "metadata": {},
     "output_type": "display_data"
    },
    {
     "data": {
      "application/vnd.jupyter.widget-view+json": {
       "model_id": "7815f2b539664391b6cc7ff23b609491",
       "version_major": 2,
       "version_minor": 0
      },
      "text/plain": [
       "Transcribing:   0%|          | 0/1 [00:00<?, ?it/s]"
      ]
     },
     "metadata": {},
     "output_type": "display_data"
    },
    {
     "data": {
      "application/vnd.jupyter.widget-view+json": {
       "model_id": "07fde966187048a5956d68c36248f3cc",
       "version_major": 2,
       "version_minor": 0
      },
      "text/plain": [
       "Transcribing:   0%|          | 0/1 [00:00<?, ?it/s]"
      ]
     },
     "metadata": {},
     "output_type": "display_data"
    },
    {
     "data": {
      "application/vnd.jupyter.widget-view+json": {
       "model_id": "b41c692bf328431a8ab6e1c51fdc76ca",
       "version_major": 2,
       "version_minor": 0
      },
      "text/plain": [
       "Transcribing:   0%|          | 0/1 [00:00<?, ?it/s]"
      ]
     },
     "metadata": {},
     "output_type": "display_data"
    },
    {
     "data": {
      "application/vnd.jupyter.widget-view+json": {
       "model_id": "4f8cb1549b6b4705862df5c813bf56de",
       "version_major": 2,
       "version_minor": 0
      },
      "text/plain": [
       "Transcribing:   0%|          | 0/1 [00:00<?, ?it/s]"
      ]
     },
     "metadata": {},
     "output_type": "display_data"
    },
    {
     "data": {
      "application/vnd.jupyter.widget-view+json": {
       "model_id": "ff88eb26f79a45c2af864e6b5ea74d76",
       "version_major": 2,
       "version_minor": 0
      },
      "text/plain": [
       "Transcribing:   0%|          | 0/1 [00:00<?, ?it/s]"
      ]
     },
     "metadata": {},
     "output_type": "display_data"
    },
    {
     "data": {
      "application/vnd.jupyter.widget-view+json": {
       "model_id": "676519ec5a354728a417654a342c1fc6",
       "version_major": 2,
       "version_minor": 0
      },
      "text/plain": [
       "Transcribing:   0%|          | 0/1 [00:00<?, ?it/s]"
      ]
     },
     "metadata": {},
     "output_type": "display_data"
    },
    {
     "data": {
      "application/vnd.jupyter.widget-view+json": {
       "model_id": "57829cea87ad4d41b89e5db38189a69f",
       "version_major": 2,
       "version_minor": 0
      },
      "text/plain": [
       "Transcribing:   0%|          | 0/1 [00:00<?, ?it/s]"
      ]
     },
     "metadata": {},
     "output_type": "display_data"
    },
    {
     "data": {
      "application/vnd.jupyter.widget-view+json": {
       "model_id": "fb1196a36d7848b68d0ad6ef8972adda",
       "version_major": 2,
       "version_minor": 0
      },
      "text/plain": [
       "Transcribing:   0%|          | 0/1 [00:00<?, ?it/s]"
      ]
     },
     "metadata": {},
     "output_type": "display_data"
    },
    {
     "data": {
      "application/vnd.jupyter.widget-view+json": {
       "model_id": "1d3f03122f864d8aba3b613eea9dd6e7",
       "version_major": 2,
       "version_minor": 0
      },
      "text/plain": [
       "Transcribing:   0%|          | 0/1 [00:00<?, ?it/s]"
      ]
     },
     "metadata": {},
     "output_type": "display_data"
    },
    {
     "data": {
      "application/vnd.jupyter.widget-view+json": {
       "model_id": "3f99b1e3fd774bf68b77e2309b94b014",
       "version_major": 2,
       "version_minor": 0
      },
      "text/plain": [
       "Transcribing:   0%|          | 0/1 [00:00<?, ?it/s]"
      ]
     },
     "metadata": {},
     "output_type": "display_data"
    },
    {
     "data": {
      "application/vnd.jupyter.widget-view+json": {
       "model_id": "8f0a6502dc634d0887dabd79533f3062",
       "version_major": 2,
       "version_minor": 0
      },
      "text/plain": [
       "Transcribing:   0%|          | 0/1 [00:00<?, ?it/s]"
      ]
     },
     "metadata": {},
     "output_type": "display_data"
    },
    {
     "data": {
      "application/vnd.jupyter.widget-view+json": {
       "model_id": "051d961a77b34f57a135650f7ebd78fc",
       "version_major": 2,
       "version_minor": 0
      },
      "text/plain": [
       "Transcribing:   0%|          | 0/1 [00:00<?, ?it/s]"
      ]
     },
     "metadata": {},
     "output_type": "display_data"
    },
    {
     "data": {
      "application/vnd.jupyter.widget-view+json": {
       "model_id": "24879c0115dc4906aaf91f33570975ce",
       "version_major": 2,
       "version_minor": 0
      },
      "text/plain": [
       "Transcribing:   0%|          | 0/1 [00:00<?, ?it/s]"
      ]
     },
     "metadata": {},
     "output_type": "display_data"
    },
    {
     "data": {
      "application/vnd.jupyter.widget-view+json": {
       "model_id": "c2403a3313454bf18f8d605fc204bb2c",
       "version_major": 2,
       "version_minor": 0
      },
      "text/plain": [
       "Transcribing:   0%|          | 0/1 [00:00<?, ?it/s]"
      ]
     },
     "metadata": {},
     "output_type": "display_data"
    },
    {
     "data": {
      "application/vnd.jupyter.widget-view+json": {
       "model_id": "0a1bfaf977384f6499fe16674212eb1e",
       "version_major": 2,
       "version_minor": 0
      },
      "text/plain": [
       "Transcribing:   0%|          | 0/1 [00:00<?, ?it/s]"
      ]
     },
     "metadata": {},
     "output_type": "display_data"
    },
    {
     "data": {
      "application/vnd.jupyter.widget-view+json": {
       "model_id": "b995b32396b04ab79a16afa7e3a719c4",
       "version_major": 2,
       "version_minor": 0
      },
      "text/plain": [
       "Transcribing:   0%|          | 0/1 [00:00<?, ?it/s]"
      ]
     },
     "metadata": {},
     "output_type": "display_data"
    },
    {
     "data": {
      "application/vnd.jupyter.widget-view+json": {
       "model_id": "2e2f1557044a4cd3a32e84bffe5b786c",
       "version_major": 2,
       "version_minor": 0
      },
      "text/plain": [
       "Transcribing:   0%|          | 0/1 [00:00<?, ?it/s]"
      ]
     },
     "metadata": {},
     "output_type": "display_data"
    },
    {
     "data": {
      "application/vnd.jupyter.widget-view+json": {
       "model_id": "8fb638aa6fa24114a3a036ecef6817ba",
       "version_major": 2,
       "version_minor": 0
      },
      "text/plain": [
       "Transcribing:   0%|          | 0/1 [00:00<?, ?it/s]"
      ]
     },
     "metadata": {},
     "output_type": "display_data"
    },
    {
     "data": {
      "application/vnd.jupyter.widget-view+json": {
       "model_id": "4bfced4354f94fca88f2f14562d585d0",
       "version_major": 2,
       "version_minor": 0
      },
      "text/plain": [
       "Transcribing:   0%|          | 0/1 [00:00<?, ?it/s]"
      ]
     },
     "metadata": {},
     "output_type": "display_data"
    },
    {
     "data": {
      "application/vnd.jupyter.widget-view+json": {
       "model_id": "f3331c2f400c49459cd339bc682d0801",
       "version_major": 2,
       "version_minor": 0
      },
      "text/plain": [
       "Transcribing:   0%|          | 0/1 [00:00<?, ?it/s]"
      ]
     },
     "metadata": {},
     "output_type": "display_data"
    },
    {
     "data": {
      "application/vnd.jupyter.widget-view+json": {
       "model_id": "c757489d7a984d949aff39458a7a7886",
       "version_major": 2,
       "version_minor": 0
      },
      "text/plain": [
       "Transcribing:   0%|          | 0/1 [00:00<?, ?it/s]"
      ]
     },
     "metadata": {},
     "output_type": "display_data"
    },
    {
     "data": {
      "application/vnd.jupyter.widget-view+json": {
       "model_id": "95028751a5df4643baed8b37e3d017ea",
       "version_major": 2,
       "version_minor": 0
      },
      "text/plain": [
       "Transcribing:   0%|          | 0/1 [00:00<?, ?it/s]"
      ]
     },
     "metadata": {},
     "output_type": "display_data"
    },
    {
     "data": {
      "application/vnd.jupyter.widget-view+json": {
       "model_id": "75275493a12d46d7ad0128e1a1e15de4",
       "version_major": 2,
       "version_minor": 0
      },
      "text/plain": [
       "Transcribing:   0%|          | 0/1 [00:00<?, ?it/s]"
      ]
     },
     "metadata": {},
     "output_type": "display_data"
    },
    {
     "data": {
      "application/vnd.jupyter.widget-view+json": {
       "model_id": "78f8213de50042ee86ce7af0dcdbcdfd",
       "version_major": 2,
       "version_minor": 0
      },
      "text/plain": [
       "Transcribing:   0%|          | 0/1 [00:00<?, ?it/s]"
      ]
     },
     "metadata": {},
     "output_type": "display_data"
    },
    {
     "data": {
      "application/vnd.jupyter.widget-view+json": {
       "model_id": "fe4ea52191ed469f9634577f892d3b86",
       "version_major": 2,
       "version_minor": 0
      },
      "text/plain": [
       "Transcribing:   0%|          | 0/1 [00:00<?, ?it/s]"
      ]
     },
     "metadata": {},
     "output_type": "display_data"
    },
    {
     "data": {
      "application/vnd.jupyter.widget-view+json": {
       "model_id": "a6df8add272e49239ae2e8c210b9dc77",
       "version_major": 2,
       "version_minor": 0
      },
      "text/plain": [
       "Transcribing:   0%|          | 0/1 [00:00<?, ?it/s]"
      ]
     },
     "metadata": {},
     "output_type": "display_data"
    },
    {
     "data": {
      "application/vnd.jupyter.widget-view+json": {
       "model_id": "d55f62dcb5bd47e1b56b232a61952c00",
       "version_major": 2,
       "version_minor": 0
      },
      "text/plain": [
       "Transcribing:   0%|          | 0/1 [00:00<?, ?it/s]"
      ]
     },
     "metadata": {},
     "output_type": "display_data"
    },
    {
     "data": {
      "application/vnd.jupyter.widget-view+json": {
       "model_id": "ff5d0b7411494e729a5ab2efe4139bcd",
       "version_major": 2,
       "version_minor": 0
      },
      "text/plain": [
       "Transcribing:   0%|          | 0/1 [00:00<?, ?it/s]"
      ]
     },
     "metadata": {},
     "output_type": "display_data"
    },
    {
     "data": {
      "application/vnd.jupyter.widget-view+json": {
       "model_id": "bb2251d18ef44114b5b86659d1fe06b6",
       "version_major": 2,
       "version_minor": 0
      },
      "text/plain": [
       "Transcribing:   0%|          | 0/1 [00:00<?, ?it/s]"
      ]
     },
     "metadata": {},
     "output_type": "display_data"
    },
    {
     "data": {
      "application/vnd.jupyter.widget-view+json": {
       "model_id": "fe4caa5d51864fd4a7e183417cf95d42",
       "version_major": 2,
       "version_minor": 0
      },
      "text/plain": [
       "Transcribing:   0%|          | 0/1 [00:00<?, ?it/s]"
      ]
     },
     "metadata": {},
     "output_type": "display_data"
    },
    {
     "data": {
      "application/vnd.jupyter.widget-view+json": {
       "model_id": "fd8cf5bd9cdc4d468dcfbd0cc2f7d560",
       "version_major": 2,
       "version_minor": 0
      },
      "text/plain": [
       "Transcribing:   0%|          | 0/1 [00:00<?, ?it/s]"
      ]
     },
     "metadata": {},
     "output_type": "display_data"
    },
    {
     "data": {
      "application/vnd.jupyter.widget-view+json": {
       "model_id": "4111fc27b2e64e99b9c75d2b51a34fe3",
       "version_major": 2,
       "version_minor": 0
      },
      "text/plain": [
       "Transcribing:   0%|          | 0/1 [00:00<?, ?it/s]"
      ]
     },
     "metadata": {},
     "output_type": "display_data"
    },
    {
     "data": {
      "application/vnd.jupyter.widget-view+json": {
       "model_id": "c417a78b99c248a5b63ba6bc100a2405",
       "version_major": 2,
       "version_minor": 0
      },
      "text/plain": [
       "Transcribing:   0%|          | 0/1 [00:00<?, ?it/s]"
      ]
     },
     "metadata": {},
     "output_type": "display_data"
    },
    {
     "data": {
      "application/vnd.jupyter.widget-view+json": {
       "model_id": "b19d21255c744f4d817c0ea207e13cae",
       "version_major": 2,
       "version_minor": 0
      },
      "text/plain": [
       "Transcribing:   0%|          | 0/1 [00:00<?, ?it/s]"
      ]
     },
     "metadata": {},
     "output_type": "display_data"
    },
    {
     "data": {
      "application/vnd.jupyter.widget-view+json": {
       "model_id": "d719307f57e64a38b97d3e0ce6772fef",
       "version_major": 2,
       "version_minor": 0
      },
      "text/plain": [
       "Transcribing:   0%|          | 0/1 [00:00<?, ?it/s]"
      ]
     },
     "metadata": {},
     "output_type": "display_data"
    },
    {
     "data": {
      "application/vnd.jupyter.widget-view+json": {
       "model_id": "f64218171eff454d9c3bef3c9218f6af",
       "version_major": 2,
       "version_minor": 0
      },
      "text/plain": [
       "Transcribing:   0%|          | 0/1 [00:00<?, ?it/s]"
      ]
     },
     "metadata": {},
     "output_type": "display_data"
    },
    {
     "data": {
      "application/vnd.jupyter.widget-view+json": {
       "model_id": "21434b14bf4f4f00bc015e770a009b61",
       "version_major": 2,
       "version_minor": 0
      },
      "text/plain": [
       "Transcribing:   0%|          | 0/1 [00:00<?, ?it/s]"
      ]
     },
     "metadata": {},
     "output_type": "display_data"
    },
    {
     "data": {
      "application/vnd.jupyter.widget-view+json": {
       "model_id": "75f84ffbce1e4d5d871436e5cc802288",
       "version_major": 2,
       "version_minor": 0
      },
      "text/plain": [
       "Transcribing:   0%|          | 0/1 [00:00<?, ?it/s]"
      ]
     },
     "metadata": {},
     "output_type": "display_data"
    },
    {
     "data": {
      "application/vnd.jupyter.widget-view+json": {
       "model_id": "92abefa42a9c40728e23a88fffd7135e",
       "version_major": 2,
       "version_minor": 0
      },
      "text/plain": [
       "Transcribing:   0%|          | 0/1 [00:00<?, ?it/s]"
      ]
     },
     "metadata": {},
     "output_type": "display_data"
    },
    {
     "data": {
      "application/vnd.jupyter.widget-view+json": {
       "model_id": "9a07c4b6b16e4baaaf39297edef9bed5",
       "version_major": 2,
       "version_minor": 0
      },
      "text/plain": [
       "Transcribing:   0%|          | 0/1 [00:00<?, ?it/s]"
      ]
     },
     "metadata": {},
     "output_type": "display_data"
    },
    {
     "data": {
      "application/vnd.jupyter.widget-view+json": {
       "model_id": "241f177db36f493a85779318e399a183",
       "version_major": 2,
       "version_minor": 0
      },
      "text/plain": [
       "Transcribing:   0%|          | 0/1 [00:00<?, ?it/s]"
      ]
     },
     "metadata": {},
     "output_type": "display_data"
    },
    {
     "data": {
      "application/vnd.jupyter.widget-view+json": {
       "model_id": "b5f1054ff8604a08b50688680d7ba85f",
       "version_major": 2,
       "version_minor": 0
      },
      "text/plain": [
       "Transcribing:   0%|          | 0/1 [00:00<?, ?it/s]"
      ]
     },
     "metadata": {},
     "output_type": "display_data"
    },
    {
     "data": {
      "application/vnd.jupyter.widget-view+json": {
       "model_id": "2cd66721645b41a09796c9f78e142910",
       "version_major": 2,
       "version_minor": 0
      },
      "text/plain": [
       "Transcribing:   0%|          | 0/1 [00:00<?, ?it/s]"
      ]
     },
     "metadata": {},
     "output_type": "display_data"
    },
    {
     "data": {
      "application/vnd.jupyter.widget-view+json": {
       "model_id": "ee96ec67e4604430b79a5e86cb1b3e63",
       "version_major": 2,
       "version_minor": 0
      },
      "text/plain": [
       "Transcribing:   0%|          | 0/1 [00:00<?, ?it/s]"
      ]
     },
     "metadata": {},
     "output_type": "display_data"
    },
    {
     "data": {
      "application/vnd.jupyter.widget-view+json": {
       "model_id": "5078c75b904e4ed9b905c1da98a85079",
       "version_major": 2,
       "version_minor": 0
      },
      "text/plain": [
       "Transcribing:   0%|          | 0/1 [00:00<?, ?it/s]"
      ]
     },
     "metadata": {},
     "output_type": "display_data"
    },
    {
     "data": {
      "application/vnd.jupyter.widget-view+json": {
       "model_id": "9b2a8c973b9c4bc28841085c9d5d05c4",
       "version_major": 2,
       "version_minor": 0
      },
      "text/plain": [
       "Transcribing:   0%|          | 0/1 [00:00<?, ?it/s]"
      ]
     },
     "metadata": {},
     "output_type": "display_data"
    },
    {
     "data": {
      "application/vnd.jupyter.widget-view+json": {
       "model_id": "e8f2ef1fe3204d56a1dd626a54a87d65",
       "version_major": 2,
       "version_minor": 0
      },
      "text/plain": [
       "Transcribing:   0%|          | 0/1 [00:00<?, ?it/s]"
      ]
     },
     "metadata": {},
     "output_type": "display_data"
    },
    {
     "data": {
      "application/vnd.jupyter.widget-view+json": {
       "model_id": "baa8f28e19cb4dc6a095aab3b23cea1a",
       "version_major": 2,
       "version_minor": 0
      },
      "text/plain": [
       "Transcribing:   0%|          | 0/1 [00:00<?, ?it/s]"
      ]
     },
     "metadata": {},
     "output_type": "display_data"
    },
    {
     "data": {
      "application/vnd.jupyter.widget-view+json": {
       "model_id": "142e6d87a65c49c7b70b4313d7b77c7f",
       "version_major": 2,
       "version_minor": 0
      },
      "text/plain": [
       "Transcribing:   0%|          | 0/1 [00:00<?, ?it/s]"
      ]
     },
     "metadata": {},
     "output_type": "display_data"
    },
    {
     "data": {
      "application/vnd.jupyter.widget-view+json": {
       "model_id": "58ec8cce3f704a3dae9b6e7f1450767c",
       "version_major": 2,
       "version_minor": 0
      },
      "text/plain": [
       "Transcribing:   0%|          | 0/1 [00:00<?, ?it/s]"
      ]
     },
     "metadata": {},
     "output_type": "display_data"
    },
    {
     "data": {
      "application/vnd.jupyter.widget-view+json": {
       "model_id": "ab067b37b6db40b686c842639f496382",
       "version_major": 2,
       "version_minor": 0
      },
      "text/plain": [
       "Transcribing:   0%|          | 0/1 [00:00<?, ?it/s]"
      ]
     },
     "metadata": {},
     "output_type": "display_data"
    },
    {
     "data": {
      "application/vnd.jupyter.widget-view+json": {
       "model_id": "f2193642fed8497e90880f3202d9bee7",
       "version_major": 2,
       "version_minor": 0
      },
      "text/plain": [
       "Transcribing:   0%|          | 0/1 [00:00<?, ?it/s]"
      ]
     },
     "metadata": {},
     "output_type": "display_data"
    },
    {
     "data": {
      "application/vnd.jupyter.widget-view+json": {
       "model_id": "86e09bfc2d014b3ab23381dd8be3c7b1",
       "version_major": 2,
       "version_minor": 0
      },
      "text/plain": [
       "Transcribing:   0%|          | 0/1 [00:00<?, ?it/s]"
      ]
     },
     "metadata": {},
     "output_type": "display_data"
    },
    {
     "data": {
      "application/vnd.jupyter.widget-view+json": {
       "model_id": "26c1e679b7804eed8dde4fcd65aeea46",
       "version_major": 2,
       "version_minor": 0
      },
      "text/plain": [
       "Transcribing:   0%|          | 0/1 [00:00<?, ?it/s]"
      ]
     },
     "metadata": {},
     "output_type": "display_data"
    },
    {
     "data": {
      "application/vnd.jupyter.widget-view+json": {
       "model_id": "9bb75f561e7e4bef8416dfdc1f4336d1",
       "version_major": 2,
       "version_minor": 0
      },
      "text/plain": [
       "Transcribing:   0%|          | 0/1 [00:00<?, ?it/s]"
      ]
     },
     "metadata": {},
     "output_type": "display_data"
    },
    {
     "data": {
      "application/vnd.jupyter.widget-view+json": {
       "model_id": "b2db80a0679743abac00832e0f8ce109",
       "version_major": 2,
       "version_minor": 0
      },
      "text/plain": [
       "Transcribing:   0%|          | 0/1 [00:00<?, ?it/s]"
      ]
     },
     "metadata": {},
     "output_type": "display_data"
    },
    {
     "data": {
      "application/vnd.jupyter.widget-view+json": {
       "model_id": "b0b1861b17494cdfbcee8064f9bf5797",
       "version_major": 2,
       "version_minor": 0
      },
      "text/plain": [
       "Transcribing:   0%|          | 0/1 [00:00<?, ?it/s]"
      ]
     },
     "metadata": {},
     "output_type": "display_data"
    },
    {
     "data": {
      "application/vnd.jupyter.widget-view+json": {
       "model_id": "92caec9eae0e43db81cab6dd0e50022a",
       "version_major": 2,
       "version_minor": 0
      },
      "text/plain": [
       "Transcribing:   0%|          | 0/1 [00:00<?, ?it/s]"
      ]
     },
     "metadata": {},
     "output_type": "display_data"
    },
    {
     "data": {
      "application/vnd.jupyter.widget-view+json": {
       "model_id": "6f10e94cd38a40dfab61a644e08c6e24",
       "version_major": 2,
       "version_minor": 0
      },
      "text/plain": [
       "Transcribing:   0%|          | 0/1 [00:00<?, ?it/s]"
      ]
     },
     "metadata": {},
     "output_type": "display_data"
    },
    {
     "data": {
      "application/vnd.jupyter.widget-view+json": {
       "model_id": "0fd71bca6fd2486aa26ae3b71bf23ac5",
       "version_major": 2,
       "version_minor": 0
      },
      "text/plain": [
       "Transcribing:   0%|          | 0/1 [00:00<?, ?it/s]"
      ]
     },
     "metadata": {},
     "output_type": "display_data"
    },
    {
     "data": {
      "application/vnd.jupyter.widget-view+json": {
       "model_id": "45433d6b3f4845408abe1493ecfbaea7",
       "version_major": 2,
       "version_minor": 0
      },
      "text/plain": [
       "Transcribing:   0%|          | 0/1 [00:00<?, ?it/s]"
      ]
     },
     "metadata": {},
     "output_type": "display_data"
    },
    {
     "data": {
      "application/vnd.jupyter.widget-view+json": {
       "model_id": "6c1d3b4942384834a838ae1b4bb04c9f",
       "version_major": 2,
       "version_minor": 0
      },
      "text/plain": [
       "Transcribing:   0%|          | 0/1 [00:00<?, ?it/s]"
      ]
     },
     "metadata": {},
     "output_type": "display_data"
    },
    {
     "data": {
      "application/vnd.jupyter.widget-view+json": {
       "model_id": "52220ddabe2f41f6b3ecd0dfc248fd32",
       "version_major": 2,
       "version_minor": 0
      },
      "text/plain": [
       "Transcribing:   0%|          | 0/1 [00:00<?, ?it/s]"
      ]
     },
     "metadata": {},
     "output_type": "display_data"
    },
    {
     "data": {
      "application/vnd.jupyter.widget-view+json": {
       "model_id": "b8427db552224512b6f2428cea564723",
       "version_major": 2,
       "version_minor": 0
      },
      "text/plain": [
       "Transcribing:   0%|          | 0/1 [00:00<?, ?it/s]"
      ]
     },
     "metadata": {},
     "output_type": "display_data"
    },
    {
     "data": {
      "application/vnd.jupyter.widget-view+json": {
       "model_id": "d53ceb94f4474a90adb25bd665208916",
       "version_major": 2,
       "version_minor": 0
      },
      "text/plain": [
       "Transcribing:   0%|          | 0/1 [00:00<?, ?it/s]"
      ]
     },
     "metadata": {},
     "output_type": "display_data"
    },
    {
     "data": {
      "application/vnd.jupyter.widget-view+json": {
       "model_id": "5c53399657b945388d9e0bf3e6e5b4ed",
       "version_major": 2,
       "version_minor": 0
      },
      "text/plain": [
       "Transcribing:   0%|          | 0/1 [00:00<?, ?it/s]"
      ]
     },
     "metadata": {},
     "output_type": "display_data"
    },
    {
     "data": {
      "application/vnd.jupyter.widget-view+json": {
       "model_id": "374df8afe780443989da93a315fc6884",
       "version_major": 2,
       "version_minor": 0
      },
      "text/plain": [
       "Transcribing:   0%|          | 0/1 [00:00<?, ?it/s]"
      ]
     },
     "metadata": {},
     "output_type": "display_data"
    },
    {
     "data": {
      "application/vnd.jupyter.widget-view+json": {
       "model_id": "1624f2e5bded41628f6695880c1b662c",
       "version_major": 2,
       "version_minor": 0
      },
      "text/plain": [
       "Transcribing:   0%|          | 0/1 [00:00<?, ?it/s]"
      ]
     },
     "metadata": {},
     "output_type": "display_data"
    },
    {
     "data": {
      "application/vnd.jupyter.widget-view+json": {
       "model_id": "ff657ffde3444607b6d706885dfd7431",
       "version_major": 2,
       "version_minor": 0
      },
      "text/plain": [
       "Transcribing:   0%|          | 0/1 [00:00<?, ?it/s]"
      ]
     },
     "metadata": {},
     "output_type": "display_data"
    },
    {
     "data": {
      "application/vnd.jupyter.widget-view+json": {
       "model_id": "e3a1f5ea86a3427b9d6f61455cb396ae",
       "version_major": 2,
       "version_minor": 0
      },
      "text/plain": [
       "Transcribing:   0%|          | 0/1 [00:00<?, ?it/s]"
      ]
     },
     "metadata": {},
     "output_type": "display_data"
    },
    {
     "data": {
      "application/vnd.jupyter.widget-view+json": {
       "model_id": "d5ef443b042f4a429f76d6047b1dfd45",
       "version_major": 2,
       "version_minor": 0
      },
      "text/plain": [
       "Transcribing:   0%|          | 0/1 [00:00<?, ?it/s]"
      ]
     },
     "metadata": {},
     "output_type": "display_data"
    },
    {
     "data": {
      "application/vnd.jupyter.widget-view+json": {
       "model_id": "a8b3f0bb437f40fab50a35b7cb14071e",
       "version_major": 2,
       "version_minor": 0
      },
      "text/plain": [
       "Transcribing:   0%|          | 0/1 [00:00<?, ?it/s]"
      ]
     },
     "metadata": {},
     "output_type": "display_data"
    },
    {
     "data": {
      "application/vnd.jupyter.widget-view+json": {
       "model_id": "7e1954b54e0d435e86483d6a0c8402ac",
       "version_major": 2,
       "version_minor": 0
      },
      "text/plain": [
       "Transcribing:   0%|          | 0/1 [00:00<?, ?it/s]"
      ]
     },
     "metadata": {},
     "output_type": "display_data"
    },
    {
     "data": {
      "application/vnd.jupyter.widget-view+json": {
       "model_id": "9de3dde987e745c6b31e74e7ce1daccc",
       "version_major": 2,
       "version_minor": 0
      },
      "text/plain": [
       "Transcribing:   0%|          | 0/1 [00:00<?, ?it/s]"
      ]
     },
     "metadata": {},
     "output_type": "display_data"
    },
    {
     "data": {
      "application/vnd.jupyter.widget-view+json": {
       "model_id": "6b5cfd6a35ce4bebbe31ec3595bc32b7",
       "version_major": 2,
       "version_minor": 0
      },
      "text/plain": [
       "Transcribing:   0%|          | 0/1 [00:00<?, ?it/s]"
      ]
     },
     "metadata": {},
     "output_type": "display_data"
    },
    {
     "data": {
      "application/vnd.jupyter.widget-view+json": {
       "model_id": "d63e7cfe8b1a4d9c9cc6608f8f562797",
       "version_major": 2,
       "version_minor": 0
      },
      "text/plain": [
       "Transcribing:   0%|          | 0/1 [00:00<?, ?it/s]"
      ]
     },
     "metadata": {},
     "output_type": "display_data"
    },
    {
     "data": {
      "application/vnd.jupyter.widget-view+json": {
       "model_id": "cc16d80cea9c43a3a8a617a1c025b367",
       "version_major": 2,
       "version_minor": 0
      },
      "text/plain": [
       "Transcribing:   0%|          | 0/1 [00:00<?, ?it/s]"
      ]
     },
     "metadata": {},
     "output_type": "display_data"
    },
    {
     "data": {
      "application/vnd.jupyter.widget-view+json": {
       "model_id": "18f709efbbfd456a8139b2afe6278004",
       "version_major": 2,
       "version_minor": 0
      },
      "text/plain": [
       "Transcribing:   0%|          | 0/1 [00:00<?, ?it/s]"
      ]
     },
     "metadata": {},
     "output_type": "display_data"
    },
    {
     "data": {
      "application/vnd.jupyter.widget-view+json": {
       "model_id": "e12ea3de57b74799bdb4b83787466889",
       "version_major": 2,
       "version_minor": 0
      },
      "text/plain": [
       "Transcribing:   0%|          | 0/1 [00:00<?, ?it/s]"
      ]
     },
     "metadata": {},
     "output_type": "display_data"
    },
    {
     "data": {
      "application/vnd.jupyter.widget-view+json": {
       "model_id": "f12770e6be3649f88a0a74038080b512",
       "version_major": 2,
       "version_minor": 0
      },
      "text/plain": [
       "Transcribing:   0%|          | 0/1 [00:00<?, ?it/s]"
      ]
     },
     "metadata": {},
     "output_type": "display_data"
    },
    {
     "data": {
      "application/vnd.jupyter.widget-view+json": {
       "model_id": "575b34cf1825420d87813ea0e9e6731b",
       "version_major": 2,
       "version_minor": 0
      },
      "text/plain": [
       "Transcribing:   0%|          | 0/1 [00:00<?, ?it/s]"
      ]
     },
     "metadata": {},
     "output_type": "display_data"
    },
    {
     "data": {
      "application/vnd.jupyter.widget-view+json": {
       "model_id": "2cfee1b25b7d406a830b251cfd979ecf",
       "version_major": 2,
       "version_minor": 0
      },
      "text/plain": [
       "Transcribing:   0%|          | 0/1 [00:00<?, ?it/s]"
      ]
     },
     "metadata": {},
     "output_type": "display_data"
    },
    {
     "name": "stderr",
     "output_type": "stream",
     "text": [
      "[NeMo W 2023-10-01 15:42:03 nemo_logging:349] <ipython-input-167-2103134111e9>:1: SettingWithCopyWarning: \n",
      "    A value is trying to be set on a copy of a slice from a DataFrame.\n",
      "    Try using .loc[row_indexer,col_indexer] = value instead\n",
      "    \n",
      "    See the caveats in the documentation: https://pandas.pydata.org/pandas-docs/stable/user_guide/indexing.html#returning-a-view-versus-a-copy\n",
      "      df_word['nvdia'] = df_word.apply(lambda x: get_nvdia_trans(x.xmin, x.xmax), axis = 1)\n",
      "    \n"
     ]
    }
   ],
   "source": [
    "df_word['nvdia'] = df_word.apply(lambda x: get_nvdia_trans(x.xmin, x.xmax), axis = 1)"
   ]
  },
  {
   "cell_type": "code",
   "execution_count": 168,
   "id": "1c2bb80a",
   "metadata": {},
   "outputs": [
    {
     "data": {
      "text/html": [
       "<div>\n",
       "<style scoped>\n",
       "    .dataframe tbody tr th:only-of-type {\n",
       "        vertical-align: middle;\n",
       "    }\n",
       "\n",
       "    .dataframe tbody tr th {\n",
       "        vertical-align: top;\n",
       "    }\n",
       "\n",
       "    .dataframe thead th {\n",
       "        text-align: right;\n",
       "    }\n",
       "</style>\n",
       "<table border=\"1\" class=\"dataframe\">\n",
       "  <thead>\n",
       "    <tr style=\"text-align: right;\">\n",
       "      <th></th>\n",
       "      <th>text</th>\n",
       "      <th>xmin</th>\n",
       "      <th>xmax</th>\n",
       "      <th>interval</th>\n",
       "      <th>tier</th>\n",
       "      <th>start</th>\n",
       "      <th>end</th>\n",
       "      <th>classla</th>\n",
       "      <th>classla_correct</th>\n",
       "      <th>classla-lg</th>\n",
       "      <th>classla_lg</th>\n",
       "      <th>classla_lg_correct</th>\n",
       "      <th>nvdia</th>\n",
       "    </tr>\n",
       "  </thead>\n",
       "  <tbody>\n",
       "    <tr>\n",
       "      <th>16</th>\n",
       "      <td>dobro</td>\n",
       "      <td>0.154668</td>\n",
       "      <td>0.456584</td>\n",
       "      <td>2</td>\n",
       "      <td>2</td>\n",
       "      <td>2474</td>\n",
       "      <td>7306</td>\n",
       "      <td>dobro</td>\n",
       "      <td>1</td>\n",
       "      <td>dobro</td>\n",
       "      <td>dobro</td>\n",
       "      <td>1</td>\n",
       "      <td>[zamra]</td>\n",
       "    </tr>\n",
       "    <tr>\n",
       "      <th>17</th>\n",
       "      <td>onda</td>\n",
       "      <td>1.659126</td>\n",
       "      <td>2.020000</td>\n",
       "      <td>4</td>\n",
       "      <td>2</td>\n",
       "      <td>26546</td>\n",
       "      <td>32320</td>\n",
       "      <td>onda</td>\n",
       "      <td>1</td>\n",
       "      <td>onda</td>\n",
       "      <td>onda</td>\n",
       "      <td>1</td>\n",
       "      <td>[onda]</td>\n",
       "    </tr>\n",
       "    <tr>\n",
       "      <th>18</th>\n",
       "      <td>moremo</td>\n",
       "      <td>2.020000</td>\n",
       "      <td>2.629858</td>\n",
       "      <td>5</td>\n",
       "      <td>2</td>\n",
       "      <td>32320</td>\n",
       "      <td>42078</td>\n",
       "      <td>moramo</td>\n",
       "      <td>0</td>\n",
       "      <td>morano</td>\n",
       "      <td>morano</td>\n",
       "      <td>0</td>\n",
       "      <td>[moramo]</td>\n",
       "    </tr>\n",
       "    <tr>\n",
       "      <th>19</th>\n",
       "      <td>eh</td>\n",
       "      <td>2.629858</td>\n",
       "      <td>3.070000</td>\n",
       "      <td>6</td>\n",
       "      <td>2</td>\n",
       "      <td>42077</td>\n",
       "      <td>49120</td>\n",
       "      <td></td>\n",
       "      <td>0</td>\n",
       "      <td>a</td>\n",
       "      <td>a</td>\n",
       "      <td>0</td>\n",
       "      <td>[i]</td>\n",
       "    </tr>\n",
       "    <tr>\n",
       "      <th>20</th>\n",
       "      <td>započet</td>\n",
       "      <td>3.210000</td>\n",
       "      <td>4.067719</td>\n",
       "      <td>8</td>\n",
       "      <td>2</td>\n",
       "      <td>51360</td>\n",
       "      <td>65084</td>\n",
       "      <td>započet</td>\n",
       "      <td>1</td>\n",
       "      <td>započeti</td>\n",
       "      <td>započeti</td>\n",
       "      <td>0</td>\n",
       "      <td>[započet]</td>\n",
       "    </tr>\n",
       "    <tr>\n",
       "      <th>...</th>\n",
       "      <td>...</td>\n",
       "      <td>...</td>\n",
       "      <td>...</td>\n",
       "      <td>...</td>\n",
       "      <td>...</td>\n",
       "      <td>...</td>\n",
       "      <td>...</td>\n",
       "      <td>...</td>\n",
       "      <td>...</td>\n",
       "      <td>...</td>\n",
       "      <td>...</td>\n",
       "      <td>...</td>\n",
       "      <td>...</td>\n",
       "    </tr>\n",
       "    <tr>\n",
       "      <th>489</th>\n",
       "      <td>je</td>\n",
       "      <td>173.966988</td>\n",
       "      <td>174.032100</td>\n",
       "      <td>414</td>\n",
       "      <td>4</td>\n",
       "      <td>2783471</td>\n",
       "      <td>2784514</td>\n",
       "      <td></td>\n",
       "      <td>0</td>\n",
       "      <td>i</td>\n",
       "      <td>i</td>\n",
       "      <td>0</td>\n",
       "      <td>[]</td>\n",
       "    </tr>\n",
       "    <tr>\n",
       "      <th>490</th>\n",
       "      <td>to</td>\n",
       "      <td>174.032100</td>\n",
       "      <td>174.202306</td>\n",
       "      <td>415</td>\n",
       "      <td>4</td>\n",
       "      <td>2784513</td>\n",
       "      <td>2787237</td>\n",
       "      <td>to</td>\n",
       "      <td>1</td>\n",
       "      <td>to</td>\n",
       "      <td>to</td>\n",
       "      <td>1</td>\n",
       "      <td>[to]</td>\n",
       "    </tr>\n",
       "    <tr>\n",
       "      <th>491</th>\n",
       "      <td>ča</td>\n",
       "      <td>174.358361</td>\n",
       "      <td>174.650000</td>\n",
       "      <td>417</td>\n",
       "      <td>4</td>\n",
       "      <td>2789733</td>\n",
       "      <td>2794400</td>\n",
       "      <td>ute</td>\n",
       "      <td>0</td>\n",
       "      <td>če</td>\n",
       "      <td>če</td>\n",
       "      <td>0</td>\n",
       "      <td>[če]</td>\n",
       "    </tr>\n",
       "    <tr>\n",
       "      <th>492</th>\n",
       "      <td>se</td>\n",
       "      <td>174.650000</td>\n",
       "      <td>174.793584</td>\n",
       "      <td>418</td>\n",
       "      <td>4</td>\n",
       "      <td>2794400</td>\n",
       "      <td>2796698</td>\n",
       "      <td>o</td>\n",
       "      <td>0</td>\n",
       "      <td></td>\n",
       "      <td></td>\n",
       "      <td>0</td>\n",
       "      <td>[eu]</td>\n",
       "    </tr>\n",
       "    <tr>\n",
       "      <th>493</th>\n",
       "      <td>ti</td>\n",
       "      <td>174.793584</td>\n",
       "      <td>174.960000</td>\n",
       "      <td>419</td>\n",
       "      <td>4</td>\n",
       "      <td>2796697</td>\n",
       "      <td>2799360</td>\n",
       "      <td>da</td>\n",
       "      <td>0</td>\n",
       "      <td></td>\n",
       "      <td></td>\n",
       "      <td>0</td>\n",
       "      <td>[taj]</td>\n",
       "    </tr>\n",
       "  </tbody>\n",
       "</table>\n",
       "<p>407 rows × 13 columns</p>\n",
       "</div>"
      ],
      "text/plain": [
       "        text        xmin        xmax  interval  tier    start      end  \\\n",
       "16     dobro    0.154668    0.456584         2     2     2474     7306   \n",
       "17      onda    1.659126    2.020000         4     2    26546    32320   \n",
       "18    moremo    2.020000    2.629858         5     2    32320    42078   \n",
       "19        eh    2.629858    3.070000         6     2    42077    49120   \n",
       "20   započet    3.210000    4.067719         8     2    51360    65084   \n",
       "..       ...         ...         ...       ...   ...      ...      ...   \n",
       "489       je  173.966988  174.032100       414     4  2783471  2784514   \n",
       "490       to  174.032100  174.202306       415     4  2784513  2787237   \n",
       "491       ča  174.358361  174.650000       417     4  2789733  2794400   \n",
       "492       se  174.650000  174.793584       418     4  2794400  2796698   \n",
       "493       ti  174.793584  174.960000       419     4  2796697  2799360   \n",
       "\n",
       "     classla  classla_correct classla-lg classla_lg  classla_lg_correct  \\\n",
       "16     dobro                1      dobro      dobro                   1   \n",
       "17      onda                1       onda       onda                   1   \n",
       "18    moramo                0     morano     morano                   0   \n",
       "19                          0          a          a                   0   \n",
       "20   započet                1   započeti   započeti                   0   \n",
       "..       ...              ...        ...        ...                 ...   \n",
       "489                         0          i          i                   0   \n",
       "490       to                1         to         to                   1   \n",
       "491      ute                0         če         če                   0   \n",
       "492        o                0                                         0   \n",
       "493       da                0                                         0   \n",
       "\n",
       "         nvdia  \n",
       "16     [zamra]  \n",
       "17      [onda]  \n",
       "18    [moramo]  \n",
       "19         [i]  \n",
       "20   [započet]  \n",
       "..         ...  \n",
       "489         []  \n",
       "490       [to]  \n",
       "491       [če]  \n",
       "492       [eu]  \n",
       "493      [taj]  \n",
       "\n",
       "[407 rows x 13 columns]"
      ]
     },
     "execution_count": 168,
     "metadata": {},
     "output_type": "execute_result"
    }
   ],
   "source": [
    "df_word"
   ]
  },
  {
   "cell_type": "code",
   "execution_count": null,
   "id": "1465fce5",
   "metadata": {},
   "outputs": [],
   "source": [
    "# nvdia model is sensitive to time\n",
    "# nvdia output as list, need to extract elements"
   ]
  },
  {
   "cell_type": "markdown",
   "id": "fba7f3ed",
   "metadata": {},
   "source": [
    "# whisper"
   ]
  },
  {
   "cell_type": "code",
   "execution_count": 1,
   "id": "9af5bc66",
   "metadata": {},
   "outputs": [
    {
     "name": "stderr",
     "output_type": "stream",
     "text": [
      "/Users/irisz/opt/miniconda3/lib/python3.9/site-packages/whisper/timing.py:58: NumbaDeprecationWarning: \u001b[1mThe 'nopython' keyword argument was not supplied to the 'numba.jit' decorator. The implicit default value for this argument is currently False, but it will be changed to True in Numba 0.59.0. See https://numba.readthedocs.io/en/stable/reference/deprecation.html#deprecation-of-object-mode-fall-back-behaviour-when-using-jit for details.\u001b[0m\n",
      "  def backtrace(trace: np.ndarray):\n"
     ]
    },
    {
     "name": "stdout",
     "output_type": "stream",
     "text": [
      "Importing the dtw module. When using in academic works please cite:\n",
      "  T. Giorgino. Computing and Visualizing Dynamic Time Warping Alignments in R: The dtw Package.\n",
      "  J. Stat. Soft., doi:10.18637/jss.v031.i07.\n",
      "\n"
     ]
    }
   ],
   "source": [
    "import whisper_timestamped as whisper\n",
    "\n",
    "\n",
    "\n",
    "model = whisper.load_model(\"base\", device=\"cpu\")\n"
   ]
  },
  {
   "cell_type": "code",
   "execution_count": 32,
   "id": "ec9d481b",
   "metadata": {},
   "outputs": [
    {
     "data": {
      "text/plain": [
       "<_io.BufferedRandom name='/Users/irisz/downloads/2023_ELIC/s1.wav'>"
      ]
     },
     "execution_count": 32,
     "metadata": {},
     "output_type": "execute_result"
    }
   ],
   "source": [
    "audio_dir = '/Users/irisz/downloads/2023_ELIC/ckm001-2022-01-16-Trviž_01.wav'\n",
    "t1 = 10\n",
    "t2 = 10.9\n",
    "from pydub import AudioSegment\n",
    "t1 = t1 * 1000 #Works in milliseconds\n",
    "t2 = t2 * 1000\n",
    "newAudio = AudioSegment.from_wav(audio_dir)\n",
    "newAudio = newAudio[t1:t2]\n",
    "newAudio.export('/Users/irisz/downloads/2023_ELIC/s1.wav', format=\"wav\")\n"
   ]
  },
  {
   "cell_type": "code",
   "execution_count": 33,
   "id": "594c14d2",
   "metadata": {},
   "outputs": [
    {
     "name": "stderr",
     "output_type": "stream",
     "text": [
      "100%|██████████| 90/90 [00:01<00:00, 72.73frames/s]\n"
     ]
    },
    {
     "data": {
      "text/plain": [
       "{'text': ' Daj na kakaj.',\n",
       " 'segments': [{'id': 0,\n",
       "   'seek': 0,\n",
       "   'start': 0.7,\n",
       "   'end': 1.48,\n",
       "   'text': ' Daj na kakaj.',\n",
       "   'tokens': [50364, 413, 1805, 1667, 350, 514, 1805, 13, 50414],\n",
       "   'temperature': 0.0,\n",
       "   'avg_logprob': -1.985723114013672,\n",
       "   'compression_ratio': 0.6190476190476191,\n",
       "   'no_speech_prob': 0.5198992490768433,\n",
       "   'confidence': 0.072,\n",
       "   'words': [{'text': 'Daj', 'start': 0.7, 'end': 0.92, 'confidence': 0.081},\n",
       "    {'text': 'na', 'start': 0.92, 'end': 1.24, 'confidence': 0.053},\n",
       "    {'text': 'kakaj.', 'start': 1.24, 'end': 1.48, 'confidence': 0.074}]}],\n",
       " 'language': 'Croatian'}"
      ]
     },
     "execution_count": 33,
     "metadata": {},
     "output_type": "execute_result"
    }
   ],
   "source": [
    "audio_dir = '/Users/irisz/downloads/2023_ELIC/s1.wav'\n",
    "audio = whisper.load_audio(audio_dir)\n",
    "\n",
    "result = whisper.transcribe(model, audio, language=\"Croatian\")\n",
    "result\n",
    "# can't apply on one word clip, can use the whole audio and it will provide information for single words"
   ]
  },
  {
   "cell_type": "code",
   "execution_count": 34,
   "id": "9f324a3f",
   "metadata": {},
   "outputs": [
    {
     "data": {
      "text/plain": [
       "' Daj na kakaj.'"
      ]
     },
     "execution_count": 34,
     "metadata": {},
     "output_type": "execute_result"
    }
   ],
   "source": [
    "result['text']"
   ]
  },
  {
   "cell_type": "code",
   "execution_count": 39,
   "id": "b6685096",
   "metadata": {},
   "outputs": [
    {
     "data": {
      "text/plain": [
       "[{'text': 'Daj', 'start': 0.7, 'end': 0.92, 'confidence': 0.081},\n",
       " {'text': 'na', 'start': 0.92, 'end': 1.24, 'confidence': 0.053},\n",
       " {'text': 'kakaj.', 'start': 1.24, 'end': 1.48, 'confidence': 0.074}]"
      ]
     },
     "execution_count": 39,
     "metadata": {},
     "output_type": "execute_result"
    }
   ],
   "source": [
    "result['segments'][0]['words']"
   ]
  },
  {
   "cell_type": "code",
   "execution_count": null,
   "id": "29483e40",
   "metadata": {},
   "outputs": [],
   "source": []
  },
  {
   "cell_type": "code",
   "execution_count": null,
   "id": "20cb5e11",
   "metadata": {},
   "outputs": [],
   "source": [
    "# to do:\n",
    "# 1. apply the pipeline to more subjects' annotated data\n",
    "# 2. calculate WER (need to figure out the method and rule)\n",
    "\n",
    "# question:\n",
    "# ask Nikola: how to get the time information that a prediction is made upon? if possible\n",
    "\n",
    "## deepgram does not support croatian"
   ]
  }
 ],
 "metadata": {
  "kernelspec": {
   "display_name": "Python 3",
   "language": "python",
   "name": "python3"
  },
  "language_info": {
   "codemirror_mode": {
    "name": "ipython",
    "version": 3
   },
   "file_extension": ".py",
   "mimetype": "text/x-python",
   "name": "python",
   "nbconvert_exporter": "python",
   "pygments_lexer": "ipython3",
   "version": "3.9.5"
  }
 },
 "nbformat": 4,
 "nbformat_minor": 5
}
