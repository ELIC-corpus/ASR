{
 "cells": [
  {
   "cell_type": "code",
   "execution_count": 1,
   "id": "1323507e",
   "metadata": {},
   "outputs": [
    {
     "data": {
      "text/plain": [
       "'ckm004-2022-07-07-Cres_03'"
      ]
     },
     "execution_count": 1,
     "metadata": {},
     "output_type": "execute_result"
    }
   ],
   "source": [
    "# read file names\n",
    "\n",
    "import glob\n",
    "folder_dir = '/Users/irisz/downloads/2023_ELIC/Croatian/croatian_manual_annotated_1008/*'\n",
    "save_dir = '/Users/irisz/downloads/2023_ELIC/Croatian/croatian_model_annotated/'\n",
    "files = glob.glob(folder_dir)\n",
    "audios = [item for item in files if item.endswith('wav')]\n",
    "\n",
    "audios[0].split('/')[-1].split('.')[0]"
   ]
  },
  {
   "cell_type": "code",
   "execution_count": 2,
   "id": "0fe1961b",
   "metadata": {},
   "outputs": [
    {
     "data": {
      "text/plain": [
       "['/Users/irisz/downloads/2023_ELIC/Croatian/croatian_manual_annotated_1008/ckm004-2022-07-07-Cres_03.wav',\n",
       " '/Users/irisz/downloads/2023_ELIC/Croatian/croatian_manual_annotated_1008/ckm004-2022-07-07-Cres_02.wav',\n",
       " '/Users/irisz/downloads/2023_ELIC/Croatian/croatian_manual_annotated_1008/ckm002-2022-01-04-Crikvenica_08.wav',\n",
       " '/Users/irisz/downloads/2023_ELIC/Croatian/croatian_manual_annotated_1008/ckm004-2022-07-07-Cres_01.wav',\n",
       " '/Users/irisz/downloads/2023_ELIC/Croatian/croatian_manual_annotated_1008/ckm004-2022-07-07-Cres_04.wav',\n",
       " '/Users/irisz/downloads/2023_ELIC/Croatian/croatian_manual_annotated_1008/ckm005-2022-11-26-Vrbnik_01.wav',\n",
       " '/Users/irisz/downloads/2023_ELIC/Croatian/croatian_manual_annotated_1008/ckm005-2022-11-26-Vrbnik_02.wav',\n",
       " '/Users/irisz/downloads/2023_ELIC/Croatian/croatian_manual_annotated_1008/ckm005-2022-11-26-Vrbnik_03.wav',\n",
       " '/Users/irisz/downloads/2023_ELIC/Croatian/croatian_manual_annotated_1008/ckm005-2022-11-26-Vrbnik_06.wav',\n",
       " '/Users/irisz/downloads/2023_ELIC/Croatian/croatian_manual_annotated_1008/ckm005-2022-11-26-Vrbnik_04.wav',\n",
       " '/Users/irisz/downloads/2023_ELIC/Croatian/croatian_manual_annotated_1008/ckm005-2022-11-26-Vrbnik_05.wav',\n",
       " '/Users/irisz/downloads/2023_ELIC/Croatian/croatian_manual_annotated_1008/ckm001-2022-01-16-Trviž_04.wav',\n",
       " '/Users/irisz/downloads/2023_ELIC/Croatian/croatian_manual_annotated_1008/ckm006-2023-05-28-Kostrena_06.wav',\n",
       " '/Users/irisz/downloads/2023_ELIC/Croatian/croatian_manual_annotated_1008/ckm002-2022-01-04-Crikvenica_03.wav',\n",
       " '/Users/irisz/downloads/2023_ELIC/Croatian/croatian_manual_annotated_1008/ckm002-2022-01-04-Crikvenica_02.wav',\n",
       " '/Users/irisz/downloads/2023_ELIC/Croatian/croatian_manual_annotated_1008/ckm006-2023-05-28-Kostrena_07.wav',\n",
       " '/Users/irisz/downloads/2023_ELIC/Croatian/croatian_manual_annotated_1008/ckm001-2022-01-16-Trviž_05.wav',\n",
       " '/Users/irisz/downloads/2023_ELIC/Croatian/croatian_manual_annotated_1008/ckm006-2023-05-28-Kostrena_05.wav',\n",
       " '/Users/irisz/downloads/2023_ELIC/Croatian/croatian_manual_annotated_1008/ckm002-2022-01-04-Crikvenica_01.wav',\n",
       " '/Users/irisz/downloads/2023_ELIC/Croatian/croatian_manual_annotated_1008/ckm006-2023-05-28-Kostrena_04.wav',\n",
       " '/Users/irisz/downloads/2023_ELIC/Croatian/croatian_manual_annotated_1008/ckm001-2022-01-16-Trviž_02.wav',\n",
       " '/Users/irisz/downloads/2023_ELIC/Croatian/croatian_manual_annotated_1008/ckm002-2022-01-04-Crikvenica_05.wav',\n",
       " '/Users/irisz/downloads/2023_ELIC/Croatian/croatian_manual_annotated_1008/ckm006-2023-05-28-Kostrena_01.wav',\n",
       " '/Users/irisz/downloads/2023_ELIC/Croatian/croatian_manual_annotated_1008/ckm002-2022-01-04-Crikvenica_04.wav',\n",
       " '/Users/irisz/downloads/2023_ELIC/Croatian/croatian_manual_annotated_1008/ckm001-2022-01-16-Trviž_03.wav',\n",
       " '/Users/irisz/downloads/2023_ELIC/Croatian/croatian_manual_annotated_1008/ckm001-2022-01-16-Trviž_01.wav',\n",
       " '/Users/irisz/downloads/2023_ELIC/Croatian/croatian_manual_annotated_1008/ckm002-2022-01-04-Crikvenica_06.wav',\n",
       " '/Users/irisz/downloads/2023_ELIC/Croatian/croatian_manual_annotated_1008/ckm006-2023-05-28-Kostrena_03.wav',\n",
       " '/Users/irisz/downloads/2023_ELIC/Croatian/croatian_manual_annotated_1008/ckm006-2023-05-28-Kostrena_02.wav',\n",
       " '/Users/irisz/downloads/2023_ELIC/Croatian/croatian_manual_annotated_1008/ckm002-2022-01-04-Crikvenica_07.wav']"
      ]
     },
     "execution_count": 2,
     "metadata": {},
     "output_type": "execute_result"
    }
   ],
   "source": [
    "audios"
   ]
  },
  {
   "cell_type": "code",
   "execution_count": null,
   "id": "e83e470d",
   "metadata": {},
   "outputs": [],
   "source": [
    "# get output as txt file "
   ]
  },
  {
   "cell_type": "markdown",
   "id": "aab9e9df",
   "metadata": {},
   "source": [
    "# classla"
   ]
  },
  {
   "cell_type": "code",
   "execution_count": 4,
   "id": "756ccbee",
   "metadata": {},
   "outputs": [],
   "source": [
    "from transformers import Wav2Vec2Processor, Wav2Vec2ForCTC\n",
    "import soundfile as sf\n",
    "import torch\n",
    "import os\n",
    "import librosa \n",
    "\n",
    "device = torch.device(\"cuda:0\" if torch.cuda.is_available() else \"cpu\")\n"
   ]
  },
  {
   "cell_type": "code",
   "execution_count": 3,
   "id": "8bfc5abb",
   "metadata": {},
   "outputs": [
    {
     "name": "stderr",
     "output_type": "stream",
     "text": [
      "Special tokens have been added in the vocabulary, make sure the associated word embeddings are fine-tuned or trained.\n",
      "/Users/irisz/opt/miniconda3/lib/python3.9/site-packages/torch/nn/utils/weight_norm.py:30: UserWarning: torch.nn.utils.weight_norm is deprecated in favor of torch.nn.utils.parametrizations.weight_norm.\n",
      "  warnings.warn(\"torch.nn.utils.weight_norm is deprecated in favor of torch.nn.utils.parametrizations.weight_norm.\")\n"
     ]
    }
   ],
   "source": [
    "\n",
    "# load model and tokenizer\n",
    "processor = Wav2Vec2Processor.from_pretrained(\n",
    "    \"classla/wav2vec2-xls-r-parlaspeech-hr\")\n",
    "model = Wav2Vec2ForCTC.from_pretrained(\"classla/wav2vec2-xls-r-parlaspeech-hr\")\n",
    "\n",
    "def get_text(speech_curr):\n",
    "    input_values = processor(speech_curr, sampling_rate=16000, return_tensors=\"pt\").input_values.to(device)\n",
    "    logits = model.to(device)(input_values).logits\n",
    "    predicted_ids = torch.argmax(logits, dim=-1)\n",
    "    transcription = processor.decode(predicted_ids[0]).lower()\n",
    "    return transcription\n",
    "        "
   ]
  },
  {
   "cell_type": "code",
   "execution_count": 5,
   "id": "9402328a",
   "metadata": {},
   "outputs": [
    {
     "name": "stdout",
     "output_type": "stream",
     "text": [
      "/Users/irisz/downloads/2023_ELIC/Croatian/croatian_manual_annotated_1008/ckm004-2022-07-07-Cres_01.wav\n",
      "100000\n",
      "51\n",
      "300000\n",
      "17\n",
      "500000\n",
      "10\n",
      "700000\n",
      "7\n",
      "/Users/irisz/downloads/2023_ELIC/Croatian/croatian_manual_annotated_1008/ckm004-2022-07-07-Cres_04.wav\n",
      "100000\n",
      "93\n",
      "300000\n",
      "31\n",
      "500000\n",
      "18\n",
      "700000\n",
      "13\n",
      "/Users/irisz/downloads/2023_ELIC/Croatian/croatian_manual_annotated_1008/ckm005-2022-11-26-Vrbnik_01.wav\n",
      "100000\n",
      "93\n",
      "300000\n",
      "31\n",
      "500000\n",
      "18\n",
      "700000\n",
      "13\n",
      "/Users/irisz/downloads/2023_ELIC/Croatian/croatian_manual_annotated_1008/ckm005-2022-11-26-Vrbnik_02.wav\n",
      "100000\n",
      "89\n",
      "300000\n",
      "29\n",
      "500000\n",
      "17\n",
      "700000\n",
      "12\n",
      "/Users/irisz/downloads/2023_ELIC/Croatian/croatian_manual_annotated_1008/ckm005-2022-11-26-Vrbnik_03.wav\n",
      "100000\n",
      "82\n",
      "300000\n",
      "27\n",
      "500000\n",
      "16\n",
      "700000\n",
      "11\n",
      "/Users/irisz/downloads/2023_ELIC/Croatian/croatian_manual_annotated_1008/ckm005-2022-11-26-Vrbnik_06.wav\n",
      "100000\n",
      "93\n",
      "300000\n",
      "31\n",
      "500000\n",
      "18\n",
      "700000\n",
      "13\n",
      "/Users/irisz/downloads/2023_ELIC/Croatian/croatian_manual_annotated_1008/ckm005-2022-11-26-Vrbnik_04.wav\n",
      "100000\n",
      "95\n",
      "300000\n",
      "31\n",
      "500000\n",
      "19\n",
      "700000\n",
      "13\n",
      "/Users/irisz/downloads/2023_ELIC/Croatian/croatian_manual_annotated_1008/ckm005-2022-11-26-Vrbnik_05.wav\n",
      "100000\n",
      "88\n",
      "300000\n",
      "29\n",
      "500000\n",
      "17\n",
      "700000\n",
      "12\n",
      "/Users/irisz/downloads/2023_ELIC/Croatian/croatian_manual_annotated_1008/ckm001-2022-01-16-Trviž_04.wav\n",
      "100000\n",
      "50\n",
      "300000\n",
      "16\n",
      "500000\n",
      "10\n",
      "700000\n",
      "7\n",
      "/Users/irisz/downloads/2023_ELIC/Croatian/croatian_manual_annotated_1008/ckm006-2023-05-28-Kostrena_06.wav\n",
      "100000\n",
      "77\n",
      "300000\n",
      "25\n",
      "500000\n",
      "15\n",
      "700000\n",
      "11\n",
      "/Users/irisz/downloads/2023_ELIC/Croatian/croatian_manual_annotated_1008/ckm002-2022-01-04-Crikvenica_03.wav\n",
      "100000\n",
      "92\n",
      "300000\n",
      "30\n",
      "500000\n",
      "18\n",
      "700000\n",
      "13\n",
      "/Users/irisz/downloads/2023_ELIC/Croatian/croatian_manual_annotated_1008/ckm002-2022-01-04-Crikvenica_02.wav\n",
      "100000\n",
      "95\n",
      "300000\n",
      "31\n",
      "500000\n",
      "19\n",
      "700000\n",
      "13\n",
      "/Users/irisz/downloads/2023_ELIC/Croatian/croatian_manual_annotated_1008/ckm006-2023-05-28-Kostrena_07.wav\n",
      "100000\n",
      "96\n",
      "300000\n",
      "32\n",
      "500000\n",
      "19\n",
      "700000\n",
      "13\n",
      "/Users/irisz/downloads/2023_ELIC/Croatian/croatian_manual_annotated_1008/ckm001-2022-01-16-Trviž_05.wav\n",
      "100000\n",
      "50\n",
      "300000\n",
      "16\n",
      "500000\n",
      "10\n",
      "700000\n",
      "7\n",
      "/Users/irisz/downloads/2023_ELIC/Croatian/croatian_manual_annotated_1008/ckm006-2023-05-28-Kostrena_05.wav\n",
      "100000\n",
      "95\n",
      "300000\n",
      "31\n",
      "500000\n",
      "19\n",
      "700000\n",
      "13\n",
      "/Users/irisz/downloads/2023_ELIC/Croatian/croatian_manual_annotated_1008/ckm002-2022-01-04-Crikvenica_01.wav\n",
      "100000\n",
      "92\n",
      "300000\n",
      "30\n",
      "500000\n",
      "18\n",
      "700000\n",
      "13\n",
      "/Users/irisz/downloads/2023_ELIC/Croatian/croatian_manual_annotated_1008/ckm006-2023-05-28-Kostrena_04.wav\n",
      "100000\n",
      "96\n",
      "300000\n",
      "32\n",
      "500000\n",
      "19\n",
      "700000\n",
      "13\n",
      "/Users/irisz/downloads/2023_ELIC/Croatian/croatian_manual_annotated_1008/ckm001-2022-01-16-Trviž_02.wav\n",
      "100000\n",
      "53\n",
      "300000\n",
      "17\n",
      "500000\n",
      "10\n",
      "700000\n",
      "7\n",
      "/Users/irisz/downloads/2023_ELIC/Croatian/croatian_manual_annotated_1008/ckm002-2022-01-04-Crikvenica_05.wav\n",
      "100000\n",
      "88\n",
      "300000\n",
      "29\n",
      "500000\n",
      "17\n",
      "700000\n",
      "12\n",
      "/Users/irisz/downloads/2023_ELIC/Croatian/croatian_manual_annotated_1008/ckm006-2023-05-28-Kostrena_01.wav\n",
      "100000\n",
      "85\n",
      "300000\n",
      "28\n",
      "500000\n",
      "17\n",
      "700000\n",
      "12\n",
      "/Users/irisz/downloads/2023_ELIC/Croatian/croatian_manual_annotated_1008/ckm002-2022-01-04-Crikvenica_04.wav\n",
      "100000\n",
      "91\n",
      "300000\n",
      "30\n",
      "500000\n",
      "18\n",
      "700000\n",
      "13\n",
      "/Users/irisz/downloads/2023_ELIC/Croatian/croatian_manual_annotated_1008/ckm001-2022-01-16-Trviž_03.wav\n",
      "100000\n",
      "58\n",
      "300000\n",
      "19\n",
      "500000\n",
      "11\n",
      "700000\n",
      "8\n",
      "/Users/irisz/downloads/2023_ELIC/Croatian/croatian_manual_annotated_1008/ckm001-2022-01-16-Trviž_01.wav\n",
      "100000\n",
      "300000\n",
      "9\n",
      "500000\n",
      "5\n",
      "700000\n",
      "/Users/irisz/downloads/2023_ELIC/Croatian/croatian_manual_annotated_1008/ckm002-2022-01-04-Crikvenica_06.wav\n",
      "100000\n",
      "91\n",
      "300000\n",
      "30\n",
      "500000\n",
      "18\n",
      "700000\n",
      "13\n",
      "/Users/irisz/downloads/2023_ELIC/Croatian/croatian_manual_annotated_1008/ckm006-2023-05-28-Kostrena_03.wav\n",
      "100000\n",
      "92\n",
      "300000\n",
      "30\n",
      "500000\n",
      "18\n",
      "700000\n",
      "13\n",
      "/Users/irisz/downloads/2023_ELIC/Croatian/croatian_manual_annotated_1008/ckm006-2023-05-28-Kostrena_02.wav\n",
      "100000\n",
      "93\n",
      "300000\n",
      "31\n",
      "500000\n",
      "18\n",
      "700000\n",
      "13\n",
      "/Users/irisz/downloads/2023_ELIC/Croatian/croatian_manual_annotated_1008/ckm002-2022-01-04-Crikvenica_07.wav\n",
      "100000\n",
      "93\n",
      "300000\n",
      "31\n",
      "500000\n",
      "18\n",
      "700000\n",
      "13\n"
     ]
    }
   ],
   "source": [
    "chunk_sizes = [100000*1,100000*3,100000*5,100000*7]\n",
    "for i in range(3, len(audios)):\n",
    "#for i in range(1):\n",
    "    audio_dir = audios[i]\n",
    "    speech, sample_rate = librosa.load(audio_dir, sr=16000)\n",
    "    print (audio_dir)\n",
    "    for j in range(4):\n",
    "        chunk_size = chunk_sizes[j]\n",
    "        print (chunk_size)\n",
    "        text_all = \"\"\n",
    "        k = 0\n",
    "        while chunk_size*k < len(speech):\n",
    "            \n",
    "            if chunk_size*(k+1) > len(speech):\n",
    "                speech_curr = speech[chunk_size*k:]\n",
    "                print(k)\n",
    "            else:\n",
    "                speech_curr = speech[chunk_size*k:chunk_size*(k+1)]\n",
    "            k = k + 1\n",
    "            text_curr = get_text(speech_curr)\n",
    "            text_all = text_all + text_curr + \" \"\n",
    "        file_save_name = save_dir + audio_dir.split('/')[-1].split('.')[0] + '_classla_chunk_' + str(chunk_size) +'.txt'\n",
    "        with open(file_save_name, 'w') as f:\n",
    "            print(text_all, file=f)"
   ]
  },
  {
   "cell_type": "code",
   "execution_count": 6,
   "id": "c4f51e08",
   "metadata": {},
   "outputs": [
    {
     "name": "stderr",
     "output_type": "stream",
     "text": [
      "/Users/irisz/opt/miniconda3/lib/python3.9/site-packages/torch/nn/utils/weight_norm.py:30: UserWarning: torch.nn.utils.weight_norm is deprecated in favor of torch.nn.utils.parametrizations.weight_norm.\n",
      "  warnings.warn(\"torch.nn.utils.weight_norm is deprecated in favor of torch.nn.utils.parametrizations.weight_norm.\")\n"
     ]
    },
    {
     "name": "stdout",
     "output_type": "stream",
     "text": [
      "/Users/irisz/downloads/2023_ELIC/Croatian/croatian_manual_annotated_1008/ckm004-2022-07-07-Cres_03.wav\n",
      "100000\n",
      "66\n",
      "300000\n",
      "22\n",
      "500000\n",
      "13\n",
      "700000\n",
      "9\n",
      "/Users/irisz/downloads/2023_ELIC/Croatian/croatian_manual_annotated_1008/ckm004-2022-07-07-Cres_02.wav\n",
      "100000\n",
      "78\n",
      "300000\n",
      "26\n",
      "500000\n",
      "15\n",
      "700000\n",
      "11\n",
      "/Users/irisz/downloads/2023_ELIC/Croatian/croatian_manual_annotated_1008/ckm002-2022-01-04-Crikvenica_08.wav\n",
      "100000\n",
      "51\n",
      "300000\n",
      "17\n",
      "500000\n",
      "10\n",
      "700000\n",
      "7\n"
     ]
    }
   ],
   "source": [
    "## classla_lg\n",
    "\n",
    "processor = Wav2Vec2Processor.from_pretrained(\n",
    "    \"classla/wav2vec2-large-slavic-parlaspeech-hr\")\n",
    "model = Wav2Vec2ForCTC.from_pretrained(\"classla/wav2vec2-large-slavic-parlaspeech-hr\")\n",
    "\n",
    "def get_text(speech_curr):\n",
    "    input_values = processor(speech_curr, sampling_rate=16000, return_tensors=\"pt\").input_values.to(device)\n",
    "    logits = model.to(device)(input_values).logits\n",
    "    predicted_ids = torch.argmax(logits, dim=-1)\n",
    "    transcription = processor.decode(predicted_ids[0]).lower()\n",
    "    return transcription\n",
    "  \n",
    "    \n",
    "chunk_sizes = [100000*1,100000*3,100000*5,100000*7]\n",
    "#for i in range(3, len(audios)):\n",
    "for i in range(3):\n",
    "    audio_dir = audios[i]\n",
    "    speech, sample_rate = librosa.load(audio_dir, sr=16000)\n",
    "    print (audio_dir)\n",
    "    for j in range(4):\n",
    "        chunk_size = chunk_sizes[j]\n",
    "        print (chunk_size)\n",
    "        text_all = \"\"\n",
    "        k = 0\n",
    "        while chunk_size*k < len(speech):\n",
    "            \n",
    "            if chunk_size*(k+1) > len(speech):\n",
    "                speech_curr = speech[chunk_size*k:]\n",
    "                print(k)\n",
    "            else:\n",
    "                speech_curr = speech[chunk_size*k:chunk_size*(k+1)]\n",
    "            k = k + 1\n",
    "            text_curr = get_text(speech_curr)\n",
    "            text_all = text_all + text_curr + \" \"\n",
    "        file_save_name = save_dir + audio_dir.split('/')[-1].split('.')[0] + '_classla_lg_chunk_' + str(chunk_size) +'.txt'\n",
    "        with open(file_save_name, 'w') as f:\n",
    "            print(text_all, file=f)"
   ]
  },
  {
   "cell_type": "code",
   "execution_count": 10,
   "id": "fe8b9300",
   "metadata": {},
   "outputs": [
    {
     "ename": "ImportError",
     "evalue": "cannot import name 'eval_env' from 'torchaudio._internal.module_utils' (/Users/irisz/opt/miniconda3/lib/python3.9/site-packages/torchaudio/_internal/module_utils.py)",
     "output_type": "error",
     "traceback": [
      "\u001b[0;31m---------------------------------------------------------------------------\u001b[0m",
      "\u001b[0;31mImportError\u001b[0m                               Traceback (most recent call last)",
      "\u001b[0;32m<ipython-input-10-9eaeaa19108e>\u001b[0m in \u001b[0;36m<module>\u001b[0;34m\u001b[0m\n\u001b[1;32m      1\u001b[0m \u001b[0;31m## nvdia\u001b[0m\u001b[0;34m\u001b[0m\u001b[0;34m\u001b[0m\u001b[0;34m\u001b[0m\u001b[0m\n\u001b[0;32m----> 2\u001b[0;31m \u001b[0;32mimport\u001b[0m \u001b[0mnemo\u001b[0m\u001b[0;34m.\u001b[0m\u001b[0mcollections\u001b[0m\u001b[0;34m.\u001b[0m\u001b[0masr\u001b[0m \u001b[0;32mas\u001b[0m \u001b[0mnemo_asr\u001b[0m\u001b[0;34m\u001b[0m\u001b[0;34m\u001b[0m\u001b[0m\n\u001b[0m\u001b[1;32m      3\u001b[0m \u001b[0masr_model\u001b[0m \u001b[0;34m=\u001b[0m \u001b[0mnemo_asr\u001b[0m\u001b[0;34m.\u001b[0m\u001b[0mmodels\u001b[0m\u001b[0;34m.\u001b[0m\u001b[0mEncDecCTCModelBPE\u001b[0m\u001b[0;34m.\u001b[0m\u001b[0mfrom_pretrained\u001b[0m\u001b[0;34m(\u001b[0m\u001b[0;34m\"nvidia/stt_hr_conformer_ctc_large\"\u001b[0m\u001b[0;34m)\u001b[0m\u001b[0;34m\u001b[0m\u001b[0;34m\u001b[0m\u001b[0m\n\u001b[1;32m      4\u001b[0m \u001b[0;34m\u001b[0m\u001b[0m\n\u001b[1;32m      5\u001b[0m \u001b[0;32mfor\u001b[0m \u001b[0mi\u001b[0m \u001b[0;32min\u001b[0m \u001b[0mrange\u001b[0m\u001b[0;34m(\u001b[0m\u001b[0mlen\u001b[0m\u001b[0;34m(\u001b[0m\u001b[0maudios\u001b[0m\u001b[0;34m)\u001b[0m\u001b[0;34m)\u001b[0m\u001b[0;34m:\u001b[0m\u001b[0;34m\u001b[0m\u001b[0;34m\u001b[0m\u001b[0m\n",
      "\u001b[0;32m~/opt/miniconda3/lib/python3.9/site-packages/nemo/collections/asr/__init__.py\u001b[0m in \u001b[0;36m<module>\u001b[0;34m\u001b[0m\n\u001b[1;32m     13\u001b[0m \u001b[0;31m# limitations under the License.\u001b[0m\u001b[0;34m\u001b[0m\u001b[0;34m\u001b[0m\u001b[0;34m\u001b[0m\u001b[0m\n\u001b[1;32m     14\u001b[0m \u001b[0;34m\u001b[0m\u001b[0m\n\u001b[0;32m---> 15\u001b[0;31m \u001b[0;32mfrom\u001b[0m \u001b[0mnemo\u001b[0m\u001b[0;34m.\u001b[0m\u001b[0mcollections\u001b[0m\u001b[0;34m.\u001b[0m\u001b[0masr\u001b[0m \u001b[0;32mimport\u001b[0m \u001b[0mdata\u001b[0m\u001b[0;34m,\u001b[0m \u001b[0mlosses\u001b[0m\u001b[0;34m,\u001b[0m \u001b[0mmodels\u001b[0m\u001b[0;34m,\u001b[0m \u001b[0mmodules\u001b[0m\u001b[0;34m\u001b[0m\u001b[0;34m\u001b[0m\u001b[0m\n\u001b[0m\u001b[1;32m     16\u001b[0m \u001b[0;32mfrom\u001b[0m \u001b[0mnemo\u001b[0m\u001b[0;34m.\u001b[0m\u001b[0mpackage_info\u001b[0m \u001b[0;32mimport\u001b[0m \u001b[0m__version__\u001b[0m\u001b[0;34m\u001b[0m\u001b[0;34m\u001b[0m\u001b[0m\n\u001b[1;32m     17\u001b[0m \u001b[0;34m\u001b[0m\u001b[0m\n",
      "\u001b[0;32m~/opt/miniconda3/lib/python3.9/site-packages/nemo/collections/asr/losses/__init__.py\u001b[0m in \u001b[0;36m<module>\u001b[0;34m\u001b[0m\n\u001b[1;32m     14\u001b[0m \u001b[0;34m\u001b[0m\u001b[0m\n\u001b[1;32m     15\u001b[0m \u001b[0;32mfrom\u001b[0m \u001b[0mnemo\u001b[0m\u001b[0;34m.\u001b[0m\u001b[0mcollections\u001b[0m\u001b[0;34m.\u001b[0m\u001b[0masr\u001b[0m\u001b[0;34m.\u001b[0m\u001b[0mlosses\u001b[0m\u001b[0;34m.\u001b[0m\u001b[0mangularloss\u001b[0m \u001b[0;32mimport\u001b[0m \u001b[0mAngularSoftmaxLoss\u001b[0m\u001b[0;34m\u001b[0m\u001b[0;34m\u001b[0m\u001b[0m\n\u001b[0;32m---> 16\u001b[0;31m \u001b[0;32mfrom\u001b[0m \u001b[0mnemo\u001b[0m\u001b[0;34m.\u001b[0m\u001b[0mcollections\u001b[0m\u001b[0;34m.\u001b[0m\u001b[0masr\u001b[0m\u001b[0;34m.\u001b[0m\u001b[0mlosses\u001b[0m\u001b[0;34m.\u001b[0m\u001b[0maudio_losses\u001b[0m \u001b[0;32mimport\u001b[0m \u001b[0mSDRLoss\u001b[0m\u001b[0;34m\u001b[0m\u001b[0;34m\u001b[0m\u001b[0m\n\u001b[0m\u001b[1;32m     17\u001b[0m \u001b[0;32mfrom\u001b[0m \u001b[0mnemo\u001b[0m\u001b[0;34m.\u001b[0m\u001b[0mcollections\u001b[0m\u001b[0;34m.\u001b[0m\u001b[0masr\u001b[0m\u001b[0;34m.\u001b[0m\u001b[0mlosses\u001b[0m\u001b[0;34m.\u001b[0m\u001b[0mctc\u001b[0m \u001b[0;32mimport\u001b[0m \u001b[0mCTCLoss\u001b[0m\u001b[0;34m\u001b[0m\u001b[0;34m\u001b[0m\u001b[0m\n\u001b[1;32m     18\u001b[0m \u001b[0;32mfrom\u001b[0m \u001b[0mnemo\u001b[0m\u001b[0;34m.\u001b[0m\u001b[0mcollections\u001b[0m\u001b[0;34m.\u001b[0m\u001b[0masr\u001b[0m\u001b[0;34m.\u001b[0m\u001b[0mlosses\u001b[0m\u001b[0;34m.\u001b[0m\u001b[0mlattice_losses\u001b[0m \u001b[0;32mimport\u001b[0m \u001b[0mLatticeLoss\u001b[0m\u001b[0;34m\u001b[0m\u001b[0;34m\u001b[0m\u001b[0m\n",
      "\u001b[0;32m~/opt/miniconda3/lib/python3.9/site-packages/nemo/collections/asr/losses/audio_losses.py\u001b[0m in \u001b[0;36m<module>\u001b[0;34m\u001b[0m\n\u001b[1;32m     19\u001b[0m \u001b[0;32mimport\u001b[0m \u001b[0mtorch\u001b[0m\u001b[0;34m\u001b[0m\u001b[0;34m\u001b[0m\u001b[0m\n\u001b[1;32m     20\u001b[0m \u001b[0;34m\u001b[0m\u001b[0m\n\u001b[0;32m---> 21\u001b[0;31m \u001b[0;32mfrom\u001b[0m \u001b[0mnemo\u001b[0m\u001b[0;34m.\u001b[0m\u001b[0mcollections\u001b[0m\u001b[0;34m.\u001b[0m\u001b[0masr\u001b[0m\u001b[0;34m.\u001b[0m\u001b[0mparts\u001b[0m\u001b[0;34m.\u001b[0m\u001b[0mpreprocessing\u001b[0m\u001b[0;34m.\u001b[0m\u001b[0mfeatures\u001b[0m \u001b[0;32mimport\u001b[0m \u001b[0mmake_seq_mask_like\u001b[0m\u001b[0;34m\u001b[0m\u001b[0;34m\u001b[0m\u001b[0m\n\u001b[0m\u001b[1;32m     22\u001b[0m \u001b[0;32mfrom\u001b[0m \u001b[0mnemo\u001b[0m\u001b[0;34m.\u001b[0m\u001b[0mcollections\u001b[0m\u001b[0;34m.\u001b[0m\u001b[0masr\u001b[0m\u001b[0;34m.\u001b[0m\u001b[0mparts\u001b[0m\u001b[0;34m.\u001b[0m\u001b[0mutils\u001b[0m\u001b[0;34m.\u001b[0m\u001b[0maudio_utils\u001b[0m \u001b[0;32mimport\u001b[0m \u001b[0mtoeplitz\u001b[0m\u001b[0;34m\u001b[0m\u001b[0;34m\u001b[0m\u001b[0m\n\u001b[1;32m     23\u001b[0m \u001b[0;32mfrom\u001b[0m \u001b[0mnemo\u001b[0m\u001b[0;34m.\u001b[0m\u001b[0mcore\u001b[0m\u001b[0;34m.\u001b[0m\u001b[0mclasses\u001b[0m \u001b[0;32mimport\u001b[0m \u001b[0mLoss\u001b[0m\u001b[0;34m,\u001b[0m \u001b[0mTyping\u001b[0m\u001b[0;34m,\u001b[0m \u001b[0mtypecheck\u001b[0m\u001b[0;34m\u001b[0m\u001b[0;34m\u001b[0m\u001b[0m\n",
      "\u001b[0;32m~/opt/miniconda3/lib/python3.9/site-packages/nemo/collections/asr/parts/preprocessing/__init__.py\u001b[0m in \u001b[0;36m<module>\u001b[0;34m\u001b[0m\n\u001b[1;32m     14\u001b[0m \u001b[0;34m\u001b[0m\u001b[0m\n\u001b[1;32m     15\u001b[0m \u001b[0;32mfrom\u001b[0m \u001b[0mnemo\u001b[0m\u001b[0;34m.\u001b[0m\u001b[0mcollections\u001b[0m\u001b[0;34m.\u001b[0m\u001b[0masr\u001b[0m\u001b[0;34m.\u001b[0m\u001b[0mparts\u001b[0m\u001b[0;34m.\u001b[0m\u001b[0mpreprocessing\u001b[0m\u001b[0;34m.\u001b[0m\u001b[0mfeature_loader\u001b[0m \u001b[0;32mimport\u001b[0m \u001b[0mExternalFeatureLoader\u001b[0m\u001b[0;34m\u001b[0m\u001b[0;34m\u001b[0m\u001b[0m\n\u001b[0;32m---> 16\u001b[0;31m \u001b[0;32mfrom\u001b[0m \u001b[0mnemo\u001b[0m\u001b[0;34m.\u001b[0m\u001b[0mcollections\u001b[0m\u001b[0;34m.\u001b[0m\u001b[0masr\u001b[0m\u001b[0;34m.\u001b[0m\u001b[0mparts\u001b[0m\u001b[0;34m.\u001b[0m\u001b[0mpreprocessing\u001b[0m\u001b[0;34m.\u001b[0m\u001b[0mfeatures\u001b[0m \u001b[0;32mimport\u001b[0m \u001b[0mFeaturizerFactory\u001b[0m\u001b[0;34m,\u001b[0m \u001b[0mFilterbankFeatures\u001b[0m\u001b[0;34m,\u001b[0m \u001b[0mWaveformFeaturizer\u001b[0m\u001b[0;34m\u001b[0m\u001b[0;34m\u001b[0m\u001b[0m\n\u001b[0m\u001b[1;32m     17\u001b[0m from nemo.collections.asr.parts.preprocessing.perturb import (\n\u001b[1;32m     18\u001b[0m     \u001b[0mAudioAugmentor\u001b[0m\u001b[0;34m,\u001b[0m\u001b[0;34m\u001b[0m\u001b[0;34m\u001b[0m\u001b[0m\n",
      "\u001b[0;32m~/opt/miniconda3/lib/python3.9/site-packages/nemo/collections/asr/parts/preprocessing/features.py\u001b[0m in \u001b[0;36m<module>\u001b[0;34m\u001b[0m\n\u001b[1;32m     47\u001b[0m \u001b[0;34m\u001b[0m\u001b[0m\n\u001b[1;32m     48\u001b[0m \u001b[0;32mtry\u001b[0m\u001b[0;34m:\u001b[0m\u001b[0;34m\u001b[0m\u001b[0;34m\u001b[0m\u001b[0m\n\u001b[0;32m---> 49\u001b[0;31m     \u001b[0;32mimport\u001b[0m \u001b[0mtorchaudio\u001b[0m\u001b[0;34m\u001b[0m\u001b[0;34m\u001b[0m\u001b[0m\n\u001b[0m\u001b[1;32m     50\u001b[0m \u001b[0;34m\u001b[0m\u001b[0m\n\u001b[1;32m     51\u001b[0m     \u001b[0mHAVE_TORCHAUDIO\u001b[0m \u001b[0;34m=\u001b[0m \u001b[0;32mTrue\u001b[0m\u001b[0;34m\u001b[0m\u001b[0;34m\u001b[0m\u001b[0m\n",
      "\u001b[0;32m~/opt/miniconda3/lib/python3.9/site-packages/torchaudio/__init__.py\u001b[0m in \u001b[0;36m<module>\u001b[0;34m\u001b[0m\n\u001b[0;32m----> 1\u001b[0;31m from . import (  # noqa: F401\n\u001b[0m\u001b[1;32m      2\u001b[0m     \u001b[0m_extension\u001b[0m\u001b[0;34m,\u001b[0m\u001b[0;34m\u001b[0m\u001b[0;34m\u001b[0m\u001b[0m\n\u001b[1;32m      3\u001b[0m     \u001b[0mcompliance\u001b[0m\u001b[0;34m,\u001b[0m\u001b[0;34m\u001b[0m\u001b[0;34m\u001b[0m\u001b[0m\n\u001b[1;32m      4\u001b[0m     \u001b[0mdatasets\u001b[0m\u001b[0;34m,\u001b[0m\u001b[0;34m\u001b[0m\u001b[0;34m\u001b[0m\u001b[0m\n\u001b[1;32m      5\u001b[0m     \u001b[0mfunctional\u001b[0m\u001b[0;34m,\u001b[0m\u001b[0;34m\u001b[0m\u001b[0;34m\u001b[0m\u001b[0m\n",
      "\u001b[0;32m~/opt/miniconda3/lib/python3.9/site-packages/torchaudio/_extension/__init__.py\u001b[0m in \u001b[0;36m<module>\u001b[0;34m\u001b[0m\n\u001b[1;32m      3\u001b[0m \u001b[0;32mimport\u001b[0m \u001b[0msys\u001b[0m\u001b[0;34m\u001b[0m\u001b[0;34m\u001b[0m\u001b[0m\n\u001b[1;32m      4\u001b[0m \u001b[0;34m\u001b[0m\u001b[0m\n\u001b[0;32m----> 5\u001b[0;31m \u001b[0;32mfrom\u001b[0m \u001b[0mtorchaudio\u001b[0m\u001b[0;34m.\u001b[0m\u001b[0m_internal\u001b[0m\u001b[0;34m.\u001b[0m\u001b[0mmodule_utils\u001b[0m \u001b[0;32mimport\u001b[0m \u001b[0meval_env\u001b[0m\u001b[0;34m,\u001b[0m \u001b[0mfail_with_message\u001b[0m\u001b[0;34m,\u001b[0m \u001b[0mis_module_available\u001b[0m\u001b[0;34m,\u001b[0m \u001b[0mno_op\u001b[0m\u001b[0;34m\u001b[0m\u001b[0;34m\u001b[0m\u001b[0m\n\u001b[0m\u001b[1;32m      6\u001b[0m \u001b[0;34m\u001b[0m\u001b[0m\n\u001b[1;32m      7\u001b[0m \u001b[0;32mtry\u001b[0m\u001b[0;34m:\u001b[0m\u001b[0;34m\u001b[0m\u001b[0;34m\u001b[0m\u001b[0m\n",
      "\u001b[0;31mImportError\u001b[0m: cannot import name 'eval_env' from 'torchaudio._internal.module_utils' (/Users/irisz/opt/miniconda3/lib/python3.9/site-packages/torchaudio/_internal/module_utils.py)"
     ]
    }
   ],
   "source": [
    "## nvdia\n",
    "import nemo.collections.asr as nemo_asr\n",
    "asr_model = nemo_asr.models.EncDecCTCModelBPE.from_pretrained(\"nvidia/stt_hr_conformer_ctc_large\")\n",
    "\n",
    "for i in range(len(audios)):\n",
    "#for i in range(1):\n",
    "    audio_dir = audios[i]\n",
    "    print(audio_dir)\n",
    "    text = asr_model.transcribe([audio_dir])\n",
    "    file_save_name = save_dir + audio_dir.split('/')[-1].split('.')[0] + '_nvdia.txt'\n",
    "    with open(file_save_name, 'w') as f:\n",
    "        print(text, file=f)"
   ]
  },
  {
   "cell_type": "code",
   "execution_count": 11,
   "id": "ac8b0459",
   "metadata": {},
   "outputs": [
    {
     "name": "stderr",
     "output_type": "stream",
     "text": [
      "[NeMo W 2023-10-09 09:08:31 nemo_logging:349] /Users/irisz/opt/miniconda3/lib/python3.9/site-packages/whisper/timing.py:58: NumbaDeprecationWarning: \u001b[1mThe 'nopython' keyword argument was not supplied to the 'numba.jit' decorator. The implicit default value for this argument is currently False, but it will be changed to True in Numba 0.59.0. See https://numba.readthedocs.io/en/stable/reference/deprecation.html#deprecation-of-object-mode-fall-back-behaviour-when-using-jit for details.\u001b[0m\n",
      "      def backtrace(trace: np.ndarray):\n",
      "    \n",
      "[NeMo W 2023-10-09 09:08:33 nemo_logging:349] /Users/irisz/opt/miniconda3/lib/python3.9/site-packages/whisper/transcribe.py:114: UserWarning: FP16 is not supported on CPU; using FP32 instead\n",
      "      warnings.warn(\"FP16 is not supported on CPU; using FP32 instead\")\n",
      "    \n"
     ]
    },
    {
     "name": "stdout",
     "output_type": "stream",
     "text": [
      "/Users/irisz/downloads/2023_ELIC/Croatian/croatian_manual_annotated_1008/ckm004-2022-07-07-Cres_03.wav\n"
     ]
    },
    {
     "name": "stderr",
     "output_type": "stream",
     "text": [
      "[NeMo W 2023-10-09 09:09:41 nemo_logging:349] /Users/irisz/opt/miniconda3/lib/python3.9/site-packages/whisper/transcribe.py:114: UserWarning: FP16 is not supported on CPU; using FP32 instead\n",
      "      warnings.warn(\"FP16 is not supported on CPU; using FP32 instead\")\n",
      "    \n"
     ]
    },
    {
     "name": "stdout",
     "output_type": "stream",
     "text": [
      "/Users/irisz/downloads/2023_ELIC/Croatian/croatian_manual_annotated_1008/ckm004-2022-07-07-Cres_02.wav\n"
     ]
    },
    {
     "name": "stderr",
     "output_type": "stream",
     "text": [
      "[NeMo W 2023-10-09 09:11:07 nemo_logging:349] /Users/irisz/opt/miniconda3/lib/python3.9/site-packages/whisper/transcribe.py:114: UserWarning: FP16 is not supported on CPU; using FP32 instead\n",
      "      warnings.warn(\"FP16 is not supported on CPU; using FP32 instead\")\n",
      "    \n"
     ]
    },
    {
     "name": "stdout",
     "output_type": "stream",
     "text": [
      "/Users/irisz/downloads/2023_ELIC/Croatian/croatian_manual_annotated_1008/ckm002-2022-01-04-Crikvenica_08.wav\n"
     ]
    },
    {
     "name": "stderr",
     "output_type": "stream",
     "text": [
      "[NeMo W 2023-10-09 09:12:00 nemo_logging:349] /Users/irisz/opt/miniconda3/lib/python3.9/site-packages/whisper/transcribe.py:114: UserWarning: FP16 is not supported on CPU; using FP32 instead\n",
      "      warnings.warn(\"FP16 is not supported on CPU; using FP32 instead\")\n",
      "    \n"
     ]
    },
    {
     "name": "stdout",
     "output_type": "stream",
     "text": [
      "/Users/irisz/downloads/2023_ELIC/Croatian/croatian_manual_annotated_1008/ckm004-2022-07-07-Cres_01.wav\n"
     ]
    },
    {
     "name": "stderr",
     "output_type": "stream",
     "text": [
      "[NeMo W 2023-10-09 09:12:45 nemo_logging:349] /Users/irisz/opt/miniconda3/lib/python3.9/site-packages/whisper/transcribe.py:114: UserWarning: FP16 is not supported on CPU; using FP32 instead\n",
      "      warnings.warn(\"FP16 is not supported on CPU; using FP32 instead\")\n",
      "    \n"
     ]
    },
    {
     "name": "stdout",
     "output_type": "stream",
     "text": [
      "/Users/irisz/downloads/2023_ELIC/Croatian/croatian_manual_annotated_1008/ckm004-2022-07-07-Cres_04.wav\n"
     ]
    },
    {
     "name": "stderr",
     "output_type": "stream",
     "text": [
      "[NeMo W 2023-10-09 09:14:16 nemo_logging:349] /Users/irisz/opt/miniconda3/lib/python3.9/site-packages/whisper/transcribe.py:114: UserWarning: FP16 is not supported on CPU; using FP32 instead\n",
      "      warnings.warn(\"FP16 is not supported on CPU; using FP32 instead\")\n",
      "    \n"
     ]
    },
    {
     "name": "stdout",
     "output_type": "stream",
     "text": [
      "/Users/irisz/downloads/2023_ELIC/Croatian/croatian_manual_annotated_1008/ckm005-2022-11-26-Vrbnik_01.wav\n"
     ]
    },
    {
     "name": "stderr",
     "output_type": "stream",
     "text": [
      "[NeMo W 2023-10-09 09:15:59 nemo_logging:349] /Users/irisz/opt/miniconda3/lib/python3.9/site-packages/whisper/transcribe.py:114: UserWarning: FP16 is not supported on CPU; using FP32 instead\n",
      "      warnings.warn(\"FP16 is not supported on CPU; using FP32 instead\")\n",
      "    \n"
     ]
    },
    {
     "name": "stdout",
     "output_type": "stream",
     "text": [
      "/Users/irisz/downloads/2023_ELIC/Croatian/croatian_manual_annotated_1008/ckm005-2022-11-26-Vrbnik_02.wav\n"
     ]
    },
    {
     "name": "stderr",
     "output_type": "stream",
     "text": [
      "[NeMo W 2023-10-09 09:17:36 nemo_logging:349] /Users/irisz/opt/miniconda3/lib/python3.9/site-packages/whisper/transcribe.py:114: UserWarning: FP16 is not supported on CPU; using FP32 instead\n",
      "      warnings.warn(\"FP16 is not supported on CPU; using FP32 instead\")\n",
      "    \n"
     ]
    },
    {
     "name": "stdout",
     "output_type": "stream",
     "text": [
      "/Users/irisz/downloads/2023_ELIC/Croatian/croatian_manual_annotated_1008/ckm005-2022-11-26-Vrbnik_03.wav\n"
     ]
    },
    {
     "name": "stderr",
     "output_type": "stream",
     "text": [
      "[NeMo W 2023-10-09 09:19:00 nemo_logging:349] /Users/irisz/opt/miniconda3/lib/python3.9/site-packages/whisper/transcribe.py:114: UserWarning: FP16 is not supported on CPU; using FP32 instead\n",
      "      warnings.warn(\"FP16 is not supported on CPU; using FP32 instead\")\n",
      "    \n"
     ]
    },
    {
     "name": "stdout",
     "output_type": "stream",
     "text": [
      "/Users/irisz/downloads/2023_ELIC/Croatian/croatian_manual_annotated_1008/ckm005-2022-11-26-Vrbnik_06.wav\n"
     ]
    },
    {
     "name": "stderr",
     "output_type": "stream",
     "text": [
      "[NeMo W 2023-10-09 09:20:37 nemo_logging:349] /Users/irisz/opt/miniconda3/lib/python3.9/site-packages/whisper/transcribe.py:114: UserWarning: FP16 is not supported on CPU; using FP32 instead\n",
      "      warnings.warn(\"FP16 is not supported on CPU; using FP32 instead\")\n",
      "    \n"
     ]
    },
    {
     "name": "stdout",
     "output_type": "stream",
     "text": [
      "/Users/irisz/downloads/2023_ELIC/Croatian/croatian_manual_annotated_1008/ckm005-2022-11-26-Vrbnik_04.wav\n"
     ]
    },
    {
     "name": "stderr",
     "output_type": "stream",
     "text": [
      "[NeMo W 2023-10-09 09:22:11 nemo_logging:349] /Users/irisz/opt/miniconda3/lib/python3.9/site-packages/whisper/transcribe.py:114: UserWarning: FP16 is not supported on CPU; using FP32 instead\n",
      "      warnings.warn(\"FP16 is not supported on CPU; using FP32 instead\")\n",
      "    \n"
     ]
    },
    {
     "name": "stdout",
     "output_type": "stream",
     "text": [
      "/Users/irisz/downloads/2023_ELIC/Croatian/croatian_manual_annotated_1008/ckm005-2022-11-26-Vrbnik_05.wav\n"
     ]
    },
    {
     "name": "stderr",
     "output_type": "stream",
     "text": [
      "[NeMo W 2023-10-09 09:23:33 nemo_logging:349] /Users/irisz/opt/miniconda3/lib/python3.9/site-packages/whisper/transcribe.py:114: UserWarning: FP16 is not supported on CPU; using FP32 instead\n",
      "      warnings.warn(\"FP16 is not supported on CPU; using FP32 instead\")\n",
      "    \n"
     ]
    },
    {
     "name": "stdout",
     "output_type": "stream",
     "text": [
      "/Users/irisz/downloads/2023_ELIC/Croatian/croatian_manual_annotated_1008/ckm001-2022-01-16-Trviž_04.wav\n"
     ]
    },
    {
     "name": "stderr",
     "output_type": "stream",
     "text": [
      "[NeMo W 2023-10-09 09:24:26 nemo_logging:349] /Users/irisz/opt/miniconda3/lib/python3.9/site-packages/whisper/transcribe.py:114: UserWarning: FP16 is not supported on CPU; using FP32 instead\n",
      "      warnings.warn(\"FP16 is not supported on CPU; using FP32 instead\")\n",
      "    \n"
     ]
    },
    {
     "name": "stdout",
     "output_type": "stream",
     "text": [
      "/Users/irisz/downloads/2023_ELIC/Croatian/croatian_manual_annotated_1008/ckm006-2023-05-28-Kostrena_06.wav\n"
     ]
    },
    {
     "name": "stderr",
     "output_type": "stream",
     "text": [
      "[NeMo W 2023-10-09 09:26:03 nemo_logging:349] /Users/irisz/opt/miniconda3/lib/python3.9/site-packages/whisper/transcribe.py:114: UserWarning: FP16 is not supported on CPU; using FP32 instead\n",
      "      warnings.warn(\"FP16 is not supported on CPU; using FP32 instead\")\n",
      "    \n"
     ]
    },
    {
     "name": "stdout",
     "output_type": "stream",
     "text": [
      "/Users/irisz/downloads/2023_ELIC/Croatian/croatian_manual_annotated_1008/ckm002-2022-01-04-Crikvenica_03.wav\n"
     ]
    },
    {
     "name": "stderr",
     "output_type": "stream",
     "text": [
      "[NeMo W 2023-10-09 09:27:26 nemo_logging:349] /Users/irisz/opt/miniconda3/lib/python3.9/site-packages/whisper/transcribe.py:114: UserWarning: FP16 is not supported on CPU; using FP32 instead\n",
      "      warnings.warn(\"FP16 is not supported on CPU; using FP32 instead\")\n",
      "    \n"
     ]
    },
    {
     "name": "stdout",
     "output_type": "stream",
     "text": [
      "/Users/irisz/downloads/2023_ELIC/Croatian/croatian_manual_annotated_1008/ckm002-2022-01-04-Crikvenica_02.wav\n"
     ]
    },
    {
     "name": "stderr",
     "output_type": "stream",
     "text": [
      "[NeMo W 2023-10-09 09:28:42 nemo_logging:349] /Users/irisz/opt/miniconda3/lib/python3.9/site-packages/whisper/transcribe.py:114: UserWarning: FP16 is not supported on CPU; using FP32 instead\n",
      "      warnings.warn(\"FP16 is not supported on CPU; using FP32 instead\")\n",
      "    \n"
     ]
    },
    {
     "name": "stdout",
     "output_type": "stream",
     "text": [
      "/Users/irisz/downloads/2023_ELIC/Croatian/croatian_manual_annotated_1008/ckm006-2023-05-28-Kostrena_07.wav\n"
     ]
    },
    {
     "name": "stderr",
     "output_type": "stream",
     "text": [
      "[NeMo W 2023-10-09 09:30:22 nemo_logging:349] /Users/irisz/opt/miniconda3/lib/python3.9/site-packages/whisper/transcribe.py:114: UserWarning: FP16 is not supported on CPU; using FP32 instead\n",
      "      warnings.warn(\"FP16 is not supported on CPU; using FP32 instead\")\n",
      "    \n"
     ]
    },
    {
     "name": "stdout",
     "output_type": "stream",
     "text": [
      "/Users/irisz/downloads/2023_ELIC/Croatian/croatian_manual_annotated_1008/ckm001-2022-01-16-Trviž_05.wav\n"
     ]
    },
    {
     "name": "stderr",
     "output_type": "stream",
     "text": [
      "[NeMo W 2023-10-09 09:31:19 nemo_logging:349] /Users/irisz/opt/miniconda3/lib/python3.9/site-packages/whisper/transcribe.py:114: UserWarning: FP16 is not supported on CPU; using FP32 instead\n",
      "      warnings.warn(\"FP16 is not supported on CPU; using FP32 instead\")\n",
      "    \n"
     ]
    },
    {
     "name": "stdout",
     "output_type": "stream",
     "text": [
      "/Users/irisz/downloads/2023_ELIC/Croatian/croatian_manual_annotated_1008/ckm006-2023-05-28-Kostrena_05.wav\n"
     ]
    },
    {
     "name": "stderr",
     "output_type": "stream",
     "text": [
      "[NeMo W 2023-10-09 09:33:01 nemo_logging:349] /Users/irisz/opt/miniconda3/lib/python3.9/site-packages/whisper/transcribe.py:114: UserWarning: FP16 is not supported on CPU; using FP32 instead\n",
      "      warnings.warn(\"FP16 is not supported on CPU; using FP32 instead\")\n",
      "    \n"
     ]
    },
    {
     "name": "stdout",
     "output_type": "stream",
     "text": [
      "/Users/irisz/downloads/2023_ELIC/Croatian/croatian_manual_annotated_1008/ckm002-2022-01-04-Crikvenica_01.wav\n"
     ]
    },
    {
     "name": "stderr",
     "output_type": "stream",
     "text": [
      "[NeMo W 2023-10-09 09:34:19 nemo_logging:349] /Users/irisz/opt/miniconda3/lib/python3.9/site-packages/whisper/transcribe.py:114: UserWarning: FP16 is not supported on CPU; using FP32 instead\n",
      "      warnings.warn(\"FP16 is not supported on CPU; using FP32 instead\")\n",
      "    \n"
     ]
    },
    {
     "name": "stdout",
     "output_type": "stream",
     "text": [
      "/Users/irisz/downloads/2023_ELIC/Croatian/croatian_manual_annotated_1008/ckm006-2023-05-28-Kostrena_04.wav\n"
     ]
    },
    {
     "name": "stderr",
     "output_type": "stream",
     "text": [
      "[NeMo W 2023-10-09 09:36:01 nemo_logging:349] /Users/irisz/opt/miniconda3/lib/python3.9/site-packages/whisper/transcribe.py:114: UserWarning: FP16 is not supported on CPU; using FP32 instead\n",
      "      warnings.warn(\"FP16 is not supported on CPU; using FP32 instead\")\n",
      "    \n"
     ]
    },
    {
     "name": "stdout",
     "output_type": "stream",
     "text": [
      "/Users/irisz/downloads/2023_ELIC/Croatian/croatian_manual_annotated_1008/ckm001-2022-01-16-Trviž_02.wav\n"
     ]
    },
    {
     "name": "stderr",
     "output_type": "stream",
     "text": [
      "[NeMo W 2023-10-09 09:36:57 nemo_logging:349] /Users/irisz/opt/miniconda3/lib/python3.9/site-packages/whisper/transcribe.py:114: UserWarning: FP16 is not supported on CPU; using FP32 instead\n",
      "      warnings.warn(\"FP16 is not supported on CPU; using FP32 instead\")\n",
      "    \n"
     ]
    },
    {
     "name": "stdout",
     "output_type": "stream",
     "text": [
      "/Users/irisz/downloads/2023_ELIC/Croatian/croatian_manual_annotated_1008/ckm002-2022-01-04-Crikvenica_05.wav\n"
     ]
    },
    {
     "name": "stderr",
     "output_type": "stream",
     "text": [
      "[NeMo W 2023-10-09 09:38:15 nemo_logging:349] /Users/irisz/opt/miniconda3/lib/python3.9/site-packages/whisper/transcribe.py:114: UserWarning: FP16 is not supported on CPU; using FP32 instead\n",
      "      warnings.warn(\"FP16 is not supported on CPU; using FP32 instead\")\n",
      "    \n"
     ]
    },
    {
     "name": "stdout",
     "output_type": "stream",
     "text": [
      "/Users/irisz/downloads/2023_ELIC/Croatian/croatian_manual_annotated_1008/ckm006-2023-05-28-Kostrena_01.wav\n"
     ]
    },
    {
     "name": "stderr",
     "output_type": "stream",
     "text": [
      "[NeMo W 2023-10-09 09:39:40 nemo_logging:349] /Users/irisz/opt/miniconda3/lib/python3.9/site-packages/whisper/transcribe.py:114: UserWarning: FP16 is not supported on CPU; using FP32 instead\n",
      "      warnings.warn(\"FP16 is not supported on CPU; using FP32 instead\")\n",
      "    \n"
     ]
    },
    {
     "name": "stdout",
     "output_type": "stream",
     "text": [
      "/Users/irisz/downloads/2023_ELIC/Croatian/croatian_manual_annotated_1008/ckm002-2022-01-04-Crikvenica_04.wav\n"
     ]
    },
    {
     "name": "stderr",
     "output_type": "stream",
     "text": [
      "[NeMo W 2023-10-09 09:40:59 nemo_logging:349] /Users/irisz/opt/miniconda3/lib/python3.9/site-packages/whisper/transcribe.py:114: UserWarning: FP16 is not supported on CPU; using FP32 instead\n",
      "      warnings.warn(\"FP16 is not supported on CPU; using FP32 instead\")\n",
      "    \n"
     ]
    },
    {
     "name": "stdout",
     "output_type": "stream",
     "text": [
      "/Users/irisz/downloads/2023_ELIC/Croatian/croatian_manual_annotated_1008/ckm001-2022-01-16-Trviž_03.wav\n"
     ]
    },
    {
     "name": "stderr",
     "output_type": "stream",
     "text": [
      "[NeMo W 2023-10-09 09:41:58 nemo_logging:349] /Users/irisz/opt/miniconda3/lib/python3.9/site-packages/whisper/transcribe.py:114: UserWarning: FP16 is not supported on CPU; using FP32 instead\n",
      "      warnings.warn(\"FP16 is not supported on CPU; using FP32 instead\")\n",
      "    \n"
     ]
    },
    {
     "name": "stdout",
     "output_type": "stream",
     "text": [
      "/Users/irisz/downloads/2023_ELIC/Croatian/croatian_manual_annotated_1008/ckm001-2022-01-16-Trviž_01.wav\n"
     ]
    },
    {
     "name": "stderr",
     "output_type": "stream",
     "text": [
      "[NeMo W 2023-10-09 09:42:25 nemo_logging:349] /Users/irisz/opt/miniconda3/lib/python3.9/site-packages/whisper/transcribe.py:114: UserWarning: FP16 is not supported on CPU; using FP32 instead\n",
      "      warnings.warn(\"FP16 is not supported on CPU; using FP32 instead\")\n",
      "    \n"
     ]
    },
    {
     "name": "stdout",
     "output_type": "stream",
     "text": [
      "/Users/irisz/downloads/2023_ELIC/Croatian/croatian_manual_annotated_1008/ckm002-2022-01-04-Crikvenica_06.wav\n"
     ]
    },
    {
     "name": "stderr",
     "output_type": "stream",
     "text": [
      "[NeMo W 2023-10-09 09:43:48 nemo_logging:349] /Users/irisz/opt/miniconda3/lib/python3.9/site-packages/whisper/transcribe.py:114: UserWarning: FP16 is not supported on CPU; using FP32 instead\n",
      "      warnings.warn(\"FP16 is not supported on CPU; using FP32 instead\")\n",
      "    \n"
     ]
    },
    {
     "name": "stdout",
     "output_type": "stream",
     "text": [
      "/Users/irisz/downloads/2023_ELIC/Croatian/croatian_manual_annotated_1008/ckm006-2023-05-28-Kostrena_03.wav\n"
     ]
    },
    {
     "name": "stderr",
     "output_type": "stream",
     "text": [
      "[NeMo W 2023-10-09 09:45:22 nemo_logging:349] /Users/irisz/opt/miniconda3/lib/python3.9/site-packages/whisper/transcribe.py:114: UserWarning: FP16 is not supported on CPU; using FP32 instead\n",
      "      warnings.warn(\"FP16 is not supported on CPU; using FP32 instead\")\n",
      "    \n"
     ]
    },
    {
     "name": "stdout",
     "output_type": "stream",
     "text": [
      "/Users/irisz/downloads/2023_ELIC/Croatian/croatian_manual_annotated_1008/ckm006-2023-05-28-Kostrena_02.wav\n"
     ]
    },
    {
     "name": "stderr",
     "output_type": "stream",
     "text": [
      "[NeMo W 2023-10-09 09:46:57 nemo_logging:349] /Users/irisz/opt/miniconda3/lib/python3.9/site-packages/whisper/transcribe.py:114: UserWarning: FP16 is not supported on CPU; using FP32 instead\n",
      "      warnings.warn(\"FP16 is not supported on CPU; using FP32 instead\")\n",
      "    \n"
     ]
    },
    {
     "name": "stdout",
     "output_type": "stream",
     "text": [
      "/Users/irisz/downloads/2023_ELIC/Croatian/croatian_manual_annotated_1008/ckm002-2022-01-04-Crikvenica_07.wav\n"
     ]
    }
   ],
   "source": [
    "## whisper\n",
    "\n",
    "import whisper\n",
    "model = whisper.load_model(\"base\")\n",
    "\n",
    "for i in range(len(audios)):\n",
    "#for i in range(1):\n",
    "    audio_dir = audios[i]\n",
    "    print(audio_dir)\n",
    "    result = model.transcribe(audio_dir, language = \"Croatian\")\n",
    "    text = result[\"text\"]\n",
    "    file_save_name = save_dir + audio_dir.split('/')[-1].split('.')[0] + '_whisper.txt'\n",
    "    with open(file_save_name, 'w') as f:\n",
    "        print(text, file=f)"
   ]
  },
  {
   "cell_type": "code",
   "execution_count": null,
   "id": "a0d6e14a",
   "metadata": {},
   "outputs": [],
   "source": []
  }
 ],
 "metadata": {
  "kernelspec": {
   "display_name": "Python 3",
   "language": "python",
   "name": "python3"
  },
  "language_info": {
   "codemirror_mode": {
    "name": "ipython",
    "version": 3
   },
   "file_extension": ".py",
   "mimetype": "text/x-python",
   "name": "python",
   "nbconvert_exporter": "python",
   "pygments_lexer": "ipython3",
   "version": "3.9.5"
  }
 },
 "nbformat": 4,
 "nbformat_minor": 5
}
