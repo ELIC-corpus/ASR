{
 "cells": [
  {
   "cell_type": "code",
   "execution_count": 1,
   "id": "24ab4a9d",
   "metadata": {},
   "outputs": [],
   "source": [
    "## get time info dataframe from textgrid\n",
    "import re\n",
    "import pandas as pd\n",
    "import numpy as np\n",
    "from transformers import Wav2Vec2Processor, Wav2Vec2ForCTC\n",
    "import torch\n",
    "\n",
    "\n",
    "def get_audio_df(textgrid_dir):\n",
    "    \n",
    "    with open(textgrid_dir, 'r') as file:\n",
    "        lines = [line.rstrip() for line in file]\n",
    "       \n",
    "    text_list = []\n",
    "    xmin_list = []\n",
    "    xmax_list = []\n",
    "    interval_list = []\n",
    "    for line in lines[14:]:  #informations needed begin on the 9th lines\n",
    "        if 'text =' in line:\n",
    "            line = line.split('\"')[1]\n",
    "            if line != \"\":\n",
    "                text_list.append(line)\n",
    "                #print (len(text_list), len(xmin_list), len(xmax_list), len(interval_list), line, interval_list[-2:])\n",
    "            else:\n",
    "                xmin_list = xmin_list[:-1]\n",
    "                xmax_list = xmax_list[:-1]\n",
    "                interval_list = interval_list[:-1]\n",
    "        if 'xmin' in line:\n",
    "            time_min = line.split('=')[1].strip(' ')\n",
    "            xmin_list.append(time_min)\n",
    "        if 'xmax' in line:\n",
    "            time_max = line.split('=')[1].strip(' ')\n",
    "            xmax_list.append(time_max)\n",
    "        if 'intervals [' in line:\n",
    "            interval = line.split('[')[1].strip(']:')\n",
    "            interval_list.append(interval)\n",
    "        if 'intervals: size' in line:\n",
    "            xmin_list = xmin_list[:-1]\n",
    "            xmax_list = xmax_list[:-1]\n",
    "    xmin_list = [float(item) for item in xmin_list]\n",
    "    xmax_list = [float(item) for item in xmax_list]\n",
    "    interval_list = [int(item) for item in interval_list]\n",
    "\n",
    "    df = pd.DataFrame()\n",
    "    df['text'] = text_list\n",
    "    df['xmin'] = xmin_list\n",
    "    df['xmax'] = xmax_list\n",
    "    df['interval'] = interval_list\n",
    "    df['tier'] = get_interval(df['interval'].tolist())\n",
    "    df['start'] = df['xmin'].apply(lambda x: int(np.floor(x*16000)))\n",
    "    df['end'] = df['xmax'].apply(lambda x: int(np.ceil(x*16000)))\n",
    "    return df\n",
    "\n",
    "def get_interval(time_list):\n",
    "    interval_all = []\n",
    "    interval_curr = 1\n",
    "    for i in range(len(time_list)):\n",
    "        if i == 0:\n",
    "            interval_all.append(1)\n",
    "        else:\n",
    "            if time_list[i] > time_list[i - 1]:\n",
    "                interval_all.append(interval_curr)\n",
    "                continue\n",
    "            else:\n",
    "                interval_curr = interval_curr + 1\n",
    "                interval_all.append(interval_curr)\n",
    "    return interval_all\n",
    "\n"
   ]
  },
  {
   "cell_type": "code",
   "execution_count": 3,
   "id": "078ae0e5",
   "metadata": {},
   "outputs": [],
   "source": [
    "textgrid_dir = '/Users/irisz/downloads/2023_ELIC/Croatian_annotated/ckm001-2022-01-16-Trviž/ckm001-Trviž test data for speech to text/ckm001-2022-01-16-Trviž_01.TextGrid'\n",
    "\n",
    "df = get_audio_df(textgrid_dir)"
   ]
  },
  {
   "cell_type": "code",
   "execution_count": 4,
   "id": "aa303b6f",
   "metadata": {},
   "outputs": [
    {
     "data": {
      "text/html": [
       "<div>\n",
       "<style scoped>\n",
       "    .dataframe tbody tr th:only-of-type {\n",
       "        vertical-align: middle;\n",
       "    }\n",
       "\n",
       "    .dataframe tbody tr th {\n",
       "        vertical-align: top;\n",
       "    }\n",
       "\n",
       "    .dataframe thead th {\n",
       "        text-align: right;\n",
       "    }\n",
       "</style>\n",
       "<table border=\"1\" class=\"dataframe\">\n",
       "  <thead>\n",
       "    <tr style=\"text-align: right;\">\n",
       "      <th></th>\n",
       "      <th>text</th>\n",
       "      <th>xmin</th>\n",
       "      <th>xmax</th>\n",
       "      <th>interval</th>\n",
       "      <th>tier</th>\n",
       "      <th>start</th>\n",
       "      <th>end</th>\n",
       "    </tr>\n",
       "  </thead>\n",
       "  <tbody>\n",
       "    <tr>\n",
       "      <th>0</th>\n",
       "      <td>Dobro.</td>\n",
       "      <td>0.155012</td>\n",
       "      <td>0.456584</td>\n",
       "      <td>2</td>\n",
       "      <td>1</td>\n",
       "      <td>2480</td>\n",
       "      <td>7306</td>\n",
       "    </tr>\n",
       "    <tr>\n",
       "      <th>1</th>\n",
       "      <td>((noise, smack))</td>\n",
       "      <td>0.456584</td>\n",
       "      <td>1.659126</td>\n",
       "      <td>3</td>\n",
       "      <td>1</td>\n",
       "      <td>7305</td>\n",
       "      <td>26547</td>\n",
       "    </tr>\n",
       "    <tr>\n",
       "      <th>2</th>\n",
       "      <td>Onda moremo eh započet.</td>\n",
       "      <td>1.659126</td>\n",
       "      <td>4.068000</td>\n",
       "      <td>4</td>\n",
       "      <td>1</td>\n",
       "      <td>26546</td>\n",
       "      <td>65089</td>\n",
       "    </tr>\n",
       "    <tr>\n",
       "      <th>3</th>\n",
       "      <td>((paper rustling))</td>\n",
       "      <td>4.068000</td>\n",
       "      <td>6.757714</td>\n",
       "      <td>5</td>\n",
       "      <td>1</td>\n",
       "      <td>65088</td>\n",
       "      <td>108124</td>\n",
       "    </tr>\n",
       "    <tr>\n",
       "      <th>4</th>\n",
       "      <td>S obziron da san i ja govornik</td>\n",
       "      <td>6.757714</td>\n",
       "      <td>8.268000</td>\n",
       "      <td>6</td>\n",
       "      <td>1</td>\n",
       "      <td>108123</td>\n",
       "      <td>132288</td>\n",
       "    </tr>\n",
       "    <tr>\n",
       "      <th>...</th>\n",
       "      <td>...</td>\n",
       "      <td>...</td>\n",
       "      <td>...</td>\n",
       "      <td>...</td>\n",
       "      <td>...</td>\n",
       "      <td>...</td>\n",
       "      <td>...</td>\n",
       "    </tr>\n",
       "    <tr>\n",
       "      <th>489</th>\n",
       "      <td>je</td>\n",
       "      <td>173.966988</td>\n",
       "      <td>174.032100</td>\n",
       "      <td>414</td>\n",
       "      <td>4</td>\n",
       "      <td>2783471</td>\n",
       "      <td>2784514</td>\n",
       "    </tr>\n",
       "    <tr>\n",
       "      <th>490</th>\n",
       "      <td>to</td>\n",
       "      <td>174.032100</td>\n",
       "      <td>174.202306</td>\n",
       "      <td>415</td>\n",
       "      <td>4</td>\n",
       "      <td>2784513</td>\n",
       "      <td>2787237</td>\n",
       "    </tr>\n",
       "    <tr>\n",
       "      <th>491</th>\n",
       "      <td>ča</td>\n",
       "      <td>174.358361</td>\n",
       "      <td>174.650000</td>\n",
       "      <td>417</td>\n",
       "      <td>4</td>\n",
       "      <td>2789733</td>\n",
       "      <td>2794400</td>\n",
       "    </tr>\n",
       "    <tr>\n",
       "      <th>492</th>\n",
       "      <td>se</td>\n",
       "      <td>174.650000</td>\n",
       "      <td>174.793584</td>\n",
       "      <td>418</td>\n",
       "      <td>4</td>\n",
       "      <td>2794400</td>\n",
       "      <td>2796698</td>\n",
       "    </tr>\n",
       "    <tr>\n",
       "      <th>493</th>\n",
       "      <td>ti</td>\n",
       "      <td>174.793584</td>\n",
       "      <td>174.960000</td>\n",
       "      <td>419</td>\n",
       "      <td>4</td>\n",
       "      <td>2796697</td>\n",
       "      <td>2799360</td>\n",
       "    </tr>\n",
       "  </tbody>\n",
       "</table>\n",
       "<p>494 rows × 7 columns</p>\n",
       "</div>"
      ],
      "text/plain": [
       "                               text        xmin        xmax  interval  tier  \\\n",
       "0                            Dobro.    0.155012    0.456584         2     1   \n",
       "1                  ((noise, smack))    0.456584    1.659126         3     1   \n",
       "2           Onda moremo eh započet.    1.659126    4.068000         4     1   \n",
       "3                ((paper rustling))    4.068000    6.757714         5     1   \n",
       "4    S obziron da san i ja govornik    6.757714    8.268000         6     1   \n",
       "..                              ...         ...         ...       ...   ...   \n",
       "489                              je  173.966988  174.032100       414     4   \n",
       "490                              to  174.032100  174.202306       415     4   \n",
       "491                              ča  174.358361  174.650000       417     4   \n",
       "492                              se  174.650000  174.793584       418     4   \n",
       "493                              ti  174.793584  174.960000       419     4   \n",
       "\n",
       "       start      end  \n",
       "0       2480     7306  \n",
       "1       7305    26547  \n",
       "2      26546    65089  \n",
       "3      65088   108124  \n",
       "4     108123   132288  \n",
       "..       ...      ...  \n",
       "489  2783471  2784514  \n",
       "490  2784513  2787237  \n",
       "491  2789733  2794400  \n",
       "492  2794400  2796698  \n",
       "493  2796697  2799360  \n",
       "\n",
       "[494 rows x 7 columns]"
      ]
     },
     "execution_count": 4,
     "metadata": {},
     "output_type": "execute_result"
    }
   ],
   "source": [
    "df"
   ]
  },
  {
   "cell_type": "code",
   "execution_count": 3,
   "id": "772bf2b6",
   "metadata": {},
   "outputs": [
    {
     "name": "stderr",
     "output_type": "stream",
     "text": [
      "Special tokens have been added in the vocabulary, make sure the associated word embeddings are fine-tuned or trained.\n"
     ]
    }
   ],
   "source": [
    "## classla\n",
    "import librosa\n",
    "device = torch.device(\"cuda:0\" if torch.cuda.is_available() else \"cpu\")\n",
    "processor = Wav2Vec2Processor.from_pretrained(\"classla/wav2vec2-xls-r-parlaspeech-hr\")\n",
    "model = Wav2Vec2ForCTC.from_pretrained(\"classla/wav2vec2-xls-r-parlaspeech-hr\")\n",
    "\n",
    "# resample audio\n",
    "audio_dir = '/Users/irisz/downloads/2023_ELIC/ckm001-2022-01-16-Trviž_01.wav'\n",
    "speech, sample_rate = librosa.load(audio_dir, sr=16000)\n",
    "def get_classla_text(speech_curr, processor, model):\n",
    "    input_values = processor(speech_curr, sampling_rate=16000, return_tensors=\"pt\").input_values.to(device)\n",
    "    logits = model.to(device)(input_values).logits\n",
    "    predicted_ids = torch.argmax(logits, dim=-1)\n",
    "    transcription = processor.decode(predicted_ids[0]).lower()\n",
    "    return transcription"
   ]
  },
  {
   "cell_type": "code",
   "execution_count": 7,
   "id": "a748c1e4",
   "metadata": {},
   "outputs": [],
   "source": [
    "df['classla'] = df.apply(lambda x: get_classla_text(speech[x.start:x.end], processor, model), axis =1)"
   ]
  },
  {
   "cell_type": "code",
   "execution_count": 9,
   "id": "3d23323e",
   "metadata": {},
   "outputs": [],
   "source": [
    "# classla_large\n",
    "processor = Wav2Vec2Processor.from_pretrained(\"classla/wav2vec2-large-slavic-parlaspeech-hr\")\n",
    "model = Wav2Vec2ForCTC.from_pretrained(\"classla/wav2vec2-large-slavic-parlaspeech-hr\")\n",
    "df['classla_lg'] = df.apply(lambda x: get_classla_text(speech[x.start:x.end], processor, model), axis =1)"
   ]
  },
  {
   "cell_type": "code",
   "execution_count": 12,
   "id": "b9a38978",
   "metadata": {},
   "outputs": [
    {
     "name": "stdout",
     "output_type": "stream",
     "text": [
      "[NeMo I 2023-10-02 12:55:08 mixins:170] Tokenizer SentencePieceTokenizer initialized with 128 tokens\n"
     ]
    },
    {
     "name": "stderr",
     "output_type": "stream",
     "text": [
      "[NeMo W 2023-10-02 12:55:08 modelPT:161] If you intend to do training or fine-tuning, please call the ModelPT.setup_training_data() method and provide a valid configuration file to setup the train data loader.\n",
      "    Train config : \n",
      "    manifest_filepath: null\n",
      "    sample_rate: 16000\n",
      "    batch_size: 16\n",
      "    shuffle: true\n",
      "    num_workers: 8\n",
      "    pin_memory: true\n",
      "    use_start_end_token: ''\n",
      "    trim_silence: false\n",
      "    max_duration: 20.0\n",
      "    min_duration: 0.1\n",
      "    is_tarred: false\n",
      "    tarred_audio_filepaths: null\n",
      "    shuffle_n: 2048\n",
      "    bucketing_strategy: synced_randomized\n",
      "    bucketing_batch_size: null\n",
      "    \n",
      "[NeMo W 2023-10-02 12:55:08 modelPT:168] If you intend to do validation, please call the ModelPT.setup_validation_data() or ModelPT.setup_multiple_validation_data() method and provide a valid configuration file to setup the validation data loader(s). \n",
      "    Validation config : \n",
      "    manifest_filepath: null\n",
      "    sample_rate: 16000\n",
      "    batch_size: 16\n",
      "    shuffle: false\n",
      "    num_workers: 8\n",
      "    pin_memory: true\n",
      "    use_start_end_token: ''\n",
      "    \n",
      "[NeMo W 2023-10-02 12:55:08 modelPT:174] Please call the ModelPT.setup_test_data() or ModelPT.setup_multiple_test_data() method and provide a valid configuration file to setup the test data loader(s).\n",
      "    Test config : \n",
      "    manifest_filepath: null\n",
      "    sample_rate: 16000\n",
      "    batch_size: 16\n",
      "    shuffle: false\n",
      "    num_workers: 8\n",
      "    pin_memory: true\n",
      "    use_start_end_token: ''\n",
      "    \n"
     ]
    },
    {
     "name": "stdout",
     "output_type": "stream",
     "text": [
      "[NeMo I 2023-10-02 12:55:08 features:289] PADDING: 0\n",
      "[NeMo I 2023-10-02 12:55:11 save_restore_connector:249] Model EncDecCTCModelBPE was successfully restored from /Users/irisz/.cache/huggingface/hub/models--nvidia--stt_hr_conformer_ctc_large/snapshots/1cd2542c83a8ef5b172f2edb1d6132fab5b559e7/stt_hr_conformer_ctc_large.nemo.\n"
     ]
    }
   ],
   "source": [
    "## nvdia\n",
    "import nemo.collections.asr as nemo_asr\n",
    "from pydub import AudioSegment\n",
    "\n",
    "asr_model = nemo_asr.models.EncDecCTCModelBPE.from_pretrained(\"nvidia/stt_hr_conformer_ctc_large\")\n",
    "\n",
    "def get_nvdia_text(t1, t2, audio_dir):\n",
    "    t1 = t1 * 1000 #Works in milliseconds\n",
    "    t2 = t2 * 1000\n",
    "    newAudio = AudioSegment.from_wav(audio_dir)\n",
    "    newAudio = newAudio[t1:t2]\n",
    "    newAudio.export('/Users/irisz/downloads/2023_ELIC/slice.wav', format=\"wav\")\n",
    "    text = asr_model.transcribe(['/Users/irisz/downloads/2023_ELIC/slice.wav'])\n",
    "    return text"
   ]
  },
  {
   "cell_type": "code",
   "execution_count": 13,
   "id": "7dc86aae",
   "metadata": {},
   "outputs": [
    {
     "data": {
      "application/vnd.jupyter.widget-view+json": {
       "model_id": "dd09d35708a74522b3e61976d4172956",
       "version_major": 2,
       "version_minor": 0
      },
      "text/plain": [
       "Transcribing:   0%|          | 0/1 [00:00<?, ?it/s]"
      ]
     },
     "metadata": {},
     "output_type": "display_data"
    },
    {
     "data": {
      "application/vnd.jupyter.widget-view+json": {
       "model_id": "4facdd35b8b7436c9dab83a0cd465fa2",
       "version_major": 2,
       "version_minor": 0
      },
      "text/plain": [
       "Transcribing:   0%|          | 0/1 [00:00<?, ?it/s]"
      ]
     },
     "metadata": {},
     "output_type": "display_data"
    },
    {
     "data": {
      "application/vnd.jupyter.widget-view+json": {
       "model_id": "f72be2a28e9940b6b9a81bff3de91375",
       "version_major": 2,
       "version_minor": 0
      },
      "text/plain": [
       "Transcribing:   0%|          | 0/1 [00:00<?, ?it/s]"
      ]
     },
     "metadata": {},
     "output_type": "display_data"
    },
    {
     "data": {
      "application/vnd.jupyter.widget-view+json": {
       "model_id": "beb6795ab4e04d2f8db646347c13c44e",
       "version_major": 2,
       "version_minor": 0
      },
      "text/plain": [
       "Transcribing:   0%|          | 0/1 [00:00<?, ?it/s]"
      ]
     },
     "metadata": {},
     "output_type": "display_data"
    },
    {
     "data": {
      "application/vnd.jupyter.widget-view+json": {
       "model_id": "2825bcfc59ee40e6ba4526c2d77d7a6c",
       "version_major": 2,
       "version_minor": 0
      },
      "text/plain": [
       "Transcribing:   0%|          | 0/1 [00:00<?, ?it/s]"
      ]
     },
     "metadata": {},
     "output_type": "display_data"
    },
    {
     "data": {
      "application/vnd.jupyter.widget-view+json": {
       "model_id": "7b146d8d59894a5aaa0d138ab5e5f71d",
       "version_major": 2,
       "version_minor": 0
      },
      "text/plain": [
       "Transcribing:   0%|          | 0/1 [00:00<?, ?it/s]"
      ]
     },
     "metadata": {},
     "output_type": "display_data"
    },
    {
     "data": {
      "application/vnd.jupyter.widget-view+json": {
       "model_id": "b096cf4f35ae4bc98cde4d6d90b2b0c2",
       "version_major": 2,
       "version_minor": 0
      },
      "text/plain": [
       "Transcribing:   0%|          | 0/1 [00:00<?, ?it/s]"
      ]
     },
     "metadata": {},
     "output_type": "display_data"
    },
    {
     "data": {
      "application/vnd.jupyter.widget-view+json": {
       "model_id": "4eb5516348894448bfa1e4ec19df02a6",
       "version_major": 2,
       "version_minor": 0
      },
      "text/plain": [
       "Transcribing:   0%|          | 0/1 [00:00<?, ?it/s]"
      ]
     },
     "metadata": {},
     "output_type": "display_data"
    },
    {
     "data": {
      "application/vnd.jupyter.widget-view+json": {
       "model_id": "e97273e2e4864540a220b9196c988374",
       "version_major": 2,
       "version_minor": 0
      },
      "text/plain": [
       "Transcribing:   0%|          | 0/1 [00:00<?, ?it/s]"
      ]
     },
     "metadata": {},
     "output_type": "display_data"
    },
    {
     "data": {
      "application/vnd.jupyter.widget-view+json": {
       "model_id": "b15d708f75e242d08c5a29dfc3e3d7b4",
       "version_major": 2,
       "version_minor": 0
      },
      "text/plain": [
       "Transcribing:   0%|          | 0/1 [00:00<?, ?it/s]"
      ]
     },
     "metadata": {},
     "output_type": "display_data"
    },
    {
     "data": {
      "application/vnd.jupyter.widget-view+json": {
       "model_id": "678e47cbf6aa49148a11c2e6bf7fecfd",
       "version_major": 2,
       "version_minor": 0
      },
      "text/plain": [
       "Transcribing:   0%|          | 0/1 [00:00<?, ?it/s]"
      ]
     },
     "metadata": {},
     "output_type": "display_data"
    },
    {
     "data": {
      "application/vnd.jupyter.widget-view+json": {
       "model_id": "2eced8022f8d429d91521404e34888bf",
       "version_major": 2,
       "version_minor": 0
      },
      "text/plain": [
       "Transcribing:   0%|          | 0/1 [00:00<?, ?it/s]"
      ]
     },
     "metadata": {},
     "output_type": "display_data"
    },
    {
     "data": {
      "application/vnd.jupyter.widget-view+json": {
       "model_id": "33ee6aea3a0946d9b37ccb2a2adff304",
       "version_major": 2,
       "version_minor": 0
      },
      "text/plain": [
       "Transcribing:   0%|          | 0/1 [00:00<?, ?it/s]"
      ]
     },
     "metadata": {},
     "output_type": "display_data"
    },
    {
     "data": {
      "application/vnd.jupyter.widget-view+json": {
       "model_id": "c5918218d9f348b2b4c89759ab75ff02",
       "version_major": 2,
       "version_minor": 0
      },
      "text/plain": [
       "Transcribing:   0%|          | 0/1 [00:00<?, ?it/s]"
      ]
     },
     "metadata": {},
     "output_type": "display_data"
    },
    {
     "data": {
      "application/vnd.jupyter.widget-view+json": {
       "model_id": "67aaf4f363b44af0ac103370296bcf1f",
       "version_major": 2,
       "version_minor": 0
      },
      "text/plain": [
       "Transcribing:   0%|          | 0/1 [00:00<?, ?it/s]"
      ]
     },
     "metadata": {},
     "output_type": "display_data"
    },
    {
     "data": {
      "application/vnd.jupyter.widget-view+json": {
       "model_id": "09091b05c11b41f885282ed67909759b",
       "version_major": 2,
       "version_minor": 0
      },
      "text/plain": [
       "Transcribing:   0%|          | 0/1 [00:00<?, ?it/s]"
      ]
     },
     "metadata": {},
     "output_type": "display_data"
    },
    {
     "data": {
      "application/vnd.jupyter.widget-view+json": {
       "model_id": "594d7d07365b4ad983e761c6ba1ad3e2",
       "version_major": 2,
       "version_minor": 0
      },
      "text/plain": [
       "Transcribing:   0%|          | 0/1 [00:00<?, ?it/s]"
      ]
     },
     "metadata": {},
     "output_type": "display_data"
    },
    {
     "data": {
      "application/vnd.jupyter.widget-view+json": {
       "model_id": "d0302d76875c4d6588e429d3feb2d756",
       "version_major": 2,
       "version_minor": 0
      },
      "text/plain": [
       "Transcribing:   0%|          | 0/1 [00:00<?, ?it/s]"
      ]
     },
     "metadata": {},
     "output_type": "display_data"
    },
    {
     "data": {
      "application/vnd.jupyter.widget-view+json": {
       "model_id": "fb0607ae79204b35a5b1b9eb23754588",
       "version_major": 2,
       "version_minor": 0
      },
      "text/plain": [
       "Transcribing:   0%|          | 0/1 [00:00<?, ?it/s]"
      ]
     },
     "metadata": {},
     "output_type": "display_data"
    },
    {
     "data": {
      "application/vnd.jupyter.widget-view+json": {
       "model_id": "959455c7c0c146738dc436caeaad092a",
       "version_major": 2,
       "version_minor": 0
      },
      "text/plain": [
       "Transcribing:   0%|          | 0/1 [00:00<?, ?it/s]"
      ]
     },
     "metadata": {},
     "output_type": "display_data"
    },
    {
     "data": {
      "application/vnd.jupyter.widget-view+json": {
       "model_id": "5d3a7bae2ba84c9f803468638f1ccdaf",
       "version_major": 2,
       "version_minor": 0
      },
      "text/plain": [
       "Transcribing:   0%|          | 0/1 [00:00<?, ?it/s]"
      ]
     },
     "metadata": {},
     "output_type": "display_data"
    },
    {
     "data": {
      "application/vnd.jupyter.widget-view+json": {
       "model_id": "0ca96985a35745e58b40006a95ceee60",
       "version_major": 2,
       "version_minor": 0
      },
      "text/plain": [
       "Transcribing:   0%|          | 0/1 [00:00<?, ?it/s]"
      ]
     },
     "metadata": {},
     "output_type": "display_data"
    },
    {
     "data": {
      "application/vnd.jupyter.widget-view+json": {
       "model_id": "9ec51c332b4046de9ebec2b78b9344c6",
       "version_major": 2,
       "version_minor": 0
      },
      "text/plain": [
       "Transcribing:   0%|          | 0/1 [00:00<?, ?it/s]"
      ]
     },
     "metadata": {},
     "output_type": "display_data"
    },
    {
     "data": {
      "application/vnd.jupyter.widget-view+json": {
       "model_id": "efd89c3de2484a7bbf442867b0706d46",
       "version_major": 2,
       "version_minor": 0
      },
      "text/plain": [
       "Transcribing:   0%|          | 0/1 [00:00<?, ?it/s]"
      ]
     },
     "metadata": {},
     "output_type": "display_data"
    },
    {
     "data": {
      "application/vnd.jupyter.widget-view+json": {
       "model_id": "78bf4d8a6e9f4f58ab91ba5af2a31da1",
       "version_major": 2,
       "version_minor": 0
      },
      "text/plain": [
       "Transcribing:   0%|          | 0/1 [00:00<?, ?it/s]"
      ]
     },
     "metadata": {},
     "output_type": "display_data"
    },
    {
     "data": {
      "application/vnd.jupyter.widget-view+json": {
       "model_id": "17481dddae5245a9902881cf4e01e3e7",
       "version_major": 2,
       "version_minor": 0
      },
      "text/plain": [
       "Transcribing:   0%|          | 0/1 [00:00<?, ?it/s]"
      ]
     },
     "metadata": {},
     "output_type": "display_data"
    },
    {
     "data": {
      "application/vnd.jupyter.widget-view+json": {
       "model_id": "faabc0c733de4afea25603a2eac99c28",
       "version_major": 2,
       "version_minor": 0
      },
      "text/plain": [
       "Transcribing:   0%|          | 0/1 [00:00<?, ?it/s]"
      ]
     },
     "metadata": {},
     "output_type": "display_data"
    },
    {
     "data": {
      "application/vnd.jupyter.widget-view+json": {
       "model_id": "a282153e4b264513b534f0fe2b779fdb",
       "version_major": 2,
       "version_minor": 0
      },
      "text/plain": [
       "Transcribing:   0%|          | 0/1 [00:00<?, ?it/s]"
      ]
     },
     "metadata": {},
     "output_type": "display_data"
    },
    {
     "data": {
      "application/vnd.jupyter.widget-view+json": {
       "model_id": "b0d85181dc98486fb4eb114fb6eaace7",
       "version_major": 2,
       "version_minor": 0
      },
      "text/plain": [
       "Transcribing:   0%|          | 0/1 [00:00<?, ?it/s]"
      ]
     },
     "metadata": {},
     "output_type": "display_data"
    },
    {
     "data": {
      "application/vnd.jupyter.widget-view+json": {
       "model_id": "705ece401f0b4211890a6a6315a496ec",
       "version_major": 2,
       "version_minor": 0
      },
      "text/plain": [
       "Transcribing:   0%|          | 0/1 [00:00<?, ?it/s]"
      ]
     },
     "metadata": {},
     "output_type": "display_data"
    },
    {
     "data": {
      "application/vnd.jupyter.widget-view+json": {
       "model_id": "085d5181d27942c1b0cae3ff260592a3",
       "version_major": 2,
       "version_minor": 0
      },
      "text/plain": [
       "Transcribing:   0%|          | 0/1 [00:00<?, ?it/s]"
      ]
     },
     "metadata": {},
     "output_type": "display_data"
    },
    {
     "data": {
      "application/vnd.jupyter.widget-view+json": {
       "model_id": "a1229517f34146e69b63d055a679848b",
       "version_major": 2,
       "version_minor": 0
      },
      "text/plain": [
       "Transcribing:   0%|          | 0/1 [00:00<?, ?it/s]"
      ]
     },
     "metadata": {},
     "output_type": "display_data"
    },
    {
     "data": {
      "application/vnd.jupyter.widget-view+json": {
       "model_id": "81382176bfb649bea9f5522b1bd80176",
       "version_major": 2,
       "version_minor": 0
      },
      "text/plain": [
       "Transcribing:   0%|          | 0/1 [00:00<?, ?it/s]"
      ]
     },
     "metadata": {},
     "output_type": "display_data"
    },
    {
     "data": {
      "application/vnd.jupyter.widget-view+json": {
       "model_id": "4a3d1490fd1f4afe8d5a6e030741754f",
       "version_major": 2,
       "version_minor": 0
      },
      "text/plain": [
       "Transcribing:   0%|          | 0/1 [00:00<?, ?it/s]"
      ]
     },
     "metadata": {},
     "output_type": "display_data"
    },
    {
     "data": {
      "application/vnd.jupyter.widget-view+json": {
       "model_id": "0841d6056b034bbabb3ccf1fc576b684",
       "version_major": 2,
       "version_minor": 0
      },
      "text/plain": [
       "Transcribing:   0%|          | 0/1 [00:00<?, ?it/s]"
      ]
     },
     "metadata": {},
     "output_type": "display_data"
    },
    {
     "data": {
      "application/vnd.jupyter.widget-view+json": {
       "model_id": "3bfe986ce23447f486294824825165b4",
       "version_major": 2,
       "version_minor": 0
      },
      "text/plain": [
       "Transcribing:   0%|          | 0/1 [00:00<?, ?it/s]"
      ]
     },
     "metadata": {},
     "output_type": "display_data"
    },
    {
     "data": {
      "application/vnd.jupyter.widget-view+json": {
       "model_id": "a6a9d2be03fb490097ace8a169d86521",
       "version_major": 2,
       "version_minor": 0
      },
      "text/plain": [
       "Transcribing:   0%|          | 0/1 [00:00<?, ?it/s]"
      ]
     },
     "metadata": {},
     "output_type": "display_data"
    },
    {
     "data": {
      "application/vnd.jupyter.widget-view+json": {
       "model_id": "0bac33f79e2440c3ba3d98497d8e52c2",
       "version_major": 2,
       "version_minor": 0
      },
      "text/plain": [
       "Transcribing:   0%|          | 0/1 [00:00<?, ?it/s]"
      ]
     },
     "metadata": {},
     "output_type": "display_data"
    },
    {
     "data": {
      "application/vnd.jupyter.widget-view+json": {
       "model_id": "034af86cad9c41b2b1fac360a6b8712c",
       "version_major": 2,
       "version_minor": 0
      },
      "text/plain": [
       "Transcribing:   0%|          | 0/1 [00:00<?, ?it/s]"
      ]
     },
     "metadata": {},
     "output_type": "display_data"
    },
    {
     "data": {
      "application/vnd.jupyter.widget-view+json": {
       "model_id": "1b61d2d6fd9e438296a19062eb13331b",
       "version_major": 2,
       "version_minor": 0
      },
      "text/plain": [
       "Transcribing:   0%|          | 0/1 [00:00<?, ?it/s]"
      ]
     },
     "metadata": {},
     "output_type": "display_data"
    },
    {
     "data": {
      "application/vnd.jupyter.widget-view+json": {
       "model_id": "bff0aafee80247338aed43de153df1d5",
       "version_major": 2,
       "version_minor": 0
      },
      "text/plain": [
       "Transcribing:   0%|          | 0/1 [00:00<?, ?it/s]"
      ]
     },
     "metadata": {},
     "output_type": "display_data"
    },
    {
     "data": {
      "application/vnd.jupyter.widget-view+json": {
       "model_id": "975279915bcf4f3998fbdfcad82cc04f",
       "version_major": 2,
       "version_minor": 0
      },
      "text/plain": [
       "Transcribing:   0%|          | 0/1 [00:00<?, ?it/s]"
      ]
     },
     "metadata": {},
     "output_type": "display_data"
    },
    {
     "data": {
      "application/vnd.jupyter.widget-view+json": {
       "model_id": "c78890c8942b4e6991c2427cda2c7aad",
       "version_major": 2,
       "version_minor": 0
      },
      "text/plain": [
       "Transcribing:   0%|          | 0/1 [00:00<?, ?it/s]"
      ]
     },
     "metadata": {},
     "output_type": "display_data"
    },
    {
     "data": {
      "application/vnd.jupyter.widget-view+json": {
       "model_id": "62c20d4681f14e269ab003e390e911b2",
       "version_major": 2,
       "version_minor": 0
      },
      "text/plain": [
       "Transcribing:   0%|          | 0/1 [00:00<?, ?it/s]"
      ]
     },
     "metadata": {},
     "output_type": "display_data"
    },
    {
     "data": {
      "application/vnd.jupyter.widget-view+json": {
       "model_id": "1ecd6ecb57ef4787b9b9999815061553",
       "version_major": 2,
       "version_minor": 0
      },
      "text/plain": [
       "Transcribing:   0%|          | 0/1 [00:00<?, ?it/s]"
      ]
     },
     "metadata": {},
     "output_type": "display_data"
    },
    {
     "data": {
      "application/vnd.jupyter.widget-view+json": {
       "model_id": "193a5686d3034690b5718407937bb608",
       "version_major": 2,
       "version_minor": 0
      },
      "text/plain": [
       "Transcribing:   0%|          | 0/1 [00:00<?, ?it/s]"
      ]
     },
     "metadata": {},
     "output_type": "display_data"
    },
    {
     "data": {
      "application/vnd.jupyter.widget-view+json": {
       "model_id": "ce37813aca18464d8c4a30a2e8f6c94f",
       "version_major": 2,
       "version_minor": 0
      },
      "text/plain": [
       "Transcribing:   0%|          | 0/1 [00:00<?, ?it/s]"
      ]
     },
     "metadata": {},
     "output_type": "display_data"
    },
    {
     "data": {
      "application/vnd.jupyter.widget-view+json": {
       "model_id": "526bd494b5e0474e80ea03c2f2622dd1",
       "version_major": 2,
       "version_minor": 0
      },
      "text/plain": [
       "Transcribing:   0%|          | 0/1 [00:00<?, ?it/s]"
      ]
     },
     "metadata": {},
     "output_type": "display_data"
    },
    {
     "data": {
      "application/vnd.jupyter.widget-view+json": {
       "model_id": "8cfc941962c34b1faceb6c1aaafbf06a",
       "version_major": 2,
       "version_minor": 0
      },
      "text/plain": [
       "Transcribing:   0%|          | 0/1 [00:00<?, ?it/s]"
      ]
     },
     "metadata": {},
     "output_type": "display_data"
    },
    {
     "data": {
      "application/vnd.jupyter.widget-view+json": {
       "model_id": "61c7a7fc91af41fe946830b37899d9c6",
       "version_major": 2,
       "version_minor": 0
      },
      "text/plain": [
       "Transcribing:   0%|          | 0/1 [00:00<?, ?it/s]"
      ]
     },
     "metadata": {},
     "output_type": "display_data"
    },
    {
     "data": {
      "application/vnd.jupyter.widget-view+json": {
       "model_id": "9c0070fbde1d4e5b99fbe618a16f590b",
       "version_major": 2,
       "version_minor": 0
      },
      "text/plain": [
       "Transcribing:   0%|          | 0/1 [00:00<?, ?it/s]"
      ]
     },
     "metadata": {},
     "output_type": "display_data"
    },
    {
     "data": {
      "application/vnd.jupyter.widget-view+json": {
       "model_id": "3022e528d22f4251b87fe89399737f19",
       "version_major": 2,
       "version_minor": 0
      },
      "text/plain": [
       "Transcribing:   0%|          | 0/1 [00:00<?, ?it/s]"
      ]
     },
     "metadata": {},
     "output_type": "display_data"
    },
    {
     "data": {
      "application/vnd.jupyter.widget-view+json": {
       "model_id": "5556d93c9042495fa3fe75b490f1bb34",
       "version_major": 2,
       "version_minor": 0
      },
      "text/plain": [
       "Transcribing:   0%|          | 0/1 [00:00<?, ?it/s]"
      ]
     },
     "metadata": {},
     "output_type": "display_data"
    },
    {
     "data": {
      "application/vnd.jupyter.widget-view+json": {
       "model_id": "2ac42fb801ab432b8ebaa04bb523d20d",
       "version_major": 2,
       "version_minor": 0
      },
      "text/plain": [
       "Transcribing:   0%|          | 0/1 [00:00<?, ?it/s]"
      ]
     },
     "metadata": {},
     "output_type": "display_data"
    },
    {
     "data": {
      "application/vnd.jupyter.widget-view+json": {
       "model_id": "1bbaa8098ad04f28b86d951ebaefaf7b",
       "version_major": 2,
       "version_minor": 0
      },
      "text/plain": [
       "Transcribing:   0%|          | 0/1 [00:00<?, ?it/s]"
      ]
     },
     "metadata": {},
     "output_type": "display_data"
    },
    {
     "data": {
      "application/vnd.jupyter.widget-view+json": {
       "model_id": "8ae573e5bd34448093bb7812b52bcac9",
       "version_major": 2,
       "version_minor": 0
      },
      "text/plain": [
       "Transcribing:   0%|          | 0/1 [00:00<?, ?it/s]"
      ]
     },
     "metadata": {},
     "output_type": "display_data"
    },
    {
     "data": {
      "application/vnd.jupyter.widget-view+json": {
       "model_id": "3f88aa56a12349feabf208dca2ebf22c",
       "version_major": 2,
       "version_minor": 0
      },
      "text/plain": [
       "Transcribing:   0%|          | 0/1 [00:00<?, ?it/s]"
      ]
     },
     "metadata": {},
     "output_type": "display_data"
    },
    {
     "data": {
      "application/vnd.jupyter.widget-view+json": {
       "model_id": "627d86a34fdc4d488037fcd68372919a",
       "version_major": 2,
       "version_minor": 0
      },
      "text/plain": [
       "Transcribing:   0%|          | 0/1 [00:00<?, ?it/s]"
      ]
     },
     "metadata": {},
     "output_type": "display_data"
    },
    {
     "data": {
      "application/vnd.jupyter.widget-view+json": {
       "model_id": "fb2a9b42bed14c0582eff594b8bce914",
       "version_major": 2,
       "version_minor": 0
      },
      "text/plain": [
       "Transcribing:   0%|          | 0/1 [00:00<?, ?it/s]"
      ]
     },
     "metadata": {},
     "output_type": "display_data"
    },
    {
     "data": {
      "application/vnd.jupyter.widget-view+json": {
       "model_id": "3247afd1a1364de8aca887e9ee3c1084",
       "version_major": 2,
       "version_minor": 0
      },
      "text/plain": [
       "Transcribing:   0%|          | 0/1 [00:00<?, ?it/s]"
      ]
     },
     "metadata": {},
     "output_type": "display_data"
    },
    {
     "data": {
      "application/vnd.jupyter.widget-view+json": {
       "model_id": "c4980fc4ae7c47a1a73e35e4d20b1ac1",
       "version_major": 2,
       "version_minor": 0
      },
      "text/plain": [
       "Transcribing:   0%|          | 0/1 [00:00<?, ?it/s]"
      ]
     },
     "metadata": {},
     "output_type": "display_data"
    },
    {
     "data": {
      "application/vnd.jupyter.widget-view+json": {
       "model_id": "dadc1960089443a7b8863a3bb35bbd6f",
       "version_major": 2,
       "version_minor": 0
      },
      "text/plain": [
       "Transcribing:   0%|          | 0/1 [00:00<?, ?it/s]"
      ]
     },
     "metadata": {},
     "output_type": "display_data"
    },
    {
     "data": {
      "application/vnd.jupyter.widget-view+json": {
       "model_id": "344ec7872e4e4debb3d1b64f48ca3dd0",
       "version_major": 2,
       "version_minor": 0
      },
      "text/plain": [
       "Transcribing:   0%|          | 0/1 [00:00<?, ?it/s]"
      ]
     },
     "metadata": {},
     "output_type": "display_data"
    },
    {
     "data": {
      "application/vnd.jupyter.widget-view+json": {
       "model_id": "42cf1a2a33714779964a0b0d303053d3",
       "version_major": 2,
       "version_minor": 0
      },
      "text/plain": [
       "Transcribing:   0%|          | 0/1 [00:00<?, ?it/s]"
      ]
     },
     "metadata": {},
     "output_type": "display_data"
    },
    {
     "data": {
      "application/vnd.jupyter.widget-view+json": {
       "model_id": "0f1ba6bebf6f4bbf82b03a033f69b329",
       "version_major": 2,
       "version_minor": 0
      },
      "text/plain": [
       "Transcribing:   0%|          | 0/1 [00:00<?, ?it/s]"
      ]
     },
     "metadata": {},
     "output_type": "display_data"
    },
    {
     "data": {
      "application/vnd.jupyter.widget-view+json": {
       "model_id": "01ff27d81f2842b5bb6e372c23002da2",
       "version_major": 2,
       "version_minor": 0
      },
      "text/plain": [
       "Transcribing:   0%|          | 0/1 [00:00<?, ?it/s]"
      ]
     },
     "metadata": {},
     "output_type": "display_data"
    },
    {
     "data": {
      "application/vnd.jupyter.widget-view+json": {
       "model_id": "6e43698cb82a4fa8b3332ebbe718b30e",
       "version_major": 2,
       "version_minor": 0
      },
      "text/plain": [
       "Transcribing:   0%|          | 0/1 [00:00<?, ?it/s]"
      ]
     },
     "metadata": {},
     "output_type": "display_data"
    },
    {
     "data": {
      "application/vnd.jupyter.widget-view+json": {
       "model_id": "32d801fb31cd417cb1ab4bbabffa36f7",
       "version_major": 2,
       "version_minor": 0
      },
      "text/plain": [
       "Transcribing:   0%|          | 0/1 [00:00<?, ?it/s]"
      ]
     },
     "metadata": {},
     "output_type": "display_data"
    },
    {
     "data": {
      "application/vnd.jupyter.widget-view+json": {
       "model_id": "316720db322b49ca87c2542c87dcb33d",
       "version_major": 2,
       "version_minor": 0
      },
      "text/plain": [
       "Transcribing:   0%|          | 0/1 [00:00<?, ?it/s]"
      ]
     },
     "metadata": {},
     "output_type": "display_data"
    },
    {
     "data": {
      "application/vnd.jupyter.widget-view+json": {
       "model_id": "eba238c7b13b4713af6b94dd831198f7",
       "version_major": 2,
       "version_minor": 0
      },
      "text/plain": [
       "Transcribing:   0%|          | 0/1 [00:00<?, ?it/s]"
      ]
     },
     "metadata": {},
     "output_type": "display_data"
    },
    {
     "data": {
      "application/vnd.jupyter.widget-view+json": {
       "model_id": "092f3266d3624abf8c29cd12725b01ec",
       "version_major": 2,
       "version_minor": 0
      },
      "text/plain": [
       "Transcribing:   0%|          | 0/1 [00:00<?, ?it/s]"
      ]
     },
     "metadata": {},
     "output_type": "display_data"
    },
    {
     "data": {
      "application/vnd.jupyter.widget-view+json": {
       "model_id": "0135709c28e04976b4248df40b15e4c5",
       "version_major": 2,
       "version_minor": 0
      },
      "text/plain": [
       "Transcribing:   0%|          | 0/1 [00:00<?, ?it/s]"
      ]
     },
     "metadata": {},
     "output_type": "display_data"
    },
    {
     "data": {
      "application/vnd.jupyter.widget-view+json": {
       "model_id": "b6e74bd4ec6046eba0a500b9f6aa7f07",
       "version_major": 2,
       "version_minor": 0
      },
      "text/plain": [
       "Transcribing:   0%|          | 0/1 [00:00<?, ?it/s]"
      ]
     },
     "metadata": {},
     "output_type": "display_data"
    },
    {
     "data": {
      "application/vnd.jupyter.widget-view+json": {
       "model_id": "956c51d268b540ba8d3920f62e455889",
       "version_major": 2,
       "version_minor": 0
      },
      "text/plain": [
       "Transcribing:   0%|          | 0/1 [00:00<?, ?it/s]"
      ]
     },
     "metadata": {},
     "output_type": "display_data"
    },
    {
     "data": {
      "application/vnd.jupyter.widget-view+json": {
       "model_id": "af4d0eb683824fa1bf226f3a7fa00333",
       "version_major": 2,
       "version_minor": 0
      },
      "text/plain": [
       "Transcribing:   0%|          | 0/1 [00:00<?, ?it/s]"
      ]
     },
     "metadata": {},
     "output_type": "display_data"
    },
    {
     "data": {
      "application/vnd.jupyter.widget-view+json": {
       "model_id": "14fc53be81bd4bbb954cfa32dcfd8b2b",
       "version_major": 2,
       "version_minor": 0
      },
      "text/plain": [
       "Transcribing:   0%|          | 0/1 [00:00<?, ?it/s]"
      ]
     },
     "metadata": {},
     "output_type": "display_data"
    },
    {
     "data": {
      "application/vnd.jupyter.widget-view+json": {
       "model_id": "1073eb8fc46440ee9272293ee5f9dd25",
       "version_major": 2,
       "version_minor": 0
      },
      "text/plain": [
       "Transcribing:   0%|          | 0/1 [00:00<?, ?it/s]"
      ]
     },
     "metadata": {},
     "output_type": "display_data"
    },
    {
     "data": {
      "application/vnd.jupyter.widget-view+json": {
       "model_id": "d7f8372e50df4255a9c7a0cb85a4f079",
       "version_major": 2,
       "version_minor": 0
      },
      "text/plain": [
       "Transcribing:   0%|          | 0/1 [00:00<?, ?it/s]"
      ]
     },
     "metadata": {},
     "output_type": "display_data"
    },
    {
     "data": {
      "application/vnd.jupyter.widget-view+json": {
       "model_id": "679b33cbcc414241a0b8d3da8c25989b",
       "version_major": 2,
       "version_minor": 0
      },
      "text/plain": [
       "Transcribing:   0%|          | 0/1 [00:00<?, ?it/s]"
      ]
     },
     "metadata": {},
     "output_type": "display_data"
    },
    {
     "data": {
      "application/vnd.jupyter.widget-view+json": {
       "model_id": "8c470cd8180d4b2bb9d65ceb09d581c2",
       "version_major": 2,
       "version_minor": 0
      },
      "text/plain": [
       "Transcribing:   0%|          | 0/1 [00:00<?, ?it/s]"
      ]
     },
     "metadata": {},
     "output_type": "display_data"
    },
    {
     "data": {
      "application/vnd.jupyter.widget-view+json": {
       "model_id": "431ab12d6e874a798a2636d3323d2542",
       "version_major": 2,
       "version_minor": 0
      },
      "text/plain": [
       "Transcribing:   0%|          | 0/1 [00:00<?, ?it/s]"
      ]
     },
     "metadata": {},
     "output_type": "display_data"
    },
    {
     "data": {
      "application/vnd.jupyter.widget-view+json": {
       "model_id": "c26cfe6f0a3b45aa88744802445ffe9a",
       "version_major": 2,
       "version_minor": 0
      },
      "text/plain": [
       "Transcribing:   0%|          | 0/1 [00:00<?, ?it/s]"
      ]
     },
     "metadata": {},
     "output_type": "display_data"
    },
    {
     "data": {
      "application/vnd.jupyter.widget-view+json": {
       "model_id": "2bdaa222555d4420bd0fe0ab84899a43",
       "version_major": 2,
       "version_minor": 0
      },
      "text/plain": [
       "Transcribing:   0%|          | 0/1 [00:00<?, ?it/s]"
      ]
     },
     "metadata": {},
     "output_type": "display_data"
    },
    {
     "data": {
      "application/vnd.jupyter.widget-view+json": {
       "model_id": "20428807664648aeb947b443f1826396",
       "version_major": 2,
       "version_minor": 0
      },
      "text/plain": [
       "Transcribing:   0%|          | 0/1 [00:00<?, ?it/s]"
      ]
     },
     "metadata": {},
     "output_type": "display_data"
    },
    {
     "data": {
      "application/vnd.jupyter.widget-view+json": {
       "model_id": "0bd9b5f83bfc4acd9690a13a65742f3b",
       "version_major": 2,
       "version_minor": 0
      },
      "text/plain": [
       "Transcribing:   0%|          | 0/1 [00:00<?, ?it/s]"
      ]
     },
     "metadata": {},
     "output_type": "display_data"
    },
    {
     "data": {
      "application/vnd.jupyter.widget-view+json": {
       "model_id": "62d882d618e64a0eb2bbcebc765e5b51",
       "version_major": 2,
       "version_minor": 0
      },
      "text/plain": [
       "Transcribing:   0%|          | 0/1 [00:00<?, ?it/s]"
      ]
     },
     "metadata": {},
     "output_type": "display_data"
    },
    {
     "data": {
      "application/vnd.jupyter.widget-view+json": {
       "model_id": "fd7b947f2b2c489eb7847513e6ead013",
       "version_major": 2,
       "version_minor": 0
      },
      "text/plain": [
       "Transcribing:   0%|          | 0/1 [00:00<?, ?it/s]"
      ]
     },
     "metadata": {},
     "output_type": "display_data"
    },
    {
     "data": {
      "application/vnd.jupyter.widget-view+json": {
       "model_id": "a06a300dfbfb4c4e8a61c56b53a747e9",
       "version_major": 2,
       "version_minor": 0
      },
      "text/plain": [
       "Transcribing:   0%|          | 0/1 [00:00<?, ?it/s]"
      ]
     },
     "metadata": {},
     "output_type": "display_data"
    },
    {
     "data": {
      "application/vnd.jupyter.widget-view+json": {
       "model_id": "67dff24d65b24c439151bf865d6de467",
       "version_major": 2,
       "version_minor": 0
      },
      "text/plain": [
       "Transcribing:   0%|          | 0/1 [00:00<?, ?it/s]"
      ]
     },
     "metadata": {},
     "output_type": "display_data"
    },
    {
     "data": {
      "application/vnd.jupyter.widget-view+json": {
       "model_id": "e7ddf0a81b4a490fa17c22d9bb5032c4",
       "version_major": 2,
       "version_minor": 0
      },
      "text/plain": [
       "Transcribing:   0%|          | 0/1 [00:00<?, ?it/s]"
      ]
     },
     "metadata": {},
     "output_type": "display_data"
    },
    {
     "data": {
      "application/vnd.jupyter.widget-view+json": {
       "model_id": "b1957b1cae8a4c15be5a6b8cce530bc7",
       "version_major": 2,
       "version_minor": 0
      },
      "text/plain": [
       "Transcribing:   0%|          | 0/1 [00:00<?, ?it/s]"
      ]
     },
     "metadata": {},
     "output_type": "display_data"
    },
    {
     "data": {
      "application/vnd.jupyter.widget-view+json": {
       "model_id": "30ac042af95046058efe71891562631d",
       "version_major": 2,
       "version_minor": 0
      },
      "text/plain": [
       "Transcribing:   0%|          | 0/1 [00:00<?, ?it/s]"
      ]
     },
     "metadata": {},
     "output_type": "display_data"
    },
    {
     "data": {
      "application/vnd.jupyter.widget-view+json": {
       "model_id": "9566bf7d64d44bd589ffaaa057459cc4",
       "version_major": 2,
       "version_minor": 0
      },
      "text/plain": [
       "Transcribing:   0%|          | 0/1 [00:00<?, ?it/s]"
      ]
     },
     "metadata": {},
     "output_type": "display_data"
    },
    {
     "data": {
      "application/vnd.jupyter.widget-view+json": {
       "model_id": "c66b185c1cfd48d9a8c972b04ca366c9",
       "version_major": 2,
       "version_minor": 0
      },
      "text/plain": [
       "Transcribing:   0%|          | 0/1 [00:00<?, ?it/s]"
      ]
     },
     "metadata": {},
     "output_type": "display_data"
    },
    {
     "data": {
      "application/vnd.jupyter.widget-view+json": {
       "model_id": "fcf8206875b04f7d8a5de71c8f91f9cd",
       "version_major": 2,
       "version_minor": 0
      },
      "text/plain": [
       "Transcribing:   0%|          | 0/1 [00:00<?, ?it/s]"
      ]
     },
     "metadata": {},
     "output_type": "display_data"
    },
    {
     "data": {
      "application/vnd.jupyter.widget-view+json": {
       "model_id": "6d871f48dac74b7b83b6d055bfdc6d9b",
       "version_major": 2,
       "version_minor": 0
      },
      "text/plain": [
       "Transcribing:   0%|          | 0/1 [00:00<?, ?it/s]"
      ]
     },
     "metadata": {},
     "output_type": "display_data"
    },
    {
     "data": {
      "application/vnd.jupyter.widget-view+json": {
       "model_id": "509645177dac4aa89537960c609ba86d",
       "version_major": 2,
       "version_minor": 0
      },
      "text/plain": [
       "Transcribing:   0%|          | 0/1 [00:00<?, ?it/s]"
      ]
     },
     "metadata": {},
     "output_type": "display_data"
    },
    {
     "data": {
      "application/vnd.jupyter.widget-view+json": {
       "model_id": "4f2aa4cef1b94e98be1345458507aaf6",
       "version_major": 2,
       "version_minor": 0
      },
      "text/plain": [
       "Transcribing:   0%|          | 0/1 [00:00<?, ?it/s]"
      ]
     },
     "metadata": {},
     "output_type": "display_data"
    },
    {
     "data": {
      "application/vnd.jupyter.widget-view+json": {
       "model_id": "25ee6e716e014eeab28ade758b3a89b7",
       "version_major": 2,
       "version_minor": 0
      },
      "text/plain": [
       "Transcribing:   0%|          | 0/1 [00:00<?, ?it/s]"
      ]
     },
     "metadata": {},
     "output_type": "display_data"
    },
    {
     "data": {
      "application/vnd.jupyter.widget-view+json": {
       "model_id": "c2df1b4805a149d99f5a6b11ee8e24c4",
       "version_major": 2,
       "version_minor": 0
      },
      "text/plain": [
       "Transcribing:   0%|          | 0/1 [00:00<?, ?it/s]"
      ]
     },
     "metadata": {},
     "output_type": "display_data"
    },
    {
     "data": {
      "application/vnd.jupyter.widget-view+json": {
       "model_id": "cccaa6e40b0d462189ad5a1f2ab03f99",
       "version_major": 2,
       "version_minor": 0
      },
      "text/plain": [
       "Transcribing:   0%|          | 0/1 [00:00<?, ?it/s]"
      ]
     },
     "metadata": {},
     "output_type": "display_data"
    },
    {
     "data": {
      "application/vnd.jupyter.widget-view+json": {
       "model_id": "69ff72d3226942da8dc940522b64cab9",
       "version_major": 2,
       "version_minor": 0
      },
      "text/plain": [
       "Transcribing:   0%|          | 0/1 [00:00<?, ?it/s]"
      ]
     },
     "metadata": {},
     "output_type": "display_data"
    },
    {
     "data": {
      "application/vnd.jupyter.widget-view+json": {
       "model_id": "dd6fd85fda774f419cb6a57f3d082e7c",
       "version_major": 2,
       "version_minor": 0
      },
      "text/plain": [
       "Transcribing:   0%|          | 0/1 [00:00<?, ?it/s]"
      ]
     },
     "metadata": {},
     "output_type": "display_data"
    },
    {
     "data": {
      "application/vnd.jupyter.widget-view+json": {
       "model_id": "d4ba229911e842d282c117a477d0e33b",
       "version_major": 2,
       "version_minor": 0
      },
      "text/plain": [
       "Transcribing:   0%|          | 0/1 [00:00<?, ?it/s]"
      ]
     },
     "metadata": {},
     "output_type": "display_data"
    },
    {
     "data": {
      "application/vnd.jupyter.widget-view+json": {
       "model_id": "fca5ece3c0ab40d5ad838ea5b20b5416",
       "version_major": 2,
       "version_minor": 0
      },
      "text/plain": [
       "Transcribing:   0%|          | 0/1 [00:00<?, ?it/s]"
      ]
     },
     "metadata": {},
     "output_type": "display_data"
    },
    {
     "data": {
      "application/vnd.jupyter.widget-view+json": {
       "model_id": "1675cbab25714ff8840096a83868f400",
       "version_major": 2,
       "version_minor": 0
      },
      "text/plain": [
       "Transcribing:   0%|          | 0/1 [00:00<?, ?it/s]"
      ]
     },
     "metadata": {},
     "output_type": "display_data"
    },
    {
     "data": {
      "application/vnd.jupyter.widget-view+json": {
       "model_id": "8d6269feb82d4e64ba5c7a8a704e1076",
       "version_major": 2,
       "version_minor": 0
      },
      "text/plain": [
       "Transcribing:   0%|          | 0/1 [00:00<?, ?it/s]"
      ]
     },
     "metadata": {},
     "output_type": "display_data"
    },
    {
     "data": {
      "application/vnd.jupyter.widget-view+json": {
       "model_id": "61e6f331b62a449a85d8a400e1bae0bf",
       "version_major": 2,
       "version_minor": 0
      },
      "text/plain": [
       "Transcribing:   0%|          | 0/1 [00:00<?, ?it/s]"
      ]
     },
     "metadata": {},
     "output_type": "display_data"
    },
    {
     "data": {
      "application/vnd.jupyter.widget-view+json": {
       "model_id": "2d1c7fb6c47c4653b16b085352a3cd8a",
       "version_major": 2,
       "version_minor": 0
      },
      "text/plain": [
       "Transcribing:   0%|          | 0/1 [00:00<?, ?it/s]"
      ]
     },
     "metadata": {},
     "output_type": "display_data"
    },
    {
     "data": {
      "application/vnd.jupyter.widget-view+json": {
       "model_id": "68eca5d7064b46c2878b3cac2105801d",
       "version_major": 2,
       "version_minor": 0
      },
      "text/plain": [
       "Transcribing:   0%|          | 0/1 [00:00<?, ?it/s]"
      ]
     },
     "metadata": {},
     "output_type": "display_data"
    },
    {
     "data": {
      "application/vnd.jupyter.widget-view+json": {
       "model_id": "d9c4079e38ce40fd900d635b1fd1c9d8",
       "version_major": 2,
       "version_minor": 0
      },
      "text/plain": [
       "Transcribing:   0%|          | 0/1 [00:00<?, ?it/s]"
      ]
     },
     "metadata": {},
     "output_type": "display_data"
    },
    {
     "data": {
      "application/vnd.jupyter.widget-view+json": {
       "model_id": "a31b42a744f24b52a400fc71d3bb7252",
       "version_major": 2,
       "version_minor": 0
      },
      "text/plain": [
       "Transcribing:   0%|          | 0/1 [00:00<?, ?it/s]"
      ]
     },
     "metadata": {},
     "output_type": "display_data"
    },
    {
     "data": {
      "application/vnd.jupyter.widget-view+json": {
       "model_id": "c3bb37f0cdf848ddb6c2ebdca5242f09",
       "version_major": 2,
       "version_minor": 0
      },
      "text/plain": [
       "Transcribing:   0%|          | 0/1 [00:00<?, ?it/s]"
      ]
     },
     "metadata": {},
     "output_type": "display_data"
    },
    {
     "data": {
      "application/vnd.jupyter.widget-view+json": {
       "model_id": "d38faa3321c54b328c553b9fe9d5511e",
       "version_major": 2,
       "version_minor": 0
      },
      "text/plain": [
       "Transcribing:   0%|          | 0/1 [00:00<?, ?it/s]"
      ]
     },
     "metadata": {},
     "output_type": "display_data"
    },
    {
     "data": {
      "application/vnd.jupyter.widget-view+json": {
       "model_id": "bc6893522b4e4f34bf785521b1474d52",
       "version_major": 2,
       "version_minor": 0
      },
      "text/plain": [
       "Transcribing:   0%|          | 0/1 [00:00<?, ?it/s]"
      ]
     },
     "metadata": {},
     "output_type": "display_data"
    },
    {
     "data": {
      "application/vnd.jupyter.widget-view+json": {
       "model_id": "e51251dfe17440a5af610480eec53444",
       "version_major": 2,
       "version_minor": 0
      },
      "text/plain": [
       "Transcribing:   0%|          | 0/1 [00:00<?, ?it/s]"
      ]
     },
     "metadata": {},
     "output_type": "display_data"
    },
    {
     "data": {
      "application/vnd.jupyter.widget-view+json": {
       "model_id": "220d81f2ca7a413dbb633245211bdc44",
       "version_major": 2,
       "version_minor": 0
      },
      "text/plain": [
       "Transcribing:   0%|          | 0/1 [00:00<?, ?it/s]"
      ]
     },
     "metadata": {},
     "output_type": "display_data"
    },
    {
     "data": {
      "application/vnd.jupyter.widget-view+json": {
       "model_id": "7bee9cee4ace472ea33c388facd74892",
       "version_major": 2,
       "version_minor": 0
      },
      "text/plain": [
       "Transcribing:   0%|          | 0/1 [00:00<?, ?it/s]"
      ]
     },
     "metadata": {},
     "output_type": "display_data"
    },
    {
     "data": {
      "application/vnd.jupyter.widget-view+json": {
       "model_id": "0de0245392ba4166b1b3f13089789a85",
       "version_major": 2,
       "version_minor": 0
      },
      "text/plain": [
       "Transcribing:   0%|          | 0/1 [00:00<?, ?it/s]"
      ]
     },
     "metadata": {},
     "output_type": "display_data"
    },
    {
     "data": {
      "application/vnd.jupyter.widget-view+json": {
       "model_id": "66644b8f2599442fb0d700100b0eee89",
       "version_major": 2,
       "version_minor": 0
      },
      "text/plain": [
       "Transcribing:   0%|          | 0/1 [00:00<?, ?it/s]"
      ]
     },
     "metadata": {},
     "output_type": "display_data"
    },
    {
     "data": {
      "application/vnd.jupyter.widget-view+json": {
       "model_id": "f629b783ba574ae7bccdaa65f25f2e27",
       "version_major": 2,
       "version_minor": 0
      },
      "text/plain": [
       "Transcribing:   0%|          | 0/1 [00:00<?, ?it/s]"
      ]
     },
     "metadata": {},
     "output_type": "display_data"
    },
    {
     "data": {
      "application/vnd.jupyter.widget-view+json": {
       "model_id": "2abfde12addd423d9cf07f362b3c254a",
       "version_major": 2,
       "version_minor": 0
      },
      "text/plain": [
       "Transcribing:   0%|          | 0/1 [00:00<?, ?it/s]"
      ]
     },
     "metadata": {},
     "output_type": "display_data"
    },
    {
     "data": {
      "application/vnd.jupyter.widget-view+json": {
       "model_id": "9434c18e836f49f49a211d3031c8856c",
       "version_major": 2,
       "version_minor": 0
      },
      "text/plain": [
       "Transcribing:   0%|          | 0/1 [00:00<?, ?it/s]"
      ]
     },
     "metadata": {},
     "output_type": "display_data"
    },
    {
     "data": {
      "application/vnd.jupyter.widget-view+json": {
       "model_id": "59a74b18dc64496e8bf2ea04a71df79a",
       "version_major": 2,
       "version_minor": 0
      },
      "text/plain": [
       "Transcribing:   0%|          | 0/1 [00:00<?, ?it/s]"
      ]
     },
     "metadata": {},
     "output_type": "display_data"
    },
    {
     "data": {
      "application/vnd.jupyter.widget-view+json": {
       "model_id": "0b19b7e0637245a1b74b88cadec3eab9",
       "version_major": 2,
       "version_minor": 0
      },
      "text/plain": [
       "Transcribing:   0%|          | 0/1 [00:00<?, ?it/s]"
      ]
     },
     "metadata": {},
     "output_type": "display_data"
    },
    {
     "data": {
      "application/vnd.jupyter.widget-view+json": {
       "model_id": "a2a1dabc1b994caaa78beef374398fcc",
       "version_major": 2,
       "version_minor": 0
      },
      "text/plain": [
       "Transcribing:   0%|          | 0/1 [00:00<?, ?it/s]"
      ]
     },
     "metadata": {},
     "output_type": "display_data"
    },
    {
     "data": {
      "application/vnd.jupyter.widget-view+json": {
       "model_id": "b23ba59a7d7a41fa9b3558a88f1e37e2",
       "version_major": 2,
       "version_minor": 0
      },
      "text/plain": [
       "Transcribing:   0%|          | 0/1 [00:00<?, ?it/s]"
      ]
     },
     "metadata": {},
     "output_type": "display_data"
    },
    {
     "data": {
      "application/vnd.jupyter.widget-view+json": {
       "model_id": "2349a09007944d719994f6ad46f223e9",
       "version_major": 2,
       "version_minor": 0
      },
      "text/plain": [
       "Transcribing:   0%|          | 0/1 [00:00<?, ?it/s]"
      ]
     },
     "metadata": {},
     "output_type": "display_data"
    },
    {
     "data": {
      "application/vnd.jupyter.widget-view+json": {
       "model_id": "9e754c2dcdf24d5693baa936e436aab8",
       "version_major": 2,
       "version_minor": 0
      },
      "text/plain": [
       "Transcribing:   0%|          | 0/1 [00:00<?, ?it/s]"
      ]
     },
     "metadata": {},
     "output_type": "display_data"
    },
    {
     "data": {
      "application/vnd.jupyter.widget-view+json": {
       "model_id": "bd589a46dc1446fda05c675b6840a706",
       "version_major": 2,
       "version_minor": 0
      },
      "text/plain": [
       "Transcribing:   0%|          | 0/1 [00:00<?, ?it/s]"
      ]
     },
     "metadata": {},
     "output_type": "display_data"
    },
    {
     "data": {
      "application/vnd.jupyter.widget-view+json": {
       "model_id": "3de64f959e2f492bbd16f5377d435854",
       "version_major": 2,
       "version_minor": 0
      },
      "text/plain": [
       "Transcribing:   0%|          | 0/1 [00:00<?, ?it/s]"
      ]
     },
     "metadata": {},
     "output_type": "display_data"
    },
    {
     "data": {
      "application/vnd.jupyter.widget-view+json": {
       "model_id": "94fc0f871ad84dd59a6100ea4a996cc3",
       "version_major": 2,
       "version_minor": 0
      },
      "text/plain": [
       "Transcribing:   0%|          | 0/1 [00:00<?, ?it/s]"
      ]
     },
     "metadata": {},
     "output_type": "display_data"
    },
    {
     "data": {
      "application/vnd.jupyter.widget-view+json": {
       "model_id": "872fd5d671284ba78dc043269c04214a",
       "version_major": 2,
       "version_minor": 0
      },
      "text/plain": [
       "Transcribing:   0%|          | 0/1 [00:00<?, ?it/s]"
      ]
     },
     "metadata": {},
     "output_type": "display_data"
    },
    {
     "data": {
      "application/vnd.jupyter.widget-view+json": {
       "model_id": "696e2f7d81d14ef58d01d5d8800c016e",
       "version_major": 2,
       "version_minor": 0
      },
      "text/plain": [
       "Transcribing:   0%|          | 0/1 [00:00<?, ?it/s]"
      ]
     },
     "metadata": {},
     "output_type": "display_data"
    },
    {
     "data": {
      "application/vnd.jupyter.widget-view+json": {
       "model_id": "5f211b9b89a74848a480824992f3ce77",
       "version_major": 2,
       "version_minor": 0
      },
      "text/plain": [
       "Transcribing:   0%|          | 0/1 [00:00<?, ?it/s]"
      ]
     },
     "metadata": {},
     "output_type": "display_data"
    },
    {
     "data": {
      "application/vnd.jupyter.widget-view+json": {
       "model_id": "cb27a578c55c4826ac65f0753a68ea51",
       "version_major": 2,
       "version_minor": 0
      },
      "text/plain": [
       "Transcribing:   0%|          | 0/1 [00:00<?, ?it/s]"
      ]
     },
     "metadata": {},
     "output_type": "display_data"
    },
    {
     "data": {
      "application/vnd.jupyter.widget-view+json": {
       "model_id": "cf574bad680140c38f338d54d6c2c7ea",
       "version_major": 2,
       "version_minor": 0
      },
      "text/plain": [
       "Transcribing:   0%|          | 0/1 [00:00<?, ?it/s]"
      ]
     },
     "metadata": {},
     "output_type": "display_data"
    },
    {
     "data": {
      "application/vnd.jupyter.widget-view+json": {
       "model_id": "4fd5f988878144f2b7cef63dd87e99ec",
       "version_major": 2,
       "version_minor": 0
      },
      "text/plain": [
       "Transcribing:   0%|          | 0/1 [00:00<?, ?it/s]"
      ]
     },
     "metadata": {},
     "output_type": "display_data"
    },
    {
     "data": {
      "application/vnd.jupyter.widget-view+json": {
       "model_id": "3821da2c00994eec82843e33309df1dc",
       "version_major": 2,
       "version_minor": 0
      },
      "text/plain": [
       "Transcribing:   0%|          | 0/1 [00:00<?, ?it/s]"
      ]
     },
     "metadata": {},
     "output_type": "display_data"
    },
    {
     "data": {
      "application/vnd.jupyter.widget-view+json": {
       "model_id": "e3542d25f87a4455a633281f168f0a43",
       "version_major": 2,
       "version_minor": 0
      },
      "text/plain": [
       "Transcribing:   0%|          | 0/1 [00:00<?, ?it/s]"
      ]
     },
     "metadata": {},
     "output_type": "display_data"
    },
    {
     "data": {
      "application/vnd.jupyter.widget-view+json": {
       "model_id": "15333853b0384d9ead73a4d0a1cae54d",
       "version_major": 2,
       "version_minor": 0
      },
      "text/plain": [
       "Transcribing:   0%|          | 0/1 [00:00<?, ?it/s]"
      ]
     },
     "metadata": {},
     "output_type": "display_data"
    },
    {
     "data": {
      "application/vnd.jupyter.widget-view+json": {
       "model_id": "bc161810d5e0487ab5c7218d9bd9e576",
       "version_major": 2,
       "version_minor": 0
      },
      "text/plain": [
       "Transcribing:   0%|          | 0/1 [00:00<?, ?it/s]"
      ]
     },
     "metadata": {},
     "output_type": "display_data"
    },
    {
     "data": {
      "application/vnd.jupyter.widget-view+json": {
       "model_id": "429473611fe44190868e4555e2ec12f5",
       "version_major": 2,
       "version_minor": 0
      },
      "text/plain": [
       "Transcribing:   0%|          | 0/1 [00:00<?, ?it/s]"
      ]
     },
     "metadata": {},
     "output_type": "display_data"
    },
    {
     "data": {
      "application/vnd.jupyter.widget-view+json": {
       "model_id": "5ef4a426ee5e4205a8363799f8b9e542",
       "version_major": 2,
       "version_minor": 0
      },
      "text/plain": [
       "Transcribing:   0%|          | 0/1 [00:00<?, ?it/s]"
      ]
     },
     "metadata": {},
     "output_type": "display_data"
    },
    {
     "data": {
      "application/vnd.jupyter.widget-view+json": {
       "model_id": "41d16ff34d1143e88b97035e95aea8c7",
       "version_major": 2,
       "version_minor": 0
      },
      "text/plain": [
       "Transcribing:   0%|          | 0/1 [00:00<?, ?it/s]"
      ]
     },
     "metadata": {},
     "output_type": "display_data"
    },
    {
     "data": {
      "application/vnd.jupyter.widget-view+json": {
       "model_id": "916241d2e3864c60bd5f9cf64bc89bb9",
       "version_major": 2,
       "version_minor": 0
      },
      "text/plain": [
       "Transcribing:   0%|          | 0/1 [00:00<?, ?it/s]"
      ]
     },
     "metadata": {},
     "output_type": "display_data"
    },
    {
     "data": {
      "application/vnd.jupyter.widget-view+json": {
       "model_id": "cdc01a189ade40ac89c0e14fbde01a76",
       "version_major": 2,
       "version_minor": 0
      },
      "text/plain": [
       "Transcribing:   0%|          | 0/1 [00:00<?, ?it/s]"
      ]
     },
     "metadata": {},
     "output_type": "display_data"
    },
    {
     "data": {
      "application/vnd.jupyter.widget-view+json": {
       "model_id": "6cfbb05731ae459eaaa5ae8e84c3097d",
       "version_major": 2,
       "version_minor": 0
      },
      "text/plain": [
       "Transcribing:   0%|          | 0/1 [00:00<?, ?it/s]"
      ]
     },
     "metadata": {},
     "output_type": "display_data"
    },
    {
     "data": {
      "application/vnd.jupyter.widget-view+json": {
       "model_id": "d63d4966897d43d598cb4edf540d99d9",
       "version_major": 2,
       "version_minor": 0
      },
      "text/plain": [
       "Transcribing:   0%|          | 0/1 [00:00<?, ?it/s]"
      ]
     },
     "metadata": {},
     "output_type": "display_data"
    },
    {
     "data": {
      "application/vnd.jupyter.widget-view+json": {
       "model_id": "5629ee60f23d479eaa370f8c52f1254f",
       "version_major": 2,
       "version_minor": 0
      },
      "text/plain": [
       "Transcribing:   0%|          | 0/1 [00:00<?, ?it/s]"
      ]
     },
     "metadata": {},
     "output_type": "display_data"
    },
    {
     "data": {
      "application/vnd.jupyter.widget-view+json": {
       "model_id": "78395015d27e4d85900949a2714b85f0",
       "version_major": 2,
       "version_minor": 0
      },
      "text/plain": [
       "Transcribing:   0%|          | 0/1 [00:00<?, ?it/s]"
      ]
     },
     "metadata": {},
     "output_type": "display_data"
    },
    {
     "data": {
      "application/vnd.jupyter.widget-view+json": {
       "model_id": "42310f13e9414fa0afad474a60d73366",
       "version_major": 2,
       "version_minor": 0
      },
      "text/plain": [
       "Transcribing:   0%|          | 0/1 [00:00<?, ?it/s]"
      ]
     },
     "metadata": {},
     "output_type": "display_data"
    },
    {
     "data": {
      "application/vnd.jupyter.widget-view+json": {
       "model_id": "955948be7d524f8f9558c1604ddd6c9c",
       "version_major": 2,
       "version_minor": 0
      },
      "text/plain": [
       "Transcribing:   0%|          | 0/1 [00:00<?, ?it/s]"
      ]
     },
     "metadata": {},
     "output_type": "display_data"
    },
    {
     "data": {
      "application/vnd.jupyter.widget-view+json": {
       "model_id": "231b29b621664fc9bb5cc20aa2aefee6",
       "version_major": 2,
       "version_minor": 0
      },
      "text/plain": [
       "Transcribing:   0%|          | 0/1 [00:00<?, ?it/s]"
      ]
     },
     "metadata": {},
     "output_type": "display_data"
    },
    {
     "data": {
      "application/vnd.jupyter.widget-view+json": {
       "model_id": "74a326ff2d564a84b652749b73654283",
       "version_major": 2,
       "version_minor": 0
      },
      "text/plain": [
       "Transcribing:   0%|          | 0/1 [00:00<?, ?it/s]"
      ]
     },
     "metadata": {},
     "output_type": "display_data"
    },
    {
     "data": {
      "application/vnd.jupyter.widget-view+json": {
       "model_id": "be190aceb6ca4a09ad794d8c7da4c45d",
       "version_major": 2,
       "version_minor": 0
      },
      "text/plain": [
       "Transcribing:   0%|          | 0/1 [00:00<?, ?it/s]"
      ]
     },
     "metadata": {},
     "output_type": "display_data"
    },
    {
     "data": {
      "application/vnd.jupyter.widget-view+json": {
       "model_id": "fe504257df72405fa0393a5c9536013f",
       "version_major": 2,
       "version_minor": 0
      },
      "text/plain": [
       "Transcribing:   0%|          | 0/1 [00:00<?, ?it/s]"
      ]
     },
     "metadata": {},
     "output_type": "display_data"
    },
    {
     "data": {
      "application/vnd.jupyter.widget-view+json": {
       "model_id": "c88fec7aff20483ca73e2c4d7a865be1",
       "version_major": 2,
       "version_minor": 0
      },
      "text/plain": [
       "Transcribing:   0%|          | 0/1 [00:00<?, ?it/s]"
      ]
     },
     "metadata": {},
     "output_type": "display_data"
    },
    {
     "data": {
      "application/vnd.jupyter.widget-view+json": {
       "model_id": "0c3e8089e6434c5581783b18bf9f10b5",
       "version_major": 2,
       "version_minor": 0
      },
      "text/plain": [
       "Transcribing:   0%|          | 0/1 [00:00<?, ?it/s]"
      ]
     },
     "metadata": {},
     "output_type": "display_data"
    },
    {
     "data": {
      "application/vnd.jupyter.widget-view+json": {
       "model_id": "eb193feec1ad4c84b9d8202f958776a1",
       "version_major": 2,
       "version_minor": 0
      },
      "text/plain": [
       "Transcribing:   0%|          | 0/1 [00:00<?, ?it/s]"
      ]
     },
     "metadata": {},
     "output_type": "display_data"
    },
    {
     "data": {
      "application/vnd.jupyter.widget-view+json": {
       "model_id": "932be081b04d425aaca06bc9d7a9bf1a",
       "version_major": 2,
       "version_minor": 0
      },
      "text/plain": [
       "Transcribing:   0%|          | 0/1 [00:00<?, ?it/s]"
      ]
     },
     "metadata": {},
     "output_type": "display_data"
    },
    {
     "data": {
      "application/vnd.jupyter.widget-view+json": {
       "model_id": "dde0a42119ae47078c2dac71899e5820",
       "version_major": 2,
       "version_minor": 0
      },
      "text/plain": [
       "Transcribing:   0%|          | 0/1 [00:00<?, ?it/s]"
      ]
     },
     "metadata": {},
     "output_type": "display_data"
    },
    {
     "data": {
      "application/vnd.jupyter.widget-view+json": {
       "model_id": "60802c7c955b4130bff962250562a0e1",
       "version_major": 2,
       "version_minor": 0
      },
      "text/plain": [
       "Transcribing:   0%|          | 0/1 [00:00<?, ?it/s]"
      ]
     },
     "metadata": {},
     "output_type": "display_data"
    },
    {
     "data": {
      "application/vnd.jupyter.widget-view+json": {
       "model_id": "d054ba7886354166b8d243f38b3a6268",
       "version_major": 2,
       "version_minor": 0
      },
      "text/plain": [
       "Transcribing:   0%|          | 0/1 [00:00<?, ?it/s]"
      ]
     },
     "metadata": {},
     "output_type": "display_data"
    },
    {
     "data": {
      "application/vnd.jupyter.widget-view+json": {
       "model_id": "b9c85e971db4486f8fa37562bb1fd7ac",
       "version_major": 2,
       "version_minor": 0
      },
      "text/plain": [
       "Transcribing:   0%|          | 0/1 [00:00<?, ?it/s]"
      ]
     },
     "metadata": {},
     "output_type": "display_data"
    },
    {
     "data": {
      "application/vnd.jupyter.widget-view+json": {
       "model_id": "970425d1274b45f187015002e415845c",
       "version_major": 2,
       "version_minor": 0
      },
      "text/plain": [
       "Transcribing:   0%|          | 0/1 [00:00<?, ?it/s]"
      ]
     },
     "metadata": {},
     "output_type": "display_data"
    },
    {
     "data": {
      "application/vnd.jupyter.widget-view+json": {
       "model_id": "0deea298fd544d87bd7adf3457a0abfe",
       "version_major": 2,
       "version_minor": 0
      },
      "text/plain": [
       "Transcribing:   0%|          | 0/1 [00:00<?, ?it/s]"
      ]
     },
     "metadata": {},
     "output_type": "display_data"
    },
    {
     "data": {
      "application/vnd.jupyter.widget-view+json": {
       "model_id": "144ad270d61245b4b0f6dea4794b399c",
       "version_major": 2,
       "version_minor": 0
      },
      "text/plain": [
       "Transcribing:   0%|          | 0/1 [00:00<?, ?it/s]"
      ]
     },
     "metadata": {},
     "output_type": "display_data"
    },
    {
     "data": {
      "application/vnd.jupyter.widget-view+json": {
       "model_id": "1186d8c3f39444cfa16728f63706070a",
       "version_major": 2,
       "version_minor": 0
      },
      "text/plain": [
       "Transcribing:   0%|          | 0/1 [00:00<?, ?it/s]"
      ]
     },
     "metadata": {},
     "output_type": "display_data"
    },
    {
     "data": {
      "application/vnd.jupyter.widget-view+json": {
       "model_id": "2432da4295354f0f8dce3ee5fe81a276",
       "version_major": 2,
       "version_minor": 0
      },
      "text/plain": [
       "Transcribing:   0%|          | 0/1 [00:00<?, ?it/s]"
      ]
     },
     "metadata": {},
     "output_type": "display_data"
    },
    {
     "data": {
      "application/vnd.jupyter.widget-view+json": {
       "model_id": "83eae80d43c847f9b6e7704ba5faf4e7",
       "version_major": 2,
       "version_minor": 0
      },
      "text/plain": [
       "Transcribing:   0%|          | 0/1 [00:00<?, ?it/s]"
      ]
     },
     "metadata": {},
     "output_type": "display_data"
    },
    {
     "data": {
      "application/vnd.jupyter.widget-view+json": {
       "model_id": "c1b7dec7a992499cb761db98292ad2c1",
       "version_major": 2,
       "version_minor": 0
      },
      "text/plain": [
       "Transcribing:   0%|          | 0/1 [00:00<?, ?it/s]"
      ]
     },
     "metadata": {},
     "output_type": "display_data"
    },
    {
     "data": {
      "application/vnd.jupyter.widget-view+json": {
       "model_id": "85557a37bbc24c8787a9eb2723c60a63",
       "version_major": 2,
       "version_minor": 0
      },
      "text/plain": [
       "Transcribing:   0%|          | 0/1 [00:00<?, ?it/s]"
      ]
     },
     "metadata": {},
     "output_type": "display_data"
    },
    {
     "data": {
      "application/vnd.jupyter.widget-view+json": {
       "model_id": "a6c7dbdc4f7a4120b2ebe101d5e584d8",
       "version_major": 2,
       "version_minor": 0
      },
      "text/plain": [
       "Transcribing:   0%|          | 0/1 [00:00<?, ?it/s]"
      ]
     },
     "metadata": {},
     "output_type": "display_data"
    },
    {
     "data": {
      "application/vnd.jupyter.widget-view+json": {
       "model_id": "0487344de80944cd8ec1774c4738c0a8",
       "version_major": 2,
       "version_minor": 0
      },
      "text/plain": [
       "Transcribing:   0%|          | 0/1 [00:00<?, ?it/s]"
      ]
     },
     "metadata": {},
     "output_type": "display_data"
    },
    {
     "data": {
      "application/vnd.jupyter.widget-view+json": {
       "model_id": "e0a0c99bd32e45169b31c92165471afc",
       "version_major": 2,
       "version_minor": 0
      },
      "text/plain": [
       "Transcribing:   0%|          | 0/1 [00:00<?, ?it/s]"
      ]
     },
     "metadata": {},
     "output_type": "display_data"
    },
    {
     "data": {
      "application/vnd.jupyter.widget-view+json": {
       "model_id": "7aa05d50c31443508c45b0945da27809",
       "version_major": 2,
       "version_minor": 0
      },
      "text/plain": [
       "Transcribing:   0%|          | 0/1 [00:00<?, ?it/s]"
      ]
     },
     "metadata": {},
     "output_type": "display_data"
    },
    {
     "data": {
      "application/vnd.jupyter.widget-view+json": {
       "model_id": "617f29e72da740c693ace575e9f05977",
       "version_major": 2,
       "version_minor": 0
      },
      "text/plain": [
       "Transcribing:   0%|          | 0/1 [00:00<?, ?it/s]"
      ]
     },
     "metadata": {},
     "output_type": "display_data"
    },
    {
     "data": {
      "application/vnd.jupyter.widget-view+json": {
       "model_id": "36b1fdbcb65d4b53a7484aefc289889a",
       "version_major": 2,
       "version_minor": 0
      },
      "text/plain": [
       "Transcribing:   0%|          | 0/1 [00:00<?, ?it/s]"
      ]
     },
     "metadata": {},
     "output_type": "display_data"
    },
    {
     "data": {
      "application/vnd.jupyter.widget-view+json": {
       "model_id": "3649369996ba4eef82e0746089707c12",
       "version_major": 2,
       "version_minor": 0
      },
      "text/plain": [
       "Transcribing:   0%|          | 0/1 [00:00<?, ?it/s]"
      ]
     },
     "metadata": {},
     "output_type": "display_data"
    },
    {
     "data": {
      "application/vnd.jupyter.widget-view+json": {
       "model_id": "418a56e5c5534b679a81dafbb74f70d1",
       "version_major": 2,
       "version_minor": 0
      },
      "text/plain": [
       "Transcribing:   0%|          | 0/1 [00:00<?, ?it/s]"
      ]
     },
     "metadata": {},
     "output_type": "display_data"
    },
    {
     "data": {
      "application/vnd.jupyter.widget-view+json": {
       "model_id": "8c16d44a02d74540bca8f40ae60f74dd",
       "version_major": 2,
       "version_minor": 0
      },
      "text/plain": [
       "Transcribing:   0%|          | 0/1 [00:00<?, ?it/s]"
      ]
     },
     "metadata": {},
     "output_type": "display_data"
    },
    {
     "data": {
      "application/vnd.jupyter.widget-view+json": {
       "model_id": "c6762389a837438ebc0c78406cce8df7",
       "version_major": 2,
       "version_minor": 0
      },
      "text/plain": [
       "Transcribing:   0%|          | 0/1 [00:00<?, ?it/s]"
      ]
     },
     "metadata": {},
     "output_type": "display_data"
    },
    {
     "data": {
      "application/vnd.jupyter.widget-view+json": {
       "model_id": "f4f026f434e24349aeb784d3ad6b6762",
       "version_major": 2,
       "version_minor": 0
      },
      "text/plain": [
       "Transcribing:   0%|          | 0/1 [00:00<?, ?it/s]"
      ]
     },
     "metadata": {},
     "output_type": "display_data"
    },
    {
     "data": {
      "application/vnd.jupyter.widget-view+json": {
       "model_id": "3c1ace83e65540e1852fd8e4ac690beb",
       "version_major": 2,
       "version_minor": 0
      },
      "text/plain": [
       "Transcribing:   0%|          | 0/1 [00:00<?, ?it/s]"
      ]
     },
     "metadata": {},
     "output_type": "display_data"
    },
    {
     "data": {
      "application/vnd.jupyter.widget-view+json": {
       "model_id": "98e7e3ef8fd54a5db565f50e15e32a86",
       "version_major": 2,
       "version_minor": 0
      },
      "text/plain": [
       "Transcribing:   0%|          | 0/1 [00:00<?, ?it/s]"
      ]
     },
     "metadata": {},
     "output_type": "display_data"
    },
    {
     "data": {
      "application/vnd.jupyter.widget-view+json": {
       "model_id": "9fd3fbe7bc9a4ea6867d17aa60e07ec4",
       "version_major": 2,
       "version_minor": 0
      },
      "text/plain": [
       "Transcribing:   0%|          | 0/1 [00:00<?, ?it/s]"
      ]
     },
     "metadata": {},
     "output_type": "display_data"
    },
    {
     "data": {
      "application/vnd.jupyter.widget-view+json": {
       "model_id": "df164b1e01f8471f97df61a9c2a7455a",
       "version_major": 2,
       "version_minor": 0
      },
      "text/plain": [
       "Transcribing:   0%|          | 0/1 [00:00<?, ?it/s]"
      ]
     },
     "metadata": {},
     "output_type": "display_data"
    },
    {
     "data": {
      "application/vnd.jupyter.widget-view+json": {
       "model_id": "ae6a2198b8244cd8ada3efa4e7e9cc34",
       "version_major": 2,
       "version_minor": 0
      },
      "text/plain": [
       "Transcribing:   0%|          | 0/1 [00:00<?, ?it/s]"
      ]
     },
     "metadata": {},
     "output_type": "display_data"
    },
    {
     "data": {
      "application/vnd.jupyter.widget-view+json": {
       "model_id": "ce97b5250c534979a586effbafa31355",
       "version_major": 2,
       "version_minor": 0
      },
      "text/plain": [
       "Transcribing:   0%|          | 0/1 [00:00<?, ?it/s]"
      ]
     },
     "metadata": {},
     "output_type": "display_data"
    },
    {
     "data": {
      "application/vnd.jupyter.widget-view+json": {
       "model_id": "1397bfc337244b50922760086112cc24",
       "version_major": 2,
       "version_minor": 0
      },
      "text/plain": [
       "Transcribing:   0%|          | 0/1 [00:00<?, ?it/s]"
      ]
     },
     "metadata": {},
     "output_type": "display_data"
    },
    {
     "data": {
      "application/vnd.jupyter.widget-view+json": {
       "model_id": "87cb23f119614f69baa2ef9144179e78",
       "version_major": 2,
       "version_minor": 0
      },
      "text/plain": [
       "Transcribing:   0%|          | 0/1 [00:00<?, ?it/s]"
      ]
     },
     "metadata": {},
     "output_type": "display_data"
    },
    {
     "data": {
      "application/vnd.jupyter.widget-view+json": {
       "model_id": "5626b2d04a3f4b419ce2bb719110514f",
       "version_major": 2,
       "version_minor": 0
      },
      "text/plain": [
       "Transcribing:   0%|          | 0/1 [00:00<?, ?it/s]"
      ]
     },
     "metadata": {},
     "output_type": "display_data"
    },
    {
     "data": {
      "application/vnd.jupyter.widget-view+json": {
       "model_id": "e20d729ac9b344c8b8027551092e2348",
       "version_major": 2,
       "version_minor": 0
      },
      "text/plain": [
       "Transcribing:   0%|          | 0/1 [00:00<?, ?it/s]"
      ]
     },
     "metadata": {},
     "output_type": "display_data"
    },
    {
     "data": {
      "application/vnd.jupyter.widget-view+json": {
       "model_id": "67e5da762351437ead0b8bd11abe9b0f",
       "version_major": 2,
       "version_minor": 0
      },
      "text/plain": [
       "Transcribing:   0%|          | 0/1 [00:00<?, ?it/s]"
      ]
     },
     "metadata": {},
     "output_type": "display_data"
    },
    {
     "data": {
      "application/vnd.jupyter.widget-view+json": {
       "model_id": "f6869fd13baa40c7a29c6782c79b7f0d",
       "version_major": 2,
       "version_minor": 0
      },
      "text/plain": [
       "Transcribing:   0%|          | 0/1 [00:00<?, ?it/s]"
      ]
     },
     "metadata": {},
     "output_type": "display_data"
    },
    {
     "data": {
      "application/vnd.jupyter.widget-view+json": {
       "model_id": "512b22fee112457d99d83433a527f510",
       "version_major": 2,
       "version_minor": 0
      },
      "text/plain": [
       "Transcribing:   0%|          | 0/1 [00:00<?, ?it/s]"
      ]
     },
     "metadata": {},
     "output_type": "display_data"
    },
    {
     "data": {
      "application/vnd.jupyter.widget-view+json": {
       "model_id": "2e80014ad40a4c399711752ca8abe64f",
       "version_major": 2,
       "version_minor": 0
      },
      "text/plain": [
       "Transcribing:   0%|          | 0/1 [00:00<?, ?it/s]"
      ]
     },
     "metadata": {},
     "output_type": "display_data"
    },
    {
     "data": {
      "application/vnd.jupyter.widget-view+json": {
       "model_id": "a1e89bfc20da48c7b5133f9b9d5e1dcb",
       "version_major": 2,
       "version_minor": 0
      },
      "text/plain": [
       "Transcribing:   0%|          | 0/1 [00:00<?, ?it/s]"
      ]
     },
     "metadata": {},
     "output_type": "display_data"
    },
    {
     "data": {
      "application/vnd.jupyter.widget-view+json": {
       "model_id": "c7a026f373ee42ba96a7b645e184c0f3",
       "version_major": 2,
       "version_minor": 0
      },
      "text/plain": [
       "Transcribing:   0%|          | 0/1 [00:00<?, ?it/s]"
      ]
     },
     "metadata": {},
     "output_type": "display_data"
    },
    {
     "data": {
      "application/vnd.jupyter.widget-view+json": {
       "model_id": "16384eb1216048b698169f456b4b855a",
       "version_major": 2,
       "version_minor": 0
      },
      "text/plain": [
       "Transcribing:   0%|          | 0/1 [00:00<?, ?it/s]"
      ]
     },
     "metadata": {},
     "output_type": "display_data"
    },
    {
     "data": {
      "application/vnd.jupyter.widget-view+json": {
       "model_id": "f6a6ef62662947d0bc346fcb7e2c07d0",
       "version_major": 2,
       "version_minor": 0
      },
      "text/plain": [
       "Transcribing:   0%|          | 0/1 [00:00<?, ?it/s]"
      ]
     },
     "metadata": {},
     "output_type": "display_data"
    },
    {
     "data": {
      "application/vnd.jupyter.widget-view+json": {
       "model_id": "9cf9caec51f0450cb73969fe51565866",
       "version_major": 2,
       "version_minor": 0
      },
      "text/plain": [
       "Transcribing:   0%|          | 0/1 [00:00<?, ?it/s]"
      ]
     },
     "metadata": {},
     "output_type": "display_data"
    },
    {
     "data": {
      "application/vnd.jupyter.widget-view+json": {
       "model_id": "837b1cf5a7c1469fb8d4e5141ab1676e",
       "version_major": 2,
       "version_minor": 0
      },
      "text/plain": [
       "Transcribing:   0%|          | 0/1 [00:00<?, ?it/s]"
      ]
     },
     "metadata": {},
     "output_type": "display_data"
    },
    {
     "data": {
      "application/vnd.jupyter.widget-view+json": {
       "model_id": "cb70f7ab9ba5434ea1688af3503dfebb",
       "version_major": 2,
       "version_minor": 0
      },
      "text/plain": [
       "Transcribing:   0%|          | 0/1 [00:00<?, ?it/s]"
      ]
     },
     "metadata": {},
     "output_type": "display_data"
    },
    {
     "data": {
      "application/vnd.jupyter.widget-view+json": {
       "model_id": "2729babe97ba4353b74c52fd46ae5fb9",
       "version_major": 2,
       "version_minor": 0
      },
      "text/plain": [
       "Transcribing:   0%|          | 0/1 [00:00<?, ?it/s]"
      ]
     },
     "metadata": {},
     "output_type": "display_data"
    },
    {
     "data": {
      "application/vnd.jupyter.widget-view+json": {
       "model_id": "ff46fc7c1bdf4996a355db7fe0d67b50",
       "version_major": 2,
       "version_minor": 0
      },
      "text/plain": [
       "Transcribing:   0%|          | 0/1 [00:00<?, ?it/s]"
      ]
     },
     "metadata": {},
     "output_type": "display_data"
    },
    {
     "data": {
      "application/vnd.jupyter.widget-view+json": {
       "model_id": "323d242947464255b94f5fa2b1844aa4",
       "version_major": 2,
       "version_minor": 0
      },
      "text/plain": [
       "Transcribing:   0%|          | 0/1 [00:00<?, ?it/s]"
      ]
     },
     "metadata": {},
     "output_type": "display_data"
    },
    {
     "data": {
      "application/vnd.jupyter.widget-view+json": {
       "model_id": "d34b5eb9805f41ceb19364c4c29f537c",
       "version_major": 2,
       "version_minor": 0
      },
      "text/plain": [
       "Transcribing:   0%|          | 0/1 [00:00<?, ?it/s]"
      ]
     },
     "metadata": {},
     "output_type": "display_data"
    },
    {
     "data": {
      "application/vnd.jupyter.widget-view+json": {
       "model_id": "92566575ce884f5db044bd41a9340610",
       "version_major": 2,
       "version_minor": 0
      },
      "text/plain": [
       "Transcribing:   0%|          | 0/1 [00:00<?, ?it/s]"
      ]
     },
     "metadata": {},
     "output_type": "display_data"
    },
    {
     "data": {
      "application/vnd.jupyter.widget-view+json": {
       "model_id": "06873f8dd49b4fa580679badba8f5bbc",
       "version_major": 2,
       "version_minor": 0
      },
      "text/plain": [
       "Transcribing:   0%|          | 0/1 [00:00<?, ?it/s]"
      ]
     },
     "metadata": {},
     "output_type": "display_data"
    },
    {
     "data": {
      "application/vnd.jupyter.widget-view+json": {
       "model_id": "bb9ae50ccc3d4219abfda99a40b595c6",
       "version_major": 2,
       "version_minor": 0
      },
      "text/plain": [
       "Transcribing:   0%|          | 0/1 [00:00<?, ?it/s]"
      ]
     },
     "metadata": {},
     "output_type": "display_data"
    },
    {
     "data": {
      "application/vnd.jupyter.widget-view+json": {
       "model_id": "9b653f6ad33e44949d41ddee63007ed2",
       "version_major": 2,
       "version_minor": 0
      },
      "text/plain": [
       "Transcribing:   0%|          | 0/1 [00:00<?, ?it/s]"
      ]
     },
     "metadata": {},
     "output_type": "display_data"
    },
    {
     "data": {
      "application/vnd.jupyter.widget-view+json": {
       "model_id": "ff04a94888344e8daadbfe9fdbabe8cc",
       "version_major": 2,
       "version_minor": 0
      },
      "text/plain": [
       "Transcribing:   0%|          | 0/1 [00:00<?, ?it/s]"
      ]
     },
     "metadata": {},
     "output_type": "display_data"
    },
    {
     "data": {
      "application/vnd.jupyter.widget-view+json": {
       "model_id": "db62664c217c422b9bdafc39af830dd6",
       "version_major": 2,
       "version_minor": 0
      },
      "text/plain": [
       "Transcribing:   0%|          | 0/1 [00:00<?, ?it/s]"
      ]
     },
     "metadata": {},
     "output_type": "display_data"
    },
    {
     "data": {
      "application/vnd.jupyter.widget-view+json": {
       "model_id": "63397c3066ec488abec2e0a73c530e57",
       "version_major": 2,
       "version_minor": 0
      },
      "text/plain": [
       "Transcribing:   0%|          | 0/1 [00:00<?, ?it/s]"
      ]
     },
     "metadata": {},
     "output_type": "display_data"
    },
    {
     "data": {
      "application/vnd.jupyter.widget-view+json": {
       "model_id": "b1befae4049540028f7f096bb81afa12",
       "version_major": 2,
       "version_minor": 0
      },
      "text/plain": [
       "Transcribing:   0%|          | 0/1 [00:00<?, ?it/s]"
      ]
     },
     "metadata": {},
     "output_type": "display_data"
    },
    {
     "data": {
      "application/vnd.jupyter.widget-view+json": {
       "model_id": "c49006f3504148b0b05c9c248d11b80f",
       "version_major": 2,
       "version_minor": 0
      },
      "text/plain": [
       "Transcribing:   0%|          | 0/1 [00:00<?, ?it/s]"
      ]
     },
     "metadata": {},
     "output_type": "display_data"
    },
    {
     "data": {
      "application/vnd.jupyter.widget-view+json": {
       "model_id": "01a4ccec1e8341afae126c62f4e8c976",
       "version_major": 2,
       "version_minor": 0
      },
      "text/plain": [
       "Transcribing:   0%|          | 0/1 [00:00<?, ?it/s]"
      ]
     },
     "metadata": {},
     "output_type": "display_data"
    },
    {
     "data": {
      "application/vnd.jupyter.widget-view+json": {
       "model_id": "bbf9f7d8e86e429ab0e80973992b74a0",
       "version_major": 2,
       "version_minor": 0
      },
      "text/plain": [
       "Transcribing:   0%|          | 0/1 [00:00<?, ?it/s]"
      ]
     },
     "metadata": {},
     "output_type": "display_data"
    },
    {
     "data": {
      "application/vnd.jupyter.widget-view+json": {
       "model_id": "4f2e762b3506494490eb1ba2e9e940b1",
       "version_major": 2,
       "version_minor": 0
      },
      "text/plain": [
       "Transcribing:   0%|          | 0/1 [00:00<?, ?it/s]"
      ]
     },
     "metadata": {},
     "output_type": "display_data"
    },
    {
     "data": {
      "application/vnd.jupyter.widget-view+json": {
       "model_id": "6fce894ca92748139e59a40e6d51cb44",
       "version_major": 2,
       "version_minor": 0
      },
      "text/plain": [
       "Transcribing:   0%|          | 0/1 [00:00<?, ?it/s]"
      ]
     },
     "metadata": {},
     "output_type": "display_data"
    },
    {
     "data": {
      "application/vnd.jupyter.widget-view+json": {
       "model_id": "27f6892057574f6abe5100a1a51b9839",
       "version_major": 2,
       "version_minor": 0
      },
      "text/plain": [
       "Transcribing:   0%|          | 0/1 [00:00<?, ?it/s]"
      ]
     },
     "metadata": {},
     "output_type": "display_data"
    },
    {
     "data": {
      "application/vnd.jupyter.widget-view+json": {
       "model_id": "f413faa2f7ae43c4ae286da062fdb455",
       "version_major": 2,
       "version_minor": 0
      },
      "text/plain": [
       "Transcribing:   0%|          | 0/1 [00:00<?, ?it/s]"
      ]
     },
     "metadata": {},
     "output_type": "display_data"
    },
    {
     "data": {
      "application/vnd.jupyter.widget-view+json": {
       "model_id": "59519c9d0e2a4404b2d38f21980a154a",
       "version_major": 2,
       "version_minor": 0
      },
      "text/plain": [
       "Transcribing:   0%|          | 0/1 [00:00<?, ?it/s]"
      ]
     },
     "metadata": {},
     "output_type": "display_data"
    },
    {
     "data": {
      "application/vnd.jupyter.widget-view+json": {
       "model_id": "b08b18f7a4fb49ddada4f1ec092abaf8",
       "version_major": 2,
       "version_minor": 0
      },
      "text/plain": [
       "Transcribing:   0%|          | 0/1 [00:00<?, ?it/s]"
      ]
     },
     "metadata": {},
     "output_type": "display_data"
    },
    {
     "data": {
      "application/vnd.jupyter.widget-view+json": {
       "model_id": "2f0d2e272c214e7bbe4dad7841358eb6",
       "version_major": 2,
       "version_minor": 0
      },
      "text/plain": [
       "Transcribing:   0%|          | 0/1 [00:00<?, ?it/s]"
      ]
     },
     "metadata": {},
     "output_type": "display_data"
    },
    {
     "data": {
      "application/vnd.jupyter.widget-view+json": {
       "model_id": "8d290a4cdea44a6aa7fec90cf70185cb",
       "version_major": 2,
       "version_minor": 0
      },
      "text/plain": [
       "Transcribing:   0%|          | 0/1 [00:00<?, ?it/s]"
      ]
     },
     "metadata": {},
     "output_type": "display_data"
    },
    {
     "data": {
      "application/vnd.jupyter.widget-view+json": {
       "model_id": "7479057830fc440d8be9136e2609faeb",
       "version_major": 2,
       "version_minor": 0
      },
      "text/plain": [
       "Transcribing:   0%|          | 0/1 [00:00<?, ?it/s]"
      ]
     },
     "metadata": {},
     "output_type": "display_data"
    },
    {
     "data": {
      "application/vnd.jupyter.widget-view+json": {
       "model_id": "1652b3c0636340a199a09c614d7aaafb",
       "version_major": 2,
       "version_minor": 0
      },
      "text/plain": [
       "Transcribing:   0%|          | 0/1 [00:00<?, ?it/s]"
      ]
     },
     "metadata": {},
     "output_type": "display_data"
    },
    {
     "data": {
      "application/vnd.jupyter.widget-view+json": {
       "model_id": "54819301cd384e238aa1a20451d5bea0",
       "version_major": 2,
       "version_minor": 0
      },
      "text/plain": [
       "Transcribing:   0%|          | 0/1 [00:00<?, ?it/s]"
      ]
     },
     "metadata": {},
     "output_type": "display_data"
    },
    {
     "data": {
      "application/vnd.jupyter.widget-view+json": {
       "model_id": "35a59b3a52874cf98dc3092dac137a34",
       "version_major": 2,
       "version_minor": 0
      },
      "text/plain": [
       "Transcribing:   0%|          | 0/1 [00:00<?, ?it/s]"
      ]
     },
     "metadata": {},
     "output_type": "display_data"
    },
    {
     "data": {
      "application/vnd.jupyter.widget-view+json": {
       "model_id": "3a4bd02b490a4bfda83b972b614bcbc2",
       "version_major": 2,
       "version_minor": 0
      },
      "text/plain": [
       "Transcribing:   0%|          | 0/1 [00:00<?, ?it/s]"
      ]
     },
     "metadata": {},
     "output_type": "display_data"
    },
    {
     "data": {
      "application/vnd.jupyter.widget-view+json": {
       "model_id": "b383455e032e48ac853cfc278a7f5091",
       "version_major": 2,
       "version_minor": 0
      },
      "text/plain": [
       "Transcribing:   0%|          | 0/1 [00:00<?, ?it/s]"
      ]
     },
     "metadata": {},
     "output_type": "display_data"
    },
    {
     "data": {
      "application/vnd.jupyter.widget-view+json": {
       "model_id": "4f0da9a8daef4ddfbfd562830932452c",
       "version_major": 2,
       "version_minor": 0
      },
      "text/plain": [
       "Transcribing:   0%|          | 0/1 [00:00<?, ?it/s]"
      ]
     },
     "metadata": {},
     "output_type": "display_data"
    },
    {
     "data": {
      "application/vnd.jupyter.widget-view+json": {
       "model_id": "3943ce7c61034c99b314139dcf209259",
       "version_major": 2,
       "version_minor": 0
      },
      "text/plain": [
       "Transcribing:   0%|          | 0/1 [00:00<?, ?it/s]"
      ]
     },
     "metadata": {},
     "output_type": "display_data"
    },
    {
     "data": {
      "application/vnd.jupyter.widget-view+json": {
       "model_id": "ce686555575f45738a55f2abe117b1d7",
       "version_major": 2,
       "version_minor": 0
      },
      "text/plain": [
       "Transcribing:   0%|          | 0/1 [00:00<?, ?it/s]"
      ]
     },
     "metadata": {},
     "output_type": "display_data"
    },
    {
     "data": {
      "application/vnd.jupyter.widget-view+json": {
       "model_id": "15808e596f9b4204ad141d2e187d4af9",
       "version_major": 2,
       "version_minor": 0
      },
      "text/plain": [
       "Transcribing:   0%|          | 0/1 [00:00<?, ?it/s]"
      ]
     },
     "metadata": {},
     "output_type": "display_data"
    },
    {
     "data": {
      "application/vnd.jupyter.widget-view+json": {
       "model_id": "a58f5e56553f40ec9f818f1313a2e032",
       "version_major": 2,
       "version_minor": 0
      },
      "text/plain": [
       "Transcribing:   0%|          | 0/1 [00:00<?, ?it/s]"
      ]
     },
     "metadata": {},
     "output_type": "display_data"
    },
    {
     "data": {
      "application/vnd.jupyter.widget-view+json": {
       "model_id": "60d3412cb3e44ceebb250da23ae9fa4a",
       "version_major": 2,
       "version_minor": 0
      },
      "text/plain": [
       "Transcribing:   0%|          | 0/1 [00:00<?, ?it/s]"
      ]
     },
     "metadata": {},
     "output_type": "display_data"
    },
    {
     "data": {
      "application/vnd.jupyter.widget-view+json": {
       "model_id": "2519d3595afc43e181227c835fdb83e5",
       "version_major": 2,
       "version_minor": 0
      },
      "text/plain": [
       "Transcribing:   0%|          | 0/1 [00:00<?, ?it/s]"
      ]
     },
     "metadata": {},
     "output_type": "display_data"
    },
    {
     "data": {
      "application/vnd.jupyter.widget-view+json": {
       "model_id": "cd6def5fabe84d8c8361ffc02a132a74",
       "version_major": 2,
       "version_minor": 0
      },
      "text/plain": [
       "Transcribing:   0%|          | 0/1 [00:00<?, ?it/s]"
      ]
     },
     "metadata": {},
     "output_type": "display_data"
    },
    {
     "data": {
      "application/vnd.jupyter.widget-view+json": {
       "model_id": "f0e51870b73c4b19a481a389770a75b1",
       "version_major": 2,
       "version_minor": 0
      },
      "text/plain": [
       "Transcribing:   0%|          | 0/1 [00:00<?, ?it/s]"
      ]
     },
     "metadata": {},
     "output_type": "display_data"
    },
    {
     "data": {
      "application/vnd.jupyter.widget-view+json": {
       "model_id": "6cddd60f68b94bff90d86ec211b18d76",
       "version_major": 2,
       "version_minor": 0
      },
      "text/plain": [
       "Transcribing:   0%|          | 0/1 [00:00<?, ?it/s]"
      ]
     },
     "metadata": {},
     "output_type": "display_data"
    },
    {
     "data": {
      "application/vnd.jupyter.widget-view+json": {
       "model_id": "8aedfdb8c57e4dbfafe25e8c01a6a373",
       "version_major": 2,
       "version_minor": 0
      },
      "text/plain": [
       "Transcribing:   0%|          | 0/1 [00:00<?, ?it/s]"
      ]
     },
     "metadata": {},
     "output_type": "display_data"
    },
    {
     "data": {
      "application/vnd.jupyter.widget-view+json": {
       "model_id": "3d6583ff4d35426ab93ec06298c0eebd",
       "version_major": 2,
       "version_minor": 0
      },
      "text/plain": [
       "Transcribing:   0%|          | 0/1 [00:00<?, ?it/s]"
      ]
     },
     "metadata": {},
     "output_type": "display_data"
    },
    {
     "data": {
      "application/vnd.jupyter.widget-view+json": {
       "model_id": "87ea57ad267f485bae22faa25bbc212c",
       "version_major": 2,
       "version_minor": 0
      },
      "text/plain": [
       "Transcribing:   0%|          | 0/1 [00:00<?, ?it/s]"
      ]
     },
     "metadata": {},
     "output_type": "display_data"
    },
    {
     "data": {
      "application/vnd.jupyter.widget-view+json": {
       "model_id": "abac89cbc41641a7a4d99b7c2907d9cb",
       "version_major": 2,
       "version_minor": 0
      },
      "text/plain": [
       "Transcribing:   0%|          | 0/1 [00:00<?, ?it/s]"
      ]
     },
     "metadata": {},
     "output_type": "display_data"
    },
    {
     "data": {
      "application/vnd.jupyter.widget-view+json": {
       "model_id": "2f121594cf2c4de192fbc093e6dcb8ef",
       "version_major": 2,
       "version_minor": 0
      },
      "text/plain": [
       "Transcribing:   0%|          | 0/1 [00:00<?, ?it/s]"
      ]
     },
     "metadata": {},
     "output_type": "display_data"
    },
    {
     "data": {
      "application/vnd.jupyter.widget-view+json": {
       "model_id": "416ded49ea43471590a3e5b9e2f604af",
       "version_major": 2,
       "version_minor": 0
      },
      "text/plain": [
       "Transcribing:   0%|          | 0/1 [00:00<?, ?it/s]"
      ]
     },
     "metadata": {},
     "output_type": "display_data"
    },
    {
     "data": {
      "application/vnd.jupyter.widget-view+json": {
       "model_id": "64a0619d2cb64cd29477372398c1d1af",
       "version_major": 2,
       "version_minor": 0
      },
      "text/plain": [
       "Transcribing:   0%|          | 0/1 [00:00<?, ?it/s]"
      ]
     },
     "metadata": {},
     "output_type": "display_data"
    },
    {
     "data": {
      "application/vnd.jupyter.widget-view+json": {
       "model_id": "52f7da0382ef4245a2817323ece965dc",
       "version_major": 2,
       "version_minor": 0
      },
      "text/plain": [
       "Transcribing:   0%|          | 0/1 [00:00<?, ?it/s]"
      ]
     },
     "metadata": {},
     "output_type": "display_data"
    },
    {
     "data": {
      "application/vnd.jupyter.widget-view+json": {
       "model_id": "6d89401a76c3437f9d410255f7416a8f",
       "version_major": 2,
       "version_minor": 0
      },
      "text/plain": [
       "Transcribing:   0%|          | 0/1 [00:00<?, ?it/s]"
      ]
     },
     "metadata": {},
     "output_type": "display_data"
    },
    {
     "data": {
      "application/vnd.jupyter.widget-view+json": {
       "model_id": "962f69ef4bf14cc58a4f563334e21b41",
       "version_major": 2,
       "version_minor": 0
      },
      "text/plain": [
       "Transcribing:   0%|          | 0/1 [00:00<?, ?it/s]"
      ]
     },
     "metadata": {},
     "output_type": "display_data"
    },
    {
     "data": {
      "application/vnd.jupyter.widget-view+json": {
       "model_id": "e176e49d276c419aba11d3e3f283d383",
       "version_major": 2,
       "version_minor": 0
      },
      "text/plain": [
       "Transcribing:   0%|          | 0/1 [00:00<?, ?it/s]"
      ]
     },
     "metadata": {},
     "output_type": "display_data"
    },
    {
     "data": {
      "application/vnd.jupyter.widget-view+json": {
       "model_id": "04d6910f9b544cc8b418422cdd866a4f",
       "version_major": 2,
       "version_minor": 0
      },
      "text/plain": [
       "Transcribing:   0%|          | 0/1 [00:00<?, ?it/s]"
      ]
     },
     "metadata": {},
     "output_type": "display_data"
    },
    {
     "data": {
      "application/vnd.jupyter.widget-view+json": {
       "model_id": "497fde12507f46bdabf26fb27741430b",
       "version_major": 2,
       "version_minor": 0
      },
      "text/plain": [
       "Transcribing:   0%|          | 0/1 [00:00<?, ?it/s]"
      ]
     },
     "metadata": {},
     "output_type": "display_data"
    },
    {
     "data": {
      "application/vnd.jupyter.widget-view+json": {
       "model_id": "92bf9a648bc844bb92db7bea46091f0d",
       "version_major": 2,
       "version_minor": 0
      },
      "text/plain": [
       "Transcribing:   0%|          | 0/1 [00:00<?, ?it/s]"
      ]
     },
     "metadata": {},
     "output_type": "display_data"
    },
    {
     "data": {
      "application/vnd.jupyter.widget-view+json": {
       "model_id": "2aa2636b460d4cbab3737875d2b0be13",
       "version_major": 2,
       "version_minor": 0
      },
      "text/plain": [
       "Transcribing:   0%|          | 0/1 [00:00<?, ?it/s]"
      ]
     },
     "metadata": {},
     "output_type": "display_data"
    },
    {
     "data": {
      "application/vnd.jupyter.widget-view+json": {
       "model_id": "5720c89617a644919c503c90577d850c",
       "version_major": 2,
       "version_minor": 0
      },
      "text/plain": [
       "Transcribing:   0%|          | 0/1 [00:00<?, ?it/s]"
      ]
     },
     "metadata": {},
     "output_type": "display_data"
    },
    {
     "data": {
      "application/vnd.jupyter.widget-view+json": {
       "model_id": "a01901c5b1524f6f9f74f75b73b9e3ae",
       "version_major": 2,
       "version_minor": 0
      },
      "text/plain": [
       "Transcribing:   0%|          | 0/1 [00:00<?, ?it/s]"
      ]
     },
     "metadata": {},
     "output_type": "display_data"
    },
    {
     "data": {
      "application/vnd.jupyter.widget-view+json": {
       "model_id": "0ddee356451345838e9e2875ba979cf8",
       "version_major": 2,
       "version_minor": 0
      },
      "text/plain": [
       "Transcribing:   0%|          | 0/1 [00:00<?, ?it/s]"
      ]
     },
     "metadata": {},
     "output_type": "display_data"
    },
    {
     "data": {
      "application/vnd.jupyter.widget-view+json": {
       "model_id": "b1ad9bd19809467fba894e4719e0ed8f",
       "version_major": 2,
       "version_minor": 0
      },
      "text/plain": [
       "Transcribing:   0%|          | 0/1 [00:00<?, ?it/s]"
      ]
     },
     "metadata": {},
     "output_type": "display_data"
    },
    {
     "data": {
      "application/vnd.jupyter.widget-view+json": {
       "model_id": "817b243edd6a4eb089b9e2b1232e94be",
       "version_major": 2,
       "version_minor": 0
      },
      "text/plain": [
       "Transcribing:   0%|          | 0/1 [00:00<?, ?it/s]"
      ]
     },
     "metadata": {},
     "output_type": "display_data"
    },
    {
     "data": {
      "application/vnd.jupyter.widget-view+json": {
       "model_id": "2b5619156b744d0c8e15189b736663a7",
       "version_major": 2,
       "version_minor": 0
      },
      "text/plain": [
       "Transcribing:   0%|          | 0/1 [00:00<?, ?it/s]"
      ]
     },
     "metadata": {},
     "output_type": "display_data"
    },
    {
     "data": {
      "application/vnd.jupyter.widget-view+json": {
       "model_id": "5da8e2f976dd43c0ac15dc6b9230350c",
       "version_major": 2,
       "version_minor": 0
      },
      "text/plain": [
       "Transcribing:   0%|          | 0/1 [00:00<?, ?it/s]"
      ]
     },
     "metadata": {},
     "output_type": "display_data"
    },
    {
     "data": {
      "application/vnd.jupyter.widget-view+json": {
       "model_id": "2e91956e6de4452ab89950b1036f18b6",
       "version_major": 2,
       "version_minor": 0
      },
      "text/plain": [
       "Transcribing:   0%|          | 0/1 [00:00<?, ?it/s]"
      ]
     },
     "metadata": {},
     "output_type": "display_data"
    },
    {
     "data": {
      "application/vnd.jupyter.widget-view+json": {
       "model_id": "f1ed37d9239d4de6ac48b0ec3e5b7f1b",
       "version_major": 2,
       "version_minor": 0
      },
      "text/plain": [
       "Transcribing:   0%|          | 0/1 [00:00<?, ?it/s]"
      ]
     },
     "metadata": {},
     "output_type": "display_data"
    },
    {
     "data": {
      "application/vnd.jupyter.widget-view+json": {
       "model_id": "edd0e2532d5647a59640715e8345c92c",
       "version_major": 2,
       "version_minor": 0
      },
      "text/plain": [
       "Transcribing:   0%|          | 0/1 [00:00<?, ?it/s]"
      ]
     },
     "metadata": {},
     "output_type": "display_data"
    },
    {
     "data": {
      "application/vnd.jupyter.widget-view+json": {
       "model_id": "3505753af0504c2e8610c02d398bce6a",
       "version_major": 2,
       "version_minor": 0
      },
      "text/plain": [
       "Transcribing:   0%|          | 0/1 [00:00<?, ?it/s]"
      ]
     },
     "metadata": {},
     "output_type": "display_data"
    },
    {
     "data": {
      "application/vnd.jupyter.widget-view+json": {
       "model_id": "9b8e24b025fd4be89c672f97f1baaff6",
       "version_major": 2,
       "version_minor": 0
      },
      "text/plain": [
       "Transcribing:   0%|          | 0/1 [00:00<?, ?it/s]"
      ]
     },
     "metadata": {},
     "output_type": "display_data"
    },
    {
     "data": {
      "application/vnd.jupyter.widget-view+json": {
       "model_id": "8835ca817aff4b8bb05d7c96d2ddef59",
       "version_major": 2,
       "version_minor": 0
      },
      "text/plain": [
       "Transcribing:   0%|          | 0/1 [00:00<?, ?it/s]"
      ]
     },
     "metadata": {},
     "output_type": "display_data"
    },
    {
     "data": {
      "application/vnd.jupyter.widget-view+json": {
       "model_id": "9f6cccf4cdad449e8ae240af5dd28f27",
       "version_major": 2,
       "version_minor": 0
      },
      "text/plain": [
       "Transcribing:   0%|          | 0/1 [00:00<?, ?it/s]"
      ]
     },
     "metadata": {},
     "output_type": "display_data"
    },
    {
     "data": {
      "application/vnd.jupyter.widget-view+json": {
       "model_id": "d0684c35097b4b6cb2d1b89bd9084f05",
       "version_major": 2,
       "version_minor": 0
      },
      "text/plain": [
       "Transcribing:   0%|          | 0/1 [00:00<?, ?it/s]"
      ]
     },
     "metadata": {},
     "output_type": "display_data"
    },
    {
     "data": {
      "application/vnd.jupyter.widget-view+json": {
       "model_id": "cc9794813522486c9dac910ddb333635",
       "version_major": 2,
       "version_minor": 0
      },
      "text/plain": [
       "Transcribing:   0%|          | 0/1 [00:00<?, ?it/s]"
      ]
     },
     "metadata": {},
     "output_type": "display_data"
    },
    {
     "data": {
      "application/vnd.jupyter.widget-view+json": {
       "model_id": "255b22ca1ecd40988a0678d0c9019c66",
       "version_major": 2,
       "version_minor": 0
      },
      "text/plain": [
       "Transcribing:   0%|          | 0/1 [00:00<?, ?it/s]"
      ]
     },
     "metadata": {},
     "output_type": "display_data"
    },
    {
     "data": {
      "application/vnd.jupyter.widget-view+json": {
       "model_id": "57842671d08347fb8e78b27bc6f9a5b9",
       "version_major": 2,
       "version_minor": 0
      },
      "text/plain": [
       "Transcribing:   0%|          | 0/1 [00:00<?, ?it/s]"
      ]
     },
     "metadata": {},
     "output_type": "display_data"
    },
    {
     "data": {
      "application/vnd.jupyter.widget-view+json": {
       "model_id": "6fcb6df99ed44a5b8335ae7274e94c40",
       "version_major": 2,
       "version_minor": 0
      },
      "text/plain": [
       "Transcribing:   0%|          | 0/1 [00:00<?, ?it/s]"
      ]
     },
     "metadata": {},
     "output_type": "display_data"
    },
    {
     "data": {
      "application/vnd.jupyter.widget-view+json": {
       "model_id": "a1ee5f7b46674c8ab94a1daa9e2b6923",
       "version_major": 2,
       "version_minor": 0
      },
      "text/plain": [
       "Transcribing:   0%|          | 0/1 [00:00<?, ?it/s]"
      ]
     },
     "metadata": {},
     "output_type": "display_data"
    },
    {
     "data": {
      "application/vnd.jupyter.widget-view+json": {
       "model_id": "9f96e837e8af4eb3ab8e9f2ffae25c90",
       "version_major": 2,
       "version_minor": 0
      },
      "text/plain": [
       "Transcribing:   0%|          | 0/1 [00:00<?, ?it/s]"
      ]
     },
     "metadata": {},
     "output_type": "display_data"
    },
    {
     "data": {
      "application/vnd.jupyter.widget-view+json": {
       "model_id": "e162b03d152f41708d4f680853c6f66a",
       "version_major": 2,
       "version_minor": 0
      },
      "text/plain": [
       "Transcribing:   0%|          | 0/1 [00:00<?, ?it/s]"
      ]
     },
     "metadata": {},
     "output_type": "display_data"
    },
    {
     "data": {
      "application/vnd.jupyter.widget-view+json": {
       "model_id": "0bf131108f9b494f91e595338ef7ce75",
       "version_major": 2,
       "version_minor": 0
      },
      "text/plain": [
       "Transcribing:   0%|          | 0/1 [00:00<?, ?it/s]"
      ]
     },
     "metadata": {},
     "output_type": "display_data"
    },
    {
     "data": {
      "application/vnd.jupyter.widget-view+json": {
       "model_id": "e94d0abb801a4341ab2419cca4453ca9",
       "version_major": 2,
       "version_minor": 0
      },
      "text/plain": [
       "Transcribing:   0%|          | 0/1 [00:00<?, ?it/s]"
      ]
     },
     "metadata": {},
     "output_type": "display_data"
    },
    {
     "data": {
      "application/vnd.jupyter.widget-view+json": {
       "model_id": "44269a66e53b4827aeaa98d5ad83f095",
       "version_major": 2,
       "version_minor": 0
      },
      "text/plain": [
       "Transcribing:   0%|          | 0/1 [00:00<?, ?it/s]"
      ]
     },
     "metadata": {},
     "output_type": "display_data"
    },
    {
     "data": {
      "application/vnd.jupyter.widget-view+json": {
       "model_id": "ac7bdc19350c4277b89f3f8ec725a3dd",
       "version_major": 2,
       "version_minor": 0
      },
      "text/plain": [
       "Transcribing:   0%|          | 0/1 [00:00<?, ?it/s]"
      ]
     },
     "metadata": {},
     "output_type": "display_data"
    },
    {
     "data": {
      "application/vnd.jupyter.widget-view+json": {
       "model_id": "023de5dab13f417dba6c676d88a29f58",
       "version_major": 2,
       "version_minor": 0
      },
      "text/plain": [
       "Transcribing:   0%|          | 0/1 [00:00<?, ?it/s]"
      ]
     },
     "metadata": {},
     "output_type": "display_data"
    },
    {
     "data": {
      "application/vnd.jupyter.widget-view+json": {
       "model_id": "b27c1c79caec44aa82b76f0048559895",
       "version_major": 2,
       "version_minor": 0
      },
      "text/plain": [
       "Transcribing:   0%|          | 0/1 [00:00<?, ?it/s]"
      ]
     },
     "metadata": {},
     "output_type": "display_data"
    },
    {
     "data": {
      "application/vnd.jupyter.widget-view+json": {
       "model_id": "bc462b9e96684b8f99bd6b2c5d28cf51",
       "version_major": 2,
       "version_minor": 0
      },
      "text/plain": [
       "Transcribing:   0%|          | 0/1 [00:00<?, ?it/s]"
      ]
     },
     "metadata": {},
     "output_type": "display_data"
    },
    {
     "data": {
      "application/vnd.jupyter.widget-view+json": {
       "model_id": "08751cfb345d4b69be9710cfaa19af65",
       "version_major": 2,
       "version_minor": 0
      },
      "text/plain": [
       "Transcribing:   0%|          | 0/1 [00:00<?, ?it/s]"
      ]
     },
     "metadata": {},
     "output_type": "display_data"
    },
    {
     "data": {
      "application/vnd.jupyter.widget-view+json": {
       "model_id": "b3e69c6026d24e03b2ec1dbc146d3582",
       "version_major": 2,
       "version_minor": 0
      },
      "text/plain": [
       "Transcribing:   0%|          | 0/1 [00:00<?, ?it/s]"
      ]
     },
     "metadata": {},
     "output_type": "display_data"
    },
    {
     "data": {
      "application/vnd.jupyter.widget-view+json": {
       "model_id": "27dd83f86b974e50a624a888271e005f",
       "version_major": 2,
       "version_minor": 0
      },
      "text/plain": [
       "Transcribing:   0%|          | 0/1 [00:00<?, ?it/s]"
      ]
     },
     "metadata": {},
     "output_type": "display_data"
    },
    {
     "data": {
      "application/vnd.jupyter.widget-view+json": {
       "model_id": "ee6918ee25e54f3a862eb55448cca53e",
       "version_major": 2,
       "version_minor": 0
      },
      "text/plain": [
       "Transcribing:   0%|          | 0/1 [00:00<?, ?it/s]"
      ]
     },
     "metadata": {},
     "output_type": "display_data"
    },
    {
     "data": {
      "application/vnd.jupyter.widget-view+json": {
       "model_id": "cb007415f17e4833aabc43a1d977accc",
       "version_major": 2,
       "version_minor": 0
      },
      "text/plain": [
       "Transcribing:   0%|          | 0/1 [00:00<?, ?it/s]"
      ]
     },
     "metadata": {},
     "output_type": "display_data"
    },
    {
     "data": {
      "application/vnd.jupyter.widget-view+json": {
       "model_id": "ace2c6e8ca794c63905b186664e09543",
       "version_major": 2,
       "version_minor": 0
      },
      "text/plain": [
       "Transcribing:   0%|          | 0/1 [00:00<?, ?it/s]"
      ]
     },
     "metadata": {},
     "output_type": "display_data"
    },
    {
     "data": {
      "application/vnd.jupyter.widget-view+json": {
       "model_id": "11fdace0a5734ff0944e93dd7f4e2e40",
       "version_major": 2,
       "version_minor": 0
      },
      "text/plain": [
       "Transcribing:   0%|          | 0/1 [00:00<?, ?it/s]"
      ]
     },
     "metadata": {},
     "output_type": "display_data"
    },
    {
     "data": {
      "application/vnd.jupyter.widget-view+json": {
       "model_id": "30b150aa15494f4d8d2df3df2ab420f4",
       "version_major": 2,
       "version_minor": 0
      },
      "text/plain": [
       "Transcribing:   0%|          | 0/1 [00:00<?, ?it/s]"
      ]
     },
     "metadata": {},
     "output_type": "display_data"
    },
    {
     "data": {
      "application/vnd.jupyter.widget-view+json": {
       "model_id": "13bc02f465914e7ca4c1e5a303c6c2cc",
       "version_major": 2,
       "version_minor": 0
      },
      "text/plain": [
       "Transcribing:   0%|          | 0/1 [00:00<?, ?it/s]"
      ]
     },
     "metadata": {},
     "output_type": "display_data"
    },
    {
     "data": {
      "application/vnd.jupyter.widget-view+json": {
       "model_id": "721df71934d944198e2a5aeed0ea867f",
       "version_major": 2,
       "version_minor": 0
      },
      "text/plain": [
       "Transcribing:   0%|          | 0/1 [00:00<?, ?it/s]"
      ]
     },
     "metadata": {},
     "output_type": "display_data"
    },
    {
     "data": {
      "application/vnd.jupyter.widget-view+json": {
       "model_id": "f5e3222dd2174109ab8293faca016549",
       "version_major": 2,
       "version_minor": 0
      },
      "text/plain": [
       "Transcribing:   0%|          | 0/1 [00:00<?, ?it/s]"
      ]
     },
     "metadata": {},
     "output_type": "display_data"
    },
    {
     "data": {
      "application/vnd.jupyter.widget-view+json": {
       "model_id": "9930dc2d53b44eb198eb8fdf35b77b1f",
       "version_major": 2,
       "version_minor": 0
      },
      "text/plain": [
       "Transcribing:   0%|          | 0/1 [00:00<?, ?it/s]"
      ]
     },
     "metadata": {},
     "output_type": "display_data"
    },
    {
     "data": {
      "application/vnd.jupyter.widget-view+json": {
       "model_id": "214c7838072c421888e5e73a86d67aff",
       "version_major": 2,
       "version_minor": 0
      },
      "text/plain": [
       "Transcribing:   0%|          | 0/1 [00:00<?, ?it/s]"
      ]
     },
     "metadata": {},
     "output_type": "display_data"
    },
    {
     "data": {
      "application/vnd.jupyter.widget-view+json": {
       "model_id": "8228db7ca2eb48f7a3e55e6fc6e3457a",
       "version_major": 2,
       "version_minor": 0
      },
      "text/plain": [
       "Transcribing:   0%|          | 0/1 [00:00<?, ?it/s]"
      ]
     },
     "metadata": {},
     "output_type": "display_data"
    },
    {
     "data": {
      "application/vnd.jupyter.widget-view+json": {
       "model_id": "fbde7950fb8c4ad69c52dead99c9d384",
       "version_major": 2,
       "version_minor": 0
      },
      "text/plain": [
       "Transcribing:   0%|          | 0/1 [00:00<?, ?it/s]"
      ]
     },
     "metadata": {},
     "output_type": "display_data"
    },
    {
     "data": {
      "application/vnd.jupyter.widget-view+json": {
       "model_id": "11df5237b5084257bce618180e368dcb",
       "version_major": 2,
       "version_minor": 0
      },
      "text/plain": [
       "Transcribing:   0%|          | 0/1 [00:00<?, ?it/s]"
      ]
     },
     "metadata": {},
     "output_type": "display_data"
    },
    {
     "data": {
      "application/vnd.jupyter.widget-view+json": {
       "model_id": "f6bdc6dced2d455b852d6905ac8a9889",
       "version_major": 2,
       "version_minor": 0
      },
      "text/plain": [
       "Transcribing:   0%|          | 0/1 [00:00<?, ?it/s]"
      ]
     },
     "metadata": {},
     "output_type": "display_data"
    },
    {
     "data": {
      "application/vnd.jupyter.widget-view+json": {
       "model_id": "b173a0daa5884c939b978f78805478c6",
       "version_major": 2,
       "version_minor": 0
      },
      "text/plain": [
       "Transcribing:   0%|          | 0/1 [00:00<?, ?it/s]"
      ]
     },
     "metadata": {},
     "output_type": "display_data"
    },
    {
     "data": {
      "application/vnd.jupyter.widget-view+json": {
       "model_id": "b376348f2fc343ea970e27358f36ca34",
       "version_major": 2,
       "version_minor": 0
      },
      "text/plain": [
       "Transcribing:   0%|          | 0/1 [00:00<?, ?it/s]"
      ]
     },
     "metadata": {},
     "output_type": "display_data"
    },
    {
     "data": {
      "application/vnd.jupyter.widget-view+json": {
       "model_id": "b00c6a08eed2439681a76e2f4e94fa54",
       "version_major": 2,
       "version_minor": 0
      },
      "text/plain": [
       "Transcribing:   0%|          | 0/1 [00:00<?, ?it/s]"
      ]
     },
     "metadata": {},
     "output_type": "display_data"
    },
    {
     "data": {
      "application/vnd.jupyter.widget-view+json": {
       "model_id": "c1f2a31e93fe42e5a17b2ae834007d38",
       "version_major": 2,
       "version_minor": 0
      },
      "text/plain": [
       "Transcribing:   0%|          | 0/1 [00:00<?, ?it/s]"
      ]
     },
     "metadata": {},
     "output_type": "display_data"
    },
    {
     "data": {
      "application/vnd.jupyter.widget-view+json": {
       "model_id": "8301146c0d484eb7be44d80e48b106b9",
       "version_major": 2,
       "version_minor": 0
      },
      "text/plain": [
       "Transcribing:   0%|          | 0/1 [00:00<?, ?it/s]"
      ]
     },
     "metadata": {},
     "output_type": "display_data"
    },
    {
     "data": {
      "application/vnd.jupyter.widget-view+json": {
       "model_id": "d36fe2126fcf42acb8539f94ec5b3a3a",
       "version_major": 2,
       "version_minor": 0
      },
      "text/plain": [
       "Transcribing:   0%|          | 0/1 [00:00<?, ?it/s]"
      ]
     },
     "metadata": {},
     "output_type": "display_data"
    },
    {
     "data": {
      "application/vnd.jupyter.widget-view+json": {
       "model_id": "259cd8a6f27f4aeea9fef8ae62ad49e0",
       "version_major": 2,
       "version_minor": 0
      },
      "text/plain": [
       "Transcribing:   0%|          | 0/1 [00:00<?, ?it/s]"
      ]
     },
     "metadata": {},
     "output_type": "display_data"
    },
    {
     "data": {
      "application/vnd.jupyter.widget-view+json": {
       "model_id": "ef405e1175a941f2bbc36bb6b2addaab",
       "version_major": 2,
       "version_minor": 0
      },
      "text/plain": [
       "Transcribing:   0%|          | 0/1 [00:00<?, ?it/s]"
      ]
     },
     "metadata": {},
     "output_type": "display_data"
    },
    {
     "data": {
      "application/vnd.jupyter.widget-view+json": {
       "model_id": "df37f6db0a224fb2b5344721a6fb14b4",
       "version_major": 2,
       "version_minor": 0
      },
      "text/plain": [
       "Transcribing:   0%|          | 0/1 [00:00<?, ?it/s]"
      ]
     },
     "metadata": {},
     "output_type": "display_data"
    },
    {
     "data": {
      "application/vnd.jupyter.widget-view+json": {
       "model_id": "e0044a9a9c97446d983832364d88f346",
       "version_major": 2,
       "version_minor": 0
      },
      "text/plain": [
       "Transcribing:   0%|          | 0/1 [00:00<?, ?it/s]"
      ]
     },
     "metadata": {},
     "output_type": "display_data"
    },
    {
     "data": {
      "application/vnd.jupyter.widget-view+json": {
       "model_id": "3fe375bdaaaf4856b38501fd6d3024a1",
       "version_major": 2,
       "version_minor": 0
      },
      "text/plain": [
       "Transcribing:   0%|          | 0/1 [00:00<?, ?it/s]"
      ]
     },
     "metadata": {},
     "output_type": "display_data"
    },
    {
     "data": {
      "application/vnd.jupyter.widget-view+json": {
       "model_id": "6109b4e49b40491b9242735bbec49112",
       "version_major": 2,
       "version_minor": 0
      },
      "text/plain": [
       "Transcribing:   0%|          | 0/1 [00:00<?, ?it/s]"
      ]
     },
     "metadata": {},
     "output_type": "display_data"
    },
    {
     "data": {
      "application/vnd.jupyter.widget-view+json": {
       "model_id": "1ee4750f15a24ec6885c83be026317d0",
       "version_major": 2,
       "version_minor": 0
      },
      "text/plain": [
       "Transcribing:   0%|          | 0/1 [00:00<?, ?it/s]"
      ]
     },
     "metadata": {},
     "output_type": "display_data"
    },
    {
     "data": {
      "application/vnd.jupyter.widget-view+json": {
       "model_id": "5f0ee28718ab4a489d6a25bacc5f26e2",
       "version_major": 2,
       "version_minor": 0
      },
      "text/plain": [
       "Transcribing:   0%|          | 0/1 [00:00<?, ?it/s]"
      ]
     },
     "metadata": {},
     "output_type": "display_data"
    },
    {
     "data": {
      "application/vnd.jupyter.widget-view+json": {
       "model_id": "eb1949b1906f4351bb803791cff656f3",
       "version_major": 2,
       "version_minor": 0
      },
      "text/plain": [
       "Transcribing:   0%|          | 0/1 [00:00<?, ?it/s]"
      ]
     },
     "metadata": {},
     "output_type": "display_data"
    },
    {
     "data": {
      "application/vnd.jupyter.widget-view+json": {
       "model_id": "af0575dbbef446de9649e6b10196022a",
       "version_major": 2,
       "version_minor": 0
      },
      "text/plain": [
       "Transcribing:   0%|          | 0/1 [00:00<?, ?it/s]"
      ]
     },
     "metadata": {},
     "output_type": "display_data"
    },
    {
     "data": {
      "application/vnd.jupyter.widget-view+json": {
       "model_id": "ebc52a42e19848a6bce6c0f54d2c8325",
       "version_major": 2,
       "version_minor": 0
      },
      "text/plain": [
       "Transcribing:   0%|          | 0/1 [00:00<?, ?it/s]"
      ]
     },
     "metadata": {},
     "output_type": "display_data"
    },
    {
     "data": {
      "application/vnd.jupyter.widget-view+json": {
       "model_id": "c2e8fe4bd4234b838b8f87b60e79c143",
       "version_major": 2,
       "version_minor": 0
      },
      "text/plain": [
       "Transcribing:   0%|          | 0/1 [00:00<?, ?it/s]"
      ]
     },
     "metadata": {},
     "output_type": "display_data"
    },
    {
     "data": {
      "application/vnd.jupyter.widget-view+json": {
       "model_id": "80344a6661e34b74853d073d6b9dcdcf",
       "version_major": 2,
       "version_minor": 0
      },
      "text/plain": [
       "Transcribing:   0%|          | 0/1 [00:00<?, ?it/s]"
      ]
     },
     "metadata": {},
     "output_type": "display_data"
    },
    {
     "data": {
      "application/vnd.jupyter.widget-view+json": {
       "model_id": "676d944165cd409ba72f9fbef23d3780",
       "version_major": 2,
       "version_minor": 0
      },
      "text/plain": [
       "Transcribing:   0%|          | 0/1 [00:00<?, ?it/s]"
      ]
     },
     "metadata": {},
     "output_type": "display_data"
    },
    {
     "data": {
      "application/vnd.jupyter.widget-view+json": {
       "model_id": "c02ac79dcff7490b9362c93b44f6581a",
       "version_major": 2,
       "version_minor": 0
      },
      "text/plain": [
       "Transcribing:   0%|          | 0/1 [00:00<?, ?it/s]"
      ]
     },
     "metadata": {},
     "output_type": "display_data"
    },
    {
     "data": {
      "application/vnd.jupyter.widget-view+json": {
       "model_id": "807a699a758344ca8bf0e0b0c8c16f84",
       "version_major": 2,
       "version_minor": 0
      },
      "text/plain": [
       "Transcribing:   0%|          | 0/1 [00:00<?, ?it/s]"
      ]
     },
     "metadata": {},
     "output_type": "display_data"
    },
    {
     "data": {
      "application/vnd.jupyter.widget-view+json": {
       "model_id": "163889ccce654c7cb81a6e6c06699791",
       "version_major": 2,
       "version_minor": 0
      },
      "text/plain": [
       "Transcribing:   0%|          | 0/1 [00:00<?, ?it/s]"
      ]
     },
     "metadata": {},
     "output_type": "display_data"
    },
    {
     "data": {
      "application/vnd.jupyter.widget-view+json": {
       "model_id": "76bf1042b3fb4582b3cbbabd4581e2f5",
       "version_major": 2,
       "version_minor": 0
      },
      "text/plain": [
       "Transcribing:   0%|          | 0/1 [00:00<?, ?it/s]"
      ]
     },
     "metadata": {},
     "output_type": "display_data"
    },
    {
     "data": {
      "application/vnd.jupyter.widget-view+json": {
       "model_id": "d162c8848c2b4e01b0b81fa5be7a5b48",
       "version_major": 2,
       "version_minor": 0
      },
      "text/plain": [
       "Transcribing:   0%|          | 0/1 [00:00<?, ?it/s]"
      ]
     },
     "metadata": {},
     "output_type": "display_data"
    },
    {
     "data": {
      "application/vnd.jupyter.widget-view+json": {
       "model_id": "8003fd676c22452897e6d932b1baf60f",
       "version_major": 2,
       "version_minor": 0
      },
      "text/plain": [
       "Transcribing:   0%|          | 0/1 [00:00<?, ?it/s]"
      ]
     },
     "metadata": {},
     "output_type": "display_data"
    },
    {
     "data": {
      "application/vnd.jupyter.widget-view+json": {
       "model_id": "3ce8d3a83a224094939d193fb170c985",
       "version_major": 2,
       "version_minor": 0
      },
      "text/plain": [
       "Transcribing:   0%|          | 0/1 [00:00<?, ?it/s]"
      ]
     },
     "metadata": {},
     "output_type": "display_data"
    },
    {
     "data": {
      "application/vnd.jupyter.widget-view+json": {
       "model_id": "5a941e3f6f9b4000b29932f65f8150f9",
       "version_major": 2,
       "version_minor": 0
      },
      "text/plain": [
       "Transcribing:   0%|          | 0/1 [00:00<?, ?it/s]"
      ]
     },
     "metadata": {},
     "output_type": "display_data"
    },
    {
     "data": {
      "application/vnd.jupyter.widget-view+json": {
       "model_id": "431c8066de5449db807fa3d16b537502",
       "version_major": 2,
       "version_minor": 0
      },
      "text/plain": [
       "Transcribing:   0%|          | 0/1 [00:00<?, ?it/s]"
      ]
     },
     "metadata": {},
     "output_type": "display_data"
    },
    {
     "data": {
      "application/vnd.jupyter.widget-view+json": {
       "model_id": "6fd79b0cfd3243bb87788bdbba4d61e7",
       "version_major": 2,
       "version_minor": 0
      },
      "text/plain": [
       "Transcribing:   0%|          | 0/1 [00:00<?, ?it/s]"
      ]
     },
     "metadata": {},
     "output_type": "display_data"
    },
    {
     "data": {
      "application/vnd.jupyter.widget-view+json": {
       "model_id": "dff0b2f8ae8a4f7c8002e625dfc76735",
       "version_major": 2,
       "version_minor": 0
      },
      "text/plain": [
       "Transcribing:   0%|          | 0/1 [00:00<?, ?it/s]"
      ]
     },
     "metadata": {},
     "output_type": "display_data"
    },
    {
     "data": {
      "application/vnd.jupyter.widget-view+json": {
       "model_id": "eb50331f5f9a4d1996cc514a6d2f4c6a",
       "version_major": 2,
       "version_minor": 0
      },
      "text/plain": [
       "Transcribing:   0%|          | 0/1 [00:00<?, ?it/s]"
      ]
     },
     "metadata": {},
     "output_type": "display_data"
    },
    {
     "data": {
      "application/vnd.jupyter.widget-view+json": {
       "model_id": "40cd199328984be1ab0665103e2d55a2",
       "version_major": 2,
       "version_minor": 0
      },
      "text/plain": [
       "Transcribing:   0%|          | 0/1 [00:00<?, ?it/s]"
      ]
     },
     "metadata": {},
     "output_type": "display_data"
    },
    {
     "data": {
      "application/vnd.jupyter.widget-view+json": {
       "model_id": "a72484ac8aac438f992c226a3c38cfdd",
       "version_major": 2,
       "version_minor": 0
      },
      "text/plain": [
       "Transcribing:   0%|          | 0/1 [00:00<?, ?it/s]"
      ]
     },
     "metadata": {},
     "output_type": "display_data"
    },
    {
     "data": {
      "application/vnd.jupyter.widget-view+json": {
       "model_id": "2b01fd0eee9446a69a9d52cbab22cad7",
       "version_major": 2,
       "version_minor": 0
      },
      "text/plain": [
       "Transcribing:   0%|          | 0/1 [00:00<?, ?it/s]"
      ]
     },
     "metadata": {},
     "output_type": "display_data"
    },
    {
     "data": {
      "application/vnd.jupyter.widget-view+json": {
       "model_id": "6e0bf0be3c0042d5a768f7c770a93e56",
       "version_major": 2,
       "version_minor": 0
      },
      "text/plain": [
       "Transcribing:   0%|          | 0/1 [00:00<?, ?it/s]"
      ]
     },
     "metadata": {},
     "output_type": "display_data"
    },
    {
     "data": {
      "application/vnd.jupyter.widget-view+json": {
       "model_id": "eb5838e460ff43fd864728fabffef153",
       "version_major": 2,
       "version_minor": 0
      },
      "text/plain": [
       "Transcribing:   0%|          | 0/1 [00:00<?, ?it/s]"
      ]
     },
     "metadata": {},
     "output_type": "display_data"
    },
    {
     "data": {
      "application/vnd.jupyter.widget-view+json": {
       "model_id": "93f0b8078190443b8ae2d30bc60a3b62",
       "version_major": 2,
       "version_minor": 0
      },
      "text/plain": [
       "Transcribing:   0%|          | 0/1 [00:00<?, ?it/s]"
      ]
     },
     "metadata": {},
     "output_type": "display_data"
    },
    {
     "data": {
      "application/vnd.jupyter.widget-view+json": {
       "model_id": "c13725dbc26847df8ef83852a257bad0",
       "version_major": 2,
       "version_minor": 0
      },
      "text/plain": [
       "Transcribing:   0%|          | 0/1 [00:00<?, ?it/s]"
      ]
     },
     "metadata": {},
     "output_type": "display_data"
    },
    {
     "data": {
      "application/vnd.jupyter.widget-view+json": {
       "model_id": "40a380b4bf4c47a58616792698d652a8",
       "version_major": 2,
       "version_minor": 0
      },
      "text/plain": [
       "Transcribing:   0%|          | 0/1 [00:00<?, ?it/s]"
      ]
     },
     "metadata": {},
     "output_type": "display_data"
    },
    {
     "data": {
      "application/vnd.jupyter.widget-view+json": {
       "model_id": "f1bd0210de8a482c9f234e72aaf8ec0e",
       "version_major": 2,
       "version_minor": 0
      },
      "text/plain": [
       "Transcribing:   0%|          | 0/1 [00:00<?, ?it/s]"
      ]
     },
     "metadata": {},
     "output_type": "display_data"
    },
    {
     "data": {
      "application/vnd.jupyter.widget-view+json": {
       "model_id": "f9866e2e62564c7ca83a94c8d34c0d2d",
       "version_major": 2,
       "version_minor": 0
      },
      "text/plain": [
       "Transcribing:   0%|          | 0/1 [00:00<?, ?it/s]"
      ]
     },
     "metadata": {},
     "output_type": "display_data"
    },
    {
     "data": {
      "application/vnd.jupyter.widget-view+json": {
       "model_id": "30519a45b68c41caa58515062f62b131",
       "version_major": 2,
       "version_minor": 0
      },
      "text/plain": [
       "Transcribing:   0%|          | 0/1 [00:00<?, ?it/s]"
      ]
     },
     "metadata": {},
     "output_type": "display_data"
    },
    {
     "data": {
      "application/vnd.jupyter.widget-view+json": {
       "model_id": "cae510631ac1420eba8278416aa9210a",
       "version_major": 2,
       "version_minor": 0
      },
      "text/plain": [
       "Transcribing:   0%|          | 0/1 [00:00<?, ?it/s]"
      ]
     },
     "metadata": {},
     "output_type": "display_data"
    },
    {
     "data": {
      "application/vnd.jupyter.widget-view+json": {
       "model_id": "7fe6d207f113419f9273bc04789a0439",
       "version_major": 2,
       "version_minor": 0
      },
      "text/plain": [
       "Transcribing:   0%|          | 0/1 [00:00<?, ?it/s]"
      ]
     },
     "metadata": {},
     "output_type": "display_data"
    },
    {
     "data": {
      "application/vnd.jupyter.widget-view+json": {
       "model_id": "368324044c034fda8e5e9f72acafea99",
       "version_major": 2,
       "version_minor": 0
      },
      "text/plain": [
       "Transcribing:   0%|          | 0/1 [00:00<?, ?it/s]"
      ]
     },
     "metadata": {},
     "output_type": "display_data"
    },
    {
     "data": {
      "application/vnd.jupyter.widget-view+json": {
       "model_id": "ea70156abeee4a63a5705778c4fc9f03",
       "version_major": 2,
       "version_minor": 0
      },
      "text/plain": [
       "Transcribing:   0%|          | 0/1 [00:00<?, ?it/s]"
      ]
     },
     "metadata": {},
     "output_type": "display_data"
    },
    {
     "data": {
      "application/vnd.jupyter.widget-view+json": {
       "model_id": "4cbd0c02c2a54b339e55002d447244dd",
       "version_major": 2,
       "version_minor": 0
      },
      "text/plain": [
       "Transcribing:   0%|          | 0/1 [00:00<?, ?it/s]"
      ]
     },
     "metadata": {},
     "output_type": "display_data"
    },
    {
     "data": {
      "application/vnd.jupyter.widget-view+json": {
       "model_id": "61e1ff595ba542859b008f12ffda5a13",
       "version_major": 2,
       "version_minor": 0
      },
      "text/plain": [
       "Transcribing:   0%|          | 0/1 [00:00<?, ?it/s]"
      ]
     },
     "metadata": {},
     "output_type": "display_data"
    },
    {
     "data": {
      "application/vnd.jupyter.widget-view+json": {
       "model_id": "bdc33a318ceb4c30bed40aee7189f1af",
       "version_major": 2,
       "version_minor": 0
      },
      "text/plain": [
       "Transcribing:   0%|          | 0/1 [00:00<?, ?it/s]"
      ]
     },
     "metadata": {},
     "output_type": "display_data"
    },
    {
     "data": {
      "application/vnd.jupyter.widget-view+json": {
       "model_id": "747c93f1cd104e579276245f0886e643",
       "version_major": 2,
       "version_minor": 0
      },
      "text/plain": [
       "Transcribing:   0%|          | 0/1 [00:00<?, ?it/s]"
      ]
     },
     "metadata": {},
     "output_type": "display_data"
    },
    {
     "data": {
      "application/vnd.jupyter.widget-view+json": {
       "model_id": "76c92b097dbc4d41bb8238eb4e006bf9",
       "version_major": 2,
       "version_minor": 0
      },
      "text/plain": [
       "Transcribing:   0%|          | 0/1 [00:00<?, ?it/s]"
      ]
     },
     "metadata": {},
     "output_type": "display_data"
    },
    {
     "data": {
      "application/vnd.jupyter.widget-view+json": {
       "model_id": "808baddf27af41179bfbd1c05ac6171b",
       "version_major": 2,
       "version_minor": 0
      },
      "text/plain": [
       "Transcribing:   0%|          | 0/1 [00:00<?, ?it/s]"
      ]
     },
     "metadata": {},
     "output_type": "display_data"
    },
    {
     "data": {
      "application/vnd.jupyter.widget-view+json": {
       "model_id": "753c97418fd34388b986a1f06fbed08f",
       "version_major": 2,
       "version_minor": 0
      },
      "text/plain": [
       "Transcribing:   0%|          | 0/1 [00:00<?, ?it/s]"
      ]
     },
     "metadata": {},
     "output_type": "display_data"
    },
    {
     "data": {
      "application/vnd.jupyter.widget-view+json": {
       "model_id": "4474d190703d419e91d79e0af50aab01",
       "version_major": 2,
       "version_minor": 0
      },
      "text/plain": [
       "Transcribing:   0%|          | 0/1 [00:00<?, ?it/s]"
      ]
     },
     "metadata": {},
     "output_type": "display_data"
    },
    {
     "data": {
      "application/vnd.jupyter.widget-view+json": {
       "model_id": "349210f3636848f28ca4be311879e995",
       "version_major": 2,
       "version_minor": 0
      },
      "text/plain": [
       "Transcribing:   0%|          | 0/1 [00:00<?, ?it/s]"
      ]
     },
     "metadata": {},
     "output_type": "display_data"
    },
    {
     "data": {
      "application/vnd.jupyter.widget-view+json": {
       "model_id": "10bfee045ad644829a5d27c438043b59",
       "version_major": 2,
       "version_minor": 0
      },
      "text/plain": [
       "Transcribing:   0%|          | 0/1 [00:00<?, ?it/s]"
      ]
     },
     "metadata": {},
     "output_type": "display_data"
    },
    {
     "data": {
      "application/vnd.jupyter.widget-view+json": {
       "model_id": "9113480226ce44deb2d85adf5698f8b1",
       "version_major": 2,
       "version_minor": 0
      },
      "text/plain": [
       "Transcribing:   0%|          | 0/1 [00:00<?, ?it/s]"
      ]
     },
     "metadata": {},
     "output_type": "display_data"
    },
    {
     "data": {
      "application/vnd.jupyter.widget-view+json": {
       "model_id": "74737ce033e14ccbb7af2b2e4d6f2c61",
       "version_major": 2,
       "version_minor": 0
      },
      "text/plain": [
       "Transcribing:   0%|          | 0/1 [00:00<?, ?it/s]"
      ]
     },
     "metadata": {},
     "output_type": "display_data"
    },
    {
     "data": {
      "application/vnd.jupyter.widget-view+json": {
       "model_id": "c2cd2e4c392e4b8f9c0693a349a97cf3",
       "version_major": 2,
       "version_minor": 0
      },
      "text/plain": [
       "Transcribing:   0%|          | 0/1 [00:00<?, ?it/s]"
      ]
     },
     "metadata": {},
     "output_type": "display_data"
    },
    {
     "data": {
      "application/vnd.jupyter.widget-view+json": {
       "model_id": "cc1967e4fca0414a927989c158a4a01e",
       "version_major": 2,
       "version_minor": 0
      },
      "text/plain": [
       "Transcribing:   0%|          | 0/1 [00:00<?, ?it/s]"
      ]
     },
     "metadata": {},
     "output_type": "display_data"
    },
    {
     "data": {
      "application/vnd.jupyter.widget-view+json": {
       "model_id": "2d2a7a853f0f4b71a340f0fd7610ed35",
       "version_major": 2,
       "version_minor": 0
      },
      "text/plain": [
       "Transcribing:   0%|          | 0/1 [00:00<?, ?it/s]"
      ]
     },
     "metadata": {},
     "output_type": "display_data"
    },
    {
     "data": {
      "application/vnd.jupyter.widget-view+json": {
       "model_id": "43137dc860aa4cd8b63f8493d8a4c9fc",
       "version_major": 2,
       "version_minor": 0
      },
      "text/plain": [
       "Transcribing:   0%|          | 0/1 [00:00<?, ?it/s]"
      ]
     },
     "metadata": {},
     "output_type": "display_data"
    },
    {
     "data": {
      "application/vnd.jupyter.widget-view+json": {
       "model_id": "050d6db69a7e40c2a28a5ad023de4d44",
       "version_major": 2,
       "version_minor": 0
      },
      "text/plain": [
       "Transcribing:   0%|          | 0/1 [00:00<?, ?it/s]"
      ]
     },
     "metadata": {},
     "output_type": "display_data"
    },
    {
     "data": {
      "application/vnd.jupyter.widget-view+json": {
       "model_id": "c8772b456b49442e893949cad89e7ebe",
       "version_major": 2,
       "version_minor": 0
      },
      "text/plain": [
       "Transcribing:   0%|          | 0/1 [00:00<?, ?it/s]"
      ]
     },
     "metadata": {},
     "output_type": "display_data"
    },
    {
     "data": {
      "application/vnd.jupyter.widget-view+json": {
       "model_id": "d1684657f84c44119c16416698d70cbe",
       "version_major": 2,
       "version_minor": 0
      },
      "text/plain": [
       "Transcribing:   0%|          | 0/1 [00:00<?, ?it/s]"
      ]
     },
     "metadata": {},
     "output_type": "display_data"
    },
    {
     "data": {
      "application/vnd.jupyter.widget-view+json": {
       "model_id": "aaa9984fc1694793a5654087513c2d90",
       "version_major": 2,
       "version_minor": 0
      },
      "text/plain": [
       "Transcribing:   0%|          | 0/1 [00:00<?, ?it/s]"
      ]
     },
     "metadata": {},
     "output_type": "display_data"
    },
    {
     "data": {
      "application/vnd.jupyter.widget-view+json": {
       "model_id": "3d3eb9cf181f4f96aa665243069b3a4d",
       "version_major": 2,
       "version_minor": 0
      },
      "text/plain": [
       "Transcribing:   0%|          | 0/1 [00:00<?, ?it/s]"
      ]
     },
     "metadata": {},
     "output_type": "display_data"
    },
    {
     "data": {
      "application/vnd.jupyter.widget-view+json": {
       "model_id": "09c33a8f51c64adc84ec72bfa6d2d1fc",
       "version_major": 2,
       "version_minor": 0
      },
      "text/plain": [
       "Transcribing:   0%|          | 0/1 [00:00<?, ?it/s]"
      ]
     },
     "metadata": {},
     "output_type": "display_data"
    },
    {
     "data": {
      "application/vnd.jupyter.widget-view+json": {
       "model_id": "5b12bbd88f484eaca9e2b226014b276d",
       "version_major": 2,
       "version_minor": 0
      },
      "text/plain": [
       "Transcribing:   0%|          | 0/1 [00:00<?, ?it/s]"
      ]
     },
     "metadata": {},
     "output_type": "display_data"
    },
    {
     "data": {
      "application/vnd.jupyter.widget-view+json": {
       "model_id": "1aa24ee354a7490889cd0529e1f4b7b6",
       "version_major": 2,
       "version_minor": 0
      },
      "text/plain": [
       "Transcribing:   0%|          | 0/1 [00:00<?, ?it/s]"
      ]
     },
     "metadata": {},
     "output_type": "display_data"
    },
    {
     "data": {
      "application/vnd.jupyter.widget-view+json": {
       "model_id": "ed42d76abf9d4e8cb2ce4ca6251cebf1",
       "version_major": 2,
       "version_minor": 0
      },
      "text/plain": [
       "Transcribing:   0%|          | 0/1 [00:00<?, ?it/s]"
      ]
     },
     "metadata": {},
     "output_type": "display_data"
    },
    {
     "data": {
      "application/vnd.jupyter.widget-view+json": {
       "model_id": "4f5ab7f4f7074c318c4c615189cd892a",
       "version_major": 2,
       "version_minor": 0
      },
      "text/plain": [
       "Transcribing:   0%|          | 0/1 [00:00<?, ?it/s]"
      ]
     },
     "metadata": {},
     "output_type": "display_data"
    },
    {
     "data": {
      "application/vnd.jupyter.widget-view+json": {
       "model_id": "04914d7fa7424b3ba70d03c47ff38dbe",
       "version_major": 2,
       "version_minor": 0
      },
      "text/plain": [
       "Transcribing:   0%|          | 0/1 [00:00<?, ?it/s]"
      ]
     },
     "metadata": {},
     "output_type": "display_data"
    },
    {
     "data": {
      "application/vnd.jupyter.widget-view+json": {
       "model_id": "2353629c4e174766beeedbf2f4256323",
       "version_major": 2,
       "version_minor": 0
      },
      "text/plain": [
       "Transcribing:   0%|          | 0/1 [00:00<?, ?it/s]"
      ]
     },
     "metadata": {},
     "output_type": "display_data"
    },
    {
     "data": {
      "application/vnd.jupyter.widget-view+json": {
       "model_id": "1857f6323a1b418da36f6be97be09e9b",
       "version_major": 2,
       "version_minor": 0
      },
      "text/plain": [
       "Transcribing:   0%|          | 0/1 [00:00<?, ?it/s]"
      ]
     },
     "metadata": {},
     "output_type": "display_data"
    },
    {
     "data": {
      "application/vnd.jupyter.widget-view+json": {
       "model_id": "2ef20b2380be406abfbfa2bfa2751d6c",
       "version_major": 2,
       "version_minor": 0
      },
      "text/plain": [
       "Transcribing:   0%|          | 0/1 [00:00<?, ?it/s]"
      ]
     },
     "metadata": {},
     "output_type": "display_data"
    },
    {
     "data": {
      "application/vnd.jupyter.widget-view+json": {
       "model_id": "a998b326e3974df7a7785b1c3b1824a6",
       "version_major": 2,
       "version_minor": 0
      },
      "text/plain": [
       "Transcribing:   0%|          | 0/1 [00:00<?, ?it/s]"
      ]
     },
     "metadata": {},
     "output_type": "display_data"
    },
    {
     "data": {
      "application/vnd.jupyter.widget-view+json": {
       "model_id": "ece1469dc8a3419a81845e14ac2dd00b",
       "version_major": 2,
       "version_minor": 0
      },
      "text/plain": [
       "Transcribing:   0%|          | 0/1 [00:00<?, ?it/s]"
      ]
     },
     "metadata": {},
     "output_type": "display_data"
    },
    {
     "data": {
      "application/vnd.jupyter.widget-view+json": {
       "model_id": "991259496ec14da0b465b00fce42ea1a",
       "version_major": 2,
       "version_minor": 0
      },
      "text/plain": [
       "Transcribing:   0%|          | 0/1 [00:00<?, ?it/s]"
      ]
     },
     "metadata": {},
     "output_type": "display_data"
    },
    {
     "data": {
      "application/vnd.jupyter.widget-view+json": {
       "model_id": "8f27adf609104935b2f796dedae671a4",
       "version_major": 2,
       "version_minor": 0
      },
      "text/plain": [
       "Transcribing:   0%|          | 0/1 [00:00<?, ?it/s]"
      ]
     },
     "metadata": {},
     "output_type": "display_data"
    },
    {
     "data": {
      "application/vnd.jupyter.widget-view+json": {
       "model_id": "e5ab8c8bcd4a42ce83c12cc539d5b4c8",
       "version_major": 2,
       "version_minor": 0
      },
      "text/plain": [
       "Transcribing:   0%|          | 0/1 [00:00<?, ?it/s]"
      ]
     },
     "metadata": {},
     "output_type": "display_data"
    },
    {
     "data": {
      "application/vnd.jupyter.widget-view+json": {
       "model_id": "6c811227e82146a29b53016376f20461",
       "version_major": 2,
       "version_minor": 0
      },
      "text/plain": [
       "Transcribing:   0%|          | 0/1 [00:00<?, ?it/s]"
      ]
     },
     "metadata": {},
     "output_type": "display_data"
    },
    {
     "data": {
      "application/vnd.jupyter.widget-view+json": {
       "model_id": "9365e6ac54af46478a12084a32142277",
       "version_major": 2,
       "version_minor": 0
      },
      "text/plain": [
       "Transcribing:   0%|          | 0/1 [00:00<?, ?it/s]"
      ]
     },
     "metadata": {},
     "output_type": "display_data"
    },
    {
     "data": {
      "application/vnd.jupyter.widget-view+json": {
       "model_id": "77b8851c9c0643ff8875adf616d4a723",
       "version_major": 2,
       "version_minor": 0
      },
      "text/plain": [
       "Transcribing:   0%|          | 0/1 [00:00<?, ?it/s]"
      ]
     },
     "metadata": {},
     "output_type": "display_data"
    },
    {
     "data": {
      "application/vnd.jupyter.widget-view+json": {
       "model_id": "ab370c3678434a9b9772f9e71b659864",
       "version_major": 2,
       "version_minor": 0
      },
      "text/plain": [
       "Transcribing:   0%|          | 0/1 [00:00<?, ?it/s]"
      ]
     },
     "metadata": {},
     "output_type": "display_data"
    },
    {
     "data": {
      "application/vnd.jupyter.widget-view+json": {
       "model_id": "e8c19f45b141430c8a009ad2ff2576da",
       "version_major": 2,
       "version_minor": 0
      },
      "text/plain": [
       "Transcribing:   0%|          | 0/1 [00:00<?, ?it/s]"
      ]
     },
     "metadata": {},
     "output_type": "display_data"
    },
    {
     "data": {
      "application/vnd.jupyter.widget-view+json": {
       "model_id": "30099377396e4d57a5b2d905f4c0ac54",
       "version_major": 2,
       "version_minor": 0
      },
      "text/plain": [
       "Transcribing:   0%|          | 0/1 [00:00<?, ?it/s]"
      ]
     },
     "metadata": {},
     "output_type": "display_data"
    },
    {
     "data": {
      "application/vnd.jupyter.widget-view+json": {
       "model_id": "2f25ca5ffa464057874bcc08f48ee84b",
       "version_major": 2,
       "version_minor": 0
      },
      "text/plain": [
       "Transcribing:   0%|          | 0/1 [00:00<?, ?it/s]"
      ]
     },
     "metadata": {},
     "output_type": "display_data"
    },
    {
     "data": {
      "application/vnd.jupyter.widget-view+json": {
       "model_id": "0fda840d88774fc2a4afa9bfe6dc1a25",
       "version_major": 2,
       "version_minor": 0
      },
      "text/plain": [
       "Transcribing:   0%|          | 0/1 [00:00<?, ?it/s]"
      ]
     },
     "metadata": {},
     "output_type": "display_data"
    },
    {
     "data": {
      "application/vnd.jupyter.widget-view+json": {
       "model_id": "a44522b086fc4a1dafa9ff79d3e9ea01",
       "version_major": 2,
       "version_minor": 0
      },
      "text/plain": [
       "Transcribing:   0%|          | 0/1 [00:00<?, ?it/s]"
      ]
     },
     "metadata": {},
     "output_type": "display_data"
    },
    {
     "data": {
      "application/vnd.jupyter.widget-view+json": {
       "model_id": "fd86e96a94064c7cb42654ea6279203a",
       "version_major": 2,
       "version_minor": 0
      },
      "text/plain": [
       "Transcribing:   0%|          | 0/1 [00:00<?, ?it/s]"
      ]
     },
     "metadata": {},
     "output_type": "display_data"
    },
    {
     "data": {
      "application/vnd.jupyter.widget-view+json": {
       "model_id": "4140941b39ed4c83a09b0b3fe25f3a46",
       "version_major": 2,
       "version_minor": 0
      },
      "text/plain": [
       "Transcribing:   0%|          | 0/1 [00:00<?, ?it/s]"
      ]
     },
     "metadata": {},
     "output_type": "display_data"
    },
    {
     "data": {
      "application/vnd.jupyter.widget-view+json": {
       "model_id": "b1c19b5a1c284d38bd5b6b62edd8bac5",
       "version_major": 2,
       "version_minor": 0
      },
      "text/plain": [
       "Transcribing:   0%|          | 0/1 [00:00<?, ?it/s]"
      ]
     },
     "metadata": {},
     "output_type": "display_data"
    },
    {
     "data": {
      "application/vnd.jupyter.widget-view+json": {
       "model_id": "a4d08ae11d424162b1c328695ce8bd04",
       "version_major": 2,
       "version_minor": 0
      },
      "text/plain": [
       "Transcribing:   0%|          | 0/1 [00:00<?, ?it/s]"
      ]
     },
     "metadata": {},
     "output_type": "display_data"
    },
    {
     "data": {
      "application/vnd.jupyter.widget-view+json": {
       "model_id": "ffa44b5895bc4739b49744ac6c423813",
       "version_major": 2,
       "version_minor": 0
      },
      "text/plain": [
       "Transcribing:   0%|          | 0/1 [00:00<?, ?it/s]"
      ]
     },
     "metadata": {},
     "output_type": "display_data"
    },
    {
     "data": {
      "application/vnd.jupyter.widget-view+json": {
       "model_id": "70cf2c248aa145e5ae9c4660e4378230",
       "version_major": 2,
       "version_minor": 0
      },
      "text/plain": [
       "Transcribing:   0%|          | 0/1 [00:00<?, ?it/s]"
      ]
     },
     "metadata": {},
     "output_type": "display_data"
    },
    {
     "data": {
      "application/vnd.jupyter.widget-view+json": {
       "model_id": "7ff7f5e6b34144bea12a77f6606f5121",
       "version_major": 2,
       "version_minor": 0
      },
      "text/plain": [
       "Transcribing:   0%|          | 0/1 [00:00<?, ?it/s]"
      ]
     },
     "metadata": {},
     "output_type": "display_data"
    },
    {
     "data": {
      "application/vnd.jupyter.widget-view+json": {
       "model_id": "82a0d099faea40b582bb0573ff0de344",
       "version_major": 2,
       "version_minor": 0
      },
      "text/plain": [
       "Transcribing:   0%|          | 0/1 [00:00<?, ?it/s]"
      ]
     },
     "metadata": {},
     "output_type": "display_data"
    },
    {
     "data": {
      "application/vnd.jupyter.widget-view+json": {
       "model_id": "717a296bc87a4cbc8d217f93ee032f15",
       "version_major": 2,
       "version_minor": 0
      },
      "text/plain": [
       "Transcribing:   0%|          | 0/1 [00:00<?, ?it/s]"
      ]
     },
     "metadata": {},
     "output_type": "display_data"
    },
    {
     "data": {
      "application/vnd.jupyter.widget-view+json": {
       "model_id": "c25be3a4192245fe81d0ef3b2ba50e52",
       "version_major": 2,
       "version_minor": 0
      },
      "text/plain": [
       "Transcribing:   0%|          | 0/1 [00:00<?, ?it/s]"
      ]
     },
     "metadata": {},
     "output_type": "display_data"
    },
    {
     "data": {
      "application/vnd.jupyter.widget-view+json": {
       "model_id": "2b811a5ada73483ab73ef84f97dc7114",
       "version_major": 2,
       "version_minor": 0
      },
      "text/plain": [
       "Transcribing:   0%|          | 0/1 [00:00<?, ?it/s]"
      ]
     },
     "metadata": {},
     "output_type": "display_data"
    },
    {
     "data": {
      "application/vnd.jupyter.widget-view+json": {
       "model_id": "8c5c2149119e4f00b859eb0272ed7c63",
       "version_major": 2,
       "version_minor": 0
      },
      "text/plain": [
       "Transcribing:   0%|          | 0/1 [00:00<?, ?it/s]"
      ]
     },
     "metadata": {},
     "output_type": "display_data"
    },
    {
     "data": {
      "application/vnd.jupyter.widget-view+json": {
       "model_id": "a0d7664e0b374bf8953a7d10a51324f4",
       "version_major": 2,
       "version_minor": 0
      },
      "text/plain": [
       "Transcribing:   0%|          | 0/1 [00:00<?, ?it/s]"
      ]
     },
     "metadata": {},
     "output_type": "display_data"
    },
    {
     "data": {
      "application/vnd.jupyter.widget-view+json": {
       "model_id": "85a717191587435d87662033662e035d",
       "version_major": 2,
       "version_minor": 0
      },
      "text/plain": [
       "Transcribing:   0%|          | 0/1 [00:00<?, ?it/s]"
      ]
     },
     "metadata": {},
     "output_type": "display_data"
    },
    {
     "data": {
      "application/vnd.jupyter.widget-view+json": {
       "model_id": "cf1348c408584dcca0a3fab57674f7f3",
       "version_major": 2,
       "version_minor": 0
      },
      "text/plain": [
       "Transcribing:   0%|          | 0/1 [00:00<?, ?it/s]"
      ]
     },
     "metadata": {},
     "output_type": "display_data"
    },
    {
     "data": {
      "application/vnd.jupyter.widget-view+json": {
       "model_id": "fb0eeeaa113544efa8a1c0cea5a21369",
       "version_major": 2,
       "version_minor": 0
      },
      "text/plain": [
       "Transcribing:   0%|          | 0/1 [00:00<?, ?it/s]"
      ]
     },
     "metadata": {},
     "output_type": "display_data"
    },
    {
     "data": {
      "application/vnd.jupyter.widget-view+json": {
       "model_id": "430d68199a47462cabe5bb436cd69878",
       "version_major": 2,
       "version_minor": 0
      },
      "text/plain": [
       "Transcribing:   0%|          | 0/1 [00:00<?, ?it/s]"
      ]
     },
     "metadata": {},
     "output_type": "display_data"
    },
    {
     "data": {
      "application/vnd.jupyter.widget-view+json": {
       "model_id": "a30f12192a174f18812fefe07410ff58",
       "version_major": 2,
       "version_minor": 0
      },
      "text/plain": [
       "Transcribing:   0%|          | 0/1 [00:00<?, ?it/s]"
      ]
     },
     "metadata": {},
     "output_type": "display_data"
    },
    {
     "data": {
      "application/vnd.jupyter.widget-view+json": {
       "model_id": "a0285afbfe6b4adc9c7bdca7c0676d8e",
       "version_major": 2,
       "version_minor": 0
      },
      "text/plain": [
       "Transcribing:   0%|          | 0/1 [00:00<?, ?it/s]"
      ]
     },
     "metadata": {},
     "output_type": "display_data"
    },
    {
     "data": {
      "application/vnd.jupyter.widget-view+json": {
       "model_id": "fe5332bc73414ce5995d634bff2a898e",
       "version_major": 2,
       "version_minor": 0
      },
      "text/plain": [
       "Transcribing:   0%|          | 0/1 [00:00<?, ?it/s]"
      ]
     },
     "metadata": {},
     "output_type": "display_data"
    },
    {
     "data": {
      "application/vnd.jupyter.widget-view+json": {
       "model_id": "3348bdf12c264737aef42e2808818c37",
       "version_major": 2,
       "version_minor": 0
      },
      "text/plain": [
       "Transcribing:   0%|          | 0/1 [00:00<?, ?it/s]"
      ]
     },
     "metadata": {},
     "output_type": "display_data"
    },
    {
     "data": {
      "application/vnd.jupyter.widget-view+json": {
       "model_id": "5e4455b6e80147fdaffd3d82c21f7384",
       "version_major": 2,
       "version_minor": 0
      },
      "text/plain": [
       "Transcribing:   0%|          | 0/1 [00:00<?, ?it/s]"
      ]
     },
     "metadata": {},
     "output_type": "display_data"
    },
    {
     "data": {
      "application/vnd.jupyter.widget-view+json": {
       "model_id": "121b58438bb749fa8abbb75d013f3476",
       "version_major": 2,
       "version_minor": 0
      },
      "text/plain": [
       "Transcribing:   0%|          | 0/1 [00:00<?, ?it/s]"
      ]
     },
     "metadata": {},
     "output_type": "display_data"
    },
    {
     "data": {
      "application/vnd.jupyter.widget-view+json": {
       "model_id": "a3465d04984b422982cc74333b10b2ea",
       "version_major": 2,
       "version_minor": 0
      },
      "text/plain": [
       "Transcribing:   0%|          | 0/1 [00:00<?, ?it/s]"
      ]
     },
     "metadata": {},
     "output_type": "display_data"
    },
    {
     "data": {
      "application/vnd.jupyter.widget-view+json": {
       "model_id": "ea8ddbdab8c64afda42273e39a73ad76",
       "version_major": 2,
       "version_minor": 0
      },
      "text/plain": [
       "Transcribing:   0%|          | 0/1 [00:00<?, ?it/s]"
      ]
     },
     "metadata": {},
     "output_type": "display_data"
    },
    {
     "data": {
      "application/vnd.jupyter.widget-view+json": {
       "model_id": "ad5149263d0e403b9160874f36a25481",
       "version_major": 2,
       "version_minor": 0
      },
      "text/plain": [
       "Transcribing:   0%|          | 0/1 [00:00<?, ?it/s]"
      ]
     },
     "metadata": {},
     "output_type": "display_data"
    },
    {
     "data": {
      "application/vnd.jupyter.widget-view+json": {
       "model_id": "261d82cfe72a449495977b356cd67b71",
       "version_major": 2,
       "version_minor": 0
      },
      "text/plain": [
       "Transcribing:   0%|          | 0/1 [00:00<?, ?it/s]"
      ]
     },
     "metadata": {},
     "output_type": "display_data"
    },
    {
     "data": {
      "application/vnd.jupyter.widget-view+json": {
       "model_id": "97247ca182a1412a9a74fc5c8204852f",
       "version_major": 2,
       "version_minor": 0
      },
      "text/plain": [
       "Transcribing:   0%|          | 0/1 [00:00<?, ?it/s]"
      ]
     },
     "metadata": {},
     "output_type": "display_data"
    },
    {
     "data": {
      "application/vnd.jupyter.widget-view+json": {
       "model_id": "faf94d7b730040c9b43a16b57006a613",
       "version_major": 2,
       "version_minor": 0
      },
      "text/plain": [
       "Transcribing:   0%|          | 0/1 [00:00<?, ?it/s]"
      ]
     },
     "metadata": {},
     "output_type": "display_data"
    },
    {
     "data": {
      "application/vnd.jupyter.widget-view+json": {
       "model_id": "556109fa2fe041458c0ea9a56a351da2",
       "version_major": 2,
       "version_minor": 0
      },
      "text/plain": [
       "Transcribing:   0%|          | 0/1 [00:00<?, ?it/s]"
      ]
     },
     "metadata": {},
     "output_type": "display_data"
    },
    {
     "data": {
      "application/vnd.jupyter.widget-view+json": {
       "model_id": "992bcb73e15345688261dd19528ad9f9",
       "version_major": 2,
       "version_minor": 0
      },
      "text/plain": [
       "Transcribing:   0%|          | 0/1 [00:00<?, ?it/s]"
      ]
     },
     "metadata": {},
     "output_type": "display_data"
    },
    {
     "data": {
      "application/vnd.jupyter.widget-view+json": {
       "model_id": "ec1be6bd23804077a07846b0886ec5b1",
       "version_major": 2,
       "version_minor": 0
      },
      "text/plain": [
       "Transcribing:   0%|          | 0/1 [00:00<?, ?it/s]"
      ]
     },
     "metadata": {},
     "output_type": "display_data"
    },
    {
     "data": {
      "application/vnd.jupyter.widget-view+json": {
       "model_id": "d0fc34f5492c46088cff691fa2e93431",
       "version_major": 2,
       "version_minor": 0
      },
      "text/plain": [
       "Transcribing:   0%|          | 0/1 [00:00<?, ?it/s]"
      ]
     },
     "metadata": {},
     "output_type": "display_data"
    },
    {
     "data": {
      "application/vnd.jupyter.widget-view+json": {
       "model_id": "1c88cf92b889489dbd79453b198a06e1",
       "version_major": 2,
       "version_minor": 0
      },
      "text/plain": [
       "Transcribing:   0%|          | 0/1 [00:00<?, ?it/s]"
      ]
     },
     "metadata": {},
     "output_type": "display_data"
    },
    {
     "data": {
      "application/vnd.jupyter.widget-view+json": {
       "model_id": "08e959925122441baa93384ed62584df",
       "version_major": 2,
       "version_minor": 0
      },
      "text/plain": [
       "Transcribing:   0%|          | 0/1 [00:00<?, ?it/s]"
      ]
     },
     "metadata": {},
     "output_type": "display_data"
    },
    {
     "data": {
      "application/vnd.jupyter.widget-view+json": {
       "model_id": "97f11e3ff41e4183ac15a37d210874e9",
       "version_major": 2,
       "version_minor": 0
      },
      "text/plain": [
       "Transcribing:   0%|          | 0/1 [00:00<?, ?it/s]"
      ]
     },
     "metadata": {},
     "output_type": "display_data"
    },
    {
     "data": {
      "application/vnd.jupyter.widget-view+json": {
       "model_id": "eec552393b9d478f9718e750b9b71ed2",
       "version_major": 2,
       "version_minor": 0
      },
      "text/plain": [
       "Transcribing:   0%|          | 0/1 [00:00<?, ?it/s]"
      ]
     },
     "metadata": {},
     "output_type": "display_data"
    },
    {
     "data": {
      "application/vnd.jupyter.widget-view+json": {
       "model_id": "b083e179523a42d5a96689f84f4ce7d0",
       "version_major": 2,
       "version_minor": 0
      },
      "text/plain": [
       "Transcribing:   0%|          | 0/1 [00:00<?, ?it/s]"
      ]
     },
     "metadata": {},
     "output_type": "display_data"
    },
    {
     "data": {
      "application/vnd.jupyter.widget-view+json": {
       "model_id": "b04135edcac24fa58ea8a11bc26a6067",
       "version_major": 2,
       "version_minor": 0
      },
      "text/plain": [
       "Transcribing:   0%|          | 0/1 [00:00<?, ?it/s]"
      ]
     },
     "metadata": {},
     "output_type": "display_data"
    },
    {
     "data": {
      "application/vnd.jupyter.widget-view+json": {
       "model_id": "52d489a2df5d45dcb07fcecca4b0706f",
       "version_major": 2,
       "version_minor": 0
      },
      "text/plain": [
       "Transcribing:   0%|          | 0/1 [00:00<?, ?it/s]"
      ]
     },
     "metadata": {},
     "output_type": "display_data"
    },
    {
     "data": {
      "application/vnd.jupyter.widget-view+json": {
       "model_id": "5a47886e17db4c9daa82bd4b9d79de7f",
       "version_major": 2,
       "version_minor": 0
      },
      "text/plain": [
       "Transcribing:   0%|          | 0/1 [00:00<?, ?it/s]"
      ]
     },
     "metadata": {},
     "output_type": "display_data"
    },
    {
     "data": {
      "application/vnd.jupyter.widget-view+json": {
       "model_id": "357b83968c454a6fb1d553528b3e7d0d",
       "version_major": 2,
       "version_minor": 0
      },
      "text/plain": [
       "Transcribing:   0%|          | 0/1 [00:00<?, ?it/s]"
      ]
     },
     "metadata": {},
     "output_type": "display_data"
    },
    {
     "data": {
      "application/vnd.jupyter.widget-view+json": {
       "model_id": "e6583c8cb36c48a6b10cd92cc9522f41",
       "version_major": 2,
       "version_minor": 0
      },
      "text/plain": [
       "Transcribing:   0%|          | 0/1 [00:00<?, ?it/s]"
      ]
     },
     "metadata": {},
     "output_type": "display_data"
    },
    {
     "data": {
      "application/vnd.jupyter.widget-view+json": {
       "model_id": "9712d97e69294852bc7c2642c80786d1",
       "version_major": 2,
       "version_minor": 0
      },
      "text/plain": [
       "Transcribing:   0%|          | 0/1 [00:00<?, ?it/s]"
      ]
     },
     "metadata": {},
     "output_type": "display_data"
    },
    {
     "data": {
      "application/vnd.jupyter.widget-view+json": {
       "model_id": "103ba226d41c4a8aad77f9cce80b7509",
       "version_major": 2,
       "version_minor": 0
      },
      "text/plain": [
       "Transcribing:   0%|          | 0/1 [00:00<?, ?it/s]"
      ]
     },
     "metadata": {},
     "output_type": "display_data"
    },
    {
     "data": {
      "application/vnd.jupyter.widget-view+json": {
       "model_id": "9f1cc440c53f40c58d2254aa18e1366c",
       "version_major": 2,
       "version_minor": 0
      },
      "text/plain": [
       "Transcribing:   0%|          | 0/1 [00:00<?, ?it/s]"
      ]
     },
     "metadata": {},
     "output_type": "display_data"
    },
    {
     "data": {
      "application/vnd.jupyter.widget-view+json": {
       "model_id": "1745d656a27d4ad292be8d44cf6456ac",
       "version_major": 2,
       "version_minor": 0
      },
      "text/plain": [
       "Transcribing:   0%|          | 0/1 [00:00<?, ?it/s]"
      ]
     },
     "metadata": {},
     "output_type": "display_data"
    },
    {
     "data": {
      "application/vnd.jupyter.widget-view+json": {
       "model_id": "4b112e1fcd9946bab59b02bbb6b8098c",
       "version_major": 2,
       "version_minor": 0
      },
      "text/plain": [
       "Transcribing:   0%|          | 0/1 [00:00<?, ?it/s]"
      ]
     },
     "metadata": {},
     "output_type": "display_data"
    },
    {
     "data": {
      "application/vnd.jupyter.widget-view+json": {
       "model_id": "b2abb02c5a954f939feda496c017ef22",
       "version_major": 2,
       "version_minor": 0
      },
      "text/plain": [
       "Transcribing:   0%|          | 0/1 [00:00<?, ?it/s]"
      ]
     },
     "metadata": {},
     "output_type": "display_data"
    },
    {
     "data": {
      "application/vnd.jupyter.widget-view+json": {
       "model_id": "0cfdb1a30353447d94d653d8fbb67a99",
       "version_major": 2,
       "version_minor": 0
      },
      "text/plain": [
       "Transcribing:   0%|          | 0/1 [00:00<?, ?it/s]"
      ]
     },
     "metadata": {},
     "output_type": "display_data"
    },
    {
     "data": {
      "application/vnd.jupyter.widget-view+json": {
       "model_id": "2bbdc142943b40da8076e05a231314cd",
       "version_major": 2,
       "version_minor": 0
      },
      "text/plain": [
       "Transcribing:   0%|          | 0/1 [00:00<?, ?it/s]"
      ]
     },
     "metadata": {},
     "output_type": "display_data"
    },
    {
     "data": {
      "application/vnd.jupyter.widget-view+json": {
       "model_id": "e23bea7e7526430aba0e2357ed3ec859",
       "version_major": 2,
       "version_minor": 0
      },
      "text/plain": [
       "Transcribing:   0%|          | 0/1 [00:00<?, ?it/s]"
      ]
     },
     "metadata": {},
     "output_type": "display_data"
    },
    {
     "data": {
      "application/vnd.jupyter.widget-view+json": {
       "model_id": "3e72a137b33349048dc848f744686b94",
       "version_major": 2,
       "version_minor": 0
      },
      "text/plain": [
       "Transcribing:   0%|          | 0/1 [00:00<?, ?it/s]"
      ]
     },
     "metadata": {},
     "output_type": "display_data"
    },
    {
     "data": {
      "application/vnd.jupyter.widget-view+json": {
       "model_id": "217e7b8951e945c49ebf8fd2a58e2c47",
       "version_major": 2,
       "version_minor": 0
      },
      "text/plain": [
       "Transcribing:   0%|          | 0/1 [00:00<?, ?it/s]"
      ]
     },
     "metadata": {},
     "output_type": "display_data"
    },
    {
     "data": {
      "application/vnd.jupyter.widget-view+json": {
       "model_id": "3c3ab55747b243dca1a4c880ea6a69c3",
       "version_major": 2,
       "version_minor": 0
      },
      "text/plain": [
       "Transcribing:   0%|          | 0/1 [00:00<?, ?it/s]"
      ]
     },
     "metadata": {},
     "output_type": "display_data"
    },
    {
     "data": {
      "application/vnd.jupyter.widget-view+json": {
       "model_id": "9545adfa26bc4635b36f371c97900ceb",
       "version_major": 2,
       "version_minor": 0
      },
      "text/plain": [
       "Transcribing:   0%|          | 0/1 [00:00<?, ?it/s]"
      ]
     },
     "metadata": {},
     "output_type": "display_data"
    },
    {
     "data": {
      "application/vnd.jupyter.widget-view+json": {
       "model_id": "72b48f3e528b4f81a0251ae2974e90d8",
       "version_major": 2,
       "version_minor": 0
      },
      "text/plain": [
       "Transcribing:   0%|          | 0/1 [00:00<?, ?it/s]"
      ]
     },
     "metadata": {},
     "output_type": "display_data"
    },
    {
     "data": {
      "application/vnd.jupyter.widget-view+json": {
       "model_id": "b002c80036ba435d97a71dacd39464a8",
       "version_major": 2,
       "version_minor": 0
      },
      "text/plain": [
       "Transcribing:   0%|          | 0/1 [00:00<?, ?it/s]"
      ]
     },
     "metadata": {},
     "output_type": "display_data"
    },
    {
     "data": {
      "application/vnd.jupyter.widget-view+json": {
       "model_id": "bdf816d6e29e46518d3cfe3bf6581f3d",
       "version_major": 2,
       "version_minor": 0
      },
      "text/plain": [
       "Transcribing:   0%|          | 0/1 [00:00<?, ?it/s]"
      ]
     },
     "metadata": {},
     "output_type": "display_data"
    },
    {
     "data": {
      "application/vnd.jupyter.widget-view+json": {
       "model_id": "642615a4f6e7457baed03a899b7caaef",
       "version_major": 2,
       "version_minor": 0
      },
      "text/plain": [
       "Transcribing:   0%|          | 0/1 [00:00<?, ?it/s]"
      ]
     },
     "metadata": {},
     "output_type": "display_data"
    },
    {
     "data": {
      "application/vnd.jupyter.widget-view+json": {
       "model_id": "43373f86c0b94c4d9f2ccdad7099de71",
       "version_major": 2,
       "version_minor": 0
      },
      "text/plain": [
       "Transcribing:   0%|          | 0/1 [00:00<?, ?it/s]"
      ]
     },
     "metadata": {},
     "output_type": "display_data"
    },
    {
     "data": {
      "application/vnd.jupyter.widget-view+json": {
       "model_id": "3249315fb34945ababd13fdaa7603811",
       "version_major": 2,
       "version_minor": 0
      },
      "text/plain": [
       "Transcribing:   0%|          | 0/1 [00:00<?, ?it/s]"
      ]
     },
     "metadata": {},
     "output_type": "display_data"
    },
    {
     "data": {
      "application/vnd.jupyter.widget-view+json": {
       "model_id": "2e2a11f0414643f89d670968329a927a",
       "version_major": 2,
       "version_minor": 0
      },
      "text/plain": [
       "Transcribing:   0%|          | 0/1 [00:00<?, ?it/s]"
      ]
     },
     "metadata": {},
     "output_type": "display_data"
    },
    {
     "data": {
      "application/vnd.jupyter.widget-view+json": {
       "model_id": "c8578cb1592543f09b17947baa133284",
       "version_major": 2,
       "version_minor": 0
      },
      "text/plain": [
       "Transcribing:   0%|          | 0/1 [00:00<?, ?it/s]"
      ]
     },
     "metadata": {},
     "output_type": "display_data"
    },
    {
     "data": {
      "application/vnd.jupyter.widget-view+json": {
       "model_id": "78777bf32f5f44daac1fa9bbe4448a54",
       "version_major": 2,
       "version_minor": 0
      },
      "text/plain": [
       "Transcribing:   0%|          | 0/1 [00:00<?, ?it/s]"
      ]
     },
     "metadata": {},
     "output_type": "display_data"
    },
    {
     "data": {
      "application/vnd.jupyter.widget-view+json": {
       "model_id": "fd83051cd5f34f909efaaae398e46d1a",
       "version_major": 2,
       "version_minor": 0
      },
      "text/plain": [
       "Transcribing:   0%|          | 0/1 [00:00<?, ?it/s]"
      ]
     },
     "metadata": {},
     "output_type": "display_data"
    },
    {
     "data": {
      "application/vnd.jupyter.widget-view+json": {
       "model_id": "0d475af2801a46dcbcf9592e0202a865",
       "version_major": 2,
       "version_minor": 0
      },
      "text/plain": [
       "Transcribing:   0%|          | 0/1 [00:00<?, ?it/s]"
      ]
     },
     "metadata": {},
     "output_type": "display_data"
    },
    {
     "data": {
      "application/vnd.jupyter.widget-view+json": {
       "model_id": "5cc44415fa754d96bdf7bb03fd72b4db",
       "version_major": 2,
       "version_minor": 0
      },
      "text/plain": [
       "Transcribing:   0%|          | 0/1 [00:00<?, ?it/s]"
      ]
     },
     "metadata": {},
     "output_type": "display_data"
    },
    {
     "data": {
      "application/vnd.jupyter.widget-view+json": {
       "model_id": "c9bd7816c13f4f448e651007772a019d",
       "version_major": 2,
       "version_minor": 0
      },
      "text/plain": [
       "Transcribing:   0%|          | 0/1 [00:00<?, ?it/s]"
      ]
     },
     "metadata": {},
     "output_type": "display_data"
    },
    {
     "data": {
      "application/vnd.jupyter.widget-view+json": {
       "model_id": "bd2a543d412042eea8515e76bde75662",
       "version_major": 2,
       "version_minor": 0
      },
      "text/plain": [
       "Transcribing:   0%|          | 0/1 [00:00<?, ?it/s]"
      ]
     },
     "metadata": {},
     "output_type": "display_data"
    },
    {
     "data": {
      "application/vnd.jupyter.widget-view+json": {
       "model_id": "81c31ad2d79e4949831ce8885799ff7e",
       "version_major": 2,
       "version_minor": 0
      },
      "text/plain": [
       "Transcribing:   0%|          | 0/1 [00:00<?, ?it/s]"
      ]
     },
     "metadata": {},
     "output_type": "display_data"
    },
    {
     "data": {
      "application/vnd.jupyter.widget-view+json": {
       "model_id": "328ad9b819314f339c2b96c35c046007",
       "version_major": 2,
       "version_minor": 0
      },
      "text/plain": [
       "Transcribing:   0%|          | 0/1 [00:00<?, ?it/s]"
      ]
     },
     "metadata": {},
     "output_type": "display_data"
    },
    {
     "data": {
      "application/vnd.jupyter.widget-view+json": {
       "model_id": "3045894a609948b89d5c07849f53ccbf",
       "version_major": 2,
       "version_minor": 0
      },
      "text/plain": [
       "Transcribing:   0%|          | 0/1 [00:00<?, ?it/s]"
      ]
     },
     "metadata": {},
     "output_type": "display_data"
    },
    {
     "data": {
      "application/vnd.jupyter.widget-view+json": {
       "model_id": "39e36cf369b6412ead18743b5db3e28a",
       "version_major": 2,
       "version_minor": 0
      },
      "text/plain": [
       "Transcribing:   0%|          | 0/1 [00:00<?, ?it/s]"
      ]
     },
     "metadata": {},
     "output_type": "display_data"
    },
    {
     "data": {
      "application/vnd.jupyter.widget-view+json": {
       "model_id": "b54308a8493241bca0f17f42a8e532ea",
       "version_major": 2,
       "version_minor": 0
      },
      "text/plain": [
       "Transcribing:   0%|          | 0/1 [00:00<?, ?it/s]"
      ]
     },
     "metadata": {},
     "output_type": "display_data"
    },
    {
     "data": {
      "application/vnd.jupyter.widget-view+json": {
       "model_id": "b0de3b839cf3447294000a6653d4dc5a",
       "version_major": 2,
       "version_minor": 0
      },
      "text/plain": [
       "Transcribing:   0%|          | 0/1 [00:00<?, ?it/s]"
      ]
     },
     "metadata": {},
     "output_type": "display_data"
    },
    {
     "data": {
      "application/vnd.jupyter.widget-view+json": {
       "model_id": "1b05946524cc4c4a9c9e59189ebb6368",
       "version_major": 2,
       "version_minor": 0
      },
      "text/plain": [
       "Transcribing:   0%|          | 0/1 [00:00<?, ?it/s]"
      ]
     },
     "metadata": {},
     "output_type": "display_data"
    },
    {
     "data": {
      "application/vnd.jupyter.widget-view+json": {
       "model_id": "e6637bd75f2741248fc01bdc3d220131",
       "version_major": 2,
       "version_minor": 0
      },
      "text/plain": [
       "Transcribing:   0%|          | 0/1 [00:00<?, ?it/s]"
      ]
     },
     "metadata": {},
     "output_type": "display_data"
    },
    {
     "data": {
      "application/vnd.jupyter.widget-view+json": {
       "model_id": "e7409aba9d0f426d99b20e4182ea9fa8",
       "version_major": 2,
       "version_minor": 0
      },
      "text/plain": [
       "Transcribing:   0%|          | 0/1 [00:00<?, ?it/s]"
      ]
     },
     "metadata": {},
     "output_type": "display_data"
    },
    {
     "data": {
      "application/vnd.jupyter.widget-view+json": {
       "model_id": "67d9622aca8b48838425568d4b74fae0",
       "version_major": 2,
       "version_minor": 0
      },
      "text/plain": [
       "Transcribing:   0%|          | 0/1 [00:00<?, ?it/s]"
      ]
     },
     "metadata": {},
     "output_type": "display_data"
    },
    {
     "data": {
      "application/vnd.jupyter.widget-view+json": {
       "model_id": "dce2a2fe399e4153928e436db1207e2b",
       "version_major": 2,
       "version_minor": 0
      },
      "text/plain": [
       "Transcribing:   0%|          | 0/1 [00:00<?, ?it/s]"
      ]
     },
     "metadata": {},
     "output_type": "display_data"
    },
    {
     "data": {
      "application/vnd.jupyter.widget-view+json": {
       "model_id": "0f622e2d892147649dcc90c5aff9df3b",
       "version_major": 2,
       "version_minor": 0
      },
      "text/plain": [
       "Transcribing:   0%|          | 0/1 [00:00<?, ?it/s]"
      ]
     },
     "metadata": {},
     "output_type": "display_data"
    },
    {
     "data": {
      "application/vnd.jupyter.widget-view+json": {
       "model_id": "37f384a7ecc246bda8e3ebcf10b651be",
       "version_major": 2,
       "version_minor": 0
      },
      "text/plain": [
       "Transcribing:   0%|          | 0/1 [00:00<?, ?it/s]"
      ]
     },
     "metadata": {},
     "output_type": "display_data"
    },
    {
     "data": {
      "application/vnd.jupyter.widget-view+json": {
       "model_id": "8c0e41069dd240c7a5fac210fcec3b0e",
       "version_major": 2,
       "version_minor": 0
      },
      "text/plain": [
       "Transcribing:   0%|          | 0/1 [00:00<?, ?it/s]"
      ]
     },
     "metadata": {},
     "output_type": "display_data"
    },
    {
     "data": {
      "application/vnd.jupyter.widget-view+json": {
       "model_id": "6874f6238455491eaa9a42681444c88d",
       "version_major": 2,
       "version_minor": 0
      },
      "text/plain": [
       "Transcribing:   0%|          | 0/1 [00:00<?, ?it/s]"
      ]
     },
     "metadata": {},
     "output_type": "display_data"
    },
    {
     "data": {
      "application/vnd.jupyter.widget-view+json": {
       "model_id": "cb1572476f9c43549b40e0fdfdf0efaa",
       "version_major": 2,
       "version_minor": 0
      },
      "text/plain": [
       "Transcribing:   0%|          | 0/1 [00:00<?, ?it/s]"
      ]
     },
     "metadata": {},
     "output_type": "display_data"
    },
    {
     "data": {
      "application/vnd.jupyter.widget-view+json": {
       "model_id": "96b4527002ca4b4b8c9591d8b346fa86",
       "version_major": 2,
       "version_minor": 0
      },
      "text/plain": [
       "Transcribing:   0%|          | 0/1 [00:00<?, ?it/s]"
      ]
     },
     "metadata": {},
     "output_type": "display_data"
    },
    {
     "data": {
      "application/vnd.jupyter.widget-view+json": {
       "model_id": "37fa2d00242c43d6a1217f9e76d9d39b",
       "version_major": 2,
       "version_minor": 0
      },
      "text/plain": [
       "Transcribing:   0%|          | 0/1 [00:00<?, ?it/s]"
      ]
     },
     "metadata": {},
     "output_type": "display_data"
    },
    {
     "data": {
      "application/vnd.jupyter.widget-view+json": {
       "model_id": "4cdab34b47dd4e0bb5da957ea9138639",
       "version_major": 2,
       "version_minor": 0
      },
      "text/plain": [
       "Transcribing:   0%|          | 0/1 [00:00<?, ?it/s]"
      ]
     },
     "metadata": {},
     "output_type": "display_data"
    },
    {
     "data": {
      "application/vnd.jupyter.widget-view+json": {
       "model_id": "5bd11597f65e4c72a5a5799b1b2f0e11",
       "version_major": 2,
       "version_minor": 0
      },
      "text/plain": [
       "Transcribing:   0%|          | 0/1 [00:00<?, ?it/s]"
      ]
     },
     "metadata": {},
     "output_type": "display_data"
    },
    {
     "data": {
      "application/vnd.jupyter.widget-view+json": {
       "model_id": "56cdf85d31e5470c9b94ade974c1a901",
       "version_major": 2,
       "version_minor": 0
      },
      "text/plain": [
       "Transcribing:   0%|          | 0/1 [00:00<?, ?it/s]"
      ]
     },
     "metadata": {},
     "output_type": "display_data"
    },
    {
     "data": {
      "application/vnd.jupyter.widget-view+json": {
       "model_id": "0a8f71b941164dad90217fbc9009425b",
       "version_major": 2,
       "version_minor": 0
      },
      "text/plain": [
       "Transcribing:   0%|          | 0/1 [00:00<?, ?it/s]"
      ]
     },
     "metadata": {},
     "output_type": "display_data"
    },
    {
     "data": {
      "application/vnd.jupyter.widget-view+json": {
       "model_id": "c62809ae50d24b5bae29a9a3949a9347",
       "version_major": 2,
       "version_minor": 0
      },
      "text/plain": [
       "Transcribing:   0%|          | 0/1 [00:00<?, ?it/s]"
      ]
     },
     "metadata": {},
     "output_type": "display_data"
    },
    {
     "data": {
      "application/vnd.jupyter.widget-view+json": {
       "model_id": "bdd1437a477c413eb7a049bb08a9765e",
       "version_major": 2,
       "version_minor": 0
      },
      "text/plain": [
       "Transcribing:   0%|          | 0/1 [00:00<?, ?it/s]"
      ]
     },
     "metadata": {},
     "output_type": "display_data"
    },
    {
     "data": {
      "application/vnd.jupyter.widget-view+json": {
       "model_id": "c449e05e34bc450aa10d21720e7401c2",
       "version_major": 2,
       "version_minor": 0
      },
      "text/plain": [
       "Transcribing:   0%|          | 0/1 [00:00<?, ?it/s]"
      ]
     },
     "metadata": {},
     "output_type": "display_data"
    },
    {
     "data": {
      "application/vnd.jupyter.widget-view+json": {
       "model_id": "18baeafb4000422098fe7d3cdf358ad7",
       "version_major": 2,
       "version_minor": 0
      },
      "text/plain": [
       "Transcribing:   0%|          | 0/1 [00:00<?, ?it/s]"
      ]
     },
     "metadata": {},
     "output_type": "display_data"
    },
    {
     "data": {
      "application/vnd.jupyter.widget-view+json": {
       "model_id": "c518fb640e9b415abda5da16d3987f63",
       "version_major": 2,
       "version_minor": 0
      },
      "text/plain": [
       "Transcribing:   0%|          | 0/1 [00:00<?, ?it/s]"
      ]
     },
     "metadata": {},
     "output_type": "display_data"
    },
    {
     "data": {
      "application/vnd.jupyter.widget-view+json": {
       "model_id": "a0c5db07b04946c0bb9d93ad5cc99f5d",
       "version_major": 2,
       "version_minor": 0
      },
      "text/plain": [
       "Transcribing:   0%|          | 0/1 [00:00<?, ?it/s]"
      ]
     },
     "metadata": {},
     "output_type": "display_data"
    }
   ],
   "source": [
    "df['nvdia'] = df.apply(lambda x: get_nvdia_text(x.xmin, x.xmax, audio_dir), axis = 1)"
   ]
  },
  {
   "cell_type": "code",
   "execution_count": 22,
   "id": "d18c95eb",
   "metadata": {},
   "outputs": [],
   "source": [
    "## whisper\n",
    "import whisper_timestamped as whisper\n",
    "model = whisper.load_model(\"base\", device=\"cpu\")\n",
    "\n",
    "def get_whisper_text(t1, t2, audio_dir):\n",
    "    t1 = t1 * 1000 #Works in milliseconds\n",
    "    t2 = t2 * 1000\n",
    "    newAudio = AudioSegment.from_wav(audio_dir)\n",
    "    newAudio = newAudio[t1:t2]\n",
    "    newAudio.export('/Users/irisz/downloads/2023_ELIC/slice.wav', format=\"wav\")\n",
    "    audio = whisper.load_audio('/Users/irisz/downloads/2023_ELIC/slice.wav')\n",
    "    result = whisper.transcribe(model, audio, language=\"Croatian\")\n",
    "    return result\n",
    "\n",
    "def get_whisper_text_padding(t1, t2, audio_dir):\n",
    "    if t2 - t1 > 1:\n",
    "        return np.nan\n",
    "    else:\n",
    "        pad = (1 - (t2 - t1))/2\n",
    "    t1 = (t1 - pad) * 1000 #Works in milliseconds\n",
    "    t2 = (t2 + pad) * 1000\n",
    "    newAudio = AudioSegment.from_wav(audio_dir)\n",
    "    newAudio = newAudio[t1:t2]\n",
    "    newAudio.export('/Users/irisz/downloads/2023_ELIC/slice.wav', format=\"wav\")\n",
    "    audio = whisper.load_audio('/Users/irisz/downloads/2023_ELIC/slice.wav')\n",
    "    result = whisper.transcribe(model, audio, language=\"Croatian\")\n",
    "    result = result['text']\n",
    "    return result"
   ]
  },
  {
   "cell_type": "code",
   "execution_count": 18,
   "id": "751c627e",
   "metadata": {},
   "outputs": [
    {
     "name": "stderr",
     "output_type": "stream",
     "text": [
      "100%|██████████| 30/30 [00:01<00:00, 27.03frames/s]\n",
      "  0%|          | 0/120 [00:01<?, ?frames/s]\n",
      "100%|██████████| 240/240 [00:01<00:00, 205.01frames/s]\n",
      "100%|██████████| 268/268 [00:06<00:00, 39.60frames/s]\n",
      "100%|██████████| 151/151 [00:01<00:00, 113.33frames/s]\n",
      "  0%|          | 0/43 [00:01<?, ?frames/s]\n",
      "100%|██████████| 143/143 [00:01<00:00, 106.03frames/s]\n",
      "100%|██████████| 57/57 [00:06<00:00,  8.61frames/s]\n",
      "100%|██████████| 326/326 [00:01<00:00, 213.73frames/s]\n",
      "  0%|          | 0/42 [00:01<?, ?frames/s]\n",
      "100%|██████████| 476/476 [00:01<00:00, 296.64frames/s]\n",
      "  0%|          | 0/48 [00:01<?, ?frames/s]\n",
      "100%|██████████| 133/133 [00:01<00:00, 109.52frames/s]\n",
      "100%|██████████| 31/31 [00:06<00:00,  4.77frames/s]\n",
      "100%|██████████| 277/277 [00:01<00:00, 196.66frames/s]\n",
      "100%|██████████| 64/64 [00:01<00:00, 55.75frames/s]\n",
      "100%|██████████| 30/30 [00:01<00:00, 27.23frames/s]\n",
      "100%|██████████| 36/36 [00:06<00:00,  5.56frames/s]\n",
      "100%|██████████| 60/60 [00:01<00:00, 45.94frames/s]\n",
      "100%|██████████| 44/44 [00:01<00:00, 41.93frames/s]\n",
      "100%|██████████| 85/85 [00:01<00:00, 73.09frames/s]\n",
      "  0%|          | 0/7 [00:01<?, ?frames/s]\n",
      "  0%|          | 0/30 [00:01<?, ?frames/s]\n",
      "100%|██████████| 7/7 [00:06<00:00,  1.04frames/s]\n",
      "100%|██████████| 14/14 [00:06<00:00,  2.18frames/s]\n",
      "  0%|          | 0/7 [00:01<?, ?frames/s]\n",
      "  0%|          | 0/20 [00:01<?, ?frames/s]\n",
      "100%|██████████| 64/64 [00:01<00:00, 57.87frames/s]\n",
      "100%|██████████| 90/90 [00:01<00:00, 75.21frames/s]\n",
      "100%|██████████| 53/53 [00:01<00:00, 49.40frames/s]\n",
      "100%|██████████| 16/16 [00:06<00:00,  2.47frames/s]\n",
      "  0%|          | 0/20 [00:01<?, ?frames/s]\n",
      "100%|██████████| 49/49 [00:02<00:00, 19.60frames/s]\n",
      "Got inconsistent length for segment 0 (63 != 31). Some words have been ignored.\n",
      "100%|██████████| 17/17 [00:06<00:00,  2.63frames/s]\n",
      "100%|██████████| 28/28 [00:06<00:00,  4.35frames/s]\n",
      "  0%|          | 0/10 [00:00<?, ?frames/s]\n",
      "  0%|          | 0/45 [00:01<?, ?frames/s]\n",
      "100%|██████████| 34/34 [00:01<00:00, 30.71frames/s]\n",
      "  0%|          | 0/13 [00:01<?, ?frames/s]\n",
      "100%|██████████| 61/61 [00:01<00:00, 52.32frames/s]\n",
      "100%|██████████| 65/65 [00:01<00:00, 59.38frames/s]\n",
      "100%|██████████| 51/51 [00:01<00:00, 46.78frames/s]\n",
      "  0%|          | 0/54 [00:01<?, ?frames/s]\n",
      "  0%|          | 0/40 [00:01<?, ?frames/s]\n",
      "  0%|          | 0/29 [00:01<?, ?frames/s]\n",
      "100%|██████████| 4/4 [00:06<00:00,  1.63s/frames]\n",
      "  0%|          | 0/39 [00:01<?, ?frames/s]\n",
      "  0%|          | 0/4 [00:01<?, ?frames/s]\n",
      "100%|██████████| 30/30 [00:01<00:00, 26.69frames/s]\n",
      "  0%|          | 0/31 [00:01<?, ?frames/s]\n",
      "100%|██████████| 18/18 [00:06<00:00,  2.78frames/s]\n",
      "  0%|          | 0/49 [00:01<?, ?frames/s]\n",
      "  0%|          | 0/34 [00:01<?, ?frames/s]\n",
      "100%|██████████| 24/24 [00:06<00:00,  3.69frames/s]\n",
      "100%|██████████| 22/22 [00:01<00:00, 18.06frames/s]\n",
      "  0%|          | 0/16 [00:01<?, ?frames/s]\n",
      "100%|██████████| 8/8 [00:06<00:00,  1.23frames/s]\n",
      "100%|██████████| 86/86 [00:01<00:00, 77.76frames/s]\n",
      "100%|██████████| 8/8 [00:06<00:00,  1.24frames/s]\n",
      "  0%|          | 0/26 [00:01<?, ?frames/s]\n",
      "  0%|          | 0/32 [00:01<?, ?frames/s]\n",
      "  0%|          | 0/12 [00:01<?, ?frames/s]\n",
      "100%|██████████| 14/14 [00:06<00:00,  2.14frames/s]\n",
      "100%|██████████| 63/63 [00:01<00:00, 55.33frames/s]\n",
      "  0%|          | 0/26 [00:01<?, ?frames/s]\n",
      "100%|██████████| 95/95 [00:01<00:00, 78.48frames/s]\n",
      "100%|██████████| 84/84 [00:01<00:00, 81.45frames/s]\n",
      "100%|██████████| 190/190 [00:01<00:00, 140.95frames/s]\n",
      "  0%|          | 0/61 [00:01<?, ?frames/s]\n",
      "100%|██████████| 167/167 [00:01<00:00, 145.11frames/s]\n",
      "100%|██████████| 159/159 [00:01<00:00, 103.84frames/s]\n",
      "  0%|          | 0/21 [00:01<?, ?frames/s]\n",
      "100%|██████████| 117/117 [00:01<00:00, 97.51frames/s]\n",
      "  0%|          | 0/85 [00:01<?, ?frames/s]\n",
      "100%|██████████| 512/512 [00:01<00:00, 307.87frames/s]\n",
      "  0%|          | 0/37 [00:01<?, ?frames/s]\n",
      "100%|██████████| 160/160 [00:01<00:00, 144.63frames/s]\n",
      "  0%|          | 0/55 [00:01<?, ?frames/s]\n",
      "100%|██████████| 305/305 [00:01<00:00, 214.11frames/s]\n",
      "100%|██████████| 540/540 [00:01<00:00, 366.22frames/s]\n",
      "  0%|          | 0/48 [00:01<?, ?frames/s]\n",
      "100%|██████████| 413/413 [00:01<00:00, 300.39frames/s]\n",
      "  0%|          | 0/84 [00:01<?, ?frames/s]\n",
      "100%|██████████| 880/880 [00:01<00:00, 537.63frames/s]\n",
      "  0%|          | 0/94 [00:01<?, ?frames/s]\n",
      "100%|██████████| 451/451 [00:01<00:00, 296.04frames/s]\n",
      "  0%|          | 0/63 [00:01<?, ?frames/s]\n",
      "100%|██████████| 697/697 [00:01<00:00, 368.18frames/s]\n",
      "  0%|          | 0/46 [00:01<?, ?frames/s]\n",
      "100%|██████████| 266/266 [00:01<00:00, 174.94frames/s]\n",
      "  0%|          | 0/20 [00:01<?, ?frames/s]\n",
      "100%|██████████| 734/734 [00:02<00:00, 335.20frames/s]\n",
      "100%|██████████| 76/76 [00:06<00:00, 11.59frames/s]\n",
      "100%|██████████| 228/228 [00:01<00:00, 155.25frames/s]\n",
      "  0%|          | 0/90 [00:01<?, ?frames/s]\n",
      "100%|██████████| 657/657 [00:01<00:00, 378.61frames/s]\n",
      "  0%|          | 0/51 [00:01<?, ?frames/s]\n",
      "100%|██████████| 503/503 [00:01<00:00, 338.96frames/s]\n",
      "  0%|          | 0/75 [00:01<?, ?frames/s]\n",
      "100%|██████████| 399/399 [00:01<00:00, 247.09frames/s]\n",
      "  0%|          | 0/49 [00:01<?, ?frames/s]\n",
      "100%|██████████| 187/187 [00:01<00:00, 138.35frames/s]\n",
      "  0%|          | 0/45 [00:01<?, ?frames/s]\n",
      "100%|██████████| 647/647 [00:01<00:00, 368.31frames/s]\n",
      "  0%|          | 0/45 [00:01<?, ?frames/s]\n",
      "100%|██████████| 499/499 [00:01<00:00, 327.92frames/s]\n",
      "100%|██████████| 71/71 [00:06<00:00, 10.97frames/s]\n",
      "100%|██████████| 323/323 [00:01<00:00, 201.65frames/s]\n",
      "  0%|          | 0/33 [00:01<?, ?frames/s]\n",
      "100%|██████████| 272/272 [00:01<00:00, 204.36frames/s]\n",
      "  0%|          | 0/38 [00:01<?, ?frames/s]\n",
      "100%|██████████| 480/480 [00:01<00:00, 267.46frames/s]\n",
      "100%|██████████| 38/38 [00:06<00:00,  5.58frames/s]\n",
      "100%|██████████| 70/70 [00:01<00:00, 61.71frames/s]\n",
      "  0%|          | 0/34 [00:01<?, ?frames/s]\n",
      "100%|██████████| 428/428 [00:01<00:00, 259.80frames/s]\n",
      "100%|██████████| 61/61 [00:07<00:00,  8.66frames/s]\n",
      "100%|██████████| 362/362 [00:01<00:00, 219.29frames/s]\n",
      "  0%|          | 0/41 [00:01<?, ?frames/s]\n",
      "100%|██████████| 63/63 [00:01<00:00, 55.23frames/s]\n",
      "  0%|          | 0/37 [00:01<?, ?frames/s]\n",
      "100%|██████████| 395/395 [00:01<00:00, 226.45frames/s]\n",
      "100%|██████████| 44/44 [00:06<00:00,  6.79frames/s]\n",
      "100%|██████████| 72/72 [00:01<00:00, 58.71frames/s]\n",
      "  0%|          | 0/33 [00:01<?, ?frames/s]\n",
      "100%|██████████| 680/680 [00:02<00:00, 316.58frames/s]\n",
      "  0%|          | 0/36 [00:01<?, ?frames/s]\n",
      "100%|██████████| 513/513 [00:01<00:00, 274.90frames/s]\n",
      "  0%|          | 0/43 [00:01<?, ?frames/s]\n",
      "100%|██████████| 434/434 [00:01<00:00, 305.94frames/s]\n",
      "100%|██████████| 49/49 [00:06<00:00,  7.41frames/s]\n",
      "100%|██████████| 90/90 [00:01<00:00, 82.70frames/s]\n",
      "100%|██████████| 33/33 [00:06<00:00,  4.94frames/s]\n",
      "100%|██████████| 119/119 [00:01<00:00, 99.24frames/s]\n",
      "  0%|          | 0/122 [00:01<?, ?frames/s]\n",
      "100%|██████████| 73/73 [00:01<00:00, 61.13frames/s]\n",
      "100%|██████████| 64/64 [00:01<00:00, 55.32frames/s]\n",
      "100%|██████████| 84/84 [00:01<00:00, 82.41frames/s]\n",
      "100%|██████████| 46/46 [00:01<00:00, 41.24frames/s]\n",
      "100%|██████████| 32/32 [00:06<00:00,  4.76frames/s]\n",
      "  0%|          | 0/18 [00:01<?, ?frames/s]\n",
      "100%|██████████| 14/14 [00:06<00:00,  2.13frames/s]\n",
      "100%|██████████| 7/7 [00:06<00:00,  1.08frames/s]\n",
      "100%|██████████| 71/71 [00:01<00:00, 55.87frames/s]\n",
      "100%|██████████| 15/15 [00:06<00:00,  2.31frames/s]\n",
      "  0%|          | 0/44 [00:01<?, ?frames/s]\n",
      "100%|██████████| 50/50 [00:06<00:00,  7.56frames/s]\n",
      "100%|██████████| 48/48 [00:01<00:00, 44.45frames/s]\n",
      "100%|██████████| 97/97 [00:01<00:00, 78.23frames/s]\n",
      "  0%|          | 0/62 [00:01<?, ?frames/s]\n",
      "  0%|          | 0/20 [00:01<?, ?frames/s]\n",
      "100%|██████████| 32/32 [00:01<00:00, 27.69frames/s]\n",
      "100%|██████████| 64/64 [00:01<00:00, 56.15frames/s]\n",
      "  0%|          | 0/27 [00:01<?, ?frames/s]\n",
      "100%|██████████| 56/56 [00:01<00:00, 44.49frames/s]\n",
      "  0%|          | 0/32 [00:01<?, ?frames/s]\n",
      "  0%|          | 0/25 [00:01<?, ?frames/s]\n",
      "  0%|          | 0/31 [00:01<?, ?frames/s]\n",
      "100%|██████████| 6/6 [00:06<00:00,  1.12s/frames]\n",
      "  0%|          | 0/13 [00:01<?, ?frames/s]\n",
      "100%|██████████| 52/52 [00:01<00:00, 45.28frames/s]\n",
      "100%|██████████| 20/20 [00:06<00:00,  2.99frames/s]\n",
      "  0%|          | 0/87 [00:01<?, ?frames/s]\n",
      "100%|██████████| 5/5 [00:06<00:00,  1.30s/frames]\n",
      "  0%|          | 0/10 [00:01<?, ?frames/s]\n",
      "  0%|          | 0/37 [00:01<?, ?frames/s]\n",
      "  0%|          | 0/7 [00:01<?, ?frames/s]\n",
      "100%|██████████| 79/79 [00:01<00:00, 70.19frames/s]\n",
      "  0%|          | 0/42 [00:01<?, ?frames/s]\n",
      "  0%|          | 0/34 [00:01<?, ?frames/s]\n",
      "100%|██████████| 85/85 [00:01<00:00, 79.32frames/s]\n",
      "  0%|          | 0/22 [00:01<?, ?frames/s]\n",
      "  0%|          | 0/59 [00:01<?, ?frames/s]\n",
      "  0%|          | 0/23 [00:01<?, ?frames/s]\n",
      "100%|██████████| 33/33 [00:06<00:00,  5.06frames/s]\n",
      "  0%|          | 0/27 [00:01<?, ?frames/s]\n",
      "100%|██████████| 31/31 [00:06<00:00,  4.80frames/s]\n",
      "100%|██████████| 88/88 [00:01<00:00, 80.67frames/s]\n",
      "100%|██████████| 108/108 [00:01<00:00, 97.03frames/s]\n",
      "100%|██████████| 79/79 [00:01<00:00, 70.66frames/s]\n",
      "  0%|          | 0/36 [00:01<?, ?frames/s]\n",
      "100%|██████████| 83/83 [00:01<00:00, 74.25frames/s]\n",
      "100%|██████████| 45/45 [00:01<00:00, 39.09frames/s]\n",
      "  0%|          | 0/11 [00:01<?, ?frames/s]\n",
      "  0%|          | 0/32 [00:01<?, ?frames/s]\n",
      "100%|██████████| 79/79 [00:01<00:00, 66.81frames/s]\n",
      "  0%|          | 0/16 [00:01<?, ?frames/s]\n",
      "  0%|          | 0/27 [00:01<?, ?frames/s]\n",
      "  0%|          | 0/22 [00:01<?, ?frames/s]\n",
      "  0%|          | 0/25 [00:01<?, ?frames/s]\n",
      "100%|██████████| 60/60 [00:01<00:00, 55.48frames/s]\n",
      "  0%|          | 0/25 [00:01<?, ?frames/s]\n",
      "100%|██████████| 49/49 [00:01<00:00, 40.91frames/s]\n",
      "  0%|          | 0/28 [00:01<?, ?frames/s]\n",
      "  0%|          | 0/36 [00:01<?, ?frames/s]\n",
      "  0%|          | 0/4 [00:01<?, ?frames/s]\n",
      "  0%|          | 0/67 [00:01<?, ?frames/s]\n",
      "100%|██████████| 84/84 [00:01<00:00, 73.86frames/s]\n",
      "100%|██████████| 119/119 [00:01<00:00, 91.14frames/s]\n",
      "100%|██████████| 5/5 [00:06<00:00,  1.34s/frames]\n",
      "100%|██████████| 81/81 [00:01<00:00, 68.43frames/s]\n",
      "  0%|          | 0/25 [00:01<?, ?frames/s]\n",
      "100%|██████████| 16/16 [00:06<00:00,  2.47frames/s]\n",
      "100%|██████████| 116/116 [00:01<00:00, 105.27frames/s]\n",
      "  0%|          | 0/54 [00:01<?, ?frames/s]\n",
      "  0%|          | 0/67 [00:01<?, ?frames/s]\n",
      "  0%|          | 0/15 [00:01<?, ?frames/s]\n",
      "  0%|          | 0/67 [00:01<?, ?frames/s]\n",
      "100%|██████████| 75/75 [00:01<00:00, 68.36frames/s]\n",
      "  0%|          | 0/60 [00:01<?, ?frames/s]\n",
      "100%|██████████| 67/67 [00:01<00:00, 58.90frames/s]\n",
      "  0%|          | 0/18 [00:01<?, ?frames/s]\n",
      "  0%|          | 0/22 [00:01<?, ?frames/s]\n",
      "  0%|          | 0/35 [00:01<?, ?frames/s]\n",
      "  0%|          | 0/27 [00:01<?, ?frames/s]\n",
      "  0%|          | 0/20 [00:01<?, ?frames/s]\n",
      "  0%|          | 0/16 [00:01<?, ?frames/s]\n",
      "100%|██████████| 62/62 [00:01<00:00, 56.96frames/s]\n",
      "  0%|          | 0/19 [00:01<?, ?frames/s]\n",
      "100%|██████████| 85/85 [00:01<00:00, 72.42frames/s]\n",
      "  0%|          | 0/16 [00:01<?, ?frames/s]\n",
      "  0%|          | 0/19 [00:01<?, ?frames/s]\n",
      "100%|██████████| 17/17 [00:06<00:00,  2.53frames/s]\n",
      "100%|██████████| 70/70 [00:01<00:00, 62.68frames/s]\n",
      "  0%|          | 0/52 [00:01<?, ?frames/s]\n",
      "  0%|          | 0/33 [00:01<?, ?frames/s]\n",
      "100%|██████████| 71/71 [00:01<00:00, 62.21frames/s]\n",
      "100%|██████████| 24/24 [00:06<00:00,  3.73frames/s]\n",
      "100%|██████████| 90/90 [00:01<00:00, 80.08frames/s]\n",
      "  0%|          | 0/18 [00:01<?, ?frames/s]\n",
      "  0%|          | 0/34 [00:01<?, ?frames/s]\n",
      "  0%|          | 0/45 [00:01<?, ?frames/s]\n",
      "  0%|          | 0/23 [00:01<?, ?frames/s]\n",
      "  0%|          | 0/24 [00:01<?, ?frames/s]\n",
      "  0%|          | 0/16 [00:01<?, ?frames/s]\n",
      "  0%|          | 0/8 [00:01<?, ?frames/s]\n",
      "  0%|          | 0/28 [00:01<?, ?frames/s]\n",
      "100%|██████████| 26/26 [00:06<00:00,  3.98frames/s]\n",
      "100%|██████████| 55/55 [00:01<00:00, 50.83frames/s]\n",
      "100%|██████████| 23/23 [00:06<00:00,  3.56frames/s]\n",
      "  0%|          | 0/21 [00:01<?, ?frames/s]\n",
      "  0%|          | 0/28 [00:01<?, ?frames/s]\n",
      "100%|██████████| 19/19 [00:06<00:00,  2.95frames/s]\n",
      "  0%|          | 0/35 [00:01<?, ?frames/s]\n",
      "  0%|          | 0/186 [00:01<?, ?frames/s]\n",
      "100%|██████████| 79/79 [00:01<00:00, 68.66frames/s]\n",
      "100%|██████████| 54/54 [00:07<00:00,  7.70frames/s]\n",
      "100%|██████████| 49/49 [00:01<00:00, 44.98frames/s]\n",
      "  0%|          | 0/25 [00:01<?, ?frames/s]\n",
      "100%|██████████| 35/35 [00:01<00:00, 32.01frames/s]\n",
      "100%|██████████| 67/67 [00:01<00:00, 59.76frames/s]\n",
      "100%|██████████| 12/12 [00:01<00:00, 10.30frames/s]\n",
      "  0%|          | 0/8 [00:01<?, ?frames/s]\n",
      "  0%|          | 0/41 [00:01<?, ?frames/s]\n",
      "  0%|          | 0/21 [00:01<?, ?frames/s]\n",
      "  0%|          | 0/38 [00:01<?, ?frames/s]\n",
      "  0%|          | 0/10 [00:01<?, ?frames/s]\n",
      "  0%|          | 0/45 [00:01<?, ?frames/s]\n",
      "100%|██████████| 9/9 [00:06<00:00,  1.37frames/s]\n",
      "  0%|          | 0/14 [00:01<?, ?frames/s]\n",
      "  0%|          | 0/22 [00:01<?, ?frames/s]\n",
      "100%|██████████| 16/16 [00:06<00:00,  2.42frames/s]\n",
      "100%|██████████| 34/34 [00:01<00:00, 31.15frames/s]\n",
      "100%|██████████| 51/51 [00:01<00:00, 42.42frames/s]\n",
      "100%|██████████| 13/13 [00:06<00:00,  2.02frames/s]\n",
      "100%|██████████| 11/11 [00:06<00:00,  1.69frames/s]\n",
      "  0%|          | 0/15 [00:01<?, ?frames/s]\n",
      "100%|██████████| 22/22 [00:06<00:00,  3.28frames/s]\n",
      "100%|██████████| 9/9 [00:06<00:00,  1.38frames/s]\n",
      "  0%|          | 0/17 [00:01<?, ?frames/s]\n",
      "100%|██████████| 11/11 [00:06<00:00,  1.70frames/s]\n",
      "  0%|          | 0/42 [00:01<?, ?frames/s]\n",
      "  0%|          | 0/10 [00:01<?, ?frames/s]\n",
      "  0%|          | 0/37 [00:01<?, ?frames/s]\n",
      "  0%|          | 0/14 [00:01<?, ?frames/s]\n",
      "  0%|          | 0/14 [00:01<?, ?frames/s]\n",
      "  0%|          | 0/24 [00:01<?, ?frames/s]\n",
      "100%|██████████| 6/6 [00:06<00:00,  1.10s/frames]\n",
      "  0%|          | 0/58 [00:01<?, ?frames/s]\n",
      "100%|██████████| 4/4 [00:06<00:00,  1.62s/frames]\n",
      "  0%|          | 0/60 [00:01<?, ?frames/s]\n",
      "  0%|          | 0/38 [00:01<?, ?frames/s]\n",
      "100%|██████████| 42/42 [00:01<00:00, 35.47frames/s]\n",
      "  0%|          | 0/19 [00:01<?, ?frames/s]\n",
      "100%|██████████| 41/41 [00:01<00:00, 35.15frames/s]\n",
      "100%|██████████| 52/52 [00:01<00:00, 46.96frames/s]\n",
      "  0%|          | 0/13 [00:01<?, ?frames/s]\n",
      "100%|██████████| 58/58 [00:01<00:00, 51.53frames/s]\n",
      "100%|██████████| 39/39 [00:01<00:00, 34.15frames/s]\n",
      "  0%|          | 0/8 [00:01<?, ?frames/s]\n",
      "100%|██████████| 58/58 [00:01<00:00, 50.38frames/s]\n",
      "100%|██████████| 48/48 [00:01<00:00, 42.24frames/s]\n",
      "  0%|          | 0/42 [00:01<?, ?frames/s]\n",
      "  0%|          | 0/17 [00:01<?, ?frames/s]\n",
      "100%|██████████| 39/39 [00:01<00:00, 33.78frames/s]\n",
      "  0%|          | 0/22 [00:01<?, ?frames/s]\n",
      "100%|██████████| 42/42 [00:01<00:00, 37.67frames/s]\n",
      "  0%|          | 0/23 [00:01<?, ?frames/s]\n",
      "100%|██████████| 81/81 [00:01<00:00, 69.43frames/s]\n",
      "  0%|          | 0/59 [00:01<?, ?frames/s]\n",
      "100%|██████████| 41/41 [00:06<00:00,  5.94frames/s]\n",
      "100%|██████████| 49/49 [00:01<00:00, 46.53frames/s]\n",
      "100%|██████████| 29/29 [00:01<00:00, 26.13frames/s]\n",
      "100%|██████████| 34/34 [00:01<00:00, 29.73frames/s]\n",
      "  0%|          | 0/10 [00:01<?, ?frames/s]\n",
      "  0%|          | 0/20 [00:01<?, ?frames/s]\n",
      "  0%|          | 0/16 [00:01<?, ?frames/s]\n",
      "  0%|          | 0/70 [00:01<?, ?frames/s]\n",
      "  0%|          | 0/30 [00:01<?, ?frames/s]\n",
      "100%|██████████| 56/56 [00:01<00:00, 45.68frames/s]\n",
      "100%|██████████| 17/17 [00:06<00:00,  2.61frames/s]\n",
      "100%|██████████| 60/60 [00:06<00:00,  9.31frames/s]\n",
      "100%|██████████| 22/22 [00:01<00:00, 20.51frames/s]\n",
      "100%|██████████| 13/13 [00:06<00:00,  2.01frames/s]\n",
      "100%|██████████| 31/31 [00:06<00:00,  4.84frames/s]\n",
      "  0%|          | 0/23 [00:01<?, ?frames/s]\n",
      "  0%|          | 0/48 [00:01<?, ?frames/s]\n",
      "  0%|          | 0/85 [00:01<?, ?frames/s]\n",
      "  0%|          | 0/23 [00:01<?, ?frames/s]\n",
      "100%|██████████| 10/10 [00:06<00:00,  1.48frames/s]\n",
      "  0%|          | 0/20 [00:01<?, ?frames/s]\n",
      "  0%|          | 0/30 [00:01<?, ?frames/s]\n",
      "  0%|          | 0/30 [00:01<?, ?frames/s]\n",
      "  0%|          | 0/33 [00:01<?, ?frames/s]\n",
      "  0%|          | 0/40 [00:01<?, ?frames/s]\n",
      "100%|██████████| 43/43 [00:01<00:00, 39.23frames/s]\n",
      "100%|██████████| 64/64 [00:06<00:00,  9.41frames/s]\n",
      "  0%|          | 0/8 [00:01<?, ?frames/s]\n",
      "  0%|          | 0/28 [00:01<?, ?frames/s]\n",
      "100%|██████████| 50/50 [00:01<00:00, 42.21frames/s]\n",
      "  0%|          | 0/18 [00:01<?, ?frames/s]\n",
      "  0%|          | 0/11 [00:01<?, ?frames/s]\n",
      "100%|██████████| 14/14 [00:06<00:00,  2.09frames/s]\n",
      "100%|██████████| 28/28 [00:06<00:00,  4.33frames/s]\n",
      "100%|██████████| 26/26 [00:06<00:00,  4.05frames/s]\n",
      "100%|██████████| 13/13 [00:06<00:00,  2.02frames/s]\n",
      "  0%|          | 0/39 [00:01<?, ?frames/s]\n",
      "100%|██████████| 11/11 [00:06<00:00,  1.70frames/s]\n"
     ]
    },
    {
     "name": "stderr",
     "output_type": "stream",
     "text": [
      "100%|██████████| 51/51 [00:01<00:00, 46.49frames/s]\n",
      "  0%|          | 0/10 [00:01<?, ?frames/s]\n",
      "  0%|          | 0/17 [00:01<?, ?frames/s]\n",
      "  0%|          | 0/26 [00:01<?, ?frames/s]\n",
      "100%|██████████| 49/49 [00:01<00:00, 48.64frames/s]\n",
      "100%|██████████| 21/21 [00:06<00:00,  3.25frames/s]\n",
      "  0%|          | 0/40 [00:01<?, ?frames/s]\n",
      "100%|██████████| 8/8 [00:06<00:00,  1.23frames/s]\n",
      "  0%|          | 0/54 [00:01<?, ?frames/s]\n",
      "100%|██████████| 69/69 [00:01<00:00, 62.66frames/s]\n",
      "100%|██████████| 57/57 [00:01<00:00, 51.01frames/s]\n",
      "100%|██████████| 73/73 [00:01<00:00, 65.68frames/s]\n",
      "100%|██████████| 49/49 [00:01<00:00, 46.27frames/s]\n",
      "  0%|          | 0/16 [00:01<?, ?frames/s]\n",
      "  0%|          | 0/9 [00:01<?, ?frames/s]\n",
      "  0%|          | 0/11 [00:01<?, ?frames/s]\n",
      "100%|██████████| 28/28 [00:01<00:00, 24.78frames/s]\n",
      "  0%|          | 0/24 [00:01<?, ?frames/s]\n",
      "100%|██████████| 47/47 [00:01<00:00, 39.03frames/s]\n",
      "  0%|          | 0/7 [00:01<?, ?frames/s]\n",
      "  0%|          | 0/8 [00:01<?, ?frames/s]\n",
      "  0%|          | 0/22 [00:01<?, ?frames/s]\n",
      "100%|██████████| 13/13 [00:07<00:00,  1.84frames/s]\n",
      "100%|██████████| 9/9 [00:06<00:00,  1.33frames/s]\n",
      "  0%|          | 0/18 [00:01<?, ?frames/s]\n",
      "  0%|          | 0/48 [00:01<?, ?frames/s]\n",
      "  0%|          | 0/53 [00:01<?, ?frames/s]\n",
      "  0%|          | 0/36 [00:01<?, ?frames/s]\n",
      "100%|██████████| 59/59 [00:01<00:00, 52.49frames/s]\n",
      "100%|██████████| 90/90 [00:01<00:00, 80.30frames/s]\n",
      "100%|██████████| 29/29 [00:06<00:00,  4.25frames/s]\n",
      "100%|██████████| 9/9 [00:06<00:00,  1.37frames/s]\n",
      "  0%|          | 0/20 [00:01<?, ?frames/s]\n",
      "  0%|          | 0/25 [00:01<?, ?frames/s]\n",
      "  0%|          | 0/14 [00:01<?, ?frames/s]\n",
      "100%|██████████| 84/84 [00:01<00:00, 76.54frames/s]\n",
      "100%|██████████| 36/36 [00:06<00:00,  5.45frames/s]\n",
      "  0%|          | 0/31 [00:01<?, ?frames/s]\n",
      "  0%|          | 0/25 [00:01<?, ?frames/s]\n",
      "100%|██████████| 22/22 [00:01<00:00, 20.32frames/s]\n",
      "  0%|          | 0/32 [00:01<?, ?frames/s]\n",
      "  0%|          | 0/45 [00:01<?, ?frames/s]\n",
      "  0%|          | 0/65 [00:01<?, ?frames/s]\n",
      "100%|██████████| 11/11 [00:06<00:00,  1.65frames/s]\n",
      "100%|██████████| 13/13 [00:06<00:00,  2.02frames/s]\n",
      "  0%|          | 0/21 [00:01<?, ?frames/s]\n",
      "100%|██████████| 14/14 [00:06<00:00,  2.02frames/s]\n",
      "  0%|          | 0/25 [00:01<?, ?frames/s]\n",
      "  0%|          | 0/66 [00:01<?, ?frames/s]\n",
      "100%|██████████| 67/67 [00:01<00:00, 58.26frames/s]\n",
      "100%|██████████| 70/70 [00:01<00:00, 62.04frames/s]\n",
      "100%|██████████| 18/18 [00:01<00:00, 17.62frames/s]\n",
      "  0%|          | 0/17 [00:01<?, ?frames/s]\n",
      "100%|██████████| 19/19 [00:06<00:00,  2.90frames/s]\n",
      "  0%|          | 0/20 [00:01<?, ?frames/s]\n",
      "  0%|          | 0/15 [00:01<?, ?frames/s]\n",
      "  0%|          | 0/40 [00:01<?, ?frames/s]\n",
      "100%|██████████| 15/15 [00:06<00:00,  2.29frames/s]\n",
      "  0%|          | 0/18 [00:01<?, ?frames/s]\n",
      "  0%|          | 0/12 [00:01<?, ?frames/s]\n",
      "  0%|          | 0/50 [00:01<?, ?frames/s]\n",
      "  0%|          | 0/38 [00:01<?, ?frames/s]\n",
      "  0%|          | 0/27 [00:01<?, ?frames/s]\n",
      "100%|██████████| 35/35 [00:01<00:00, 30.48frames/s]\n",
      "  0%|          | 0/54 [00:01<?, ?frames/s]\n",
      "100%|██████████| 47/47 [00:01<00:00, 41.56frames/s]\n",
      "100%|██████████| 21/21 [00:06<00:00,  3.21frames/s]\n",
      "  0%|          | 0/67 [00:01<?, ?frames/s]\n",
      "  0%|          | 0/33 [00:01<?, ?frames/s]\n",
      "  0%|          | 0/25 [00:01<?, ?frames/s]\n",
      "  0%|          | 0/20 [00:01<?, ?frames/s]\n",
      "100%|██████████| 54/54 [00:01<00:00, 51.35frames/s]\n",
      "  0%|          | 0/20 [00:01<?, ?frames/s]\n",
      "100%|██████████| 15/15 [00:06<00:00,  2.24frames/s]\n",
      "100%|██████████| 23/23 [00:06<00:00,  3.52frames/s]\n",
      "  0%|          | 0/36 [00:01<?, ?frames/s]\n",
      "100%|██████████| 44/44 [00:01<00:00, 40.09frames/s]\n",
      "100%|██████████| 34/34 [00:01<00:00, 29.88frames/s]\n",
      "100%|██████████| 30/30 [00:01<00:00, 27.29frames/s]\n",
      "100%|██████████| 77/77 [00:01<00:00, 73.22frames/s]\n",
      "  0%|          | 0/25 [00:01<?, ?frames/s]\n",
      "100%|██████████| 8/8 [00:06<00:00,  1.21frames/s]\n",
      "  0%|          | 0/20 [00:01<?, ?frames/s]\n",
      "100%|██████████| 4/4 [00:06<00:00,  1.62s/frames]\n",
      "100%|██████████| 51/51 [00:01<00:00, 44.11frames/s]\n",
      "  0%|          | 0/22 [00:01<?, ?frames/s]\n",
      "100%|██████████| 27/27 [00:01<00:00, 21.19frames/s]\n",
      "  0%|          | 0/17 [00:01<?, ?frames/s]\n",
      "  0%|          | 0/7 [00:01<?, ?frames/s]\n",
      "  0%|          | 0/17 [00:01<?, ?frames/s]\n",
      "  0%|          | 0/28 [00:01<?, ?frames/s]\n",
      "  0%|          | 0/22 [00:01<?, ?frames/s]\n",
      "100%|██████████| 66/66 [00:06<00:00, 10.11frames/s]\n",
      "  0%|          | 0/18 [00:01<?, ?frames/s]\n",
      "100%|██████████| 54/54 [00:01<00:00, 42.80frames/s]\n",
      "100%|██████████| 35/35 [00:01<00:00, 31.31frames/s]\n",
      "100%|██████████| 64/64 [00:06<00:00,  9.75frames/s]\n",
      "  0%|          | 0/19 [00:01<?, ?frames/s]\n",
      "  0%|          | 0/30 [00:01<?, ?frames/s]\n",
      "  0%|          | 0/18 [00:01<?, ?frames/s]\n",
      "100%|██████████| 50/50 [00:01<00:00, 40.82frames/s]\n",
      "  0%|          | 0/47 [00:01<?, ?frames/s]\n",
      "  0%|          | 0/24 [00:01<?, ?frames/s]\n",
      "  0%|          | 0/84 [00:01<?, ?frames/s]\n",
      "  0%|          | 0/22 [00:01<?, ?frames/s]\n",
      "  0%|          | 0/49 [00:01<?, ?frames/s]\n",
      "  0%|          | 0/21 [00:01<?, ?frames/s]\n",
      "  0%|          | 0/32 [00:01<?, ?frames/s]\n",
      "  0%|          | 0/17 [00:01<?, ?frames/s]\n",
      "  0%|          | 0/25 [00:01<?, ?frames/s]\n",
      "  0%|          | 0/22 [00:01<?, ?frames/s]\n",
      "  0%|          | 0/18 [00:01<?, ?frames/s]\n",
      "100%|██████████| 5/5 [00:06<00:00,  1.31s/frames]\n",
      "  0%|          | 0/33 [00:01<?, ?frames/s]\n",
      "100%|██████████| 61/61 [00:01<00:00, 55.13frames/s]\n",
      "100%|██████████| 24/24 [00:01<00:00, 21.78frames/s]\n",
      "  0%|          | 0/12 [00:01<?, ?frames/s]\n",
      "  0%|          | 0/16 [00:01<?, ?frames/s]\n",
      "  0%|          | 0/36 [00:01<?, ?frames/s]\n",
      "100%|██████████| 91/91 [00:01<00:00, 64.41frames/s]\n",
      "  0%|          | 0/52 [00:01<?, ?frames/s]\n",
      "100%|██████████| 14/14 [00:06<00:00,  2.14frames/s]\n",
      "  0%|          | 0/16 [00:01<?, ?frames/s]\n",
      "  0%|          | 0/29 [00:01<?, ?frames/s]\n",
      "  0%|          | 0/34 [00:01<?, ?frames/s]\n",
      "100%|██████████| 37/37 [00:01<00:00, 35.25frames/s]\n",
      "100%|██████████| 18/18 [00:06<00:00,  2.76frames/s]\n",
      "100%|██████████| 41/41 [00:06<00:00,  6.14frames/s]\n",
      "100%|██████████| 4/4 [00:06<00:00,  1.62s/frames]\n",
      "  0%|          | 0/27 [00:01<?, ?frames/s]\n",
      "  0%|          | 0/61 [00:01<?, ?frames/s]\n",
      "100%|██████████| 17/17 [00:01<00:00, 15.82frames/s]\n",
      "100%|██████████| 45/45 [00:06<00:00,  6.67frames/s]\n",
      "  0%|          | 0/15 [00:01<?, ?frames/s]\n",
      "  0%|          | 0/39 [00:01<?, ?frames/s]\n",
      "100%|██████████| 58/58 [00:01<00:00, 48.52frames/s]\n",
      "  0%|          | 0/7 [00:01<?, ?frames/s]\n",
      "  0%|          | 0/5 [00:01<?, ?frames/s]\n",
      "100%|██████████| 60/60 [00:06<00:00,  9.16frames/s]\n",
      "  0%|          | 0/8 [00:01<?, ?frames/s]\n",
      "100%|██████████| 4/4 [00:07<00:00,  1.76s/frames]\n",
      "100%|██████████| 69/69 [00:01<00:00, 60.40frames/s]\n",
      "100%|██████████| 8/8 [00:06<00:00,  1.24frames/s]\n",
      "100%|██████████| 64/64 [00:01<00:00, 58.99frames/s]\n",
      "100%|██████████| 90/90 [00:01<00:00, 80.40frames/s]\n",
      "  0%|          | 0/30 [00:01<?, ?frames/s]\n",
      "100%|██████████| 45/45 [00:01<00:00, 39.24frames/s]\n",
      "  0%|          | 0/44 [00:01<?, ?frames/s]\n",
      "  0%|          | 0/14 [00:01<?, ?frames/s]\n",
      "100%|██████████| 18/18 [00:06<00:00,  2.73frames/s]\n",
      "100%|██████████| 16/16 [00:06<00:00,  2.46frames/s]\n",
      "100%|██████████| 6/6 [00:06<00:00,  1.10s/frames]\n",
      "  0%|          | 0/17 [00:01<?, ?frames/s]\n",
      "100%|██████████| 29/29 [00:06<00:00,  4.46frames/s]\n",
      "  0%|          | 0/14 [00:01<?, ?frames/s]\n",
      "100%|██████████| 16/16 [00:06<00:00,  2.43frames/s]\n"
     ]
    }
   ],
   "source": [
    "df['whisper'] = df.apply(lambda x: get_whisper_text(x.xmin, x.xmax, audio_dir), axis = 1)"
   ]
  },
  {
   "cell_type": "code",
   "execution_count": 20,
   "id": "a43eee86",
   "metadata": {},
   "outputs": [],
   "source": [
    "df['whisper_text'] = df['whisper'].apply(lambda x: x['text'])"
   ]
  },
  {
   "cell_type": "code",
   "execution_count": 23,
   "id": "db353c40",
   "metadata": {},
   "outputs": [
    {
     "name": "stderr",
     "output_type": "stream",
     "text": [
      "0frames [00:00, ?frames/s]\n",
      "  0%|          | 0/100 [00:01<?, ?frames/s]\n",
      "100%|██████████| 100/100 [00:07<00:00, 14.18frames/s]\n",
      "  0%|          | 0/100 [00:01<?, ?frames/s]\n",
      "100%|██████████| 100/100 [00:01<00:00, 85.81frames/s]\n",
      "100%|██████████| 100/100 [00:01<00:00, 86.42frames/s]\n",
      "100%|██████████| 82/82 [00:01<00:00, 60.31frames/s]\n",
      "0frames [00:00, ?frames/s]\n",
      "100%|██████████| 100/100 [00:01<00:00, 86.35frames/s]\n",
      "100%|██████████| 100/100 [00:01<00:00, 85.06frames/s]\n",
      "  0%|          | 0/100 [00:01<?, ?frames/s]\n",
      "100%|██████████| 100/100 [00:01<00:00, 89.45frames/s]\n",
      "100%|██████████| 100/100 [00:01<00:00, 79.87frames/s]\n",
      "100%|██████████| 100/100 [00:01<00:00, 75.78frames/s]\n",
      "100%|██████████| 100/100 [00:01<00:00, 76.58frames/s]\n",
      "100%|██████████| 100/100 [00:01<00:00, 74.74frames/s]\n",
      "100%|██████████| 100/100 [00:01<00:00, 82.64frames/s]\n",
      "100%|██████████| 100/100 [00:01<00:00, 85.62frames/s]\n",
      "100%|██████████| 100/100 [00:01<00:00, 87.65frames/s]\n",
      "100%|██████████| 100/100 [00:06<00:00, 15.19frames/s]\n",
      "100%|██████████| 100/100 [00:06<00:00, 15.15frames/s]\n",
      "100%|██████████| 100/100 [00:01<00:00, 80.18frames/s]\n",
      "100%|██████████| 100/100 [00:01<00:00, 79.99frames/s]\n",
      "  0%|          | 0/100 [00:01<?, ?frames/s]\n",
      "100%|██████████| 100/100 [00:06<00:00, 15.17frames/s]\n",
      "  0%|          | 0/100 [00:01<?, ?frames/s]\n",
      "  0%|          | 0/100 [00:01<?, ?frames/s]\n",
      "100%|██████████| 100/100 [00:06<00:00, 15.02frames/s]\n",
      "100%|██████████| 100/100 [00:01<00:00, 88.20frames/s]\n",
      "100%|██████████| 100/100 [00:01<00:00, 86.62frames/s]\n",
      "100%|██████████| 100/100 [00:01<00:00, 84.76frames/s]\n",
      "100%|██████████| 100/100 [00:01<00:00, 92.41frames/s]\n",
      "100%|██████████| 100/100 [00:01<00:00, 93.60frames/s]\n",
      "  0%|          | 0/100 [00:01<?, ?frames/s]\n",
      "100%|██████████| 100/100 [00:01<00:00, 74.20frames/s]\n",
      "100%|██████████| 100/100 [00:01<00:00, 78.84frames/s]\n",
      "100%|██████████| 100/100 [00:01<00:00, 75.93frames/s]\n",
      "100%|██████████| 100/100 [00:01<00:00, 76.84frames/s]\n",
      "100%|██████████| 100/100 [00:06<00:00, 14.53frames/s]\n",
      "100%|██████████| 100/100 [00:01<00:00, 83.95frames/s]\n",
      "100%|██████████| 100/100 [00:01<00:00, 78.61frames/s]\n",
      "  0%|          | 0/100 [00:01<?, ?frames/s]\n",
      "100%|██████████| 100/100 [00:06<00:00, 15.27frames/s]\n",
      "100%|██████████| 100/100 [00:01<00:00, 84.69frames/s]\n",
      "100%|██████████| 100/100 [00:01<00:00, 81.27frames/s]\n",
      "100%|██████████| 100/100 [00:01<00:00, 80.06frames/s]\n",
      "100%|██████████| 100/100 [00:01<00:00, 81.38frames/s]\n",
      "100%|██████████| 100/100 [00:01<00:00, 80.45frames/s]\n",
      "100%|██████████| 100/100 [00:01<00:00, 85.13frames/s]\n",
      "100%|██████████| 100/100 [00:01<00:00, 84.53frames/s]\n",
      "100%|██████████| 100/100 [00:01<00:00, 81.02frames/s]\n",
      "100%|██████████| 100/100 [00:01<00:00, 76.78frames/s]\n",
      "100%|██████████| 100/100 [00:01<00:00, 80.88frames/s]\n",
      "100%|██████████| 100/100 [00:01<00:00, 80.02frames/s]\n",
      "  0%|          | 0/100 [00:01<?, ?frames/s]\n",
      "100%|██████████| 100/100 [00:01<00:00, 81.06frames/s]\n",
      "100%|██████████| 100/100 [00:01<00:00, 80.90frames/s]\n",
      "100%|██████████| 100/100 [00:01<00:00, 90.15frames/s]\n",
      "  0%|          | 0/100 [00:01<?, ?frames/s]\n",
      "  0%|          | 0/100 [00:01<?, ?frames/s]\n",
      "100%|██████████| 100/100 [00:06<00:00, 15.13frames/s]\n",
      "100%|██████████| 100/100 [00:06<00:00, 15.28frames/s]\n",
      "  0%|          | 0/100 [00:01<?, ?frames/s]\n",
      "  0%|          | 0/100 [00:01<?, ?frames/s]\n",
      "  0%|          | 0/100 [00:01<?, ?frames/s]\n",
      "  0%|          | 0/100 [00:01<?, ?frames/s]\n",
      "  0%|          | 0/100 [00:01<?, ?frames/s]\n",
      "  0%|          | 0/100 [00:01<?, ?frames/s]\n",
      "100%|██████████| 100/100 [00:01<00:00, 82.36frames/s]\n",
      "100%|██████████| 100/100 [00:01<00:00, 90.54frames/s]\n",
      "100%|██████████| 100/100 [00:06<00:00, 15.00frames/s]\n",
      "  0%|          | 0/100 [00:01<?, ?frames/s]\n",
      "  0%|          | 0/100 [00:01<?, ?frames/s]\n",
      "100%|██████████| 100/100 [00:06<00:00, 14.92frames/s]\n",
      "100%|██████████| 100/100 [00:01<00:00, 90.11frames/s]\n",
      "  0%|          | 0/100 [00:01<?, ?frames/s]\n",
      "  0%|          | 0/100 [00:01<?, ?frames/s]\n",
      "  0%|          | 0/100 [00:01<?, ?frames/s]\n",
      "  0%|          | 0/100 [00:01<?, ?frames/s]\n",
      "  0%|          | 0/100 [00:01<?, ?frames/s]\n",
      "100%|██████████| 100/100 [00:01<00:00, 88.29frames/s]\n",
      "  0%|          | 0/100 [00:01<?, ?frames/s]\n",
      "  0%|          | 0/100 [00:01<?, ?frames/s]\n",
      "100%|██████████| 100/100 [00:01<00:00, 87.88frames/s]\n",
      "100%|██████████| 100/100 [00:01<00:00, 73.37frames/s]\n",
      "  0%|          | 0/100 [00:01<?, ?frames/s]\n",
      "  0%|          | 0/100 [00:01<?, ?frames/s]\n",
      "100%|██████████| 100/100 [00:01<00:00, 82.43frames/s]\n",
      "  0%|          | 0/100 [00:01<?, ?frames/s]\n",
      "  0%|          | 0/100 [00:01<?, ?frames/s]\n",
      "100%|██████████| 100/100 [00:01<00:00, 82.90frames/s]\n",
      "  0%|          | 0/100 [00:01<?, ?frames/s]\n",
      "100%|██████████| 100/100 [00:01<00:00, 83.23frames/s]\n",
      "100%|██████████| 100/100 [00:01<00:00, 91.12frames/s]\n",
      "100%|██████████| 100/100 [00:01<00:00, 83.37frames/s]\n",
      "100%|██████████| 82/82 [00:01<00:00, 74.91frames/s]\n",
      "100%|██████████| 100/100 [00:01<00:00, 91.15frames/s]\n",
      "  0%|          | 0/100 [00:01<?, ?frames/s]\n",
      "100%|██████████| 100/100 [00:01<00:00, 80.19frames/s]\n",
      "  0%|          | 0/100 [00:01<?, ?frames/s]\n",
      "100%|██████████| 100/100 [00:01<00:00, 62.80frames/s]\n",
      "100%|██████████| 100/100 [00:01<00:00, 78.69frames/s]\n",
      "100%|██████████| 100/100 [00:01<00:00, 83.69frames/s]\n",
      "  0%|          | 0/100 [00:01<?, ?frames/s]\n",
      "100%|██████████| 100/100 [00:01<00:00, 86.47frames/s]\n",
      "  0%|          | 0/100 [00:01<?, ?frames/s]\n",
      "100%|██████████| 100/100 [00:01<00:00, 81.41frames/s]\n",
      "100%|██████████| 100/100 [00:01<00:00, 80.09frames/s]\n",
      "100%|██████████| 100/100 [00:01<00:00, 83.34frames/s]\n",
      "100%|██████████| 100/100 [00:01<00:00, 86.42frames/s]\n",
      "100%|██████████| 100/100 [00:01<00:00, 86.09frames/s]\n",
      "100%|██████████| 100/100 [00:01<00:00, 50.64frames/s]\n",
      "100%|██████████| 100/100 [00:02<00:00, 39.99frames/s]\n",
      "100%|██████████| 100/100 [00:01<00:00, 71.03frames/s]\n",
      "100%|██████████| 100/100 [00:01<00:00, 80.58frames/s]\n",
      "100%|██████████| 100/100 [00:01<00:00, 85.90frames/s]\n",
      "100%|██████████| 100/100 [00:01<00:00, 71.12frames/s]\n",
      "100%|██████████| 100/100 [00:01<00:00, 77.17frames/s]\n",
      "100%|██████████| 100/100 [00:01<00:00, 77.53frames/s]\n",
      "100%|██████████| 100/100 [00:01<00:00, 86.20frames/s]\n",
      "  0%|          | 0/100 [00:01<?, ?frames/s]\n",
      "  0%|          | 0/100 [00:01<?, ?frames/s]\n",
      "  0%|          | 0/100 [00:01<?, ?frames/s]\n",
      "  0%|          | 0/100 [00:01<?, ?frames/s]\n",
      "100%|██████████| 100/100 [00:01<00:00, 84.18frames/s]\n",
      "100%|██████████| 100/100 [00:01<00:00, 83.16frames/s]\n",
      "100%|██████████| 100/100 [00:01<00:00, 82.09frames/s]\n",
      "  0%|          | 0/100 [00:01<?, ?frames/s]\n",
      "100%|██████████| 100/100 [00:01<00:00, 79.99frames/s]\n",
      "100%|██████████| 100/100 [00:01<00:00, 83.70frames/s]\n",
      "  0%|          | 0/100 [00:01<?, ?frames/s]\n",
      "100%|██████████| 100/100 [00:01<00:00, 79.48frames/s]\n",
      "100%|██████████| 100/100 [00:01<00:00, 69.96frames/s]\n",
      "100%|██████████| 100/100 [00:01<00:00, 79.89frames/s]\n",
      "100%|██████████| 100/100 [00:01<00:00, 75.42frames/s]\n",
      "100%|██████████| 100/100 [00:01<00:00, 78.41frames/s]\n",
      "100%|██████████| 100/100 [00:01<00:00, 84.81frames/s]\n",
      "100%|██████████| 100/100 [00:01<00:00, 91.68frames/s]\n",
      "  0%|          | 0/100 [00:01<?, ?frames/s]\n",
      "100%|██████████| 100/100 [00:01<00:00, 83.85frames/s]\n",
      "100%|██████████| 100/100 [00:01<00:00, 83.73frames/s]\n",
      "100%|██████████| 100/100 [00:01<00:00, 84.18frames/s]\n",
      "100%|██████████| 100/100 [00:01<00:00, 71.22frames/s]\n",
      "100%|██████████| 100/100 [00:01<00:00, 86.91frames/s]\n",
      "100%|██████████| 100/100 [00:01<00:00, 85.34frames/s]\n",
      "100%|██████████| 100/100 [00:01<00:00, 81.43frames/s]\n",
      "100%|██████████| 100/100 [00:01<00:00, 88.04frames/s]\n",
      "100%|██████████| 100/100 [00:01<00:00, 83.09frames/s]\n",
      "100%|██████████| 100/100 [00:01<00:00, 85.36frames/s]\n",
      "  0%|          | 0/100 [00:01<?, ?frames/s]\n",
      "100%|██████████| 100/100 [00:01<00:00, 89.99frames/s]\n",
      "100%|██████████| 100/100 [00:01<00:00, 85.54frames/s]\n",
      "100%|██████████| 100/100 [00:01<00:00, 80.65frames/s]\n",
      "100%|██████████| 100/100 [00:01<00:00, 69.99frames/s]\n",
      "100%|██████████| 100/100 [00:01<00:00, 77.83frames/s]\n",
      "100%|██████████| 100/100 [00:01<00:00, 84.45frames/s]\n",
      "100%|██████████| 100/100 [00:07<00:00, 14.11frames/s]\n",
      "100%|██████████| 100/100 [00:01<00:00, 78.45frames/s]\n",
      "  0%|          | 0/100 [00:01<?, ?frames/s]\n",
      "  0%|          | 0/100 [00:01<?, ?frames/s]\n",
      "  0%|          | 0/100 [00:01<?, ?frames/s]\n",
      "  0%|          | 0/100 [00:01<?, ?frames/s]\n",
      "100%|██████████| 100/100 [00:01<00:00, 85.41frames/s]\n",
      "100%|██████████| 100/100 [00:01<00:00, 83.17frames/s]\n",
      "100%|██████████| 100/100 [00:01<00:00, 88.06frames/s]\n",
      "100%|██████████| 100/100 [00:01<00:00, 77.53frames/s]\n",
      "100%|██████████| 100/100 [00:01<00:00, 86.15frames/s]\n",
      "100%|██████████| 100/100 [00:01<00:00, 80.06frames/s]\n",
      "100%|██████████| 100/100 [00:01<00:00, 80.19frames/s]\n",
      "  0%|          | 0/100 [00:01<?, ?frames/s]\n",
      "  0%|          | 0/100 [00:01<?, ?frames/s]\n",
      "  0%|          | 0/100 [00:01<?, ?frames/s]\n",
      "  0%|          | 0/100 [00:01<?, ?frames/s]\n",
      "100%|██████████| 100/100 [00:01<00:00, 88.79frames/s]\n",
      "  0%|          | 0/100 [00:01<?, ?frames/s]\n",
      "100%|██████████| 100/100 [00:01<00:00, 81.05frames/s]\n",
      "  0%|          | 0/100 [00:01<?, ?frames/s]\n",
      "  0%|          | 0/100 [00:01<?, ?frames/s]\n",
      "  0%|          | 0/100 [00:01<?, ?frames/s]\n",
      "100%|██████████| 100/100 [00:01<00:00, 84.06frames/s]\n",
      "100%|██████████| 100/100 [00:01<00:00, 88.25frames/s]\n",
      "100%|██████████| 100/100 [00:01<00:00, 85.62frames/s]\n",
      "  0%|          | 0/100 [00:01<?, ?frames/s]\n",
      "  0%|          | 0/100 [00:01<?, ?frames/s]\n",
      "100%|██████████| 100/100 [00:01<00:00, 84.03frames/s]\n",
      "  0%|          | 0/100 [00:01<?, ?frames/s]\n",
      "100%|██████████| 100/100 [00:01<00:00, 82.54frames/s]\n",
      "  0%|          | 0/100 [00:01<?, ?frames/s]\n",
      "  0%|          | 0/100 [00:01<?, ?frames/s]\n",
      "  0%|          | 0/100 [00:01<?, ?frames/s]\n",
      "100%|██████████| 100/100 [00:01<00:00, 74.04frames/s]\n",
      "  0%|          | 0/100 [00:01<?, ?frames/s]\n",
      "  0%|          | 0/100 [00:01<?, ?frames/s]\n",
      "100%|██████████| 100/100 [00:01<00:00, 78.52frames/s]\n",
      "100%|██████████| 100/100 [00:01<00:00, 83.77frames/s]\n",
      "  0%|          | 0/100 [00:01<?, ?frames/s]\n",
      "  0%|          | 0/100 [00:01<?, ?frames/s]\n",
      "100%|██████████| 100/100 [00:01<00:00, 79.31frames/s]\n",
      "100%|██████████| 100/100 [00:01<00:00, 77.61frames/s]\n",
      "100%|██████████| 100/100 [00:01<00:00, 86.26frames/s]\n",
      "100%|██████████| 100/100 [00:01<00:00, 89.01frames/s]\n",
      "  0%|          | 0/100 [00:01<?, ?frames/s]\n",
      "100%|██████████| 100/100 [00:01<00:00, 84.64frames/s]\n",
      "100%|██████████| 100/100 [00:01<00:00, 86.62frames/s]\n",
      "  0%|          | 0/100 [00:01<?, ?frames/s]\n",
      "100%|██████████| 100/100 [00:01<00:00, 88.42frames/s]\n",
      "  0%|          | 0/100 [00:01<?, ?frames/s]\n",
      "  0%|          | 0/100 [00:01<?, ?frames/s]\n",
      "100%|██████████| 100/100 [00:01<00:00, 80.90frames/s]\n",
      "  0%|          | 0/100 [00:01<?, ?frames/s]\n",
      "  0%|          | 0/100 [00:01<?, ?frames/s]\n",
      "  0%|          | 0/100 [00:01<?, ?frames/s]\n",
      "100%|██████████| 100/100 [00:01<00:00, 83.12frames/s]\n",
      "100%|██████████| 100/100 [00:01<00:00, 75.96frames/s]\n",
      "100%|██████████| 100/100 [00:01<00:00, 63.38frames/s]\n",
      "100%|██████████| 100/100 [00:01<00:00, 82.32frames/s]\n",
      "100%|██████████| 100/100 [00:01<00:00, 77.75frames/s]\n",
      "100%|██████████| 100/100 [00:01<00:00, 79.41frames/s]\n",
      "100%|██████████| 100/100 [00:01<00:00, 73.85frames/s]\n",
      "100%|██████████| 100/100 [00:01<00:00, 76.57frames/s]\n",
      "100%|██████████| 100/100 [00:01<00:00, 73.35frames/s]\n",
      "100%|██████████| 100/100 [00:01<00:00, 79.82frames/s]\n",
      "100%|██████████| 100/100 [00:01<00:00, 79.35frames/s]\n",
      "100%|██████████| 100/100 [00:01<00:00, 66.03frames/s]\n",
      "100%|██████████| 100/100 [00:01<00:00, 79.35frames/s]\n",
      "100%|██████████| 100/100 [00:01<00:00, 71.35frames/s]\n",
      "100%|██████████| 100/100 [00:01<00:00, 83.57frames/s]\n",
      "100%|██████████| 100/100 [00:01<00:00, 76.52frames/s]\n",
      "100%|██████████| 100/100 [00:01<00:00, 77.02frames/s]\n",
      "  0%|          | 0/100 [00:01<?, ?frames/s]\n",
      "  0%|          | 0/100 [00:01<?, ?frames/s]\n",
      "  0%|          | 0/100 [00:01<?, ?frames/s]\n",
      "100%|██████████| 100/100 [00:01<00:00, 78.10frames/s]\n",
      "100%|██████████| 100/100 [00:01<00:00, 79.06frames/s]\n",
      "  0%|          | 0/100 [00:01<?, ?frames/s]\n",
      "100%|██████████| 100/100 [00:01<00:00, 84.24frames/s]\n",
      "100%|██████████| 100/100 [00:01<00:00, 84.51frames/s]\n",
      "100%|██████████| 100/100 [00:01<00:00, 79.14frames/s]\n",
      "100%|██████████| 100/100 [00:01<00:00, 83.09frames/s]\n",
      "  0%|          | 0/100 [00:01<?, ?frames/s]\n",
      "  0%|          | 0/100 [00:01<?, ?frames/s]\n",
      "100%|██████████| 100/100 [00:01<00:00, 82.28frames/s]\n",
      "100%|██████████| 100/100 [00:06<00:00, 15.11frames/s]\n",
      "  0%|          | 0/100 [00:01<?, ?frames/s]\n",
      "100%|██████████| 100/100 [00:01<00:00, 84.99frames/s]\n",
      "100%|██████████| 100/100 [00:01<00:00, 80.84frames/s]\n",
      "  0%|          | 0/100 [00:01<?, ?frames/s]\n",
      "  0%|          | 0/100 [00:01<?, ?frames/s]\n",
      "100%|██████████| 100/100 [00:01<00:00, 92.46frames/s]\n",
      "100%|██████████| 100/100 [00:01<00:00, 70.69frames/s]\n",
      "100%|██████████| 100/100 [00:01<00:00, 89.40frames/s]\n",
      "100%|██████████| 100/100 [00:01<00:00, 88.73frames/s]\n",
      "100%|██████████| 100/100 [00:01<00:00, 89.54frames/s]\n",
      "100%|██████████| 100/100 [00:01<00:00, 85.65frames/s]\n",
      "100%|██████████| 100/100 [00:01<00:00, 82.45frames/s]\n",
      "100%|██████████| 100/100 [00:01<00:00, 89.42frames/s]\n",
      "100%|██████████| 100/100 [00:01<00:00, 91.55frames/s]\n",
      "100%|██████████| 100/100 [00:01<00:00, 87.62frames/s]\n",
      "100%|██████████| 100/100 [00:01<00:00, 79.00frames/s]\n",
      "  0%|          | 0/100 [00:01<?, ?frames/s]\n",
      "100%|██████████| 100/100 [00:01<00:00, 76.77frames/s]\n",
      "100%|██████████| 100/100 [00:01<00:00, 79.75frames/s]\n",
      "100%|██████████| 100/100 [00:01<00:00, 84.83frames/s]\n",
      "100%|██████████| 100/100 [00:01<00:00, 86.47frames/s]\n",
      "100%|██████████| 100/100 [00:01<00:00, 73.73frames/s]\n",
      "  0%|          | 0/100 [00:01<?, ?frames/s]\n",
      "100%|██████████| 100/100 [00:01<00:00, 83.89frames/s]\n",
      "100%|██████████| 100/100 [00:01<00:00, 83.59frames/s]\n",
      "100%|██████████| 100/100 [00:01<00:00, 76.41frames/s]\n",
      "  0%|          | 0/100 [00:01<?, ?frames/s]\n",
      "100%|██████████| 100/100 [00:01<00:00, 69.77frames/s]\n",
      "100%|██████████| 100/100 [00:01<00:00, 73.64frames/s]\n",
      "100%|██████████| 100/100 [00:01<00:00, 85.31frames/s]\n",
      "100%|██████████| 100/100 [00:01<00:00, 81.89frames/s]\n",
      "100%|██████████| 100/100 [00:01<00:00, 80.02frames/s]\n",
      "100%|██████████| 100/100 [00:01<00:00, 79.37frames/s]\n",
      "100%|██████████| 100/100 [00:01<00:00, 82.27frames/s]\n",
      "100%|██████████| 100/100 [00:01<00:00, 77.27frames/s]\n",
      "100%|██████████| 100/100 [00:01<00:00, 77.85frames/s]\n",
      "100%|██████████| 100/100 [00:01<00:00, 76.66frames/s]\n",
      "100%|██████████| 100/100 [00:01<00:00, 80.89frames/s]\n",
      "100%|██████████| 100/100 [00:01<00:00, 86.72frames/s]\n",
      "100%|██████████| 100/100 [00:01<00:00, 80.70frames/s]\n",
      "100%|██████████| 100/100 [00:01<00:00, 83.84frames/s]\n",
      "100%|██████████| 100/100 [00:01<00:00, 86.74frames/s]\n",
      "100%|██████████| 100/100 [00:01<00:00, 83.08frames/s]\n",
      "100%|██████████| 100/100 [00:01<00:00, 78.58frames/s]\n",
      "100%|██████████| 100/100 [00:01<00:00, 82.11frames/s]\n",
      "100%|██████████| 100/100 [00:01<00:00, 82.49frames/s]\n",
      "100%|██████████| 100/100 [00:01<00:00, 78.83frames/s]\n",
      "  0%|          | 0/100 [00:01<?, ?frames/s]\n",
      "100%|██████████| 100/100 [00:01<00:00, 82.74frames/s]\n",
      "100%|██████████| 100/100 [00:01<00:00, 71.62frames/s]\n",
      "100%|██████████| 100/100 [00:01<00:00, 80.65frames/s]\n",
      "100%|██████████| 100/100 [00:01<00:00, 74.26frames/s]\n",
      "100%|██████████| 100/100 [00:01<00:00, 73.19frames/s]\n",
      "100%|██████████| 100/100 [00:01<00:00, 78.89frames/s]\n",
      "100%|██████████| 100/100 [00:01<00:00, 83.42frames/s]\n",
      "  0%|          | 0/100 [00:01<?, ?frames/s]\n",
      "100%|██████████| 100/100 [00:01<00:00, 78.68frames/s]\n",
      "  0%|          | 0/100 [00:01<?, ?frames/s]\n",
      "  0%|          | 0/100 [00:01<?, ?frames/s]\n",
      "100%|██████████| 100/100 [00:01<00:00, 83.61frames/s]\n",
      "  0%|          | 0/100 [00:01<?, ?frames/s]\n",
      "100%|██████████| 100/100 [00:01<00:00, 87.75frames/s]\n",
      "  0%|          | 0/100 [00:01<?, ?frames/s]\n",
      "  0%|          | 0/100 [00:01<?, ?frames/s]\n",
      "100%|██████████| 100/100 [00:06<00:00, 14.71frames/s]\n",
      "  0%|          | 0/100 [00:01<?, ?frames/s]\n",
      "100%|██████████| 100/100 [00:01<00:00, 84.18frames/s]\n",
      "100%|██████████| 100/100 [00:01<00:00, 85.69frames/s]\n",
      "100%|██████████| 100/100 [00:01<00:00, 79.20frames/s]\n",
      "100%|██████████| 100/100 [00:01<00:00, 76.48frames/s]\n",
      "100%|██████████| 100/100 [00:01<00:00, 73.60frames/s]\n",
      "100%|██████████| 100/100 [00:01<00:00, 73.50frames/s]\n",
      "100%|██████████| 100/100 [00:01<00:00, 74.51frames/s]\n",
      "100%|██████████| 100/100 [00:01<00:00, 76.75frames/s]\n",
      "100%|██████████| 100/100 [00:06<00:00, 15.15frames/s]\n",
      "100%|██████████| 100/100 [00:01<00:00, 80.70frames/s]\n",
      "100%|██████████| 100/100 [00:01<00:00, 81.17frames/s]\n",
      "  0%|          | 0/100 [00:01<?, ?frames/s]\n"
     ]
    },
    {
     "name": "stderr",
     "output_type": "stream",
     "text": [
      "100%|██████████| 100/100 [00:01<00:00, 83.17frames/s]\n",
      "100%|██████████| 100/100 [00:01<00:00, 87.09frames/s]\n",
      "  0%|          | 0/100 [00:01<?, ?frames/s]\n",
      "  0%|          | 0/100 [00:01<?, ?frames/s]\n",
      "100%|██████████| 100/100 [00:01<00:00, 82.20frames/s]\n",
      "  0%|          | 0/100 [00:01<?, ?frames/s]\n",
      "100%|██████████| 100/100 [00:01<00:00, 70.56frames/s]\n",
      "100%|██████████| 100/100 [00:01<00:00, 79.30frames/s]\n",
      "100%|██████████| 100/100 [00:01<00:00, 88.70frames/s]\n",
      "100%|██████████| 100/100 [00:01<00:00, 80.50frames/s]\n",
      "100%|██████████| 100/100 [00:01<00:00, 83.23frames/s]\n",
      "100%|██████████| 100/100 [00:07<00:00, 14.10frames/s]\n",
      "  0%|          | 0/100 [00:01<?, ?frames/s]\n",
      "100%|██████████| 100/100 [00:01<00:00, 70.62frames/s]\n",
      "100%|██████████| 100/100 [00:01<00:00, 67.91frames/s]\n",
      "  0%|          | 0/100 [00:01<?, ?frames/s]\n",
      "  0%|          | 0/100 [00:01<?, ?frames/s]\n",
      "  0%|          | 0/100 [00:01<?, ?frames/s]\n",
      "100%|██████████| 100/100 [00:01<00:00, 75.86frames/s]\n",
      "100%|██████████| 100/100 [00:01<00:00, 74.70frames/s]\n",
      "  0%|          | 0/100 [00:01<?, ?frames/s]\n",
      "100%|██████████| 100/100 [00:01<00:00, 81.05frames/s]\n",
      "100%|██████████| 100/100 [00:01<00:00, 91.19frames/s]\n",
      "100%|██████████| 100/100 [00:01<00:00, 79.00frames/s]\n",
      "100%|██████████| 100/100 [00:01<00:00, 78.87frames/s]\n",
      "100%|██████████| 100/100 [00:01<00:00, 74.98frames/s]\n",
      "100%|██████████| 100/100 [00:01<00:00, 77.96frames/s]\n",
      "100%|██████████| 100/100 [00:01<00:00, 80.58frames/s]\n",
      "100%|██████████| 100/100 [00:01<00:00, 78.03frames/s]\n",
      "100%|██████████| 100/100 [00:01<00:00, 74.38frames/s]\n",
      "100%|██████████| 100/100 [00:01<00:00, 78.02frames/s]\n",
      "100%|██████████| 100/100 [00:01<00:00, 70.37frames/s]\n",
      "  0%|          | 0/100 [00:01<?, ?frames/s]\n",
      "  0%|          | 0/100 [00:01<?, ?frames/s]\n",
      "100%|██████████| 100/100 [00:01<00:00, 83.59frames/s]\n",
      "  0%|          | 0/100 [00:01<?, ?frames/s]\n",
      "100%|██████████| 100/100 [00:01<00:00, 79.93frames/s]\n",
      "100%|██████████| 100/100 [00:01<00:00, 86.73frames/s]\n",
      "100%|██████████| 100/100 [00:01<00:00, 82.00frames/s]\n",
      "  0%|          | 0/100 [00:01<?, ?frames/s]\n",
      "  0%|          | 0/100 [00:01<?, ?frames/s]\n",
      "  0%|          | 0/100 [00:01<?, ?frames/s]\n",
      "100%|██████████| 100/100 [00:01<00:00, 78.39frames/s]\n",
      "  0%|          | 0/100 [00:01<?, ?frames/s]\n",
      "100%|██████████| 100/100 [00:01<00:00, 74.33frames/s]\n",
      "100%|██████████| 100/100 [00:06<00:00, 15.13frames/s]\n",
      "100%|██████████| 100/100 [00:01<00:00, 80.71frames/s]\n",
      "100%|██████████| 100/100 [00:01<00:00, 78.76frames/s]\n",
      "100%|██████████| 100/100 [00:01<00:00, 84.65frames/s]\n",
      "100%|██████████| 100/100 [00:01<00:00, 87.14frames/s]\n",
      "100%|██████████| 100/100 [00:01<00:00, 87.74frames/s]\n",
      "100%|██████████| 100/100 [00:01<00:00, 93.85frames/s]\n",
      "  0%|          | 0/100 [00:01<?, ?frames/s]\n",
      "100%|██████████| 100/100 [00:01<00:00, 76.44frames/s]\n",
      "100%|██████████| 100/100 [00:01<00:00, 67.21frames/s]\n",
      "100%|██████████| 100/100 [00:01<00:00, 71.91frames/s]\n",
      "100%|██████████| 100/100 [00:01<00:00, 70.20frames/s]\n",
      "  0%|          | 0/100 [00:01<?, ?frames/s]\n",
      "  0%|          | 0/100 [00:01<?, ?frames/s]\n",
      "  0%|          | 0/100 [00:01<?, ?frames/s]\n",
      "100%|██████████| 100/100 [00:01<00:00, 80.63frames/s]\n",
      "  0%|          | 0/100 [00:01<?, ?frames/s]\n",
      "100%|██████████| 100/100 [00:01<00:00, 74.26frames/s]\n",
      "  0%|          | 0/100 [00:01<?, ?frames/s]\n",
      "100%|██████████| 100/100 [00:01<00:00, 83.33frames/s]\n",
      "100%|██████████| 100/100 [00:01<00:00, 86.21frames/s]\n",
      "100%|██████████| 100/100 [00:01<00:00, 81.04frames/s]\n",
      "  0%|          | 0/100 [00:01<?, ?frames/s]\n",
      "100%|██████████| 100/100 [00:01<00:00, 73.67frames/s]\n",
      "  0%|          | 0/100 [00:01<?, ?frames/s]\n",
      "100%|██████████| 100/100 [00:01<00:00, 78.18frames/s]\n",
      "100%|██████████| 100/100 [00:01<00:00, 79.16frames/s]\n",
      "100%|██████████| 100/100 [00:01<00:00, 80.20frames/s]\n",
      "  0%|          | 0/100 [00:01<?, ?frames/s]\n",
      "100%|██████████| 100/100 [00:01<00:00, 79.26frames/s]\n",
      "  0%|          | 0/100 [00:01<?, ?frames/s]\n",
      "100%|██████████| 100/100 [00:01<00:00, 72.29frames/s]\n",
      "100%|██████████| 100/100 [00:01<00:00, 70.00frames/s]\n",
      "100%|██████████| 100/100 [00:01<00:00, 77.53frames/s]\n",
      "100%|██████████| 100/100 [00:01<00:00, 73.30frames/s]\n",
      "  0%|          | 0/100 [00:01<?, ?frames/s]\n",
      "  0%|          | 0/100 [00:01<?, ?frames/s]\n",
      "  0%|          | 0/100 [00:01<?, ?frames/s]\n",
      "  0%|          | 0/100 [00:01<?, ?frames/s]\n",
      "  0%|          | 0/100 [00:01<?, ?frames/s]\n",
      "  0%|          | 0/100 [00:01<?, ?frames/s]\n",
      "100%|██████████| 100/100 [00:01<00:00, 79.48frames/s]\n",
      "  0%|          | 0/100 [00:01<?, ?frames/s]\n",
      "100%|██████████| 100/100 [00:01<00:00, 79.51frames/s]\n",
      "100%|██████████| 100/100 [00:01<00:00, 78.07frames/s]\n",
      "100%|██████████| 100/100 [00:01<00:00, 75.32frames/s]\n",
      "100%|██████████| 100/100 [00:01<00:00, 78.54frames/s]\n",
      "  0%|          | 0/100 [00:01<?, ?frames/s]\n",
      "100%|██████████| 100/100 [00:01<00:00, 74.39frames/s]\n",
      "100%|██████████| 100/100 [00:01<00:00, 73.34frames/s]\n",
      "  0%|          | 0/100 [00:01<?, ?frames/s]\n",
      "100%|██████████| 100/100 [00:01<00:00, 59.12frames/s]\n",
      "100%|██████████| 100/100 [00:01<00:00, 86.84frames/s]\n",
      "100%|██████████| 100/100 [00:06<00:00, 14.77frames/s]\n",
      "100%|██████████| 100/100 [00:01<00:00, 84.79frames/s]\n",
      "100%|██████████| 100/100 [00:01<00:00, 79.44frames/s]\n",
      "100%|██████████| 100/100 [00:01<00:00, 79.52frames/s]\n",
      "  0%|          | 0/100 [00:01<?, ?frames/s]\n",
      "100%|██████████| 100/100 [00:06<00:00, 15.11frames/s]\n",
      "100%|██████████| 100/100 [00:01<00:00, 92.89frames/s]\n",
      "  0%|          | 0/100 [00:01<?, ?frames/s]\n",
      "100%|██████████| 100/100 [00:01<00:00, 85.37frames/s]\n",
      "100%|██████████| 100/100 [00:06<00:00, 15.20frames/s]\n",
      "100%|██████████| 100/100 [00:01<00:00, 84.70frames/s]\n",
      "100%|██████████| 100/100 [00:01<00:00, 83.62frames/s]\n",
      "100%|██████████| 100/100 [00:01<00:00, 74.33frames/s]\n",
      "100%|██████████| 100/100 [00:01<00:00, 81.62frames/s]\n",
      "100%|██████████| 100/100 [00:01<00:00, 84.01frames/s]\n",
      "100%|██████████| 100/100 [00:01<00:00, 79.56frames/s]\n",
      "  0%|          | 0/100 [00:01<?, ?frames/s]\n",
      "100%|██████████| 100/100 [00:01<00:00, 83.45frames/s]\n",
      "100%|██████████| 100/100 [00:01<00:00, 83.91frames/s]\n",
      "  0%|          | 0/100 [00:01<?, ?frames/s]\n",
      "100%|██████████| 100/100 [00:01<00:00, 85.91frames/s]\n",
      "100%|██████████| 100/100 [00:01<00:00, 83.24frames/s]\n",
      "100%|██████████| 100/100 [00:01<00:00, 80.49frames/s]\n",
      "100%|██████████| 100/100 [00:01<00:00, 81.87frames/s]\n",
      "100%|██████████| 100/100 [00:01<00:00, 82.42frames/s]\n",
      "100%|██████████| 100/100 [00:01<00:00, 85.83frames/s]\n",
      "100%|██████████| 100/100 [00:01<00:00, 72.25frames/s]\n",
      "  0%|          | 0/99 [00:01<?, ?frames/s]\n",
      "100%|██████████| 77/77 [00:01<00:00, 65.98frames/s]\n",
      "100%|██████████| 62/62 [00:01<00:00, 49.88frames/s]\n"
     ]
    }
   ],
   "source": [
    "df['whisper_pad'] = df.apply(lambda x: get_whisper_text_padding(x.xmin, x.xmax, audio_dir), axis = 1)"
   ]
  },
  {
   "cell_type": "code",
   "execution_count": 25,
   "id": "00515345",
   "metadata": {},
   "outputs": [
    {
     "data": {
      "text/html": [
       "<div>\n",
       "<style scoped>\n",
       "    .dataframe tbody tr th:only-of-type {\n",
       "        vertical-align: middle;\n",
       "    }\n",
       "\n",
       "    .dataframe tbody tr th {\n",
       "        vertical-align: top;\n",
       "    }\n",
       "\n",
       "    .dataframe thead th {\n",
       "        text-align: right;\n",
       "    }\n",
       "</style>\n",
       "<table border=\"1\" class=\"dataframe\">\n",
       "  <thead>\n",
       "    <tr style=\"text-align: right;\">\n",
       "      <th></th>\n",
       "      <th>text</th>\n",
       "      <th>xmin</th>\n",
       "      <th>xmax</th>\n",
       "      <th>interval</th>\n",
       "      <th>tier</th>\n",
       "      <th>start</th>\n",
       "      <th>end</th>\n",
       "      <th>classla</th>\n",
       "      <th>classla_lg</th>\n",
       "      <th>nvdia</th>\n",
       "      <th>whisper</th>\n",
       "      <th>whisper_text</th>\n",
       "      <th>whisper_pad</th>\n",
       "    </tr>\n",
       "  </thead>\n",
       "  <tbody>\n",
       "    <tr>\n",
       "      <th>0</th>\n",
       "      <td>Dobro.</td>\n",
       "      <td>0.155012</td>\n",
       "      <td>0.456584</td>\n",
       "      <td>2</td>\n",
       "      <td>1</td>\n",
       "      <td>2480</td>\n",
       "      <td>7306</td>\n",
       "      <td>dobro</td>\n",
       "      <td>dobro</td>\n",
       "      <td>[za mra]</td>\n",
       "      <td>{'text': ' Dobro.', 'segments': [{'id': 0, 'se...</td>\n",
       "      <td>Dobro.</td>\n",
       "      <td></td>\n",
       "    </tr>\n",
       "    <tr>\n",
       "      <th>1</th>\n",
       "      <td>((noise, smack))</td>\n",
       "      <td>0.456584</td>\n",
       "      <td>1.659126</td>\n",
       "      <td>3</td>\n",
       "      <td>1</td>\n",
       "      <td>7305</td>\n",
       "      <td>26547</td>\n",
       "      <td>pa</td>\n",
       "      <td>o</td>\n",
       "      <td>[]</td>\n",
       "      <td>{'text': '', 'segments': [], 'language': 'Croa...</td>\n",
       "      <td></td>\n",
       "      <td>NaN</td>\n",
       "    </tr>\n",
       "    <tr>\n",
       "      <th>2</th>\n",
       "      <td>Onda moremo eh započet.</td>\n",
       "      <td>1.659126</td>\n",
       "      <td>4.068000</td>\n",
       "      <td>4</td>\n",
       "      <td>1</td>\n",
       "      <td>26546</td>\n",
       "      <td>65089</td>\n",
       "      <td>onda moramo započet</td>\n",
       "      <td>onda moramo započet</td>\n",
       "      <td>[onda moramo započeti]</td>\n",
       "      <td>{'text': ' on da morimo zapocet.', 'segments':...</td>\n",
       "      <td>on da morimo zapocet.</td>\n",
       "      <td>NaN</td>\n",
       "    </tr>\n",
       "    <tr>\n",
       "      <th>3</th>\n",
       "      <td>((paper rustling))</td>\n",
       "      <td>4.068000</td>\n",
       "      <td>6.757714</td>\n",
       "      <td>5</td>\n",
       "      <td>1</td>\n",
       "      <td>65088</td>\n",
       "      <td>108124</td>\n",
       "      <td>take</td>\n",
       "      <td>š</td>\n",
       "      <td>[do]</td>\n",
       "      <td>{'text': ' Snišlišlišlišlišlišlišlišlišlišlišl...</td>\n",
       "      <td>Snišlišlišlišlišlišlišlišlišlišlišlišlišlišli...</td>\n",
       "      <td>NaN</td>\n",
       "    </tr>\n",
       "    <tr>\n",
       "      <th>4</th>\n",
       "      <td>S obziron da san i ja govornik</td>\n",
       "      <td>6.757714</td>\n",
       "      <td>8.268000</td>\n",
       "      <td>6</td>\n",
       "      <td>1</td>\n",
       "      <td>108123</td>\n",
       "      <td>132288</td>\n",
       "      <td>s obzirom da sam ja govornik</td>\n",
       "      <td>s obzirom da sam ja govornik</td>\n",
       "      <td>[es obzirom da sam i ja govornik]</td>\n",
       "      <td>{'text': ' so bezvendace na jago bornik.', 'se...</td>\n",
       "      <td>so bezvendace na jago bornik.</td>\n",
       "      <td>NaN</td>\n",
       "    </tr>\n",
       "    <tr>\n",
       "      <th>...</th>\n",
       "      <td>...</td>\n",
       "      <td>...</td>\n",
       "      <td>...</td>\n",
       "      <td>...</td>\n",
       "      <td>...</td>\n",
       "      <td>...</td>\n",
       "      <td>...</td>\n",
       "      <td>...</td>\n",
       "      <td>...</td>\n",
       "      <td>...</td>\n",
       "      <td>...</td>\n",
       "      <td>...</td>\n",
       "      <td>...</td>\n",
       "    </tr>\n",
       "    <tr>\n",
       "      <th>489</th>\n",
       "      <td>je</td>\n",
       "      <td>173.966988</td>\n",
       "      <td>174.032100</td>\n",
       "      <td>414</td>\n",
       "      <td>4</td>\n",
       "      <td>2783471</td>\n",
       "      <td>2784514</td>\n",
       "      <td></td>\n",
       "      <td>i</td>\n",
       "      <td>[]</td>\n",
       "      <td>{'text': ' Kako je da je da je da je da je da ...</td>\n",
       "      <td>Kako je da je da je da je da je da je da je d...</td>\n",
       "      <td>To, to, to.</td>\n",
       "    </tr>\n",
       "    <tr>\n",
       "      <th>490</th>\n",
       "      <td>to</td>\n",
       "      <td>174.032100</td>\n",
       "      <td>174.202306</td>\n",
       "      <td>415</td>\n",
       "      <td>4</td>\n",
       "      <td>2784513</td>\n",
       "      <td>2787237</td>\n",
       "      <td>to</td>\n",
       "      <td>to</td>\n",
       "      <td>[to]</td>\n",
       "      <td>{'text': '', 'segments': [], 'language': 'Croa...</td>\n",
       "      <td></td>\n",
       "      <td>To je to.</td>\n",
       "    </tr>\n",
       "    <tr>\n",
       "      <th>491</th>\n",
       "      <td>ča</td>\n",
       "      <td>174.358361</td>\n",
       "      <td>174.650000</td>\n",
       "      <td>417</td>\n",
       "      <td>4</td>\n",
       "      <td>2789733</td>\n",
       "      <td>2794400</td>\n",
       "      <td>ute</td>\n",
       "      <td>če</td>\n",
       "      <td>[če]</td>\n",
       "      <td>{'text': ' Kako je da je da je da je da je da ...</td>\n",
       "      <td>Kako je da je da je da je da je da je da je d...</td>\n",
       "      <td></td>\n",
       "    </tr>\n",
       "    <tr>\n",
       "      <th>492</th>\n",
       "      <td>se</td>\n",
       "      <td>174.650000</td>\n",
       "      <td>174.793584</td>\n",
       "      <td>418</td>\n",
       "      <td>4</td>\n",
       "      <td>2794400</td>\n",
       "      <td>2796698</td>\n",
       "      <td>o</td>\n",
       "      <td></td>\n",
       "      <td>[eu]</td>\n",
       "      <td>{'text': '', 'segments': [], 'language': 'Croa...</td>\n",
       "      <td></td>\n",
       "      <td>Degončali.</td>\n",
       "    </tr>\n",
       "    <tr>\n",
       "      <th>493</th>\n",
       "      <td>ti</td>\n",
       "      <td>174.793584</td>\n",
       "      <td>174.960000</td>\n",
       "      <td>419</td>\n",
       "      <td>4</td>\n",
       "      <td>2796697</td>\n",
       "      <td>2799360</td>\n",
       "      <td>da</td>\n",
       "      <td></td>\n",
       "      <td>[taj]</td>\n",
       "      <td>{'text': ' Kako je da je da je da je da je da ...</td>\n",
       "      <td>Kako je da je da je da je da je da je da je d...</td>\n",
       "      <td>Češ?</td>\n",
       "    </tr>\n",
       "  </tbody>\n",
       "</table>\n",
       "<p>494 rows × 13 columns</p>\n",
       "</div>"
      ],
      "text/plain": [
       "                               text        xmin        xmax  interval  tier  \\\n",
       "0                            Dobro.    0.155012    0.456584         2     1   \n",
       "1                  ((noise, smack))    0.456584    1.659126         3     1   \n",
       "2           Onda moremo eh započet.    1.659126    4.068000         4     1   \n",
       "3                ((paper rustling))    4.068000    6.757714         5     1   \n",
       "4    S obziron da san i ja govornik    6.757714    8.268000         6     1   \n",
       "..                              ...         ...         ...       ...   ...   \n",
       "489                              je  173.966988  174.032100       414     4   \n",
       "490                              to  174.032100  174.202306       415     4   \n",
       "491                              ča  174.358361  174.650000       417     4   \n",
       "492                              se  174.650000  174.793584       418     4   \n",
       "493                              ti  174.793584  174.960000       419     4   \n",
       "\n",
       "       start      end                       classla  \\\n",
       "0       2480     7306                         dobro   \n",
       "1       7305    26547                            pa   \n",
       "2      26546    65089           onda moramo započet   \n",
       "3      65088   108124                          take   \n",
       "4     108123   132288  s obzirom da sam ja govornik   \n",
       "..       ...      ...                           ...   \n",
       "489  2783471  2784514                                 \n",
       "490  2784513  2787237                            to   \n",
       "491  2789733  2794400                           ute   \n",
       "492  2794400  2796698                             o   \n",
       "493  2796697  2799360                            da   \n",
       "\n",
       "                       classla_lg                              nvdia  \\\n",
       "0                           dobro                           [za mra]   \n",
       "1                               o                                 []   \n",
       "2             onda moramo započet             [onda moramo započeti]   \n",
       "3                               š                               [do]   \n",
       "4    s obzirom da sam ja govornik  [es obzirom da sam i ja govornik]   \n",
       "..                            ...                                ...   \n",
       "489                             i                                 []   \n",
       "490                            to                               [to]   \n",
       "491                            če                               [če]   \n",
       "492                                                             [eu]   \n",
       "493                                                            [taj]   \n",
       "\n",
       "                                               whisper  \\\n",
       "0    {'text': ' Dobro.', 'segments': [{'id': 0, 'se...   \n",
       "1    {'text': '', 'segments': [], 'language': 'Croa...   \n",
       "2    {'text': ' on da morimo zapocet.', 'segments':...   \n",
       "3    {'text': ' Snišlišlišlišlišlišlišlišlišlišlišl...   \n",
       "4    {'text': ' so bezvendace na jago bornik.', 'se...   \n",
       "..                                                 ...   \n",
       "489  {'text': ' Kako je da je da je da je da je da ...   \n",
       "490  {'text': '', 'segments': [], 'language': 'Croa...   \n",
       "491  {'text': ' Kako je da je da je da je da je da ...   \n",
       "492  {'text': '', 'segments': [], 'language': 'Croa...   \n",
       "493  {'text': ' Kako je da je da je da je da je da ...   \n",
       "\n",
       "                                          whisper_text   whisper_pad  \n",
       "0                                               Dobro.                \n",
       "1                                                                NaN  \n",
       "2                                on da morimo zapocet.           NaN  \n",
       "3     Snišlišlišlišlišlišlišlišlišlišlišlišlišlišli...           NaN  \n",
       "4                        so bezvendace na jago bornik.           NaN  \n",
       "..                                                 ...           ...  \n",
       "489   Kako je da je da je da je da je da je da je d...   To, to, to.  \n",
       "490                                                        To je to.  \n",
       "491   Kako je da je da je da je da je da je da je d...                \n",
       "492                                                       Degončali.  \n",
       "493   Kako je da je da je da je da je da je da je d...          Češ?  \n",
       "\n",
       "[494 rows x 13 columns]"
      ]
     },
     "execution_count": 25,
     "metadata": {},
     "output_type": "execute_result"
    }
   ],
   "source": [
    "df"
   ]
  },
  {
   "cell_type": "code",
   "execution_count": 28,
   "id": "c4e813e9",
   "metadata": {},
   "outputs": [
    {
     "data": {
      "text/plain": [
       "Index(['text', 'xmin', 'xmax', 'interval', 'tier', 'start', 'end', 'classla',\n",
       "       'classla_lg', 'nvdia', 'whisper', 'whisper_text', 'whisper_pad'],\n",
       "      dtype='object')"
      ]
     },
     "execution_count": 28,
     "metadata": {},
     "output_type": "execute_result"
    }
   ],
   "source": [
    "df_word.columns"
   ]
  },
  {
   "cell_type": "code",
   "execution_count": 5,
   "id": "0fe7d164",
   "metadata": {},
   "outputs": [
    {
     "ename": "KeyError",
     "evalue": "\"['classla', 'classla_lg', 'nvdia', 'whisper_text', 'whisper_pad'] not in index\"",
     "output_type": "error",
     "traceback": [
      "\u001b[0;31m---------------------------------------------------------------------------\u001b[0m",
      "\u001b[0;31mKeyError\u001b[0m                                  Traceback (most recent call last)",
      "\u001b[0;32m<ipython-input-5-6023d5cde8c2>\u001b[0m in \u001b[0;36m<module>\u001b[0;34m\u001b[0m\n\u001b[1;32m      1\u001b[0m \u001b[0mdf_word\u001b[0m \u001b[0;34m=\u001b[0m \u001b[0mdf\u001b[0m\u001b[0;34m[\u001b[0m\u001b[0mdf\u001b[0m\u001b[0;34m[\u001b[0m\u001b[0;34m'tier'\u001b[0m\u001b[0;34m]\u001b[0m\u001b[0;34m.\u001b[0m\u001b[0misin\u001b[0m\u001b[0;34m(\u001b[0m\u001b[0;34m[\u001b[0m\u001b[0;36m2\u001b[0m\u001b[0;34m,\u001b[0m\u001b[0;36m4\u001b[0m\u001b[0;34m]\u001b[0m\u001b[0;34m)\u001b[0m\u001b[0;34m]\u001b[0m\u001b[0;34m\u001b[0m\u001b[0;34m\u001b[0m\u001b[0m\n\u001b[0;32m----> 2\u001b[0;31m \u001b[0mdf_word\u001b[0m \u001b[0;34m=\u001b[0m \u001b[0mdf_word\u001b[0m\u001b[0;34m[\u001b[0m\u001b[0;34m[\u001b[0m\u001b[0;34m'text'\u001b[0m\u001b[0;34m,\u001b[0m \u001b[0;34m'xmin'\u001b[0m\u001b[0;34m,\u001b[0m \u001b[0;34m'xmax'\u001b[0m\u001b[0;34m,\u001b[0m \u001b[0;34m'interval'\u001b[0m\u001b[0;34m,\u001b[0m \u001b[0;34m'tier'\u001b[0m\u001b[0;34m,\u001b[0m \u001b[0;34m'start'\u001b[0m\u001b[0;34m,\u001b[0m \u001b[0;34m'end'\u001b[0m\u001b[0;34m,\u001b[0m \u001b[0;34m'classla'\u001b[0m\u001b[0;34m,\u001b[0m\u001b[0;34m'classla_lg'\u001b[0m\u001b[0;34m,\u001b[0m \u001b[0;34m'nvdia'\u001b[0m\u001b[0;34m,\u001b[0m \u001b[0;34m'whisper_text'\u001b[0m\u001b[0;34m,\u001b[0m \u001b[0;34m'whisper_pad'\u001b[0m\u001b[0;34m]\u001b[0m\u001b[0;34m]\u001b[0m\u001b[0;34m\u001b[0m\u001b[0;34m\u001b[0m\u001b[0m\n\u001b[0m\u001b[1;32m      3\u001b[0m \u001b[0mdf_word\u001b[0m \u001b[0;31m# use this to get some prediction\u001b[0m\u001b[0;34m\u001b[0m\u001b[0;34m\u001b[0m\u001b[0m\n",
      "\u001b[0;32m~/opt/miniconda3/lib/python3.9/site-packages/pandas/core/frame.py\u001b[0m in \u001b[0;36m__getitem__\u001b[0;34m(self, key)\u001b[0m\n\u001b[1;32m   3462\u001b[0m             \u001b[0;32mif\u001b[0m \u001b[0mis_iterator\u001b[0m\u001b[0;34m(\u001b[0m\u001b[0mkey\u001b[0m\u001b[0;34m)\u001b[0m\u001b[0;34m:\u001b[0m\u001b[0;34m\u001b[0m\u001b[0;34m\u001b[0m\u001b[0m\n\u001b[1;32m   3463\u001b[0m                 \u001b[0mkey\u001b[0m \u001b[0;34m=\u001b[0m \u001b[0mlist\u001b[0m\u001b[0;34m(\u001b[0m\u001b[0mkey\u001b[0m\u001b[0;34m)\u001b[0m\u001b[0;34m\u001b[0m\u001b[0;34m\u001b[0m\u001b[0m\n\u001b[0;32m-> 3464\u001b[0;31m             \u001b[0mindexer\u001b[0m \u001b[0;34m=\u001b[0m \u001b[0mself\u001b[0m\u001b[0;34m.\u001b[0m\u001b[0mloc\u001b[0m\u001b[0;34m.\u001b[0m\u001b[0m_get_listlike_indexer\u001b[0m\u001b[0;34m(\u001b[0m\u001b[0mkey\u001b[0m\u001b[0;34m,\u001b[0m \u001b[0maxis\u001b[0m\u001b[0;34m=\u001b[0m\u001b[0;36m1\u001b[0m\u001b[0;34m)\u001b[0m\u001b[0;34m[\u001b[0m\u001b[0;36m1\u001b[0m\u001b[0;34m]\u001b[0m\u001b[0;34m\u001b[0m\u001b[0;34m\u001b[0m\u001b[0m\n\u001b[0m\u001b[1;32m   3465\u001b[0m \u001b[0;34m\u001b[0m\u001b[0m\n\u001b[1;32m   3466\u001b[0m         \u001b[0;31m# take() does not accept boolean indexers\u001b[0m\u001b[0;34m\u001b[0m\u001b[0;34m\u001b[0m\u001b[0;34m\u001b[0m\u001b[0m\n",
      "\u001b[0;32m~/opt/miniconda3/lib/python3.9/site-packages/pandas/core/indexing.py\u001b[0m in \u001b[0;36m_get_listlike_indexer\u001b[0;34m(self, key, axis)\u001b[0m\n\u001b[1;32m   1312\u001b[0m             \u001b[0mkeyarr\u001b[0m\u001b[0;34m,\u001b[0m \u001b[0mindexer\u001b[0m\u001b[0;34m,\u001b[0m \u001b[0mnew_indexer\u001b[0m \u001b[0;34m=\u001b[0m \u001b[0max\u001b[0m\u001b[0;34m.\u001b[0m\u001b[0m_reindex_non_unique\u001b[0m\u001b[0;34m(\u001b[0m\u001b[0mkeyarr\u001b[0m\u001b[0;34m)\u001b[0m\u001b[0;34m\u001b[0m\u001b[0;34m\u001b[0m\u001b[0m\n\u001b[1;32m   1313\u001b[0m \u001b[0;34m\u001b[0m\u001b[0m\n\u001b[0;32m-> 1314\u001b[0;31m         \u001b[0mself\u001b[0m\u001b[0;34m.\u001b[0m\u001b[0m_validate_read_indexer\u001b[0m\u001b[0;34m(\u001b[0m\u001b[0mkeyarr\u001b[0m\u001b[0;34m,\u001b[0m \u001b[0mindexer\u001b[0m\u001b[0;34m,\u001b[0m \u001b[0maxis\u001b[0m\u001b[0;34m)\u001b[0m\u001b[0;34m\u001b[0m\u001b[0;34m\u001b[0m\u001b[0m\n\u001b[0m\u001b[1;32m   1315\u001b[0m \u001b[0;34m\u001b[0m\u001b[0m\n\u001b[1;32m   1316\u001b[0m         if needs_i8_conversion(ax.dtype) or isinstance(\n",
      "\u001b[0;32m~/opt/miniconda3/lib/python3.9/site-packages/pandas/core/indexing.py\u001b[0m in \u001b[0;36m_validate_read_indexer\u001b[0;34m(self, key, indexer, axis)\u001b[0m\n\u001b[1;32m   1375\u001b[0m \u001b[0;34m\u001b[0m\u001b[0m\n\u001b[1;32m   1376\u001b[0m             \u001b[0mnot_found\u001b[0m \u001b[0;34m=\u001b[0m \u001b[0mlist\u001b[0m\u001b[0;34m(\u001b[0m\u001b[0mensure_index\u001b[0m\u001b[0;34m(\u001b[0m\u001b[0mkey\u001b[0m\u001b[0;34m)\u001b[0m\u001b[0;34m[\u001b[0m\u001b[0mmissing_mask\u001b[0m\u001b[0;34m.\u001b[0m\u001b[0mnonzero\u001b[0m\u001b[0;34m(\u001b[0m\u001b[0;34m)\u001b[0m\u001b[0;34m[\u001b[0m\u001b[0;36m0\u001b[0m\u001b[0;34m]\u001b[0m\u001b[0;34m]\u001b[0m\u001b[0;34m.\u001b[0m\u001b[0munique\u001b[0m\u001b[0;34m(\u001b[0m\u001b[0;34m)\u001b[0m\u001b[0;34m)\u001b[0m\u001b[0;34m\u001b[0m\u001b[0;34m\u001b[0m\u001b[0m\n\u001b[0;32m-> 1377\u001b[0;31m             \u001b[0;32mraise\u001b[0m \u001b[0mKeyError\u001b[0m\u001b[0;34m(\u001b[0m\u001b[0;34mf\"{not_found} not in index\"\u001b[0m\u001b[0;34m)\u001b[0m\u001b[0;34m\u001b[0m\u001b[0;34m\u001b[0m\u001b[0m\n\u001b[0m\u001b[1;32m   1378\u001b[0m \u001b[0;34m\u001b[0m\u001b[0m\n\u001b[1;32m   1379\u001b[0m \u001b[0;34m\u001b[0m\u001b[0m\n",
      "\u001b[0;31mKeyError\u001b[0m: \"['classla', 'classla_lg', 'nvdia', 'whisper_text', 'whisper_pad'] not in index\""
     ]
    }
   ],
   "source": [
    "df_word = df[df['tier'].isin([2,4])]\n",
    "df_word = df_word[['text', 'xmin', 'xmax', 'interval', 'tier', 'start', 'end', 'classla','classla_lg', 'nvdia', 'whisper_text', 'whisper_pad']]\n",
    "df_word # use this to get some prediction"
   ]
  },
  {
   "cell_type": "code",
   "execution_count": 32,
   "id": "43a658ae",
   "metadata": {},
   "outputs": [
    {
     "data": {
      "text/html": [
       "<div>\n",
       "<style scoped>\n",
       "    .dataframe tbody tr th:only-of-type {\n",
       "        vertical-align: middle;\n",
       "    }\n",
       "\n",
       "    .dataframe tbody tr th {\n",
       "        vertical-align: top;\n",
       "    }\n",
       "\n",
       "    .dataframe thead th {\n",
       "        text-align: right;\n",
       "    }\n",
       "</style>\n",
       "<table border=\"1\" class=\"dataframe\">\n",
       "  <thead>\n",
       "    <tr style=\"text-align: right;\">\n",
       "      <th></th>\n",
       "      <th>text</th>\n",
       "      <th>xmin</th>\n",
       "      <th>xmax</th>\n",
       "      <th>interval</th>\n",
       "      <th>tier</th>\n",
       "      <th>start</th>\n",
       "      <th>end</th>\n",
       "      <th>classla</th>\n",
       "      <th>classla_lg</th>\n",
       "      <th>nvdia</th>\n",
       "      <th>whisper_text</th>\n",
       "      <th>whisper_pad</th>\n",
       "    </tr>\n",
       "  </thead>\n",
       "  <tbody>\n",
       "    <tr>\n",
       "      <th>0</th>\n",
       "      <td>Dobro.</td>\n",
       "      <td>0.155012</td>\n",
       "      <td>0.456584</td>\n",
       "      <td>2</td>\n",
       "      <td>1</td>\n",
       "      <td>2480</td>\n",
       "      <td>7306</td>\n",
       "      <td>dobro</td>\n",
       "      <td>dobro</td>\n",
       "      <td>[za mra]</td>\n",
       "      <td>Dobro.</td>\n",
       "      <td></td>\n",
       "    </tr>\n",
       "    <tr>\n",
       "      <th>1</th>\n",
       "      <td>((noise, smack))</td>\n",
       "      <td>0.456584</td>\n",
       "      <td>1.659126</td>\n",
       "      <td>3</td>\n",
       "      <td>1</td>\n",
       "      <td>7305</td>\n",
       "      <td>26547</td>\n",
       "      <td>pa</td>\n",
       "      <td>o</td>\n",
       "      <td>[]</td>\n",
       "      <td></td>\n",
       "      <td>NaN</td>\n",
       "    </tr>\n",
       "    <tr>\n",
       "      <th>2</th>\n",
       "      <td>Onda moremo eh započet.</td>\n",
       "      <td>1.659126</td>\n",
       "      <td>4.068000</td>\n",
       "      <td>4</td>\n",
       "      <td>1</td>\n",
       "      <td>26546</td>\n",
       "      <td>65089</td>\n",
       "      <td>onda moramo započet</td>\n",
       "      <td>onda moramo započet</td>\n",
       "      <td>[onda moramo započeti]</td>\n",
       "      <td>on da morimo zapocet.</td>\n",
       "      <td>NaN</td>\n",
       "    </tr>\n",
       "    <tr>\n",
       "      <th>3</th>\n",
       "      <td>((paper rustling))</td>\n",
       "      <td>4.068000</td>\n",
       "      <td>6.757714</td>\n",
       "      <td>5</td>\n",
       "      <td>1</td>\n",
       "      <td>65088</td>\n",
       "      <td>108124</td>\n",
       "      <td>take</td>\n",
       "      <td>š</td>\n",
       "      <td>[do]</td>\n",
       "      <td>Snišlišlišlišlišlišlišlišlišlišlišlišlišlišli...</td>\n",
       "      <td>NaN</td>\n",
       "    </tr>\n",
       "    <tr>\n",
       "      <th>4</th>\n",
       "      <td>S obziron da san i ja govornik</td>\n",
       "      <td>6.757714</td>\n",
       "      <td>8.268000</td>\n",
       "      <td>6</td>\n",
       "      <td>1</td>\n",
       "      <td>108123</td>\n",
       "      <td>132288</td>\n",
       "      <td>s obzirom da sam ja govornik</td>\n",
       "      <td>s obzirom da sam ja govornik</td>\n",
       "      <td>[es obzirom da sam i ja govornik]</td>\n",
       "      <td>so bezvendace na jago bornik.</td>\n",
       "      <td>NaN</td>\n",
       "    </tr>\n",
       "    <tr>\n",
       "      <th>...</th>\n",
       "      <td>...</td>\n",
       "      <td>...</td>\n",
       "      <td>...</td>\n",
       "      <td>...</td>\n",
       "      <td>...</td>\n",
       "      <td>...</td>\n",
       "      <td>...</td>\n",
       "      <td>...</td>\n",
       "      <td>...</td>\n",
       "      <td>...</td>\n",
       "      <td>...</td>\n",
       "      <td>...</td>\n",
       "    </tr>\n",
       "    <tr>\n",
       "      <th>489</th>\n",
       "      <td>je</td>\n",
       "      <td>173.966988</td>\n",
       "      <td>174.032100</td>\n",
       "      <td>414</td>\n",
       "      <td>4</td>\n",
       "      <td>2783471</td>\n",
       "      <td>2784514</td>\n",
       "      <td></td>\n",
       "      <td>i</td>\n",
       "      <td>[]</td>\n",
       "      <td>Kako je da je da je da je da je da je da je d...</td>\n",
       "      <td>To, to, to.</td>\n",
       "    </tr>\n",
       "    <tr>\n",
       "      <th>490</th>\n",
       "      <td>to</td>\n",
       "      <td>174.032100</td>\n",
       "      <td>174.202306</td>\n",
       "      <td>415</td>\n",
       "      <td>4</td>\n",
       "      <td>2784513</td>\n",
       "      <td>2787237</td>\n",
       "      <td>to</td>\n",
       "      <td>to</td>\n",
       "      <td>[to]</td>\n",
       "      <td></td>\n",
       "      <td>To je to.</td>\n",
       "    </tr>\n",
       "    <tr>\n",
       "      <th>491</th>\n",
       "      <td>ča</td>\n",
       "      <td>174.358361</td>\n",
       "      <td>174.650000</td>\n",
       "      <td>417</td>\n",
       "      <td>4</td>\n",
       "      <td>2789733</td>\n",
       "      <td>2794400</td>\n",
       "      <td>ute</td>\n",
       "      <td>če</td>\n",
       "      <td>[če]</td>\n",
       "      <td>Kako je da je da je da je da je da je da je d...</td>\n",
       "      <td></td>\n",
       "    </tr>\n",
       "    <tr>\n",
       "      <th>492</th>\n",
       "      <td>se</td>\n",
       "      <td>174.650000</td>\n",
       "      <td>174.793584</td>\n",
       "      <td>418</td>\n",
       "      <td>4</td>\n",
       "      <td>2794400</td>\n",
       "      <td>2796698</td>\n",
       "      <td>o</td>\n",
       "      <td></td>\n",
       "      <td>[eu]</td>\n",
       "      <td></td>\n",
       "      <td>Degončali.</td>\n",
       "    </tr>\n",
       "    <tr>\n",
       "      <th>493</th>\n",
       "      <td>ti</td>\n",
       "      <td>174.793584</td>\n",
       "      <td>174.960000</td>\n",
       "      <td>419</td>\n",
       "      <td>4</td>\n",
       "      <td>2796697</td>\n",
       "      <td>2799360</td>\n",
       "      <td>da</td>\n",
       "      <td></td>\n",
       "      <td>[taj]</td>\n",
       "      <td>Kako je da je da je da je da je da je da je d...</td>\n",
       "      <td>Češ?</td>\n",
       "    </tr>\n",
       "  </tbody>\n",
       "</table>\n",
       "<p>494 rows × 12 columns</p>\n",
       "</div>"
      ],
      "text/plain": [
       "                               text        xmin        xmax  interval  tier  \\\n",
       "0                            Dobro.    0.155012    0.456584         2     1   \n",
       "1                  ((noise, smack))    0.456584    1.659126         3     1   \n",
       "2           Onda moremo eh započet.    1.659126    4.068000         4     1   \n",
       "3                ((paper rustling))    4.068000    6.757714         5     1   \n",
       "4    S obziron da san i ja govornik    6.757714    8.268000         6     1   \n",
       "..                              ...         ...         ...       ...   ...   \n",
       "489                              je  173.966988  174.032100       414     4   \n",
       "490                              to  174.032100  174.202306       415     4   \n",
       "491                              ča  174.358361  174.650000       417     4   \n",
       "492                              se  174.650000  174.793584       418     4   \n",
       "493                              ti  174.793584  174.960000       419     4   \n",
       "\n",
       "       start      end                       classla  \\\n",
       "0       2480     7306                         dobro   \n",
       "1       7305    26547                            pa   \n",
       "2      26546    65089           onda moramo započet   \n",
       "3      65088   108124                          take   \n",
       "4     108123   132288  s obzirom da sam ja govornik   \n",
       "..       ...      ...                           ...   \n",
       "489  2783471  2784514                                 \n",
       "490  2784513  2787237                            to   \n",
       "491  2789733  2794400                           ute   \n",
       "492  2794400  2796698                             o   \n",
       "493  2796697  2799360                            da   \n",
       "\n",
       "                       classla_lg                              nvdia  \\\n",
       "0                           dobro                           [za mra]   \n",
       "1                               o                                 []   \n",
       "2             onda moramo započet             [onda moramo započeti]   \n",
       "3                               š                               [do]   \n",
       "4    s obzirom da sam ja govornik  [es obzirom da sam i ja govornik]   \n",
       "..                            ...                                ...   \n",
       "489                             i                                 []   \n",
       "490                            to                               [to]   \n",
       "491                            če                               [če]   \n",
       "492                                                             [eu]   \n",
       "493                                                            [taj]   \n",
       "\n",
       "                                          whisper_text   whisper_pad  \n",
       "0                                               Dobro.                \n",
       "1                                                                NaN  \n",
       "2                                on da morimo zapocet.           NaN  \n",
       "3     Snišlišlišlišlišlišlišlišlišlišlišlišlišlišli...           NaN  \n",
       "4                        so bezvendace na jago bornik.           NaN  \n",
       "..                                                 ...           ...  \n",
       "489   Kako je da je da je da je da je da je da je d...   To, to, to.  \n",
       "490                                                        To je to.  \n",
       "491   Kako je da je da je da je da je da je da je d...                \n",
       "492                                                       Degončali.  \n",
       "493   Kako je da je da je da je da je da je da je d...          Češ?  \n",
       "\n",
       "[494 rows x 12 columns]"
      ]
     },
     "execution_count": 32,
     "metadata": {},
     "output_type": "execute_result"
    }
   ],
   "source": [
    "df = df[['text', 'xmin', 'xmax', 'interval', 'tier', 'start', 'end', 'classla','classla_lg', 'nvdia', 'whisper_text', 'whisper_pad']]\n",
    "df"
   ]
  },
  {
   "cell_type": "code",
   "execution_count": 36,
   "id": "4f018fe2",
   "metadata": {},
   "outputs": [],
   "source": [
    "df['nvdia_text'] = df['nvdia'].apply(lambda x: x[0])\n",
    "df_word['nvdia_text'] = df_word['nvdia'].apply(lambda x: x[0])\n"
   ]
  },
  {
   "cell_type": "code",
   "execution_count": 44,
   "id": "2ae36284",
   "metadata": {},
   "outputs": [
    {
     "data": {
      "text/html": [
       "<div>\n",
       "<style scoped>\n",
       "    .dataframe tbody tr th:only-of-type {\n",
       "        vertical-align: middle;\n",
       "    }\n",
       "\n",
       "    .dataframe tbody tr th {\n",
       "        vertical-align: top;\n",
       "    }\n",
       "\n",
       "    .dataframe thead th {\n",
       "        text-align: right;\n",
       "    }\n",
       "</style>\n",
       "<table border=\"1\" class=\"dataframe\">\n",
       "  <thead>\n",
       "    <tr style=\"text-align: right;\">\n",
       "      <th></th>\n",
       "      <th>text</th>\n",
       "      <th>xmin</th>\n",
       "      <th>xmax</th>\n",
       "      <th>interval</th>\n",
       "      <th>tier</th>\n",
       "      <th>start</th>\n",
       "      <th>end</th>\n",
       "      <th>classla</th>\n",
       "      <th>classla_lg</th>\n",
       "      <th>nvdia</th>\n",
       "      <th>whisper_text</th>\n",
       "      <th>whisper_pad</th>\n",
       "      <th>nvdia_text</th>\n",
       "    </tr>\n",
       "  </thead>\n",
       "  <tbody>\n",
       "    <tr>\n",
       "      <th>0</th>\n",
       "      <td>Dobro.</td>\n",
       "      <td>0.155012</td>\n",
       "      <td>0.456584</td>\n",
       "      <td>2</td>\n",
       "      <td>1</td>\n",
       "      <td>2480</td>\n",
       "      <td>7306</td>\n",
       "      <td>dobro</td>\n",
       "      <td>dobro</td>\n",
       "      <td>[za mra]</td>\n",
       "      <td>Dobro.</td>\n",
       "      <td></td>\n",
       "      <td>za mra</td>\n",
       "    </tr>\n",
       "    <tr>\n",
       "      <th>1</th>\n",
       "      <td>((noise, smack))</td>\n",
       "      <td>0.456584</td>\n",
       "      <td>1.659126</td>\n",
       "      <td>3</td>\n",
       "      <td>1</td>\n",
       "      <td>7305</td>\n",
       "      <td>26547</td>\n",
       "      <td>pa</td>\n",
       "      <td>o</td>\n",
       "      <td>[]</td>\n",
       "      <td></td>\n",
       "      <td>NaN</td>\n",
       "      <td></td>\n",
       "    </tr>\n",
       "    <tr>\n",
       "      <th>2</th>\n",
       "      <td>Onda moremo eh započet.</td>\n",
       "      <td>1.659126</td>\n",
       "      <td>4.068000</td>\n",
       "      <td>4</td>\n",
       "      <td>1</td>\n",
       "      <td>26546</td>\n",
       "      <td>65089</td>\n",
       "      <td>onda moramo započet</td>\n",
       "      <td>onda moramo započet</td>\n",
       "      <td>[onda moramo započeti]</td>\n",
       "      <td>on da morimo zapocet.</td>\n",
       "      <td>NaN</td>\n",
       "      <td>onda moramo započeti</td>\n",
       "    </tr>\n",
       "    <tr>\n",
       "      <th>3</th>\n",
       "      <td>((paper rustling))</td>\n",
       "      <td>4.068000</td>\n",
       "      <td>6.757714</td>\n",
       "      <td>5</td>\n",
       "      <td>1</td>\n",
       "      <td>65088</td>\n",
       "      <td>108124</td>\n",
       "      <td>take</td>\n",
       "      <td>š</td>\n",
       "      <td>[do]</td>\n",
       "      <td>Snišlišlišlišlišlišlišlišlišlišlišlišlišlišli...</td>\n",
       "      <td>NaN</td>\n",
       "      <td>do</td>\n",
       "    </tr>\n",
       "    <tr>\n",
       "      <th>4</th>\n",
       "      <td>S obziron da san i ja govornik</td>\n",
       "      <td>6.757714</td>\n",
       "      <td>8.268000</td>\n",
       "      <td>6</td>\n",
       "      <td>1</td>\n",
       "      <td>108123</td>\n",
       "      <td>132288</td>\n",
       "      <td>s obzirom da sam ja govornik</td>\n",
       "      <td>s obzirom da sam ja govornik</td>\n",
       "      <td>[es obzirom da sam i ja govornik]</td>\n",
       "      <td>so bezvendace na jago bornik.</td>\n",
       "      <td>NaN</td>\n",
       "      <td>es obzirom da sam i ja govornik</td>\n",
       "    </tr>\n",
       "    <tr>\n",
       "      <th>...</th>\n",
       "      <td>...</td>\n",
       "      <td>...</td>\n",
       "      <td>...</td>\n",
       "      <td>...</td>\n",
       "      <td>...</td>\n",
       "      <td>...</td>\n",
       "      <td>...</td>\n",
       "      <td>...</td>\n",
       "      <td>...</td>\n",
       "      <td>...</td>\n",
       "      <td>...</td>\n",
       "      <td>...</td>\n",
       "      <td>...</td>\n",
       "    </tr>\n",
       "    <tr>\n",
       "      <th>132</th>\n",
       "      <td>#</td>\n",
       "      <td>170.700000</td>\n",
       "      <td>171.037673</td>\n",
       "      <td>68</td>\n",
       "      <td>3</td>\n",
       "      <td>2731200</td>\n",
       "      <td>2736603</td>\n",
       "      <td>okuto</td>\n",
       "      <td></td>\n",
       "      <td>[odluke]</td>\n",
       "      <td>Kako je da je da je da je da je da je da je d...</td>\n",
       "      <td>No...</td>\n",
       "      <td>odluke</td>\n",
       "    </tr>\n",
       "    <tr>\n",
       "      <th>133</th>\n",
       "      <td>mmm kantana maša.</td>\n",
       "      <td>171.037673</td>\n",
       "      <td>172.235189</td>\n",
       "      <td>69</td>\n",
       "      <td>3</td>\n",
       "      <td>2736602</td>\n",
       "      <td>2755764</td>\n",
       "      <td>kamdana maša</td>\n",
       "      <td>kamdanamašao</td>\n",
       "      <td>[pandana mašea]</td>\n",
       "      <td>Kada ne mašio.</td>\n",
       "      <td>NaN</td>\n",
       "      <td>pandana mašea</td>\n",
       "    </tr>\n",
       "    <tr>\n",
       "      <th>134</th>\n",
       "      <td>((smack, breath))</td>\n",
       "      <td>172.235189</td>\n",
       "      <td>173.463225</td>\n",
       "      <td>70</td>\n",
       "      <td>3</td>\n",
       "      <td>2755763</td>\n",
       "      <td>2775412</td>\n",
       "      <td>ot</td>\n",
       "      <td></td>\n",
       "      <td>[u]</td>\n",
       "      <td></td>\n",
       "      <td>NaN</td>\n",
       "      <td>u</td>\n",
       "    </tr>\n",
       "    <tr>\n",
       "      <th>135</th>\n",
       "      <td>To je/ to je to.</td>\n",
       "      <td>173.463225</td>\n",
       "      <td>174.202306</td>\n",
       "      <td>71</td>\n",
       "      <td>3</td>\n",
       "      <td>2775411</td>\n",
       "      <td>2787237</td>\n",
       "      <td>to je to</td>\n",
       "      <td>to je to</td>\n",
       "      <td>[to je to]</td>\n",
       "      <td>To, to, to.</td>\n",
       "      <td>To, to, to.</td>\n",
       "      <td>to je to</td>\n",
       "    </tr>\n",
       "    <tr>\n",
       "      <th>136</th>\n",
       "      <td>Ča se ti/</td>\n",
       "      <td>174.358714</td>\n",
       "      <td>175.000000</td>\n",
       "      <td>73</td>\n",
       "      <td>3</td>\n",
       "      <td>2789739</td>\n",
       "      <td>2800000</td>\n",
       "      <td>takodera i</td>\n",
       "      <td>čeoč</td>\n",
       "      <td>[tevončak]</td>\n",
       "      <td>Češ?</td>\n",
       "      <td>Degro.</td>\n",
       "      <td>tevončak</td>\n",
       "    </tr>\n",
       "  </tbody>\n",
       "</table>\n",
       "<p>87 rows × 13 columns</p>\n",
       "</div>"
      ],
      "text/plain": [
       "                               text        xmin        xmax  interval  tier  \\\n",
       "0                            Dobro.    0.155012    0.456584         2     1   \n",
       "1                  ((noise, smack))    0.456584    1.659126         3     1   \n",
       "2           Onda moremo eh započet.    1.659126    4.068000         4     1   \n",
       "3                ((paper rustling))    4.068000    6.757714         5     1   \n",
       "4    S obziron da san i ja govornik    6.757714    8.268000         6     1   \n",
       "..                              ...         ...         ...       ...   ...   \n",
       "132                               #  170.700000  171.037673        68     3   \n",
       "133              mmm kantana maša.   171.037673  172.235189        69     3   \n",
       "134               ((smack, breath))  172.235189  173.463225        70     3   \n",
       "135                To je/ to je to.  173.463225  174.202306        71     3   \n",
       "136                       Ča se ti/  174.358714  175.000000        73     3   \n",
       "\n",
       "       start      end                       classla  \\\n",
       "0       2480     7306                         dobro   \n",
       "1       7305    26547                            pa   \n",
       "2      26546    65089           onda moramo započet   \n",
       "3      65088   108124                          take   \n",
       "4     108123   132288  s obzirom da sam ja govornik   \n",
       "..       ...      ...                           ...   \n",
       "132  2731200  2736603                         okuto   \n",
       "133  2736602  2755764                  kamdana maša   \n",
       "134  2755763  2775412                            ot   \n",
       "135  2775411  2787237                      to je to   \n",
       "136  2789739  2800000                    takodera i   \n",
       "\n",
       "                       classla_lg                              nvdia  \\\n",
       "0                           dobro                           [za mra]   \n",
       "1                               o                                 []   \n",
       "2             onda moramo započet             [onda moramo započeti]   \n",
       "3                               š                               [do]   \n",
       "4    s obzirom da sam ja govornik  [es obzirom da sam i ja govornik]   \n",
       "..                            ...                                ...   \n",
       "132                                                         [odluke]   \n",
       "133                  kamdanamašao                    [pandana mašea]   \n",
       "134                                                              [u]   \n",
       "135                      to je to                         [to je to]   \n",
       "136                          čeoč                         [tevončak]   \n",
       "\n",
       "                                          whisper_text   whisper_pad  \\\n",
       "0                                               Dobro.                 \n",
       "1                                                                NaN   \n",
       "2                                on da morimo zapocet.           NaN   \n",
       "3     Snišlišlišlišlišlišlišlišlišlišlišlišlišlišli...           NaN   \n",
       "4                        so bezvendace na jago bornik.           NaN   \n",
       "..                                                 ...           ...   \n",
       "132   Kako je da je da je da je da je da je da je d...         No...   \n",
       "133                                     Kada ne mašio.           NaN   \n",
       "134                                                              NaN   \n",
       "135                                        To, to, to.   To, to, to.   \n",
       "136                                               Češ?        Degro.   \n",
       "\n",
       "                          nvdia_text  \n",
       "0                             za mra  \n",
       "1                                     \n",
       "2               onda moramo započeti  \n",
       "3                                 do  \n",
       "4    es obzirom da sam i ja govornik  \n",
       "..                               ...  \n",
       "132                           odluke  \n",
       "133                    pandana mašea  \n",
       "134                                u  \n",
       "135                         to je to  \n",
       "136                         tevončak  \n",
       "\n",
       "[87 rows x 13 columns]"
      ]
     },
     "execution_count": 44,
     "metadata": {},
     "output_type": "execute_result"
    }
   ],
   "source": [
    "df_snt = df[df['tier'].isin([1,3])]\n",
    "df_snt"
   ]
  },
  {
   "cell_type": "code",
   "execution_count": 45,
   "id": "53ccc5d6",
   "metadata": {},
   "outputs": [
    {
     "data": {
      "text/html": [
       "<div>\n",
       "<style scoped>\n",
       "    .dataframe tbody tr th:only-of-type {\n",
       "        vertical-align: middle;\n",
       "    }\n",
       "\n",
       "    .dataframe tbody tr th {\n",
       "        vertical-align: top;\n",
       "    }\n",
       "\n",
       "    .dataframe thead th {\n",
       "        text-align: right;\n",
       "    }\n",
       "</style>\n",
       "<table border=\"1\" class=\"dataframe\">\n",
       "  <thead>\n",
       "    <tr style=\"text-align: right;\">\n",
       "      <th></th>\n",
       "      <th>text</th>\n",
       "      <th>xmin</th>\n",
       "      <th>xmax</th>\n",
       "      <th>interval</th>\n",
       "      <th>tier</th>\n",
       "      <th>start</th>\n",
       "      <th>end</th>\n",
       "      <th>classla</th>\n",
       "      <th>classla_lg</th>\n",
       "      <th>nvdia</th>\n",
       "      <th>whisper_text</th>\n",
       "      <th>whisper_pad</th>\n",
       "      <th>nvdia_text</th>\n",
       "    </tr>\n",
       "  </thead>\n",
       "  <tbody>\n",
       "    <tr>\n",
       "      <th>0</th>\n",
       "      <td>Dobro.</td>\n",
       "      <td>0.155012</td>\n",
       "      <td>0.456584</td>\n",
       "      <td>2</td>\n",
       "      <td>1</td>\n",
       "      <td>2480</td>\n",
       "      <td>7306</td>\n",
       "      <td>dobro</td>\n",
       "      <td>dobro</td>\n",
       "      <td>[za mra]</td>\n",
       "      <td>Dobro.</td>\n",
       "      <td></td>\n",
       "      <td>za mra</td>\n",
       "    </tr>\n",
       "    <tr>\n",
       "      <th>1</th>\n",
       "      <td>((noise, smack))</td>\n",
       "      <td>0.456584</td>\n",
       "      <td>1.659126</td>\n",
       "      <td>3</td>\n",
       "      <td>1</td>\n",
       "      <td>7305</td>\n",
       "      <td>26547</td>\n",
       "      <td>pa</td>\n",
       "      <td>o</td>\n",
       "      <td>[]</td>\n",
       "      <td></td>\n",
       "      <td>NaN</td>\n",
       "      <td></td>\n",
       "    </tr>\n",
       "    <tr>\n",
       "      <th>2</th>\n",
       "      <td>Onda moremo eh započet.</td>\n",
       "      <td>1.659126</td>\n",
       "      <td>4.068000</td>\n",
       "      <td>4</td>\n",
       "      <td>1</td>\n",
       "      <td>26546</td>\n",
       "      <td>65089</td>\n",
       "      <td>onda moramo započet</td>\n",
       "      <td>onda moramo započet</td>\n",
       "      <td>[onda moramo započeti]</td>\n",
       "      <td>on da morimo zapocet.</td>\n",
       "      <td>NaN</td>\n",
       "      <td>onda moramo započeti</td>\n",
       "    </tr>\n",
       "    <tr>\n",
       "      <th>3</th>\n",
       "      <td>((paper rustling))</td>\n",
       "      <td>4.068000</td>\n",
       "      <td>6.757714</td>\n",
       "      <td>5</td>\n",
       "      <td>1</td>\n",
       "      <td>65088</td>\n",
       "      <td>108124</td>\n",
       "      <td>take</td>\n",
       "      <td>š</td>\n",
       "      <td>[do]</td>\n",
       "      <td>Snišlišlišlišlišlišlišlišlišlišlišlišlišlišli...</td>\n",
       "      <td>NaN</td>\n",
       "      <td>do</td>\n",
       "    </tr>\n",
       "    <tr>\n",
       "      <th>4</th>\n",
       "      <td>S obziron da san i ja govornik</td>\n",
       "      <td>6.757714</td>\n",
       "      <td>8.268000</td>\n",
       "      <td>6</td>\n",
       "      <td>1</td>\n",
       "      <td>108123</td>\n",
       "      <td>132288</td>\n",
       "      <td>s obzirom da sam ja govornik</td>\n",
       "      <td>s obzirom da sam ja govornik</td>\n",
       "      <td>[es obzirom da sam i ja govornik]</td>\n",
       "      <td>so bezvendace na jago bornik.</td>\n",
       "      <td>NaN</td>\n",
       "      <td>es obzirom da sam i ja govornik</td>\n",
       "    </tr>\n",
       "    <tr>\n",
       "      <th>5</th>\n",
       "      <td>((noise))</td>\n",
       "      <td>8.268000</td>\n",
       "      <td>8.702694</td>\n",
       "      <td>7</td>\n",
       "      <td>1</td>\n",
       "      <td>132288</td>\n",
       "      <td>139244</td>\n",
       "      <td>ed</td>\n",
       "      <td></td>\n",
       "      <td>[]</td>\n",
       "      <td></td>\n",
       "      <td></td>\n",
       "      <td></td>\n",
       "    </tr>\n",
       "    <tr>\n",
       "      <th>6</th>\n",
       "      <td>materinskega idioma</td>\n",
       "      <td>8.702694</td>\n",
       "      <td>10.140975</td>\n",
       "      <td>8</td>\n",
       "      <td>1</td>\n",
       "      <td>139243</td>\n",
       "      <td>162256</td>\n",
       "      <td>materinskoga idioma</td>\n",
       "      <td>materinskoga edioma</td>\n",
       "      <td>[materinskoga dioma]</td>\n",
       "      <td>Matrenj se ga je dioma.</td>\n",
       "      <td>NaN</td>\n",
       "      <td>materinskoga dioma</td>\n",
       "    </tr>\n",
       "    <tr>\n",
       "      <th>7</th>\n",
       "      <td>((breath))</td>\n",
       "      <td>10.140975</td>\n",
       "      <td>10.717607</td>\n",
       "      <td>9</td>\n",
       "      <td>1</td>\n",
       "      <td>162255</td>\n",
       "      <td>171482</td>\n",
       "      <td>d</td>\n",
       "      <td></td>\n",
       "      <td>[]</td>\n",
       "      <td>Kako je da je da je da je da je da je da je d...</td>\n",
       "      <td>Daj naš da je da je da je da je da je da je d...</td>\n",
       "      <td></td>\n",
       "    </tr>\n",
       "    <tr>\n",
       "      <th>8</th>\n",
       "      <td>onda ćemo govorit, ću provat po domaće pa, za ...</td>\n",
       "      <td>10.717607</td>\n",
       "      <td>13.978445</td>\n",
       "      <td>10</td>\n",
       "      <td>1</td>\n",
       "      <td>171481</td>\n",
       "      <td>223656</td>\n",
       "      <td>onda ćemo govoriti ćekulatko do majhe pa za po...</td>\n",
       "      <td>onda ćemo govorit ehlatko do maćepa za početak</td>\n",
       "      <td>[onda ćemo govoriti čehva po domate pa za poče...</td>\n",
       "      <td>onda ćemo govoriti čekrat koja da mati pa, za...</td>\n",
       "      <td>NaN</td>\n",
       "      <td>onda ćemo govoriti čehva po domate pa za početak</td>\n",
       "    </tr>\n",
       "    <tr>\n",
       "      <th>9</th>\n",
       "      <td>((breath, noise))</td>\n",
       "      <td>13.978445</td>\n",
       "      <td>14.399799</td>\n",
       "      <td>11</td>\n",
       "      <td>1</td>\n",
       "      <td>223655</td>\n",
       "      <td>230397</td>\n",
       "      <td>op</td>\n",
       "      <td></td>\n",
       "      <td>[o]</td>\n",
       "      <td></td>\n",
       "      <td></td>\n",
       "      <td>o</td>\n",
       "    </tr>\n",
       "    <tr>\n",
       "      <th>10</th>\n",
       "      <td>moreš nan eh reć nešto, u kratko, o sebe. Kade...</td>\n",
       "      <td>14.399799</td>\n",
       "      <td>19.160466</td>\n",
       "      <td>12</td>\n",
       "      <td>1</td>\n",
       "      <td>230396</td>\n",
       "      <td>306568</td>\n",
       "      <td>moraš nam reći nešto u kratko od sebe kada des...</td>\n",
       "      <td>moraš nam reći nešto ukratko od sebe kade si r...</td>\n",
       "      <td>[može nam reći nešto ukratko od sebe kada jesi...</td>\n",
       "      <td>Moriš na rećine što u kratku sebe kadesi rodj...</td>\n",
       "      <td>NaN</td>\n",
       "      <td>može nam reći nešto ukratko od sebe kada jesi ...</td>\n",
       "    </tr>\n",
       "    <tr>\n",
       "      <th>11</th>\n",
       "      <td>((breath))</td>\n",
       "      <td>19.160466</td>\n",
       "      <td>19.645389</td>\n",
       "      <td>13</td>\n",
       "      <td>1</td>\n",
       "      <td>306567</td>\n",
       "      <td>314327</td>\n",
       "      <td>d</td>\n",
       "      <td></td>\n",
       "      <td>[]</td>\n",
       "      <td></td>\n",
       "      <td>Kada je si.</td>\n",
       "      <td></td>\n",
       "    </tr>\n",
       "    <tr>\n",
       "      <th>12</th>\n",
       "      <td>kade si se zgojila</td>\n",
       "      <td>19.645389</td>\n",
       "      <td>20.979772</td>\n",
       "      <td>14</td>\n",
       "      <td>1</td>\n",
       "      <td>314326</td>\n",
       "      <td>335677</td>\n",
       "      <td>kada ste zgojila</td>\n",
       "      <td>kada se zgonjila</td>\n",
       "      <td>[res se zgonjila]</td>\n",
       "      <td>kad je se se zgodila.</td>\n",
       "      <td>NaN</td>\n",
       "      <td>res se zgonjila</td>\n",
       "    </tr>\n",
       "    <tr>\n",
       "      <th>13</th>\n",
       "      <td>((noise))</td>\n",
       "      <td>20.979772</td>\n",
       "      <td>21.297336</td>\n",
       "      <td>15</td>\n",
       "      <td>1</td>\n",
       "      <td>335676</td>\n",
       "      <td>340758</td>\n",
       "      <td>nadi</td>\n",
       "      <td>t</td>\n",
       "      <td>[]</td>\n",
       "      <td>Kako je da je da je da je da je da je da je d...</td>\n",
       "      <td>i tako...</td>\n",
       "      <td></td>\n",
       "    </tr>\n",
       "    <tr>\n",
       "      <th>14</th>\n",
       "      <td>i tako nešto ča te domišja na djetinjstvo.</td>\n",
       "      <td>21.297336</td>\n",
       "      <td>24.076000</td>\n",
       "      <td>16</td>\n",
       "      <td>1</td>\n",
       "      <td>340757</td>\n",
       "      <td>385216</td>\n",
       "      <td>i tako nešto čate domisija na lijetinstvo</td>\n",
       "      <td>i tako nešto čate do misija na dljetinstvo</td>\n",
       "      <td>[i tako nešto ćate do miisija na djetinjstvo]</td>\n",
       "      <td>I tako ne skocate domisija na djete instvo.</td>\n",
       "      <td>NaN</td>\n",
       "      <td>i tako nešto ćate do miisija na djetinjstvo</td>\n",
       "    </tr>\n",
       "    <tr>\n",
       "      <th>15</th>\n",
       "      <td>((overlapping))</td>\n",
       "      <td>174.358714</td>\n",
       "      <td>175.000000</td>\n",
       "      <td>18</td>\n",
       "      <td>1</td>\n",
       "      <td>2789739</td>\n",
       "      <td>2800000</td>\n",
       "      <td>takodera i</td>\n",
       "      <td>čeoč</td>\n",
       "      <td>[tevončak]</td>\n",
       "      <td>Češ?</td>\n",
       "      <td>Degro.</td>\n",
       "      <td>tevončak</td>\n",
       "    </tr>\n",
       "    <tr>\n",
       "      <th>66</th>\n",
       "      <td>eh</td>\n",
       "      <td>24.580546</td>\n",
       "      <td>25.428000</td>\n",
       "      <td>2</td>\n",
       "      <td>3</td>\n",
       "      <td>393288</td>\n",
       "      <td>406848</td>\n",
       "      <td>e</td>\n",
       "      <td></td>\n",
       "      <td>[rani]</td>\n",
       "      <td>Ja.</td>\n",
       "      <td>Ja...</td>\n",
       "      <td>rani</td>\n",
       "    </tr>\n",
       "    <tr>\n",
       "      <th>67</th>\n",
       "      <td>Znači, rodila san se u Trvižu,</td>\n",
       "      <td>25.428000</td>\n",
       "      <td>27.332000</td>\n",
       "      <td>3</td>\n",
       "      <td>3</td>\n",
       "      <td>406847</td>\n",
       "      <td>437312</td>\n",
       "      <td>znači rodila sam se u tervižu</td>\n",
       "      <td>znači rodila sam se u tervižu</td>\n",
       "      <td>[značirodila sam se u tervižu]</td>\n",
       "      <td>Načir odila sam se uter vijžu.</td>\n",
       "      <td>NaN</td>\n",
       "      <td>značirodila sam se u tervižu</td>\n",
       "    </tr>\n",
       "    <tr>\n",
       "      <th>68</th>\n",
       "      <td>((breath))</td>\n",
       "      <td>27.332000</td>\n",
       "      <td>27.945024</td>\n",
       "      <td>4</td>\n",
       "      <td>3</td>\n",
       "      <td>437312</td>\n",
       "      <td>447121</td>\n",
       "      <td>t</td>\n",
       "      <td></td>\n",
       "      <td>[]</td>\n",
       "      <td></td>\n",
       "      <td></td>\n",
       "      <td></td>\n",
       "    </tr>\n",
       "    <tr>\n",
       "      <th>69</th>\n",
       "      <td>eh jenen eh mestu,</td>\n",
       "      <td>27.945024</td>\n",
       "      <td>29.615711</td>\n",
       "      <td>5</td>\n",
       "      <td>3</td>\n",
       "      <td>447120</td>\n",
       "      <td>473852</td>\n",
       "      <td>jenan mestu</td>\n",
       "      <td>oje mestu</td>\n",
       "      <td>[je nan mestu]</td>\n",
       "      <td>Jeden mesto.</td>\n",
       "      <td>NaN</td>\n",
       "      <td>je nan mestu</td>\n",
       "    </tr>\n",
       "    <tr>\n",
       "      <th>70</th>\n",
       "      <td>srednjovjekovnen gradiću</td>\n",
       "      <td>29.615711</td>\n",
       "      <td>31.214399</td>\n",
       "      <td>6</td>\n",
       "      <td>3</td>\n",
       "      <td>473851</td>\n",
       "      <td>499431</td>\n",
       "      <td>srednjovjekovnom gradiću</td>\n",
       "      <td>srednjovjekovnom gradiću</td>\n",
       "      <td>[srednjovjekovnom gradiću]</td>\n",
       "      <td>Sredni objeko ono in gradiću.</td>\n",
       "      <td>NaN</td>\n",
       "      <td>srednjovjekovnom gradiću</td>\n",
       "    </tr>\n",
       "    <tr>\n",
       "      <th>71</th>\n",
       "      <td>#</td>\n",
       "      <td>31.214399</td>\n",
       "      <td>31.428012</td>\n",
       "      <td>7</td>\n",
       "      <td>3</td>\n",
       "      <td>499430</td>\n",
       "      <td>502849</td>\n",
       "      <td>uko</td>\n",
       "      <td>ke</td>\n",
       "      <td>[oka]</td>\n",
       "      <td></td>\n",
       "      <td></td>\n",
       "      <td>oka</td>\n",
       "    </tr>\n",
       "    <tr>\n",
       "      <th>72</th>\n",
       "      <td>eh blizu Pazina</td>\n",
       "      <td>31.428012</td>\n",
       "      <td>32.600345</td>\n",
       "      <td>8</td>\n",
       "      <td>3</td>\n",
       "      <td>502848</td>\n",
       "      <td>521606</td>\n",
       "      <td>blizu pazina</td>\n",
       "      <td>blizu pazina</td>\n",
       "      <td>[blizu pazina]</td>\n",
       "      <td>blizupazinam.</td>\n",
       "      <td>NaN</td>\n",
       "      <td>blizu pazina</td>\n",
       "    </tr>\n",
       "    <tr>\n",
       "      <th>73</th>\n",
       "      <td>((breath))</td>\n",
       "      <td>32.600345</td>\n",
       "      <td>33.450780</td>\n",
       "      <td>9</td>\n",
       "      <td>3</td>\n",
       "      <td>521605</td>\n",
       "      <td>535213</td>\n",
       "      <td>d</td>\n",
       "      <td></td>\n",
       "      <td>[je]</td>\n",
       "      <td></td>\n",
       "      <td>A, a, a, a, a, a, a, a, a, a, a, a, a, a, a, ...</td>\n",
       "      <td>je</td>\n",
       "    </tr>\n",
       "    <tr>\n",
       "      <th>74</th>\n",
       "      <td>Eh živila san z mamon i z ćaćon, z nonićima i ...</td>\n",
       "      <td>33.450780</td>\n",
       "      <td>38.578155</td>\n",
       "      <td>10</td>\n",
       "      <td>3</td>\n",
       "      <td>535212</td>\n",
       "      <td>617251</td>\n",
       "      <td>živila sam za mamon i stajčon znonikima iz bra...</td>\n",
       "      <td>živjila sam za mamonistjačom znonićima iz brat...</td>\n",
       "      <td>[živilason mamuni jajon znonikima iz bratonim ...</td>\n",
       "      <td>živila se on za mamonistjati on, znonitim izb...</td>\n",
       "      <td>NaN</td>\n",
       "      <td>živilason mamuni jajon znonikima iz bratonim s...</td>\n",
       "    </tr>\n",
       "    <tr>\n",
       "      <th>75</th>\n",
       "      <td>((noise))</td>\n",
       "      <td>38.578155</td>\n",
       "      <td>38.949962</td>\n",
       "      <td>11</td>\n",
       "      <td>3</td>\n",
       "      <td>617250</td>\n",
       "      <td>623200</td>\n",
       "      <td>kino</td>\n",
       "      <td>ia</td>\n",
       "      <td>[vidi]</td>\n",
       "      <td></td>\n",
       "      <td>da je to je da je to je da je to je da je to ...</td>\n",
       "      <td>vidi</td>\n",
       "    </tr>\n",
       "    <tr>\n",
       "      <th>76</th>\n",
       "      <td>Eh djet/ za</td>\n",
       "      <td>38.949962</td>\n",
       "      <td>40.559877</td>\n",
       "      <td>12</td>\n",
       "      <td>3</td>\n",
       "      <td>623199</td>\n",
       "      <td>648959</td>\n",
       "      <td>za</td>\n",
       "      <td>za</td>\n",
       "      <td>[za]</td>\n",
       "      <td>Gdje to...</td>\n",
       "      <td>NaN</td>\n",
       "      <td>za</td>\n",
       "    </tr>\n",
       "    <tr>\n",
       "      <th>77</th>\n",
       "      <td>((breath))</td>\n",
       "      <td>40.559877</td>\n",
       "      <td>41.110236</td>\n",
       "      <td>13</td>\n",
       "      <td>3</td>\n",
       "      <td>648958</td>\n",
       "      <td>657764</td>\n",
       "      <td>pih</td>\n",
       "      <td></td>\n",
       "      <td>[bi]</td>\n",
       "      <td></td>\n",
       "      <td></td>\n",
       "      <td>bi</td>\n",
       "    </tr>\n",
       "    <tr>\n",
       "      <th>78</th>\n",
       "      <td>eh djetinjstvo me vežu jako lepe uspomene.</td>\n",
       "      <td>41.110236</td>\n",
       "      <td>44.160526</td>\n",
       "      <td>14</td>\n",
       "      <td>3</td>\n",
       "      <td>657763</td>\n",
       "      <td>706569</td>\n",
       "      <td>djetinjstvome vežu jakolepe uspomene</td>\n",
       "      <td>djetinstvo omme vežu i ako lepe u spomene</td>\n",
       "      <td>[gdjetinzul me vežu jako lejepe uspomene]</td>\n",
       "      <td>Djetinsu mi reću jako lepe uspomine.</td>\n",
       "      <td>NaN</td>\n",
       "      <td>gdjetinzul me vežu jako lejepe uspomene</td>\n",
       "    </tr>\n",
       "    <tr>\n",
       "      <th>79</th>\n",
       "      <td>Eh najviše mmm bezbrižna igra sa svojin susedima,</td>\n",
       "      <td>44.160526</td>\n",
       "      <td>49.568132</td>\n",
       "      <td>15</td>\n",
       "      <td>3</td>\n",
       "      <td>706568</td>\n",
       "      <td>793091</td>\n",
       "      <td>najviše bezbližna igra sa svojim susedima</td>\n",
       "      <td>najviše bezbrižna igra sa svojim susjedima</td>\n",
       "      <td>[najviše bezbrižna igra sa svojim susjedima]</td>\n",
       "      <td>Najviše bezbigina igra sa svojn su sedima.</td>\n",
       "      <td>NaN</td>\n",
       "      <td>najviše bezbrižna igra sa svojim susjedima</td>\n",
       "    </tr>\n",
       "  </tbody>\n",
       "</table>\n",
       "</div>"
      ],
      "text/plain": [
       "                                                 text        xmin        xmax  \\\n",
       "0                                              Dobro.    0.155012    0.456584   \n",
       "1                                    ((noise, smack))    0.456584    1.659126   \n",
       "2                             Onda moremo eh započet.    1.659126    4.068000   \n",
       "3                                  ((paper rustling))    4.068000    6.757714   \n",
       "4                      S obziron da san i ja govornik    6.757714    8.268000   \n",
       "5                                           ((noise))    8.268000    8.702694   \n",
       "6                                 materinskega idioma    8.702694   10.140975   \n",
       "7                                          ((breath))   10.140975   10.717607   \n",
       "8   onda ćemo govorit, ću provat po domaće pa, za ...   10.717607   13.978445   \n",
       "9                                   ((breath, noise))   13.978445   14.399799   \n",
       "10  moreš nan eh reć nešto, u kratko, o sebe. Kade...   14.399799   19.160466   \n",
       "11                                         ((breath))   19.160466   19.645389   \n",
       "12                                 kade si se zgojila   19.645389   20.979772   \n",
       "13                                          ((noise))   20.979772   21.297336   \n",
       "14         i tako nešto ča te domišja na djetinjstvo.   21.297336   24.076000   \n",
       "15                                    ((overlapping))  174.358714  175.000000   \n",
       "66                                                 eh   24.580546   25.428000   \n",
       "67                     Znači, rodila san se u Trvižu,   25.428000   27.332000   \n",
       "68                                         ((breath))   27.332000   27.945024   \n",
       "69                                eh jenen eh mestu,    27.945024   29.615711   \n",
       "70                           srednjovjekovnen gradiću   29.615711   31.214399   \n",
       "71                                                  #   31.214399   31.428012   \n",
       "72                                    eh blizu Pazina   31.428012   32.600345   \n",
       "73                                         ((breath))   32.600345   33.450780   \n",
       "74  Eh živila san z mamon i z ćaćon, z nonićima i ...   33.450780   38.578155   \n",
       "75                                          ((noise))   38.578155   38.949962   \n",
       "76                                        Eh djet/ za   38.949962   40.559877   \n",
       "77                                         ((breath))   40.559877   41.110236   \n",
       "78         eh djetinjstvo me vežu jako lepe uspomene.   41.110236   44.160526   \n",
       "79  Eh najviše mmm bezbrižna igra sa svojin susedima,   44.160526   49.568132   \n",
       "\n",
       "    interval  tier    start      end  \\\n",
       "0          2     1     2480     7306   \n",
       "1          3     1     7305    26547   \n",
       "2          4     1    26546    65089   \n",
       "3          5     1    65088   108124   \n",
       "4          6     1   108123   132288   \n",
       "5          7     1   132288   139244   \n",
       "6          8     1   139243   162256   \n",
       "7          9     1   162255   171482   \n",
       "8         10     1   171481   223656   \n",
       "9         11     1   223655   230397   \n",
       "10        12     1   230396   306568   \n",
       "11        13     1   306567   314327   \n",
       "12        14     1   314326   335677   \n",
       "13        15     1   335676   340758   \n",
       "14        16     1   340757   385216   \n",
       "15        18     1  2789739  2800000   \n",
       "66         2     3   393288   406848   \n",
       "67         3     3   406847   437312   \n",
       "68         4     3   437312   447121   \n",
       "69         5     3   447120   473852   \n",
       "70         6     3   473851   499431   \n",
       "71         7     3   499430   502849   \n",
       "72         8     3   502848   521606   \n",
       "73         9     3   521605   535213   \n",
       "74        10     3   535212   617251   \n",
       "75        11     3   617250   623200   \n",
       "76        12     3   623199   648959   \n",
       "77        13     3   648958   657764   \n",
       "78        14     3   657763   706569   \n",
       "79        15     3   706568   793091   \n",
       "\n",
       "                                              classla  \\\n",
       "0                                               dobro   \n",
       "1                                                  pa   \n",
       "2                                 onda moramo započet   \n",
       "3                                                take   \n",
       "4                        s obzirom da sam ja govornik   \n",
       "5                                                  ed   \n",
       "6                                 materinskoga idioma   \n",
       "7                                                   d   \n",
       "8   onda ćemo govoriti ćekulatko do majhe pa za po...   \n",
       "9                                                  op   \n",
       "10  moraš nam reći nešto u kratko od sebe kada des...   \n",
       "11                                                  d   \n",
       "12                                   kada ste zgojila   \n",
       "13                                               nadi   \n",
       "14          i tako nešto čate domisija na lijetinstvo   \n",
       "15                                         takodera i   \n",
       "66                                                  e   \n",
       "67                      znači rodila sam se u tervižu   \n",
       "68                                                  t   \n",
       "69                                        jenan mestu   \n",
       "70                           srednjovjekovnom gradiću   \n",
       "71                                                uko   \n",
       "72                                       blizu pazina   \n",
       "73                                                  d   \n",
       "74  živila sam za mamon i stajčon znonikima iz bra...   \n",
       "75                                               kino   \n",
       "76                                                 za   \n",
       "77                                                pih   \n",
       "78               djetinjstvome vežu jakolepe uspomene   \n",
       "79          najviše bezbližna igra sa svojim susedima   \n",
       "\n",
       "                                           classla_lg  \\\n",
       "0                                               dobro   \n",
       "1                                                   o   \n",
       "2                                 onda moramo započet   \n",
       "3                                                   š   \n",
       "4                        s obzirom da sam ja govornik   \n",
       "5                                                       \n",
       "6                                 materinskoga edioma   \n",
       "7                                                       \n",
       "8      onda ćemo govorit ehlatko do maćepa za početak   \n",
       "9                                                       \n",
       "10  moraš nam reći nešto ukratko od sebe kade si r...   \n",
       "11                                                      \n",
       "12                                   kada se zgonjila   \n",
       "13                                                  t   \n",
       "14         i tako nešto čate do misija na dljetinstvo   \n",
       "15                                               čeoč   \n",
       "66                                                      \n",
       "67                      znači rodila sam se u tervižu   \n",
       "68                                                      \n",
       "69                                          oje mestu   \n",
       "70                           srednjovjekovnom gradiću   \n",
       "71                                                 ke   \n",
       "72                                       blizu pazina   \n",
       "73                                                      \n",
       "74  živjila sam za mamonistjačom znonićima iz brat...   \n",
       "75                                                 ia   \n",
       "76                                                 za   \n",
       "77                                                      \n",
       "78          djetinstvo omme vežu i ako lepe u spomene   \n",
       "79         najviše bezbrižna igra sa svojim susjedima   \n",
       "\n",
       "                                                nvdia  \\\n",
       "0                                            [za mra]   \n",
       "1                                                  []   \n",
       "2                              [onda moramo započeti]   \n",
       "3                                                [do]   \n",
       "4                   [es obzirom da sam i ja govornik]   \n",
       "5                                                  []   \n",
       "6                                [materinskoga dioma]   \n",
       "7                                                  []   \n",
       "8   [onda ćemo govoriti čehva po domate pa za poče...   \n",
       "9                                                 [o]   \n",
       "10  [može nam reći nešto ukratko od sebe kada jesi...   \n",
       "11                                                 []   \n",
       "12                                  [res se zgonjila]   \n",
       "13                                                 []   \n",
       "14      [i tako nešto ćate do miisija na djetinjstvo]   \n",
       "15                                         [tevončak]   \n",
       "66                                             [rani]   \n",
       "67                     [značirodila sam se u tervižu]   \n",
       "68                                                 []   \n",
       "69                                     [je nan mestu]   \n",
       "70                         [srednjovjekovnom gradiću]   \n",
       "71                                              [oka]   \n",
       "72                                     [blizu pazina]   \n",
       "73                                               [je]   \n",
       "74  [živilason mamuni jajon znonikima iz bratonim ...   \n",
       "75                                             [vidi]   \n",
       "76                                               [za]   \n",
       "77                                               [bi]   \n",
       "78          [gdjetinzul me vežu jako lejepe uspomene]   \n",
       "79       [najviše bezbrižna igra sa svojim susjedima]   \n",
       "\n",
       "                                         whisper_text  \\\n",
       "0                                              Dobro.   \n",
       "1                                                       \n",
       "2                               on da morimo zapocet.   \n",
       "3    Snišlišlišlišlišlišlišlišlišlišlišlišlišlišli...   \n",
       "4                       so bezvendace na jago bornik.   \n",
       "5                                                       \n",
       "6                             Matrenj se ga je dioma.   \n",
       "7    Kako je da je da je da je da je da je da je d...   \n",
       "8    onda ćemo govoriti čekrat koja da mati pa, za...   \n",
       "9                                                       \n",
       "10   Moriš na rećine što u kratku sebe kadesi rodj...   \n",
       "11                                                      \n",
       "12                              kad je se se zgodila.   \n",
       "13   Kako je da je da je da je da je da je da je d...   \n",
       "14        I tako ne skocate domisija na djete instvo.   \n",
       "15                                               Češ?   \n",
       "66                                                Ja.   \n",
       "67                     Načir odila sam se uter vijžu.   \n",
       "68                                                      \n",
       "69                                       Jeden mesto.   \n",
       "70                      Sredni objeko ono in gradiću.   \n",
       "71                                                      \n",
       "72                                      blizupazinam.   \n",
       "73                                                      \n",
       "74   živila se on za mamonistjati on, znonitim izb...   \n",
       "75                                                      \n",
       "76                                         Gdje to...   \n",
       "77                                                      \n",
       "78               Djetinsu mi reću jako lepe uspomine.   \n",
       "79         Najviše bezbigina igra sa svojn su sedima.   \n",
       "\n",
       "                                          whisper_pad  \\\n",
       "0                                                       \n",
       "1                                                 NaN   \n",
       "2                                                 NaN   \n",
       "3                                                 NaN   \n",
       "4                                                 NaN   \n",
       "5                                                       \n",
       "6                                                 NaN   \n",
       "7    Daj naš da je da je da je da je da je da je d...   \n",
       "8                                                 NaN   \n",
       "9                                                       \n",
       "10                                                NaN   \n",
       "11                                        Kada je si.   \n",
       "12                                                NaN   \n",
       "13                                          i tako...   \n",
       "14                                                NaN   \n",
       "15                                             Degro.   \n",
       "66                                              Ja...   \n",
       "67                                                NaN   \n",
       "68                                                      \n",
       "69                                                NaN   \n",
       "70                                                NaN   \n",
       "71                                                      \n",
       "72                                                NaN   \n",
       "73   A, a, a, a, a, a, a, a, a, a, a, a, a, a, a, ...   \n",
       "74                                                NaN   \n",
       "75   da je to je da je to je da je to je da je to ...   \n",
       "76                                                NaN   \n",
       "77                                                      \n",
       "78                                                NaN   \n",
       "79                                                NaN   \n",
       "\n",
       "                                           nvdia_text  \n",
       "0                                              za mra  \n",
       "1                                                      \n",
       "2                                onda moramo započeti  \n",
       "3                                                  do  \n",
       "4                     es obzirom da sam i ja govornik  \n",
       "5                                                      \n",
       "6                                  materinskoga dioma  \n",
       "7                                                      \n",
       "8    onda ćemo govoriti čehva po domate pa za početak  \n",
       "9                                                   o  \n",
       "10  može nam reći nešto ukratko od sebe kada jesi ...  \n",
       "11                                                     \n",
       "12                                    res se zgonjila  \n",
       "13                                                     \n",
       "14        i tako nešto ćate do miisija na djetinjstvo  \n",
       "15                                           tevončak  \n",
       "66                                               rani  \n",
       "67                       značirodila sam se u tervižu  \n",
       "68                                                     \n",
       "69                                       je nan mestu  \n",
       "70                           srednjovjekovnom gradiću  \n",
       "71                                                oka  \n",
       "72                                       blizu pazina  \n",
       "73                                                 je  \n",
       "74  živilason mamuni jajon znonikima iz bratonim s...  \n",
       "75                                               vidi  \n",
       "76                                                 za  \n",
       "77                                                 bi  \n",
       "78            gdjetinzul me vežu jako lejepe uspomene  \n",
       "79         najviše bezbrižna igra sa svojim susjedima  "
      ]
     },
     "execution_count": 45,
     "metadata": {},
     "output_type": "execute_result"
    }
   ],
   "source": [
    "df_snt.head(30)"
   ]
  },
  {
   "cell_type": "code",
   "execution_count": 37,
   "id": "81730f77",
   "metadata": {},
   "outputs": [],
   "source": [
    "df.to_csv('/Users/irisz/downloads/2023_ELIC/ckm001-2022-01-16-Trviž_01.csv')\n",
    "df_word.to_csv('/Users/irisz/downloads/2023_ELIC/ckm001-2022-01-16-Trviž_01_word.csv')"
   ]
  },
  {
   "cell_type": "code",
   "execution_count": 46,
   "id": "90d7c9b3",
   "metadata": {},
   "outputs": [],
   "source": [
    "df_snt.to_csv('/Users/irisz/downloads/2023_ELIC/ckm001-2022-01-16-Trviž_01_sentence.csv')\n"
   ]
  },
  {
   "cell_type": "code",
   "execution_count": 38,
   "id": "aafbf893",
   "metadata": {},
   "outputs": [
    {
     "data": {
      "text/html": [
       "<div>\n",
       "<style scoped>\n",
       "    .dataframe tbody tr th:only-of-type {\n",
       "        vertical-align: middle;\n",
       "    }\n",
       "\n",
       "    .dataframe tbody tr th {\n",
       "        vertical-align: top;\n",
       "    }\n",
       "\n",
       "    .dataframe thead th {\n",
       "        text-align: right;\n",
       "    }\n",
       "</style>\n",
       "<table border=\"1\" class=\"dataframe\">\n",
       "  <thead>\n",
       "    <tr style=\"text-align: right;\">\n",
       "      <th></th>\n",
       "      <th>text</th>\n",
       "      <th>xmin</th>\n",
       "      <th>xmax</th>\n",
       "      <th>interval</th>\n",
       "      <th>tier</th>\n",
       "      <th>start</th>\n",
       "      <th>end</th>\n",
       "      <th>classla</th>\n",
       "      <th>classla_lg</th>\n",
       "      <th>nvdia</th>\n",
       "      <th>whisper_text</th>\n",
       "      <th>whisper_pad</th>\n",
       "      <th>nvdia_text</th>\n",
       "    </tr>\n",
       "  </thead>\n",
       "  <tbody>\n",
       "    <tr>\n",
       "      <th>16</th>\n",
       "      <td>dobro</td>\n",
       "      <td>0.154668</td>\n",
       "      <td>0.456584</td>\n",
       "      <td>2</td>\n",
       "      <td>2</td>\n",
       "      <td>2474</td>\n",
       "      <td>7306</td>\n",
       "      <td>dobro</td>\n",
       "      <td>dobro</td>\n",
       "      <td>[zamra]</td>\n",
       "      <td>Dobro.</td>\n",
       "      <td></td>\n",
       "      <td>zamra</td>\n",
       "    </tr>\n",
       "    <tr>\n",
       "      <th>17</th>\n",
       "      <td>onda</td>\n",
       "      <td>1.659126</td>\n",
       "      <td>2.020000</td>\n",
       "      <td>4</td>\n",
       "      <td>2</td>\n",
       "      <td>26546</td>\n",
       "      <td>32320</td>\n",
       "      <td>onda</td>\n",
       "      <td>onda</td>\n",
       "      <td>[onda]</td>\n",
       "      <td>Kako je da je da je da je da je da je da je d...</td>\n",
       "      <td>Ovo, da moram.</td>\n",
       "      <td>onda</td>\n",
       "    </tr>\n",
       "    <tr>\n",
       "      <th>18</th>\n",
       "      <td>moremo</td>\n",
       "      <td>2.020000</td>\n",
       "      <td>2.629858</td>\n",
       "      <td>5</td>\n",
       "      <td>2</td>\n",
       "      <td>32320</td>\n",
       "      <td>42078</td>\n",
       "      <td>moramo</td>\n",
       "      <td>morano</td>\n",
       "      <td>[moramo]</td>\n",
       "      <td>Moja demora.</td>\n",
       "      <td>Moja ima...</td>\n",
       "      <td>moramo</td>\n",
       "    </tr>\n",
       "    <tr>\n",
       "      <th>19</th>\n",
       "      <td>eh</td>\n",
       "      <td>2.629858</td>\n",
       "      <td>3.070000</td>\n",
       "      <td>6</td>\n",
       "      <td>2</td>\n",
       "      <td>42077</td>\n",
       "      <td>49120</td>\n",
       "      <td></td>\n",
       "      <td>a</td>\n",
       "      <td>[i]</td>\n",
       "      <td>A.</td>\n",
       "      <td></td>\n",
       "      <td>i</td>\n",
       "    </tr>\n",
       "    <tr>\n",
       "      <th>20</th>\n",
       "      <td>započet</td>\n",
       "      <td>3.210000</td>\n",
       "      <td>4.067719</td>\n",
       "      <td>8</td>\n",
       "      <td>2</td>\n",
       "      <td>51360</td>\n",
       "      <td>65084</td>\n",
       "      <td>započet</td>\n",
       "      <td>započeti</td>\n",
       "      <td>[započet]</td>\n",
       "      <td>zapocet.</td>\n",
       "      <td>zapocet.</td>\n",
       "      <td>započet</td>\n",
       "    </tr>\n",
       "    <tr>\n",
       "      <th>...</th>\n",
       "      <td>...</td>\n",
       "      <td>...</td>\n",
       "      <td>...</td>\n",
       "      <td>...</td>\n",
       "      <td>...</td>\n",
       "      <td>...</td>\n",
       "      <td>...</td>\n",
       "      <td>...</td>\n",
       "      <td>...</td>\n",
       "      <td>...</td>\n",
       "      <td>...</td>\n",
       "      <td>...</td>\n",
       "      <td>...</td>\n",
       "    </tr>\n",
       "    <tr>\n",
       "      <th>489</th>\n",
       "      <td>je</td>\n",
       "      <td>173.966988</td>\n",
       "      <td>174.032100</td>\n",
       "      <td>414</td>\n",
       "      <td>4</td>\n",
       "      <td>2783471</td>\n",
       "      <td>2784514</td>\n",
       "      <td></td>\n",
       "      <td>i</td>\n",
       "      <td>[]</td>\n",
       "      <td>Kako je da je da je da je da je da je da je d...</td>\n",
       "      <td>To, to, to.</td>\n",
       "      <td></td>\n",
       "    </tr>\n",
       "    <tr>\n",
       "      <th>490</th>\n",
       "      <td>to</td>\n",
       "      <td>174.032100</td>\n",
       "      <td>174.202306</td>\n",
       "      <td>415</td>\n",
       "      <td>4</td>\n",
       "      <td>2784513</td>\n",
       "      <td>2787237</td>\n",
       "      <td>to</td>\n",
       "      <td>to</td>\n",
       "      <td>[to]</td>\n",
       "      <td></td>\n",
       "      <td>To je to.</td>\n",
       "      <td>to</td>\n",
       "    </tr>\n",
       "    <tr>\n",
       "      <th>491</th>\n",
       "      <td>ča</td>\n",
       "      <td>174.358361</td>\n",
       "      <td>174.650000</td>\n",
       "      <td>417</td>\n",
       "      <td>4</td>\n",
       "      <td>2789733</td>\n",
       "      <td>2794400</td>\n",
       "      <td>ute</td>\n",
       "      <td>če</td>\n",
       "      <td>[če]</td>\n",
       "      <td>Kako je da je da je da je da je da je da je d...</td>\n",
       "      <td></td>\n",
       "      <td>če</td>\n",
       "    </tr>\n",
       "    <tr>\n",
       "      <th>492</th>\n",
       "      <td>se</td>\n",
       "      <td>174.650000</td>\n",
       "      <td>174.793584</td>\n",
       "      <td>418</td>\n",
       "      <td>4</td>\n",
       "      <td>2794400</td>\n",
       "      <td>2796698</td>\n",
       "      <td>o</td>\n",
       "      <td></td>\n",
       "      <td>[eu]</td>\n",
       "      <td></td>\n",
       "      <td>Degončali.</td>\n",
       "      <td>eu</td>\n",
       "    </tr>\n",
       "    <tr>\n",
       "      <th>493</th>\n",
       "      <td>ti</td>\n",
       "      <td>174.793584</td>\n",
       "      <td>174.960000</td>\n",
       "      <td>419</td>\n",
       "      <td>4</td>\n",
       "      <td>2796697</td>\n",
       "      <td>2799360</td>\n",
       "      <td>da</td>\n",
       "      <td></td>\n",
       "      <td>[taj]</td>\n",
       "      <td>Kako je da je da je da je da je da je da je d...</td>\n",
       "      <td>Češ?</td>\n",
       "      <td>taj</td>\n",
       "    </tr>\n",
       "  </tbody>\n",
       "</table>\n",
       "<p>407 rows × 13 columns</p>\n",
       "</div>"
      ],
      "text/plain": [
       "        text        xmin        xmax  interval  tier    start      end  \\\n",
       "16     dobro    0.154668    0.456584         2     2     2474     7306   \n",
       "17      onda    1.659126    2.020000         4     2    26546    32320   \n",
       "18    moremo    2.020000    2.629858         5     2    32320    42078   \n",
       "19        eh    2.629858    3.070000         6     2    42077    49120   \n",
       "20   započet    3.210000    4.067719         8     2    51360    65084   \n",
       "..       ...         ...         ...       ...   ...      ...      ...   \n",
       "489       je  173.966988  174.032100       414     4  2783471  2784514   \n",
       "490       to  174.032100  174.202306       415     4  2784513  2787237   \n",
       "491       ča  174.358361  174.650000       417     4  2789733  2794400   \n",
       "492       se  174.650000  174.793584       418     4  2794400  2796698   \n",
       "493       ti  174.793584  174.960000       419     4  2796697  2799360   \n",
       "\n",
       "     classla classla_lg      nvdia  \\\n",
       "16     dobro      dobro    [zamra]   \n",
       "17      onda       onda     [onda]   \n",
       "18    moramo     morano   [moramo]   \n",
       "19                    a        [i]   \n",
       "20   započet   započeti  [započet]   \n",
       "..       ...        ...        ...   \n",
       "489                   i         []   \n",
       "490       to         to       [to]   \n",
       "491      ute         če       [če]   \n",
       "492        o                  [eu]   \n",
       "493       da                 [taj]   \n",
       "\n",
       "                                          whisper_text      whisper_pad  \\\n",
       "16                                              Dobro.                    \n",
       "17    Kako je da je da je da je da je da je da je d...   Ovo, da moram.   \n",
       "18                                        Moja demora.      Moja ima...   \n",
       "19                                                  A.                    \n",
       "20                                            zapocet.         zapocet.   \n",
       "..                                                 ...              ...   \n",
       "489   Kako je da je da je da je da je da je da je d...      To, to, to.   \n",
       "490                                                           To je to.   \n",
       "491   Kako je da je da je da je da je da je da je d...                    \n",
       "492                                                          Degončali.   \n",
       "493   Kako je da je da je da je da je da je da je d...             Češ?   \n",
       "\n",
       "    nvdia_text  \n",
       "16       zamra  \n",
       "17        onda  \n",
       "18      moramo  \n",
       "19           i  \n",
       "20     započet  \n",
       "..         ...  \n",
       "489             \n",
       "490         to  \n",
       "491         če  \n",
       "492         eu  \n",
       "493        taj  \n",
       "\n",
       "[407 rows x 13 columns]"
      ]
     },
     "execution_count": 38,
     "metadata": {},
     "output_type": "execute_result"
    }
   ],
   "source": [
    "df_word"
   ]
  },
  {
   "cell_type": "code",
   "execution_count": 39,
   "id": "7e111f37",
   "metadata": {},
   "outputs": [
    {
     "data": {
      "text/plain": [
       "0.3071253071253071"
      ]
     },
     "execution_count": 39,
     "metadata": {},
     "output_type": "execute_result"
    }
   ],
   "source": [
    "def get_acc(trans):\n",
    "    text = df_word['text'].tolist()\n",
    "    trans_text = df_word[trans].tolist()\n",
    "    acc = 0\n",
    "    for i in range(len(text)):\n",
    "        if text[i] == trans_text[i]:\n",
    "            acc = acc + 1\n",
    "        else:\n",
    "            continue\n",
    "    acc_value = acc/len(text)\n",
    "    return acc_value\n",
    "get_acc('nvdia_text')"
   ]
  },
  {
   "cell_type": "code",
   "execution_count": 40,
   "id": "2c8bae2e",
   "metadata": {},
   "outputs": [
    {
     "data": {
      "text/plain": [
       "0.40540540540540543"
      ]
     },
     "execution_count": 40,
     "metadata": {},
     "output_type": "execute_result"
    }
   ],
   "source": [
    "get_acc('classla')"
   ]
  },
  {
   "cell_type": "code",
   "execution_count": 41,
   "id": "b1a2be25",
   "metadata": {},
   "outputs": [
    {
     "data": {
      "text/plain": [
       "0.371007371007371"
      ]
     },
     "execution_count": 41,
     "metadata": {},
     "output_type": "execute_result"
    }
   ],
   "source": [
    "get_acc('classla_lg')"
   ]
  },
  {
   "cell_type": "code",
   "execution_count": 42,
   "id": "79f10d31",
   "metadata": {},
   "outputs": [
    {
     "data": {
      "text/plain": [
       "0.0"
      ]
     },
     "execution_count": 42,
     "metadata": {},
     "output_type": "execute_result"
    }
   ],
   "source": [
    "get_acc('whisper_text')"
   ]
  },
  {
   "cell_type": "code",
   "execution_count": 43,
   "id": "cde3aa55",
   "metadata": {},
   "outputs": [
    {
     "data": {
      "text/plain": [
       "0.0"
      ]
     },
     "execution_count": 43,
     "metadata": {},
     "output_type": "execute_result"
    }
   ],
   "source": [
    "get_acc('whisper_pad')"
   ]
  },
  {
   "cell_type": "code",
   "execution_count": null,
   "id": "28d8a146",
   "metadata": {},
   "outputs": [],
   "source": [
    "## functions from: classla, nvdia, whisper\n",
    "## potentially self-trained model using eplis etc.\n",
    "\n"
   ]
  },
  {
   "cell_type": "markdown",
   "id": "bd964e7d",
   "metadata": {},
   "source": [
    "# generate textgrid file from df"
   ]
  },
  {
   "cell_type": "code",
   "execution_count": null,
   "id": "e28449f1",
   "metadata": {},
   "outputs": [],
   "source": []
  },
  {
   "cell_type": "code",
   "execution_count": null,
   "id": "1eefc4cc",
   "metadata": {},
   "outputs": [],
   "source": []
  },
  {
   "cell_type": "code",
   "execution_count": null,
   "id": "350a65dc",
   "metadata": {},
   "outputs": [],
   "source": [
    "## get word and sentence string"
   ]
  },
  {
   "cell_type": "code",
   "execution_count": 6,
   "id": "de4b9283",
   "metadata": {},
   "outputs": [
    {
     "data": {
      "text/html": [
       "<div>\n",
       "<style scoped>\n",
       "    .dataframe tbody tr th:only-of-type {\n",
       "        vertical-align: middle;\n",
       "    }\n",
       "\n",
       "    .dataframe tbody tr th {\n",
       "        vertical-align: top;\n",
       "    }\n",
       "\n",
       "    .dataframe thead th {\n",
       "        text-align: right;\n",
       "    }\n",
       "</style>\n",
       "<table border=\"1\" class=\"dataframe\">\n",
       "  <thead>\n",
       "    <tr style=\"text-align: right;\">\n",
       "      <th></th>\n",
       "      <th>text</th>\n",
       "      <th>xmin</th>\n",
       "      <th>xmax</th>\n",
       "      <th>interval</th>\n",
       "      <th>tier</th>\n",
       "      <th>start</th>\n",
       "      <th>end</th>\n",
       "    </tr>\n",
       "  </thead>\n",
       "  <tbody>\n",
       "    <tr>\n",
       "      <th>16</th>\n",
       "      <td>dobro</td>\n",
       "      <td>0.154668</td>\n",
       "      <td>0.456584</td>\n",
       "      <td>2</td>\n",
       "      <td>2</td>\n",
       "      <td>2474</td>\n",
       "      <td>7306</td>\n",
       "    </tr>\n",
       "    <tr>\n",
       "      <th>17</th>\n",
       "      <td>onda</td>\n",
       "      <td>1.659126</td>\n",
       "      <td>2.020000</td>\n",
       "      <td>4</td>\n",
       "      <td>2</td>\n",
       "      <td>26546</td>\n",
       "      <td>32320</td>\n",
       "    </tr>\n",
       "    <tr>\n",
       "      <th>18</th>\n",
       "      <td>moremo</td>\n",
       "      <td>2.020000</td>\n",
       "      <td>2.629858</td>\n",
       "      <td>5</td>\n",
       "      <td>2</td>\n",
       "      <td>32320</td>\n",
       "      <td>42078</td>\n",
       "    </tr>\n",
       "    <tr>\n",
       "      <th>19</th>\n",
       "      <td>eh</td>\n",
       "      <td>2.629858</td>\n",
       "      <td>3.070000</td>\n",
       "      <td>6</td>\n",
       "      <td>2</td>\n",
       "      <td>42077</td>\n",
       "      <td>49120</td>\n",
       "    </tr>\n",
       "    <tr>\n",
       "      <th>20</th>\n",
       "      <td>započet</td>\n",
       "      <td>3.210000</td>\n",
       "      <td>4.067719</td>\n",
       "      <td>8</td>\n",
       "      <td>2</td>\n",
       "      <td>51360</td>\n",
       "      <td>65084</td>\n",
       "    </tr>\n",
       "    <tr>\n",
       "      <th>...</th>\n",
       "      <td>...</td>\n",
       "      <td>...</td>\n",
       "      <td>...</td>\n",
       "      <td>...</td>\n",
       "      <td>...</td>\n",
       "      <td>...</td>\n",
       "      <td>...</td>\n",
       "    </tr>\n",
       "    <tr>\n",
       "      <th>489</th>\n",
       "      <td>je</td>\n",
       "      <td>173.966988</td>\n",
       "      <td>174.032100</td>\n",
       "      <td>414</td>\n",
       "      <td>4</td>\n",
       "      <td>2783471</td>\n",
       "      <td>2784514</td>\n",
       "    </tr>\n",
       "    <tr>\n",
       "      <th>490</th>\n",
       "      <td>to</td>\n",
       "      <td>174.032100</td>\n",
       "      <td>174.202306</td>\n",
       "      <td>415</td>\n",
       "      <td>4</td>\n",
       "      <td>2784513</td>\n",
       "      <td>2787237</td>\n",
       "    </tr>\n",
       "    <tr>\n",
       "      <th>491</th>\n",
       "      <td>ča</td>\n",
       "      <td>174.358361</td>\n",
       "      <td>174.650000</td>\n",
       "      <td>417</td>\n",
       "      <td>4</td>\n",
       "      <td>2789733</td>\n",
       "      <td>2794400</td>\n",
       "    </tr>\n",
       "    <tr>\n",
       "      <th>492</th>\n",
       "      <td>se</td>\n",
       "      <td>174.650000</td>\n",
       "      <td>174.793584</td>\n",
       "      <td>418</td>\n",
       "      <td>4</td>\n",
       "      <td>2794400</td>\n",
       "      <td>2796698</td>\n",
       "    </tr>\n",
       "    <tr>\n",
       "      <th>493</th>\n",
       "      <td>ti</td>\n",
       "      <td>174.793584</td>\n",
       "      <td>174.960000</td>\n",
       "      <td>419</td>\n",
       "      <td>4</td>\n",
       "      <td>2796697</td>\n",
       "      <td>2799360</td>\n",
       "    </tr>\n",
       "  </tbody>\n",
       "</table>\n",
       "<p>407 rows × 7 columns</p>\n",
       "</div>"
      ],
      "text/plain": [
       "        text        xmin        xmax  interval  tier    start      end\n",
       "16     dobro    0.154668    0.456584         2     2     2474     7306\n",
       "17      onda    1.659126    2.020000         4     2    26546    32320\n",
       "18    moremo    2.020000    2.629858         5     2    32320    42078\n",
       "19        eh    2.629858    3.070000         6     2    42077    49120\n",
       "20   započet    3.210000    4.067719         8     2    51360    65084\n",
       "..       ...         ...         ...       ...   ...      ...      ...\n",
       "489       je  173.966988  174.032100       414     4  2783471  2784514\n",
       "490       to  174.032100  174.202306       415     4  2784513  2787237\n",
       "491       ča  174.358361  174.650000       417     4  2789733  2794400\n",
       "492       se  174.650000  174.793584       418     4  2794400  2796698\n",
       "493       ti  174.793584  174.960000       419     4  2796697  2799360\n",
       "\n",
       "[407 rows x 7 columns]"
      ]
     },
     "execution_count": 6,
     "metadata": {},
     "output_type": "execute_result"
    }
   ],
   "source": [
    "df_word = df[df['tier'].isin([2,4])]\n",
    "df_word"
   ]
  },
  {
   "cell_type": "code",
   "execution_count": 18,
   "id": "ca2e6e23",
   "metadata": {},
   "outputs": [
    {
     "data": {
      "text/html": [
       "<div>\n",
       "<style scoped>\n",
       "    .dataframe tbody tr th:only-of-type {\n",
       "        vertical-align: middle;\n",
       "    }\n",
       "\n",
       "    .dataframe tbody tr th {\n",
       "        vertical-align: top;\n",
       "    }\n",
       "\n",
       "    .dataframe thead th {\n",
       "        text-align: right;\n",
       "    }\n",
       "</style>\n",
       "<table border=\"1\" class=\"dataframe\">\n",
       "  <thead>\n",
       "    <tr style=\"text-align: right;\">\n",
       "      <th></th>\n",
       "      <th>text</th>\n",
       "      <th>xmin</th>\n",
       "      <th>xmax</th>\n",
       "      <th>interval</th>\n",
       "      <th>tier</th>\n",
       "      <th>start</th>\n",
       "      <th>end</th>\n",
       "    </tr>\n",
       "  </thead>\n",
       "  <tbody>\n",
       "    <tr>\n",
       "      <th>0</th>\n",
       "      <td>Dobro.</td>\n",
       "      <td>0.155012</td>\n",
       "      <td>0.456584</td>\n",
       "      <td>2</td>\n",
       "      <td>1</td>\n",
       "      <td>2480</td>\n",
       "      <td>7306</td>\n",
       "    </tr>\n",
       "    <tr>\n",
       "      <th>1</th>\n",
       "      <td>((noise, smack))</td>\n",
       "      <td>0.456584</td>\n",
       "      <td>1.659126</td>\n",
       "      <td>3</td>\n",
       "      <td>1</td>\n",
       "      <td>7305</td>\n",
       "      <td>26547</td>\n",
       "    </tr>\n",
       "    <tr>\n",
       "      <th>2</th>\n",
       "      <td>Onda moremo eh započet.</td>\n",
       "      <td>1.659126</td>\n",
       "      <td>4.068000</td>\n",
       "      <td>4</td>\n",
       "      <td>1</td>\n",
       "      <td>26546</td>\n",
       "      <td>65089</td>\n",
       "    </tr>\n",
       "    <tr>\n",
       "      <th>3</th>\n",
       "      <td>((paper rustling))</td>\n",
       "      <td>4.068000</td>\n",
       "      <td>6.757714</td>\n",
       "      <td>5</td>\n",
       "      <td>1</td>\n",
       "      <td>65088</td>\n",
       "      <td>108124</td>\n",
       "    </tr>\n",
       "    <tr>\n",
       "      <th>4</th>\n",
       "      <td>S obziron da san i ja govornik</td>\n",
       "      <td>6.757714</td>\n",
       "      <td>8.268000</td>\n",
       "      <td>6</td>\n",
       "      <td>1</td>\n",
       "      <td>108123</td>\n",
       "      <td>132288</td>\n",
       "    </tr>\n",
       "    <tr>\n",
       "      <th>...</th>\n",
       "      <td>...</td>\n",
       "      <td>...</td>\n",
       "      <td>...</td>\n",
       "      <td>...</td>\n",
       "      <td>...</td>\n",
       "      <td>...</td>\n",
       "      <td>...</td>\n",
       "    </tr>\n",
       "    <tr>\n",
       "      <th>132</th>\n",
       "      <td>#</td>\n",
       "      <td>170.700000</td>\n",
       "      <td>171.037673</td>\n",
       "      <td>68</td>\n",
       "      <td>3</td>\n",
       "      <td>2731200</td>\n",
       "      <td>2736603</td>\n",
       "    </tr>\n",
       "    <tr>\n",
       "      <th>133</th>\n",
       "      <td>mmm kantana maša.</td>\n",
       "      <td>171.037673</td>\n",
       "      <td>172.235189</td>\n",
       "      <td>69</td>\n",
       "      <td>3</td>\n",
       "      <td>2736602</td>\n",
       "      <td>2755764</td>\n",
       "    </tr>\n",
       "    <tr>\n",
       "      <th>134</th>\n",
       "      <td>((smack, breath))</td>\n",
       "      <td>172.235189</td>\n",
       "      <td>173.463225</td>\n",
       "      <td>70</td>\n",
       "      <td>3</td>\n",
       "      <td>2755763</td>\n",
       "      <td>2775412</td>\n",
       "    </tr>\n",
       "    <tr>\n",
       "      <th>135</th>\n",
       "      <td>To je/ to je to.</td>\n",
       "      <td>173.463225</td>\n",
       "      <td>174.202306</td>\n",
       "      <td>71</td>\n",
       "      <td>3</td>\n",
       "      <td>2775411</td>\n",
       "      <td>2787237</td>\n",
       "    </tr>\n",
       "    <tr>\n",
       "      <th>136</th>\n",
       "      <td>Ča se ti/</td>\n",
       "      <td>174.358714</td>\n",
       "      <td>175.000000</td>\n",
       "      <td>73</td>\n",
       "      <td>3</td>\n",
       "      <td>2789739</td>\n",
       "      <td>2800000</td>\n",
       "    </tr>\n",
       "  </tbody>\n",
       "</table>\n",
       "<p>87 rows × 7 columns</p>\n",
       "</div>"
      ],
      "text/plain": [
       "                               text        xmin        xmax  interval  tier  \\\n",
       "0                            Dobro.    0.155012    0.456584         2     1   \n",
       "1                  ((noise, smack))    0.456584    1.659126         3     1   \n",
       "2           Onda moremo eh započet.    1.659126    4.068000         4     1   \n",
       "3                ((paper rustling))    4.068000    6.757714         5     1   \n",
       "4    S obziron da san i ja govornik    6.757714    8.268000         6     1   \n",
       "..                              ...         ...         ...       ...   ...   \n",
       "132                               #  170.700000  171.037673        68     3   \n",
       "133              mmm kantana maša.   171.037673  172.235189        69     3   \n",
       "134               ((smack, breath))  172.235189  173.463225        70     3   \n",
       "135                To je/ to je to.  173.463225  174.202306        71     3   \n",
       "136                       Ča se ti/  174.358714  175.000000        73     3   \n",
       "\n",
       "       start      end  \n",
       "0       2480     7306  \n",
       "1       7305    26547  \n",
       "2      26546    65089  \n",
       "3      65088   108124  \n",
       "4     108123   132288  \n",
       "..       ...      ...  \n",
       "132  2731200  2736603  \n",
       "133  2736602  2755764  \n",
       "134  2755763  2775412  \n",
       "135  2775411  2787237  \n",
       "136  2789739  2800000  \n",
       "\n",
       "[87 rows x 7 columns]"
      ]
     },
     "execution_count": 18,
     "metadata": {},
     "output_type": "execute_result"
    }
   ],
   "source": [
    "df_sent = df[df['tier'].isin([1,3])]\n",
    "df_sent"
   ]
  },
  {
   "cell_type": "code",
   "execution_count": 23,
   "id": "ba79f229",
   "metadata": {},
   "outputs": [
    {
     "data": {
      "text/html": [
       "<div>\n",
       "<style scoped>\n",
       "    .dataframe tbody tr th:only-of-type {\n",
       "        vertical-align: middle;\n",
       "    }\n",
       "\n",
       "    .dataframe tbody tr th {\n",
       "        vertical-align: top;\n",
       "    }\n",
       "\n",
       "    .dataframe thead th {\n",
       "        text-align: right;\n",
       "    }\n",
       "</style>\n",
       "<table border=\"1\" class=\"dataframe\">\n",
       "  <thead>\n",
       "    <tr style=\"text-align: right;\">\n",
       "      <th></th>\n",
       "      <th>text</th>\n",
       "      <th>xmin</th>\n",
       "      <th>xmax</th>\n",
       "      <th>interval</th>\n",
       "      <th>tier</th>\n",
       "      <th>start</th>\n",
       "      <th>end</th>\n",
       "    </tr>\n",
       "  </thead>\n",
       "  <tbody>\n",
       "    <tr>\n",
       "      <th>81</th>\n",
       "      <td>eh koji su mi eh dan danas ((noise)) neki usta...</td>\n",
       "      <td>50.049048</td>\n",
       "      <td>54.179343</td>\n",
       "      <td>17</td>\n",
       "      <td>3</td>\n",
       "      <td>800784</td>\n",
       "      <td>866870</td>\n",
       "    </tr>\n",
       "    <tr>\n",
       "      <th>82</th>\n",
       "      <td>((breath))</td>\n",
       "      <td>54.179343</td>\n",
       "      <td>55.028524</td>\n",
       "      <td>18</td>\n",
       "      <td>3</td>\n",
       "      <td>866869</td>\n",
       "      <td>880457</td>\n",
       "    </tr>\n",
       "    <tr>\n",
       "      <th>83</th>\n",
       "      <td>Eh najlepče iz djetinjstva eh su raznorazne eh...</td>\n",
       "      <td>55.028524</td>\n",
       "      <td>63.829778</td>\n",
       "      <td>19</td>\n",
       "      <td>3</td>\n",
       "      <td>880456</td>\n",
       "      <td>1021277</td>\n",
       "    </tr>\n",
       "    <tr>\n",
       "      <th>84</th>\n",
       "      <td>((smack, breath))</td>\n",
       "      <td>63.829778</td>\n",
       "      <td>64.771086</td>\n",
       "      <td>20</td>\n",
       "      <td>3</td>\n",
       "      <td>1021276</td>\n",
       "      <td>1036338</td>\n",
       "    </tr>\n",
       "    <tr>\n",
       "      <th>85</th>\n",
       "      <td>Ne znan, igrali smo se na primjer eh „restoran...</td>\n",
       "      <td>64.771086</td>\n",
       "      <td>69.290358</td>\n",
       "      <td>21</td>\n",
       "      <td>3</td>\n",
       "      <td>1036337</td>\n",
       "      <td>1108646</td>\n",
       "    </tr>\n",
       "    <tr>\n",
       "      <th>86</th>\n",
       "      <td>((breath))</td>\n",
       "      <td>69.290358</td>\n",
       "      <td>69.924432</td>\n",
       "      <td>22</td>\n",
       "      <td>3</td>\n",
       "      <td>1108645</td>\n",
       "      <td>1118791</td>\n",
       "    </tr>\n",
       "    <tr>\n",
       "      <th>87</th>\n",
       "      <td>mmm van sve eh kalotine, i jena kalotina malo ...</td>\n",
       "      <td>69.924432</td>\n",
       "      <td>76.895482</td>\n",
       "      <td>23</td>\n",
       "      <td>3</td>\n",
       "      <td>1118790</td>\n",
       "      <td>1230328</td>\n",
       "    </tr>\n",
       "    <tr>\n",
       "      <th>88</th>\n",
       "      <td>((breath))</td>\n",
       "      <td>76.895482</td>\n",
       "      <td>77.364000</td>\n",
       "      <td>24</td>\n",
       "      <td>3</td>\n",
       "      <td>1230327</td>\n",
       "      <td>1237824</td>\n",
       "    </tr>\n",
       "    <tr>\n",
       "      <th>89</th>\n",
       "      <td>eh karege.</td>\n",
       "      <td>77.364000</td>\n",
       "      <td>80.029552</td>\n",
       "      <td>25</td>\n",
       "      <td>3</td>\n",
       "      <td>1237824</td>\n",
       "      <td>1280473</td>\n",
       "    </tr>\n",
       "    <tr>\n",
       "      <th>90</th>\n",
       "      <td>#</td>\n",
       "      <td>80.029552</td>\n",
       "      <td>80.229700</td>\n",
       "      <td>26</td>\n",
       "      <td>3</td>\n",
       "      <td>1280472</td>\n",
       "      <td>1283676</td>\n",
       "    </tr>\n",
       "    <tr>\n",
       "      <th>91</th>\n",
       "      <td>Eh onda smo se igrali eh z muškema, smo se, s ...</td>\n",
       "      <td>80.229700</td>\n",
       "      <td>87.578347</td>\n",
       "      <td>27</td>\n",
       "      <td>3</td>\n",
       "      <td>1283675</td>\n",
       "      <td>1401254</td>\n",
       "    </tr>\n",
       "    <tr>\n",
       "      <th>92</th>\n",
       "      <td>#</td>\n",
       "      <td>87.578347</td>\n",
       "      <td>88.339562</td>\n",
       "      <td>28</td>\n",
       "      <td>3</td>\n",
       "      <td>1401253</td>\n",
       "      <td>1413433</td>\n",
       "    </tr>\n",
       "    <tr>\n",
       "      <th>93</th>\n",
       "      <td>z muškema smo se igrali z veturicama u sablonu.</td>\n",
       "      <td>88.339562</td>\n",
       "      <td>90.620177</td>\n",
       "      <td>29</td>\n",
       "      <td>3</td>\n",
       "      <td>1413432</td>\n",
       "      <td>1449923</td>\n",
       "    </tr>\n",
       "    <tr>\n",
       "      <th>94</th>\n",
       "      <td>((breath))</td>\n",
       "      <td>90.620177</td>\n",
       "      <td>91.527245</td>\n",
       "      <td>30</td>\n",
       "      <td>3</td>\n",
       "      <td>1449922</td>\n",
       "      <td>1464436</td>\n",
       "    </tr>\n",
       "    <tr>\n",
       "      <th>95</th>\n",
       "      <td>Eh najveć smo delali kućice na drevu, eh a nav...</td>\n",
       "      <td>91.527245</td>\n",
       "      <td>98.104898</td>\n",
       "      <td>31</td>\n",
       "      <td>3</td>\n",
       "      <td>1464435</td>\n",
       "      <td>1569679</td>\n",
       "    </tr>\n",
       "    <tr>\n",
       "      <th>96</th>\n",
       "      <td>((breath))</td>\n",
       "      <td>98.104898</td>\n",
       "      <td>98.620084</td>\n",
       "      <td>32</td>\n",
       "      <td>3</td>\n",
       "      <td>1569678</td>\n",
       "      <td>1577922</td>\n",
       "    </tr>\n",
       "    <tr>\n",
       "      <th>97</th>\n",
       "      <td>eh skrivača ili eh plan/ plan grada pa smo se ...</td>\n",
       "      <td>98.620084</td>\n",
       "      <td>103.650759</td>\n",
       "      <td>33</td>\n",
       "      <td>3</td>\n",
       "      <td>1577921</td>\n",
       "      <td>1658413</td>\n",
       "    </tr>\n",
       "    <tr>\n",
       "      <th>98</th>\n",
       "      <td>((breath))</td>\n",
       "      <td>103.650759</td>\n",
       "      <td>104.410635</td>\n",
       "      <td>34</td>\n",
       "      <td>3</td>\n",
       "      <td>1658412</td>\n",
       "      <td>1670571</td>\n",
       "    </tr>\n",
       "    <tr>\n",
       "      <th>99</th>\n",
       "      <td>Puno dišpetah smo delali, dobro da nismo veće ...</td>\n",
       "      <td>104.410635</td>\n",
       "      <td>108.410195</td>\n",
       "      <td>35</td>\n",
       "      <td>3</td>\n",
       "      <td>1670570</td>\n",
       "      <td>1734564</td>\n",
       "    </tr>\n",
       "    <tr>\n",
       "      <th>100</th>\n",
       "      <td>#</td>\n",
       "      <td>108.410195</td>\n",
       "      <td>108.909462</td>\n",
       "      <td>36</td>\n",
       "      <td>3</td>\n",
       "      <td>1734563</td>\n",
       "      <td>1742552</td>\n",
       "    </tr>\n",
       "    <tr>\n",
       "      <th>101</th>\n",
       "      <td>tako da smo neke pute anke užali</td>\n",
       "      <td>108.909462</td>\n",
       "      <td>110.779512</td>\n",
       "      <td>37</td>\n",
       "      <td>3</td>\n",
       "      <td>1742551</td>\n",
       "      <td>1772473</td>\n",
       "    </tr>\n",
       "    <tr>\n",
       "      <th>102</th>\n",
       "      <td>((breath))</td>\n",
       "      <td>110.779512</td>\n",
       "      <td>111.229586</td>\n",
       "      <td>38</td>\n",
       "      <td>3</td>\n",
       "      <td>1772472</td>\n",
       "      <td>1779674</td>\n",
       "    </tr>\n",
       "    <tr>\n",
       "      <th>103</th>\n",
       "      <td>stavit špah po sred česte pa bi se lako ki bi ...</td>\n",
       "      <td>111.229586</td>\n",
       "      <td>117.708679</td>\n",
       "      <td>39</td>\n",
       "      <td>3</td>\n",
       "      <td>1779673</td>\n",
       "      <td>1883339</td>\n",
       "    </tr>\n",
       "    <tr>\n",
       "      <th>104</th>\n",
       "      <td>((breath))</td>\n",
       "      <td>117.708679</td>\n",
       "      <td>118.159655</td>\n",
       "      <td>40</td>\n",
       "      <td>3</td>\n",
       "      <td>1883338</td>\n",
       "      <td>1890555</td>\n",
       "    </tr>\n",
       "    <tr>\n",
       "      <th>105</th>\n",
       "      <td>Za razliku od današnje dice eh koja nimaj/ u/ ...</td>\n",
       "      <td>118.159655</td>\n",
       "      <td>123.157915</td>\n",
       "      <td>41</td>\n",
       "      <td>3</td>\n",
       "      <td>1890554</td>\n",
       "      <td>1970527</td>\n",
       "    </tr>\n",
       "    <tr>\n",
       "      <th>106</th>\n",
       "      <td>((tongue click))</td>\n",
       "      <td>123.157915</td>\n",
       "      <td>123.876000</td>\n",
       "      <td>42</td>\n",
       "      <td>3</td>\n",
       "      <td>1970526</td>\n",
       "      <td>1982017</td>\n",
       "    </tr>\n",
       "    <tr>\n",
       "      <th>107</th>\n",
       "      <td>Najlepče nan je bilo to ča smo imali veliku, v...</td>\n",
       "      <td>123.876000</td>\n",
       "      <td>127.110678</td>\n",
       "      <td>43</td>\n",
       "      <td>3</td>\n",
       "      <td>1982016</td>\n",
       "      <td>2033771</td>\n",
       "    </tr>\n",
       "    <tr>\n",
       "      <th>108</th>\n",
       "      <td>#</td>\n",
       "      <td>127.110678</td>\n",
       "      <td>127.444235</td>\n",
       "      <td>44</td>\n",
       "      <td>3</td>\n",
       "      <td>2033770</td>\n",
       "      <td>2039108</td>\n",
       "    </tr>\n",
       "    <tr>\n",
       "      <th>109</th>\n",
       "      <td>Slobodu eh da nas niki ni kontrolira.</td>\n",
       "      <td>127.444235</td>\n",
       "      <td>130.172000</td>\n",
       "      <td>45</td>\n",
       "      <td>3</td>\n",
       "      <td>2039107</td>\n",
       "      <td>2082752</td>\n",
       "    </tr>\n",
       "    <tr>\n",
       "      <th>110</th>\n",
       "      <td>((breath))</td>\n",
       "      <td>130.172000</td>\n",
       "      <td>130.557099</td>\n",
       "      <td>46</td>\n",
       "      <td>3</td>\n",
       "      <td>2082752</td>\n",
       "      <td>2088914</td>\n",
       "    </tr>\n",
       "  </tbody>\n",
       "</table>\n",
       "</div>"
      ],
      "text/plain": [
       "                                                  text        xmin  \\\n",
       "81   eh koji su mi eh dan danas ((noise)) neki usta...   50.049048   \n",
       "82                                          ((breath))   54.179343   \n",
       "83   Eh najlepče iz djetinjstva eh su raznorazne eh...   55.028524   \n",
       "84                                   ((smack, breath))   63.829778   \n",
       "85   Ne znan, igrali smo se na primjer eh „restoran...   64.771086   \n",
       "86                                          ((breath))   69.290358   \n",
       "87   mmm van sve eh kalotine, i jena kalotina malo ...   69.924432   \n",
       "88                                          ((breath))   76.895482   \n",
       "89                                          eh karege.   77.364000   \n",
       "90                                                   #   80.029552   \n",
       "91   Eh onda smo se igrali eh z muškema, smo se, s ...   80.229700   \n",
       "92                                                   #   87.578347   \n",
       "93    z muškema smo se igrali z veturicama u sablonu.    88.339562   \n",
       "94                                          ((breath))   90.620177   \n",
       "95   Eh najveć smo delali kućice na drevu, eh a nav...   91.527245   \n",
       "96                                          ((breath))   98.104898   \n",
       "97   eh skrivača ili eh plan/ plan grada pa smo se ...   98.620084   \n",
       "98                                          ((breath))  103.650759   \n",
       "99   Puno dišpetah smo delali, dobro da nismo veće ...  104.410635   \n",
       "100                                                  #  108.410195   \n",
       "101                   tako da smo neke pute anke užali  108.909462   \n",
       "102                                         ((breath))  110.779512   \n",
       "103  stavit špah po sred česte pa bi se lako ki bi ...  111.229586   \n",
       "104                                         ((breath))  117.708679   \n",
       "105  Za razliku od današnje dice eh koja nimaj/ u/ ...  118.159655   \n",
       "106                                   ((tongue click))  123.157915   \n",
       "107  Najlepče nan je bilo to ča smo imali veliku, v...  123.876000   \n",
       "108                                                  #  127.110678   \n",
       "109              Slobodu eh da nas niki ni kontrolira.  127.444235   \n",
       "110                                         ((breath))  130.172000   \n",
       "\n",
       "           xmax  interval  tier    start      end  \n",
       "81    54.179343        17     3   800784   866870  \n",
       "82    55.028524        18     3   866869   880457  \n",
       "83    63.829778        19     3   880456  1021277  \n",
       "84    64.771086        20     3  1021276  1036338  \n",
       "85    69.290358        21     3  1036337  1108646  \n",
       "86    69.924432        22     3  1108645  1118791  \n",
       "87    76.895482        23     3  1118790  1230328  \n",
       "88    77.364000        24     3  1230327  1237824  \n",
       "89    80.029552        25     3  1237824  1280473  \n",
       "90    80.229700        26     3  1280472  1283676  \n",
       "91    87.578347        27     3  1283675  1401254  \n",
       "92    88.339562        28     3  1401253  1413433  \n",
       "93    90.620177        29     3  1413432  1449923  \n",
       "94    91.527245        30     3  1449922  1464436  \n",
       "95    98.104898        31     3  1464435  1569679  \n",
       "96    98.620084        32     3  1569678  1577922  \n",
       "97   103.650759        33     3  1577921  1658413  \n",
       "98   104.410635        34     3  1658412  1670571  \n",
       "99   108.410195        35     3  1670570  1734564  \n",
       "100  108.909462        36     3  1734563  1742552  \n",
       "101  110.779512        37     3  1742551  1772473  \n",
       "102  111.229586        38     3  1772472  1779674  \n",
       "103  117.708679        39     3  1779673  1883339  \n",
       "104  118.159655        40     3  1883338  1890555  \n",
       "105  123.157915        41     3  1890554  1970527  \n",
       "106  123.876000        42     3  1970526  1982017  \n",
       "107  127.110678        43     3  1982016  2033771  \n",
       "108  127.444235        44     3  2033770  2039108  \n",
       "109  130.172000        45     3  2039107  2082752  \n",
       "110  130.557099        46     3  2082752  2088914  "
      ]
     },
     "execution_count": 23,
     "metadata": {},
     "output_type": "execute_result"
    }
   ],
   "source": [
    "df_sent.sort_values('start').iloc[30*1:30*2]"
   ]
  },
  {
   "cell_type": "code",
   "execution_count": 17,
   "id": "7daf1ea5",
   "metadata": {},
   "outputs": [
    {
     "data": {
      "text/html": [
       "<div>\n",
       "<style scoped>\n",
       "    .dataframe tbody tr th:only-of-type {\n",
       "        vertical-align: middle;\n",
       "    }\n",
       "\n",
       "    .dataframe tbody tr th {\n",
       "        vertical-align: top;\n",
       "    }\n",
       "\n",
       "    .dataframe thead th {\n",
       "        text-align: right;\n",
       "    }\n",
       "</style>\n",
       "<table border=\"1\" class=\"dataframe\">\n",
       "  <thead>\n",
       "    <tr style=\"text-align: right;\">\n",
       "      <th></th>\n",
       "      <th>text</th>\n",
       "      <th>xmin</th>\n",
       "      <th>xmax</th>\n",
       "      <th>interval</th>\n",
       "      <th>tier</th>\n",
       "      <th>start</th>\n",
       "      <th>end</th>\n",
       "    </tr>\n",
       "  </thead>\n",
       "  <tbody>\n",
       "    <tr>\n",
       "      <th>297</th>\n",
       "      <td>eh</td>\n",
       "      <td>98.620000</td>\n",
       "      <td>98.855752</td>\n",
       "      <td>194</td>\n",
       "      <td>4</td>\n",
       "      <td>1577920</td>\n",
       "      <td>1581693</td>\n",
       "    </tr>\n",
       "    <tr>\n",
       "      <th>298</th>\n",
       "      <td>skrivača</td>\n",
       "      <td>98.855752</td>\n",
       "      <td>99.670000</td>\n",
       "      <td>195</td>\n",
       "      <td>4</td>\n",
       "      <td>1581692</td>\n",
       "      <td>1594720</td>\n",
       "    </tr>\n",
       "    <tr>\n",
       "      <th>299</th>\n",
       "      <td>ili</td>\n",
       "      <td>99.670000</td>\n",
       "      <td>100.268678</td>\n",
       "      <td>196</td>\n",
       "      <td>4</td>\n",
       "      <td>1594720</td>\n",
       "      <td>1604299</td>\n",
       "    </tr>\n",
       "    <tr>\n",
       "      <th>300</th>\n",
       "      <td>eh</td>\n",
       "      <td>100.268678</td>\n",
       "      <td>100.686766</td>\n",
       "      <td>197</td>\n",
       "      <td>4</td>\n",
       "      <td>1604298</td>\n",
       "      <td>1610989</td>\n",
       "    </tr>\n",
       "    <tr>\n",
       "      <th>301</th>\n",
       "      <td>plan</td>\n",
       "      <td>101.090005</td>\n",
       "      <td>101.581159</td>\n",
       "      <td>199</td>\n",
       "      <td>4</td>\n",
       "      <td>1617440</td>\n",
       "      <td>1625299</td>\n",
       "    </tr>\n",
       "    <tr>\n",
       "      <th>302</th>\n",
       "      <td>plan</td>\n",
       "      <td>101.860000</td>\n",
       "      <td>102.150000</td>\n",
       "      <td>201</td>\n",
       "      <td>4</td>\n",
       "      <td>1629760</td>\n",
       "      <td>1634400</td>\n",
       "    </tr>\n",
       "    <tr>\n",
       "      <th>303</th>\n",
       "      <td>grada</td>\n",
       "      <td>102.150000</td>\n",
       "      <td>102.490000</td>\n",
       "      <td>202</td>\n",
       "      <td>4</td>\n",
       "      <td>1634400</td>\n",
       "      <td>1639840</td>\n",
       "    </tr>\n",
       "    <tr>\n",
       "      <th>304</th>\n",
       "      <td>pa</td>\n",
       "      <td>102.490000</td>\n",
       "      <td>102.590000</td>\n",
       "      <td>203</td>\n",
       "      <td>4</td>\n",
       "      <td>1639840</td>\n",
       "      <td>1641440</td>\n",
       "    </tr>\n",
       "    <tr>\n",
       "      <th>305</th>\n",
       "      <td>smo</td>\n",
       "      <td>102.590000</td>\n",
       "      <td>102.790000</td>\n",
       "      <td>204</td>\n",
       "      <td>4</td>\n",
       "      <td>1641440</td>\n",
       "      <td>1644640</td>\n",
       "    </tr>\n",
       "    <tr>\n",
       "      <th>306</th>\n",
       "      <td>se</td>\n",
       "      <td>102.790000</td>\n",
       "      <td>102.950000</td>\n",
       "      <td>205</td>\n",
       "      <td>4</td>\n",
       "      <td>1644640</td>\n",
       "      <td>1647200</td>\n",
       "    </tr>\n",
       "    <tr>\n",
       "      <th>307</th>\n",
       "      <td>išćali</td>\n",
       "      <td>102.950000</td>\n",
       "      <td>103.650000</td>\n",
       "      <td>206</td>\n",
       "      <td>4</td>\n",
       "      <td>1647200</td>\n",
       "      <td>1658400</td>\n",
       "    </tr>\n",
       "    <tr>\n",
       "      <th>308</th>\n",
       "      <td>puno</td>\n",
       "      <td>104.410000</td>\n",
       "      <td>104.710000</td>\n",
       "      <td>208</td>\n",
       "      <td>4</td>\n",
       "      <td>1670560</td>\n",
       "      <td>1675360</td>\n",
       "    </tr>\n",
       "    <tr>\n",
       "      <th>309</th>\n",
       "      <td>dišpetah</td>\n",
       "      <td>104.710000</td>\n",
       "      <td>105.275000</td>\n",
       "      <td>209</td>\n",
       "      <td>4</td>\n",
       "      <td>1675360</td>\n",
       "      <td>1684400</td>\n",
       "    </tr>\n",
       "    <tr>\n",
       "      <th>310</th>\n",
       "      <td>smo</td>\n",
       "      <td>105.275000</td>\n",
       "      <td>105.450000</td>\n",
       "      <td>210</td>\n",
       "      <td>4</td>\n",
       "      <td>1684400</td>\n",
       "      <td>1687200</td>\n",
       "    </tr>\n",
       "    <tr>\n",
       "      <th>311</th>\n",
       "      <td>delali</td>\n",
       "      <td>105.450000</td>\n",
       "      <td>106.050000</td>\n",
       "      <td>211</td>\n",
       "      <td>4</td>\n",
       "      <td>1687200</td>\n",
       "      <td>1696800</td>\n",
       "    </tr>\n",
       "    <tr>\n",
       "      <th>312</th>\n",
       "      <td>dobro</td>\n",
       "      <td>106.182562</td>\n",
       "      <td>106.410000</td>\n",
       "      <td>213</td>\n",
       "      <td>4</td>\n",
       "      <td>1698920</td>\n",
       "      <td>1702560</td>\n",
       "    </tr>\n",
       "    <tr>\n",
       "      <th>313</th>\n",
       "      <td>da</td>\n",
       "      <td>106.410000</td>\n",
       "      <td>106.540000</td>\n",
       "      <td>214</td>\n",
       "      <td>4</td>\n",
       "      <td>1702560</td>\n",
       "      <td>1704640</td>\n",
       "    </tr>\n",
       "    <tr>\n",
       "      <th>314</th>\n",
       "      <td>nismo</td>\n",
       "      <td>106.540000</td>\n",
       "      <td>106.850000</td>\n",
       "      <td>215</td>\n",
       "      <td>4</td>\n",
       "      <td>1704640</td>\n",
       "      <td>1709600</td>\n",
       "    </tr>\n",
       "    <tr>\n",
       "      <th>315</th>\n",
       "      <td>veće</td>\n",
       "      <td>106.850000</td>\n",
       "      <td>107.080000</td>\n",
       "      <td>216</td>\n",
       "      <td>4</td>\n",
       "      <td>1709600</td>\n",
       "      <td>1713280</td>\n",
       "    </tr>\n",
       "    <tr>\n",
       "      <th>316</th>\n",
       "      <td>nesriće</td>\n",
       "      <td>107.080000</td>\n",
       "      <td>107.560000</td>\n",
       "      <td>217</td>\n",
       "      <td>4</td>\n",
       "      <td>1713280</td>\n",
       "      <td>1720960</td>\n",
       "    </tr>\n",
       "    <tr>\n",
       "      <th>317</th>\n",
       "      <td>napravili</td>\n",
       "      <td>107.560000</td>\n",
       "      <td>108.410000</td>\n",
       "      <td>218</td>\n",
       "      <td>4</td>\n",
       "      <td>1720960</td>\n",
       "      <td>1734560</td>\n",
       "    </tr>\n",
       "    <tr>\n",
       "      <th>318</th>\n",
       "      <td>tako</td>\n",
       "      <td>108.910000</td>\n",
       "      <td>109.140000</td>\n",
       "      <td>220</td>\n",
       "      <td>4</td>\n",
       "      <td>1742560</td>\n",
       "      <td>1746240</td>\n",
       "    </tr>\n",
       "    <tr>\n",
       "      <th>319</th>\n",
       "      <td>da</td>\n",
       "      <td>109.140000</td>\n",
       "      <td>109.240000</td>\n",
       "      <td>221</td>\n",
       "      <td>4</td>\n",
       "      <td>1746240</td>\n",
       "      <td>1747840</td>\n",
       "    </tr>\n",
       "    <tr>\n",
       "      <th>320</th>\n",
       "      <td>smo</td>\n",
       "      <td>109.240000</td>\n",
       "      <td>109.440000</td>\n",
       "      <td>222</td>\n",
       "      <td>4</td>\n",
       "      <td>1747840</td>\n",
       "      <td>1751040</td>\n",
       "    </tr>\n",
       "    <tr>\n",
       "      <th>321</th>\n",
       "      <td>neke</td>\n",
       "      <td>109.440000</td>\n",
       "      <td>109.740000</td>\n",
       "      <td>223</td>\n",
       "      <td>4</td>\n",
       "      <td>1751040</td>\n",
       "      <td>1755840</td>\n",
       "    </tr>\n",
       "    <tr>\n",
       "      <th>322</th>\n",
       "      <td>pute</td>\n",
       "      <td>109.740000</td>\n",
       "      <td>110.040000</td>\n",
       "      <td>224</td>\n",
       "      <td>4</td>\n",
       "      <td>1755840</td>\n",
       "      <td>1760640</td>\n",
       "    </tr>\n",
       "    <tr>\n",
       "      <th>323</th>\n",
       "      <td>anke</td>\n",
       "      <td>110.040000</td>\n",
       "      <td>110.370998</td>\n",
       "      <td>225</td>\n",
       "      <td>4</td>\n",
       "      <td>1760640</td>\n",
       "      <td>1765936</td>\n",
       "    </tr>\n",
       "    <tr>\n",
       "      <th>324</th>\n",
       "      <td>užali</td>\n",
       "      <td>110.370998</td>\n",
       "      <td>110.780000</td>\n",
       "      <td>226</td>\n",
       "      <td>4</td>\n",
       "      <td>1765935</td>\n",
       "      <td>1772480</td>\n",
       "    </tr>\n",
       "    <tr>\n",
       "      <th>325</th>\n",
       "      <td>stavit</td>\n",
       "      <td>111.229586</td>\n",
       "      <td>111.660000</td>\n",
       "      <td>228</td>\n",
       "      <td>4</td>\n",
       "      <td>1779673</td>\n",
       "      <td>1786560</td>\n",
       "    </tr>\n",
       "    <tr>\n",
       "      <th>326</th>\n",
       "      <td>špah</td>\n",
       "      <td>111.660000</td>\n",
       "      <td>112.300000</td>\n",
       "      <td>229</td>\n",
       "      <td>4</td>\n",
       "      <td>1786560</td>\n",
       "      <td>1796800</td>\n",
       "    </tr>\n",
       "  </tbody>\n",
       "</table>\n",
       "</div>"
      ],
      "text/plain": [
       "          text        xmin        xmax  interval  tier    start      end\n",
       "297         eh   98.620000   98.855752       194     4  1577920  1581693\n",
       "298   skrivača   98.855752   99.670000       195     4  1581692  1594720\n",
       "299        ili   99.670000  100.268678       196     4  1594720  1604299\n",
       "300         eh  100.268678  100.686766       197     4  1604298  1610989\n",
       "301       plan  101.090005  101.581159       199     4  1617440  1625299\n",
       "302       plan  101.860000  102.150000       201     4  1629760  1634400\n",
       "303      grada  102.150000  102.490000       202     4  1634400  1639840\n",
       "304         pa  102.490000  102.590000       203     4  1639840  1641440\n",
       "305        smo  102.590000  102.790000       204     4  1641440  1644640\n",
       "306         se  102.790000  102.950000       205     4  1644640  1647200\n",
       "307     išćali  102.950000  103.650000       206     4  1647200  1658400\n",
       "308       puno  104.410000  104.710000       208     4  1670560  1675360\n",
       "309   dišpetah  104.710000  105.275000       209     4  1675360  1684400\n",
       "310        smo  105.275000  105.450000       210     4  1684400  1687200\n",
       "311     delali  105.450000  106.050000       211     4  1687200  1696800\n",
       "312      dobro  106.182562  106.410000       213     4  1698920  1702560\n",
       "313         da  106.410000  106.540000       214     4  1702560  1704640\n",
       "314      nismo  106.540000  106.850000       215     4  1704640  1709600\n",
       "315       veće  106.850000  107.080000       216     4  1709600  1713280\n",
       "316    nesriće  107.080000  107.560000       217     4  1713280  1720960\n",
       "317  napravili  107.560000  108.410000       218     4  1720960  1734560\n",
       "318       tako  108.910000  109.140000       220     4  1742560  1746240\n",
       "319         da  109.140000  109.240000       221     4  1746240  1747840\n",
       "320        smo  109.240000  109.440000       222     4  1747840  1751040\n",
       "321       neke  109.440000  109.740000       223     4  1751040  1755840\n",
       "322       pute  109.740000  110.040000       224     4  1755840  1760640\n",
       "323       anke  110.040000  110.370998       225     4  1760640  1765936\n",
       "324      užali  110.370998  110.780000       226     4  1765935  1772480\n",
       "325     stavit  111.229586  111.660000       228     4  1779673  1786560\n",
       "326       špah  111.660000  112.300000       229     4  1786560  1796800"
      ]
     },
     "execution_count": 17,
     "metadata": {},
     "output_type": "execute_result"
    }
   ],
   "source": [
    "df_word.sort_values('start').iloc[30*7:30*8]"
   ]
  },
  {
   "cell_type": "code",
   "execution_count": 24,
   "id": "862d896a",
   "metadata": {},
   "outputs": [
    {
     "data": {
      "text/plain": [
       "'dobro onda moremo eh započet s obziron da san i ja govornik materinskega idioma onda ćemo govorit ću provat po domaće pa za početak moreš nan eh reć nešto u kratko o sebe kade si rođena kade si kade si se zgojila i tako nešto ča te domišja na djetinjstvo eh znači rodila san se u Trvižu eh jenen eh mestu srednjovjekovnen gradiću eh blizu Pazina eh živila san z mamon i z ćaćon z nonićima i z braton i sestron eh djet za eh djetinstvo me vežu jako lepe uspomene eh najviše mmm bezbrižna igra sa svojin susedima eh koji su mi eh dan danas neki ustali i preteli eh najlepče iz djetinjstva eh su raznorazne eh n ne znan igre vezane za ne znan igrali smo se na primjer eh restorana pa smo si stavili mmm van sve eh kalotine i jena kalotina malo veća nan je bila kako miza a sve okolo su bili eh karege eh onda smo se igrali eh z muškema smo se s obziron da ni bilo još preveć igračkah ki je ča ima to smo se igrali z muškema smo se igrali z veturicama u sablonu eh najveć smo delali kućice na drevu eh a navečer bimo eh ne znan se igrali eh skrivača ili eh plan plan grada pa smo se išćali puno dišpetah smo delali dobro da nismo veće nesriće napravili tako da smo neke pute anke užali stavit špah po sred česte pa bi se lako ki bi moga i rovinat ma ni hvala bogu za razliku od današnje dice eh koja nimaj/ u u u biti eh najlepče nan je bilo to ča smo imali veliku veliku slobodu slobodu eh da nas niki ni kontrolira eh znali smo da ako nešto ufabrikamo da će nas još doma spraskat odozgor eh ali mi smo tek to znali to nas ni brigalo steši smo se razvili puno puno slobodniji forši bolje smo pensali forši se sad znamo snać malo boje onda ča ja znan u djetinjstvu isto tako nan je bilo jako lepo kantat uz jenega našega orguljaša koji nas je ženske okupi oko mmm oko crekve tako reć pa smo nan je u stvari hobi ili ja vajk rečen izvannastavne aktivnosti su nan bile poć eh h maše i molit krunitsu eh eh u peten mesecu i u šesten i u deseten i pole obavezno mmm kantana maša to je to je to ča se ti'"
      ]
     },
     "execution_count": 24,
     "metadata": {},
     "output_type": "execute_result"
    }
   ],
   "source": [
    "word = df_word.sort_values('start')['text'].tolist()\n",
    "text = \" \".join(word)\n",
    "text"
   ]
  }
 ],
 "metadata": {
  "kernelspec": {
   "display_name": "Python 3",
   "language": "python",
   "name": "python3"
  },
  "language_info": {
   "codemirror_mode": {
    "name": "ipython",
    "version": 3
   },
   "file_extension": ".py",
   "mimetype": "text/x-python",
   "name": "python",
   "nbconvert_exporter": "python",
   "pygments_lexer": "ipython3",
   "version": "3.9.5"
  }
 },
 "nbformat": 4,
 "nbformat_minor": 5
}
