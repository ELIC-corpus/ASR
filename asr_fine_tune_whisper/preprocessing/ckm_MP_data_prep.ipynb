{
 "cells": [
  {
   "cell_type": "code",
   "execution_count": null,
   "id": "2faf30c0",
   "metadata": {},
   "outputs": [],
   "source": [
    "# get interview data chunk information: window size 10, 20, 30\n",
    "# get lpp data information"
   ]
  },
  {
   "cell_type": "code",
   "execution_count": 46,
   "id": "af9bc81c",
   "metadata": {},
   "outputs": [
    {
     "name": "stdout",
     "output_type": "stream",
     "text": [
      "Defaulting to user installation because normal site-packages is not writeable\n",
      "\u001b[33mWARNING: Ignoring invalid distribution ~vidia-nccl-cu12 (/home/sz38235/.local/lib/python3.11/site-packages)\u001b[0m\u001b[33m\n",
      "\u001b[0m\u001b[33mWARNING: Ignoring invalid distribution ~vidia-nccl-cu12 (/home/sz38235/.local/lib/python3.11/site-packages)\u001b[0m\u001b[33m\n",
      "\u001b[0mCollecting jsonlines\n",
      "  Obtaining dependency information for jsonlines from https://files.pythonhosted.org/packages/f8/62/d9ba6323b9202dd2fe166beab8a86d29465c41a0288cbe229fac60c1ab8d/jsonlines-4.0.0-py3-none-any.whl.metadata\n",
      "  Downloading jsonlines-4.0.0-py3-none-any.whl.metadata (1.6 kB)\n",
      "Requirement already satisfied: attrs>=19.2.0 in /apps/eb/Anaconda3/2023.09-0/lib/python3.11/site-packages (from jsonlines) (22.1.0)\n",
      "Downloading jsonlines-4.0.0-py3-none-any.whl (8.7 kB)\n",
      "\u001b[33mWARNING: Ignoring invalid distribution ~vidia-nccl-cu12 (/home/sz38235/.local/lib/python3.11/site-packages)\u001b[0m\u001b[33m\n",
      "\u001b[0mInstalling collected packages: jsonlines\n",
      "\u001b[33mWARNING: Ignoring invalid distribution ~vidia-nccl-cu12 (/home/sz38235/.local/lib/python3.11/site-packages)\u001b[0m\u001b[33m\n",
      "\u001b[0mSuccessfully installed jsonlines-4.0.0\n",
      "\u001b[33mWARNING: Ignoring invalid distribution ~vidia-nccl-cu12 (/home/sz38235/.local/lib/python3.11/site-packages)\u001b[0m\u001b[33m\n",
      "\u001b[0m\u001b[33mWARNING: Ignoring invalid distribution ~vidia-nccl-cu12 (/home/sz38235/.local/lib/python3.11/site-packages)\u001b[0m\u001b[33m\n",
      "\u001b[0m\u001b[33mWARNING: Ignoring invalid distribution ~vidia-nccl-cu12 (/home/sz38235/.local/lib/python3.11/site-packages)\u001b[0m\u001b[33m\n",
      "\u001b[0mNote: you may need to restart the kernel to use updated packages.\n"
     ]
    }
   ],
   "source": [
    "pip install jsonlines"
   ]
  },
  {
   "cell_type": "code",
   "execution_count": 3,
   "id": "6347e309",
   "metadata": {},
   "outputs": [
    {
     "data": {
      "text/plain": [
       "('/work/jh2lab/elic_model/MP.tgz', <http.client.HTTPMessage at 0x1478e193abd0>)"
      ]
     },
     "execution_count": 3,
     "metadata": {},
     "output_type": "execute_result"
    }
   ],
   "source": [
    "# download lpp dataset\n",
    "\n",
    "import urllib.request\n",
    "urllib.request.urlretrieve(\"https://nl.ijs.si/nikola/MP.tgz\", \"/work/jh2lab/elic_model/MP.tgz\")"
   ]
  },
  {
   "cell_type": "code",
   "execution_count": 4,
   "id": "c9748d26",
   "metadata": {},
   "outputs": [],
   "source": [
    "# importing the \"tarfile\" module \n",
    "import tarfile \n",
    "  \n",
    "# open file \n",
    "file = tarfile.open('/work/jh2lab/elic_model/MP.tgz') \n",
    "  \n",
    "# extracting file \n",
    "file.extractall('/work/jh2lab/elic_model/MP') \n",
    "  \n",
    "file.close() "
   ]
  },
  {
   "cell_type": "code",
   "execution_count": 80,
   "id": "6148d36a",
   "metadata": {},
   "outputs": [
    {
     "data": {
      "text/plain": [
       "['/work/jh2lab/elic_model/MP/MP_23.asr.json',\n",
       " '/work/jh2lab/elic_model/MP/MP_19.asr.json',\n",
       " '/work/jh2lab/elic_model/MP/MP_09.asr.json',\n",
       " '/work/jh2lab/elic_model/MP/MP_20.asr.json',\n",
       " '/work/jh2lab/elic_model/MP/MP_24.asr.json',\n",
       " '/work/jh2lab/elic_model/MP/MP_10.asr.json',\n",
       " '/work/jh2lab/elic_model/MP/MP_27.asr.json',\n",
       " '/work/jh2lab/elic_model/MP/MP_17.asr.json',\n",
       " '/work/jh2lab/elic_model/MP/MP_14.asr.json',\n",
       " '/work/jh2lab/elic_model/MP/MP_03.asr.json',\n",
       " '/work/jh2lab/elic_model/MP/MP_15.asr.json',\n",
       " '/work/jh2lab/elic_model/MP/MP_22.asr.json',\n",
       " '/work/jh2lab/elic_model/MP/MP_06.asr.json',\n",
       " '/work/jh2lab/elic_model/MP/MP_25.asr.json',\n",
       " '/work/jh2lab/elic_model/MP/MP_21.asr.json',\n",
       " '/work/jh2lab/elic_model/MP/MP_18.asr.json',\n",
       " '/work/jh2lab/elic_model/MP/MP_02.asr.json',\n",
       " '/work/jh2lab/elic_model/MP/MP_00.asr.json',\n",
       " '/work/jh2lab/elic_model/MP/MP_28.asr.json',\n",
       " '/work/jh2lab/elic_model/MP/MP_01.asr.json',\n",
       " '/work/jh2lab/elic_model/MP/MP_08.asr.json',\n",
       " '/work/jh2lab/elic_model/MP/MP_11.asr.json',\n",
       " '/work/jh2lab/elic_model/MP/MP_07.asr.json',\n",
       " '/work/jh2lab/elic_model/MP/MP_26.asr.json',\n",
       " '/work/jh2lab/elic_model/MP/MP_04.asr.json',\n",
       " '/work/jh2lab/elic_model/MP/MP_12.asr.json',\n",
       " '/work/jh2lab/elic_model/MP/MP_16.asr.json',\n",
       " '/work/jh2lab/elic_model/MP/MP_05.asr.json',\n",
       " '/work/jh2lab/elic_model/MP/MP_13.asr.json']"
      ]
     },
     "execution_count": 80,
     "metadata": {},
     "output_type": "execute_result"
    }
   ],
   "source": [
    "# get all json file to make dataframe: wav, text\n",
    "import glob\n",
    "files = glob.glob('/work/jh2lab/elic_model/MP/' + \"*.asr.json\")\n",
    "files"
   ]
  },
  {
   "cell_type": "code",
   "execution_count": 8,
   "id": "e06bda9d",
   "metadata": {},
   "outputs": [],
   "source": [
    "import json"
   ]
  },
  {
   "cell_type": "code",
   "execution_count": 48,
   "id": "2a4811bb",
   "metadata": {},
   "outputs": [],
   "source": [
    "import jsonlines"
   ]
  },
  {
   "cell_type": "code",
   "execution_count": 89,
   "id": "78b3874f",
   "metadata": {},
   "outputs": [
    {
     "name": "stdout",
     "output_type": "stream",
     "text": [
      "/work/jh2lab/elic_model/MP/MP_23.asr.json\n",
      "/work/jh2lab/elic_model/MP/MP_19.asr.json\n",
      "/work/jh2lab/elic_model/MP/MP_09.asr.json\n",
      "/work/jh2lab/elic_model/MP/MP_20.asr.json\n",
      "/work/jh2lab/elic_model/MP/MP_24.asr.json\n",
      "/work/jh2lab/elic_model/MP/MP_10.asr.json\n",
      "/work/jh2lab/elic_model/MP/MP_27.asr.json\n",
      "/work/jh2lab/elic_model/MP/MP_17.asr.json\n",
      "/work/jh2lab/elic_model/MP/MP_14.asr.json\n",
      "/work/jh2lab/elic_model/MP/MP_03.asr.json\n",
      "/work/jh2lab/elic_model/MP/MP_15.asr.json\n",
      "/work/jh2lab/elic_model/MP/MP_22.asr.json\n",
      "/work/jh2lab/elic_model/MP/MP_06.asr.json\n",
      "/work/jh2lab/elic_model/MP/MP_25.asr.json\n",
      "/work/jh2lab/elic_model/MP/MP_21.asr.json\n",
      "/work/jh2lab/elic_model/MP/MP_18.asr.json\n",
      "/work/jh2lab/elic_model/MP/MP_02.asr.json\n",
      "/work/jh2lab/elic_model/MP/MP_00.asr.json\n",
      "/work/jh2lab/elic_model/MP/MP_28.asr.json\n",
      "/work/jh2lab/elic_model/MP/MP_01.asr.json\n",
      "/work/jh2lab/elic_model/MP/MP_08.asr.json\n",
      "/work/jh2lab/elic_model/MP/MP_11.asr.json\n",
      "/work/jh2lab/elic_model/MP/MP_07.asr.json\n",
      "/work/jh2lab/elic_model/MP/MP_26.asr.json\n",
      "/work/jh2lab/elic_model/MP/MP_04.asr.json\n",
      "/work/jh2lab/elic_model/MP/MP_12.asr.json\n",
      "/work/jh2lab/elic_model/MP/MP_16.asr.json\n",
      "/work/jh2lab/elic_model/MP/MP_05.asr.json\n",
      "/work/jh2lab/elic_model/MP/MP_13.asr.json\n"
     ]
    }
   ],
   "source": [
    "file_name_list_all = []\n",
    "text_all = []\n",
    "\n",
    "for file in files:\n",
    "    print (file)\n",
    "    # get correct json file\n",
    "    with open(file) as f:\n",
    "        lines = [line.rstrip().replace('\\\\n', ' ').replace('•', '') for line in f]\n",
    "    new_file_name = file.split('/')[-1].split('.')[0]\n",
    "    with open('/work/jh2lab/elic_model/MP/' + new_file_name + '_clean.json', 'w') as f:\n",
    "        for line in lines:\n",
    "            f.write(f\"{line}\\n\")\n",
    "        f.close\n",
    "    with open('/work/jh2lab/elic_model/MP/' + new_file_name + '_clean.json', \"r\") as f:\n",
    "        data = json.load(f)\n",
    "        \n",
    "    file_name_curr = [x['audio'] for x in data]\n",
    "    text_curr = [x['text'] for x in data]\n",
    "    \n",
    "    file_name_list_all = file_name_list_all + file_name_curr\n",
    "    text_all = text_all + text_curr\n",
    "    # get the list of file names and text\n",
    "    "
   ]
  },
  {
   "cell_type": "code",
   "execution_count": 90,
   "id": "8042c56b",
   "metadata": {},
   "outputs": [
    {
     "data": {
      "text/html": [
       "<div>\n",
       "<style scoped>\n",
       "    .dataframe tbody tr th:only-of-type {\n",
       "        vertical-align: middle;\n",
       "    }\n",
       "\n",
       "    .dataframe tbody tr th {\n",
       "        vertical-align: top;\n",
       "    }\n",
       "\n",
       "    .dataframe thead th {\n",
       "        text-align: right;\n",
       "    }\n",
       "</style>\n",
       "<table border=\"1\" class=\"dataframe\">\n",
       "  <thead>\n",
       "    <tr style=\"text-align: right;\">\n",
       "      <th></th>\n",
       "      <th>file_name</th>\n",
       "      <th>transcription</th>\n",
       "    </tr>\n",
       "  </thead>\n",
       "  <tbody>\n",
       "    <tr>\n",
       "      <th>0</th>\n",
       "      <td>MP_23_43.096-59.44.mp3</td>\n",
       "      <td>Dobar dan!  Boh daj! Biv je to trgovac z onimi...</td>\n",
       "    </tr>\n",
       "    <tr>\n",
       "      <th>1</th>\n",
       "      <td>MP_23_59.57-75.127.mp3</td>\n",
       "      <td>Zašparaš pedeset i tri minute na šetemanu.  I ...</td>\n",
       "    </tr>\n",
       "    <tr>\n",
       "      <th>2</th>\n",
       "      <td>MP_19_59.79-77.83.mp3</td>\n",
       "      <td>Mići Princ je šav zgoru na niku visoku planinu...</td>\n",
       "    </tr>\n",
       "    <tr>\n",
       "      <th>3</th>\n",
       "      <td>MP_19_79.11-96.08.mp3</td>\n",
       "      <td>ma je videv samo oštre vrhe od škriv.  Dobar d...</td>\n",
       "    </tr>\n",
       "    <tr>\n",
       "      <th>4</th>\n",
       "      <td>MP_19_96.72-109.5.mp3</td>\n",
       "      <td>Vas je suh, vas špičast i vas slan. Judi nimaj...</td>\n",
       "    </tr>\n",
       "    <tr>\n",
       "      <th>...</th>\n",
       "      <td>...</td>\n",
       "      <td>...</td>\n",
       "    </tr>\n",
       "    <tr>\n",
       "      <th>304</th>\n",
       "      <td>MP_13_218.13-236.32.mp3</td>\n",
       "      <td>Kada najdes dijamant ki ni nikinjev, je tvoj. ...</td>\n",
       "    </tr>\n",
       "    <tr>\n",
       "      <th>305</th>\n",
       "      <td>MP_13_236.58-253.63.mp3</td>\n",
       "      <td>Ma ja son vero seriji covek.  Vako: ko man rub...</td>\n",
       "    </tr>\n",
       "    <tr>\n",
       "      <th>306</th>\n",
       "      <td>MP_13_254.66-272.98.mp3</td>\n",
       "      <td>To znaci da na bokuniću karti napisen broj moj...</td>\n",
       "    </tr>\n",
       "    <tr>\n",
       "      <th>307</th>\n",
       "      <td>MP_13_274.46-291.37.mp3</td>\n",
       "      <td>Jast man šipak kiga saki dan zalijen. Man tri ...</td>\n",
       "    </tr>\n",
       "    <tr>\n",
       "      <th>308</th>\n",
       "      <td>MP_13_292.96-300.66.mp3</td>\n",
       "      <td>Dilavac otpre usta, ali ni znav ča bi rekav, i...</td>\n",
       "    </tr>\n",
       "  </tbody>\n",
       "</table>\n",
       "<p>309 rows × 2 columns</p>\n",
       "</div>"
      ],
      "text/plain": [
       "                   file_name  \\\n",
       "0     MP_23_43.096-59.44.mp3   \n",
       "1     MP_23_59.57-75.127.mp3   \n",
       "2      MP_19_59.79-77.83.mp3   \n",
       "3      MP_19_79.11-96.08.mp3   \n",
       "4      MP_19_96.72-109.5.mp3   \n",
       "..                       ...   \n",
       "304  MP_13_218.13-236.32.mp3   \n",
       "305  MP_13_236.58-253.63.mp3   \n",
       "306  MP_13_254.66-272.98.mp3   \n",
       "307  MP_13_274.46-291.37.mp3   \n",
       "308  MP_13_292.96-300.66.mp3   \n",
       "\n",
       "                                         transcription  \n",
       "0    Dobar dan!  Boh daj! Biv je to trgovac z onimi...  \n",
       "1    Zašparaš pedeset i tri minute na šetemanu.  I ...  \n",
       "2    Mići Princ je šav zgoru na niku visoku planinu...  \n",
       "3    ma je videv samo oštre vrhe od škriv.  Dobar d...  \n",
       "4    Vas je suh, vas špičast i vas slan. Judi nimaj...  \n",
       "..                                                 ...  \n",
       "304  Kada najdes dijamant ki ni nikinjev, je tvoj. ...  \n",
       "305  Ma ja son vero seriji covek.  Vako: ko man rub...  \n",
       "306  To znaci da na bokuniću karti napisen broj moj...  \n",
       "307  Jast man šipak kiga saki dan zalijen. Man tri ...  \n",
       "308  Dilavac otpre usta, ali ni znav ča bi rekav, i...  \n",
       "\n",
       "[309 rows x 2 columns]"
      ]
     },
     "execution_count": 90,
     "metadata": {},
     "output_type": "execute_result"
    }
   ],
   "source": [
    "import pandas as pd\n",
    "\n",
    "df = pd.DataFrame()\n",
    "\n",
    "df['file_name'] = file_name_list_all\n",
    "df['transcription'] = text_all\n",
    "\n",
    "df"
   ]
  },
  {
   "cell_type": "code",
   "execution_count": 91,
   "id": "c3fe620c",
   "metadata": {},
   "outputs": [],
   "source": [
    "df.to_csv('/work/jh2lab/elic_model/MP/metadata.csv', index = False)"
   ]
  },
  {
   "cell_type": "code",
   "execution_count": null,
   "id": "4bdb84e0",
   "metadata": {},
   "outputs": [],
   "source": []
  }
 ],
 "metadata": {
  "kernelspec": {
   "display_name": "Python 3",
   "language": "python",
   "name": "python3"
  },
  "language_info": {
   "codemirror_mode": {
    "name": "ipython",
    "version": 3
   },
   "file_extension": ".py",
   "mimetype": "text/x-python",
   "name": "python",
   "nbconvert_exporter": "python",
   "pygments_lexer": "ipython3",
   "version": "3.9.5"
  }
 },
 "nbformat": 4,
 "nbformat_minor": 5
}
